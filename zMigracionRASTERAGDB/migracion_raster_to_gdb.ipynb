{
 "cells": [
  {
   "cell_type": "code",
   "execution_count": null,
   "metadata": {},
   "outputs": [],
   "source": [
    "import arcpy\n",
    "import os\n",
    "from pathlib import Path\n",
    "import pandas as pd\n",
    "from os import path as osPath\n",
    "\n",
    "arcpy.env.overwriteOutput = True"
   ]
  },
  {
   "cell_type": "markdown",
   "metadata": {},
   "source": [
    "<h4>Parametrización de Variables</h4>"
   ]
  },
  {
   "cell_type": "code",
   "execution_count": null,
   "metadata": {},
   "outputs": [],
   "source": [
    "ruta_dir = r\"C:\\docsProyectos\\Insumos\"\n",
    "arcpy.env.workspace = r\"C:\\docsProyectos\\5.RAISS\\2024.0.RAISS_Lote_4\\6.Hitos\\E1_Alistamiento_Diagnostico\\3_Disposicion\\BD_Consolidada\\Consolidacion_RASTER.gdb\"\n",
    "directorio_csv = r\"C:\\docsProyectos\\5.RAISS\\2024.0.RAISS_Lote_4\\4.Analitica\"\n",
    "nombre_csv = \"inventario_ortofotoimagenes.csv\"\n",
    "\n",
    "rutas_ortofotos = []\n",
    "nombre_ortofotos = []"
   ]
  },
  {
   "cell_type": "markdown",
   "metadata": {},
   "source": [
    "<h2>Migración de formatos RASTER a BD Geográfica</h2>\n",
    "<h4>Tratamiento sobre RASTER, formato ECW</h4>"
   ]
  },
  {
   "cell_type": "code",
   "execution_count": null,
   "metadata": {},
   "outputs": [],
   "source": [
    "\n",
    "nombre_archivos_ecw = []\n",
    "\n",
    "for folder, subfolders, files in os.walk(ruta_dir):\n",
    "    for file_name in files:\n",
    "\n",
    "        if file_name.endswith(\".ecw\"):\n",
    "            archivo_ecw = os.path.join(folder, file_name)\n",
    "            ecw = Path(archivo_ecw)\n",
    "            nombre_archivos_ecw.append(ecw.stem)\n",
    "            # ** Para Metadata\n",
    "            rutas_ortofotos.append(archivo_ecw)\n",
    "            nombre_ortofotos.append(ecw.stem)\n",
    "            \n",
    "        if file_name.endswith(\".ecw\") or file_name.endswith(\".eww\") or file_name.endswith(\".prj\"):\n",
    "            otros_archivos = os.path.join(folder, file_name)\n",
    "            p = Path(otros_archivos)\n",
    "\n",
    "            for i in nombre_archivos_ecw:\n",
    "                if i == p.stem:\n",
    "                    # ! Si existe una parametrizacion por presencia de tíldes o espacios, se hace aquí\n",
    "                    pass        \n",
    "\n",
    "            if file_name.endswith(\".ecw\"):\n",
    "                archivo_ecw = os.path.join(folder, file_name)\n",
    "                ruta_ecw = Path(archivo_ecw)\n",
    "\n",
    "                if arcpy.Exists(os.path.join(arcpy.env.workspace, ruta_ecw.stem)):                \n",
    "                    print(\"La imagen {0} ya se encuentra centralizada\".format(ruta_ecw.name))\n",
    "                else:\n",
    "                    arcpy.conversion.RasterToGeodatabase(archivo_ecw, arcpy.env.workspace)\n",
    "                    print(\"Se migra {0}\".format(ruta_ecw.name))\n",
    "                    inDataset = os.path.join(arcpy.env.workspace, ruta_ecw.stem)\n",
    "                    extension = \".prj\"\n",
    "                    ruta_ecw_w_prj = ruta_ecw.stem + extension\n",
    "                    coorSystem = os.path.join(folder, ruta_ecw_w_prj)\n",
    "                    coordP = Path(coorSystem)\n",
    "                    arcpy.management.DefineProjection(in_dataset = inDataset, coor_system = coorSystem)\n",
    "                    print(\"Se parametriza .prj {0}\".format(coordP.name))"
   ]
  },
  {
   "cell_type": "markdown",
   "metadata": {},
   "source": [
    "<h4>Tratamiento sobre RASTER, formato TIF</h4>"
   ]
  },
  {
   "cell_type": "code",
   "execution_count": null,
   "metadata": {},
   "outputs": [],
   "source": [
    "nombre_archivos_tif = []\n",
    "\n",
    "for folder, subfolders, files in os.walk(ruta_dir):\n",
    "    for file_name in files:\n",
    "\n",
    "        if file_name.endswith(\".tif\"):\n",
    "            archivos_tif = os.path.join(folder, file_name)\n",
    "            tif = Path(archivos_tif)\n",
    "            \n",
    "            nombre_tif = tif.stem\n",
    "            extension_tif = tif.suffix\n",
    "            nTifEstandarizado = nombre_tif.replace(',','').replace('.','').replace('-','_').replace(' ','_').replace('á','a').replace('ó','o')\n",
    "            ruta_nTifEstandarizado = os.path.join(folder, nTifEstandarizado + extension_tif)\n",
    "            tif_estandarizado = Path(ruta_nTifEstandarizado)\n",
    "            os.rename(archivos_tif, ruta_nTifEstandarizado)\n",
    "            print(\"Se estandariza {0} a {1}\".format(tif.name, tif_estandarizado.name))\n",
    "\n",
    "        if file_name.endswith(\".tif\"):\n",
    "            archivos_tif = os.path.join(folder, file_name)\n",
    "            tif = Path(archivos_tif)\n",
    "            # ** Para Metadata\n",
    "            rutas_ortofotos.append(archivos_tif)\n",
    "            nombre_ortofotos.append(tif.stem)\n",
    "\n",
    "            if arcpy.Exists(os.path.join(arcpy.env.workspace, tif.stem)):                \n",
    "                print(\"La imagen {0} ya se encuentra centralizada\".format(tif.name))\n",
    "            else:\n",
    "                arcpy.conversion.RasterToGeodatabase(archivos_tif, arcpy.env.workspace)\n",
    "                print(\"Se migra {0}\".format(tif.name))"
   ]
  },
  {
   "cell_type": "markdown",
   "metadata": {},
   "source": [
    "<h4>Creación de reporte con información migrada a BD Geográfica</h4>"
   ]
  },
  {
   "cell_type": "code",
   "execution_count": null,
   "metadata": {},
   "outputs": [],
   "source": [
    "lista_df_ortofotos = list(zip(rutas_ortofotos, nombre_ortofotos))\n",
    "df_ortofotos = pd.DataFrame(lista_df_ortofotos, columns=['ruta_ortofoto','nombre_ortofoto'])\n",
    "df_ortofotos.to_csv(os.path.join(directorio_csv, nombre_csv))\n",
    "print(\"Se genera CSV en directorio de Analítica\")"
   ]
  }
 ],
 "metadata": {
  "kernelspec": {
   "display_name": "Python 3",
   "language": "python",
   "name": "python3"
  },
  "language_info": {
   "codemirror_mode": {
    "name": "ipython",
    "version": 3
   },
   "file_extension": ".py",
   "mimetype": "text/x-python",
   "name": "python",
   "nbconvert_exporter": "python",
   "pygments_lexer": "ipython3",
   "version": "3.9.18"
  }
 },
 "nbformat": 4,
 "nbformat_minor": 2
}
