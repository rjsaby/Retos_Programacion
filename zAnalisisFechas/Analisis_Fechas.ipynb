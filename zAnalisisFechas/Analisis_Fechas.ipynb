{
 "cells": [
  {
   "cell_type": "code",
   "execution_count": 6,
   "metadata": {},
   "outputs": [
    {
     "name": "stdout",
     "output_type": "stream",
     "text": [
      "El número total de días sin superposición es: 3558\n"
     ]
    }
   ],
   "source": [
    "from datetime import datetime\n",
    "\n",
    "# Función para combinar intervalos de fechas y eliminar superposiciones\n",
    "def combine_intervals(intervals):\n",
    "    # Ordenar los intervalos por fecha de inicio\n",
    "    sorted_intervals = sorted(intervals, key=lambda x: x[0])\n",
    "    combined_intervals = []\n",
    "\n",
    "    for start, end in sorted_intervals:\n",
    "        if not combined_intervals or combined_intervals[-1][1] < start:\n",
    "            combined_intervals.append([start, end])\n",
    "        else:\n",
    "            combined_intervals[-1][1] = max(combined_intervals[-1][1], end)\n",
    "\n",
    "    return combined_intervals\n",
    "\n",
    "# Función para calcular los días totales sin superposición\n",
    "def calculate_total_days(intervals):\n",
    "    combined_intervals = combine_intervals(intervals)\n",
    "    total_days = 0\n",
    "\n",
    "    for start, end in combined_intervals:\n",
    "        total_days += (end - start).days + 1\n",
    "\n",
    "    return total_days\n",
    "\n",
    "# Ejemplo de uso\n",
    "intervals = [\n",
    "(datetime(2020,11,24),datetime(2021,4,24)),\n",
    "(datetime(2020,10,8),datetime(2020,12,8)),\n",
    "(datetime(2019,7,10),datetime(2019,12,10)),\n",
    "(datetime(2018,8,1),datetime(2019,10,1)),\n",
    "(datetime(2018,9,1),datetime(2018,12,1)),\n",
    "(datetime(2016,5,1),datetime(2018,6,1)),\n",
    "(datetime(2007,4,28),datetime(2008,5,28)),\n",
    "(datetime(1993,12,1),datetime(1998,7,30)),\n",
    "\n",
    "\n",
    "\n",
    "\n",
    "\n",
    "\n",
    "]\n",
    "\n",
    "total_days = calculate_total_days(intervals)\n",
    "print(f\"El número total de días sin superposición es: {total_days}\")\n"
   ]
  }
 ],
 "metadata": {
  "kernelspec": {
   "display_name": "Python 3",
   "language": "python",
   "name": "python3"
  },
  "language_info": {
   "codemirror_mode": {
    "name": "ipython",
    "version": 3
   },
   "file_extension": ".py",
   "mimetype": "text/x-python",
   "name": "python",
   "nbconvert_exporter": "python",
   "pygments_lexer": "ipython3",
   "version": "3.9.18"
  }
 },
 "nbformat": 4,
 "nbformat_minor": 2
}
