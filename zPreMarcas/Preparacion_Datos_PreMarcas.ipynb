{
 "cells": [
  {
   "cell_type": "code",
   "execution_count": null,
   "metadata": {},
   "outputs": [],
   "source": [
    "import os\n",
    "import pandas as pd\n",
    "import numpy as np\n",
    "from arcgis.features import GeoAccessor, GeoSeriesAccessor\n",
    "import arcpy"
   ]
  },
  {
   "cell_type": "markdown",
   "metadata": {},
   "source": [
    "<h3>Variables</h3>"
   ]
  },
  {
   "cell_type": "code",
   "execution_count": null,
   "metadata": {},
   "outputs": [],
   "source": [
    "RUTA_XLSX_PREMARCA = r\"C:\\docsProyectos\\5.RAISS\\2024.0.RAISS_Lote_4\\6.Hitos\\zApoyo_A_Equipos\\zApoyoEquipoReconocimiento\\3.Geoenriquecimiento_PreMarcas\\zInsumos\\Premarcas_Normalizadas_MariaLaBaja.xlsx\"\n",
    "RUTA_FILEGDB = r\"C:\\docsProyectos\\5.RAISS\\2024.0.RAISS_Lote_4\\6.Hitos\\E1_Alistamiento_Diagnostico\\3_Disposicion\\1.BD_Consolidada\\BD_Consolidada_Lote4.gdb\"\n",
    "RUTA_XLSX = r\"C:\\docsProyectos\\5.RAISS\\2024.0.RAISS_Lote_4\\6.Hitos\\zApoyo_A_Equipos\\zApoyoEquipoReconocimiento\\3.Geoenriquecimiento_PreMarcas\\Reporte_PreMarcas\"\n",
    "\n",
    "NOMBRE_XLSX = 'PreMarcas_MariaLaBaja.xlsx'\n",
    "NOMBRE_INFORMALIDADES_XLSX = 'PreMarcas_Informalidades.xlsx'\n",
    "\n",
    "TIPO_COLUMNA = {'condicion_predio': str,\n",
    "    'predio': str\n",
    "    }\n",
    "\n",
    "INCONSISTENCIAS_GENERALES = ['npn',\n",
    "    'predio',\n",
    "    'condicion_predio',\n",
    "    'condicion_de_propiedad',\n",
    "    'destino',\n",
    "    'total_errores_de_propietario',\n",
    "    'total_errores_de_documento',\n",
    "    'total_errores_direccion',\n",
    "    'total_errores_construcciones',\n",
    "    'total_errores_destino',\n",
    "    'total_inconsistencias_generales',\n",
    "    # 'total_inconsistencias_alfanumericas',\n",
    "    'inconsistencias_juridicas'\n",
    "]\n",
    "\n",
    "INCONSISTENCIAS_GEOGRAFICAS = ['npn',\n",
    "    'predio',\n",
    "    'condicion_predio',\n",
    "    'condicion_de_propiedad',\n",
    "    'destino',\n",
    "    'area_grafica_(m2)',\n",
    "    'diferencia_(m2)',\n",
    "    'diferencia_porcentaje',\n",
    "    'error_diferencia_1_porciento',\n",
    "]\n",
    "\n",
    "INCONSISTENCIAS_SALIDA_XLSX = ['npn',\n",
    "    'zona',\n",
    "    'sector',\n",
    "    'manzana_vereda',\n",
    "    'predio',\n",
    "    'condicion_predio',\n",
    "    'condicion_de_propiedad',\n",
    "    'destino_economico',\n",
    "    'destino',\n",
    "    'direccion',\n",
    "    'folio',\n",
    "    'area_terreno',\n",
    "    'area_construccion',\n",
    "    'cantidad_propietarios_sin_identificacion',\n",
    "    'cantidad_error_codificacion_propiertario',\n",
    "    'cantidad_mismo_propietario_diferente_cedula',\n",
    "    'total_errores_de_propietario',\n",
    "    'cantidad_misma_cedula_diferente_propietario',\n",
    "    'cantidad_error_tipo_documento',\n",
    "    'cantidad_codificacion_documento',\n",
    "    'total_errores_de_documento',\n",
    "    'predios_sin_direccion',\n",
    "    'error_en_codificacion_de_direccion',\n",
    "    'total_errores_direccion',\n",
    "    'construcciones_sin_puntaje',\n",
    "    'error_puntaje_construccion_anexa',\n",
    "    'error_codificacion_usos_construcciones_ph',\n",
    "    'ph_no_construido',\n",
    "    'total_errores_construcciones',\n",
    "    'predios_sin_destino',\n",
    "    'predios_con_destino_lote_y_area_construida',\n",
    "    'destinos_no_lote_sin_area_construida',\n",
    "    'total_errores_destino',\n",
    "    'mejoras_sin_matriz',\n",
    "    'registros_repetidos',\n",
    "    'predios_sin_area_de_terreno',\n",
    "    'mejoras_sin_area_construida',\n",
    "    'mejoras_con_area_de_terreno',\n",
    "    'total_inconsistencias_generales',\n",
    "    'total_inconsistencias_alfanumericas',\n",
    "    'predios_sin_folio',\n",
    "    'folio_antiguo',\n",
    "    'formato',\n",
    "    'circulo_registral',\n",
    "    'predios_con_folio_duplicado',\n",
    "    'mejoras_con_folio',\n",
    "    'inconsistencias_juridicas',\n",
    "    'omision',\n",
    "    'error_de_omision',\n",
    "    'area_grafica_(m2)',\n",
    "    'diferencia_(m2)',\n",
    "    'diferencia_porcentaje',\n",
    "    'error_diferencia_1_porciento'\n",
    "]\n",
    "\n",
    "CAPA_TERRENOS_R = 'Analitica_UT_Consolidada\\R_TERRENO'\n",
    "CAPA_TERRENOS_U = 'Analitica_UT_Consolidada\\\\U_TERRENO'"
   ]
  },
  {
   "cell_type": "markdown",
   "metadata": {},
   "source": [
    "<h3>Generación de DF</h3>"
   ]
  },
  {
   "cell_type": "code",
   "execution_count": null,
   "metadata": {},
   "outputs": [],
   "source": [
    "df_premarcas = pd.read_excel(RUTA_XLSX_PREMARCA, sheet_name='datos', dtype=TIPO_COLUMNA)\n",
    "\n",
    "df_premarcas_inconsistencias_generales = df_premarcas[INCONSISTENCIAS_GENERALES]\n",
    "df_premarcas_inconsistencias_geograficas = df_premarcas[INCONSISTENCIAS_GEOGRAFICAS]\n",
    "df_premarcas_inconsistencias_salida_xlsx = df_premarcas[INCONSISTENCIAS_SALIDA_XLSX]"
   ]
  },
  {
   "cell_type": "markdown",
   "metadata": {},
   "source": [
    "<h3>Exportación XLSX</h3>"
   ]
  },
  {
   "cell_type": "code",
   "execution_count": null,
   "metadata": {},
   "outputs": [],
   "source": [
    "ruta_xlsx = os.path.join(RUTA_XLSX, NOMBRE_XLSX)\n",
    "\n",
    "df_premarcas_inconsistencias_salida_xlsx.to_excel(ruta_xlsx, sheet_name='PreMarcas_MariaLaBaja')\n",
    "print(f\"Se exporta XLSX {NOMBRE_XLSX}\")"
   ]
  },
  {
   "cell_type": "markdown",
   "metadata": {},
   "source": [
    "<h3>Verificación de nulos</h3>"
   ]
  },
  {
   "cell_type": "code",
   "execution_count": null,
   "metadata": {},
   "outputs": [],
   "source": [
    "\n",
    "conteo_npn_duplicados_marcas = df_premarcas_inconsistencias_generales['npn'].value_counts()\n",
    "\n",
    "# ** Filtrar los valores que aparecen más de dos veces\n",
    "resultado_repetidos_marcas = conteo_npn_duplicados_marcas[conteo_npn_duplicados_marcas > 2]"
   ]
  },
  {
   "cell_type": "markdown",
   "metadata": {},
   "source": [
    "<h3>Espacialización Terrenos</h3>"
   ]
  },
  {
   "cell_type": "code",
   "execution_count": null,
   "metadata": {},
   "outputs": [],
   "source": [
    "\n",
    "capa_terrenos_rurales = os.path.join(RUTA_FILEGDB, CAPA_TERRENOS_R)\n",
    "capa_terrenos_urbanos = os.path.join(RUTA_FILEGDB, CAPA_TERRENOS_U)\n",
    "\n",
    "# ** Terrenos Rurales\n",
    "df_terreno_rural = pd.DataFrame.spatial.from_featureclass(capa_terrenos_rurales)\n",
    "\n",
    "# ** Terrenos Urbanos\n",
    "df_terreno_urbano = pd.DataFrame.spatial.from_featureclass(capa_terrenos_urbanos)\n",
    "\n",
    "# ** Selección de columnas\n",
    "columnas_selecciones = ['CODIGO',\n",
    "                        'CODIGO_ANTERIOR',\n",
    "                        'SHAPE']\n",
    "\n",
    "# ** DF Terrenos Rurales, Urbanos\n",
    "df_terreno_rural_reducido = df_terreno_rural[columnas_selecciones]\n",
    "df_terreno_urbano_reducido = df_terreno_urbano[columnas_selecciones]\n",
    "\n",
    "# ** Concatenación de dataframes\n",
    "df_terrenos = pd.concat([df_terreno_rural_reducido, df_terreno_urbano_reducido])"
   ]
  },
  {
   "cell_type": "markdown",
   "metadata": {},
   "source": [
    "<h3>No Mejoras\\Informalidades</h3>"
   ]
  },
  {
   "cell_type": "code",
   "execution_count": null,
   "metadata": {},
   "outputs": [],
   "source": [
    "df_marcas_formales = df_premarcas_inconsistencias_generales.query(\"condicion_predio == '0'\")\n",
    "df_marcas_formales_geograficas = df_premarcas_inconsistencias_geograficas.query(\"condicion_predio == '0'\")"
   ]
  },
  {
   "cell_type": "markdown",
   "metadata": {},
   "source": [
    "<h3>Mejoras\\Informalidades</h3>"
   ]
  },
  {
   "cell_type": "code",
   "execution_count": null,
   "metadata": {},
   "outputs": [],
   "source": [
    "\n",
    "df_marcas_informales = df_premarcas_inconsistencias_generales.query(\"condicion_predio == '5'\")\n",
    "\n",
    "df_marcas_informales = df_marcas_informales.copy()"
   ]
  },
  {
   "cell_type": "code",
   "execution_count": null,
   "metadata": {},
   "outputs": [],
   "source": [
    "\n",
    "# ** Define una función que realice el slicing a un string, para eliminar el 1 al final de la cadena de caracteres\n",
    "def eliminacion_mejora(text):\n",
    "    # ? Función que me verifica si el tipo de dato parametrizado es el que ingresa a la función\n",
    "    if isinstance(text, str) and text[21] == '5':\n",
    "        cadena = text[:21] + '000000000'\n",
    "        return cadena \n",
    "    else:\n",
    "        return None\n",
    "\n",
    "# ** Aplica la función a cada elemento de la columna npn y asigna el resultado a npn_parametrizado\n",
    "df_marcas_informales['npn_parametrizado'] = df_marcas_informales['npn'].apply(eliminacion_mejora)\n",
    "\n",
    "df_marcas_informales_conteo = df_marcas_informales['npn_parametrizado'].value_counts()\n",
    "\n",
    "df_marcas_informales_conteo = df_marcas_informales_conteo[df_marcas_informales_conteo > 1]\n",
    "\n",
    "df_marcas_informales_conteo = pd.DataFrame(df_marcas_informales_conteo).reset_index()"
   ]
  },
  {
   "cell_type": "markdown",
   "metadata": {},
   "source": [
    "<h3>XSLX Informalidades</h3>"
   ]
  },
  {
   "cell_type": "code",
   "execution_count": null,
   "metadata": {},
   "outputs": [],
   "source": [
    "df_marcas_informales_conteo = df_marcas_informales_conteo.rename(columns={'count': 'total_posibles_informalidades'})\n",
    "\n",
    "ruta_informalidades_xlsx = os.path.join(RUTA_XLSX, NOMBRE_INFORMALIDADES_XLSX)\n",
    "\n",
    "df_marcas_informales_conteo.to_excel(ruta_informalidades_xlsx, sheet_name='PreMarcas_Informalidades')\n",
    "print(f\"Se exporta XLSX {NOMBRE_INFORMALIDADES_XLSX}\")"
   ]
  },
  {
   "cell_type": "markdown",
   "metadata": {},
   "source": []
  },
  {
   "cell_type": "code",
   "execution_count": null,
   "metadata": {},
   "outputs": [],
   "source": [
    "\n",
    "# ** Terrenos - Formales\n",
    "df_terrenos_marcas_formales = pd.merge(df_terrenos, df_marcas_formales, left_on='CODIGO', right_on='npn', how='inner')\n",
    "\n",
    "# ** Terrenos - Diferencias Geométricas\n",
    "df_terrenos_marcas_formales_geograficas = pd.merge(df_terrenos, df_marcas_formales_geograficas, left_on='CODIGO', right_on='npn', how='inner')\n",
    "\n",
    "# ** Terrenos - Informales\n",
    "df_terrenos_marcas_informales = pd.merge(df_terrenos, df_marcas_informales_conteo, left_on='CODIGO', right_on='npn_parametrizado', how='inner')"
   ]
  },
  {
   "cell_type": "code",
   "execution_count": null,
   "metadata": {},
   "outputs": [],
   "source": [
    "\n",
    "conteo_join_w_espacializacion = df_terrenos_marcas_formales['CODIGO'].value_counts()\n",
    "\n",
    "# ** Filtrar los valores que aparecen más de dos veces\n",
    "resultado_join_w_geo = conteo_join_w_espacializacion[conteo_join_w_espacializacion > 2]"
   ]
  },
  {
   "cell_type": "markdown",
   "metadata": {},
   "source": [
    "<h3>Preparación Analítica Formales Inconsistencias Alfanuméricas<h3>"
   ]
  },
  {
   "cell_type": "code",
   "execution_count": null,
   "metadata": {},
   "outputs": [],
   "source": [
    "\n",
    "df_terrenos_marcas_formales['error_propietario'] = np.nan\n",
    "df_terrenos_marcas_formales['error_documento'] = np.nan\n",
    "df_terrenos_marcas_formales['error_direccion'] = np.nan\n",
    "df_terrenos_marcas_formales['error_construccion'] = np.nan\n",
    "df_terrenos_marcas_formales['error_destino'] = np.nan\n",
    "df_terrenos_marcas_formales['error_inconsistencia_general'] = np.nan\n",
    "df_terrenos_marcas_formales['error_inconsistencia_juridica'] = np.nan\n",
    "\n",
    "df_terrenos_marcas_formales.loc[df_terrenos_marcas_formales['total_errores_de_propietario'] > 0, 'error_propietario'] = 'Errores en Propietarios'\n",
    "df_terrenos_marcas_formales.loc[df_terrenos_marcas_formales['total_errores_de_documento'] > 0, 'error_documento'] = 'Errores en Documentos'\n",
    "df_terrenos_marcas_formales.loc[df_terrenos_marcas_formales['total_errores_direccion'] > 0, 'error_direccion'] = 'Errores en la Dirección'\n",
    "df_terrenos_marcas_formales.loc[df_terrenos_marcas_formales['total_errores_construcciones'] > 0, 'error_construccion'] = 'Errores en Construcciones'\n",
    "df_terrenos_marcas_formales.loc[df_terrenos_marcas_formales['total_errores_destino'] > 0, 'error_destino'] = 'Error Destinacion Economica'\n",
    "df_terrenos_marcas_formales.loc[df_terrenos_marcas_formales['total_inconsistencias_generales'] > 0, 'error_inconsistencia_general'] = 'Errores Generales'\n",
    "df_terrenos_marcas_formales.loc[df_terrenos_marcas_formales['inconsistencias_juridicas'] > 0, 'error_inconsistencia_juridica'] = 'Con Inconsistencias Jurídicas'"
   ]
  },
  {
   "cell_type": "markdown",
   "metadata": {},
   "source": [
    "<h3>Preparación Analítica Formales Inconsistencias Geográficas<h3>"
   ]
  },
  {
   "cell_type": "code",
   "execution_count": null,
   "metadata": {},
   "outputs": [],
   "source": [
    "df_terrenos_marcas_formales_geograficas['diferencia_porcentaje'] = (df_terrenos_marcas_formales_geograficas['diferencia_porcentaje']*100).round(2)\n",
    "\n",
    "df_terrenos_marcas_formales_geograficas = df_terrenos_marcas_formales_geograficas.query(\"error_diferencia_1_porciento == 1\")"
   ]
  },
  {
   "cell_type": "markdown",
   "metadata": {},
   "source": [
    "<h3>Estandarización de DF Marcas Formales</h3>"
   ]
  },
  {
   "cell_type": "code",
   "execution_count": null,
   "metadata": {},
   "outputs": [],
   "source": [
    "\n",
    "columnas_a_concatenar = ['error_propietario', \n",
    "    'error_documento',\n",
    "    'error_direccion',\n",
    "    'error_construccion',\n",
    "    'error_destino',\n",
    "    'error_inconsistencia_general',\n",
    "    'error_inconsistencia_juridica']\n",
    "\n",
    "df_terrenos_marcas_formales['Analisis'] = df_terrenos_marcas_formales.apply(lambda x: ' - '.join([str(x[col]) for col in columnas_a_concatenar if pd.notnull(x[col]) and x[col] != '']), axis=1)"
   ]
  },
  {
   "cell_type": "code",
   "execution_count": null,
   "metadata": {},
   "outputs": [],
   "source": [
    "\n",
    "# ** Exportación a BD\n",
    "NOMBRE_CAPA_SALIDA = f\"Analitica_UT_Consolidada\\\\{'premarcas_predios_formales'.upper()}\"\n",
    "ruta_salida_terrenos_marcas_formales = os.path.join(RUTA_FILEGDB, NOMBRE_CAPA_SALIDA)\n",
    "\n",
    "df_terrenos_marcas_formales.spatial.to_featureclass(location=ruta_salida_terrenos_marcas_formales, overwrite=True)\n",
    "print(f\"Se exporta la capa {NOMBRE_CAPA_SALIDA}\")\n",
    "\n",
    "# ** Exportación a BD\n",
    "NOMBRE_CAPA_SALIDA = f\"Analitica_UT_Consolidada\\\\{'premarcas_predios_informales'.upper()}\"\n",
    "ruta_salida_terrenos_marcas_informales = os.path.join(RUTA_FILEGDB, NOMBRE_CAPA_SALIDA)\n",
    "\n",
    "df_terrenos_marcas_informales.spatial.to_featureclass(location=ruta_salida_terrenos_marcas_informales, overwrite=True)\n",
    "print(f\"Se exporta la capa {NOMBRE_CAPA_SALIDA}\")\n",
    "\n",
    "# ** Exportación a BD\n",
    "NOMBRE_CAPA_SALIDA = f\"Analitica_UT_Consolidada\\\\{'premarcas_diferencia_areas'.upper()}\"\n",
    "ruta_salida_terrenos_diferencia_areas = os.path.join(RUTA_FILEGDB, NOMBRE_CAPA_SALIDA)\n",
    "\n",
    "df_terrenos_marcas_formales_geograficas.spatial.to_featureclass(location=ruta_salida_terrenos_diferencia_areas, overwrite=True)\n",
    "print(f\"Se exporta la capa {NOMBRE_CAPA_SALIDA}\")"
   ]
  }
 ],
 "metadata": {
  "kernelspec": {
   "display_name": "Python 3",
   "language": "python",
   "name": "python3"
  },
  "language_info": {
   "codemirror_mode": {
    "name": "ipython",
    "version": 3
   },
   "file_extension": ".py",
   "mimetype": "text/x-python",
   "name": "python",
   "nbconvert_exporter": "python",
   "pygments_lexer": "ipython3",
   "version": "3.9.18"
  }
 },
 "nbformat": 4,
 "nbformat_minor": 2
}
