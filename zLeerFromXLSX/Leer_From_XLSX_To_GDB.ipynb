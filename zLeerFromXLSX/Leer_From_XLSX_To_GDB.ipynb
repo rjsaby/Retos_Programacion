{
 "cells": [
  {
   "cell_type": "code",
   "execution_count": null,
   "metadata": {},
   "outputs": [],
   "source": [
    "import os\n",
    "import pandas as pd"
   ]
  },
  {
   "cell_type": "code",
   "execution_count": null,
   "metadata": {},
   "outputs": [],
   "source": [
    "RUTA_XLSX_SNR = r\"C:\\docsProyectos\\5.RAISS\\2024.0.RAISS_Lote_4\\6.Hitos\\zApoyo_A_Equipos\\zApoyoEquipoJuridico\\2.Submodelo_Insumos_SNR\\tbl_submodelo_insumos_snr_lote_4.xlsx\"\n",
    "SHEET_NAME = \"tbl_submodeloinsumosnr_lote_4\"\n",
    "TIPOS_DATOS = {'codigo_municipio':str,\n",
    "               'snrderecho_codigo_naturaleza_juridica':str,\n",
    "               'snrtitular_numero_documento':str,\n",
    "               'predioregistro_codigo_orip':str,\n",
    "               'predioregistro_matricula_inmobiliaria':str,\n",
    "               'predioregistro_numero_predial_nuevo_en_fmi':str,\n",
    "               'predioregistro_numero_predial_anterior_en_fmi':str,\n",
    "               'snrfuentederecho_numero_documento':str}\n",
    "\n",
    "df_data_SNR = pd.read_excel(RUTA_XLSX_SNR, sheet_name=SHEET_NAME, dtype = TIPOS_DATOS)\n",
    "df_data_SNR"
   ]
  }
 ],
 "metadata": {
  "kernelspec": {
   "display_name": "Python 3",
   "language": "python",
   "name": "python3"
  },
  "language_info": {
   "codemirror_mode": {
    "name": "ipython",
    "version": 3
   },
   "file_extension": ".py",
   "mimetype": "text/x-python",
   "name": "python",
   "nbconvert_exporter": "python",
   "pygments_lexer": "ipython3",
   "version": "3.9.18"
  }
 },
 "nbformat": 4,
 "nbformat_minor": 2
}
