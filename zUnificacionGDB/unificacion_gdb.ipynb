{
 "cells": [
  {
   "cell_type": "markdown",
   "metadata": {},
   "source": [
    "<h3>Unificar n base de datos</h3>\n",
    "<item>\n",
    "<li> Las entradas todas guardan la misma estructura\n",
    "<li> Las fuentes tienen el mismo sistema de referencia\n",
    "</item>"
   ]
  },
  {
   "cell_type": "markdown",
   "metadata": {},
   "source": [
    "<h4>Configurando Librerías</h4>"
   ]
  },
  {
   "cell_type": "code",
   "execution_count": null,
   "metadata": {},
   "outputs": [],
   "source": [
    "import os, shutil, arcpy\n",
    "from pathlib import Path"
   ]
  },
  {
   "cell_type": "markdown",
   "metadata": {},
   "source": [
    "<h4>Configuración de variables</h4>"
   ]
  },
  {
   "cell_type": "code",
   "execution_count": null,
   "metadata": {},
   "outputs": [],
   "source": [
    "ruta_analisis = r\"C:\\Users\\rodian.saby\\OneDrive - Valor + SAS\\2024\\3.Zonas_Homogeneas_Fisicas\\0.PRO\\VMas_ZHG\\0.Insumos\\CatastroAntioquia_Enero\\CONTRALORIA\"\n",
    "nombre_directorio = \"backUP_GDB\"\n",
    "nombre_nueva_basedatos = \"ZHF_Unificada.gdb\"\n",
    "bd_para_esquema = \"M002.gdb\"\n",
    "bd_muestra_xml = os.path.join(ruta_analisis, nombre_directorio, bd_para_esquema) "
   ]
  },
  {
   "cell_type": "markdown",
   "metadata": {},
   "source": [
    "<h4>Creación de carpeta donde se almacenaran las BD que sirven de BackUP</h4>"
   ]
  },
  {
   "cell_type": "code",
   "execution_count": null,
   "metadata": {},
   "outputs": [],
   "source": [
    "\n",
    "# ** Esta carpeta se crea como subdirectorio de la carpeta raiz (ruta_analisis)\n",
    "\n",
    "if os.path.exists(os.path.join(ruta_analisis, nombre_directorio)):\n",
    "    print(\"El directorio {0} existe\".format(nombre_directorio))\n",
    "else:\n",
    "    os.mkdir(os.path.join(ruta_analisis, nombre_directorio))\n",
    "    print(\"Se crea el directorio {0}\".format(nombre_directorio))"
   ]
  },
  {
   "cell_type": "markdown",
   "metadata": {},
   "source": [
    "<h4>Se copian todas las bases de datos (.gdb) a la carpeta creada</h4>"
   ]
  },
  {
   "cell_type": "code",
   "execution_count": null,
   "metadata": {},
   "outputs": [],
   "source": [
    "listado_directorios = os.listdir(ruta_analisis)\n",
    "\n",
    "directorios_analisis = []\n",
    "for directorio in listado_directorios:\n",
    "    if directorio.endswith(\".zip\"):\n",
    "      pass\n",
    "    else:\n",
    "        directorios_analisis.append(os.path.join(ruta_analisis,directorio))\n",
    "\n",
    "for i in directorios_analisis:\n",
    "   for ruta, directorio, archivo in os.walk(i, topdown=True):\n",
    "      if ruta.endswith(\".gdb\"):\n",
    "         p = Path(ruta)\n",
    "         directorio_destino = os.path.join(ruta_analisis, nombre_directorio, p.name)\n",
    "         if os.path.exists(directorio_destino):\n",
    "            print(\"El archivo {0} existe\".format(p.name))\n",
    "         else:            \n",
    "            shutil.copytree(ruta, directorio_destino)\n",
    "            print(\"Se copia {0}\".format(ruta), '\\n' \"Al destino {0}\".format(directorio_destino))"
   ]
  },
  {
   "cell_type": "markdown",
   "metadata": {},
   "source": [
    "<h4>Incorporación de campo dentro de cada BD</h4>\n",
    "<p>Se adicionará un campo y se registrará el nombre de la base de datos</p>"
   ]
  },
  {
   "cell_type": "code",
   "execution_count": null,
   "metadata": {},
   "outputs": [],
   "source": [
    "lista_basesdatos = os.listdir(os.path.join(ruta_analisis, nombre_directorio))\n",
    "\n",
    "rutas_bd_espacio_trabajo = []\n",
    "for i in lista_basesdatos:\n",
    "    ruta_bd = os.path.join(ruta_analisis, nombre_directorio, i)\n",
    "    p = Path(ruta_bd)\n",
    "    if ruta_bd.endswith(\".gdb\"):\n",
    "        rutas_bd_espacio_trabajo.append(ruta_bd)        \n",
    "    else:\n",
    "        pass\n",
    "\n",
    "for j in rutas_bd_espacio_trabajo:\n",
    "    p = Path(j)\n",
    "    nombre_municipio = p.stem.replace('M','05')\n",
    "    arcpy.env.workspace = j\n",
    "    for dataset in arcpy.ListDatasets():\n",
    "        for capa in arcpy.ListFeatureClasses(feature_dataset=dataset):\n",
    "            arcpy.management.AddField(capa, 'codigo_municipio', field_type = 'TEXT', field_length = 5, field_alias = 'Código Municipio')\n",
    "            arcpy.management.CalculateField(capa, 'codigo_municipio','\"'+nombre_municipio+'\"', expression_type = 'PYTHON3')\n",
    "            print(\"Se actualiza la capa {0}, dataframe {1} de la BD {2}\".format(capa, dataset, p.name))"
   ]
  },
  {
   "cell_type": "markdown",
   "metadata": {},
   "source": [
    "<h4>Generación de XML sobre la BD de muestra</h4>"
   ]
  },
  {
   "cell_type": "code",
   "execution_count": null,
   "metadata": {},
   "outputs": [],
   "source": [
    "ruta_nueva_bd = os.path.join(ruta_analisis, nombre_directorio)\n",
    "\n",
    "p = Path(bd_muestra_xml)\n",
    "nombre_xml_referencia = p.name.split('.')[0] + \".xml\"\n",
    "\n",
    "if os.path.exists(os.path.join(ruta_nueva_bd, nombre_xml_referencia)):\n",
    "    print(\"El XML {0} existe\".format(nombre_xml_referencia))\n",
    "else:\n",
    "    arcpy.ExportXMLWorkspaceDocument_management(bd_muestra_xml, os.path.join(ruta_nueva_bd, nombre_xml_referencia), export_type = 'SCHEMA_ONLY')\n",
    "    print(\"Se genera XML {0}\".format(nombre_xml_referencia))"
   ]
  },
  {
   "cell_type": "markdown",
   "metadata": {},
   "source": [
    "<h4>Creación de BD para la unificación y importación de XML</h4>"
   ]
  },
  {
   "cell_type": "code",
   "execution_count": null,
   "metadata": {},
   "outputs": [],
   "source": [
    "if os.path.exists(os.path.join(ruta_nueva_bd, nombre_nueva_basedatos)):\n",
    "    print(\"La base de datos {0} existe\".format(nombre_nueva_basedatos))\n",
    "else: \n",
    "    arcpy.CreateFileGDB_management(ruta_nueva_bd, nombre_nueva_basedatos)\n",
    "\n",
    "    arcpy.management.ImportXMLWorkspaceDocument(os.path.join(ruta_analisis, nombre_directorio, nombre_nueva_basedatos), \n",
    "                                                os.path.join(ruta_nueva_bd, nombre_xml_referencia), \n",
    "                                                import_type = \"SCHEMA_ONLY\")\n",
    "    print(\"Se importa XML {0}\".format(nombre_xml_referencia))"
   ]
  },
  {
   "cell_type": "markdown",
   "metadata": {},
   "source": [
    "<h4>Unificación de BD</h4>"
   ]
  },
  {
   "cell_type": "code",
   "execution_count": null,
   "metadata": {},
   "outputs": [],
   "source": [
    "lista_basesdatos = os.listdir(os.path.join(ruta_analisis, nombre_directorio))\n",
    "\n",
    "rutas_bd_espacio_trabajo = []\n",
    "for i in lista_basesdatos:\n",
    "    ruta_bd = os.path.join(ruta_analisis, nombre_directorio, i)\n",
    "    p = Path(ruta_bd)\n",
    "    if ruta_bd.endswith(\".gdb\") and p.name != nombre_nueva_basedatos:\n",
    "        rutas_bd_espacio_trabajo.append(ruta_bd)        \n",
    "    else:\n",
    "        pass\n",
    "\n",
    "for base in rutas_bd_espacio_trabajo:\n",
    "    arcpy.env.workspace = base\n",
    "    for dataset in arcpy.ListDatasets():\n",
    "        for capa in arcpy.ListFeatureClasses(feature_dataset=dataset):\n",
    "            entrada = os.path.join(base, dataset, capa)\n",
    "            p = Path(entrada)\n",
    "            salida = os.path.join(str(ruta_analisis), str(nombre_directorio), str(nombre_nueva_basedatos), str(dataset), str(capa))\n",
    "            arcpy.management.Append(inputs = entrada, target = salida, schema_type = 'NO_TEST')\n",
    "            print(\"Se unifica {0}, dataset {1} de la base de datos origen {2}\".format(capa, dataset, p.parts[11]))"
   ]
  }
 ],
 "metadata": {
  "kernelspec": {
   "display_name": "Python 3",
   "language": "python",
   "name": "python3"
  },
  "language_info": {
   "codemirror_mode": {
    "name": "ipython",
    "version": 3
   },
   "file_extension": ".py",
   "mimetype": "text/x-python",
   "name": "python",
   "nbconvert_exporter": "python",
   "pygments_lexer": "ipython3",
   "version": "3.11.8"
  }
 },
 "nbformat": 4,
 "nbformat_minor": 2
}
