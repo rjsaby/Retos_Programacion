{
 "cells": [
  {
   "cell_type": "code",
   "execution_count": null,
   "metadata": {},
   "outputs": [],
   "source": [
    "import pandas as pd\n",
    "from arcgis.features import GeoAccessor, GeoSeriesAccessor\n",
    "import os\n",
    "import arcpy\n",
    "arcpy.env.overwriteOutput = True"
   ]
  },
  {
   "cell_type": "code",
   "execution_count": null,
   "metadata": {},
   "outputs": [],
   "source": [
    "\"\"\"\n",
    "    Variables\n",
    "\"\"\"\n",
    "\n",
    "xlsx_informalidades = r\"C:\\Users\\rodian.saby\\OneDrive\\Documentos\\docsProyectos\\5.RAISS\\2024.0.RAISS_Lote_4\\6.Hitos\\zApoyo_A_Equipos\\zApoyoEquipoJuridico\\5.EspacializacionInformalidades\\zInsumos\\RPT_31084_INFORMALIDADES.xlsx\"\n",
    "\n",
    "columnas_salida = ['CODIGO',\n",
    "    'CODIGO_ANTERIOR',\n",
    "    'SHAPE',\n",
    "    'ficha',\n",
    "    'npn',\n",
    "    'sector',\n",
    "    'municipio']\n",
    "\n",
    "renombre_columnas = {'CODIGO':'codigo',\n",
    "    'CODIGO_ANTERIOR':'codigo_anterior',\n",
    "}\n"
   ]
  },
  {
   "cell_type": "code",
   "execution_count": null,
   "metadata": {},
   "outputs": [],
   "source": [
    "HOJA = 'FICHAS'\n",
    "\n",
    "df_informalidades = pd.read_excel(xlsx_informalidades, sheet_name = HOJA)"
   ]
  },
  {
   "cell_type": "code",
   "execution_count": null,
   "metadata": {},
   "outputs": [],
   "source": [
    "\n",
    "# ** Generación de nueva columna\n",
    "df_informalidades['npn_parametrizado'] = ''"
   ]
  },
  {
   "cell_type": "markdown",
   "metadata": {},
   "source": [
    "<h2>Parametrización de registros por medio de apply</h2>"
   ]
  },
  {
   "cell_type": "code",
   "execution_count": null,
   "metadata": {},
   "outputs": [],
   "source": [
    "\n",
    "# ** Define una función que realice el slicing a un string, para eliminar el 1 al final de la cadena de caracteres\n",
    "def eliminacion_mejora(text):\n",
    "    # ? Función que me verifica si el tipo de dato parametrizado es el que ingresa a la función\n",
    "    if isinstance(text, str) and text[21] == '5':\n",
    "        cadena = text[:21] + '000000000'\n",
    "        return cadena \n",
    "    else:\n",
    "        return None  # Devuelve None si el valor no es un string\n",
    "\n",
    "\n",
    "# ** Aplica la función a cada elemento de la columna npn y asigna el resultado a npn_parametrizado\n",
    "df_informalidades['npn_parametrizado'] = df_informalidades['npn'].apply(eliminacion_mejora)"
   ]
  },
  {
   "cell_type": "markdown",
   "metadata": {},
   "source": [
    "<h2>Espacialización Terrenos</h2>"
   ]
  },
  {
   "cell_type": "code",
   "execution_count": null,
   "metadata": {},
   "outputs": [],
   "source": [
    "RUTA_BDCONSOLIDADA = r\"C:\\docsProyectos\\5.RAISS\\2024.0.RAISS_Lote_4\\6.Hitos\\E1_Alistamiento_Diagnostico\\3_Disposicion\\1.BD_Consolidada\\BD_Consolidada_Lote4.gdb\"\n",
    "ruta_shp = r\"C:\\Users\\rodian.saby\\OneDrive\\Documentos\\docsProyectos\\5.RAISS\\2024.0.RAISS_Lote_4\\6.Hitos\\zApoyo_A_Equipos\\zApoyoEquipoJuridico\\5.EspacializacionInformalidades\\zShp\"\n",
    "\n",
    "CAPA_TERRENOS_R = 'Analitica_UT_Consolidada\\R_TERRENO'\n",
    "CAPA_TERRENOS_U = 'Analitica_UT_Consolidada\\\\U_TERRENO'\n",
    "SHP = 'Posibles_Predios_Informales.shp'\n",
    "\n",
    "capa_terrenos_rurales = os.path.join(RUTA_BDCONSOLIDADA, CAPA_TERRENOS_R)\n",
    "capa_terrenos_urbanos = os.path.join(RUTA_BDCONSOLIDADA, CAPA_TERRENOS_U)\n",
    "\n",
    "# ** Terrenos Rurales\n",
    "df_terreno_rural = pd.DataFrame.spatial.from_featureclass(capa_terrenos_rurales)\n",
    "df_terreno_rural.head()\n",
    "# ** Terrenos Urbanos\n",
    "df_terreno_urbano = pd.DataFrame.spatial.from_featureclass(capa_terrenos_urbanos)\n",
    "\n",
    "# ** Selección de columnas\n",
    "columnas_selecciones = ['CODIGO',\n",
    "    'CODIGO_ANTERIOR',\n",
    "    'SHAPE']\n",
    "\n",
    "# ** DF Terrenos Rurales, Urbanos\n",
    "df_terreno_rural_reducido = df_terreno_rural[columnas_selecciones]\n",
    "df_terreno_urbano_reducido = df_terreno_urbano[columnas_selecciones]\n",
    "\n",
    "# ** Concatenación de dataframes\n",
    "df_terrenos = pd.concat([df_terreno_rural_reducido, df_terreno_urbano_reducido])"
   ]
  },
  {
   "cell_type": "code",
   "execution_count": null,
   "metadata": {},
   "outputs": [],
   "source": [
    "\n",
    "# ** Terrenos Gestionados SIG Espacializados\n",
    "df_terrenos_posible_informalidad = pd.merge(df_terrenos, df_informalidades, left_on='CODIGO', right_on='npn_parametrizado', how='inner')"
   ]
  },
  {
   "cell_type": "markdown",
   "metadata": {},
   "source": [
    "<h2>Estandarización de DF</h2>"
   ]
  },
  {
   "cell_type": "code",
   "execution_count": null,
   "metadata": {},
   "outputs": [],
   "source": [
    "df_posible_informalidad_filtrado = df_terrenos_posible_informalidad[columnas_salida]\n",
    "\n",
    "df_posible_informalidad_estandarizado = df_posible_informalidad_filtrado.rename(columns=renombre_columnas)"
   ]
  },
  {
   "cell_type": "code",
   "execution_count": null,
   "metadata": {},
   "outputs": [],
   "source": [
    "\n",
    "# ** Exportación a BD\n",
    "NOMBRE_CAPA_SALIDA = f\"Analitica_UT_Consolidada\\\\{'posibles_predios_informales'.upper()}\"\n",
    "ruta_salida_terrenos_contro_cambios = os.path.join(RUTA_BDCONSOLIDADA, NOMBRE_CAPA_SALIDA)\n",
    "\n",
    "df_posible_informalidad_estandarizado.spatial.to_featureclass(location=ruta_salida_terrenos_contro_cambios)\n",
    "print(f\"Se exporta la capa {NOMBRE_CAPA_SALIDA}\")\n",
    "\n",
    "# ** Exportación SHP\n",
    "ruta_salida_shp = os.path.join(ruta_shp, SHP)\n",
    "df_posible_informalidad_estandarizado.spatial.to_featureclass(location=ruta_salida_shp)\n",
    "print(f\"Se exporta la capa {SHP}\")"
   ]
  }
 ],
 "metadata": {
  "kernelspec": {
   "display_name": "Python 3",
   "language": "python",
   "name": "python3"
  },
  "language_info": {
   "codemirror_mode": {
    "name": "ipython",
    "version": 3
   },
   "file_extension": ".py",
   "mimetype": "text/x-python",
   "name": "python",
   "nbconvert_exporter": "python",
   "pygments_lexer": "ipython3",
   "version": "3.9.18"
  }
 },
 "nbformat": 4,
 "nbformat_minor": 2
}
