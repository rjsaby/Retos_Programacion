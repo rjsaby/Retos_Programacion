{
 "cells": [
  {
   "cell_type": "code",
   "execution_count": 1,
   "metadata": {
    "execution": {
     "iopub.execute_input": "2024-09-05T21:26:46.781909Z",
     "iopub.status.busy": "2024-09-05T21:26:46.780909Z",
     "iopub.status.idle": "2024-09-05T21:26:52.710270Z",
     "shell.execute_reply": "2024-09-05T21:26:52.710270Z"
    }
   },
   "outputs": [],
   "source": [
    "import pandas as pd\n",
    "import os, sys\n",
    "import seaborn as sns\n",
    "\n",
    "os.environ[\"CRYPTOGRAPHY_OPENSSL_NO_LEGACY\"] = \"yes\"\n",
    "\n",
    "# ? Se usa para generar gráficos\n",
    "import matplotlib.pyplot as plt\n",
    "\n",
    "# ? Se usa para determina la fecha de ejecución del proceso dentro del export de los resultados estadísticos\n",
    "from datetime import datetime\n",
    "\n",
    "# ? Conexión a BD Postgres. Se usa dado que pandas no acepta sino este paquete para la conexión.\n",
    "from sqlalchemy import create_engine, text\n",
    "\n",
    "from datetime import datetime\n",
    "\n",
    "from arcgis.features import GeoAccessor, GeoSeriesAccessor\n",
    "import arcpy\n",
    "\n",
    "from pathlib import Path\n",
    "\n",
    "import shutil\n",
    "\n",
    "# TODO: Añadir el directorio A al sys.path, esto para llamar a una función contenida en otro directorio, ambas dentro de la misma carpeta raiz\n",
    "sys.path.append(os.path.abspath('../zReporteRadicados'))\n",
    "\n",
    "# ** Librerías propias\n",
    "from funcion_personalizacion_tablas import personalizacion_tablas\n",
    "from funcion_parametrizacion_variables import parametrizacion_variables\n",
    "from funcion_SQL_a_DataFrame import sql_a_dataframe"
   ]
  },
  {
   "cell_type": "code",
   "execution_count": 2,
   "metadata": {
    "execution": {
     "iopub.execute_input": "2024-09-05T21:26:52.713274Z",
     "iopub.status.busy": "2024-09-05T21:26:52.713274Z",
     "iopub.status.idle": "2024-09-05T21:26:52.716101Z",
     "shell.execute_reply": "2024-09-05T21:26:52.716101Z"
    }
   },
   "outputs": [],
   "source": [
    "DIRECTORIO_XLSX = r\"C:\\docsProyectos\\5.RAISS\\2024.0.RAISS_Lote_4\\6.Hitos\\zApoyo_A_Equipos\\zApoyoEquipoCalidad\\6.Reporte_BD_Para_Calidad\"\n",
    "NOMBRE_XLSX = 'reporte_predio_interesado_derecho.xlsx'\n",
    "\n",
    "DIRECTORIO_GOOGLE = r\"G:\\Mi unidad\\Equipo_Consolidacion\\Hitos\\zApoyo_A_Equipos\\zApoyoEquipoCalidad\\6.Reporte_BD_Para_Calidad\""
   ]
  },
  {
   "cell_type": "code",
   "execution_count": 3,
   "metadata": {
    "execution": {
     "iopub.execute_input": "2024-09-05T21:26:52.718116Z",
     "iopub.status.busy": "2024-09-05T21:26:52.718116Z",
     "iopub.status.idle": "2024-09-05T21:26:55.961816Z",
     "shell.execute_reply": "2024-09-05T21:26:55.961816Z"
    }
   },
   "outputs": [
    {
     "name": "stdout",
     "output_type": "stream",
     "text": [
      "Inicio de la conexión\n",
      "Conexión exitosa ...\n"
     ]
    }
   ],
   "source": [
    "resultados = parametrizacion_variables()\n",
    "consulta_predio_interesado_terreno = resultados[17]\n",
    "\n",
    "df_predio_interesado_terreno = sql_a_dataframe(consulta_predio_interesado_terreno)\n"
   ]
  },
  {
   "cell_type": "code",
   "execution_count": 4,
   "metadata": {
    "execution": {
     "iopub.execute_input": "2024-09-05T21:26:55.964822Z",
     "iopub.status.busy": "2024-09-05T21:26:55.963821Z",
     "iopub.status.idle": "2024-09-05T21:27:38.510586Z",
     "shell.execute_reply": "2024-09-05T21:27:38.510586Z"
    }
   },
   "outputs": [],
   "source": [
    "def mejora_tipo_predio(texto):\n",
    "    valor = str(texto).replace('.', ' - ')\n",
    "    return valor\n",
    "\n",
    "df_predio_interesado_terreno['tipo_predio'] = df_predio_interesado_terreno.apply(lambda x: mejora_tipo_predio(x['tipo_predio']), axis=1)\n",
    "df_predio_interesado_terreno.to_excel(os.path.join(DIRECTORIO_XLSX, NOMBRE_XLSX), sheet_name='rep_predio_interesado', index=False)\n",
    "\n",
    "# TODO: Personalización de la Tabla\n",
    "personalizacion_tablas(os.path.join(DIRECTORIO_XLSX, NOMBRE_XLSX))"
   ]
  },
  {
   "cell_type": "code",
   "execution_count": 5,
   "metadata": {
    "execution": {
     "iopub.execute_input": "2024-09-05T21:27:38.513600Z",
     "iopub.status.busy": "2024-09-05T21:27:38.513600Z",
     "iopub.status.idle": "2024-09-05T21:27:38.586234Z",
     "shell.execute_reply": "2024-09-05T21:27:38.586234Z"
    }
   },
   "outputs": [
    {
     "name": "stdout",
     "output_type": "stream",
     "text": [
      "Se copia tabla reporte_predio_interesado_derecho.xlsx\n"
     ]
    }
   ],
   "source": [
    "\n",
    "# TODO: Copiado de Tabla\n",
    "shutil.copy(src=os.path.join(DIRECTORIO_XLSX, NOMBRE_XLSX), dst=os.path.join(DIRECTORIO_GOOGLE, NOMBRE_XLSX))\n",
    "print(f\"Se copia tabla {NOMBRE_XLSX}\")"
   ]
  }
 ],
 "metadata": {
  "kernelspec": {
   "display_name": "Python 3",
   "language": "python",
   "name": "python3"
  },
  "language_info": {
   "codemirror_mode": {
    "name": "ipython",
    "version": 3
   },
   "file_extension": ".py",
   "mimetype": "text/x-python",
   "name": "python",
   "nbconvert_exporter": "python",
   "pygments_lexer": "ipython3",
   "version": "3.11.8"
  }
 },
 "nbformat": 4,
 "nbformat_minor": 2
}
