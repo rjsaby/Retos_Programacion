{
 "cells": [
  {
   "cell_type": "code",
   "execution_count": 1,
   "metadata": {
    "execution": {
     "iopub.execute_input": "2024-07-18T13:38:40.929570Z",
     "iopub.status.busy": "2024-07-18T13:38:40.929570Z",
     "iopub.status.idle": "2024-07-18T13:38:48.398020Z",
     "shell.execute_reply": "2024-07-18T13:38:48.398020Z"
    }
   },
   "outputs": [],
   "source": [
    "import os\n",
    "import arcpy\n",
    "import shutil\n",
    "\n",
    "os.environ[\"CRYPTOGRAPHY_OPENSSL_NO_LEGACY\"] = \"yes\"\n",
    "\n",
    "import funcion_Calculo_Rendimientos_IndicadorSheet\n",
    "import funcion_append_rendimientos_visitas_sheet\n",
    "import funcion_exportacion_pdf_seriemapas"
   ]
  },
  {
   "cell_type": "code",
   "execution_count": 2,
   "metadata": {
    "execution": {
     "iopub.execute_input": "2024-07-18T13:38:48.398020Z",
     "iopub.status.busy": "2024-07-18T13:38:48.398020Z",
     "iopub.status.idle": "2024-07-18T13:40:44.409778Z",
     "shell.execute_reply": "2024-07-18T13:40:44.409778Z"
    }
   },
   "outputs": [
    {
     "name": "stdout",
     "output_type": "stream",
     "text": [
      "El total de registros analizados es de 841\n",
      "El total de terrenos visitados es: 841\n",
      "De la capa original de Terrenos con 40022 registros se elimanan repetidos, obteniendose 39739\n",
      "39743\n",
      "34658\n",
      "Se crea la capa TERRENO_UNIFICADO_w_GIS en BD \n",
      " C:\\docsProyectos\\5.RAISS\\2024.0.RAISS_Lote_4\\6.Hitos\\E1_Alistamiento_Diagnostico\\3_Disposicion\\1.BD_Consolidada\\BD_Consolidada_Lote4.gdb\\Analitica_UT_Consolidada\n",
      "Se actualiza el campo de hectareaje\n",
      "Concluye el proceso\n",
      "841\n",
      "Predios sin geometrías, posibles informalidades: 0\n",
      "Terrenos por verificar desde Reconocimiento: Empty DataFrame\n",
      "Columns: [MUNICIPIO, ZONA, CODIGO, Area terreno_Ha, CODIGO_MUN, COORDINADOR, RECONOCEDOR, PROGRAMACION, Visitado, Nº Radicado BCGS, OBJECTID, codigo, codigo_anterior, sig_creador, sig_ultima_edicion, fecha_ultima_edicion, globalid, area_ha_cmt12, SHAPE, npn_matriz]\n",
      "Index: []\n",
      "Total de posibles Matrices: 0\n",
      "Matrices espacializados: Empty DataFrame\n",
      "Columns: [npn_matriz, informalidades_visitadas, OBJECTID, codigo, codigo_anterior, sig_creador, sig_ultima_edicion, fecha_ultima_edicion, globalid, area_ha_cmt12, SHAPE]\n",
      "Index: []\n",
      "Total Ha Predios Matrices: 0.0 Ha\n",
      "Predios con geometrías: 841\n",
      "Total Ha Predios Con Geometría: 8482.89 Ha\n",
      "    MUNICIPIO  ZONA                          CODIGO  Area terreno_Ha  \\\n",
      "0     REPELON   NaN  086060002000000000205000000000              NaN   \n",
      "1     REPELON   NaN  086060002000000000209000000000              NaN   \n",
      "2     REPELON   NaN  086060002000000000210000000000              NaN   \n",
      "3     REPELON   NaN  086060002000000000211000000000              NaN   \n",
      "4     REPELON   NaN  086060002000000000212000000000              NaN   \n",
      "..        ...   ...                             ...              ...   \n",
      "836   REPELON   NaN  086060001000000000185000000000              NaN   \n",
      "837   REPELON   NaN  086060001000000000203000000000              NaN   \n",
      "838   REPELON   NaN  086060001000000000240000000000              NaN   \n",
      "839   REPELON   NaN  086060001000000000241000000000              NaN   \n",
      "840   REPELON   NaN  086060001000000000294000000000              NaN   \n",
      "\n",
      "     CODIGO_MUN      COORDINADOR RECONOCEDOR  PROGRAMACION Visitado  \\\n",
      "0           NaN  JORGE HERNANDEZ       ADNER           NaN       SI   \n",
      "1           NaN  JORGE HERNANDEZ       ADNER           NaN       SI   \n",
      "2           NaN  JORGE HERNANDEZ       ADNER           NaN       SI   \n",
      "3           NaN  JORGE HERNANDEZ       ADNER           NaN       SI   \n",
      "4           NaN  JORGE HERNANDEZ       ADNER           NaN       SI   \n",
      "..          ...              ...         ...           ...      ...   \n",
      "836         NaN  JORGE HERNANDEZ     ALBEIRO           NaN       SI   \n",
      "837         NaN  JORGE HERNANDEZ     ALBEIRO           NaN       SI   \n",
      "838         NaN  JORGE HERNANDEZ     ALBEIRO           NaN       SI   \n",
      "839         NaN  JORGE HERNANDEZ     ALBEIRO           NaN       SI   \n",
      "840         NaN  JORGE HERNANDEZ     ALBEIRO           NaN       SI   \n",
      "\n",
      "     Nº Radicado BCGS  OBJECTID                          codigo  \\\n",
      "0              2898.0      4361  086060002000000000205000000000   \n",
      "1              2898.0      4369  086060002000000000209000000000   \n",
      "2              2898.0      4371  086060002000000000210000000000   \n",
      "3              2898.0      4370  086060002000000000211000000000   \n",
      "4              2898.0      4381  086060002000000000212000000000   \n",
      "..                ...       ...                             ...   \n",
      "836            2898.0      4665  086060001000000000185000000000   \n",
      "837            2898.0      4663  086060001000000000203000000000   \n",
      "838            2898.0      4591  086060001000000000240000000000   \n",
      "839            2898.0      4666  086060001000000000241000000000   \n",
      "840            2898.0      4621  086060001000000000294000000000   \n",
      "\n",
      "    codigo_anterior         sig_creador  sig_ultima_edicion  \\\n",
      "0                    CARLOS_CASTELLANOS  CARLOS_CASTELLANOS   \n",
      "1                    CARLOS_CASTELLANOS  CARLOS_CASTELLANOS   \n",
      "2                    CARLOS_CASTELLANOS  CARLOS_CASTELLANOS   \n",
      "3                    CARLOS_CASTELLANOS  CARLOS_CASTELLANOS   \n",
      "4                    CARLOS_CASTELLANOS  CARLOS_CASTELLANOS   \n",
      "..              ...                 ...                 ...   \n",
      "836                  CARLOS_CASTELLANOS  CARLOS_CASTELLANOS   \n",
      "837                  CARLOS_CASTELLANOS  CARLOS_CASTELLANOS   \n",
      "838                  CARLOS_CASTELLANOS  CARLOS_CASTELLANOS   \n",
      "839                  CARLOS_CASTELLANOS  CARLOS_CASTELLANOS   \n",
      "840                  CARLOS_CASTELLANOS  CARLOS_CASTELLANOS   \n",
      "\n",
      "    fecha_ultima_edicion                                globalid  \\\n",
      "0    2024-06-24 23:30:04  {FFD3C597-3A57-4A28-B366-26AD2082835D}   \n",
      "1    2024-06-24 23:30:04  {DF008FDF-ADBB-4399-8FBB-0394EC7934D6}   \n",
      "2    2024-06-24 23:30:04  {4967321A-302F-4A23-8B67-362EB2482F6A}   \n",
      "3    2024-06-24 23:30:04  {AAC2CD27-F6C2-453B-9904-87B659299CD0}   \n",
      "4    2024-06-24 23:30:04  {C7043C91-287E-4F69-99B7-00EEDF541342}   \n",
      "..                   ...                                     ...   \n",
      "836  2024-06-24 23:30:04  {FFD11AE5-2A07-4E54-8F30-51A2F010E6D0}   \n",
      "837  2024-06-24 23:30:04  {F94EDBB5-59F2-4EB9-ADCA-80670596C510}   \n",
      "838  2024-06-24 23:30:04  {1317045D-C3A0-44EE-8AA7-CF341F65D545}   \n",
      "839  2024-06-24 23:30:04  {95467717-087E-4C37-A1F7-1FD08FB8188A}   \n",
      "840  2024-06-24 23:30:04  {7651CFEC-7A49-495F-9869-07EFB53439CE}   \n",
      "\n",
      "     area_ha_cmt12                                              SHAPE  \n",
      "0       123.142869  {\"rings\": [[[4763267.4047, 2721907.6692999993]...  \n",
      "1        10.129804  {\"rings\": [[[4764226.4211, 2721633.1905000005]...  \n",
      "2        80.702015  {\"rings\": [[[4765474.3296, 2721170.888800001],...  \n",
      "3        95.597097  {\"rings\": [[[4764935.8241, 2722529.4417000003]...  \n",
      "4        18.018308  {\"rings\": [[[4765813.9294, 2721227.9067], [476...  \n",
      "..             ...                                                ...  \n",
      "836      14.891773  {\"rings\": [[[4764159.5266, 2713211.8762], [476...  \n",
      "837       9.913352  {\"rings\": [[[4764577.5478, 2712689.338300001],...  \n",
      "838      17.447904  {\"rings\": [[[4763969.424, 2713377.5264999997],...  \n",
      "839      28.897071  {\"rings\": [[[4763884.3021, 2713581.592700001],...  \n",
      "840     535.994096  {\"rings\": [[[4767077.32, 2711653.2544], [47670...  \n",
      "\n",
      "[841 rows x 19 columns]\n",
      "No se exporta por no tener registros\n",
      "Se exporta la capa Analitica_UT_Consolidada\\TERRENOS_VISITADOS_REPELON_FORMAL a BD Consolidada\n",
      "No se exporta por no tener registros\n",
      "Se exporta la capa TERRENOS_VISITADOS_REPELON_FORMAL a Local\n",
      "Concluye la ejecución de la función\n"
     ]
    }
   ],
   "source": [
    "arcpy.env.overwriteOutput = True\n",
    "\n",
    "bdResultados = r\"C:\\docsProyectos\\5.RAISS\\2024.0.RAISS_Lote_4\\6.Hitos\\E2_Informes_Id_FisicoJuridica\\2_2_0_Identificacion_Predial_Total_Ha_Actualizadas\\Base_Datos\\_2_2_0.gdb\"\n",
    "RUTA_SALIDA_GRAFICA = r'C:\\docsProyectos\\5.RAISS\\2024.0.RAISS_Lote_4\\6.Hitos\\E2_Informes_Id_FisicoJuridica\\2_2_7_Identificacion_Predial_Total_Ha_Visitadas\\Salidas_Graficas'\n",
    "\n",
    "# ? Copia de Salidas Gráficas\n",
    "RUTA_ORIGEN = r\"C:\\docsProyectos\\5.RAISS\\2024.0.RAISS_Lote_4\\6.Hitos\\E2_Informes_Id_FisicoJuridica\\2_2_7_Identificacion_Predial_Total_Ha_Visitadas\\Salidas_Graficas\"\n",
    "RUTA_DESTINO = r\"G:\\Mi unidad\\Equipo_Consolidacion\\Hitos\\E2_Informes_Id_FisicoJuridica\\2_2_7_Identificacion_Predial_Total_Ha_Visitadas\\Salidas_Graficas\"\n",
    "\n",
    "\n",
    "nMunicipio = 'REPELON' \n",
    "nSheet = 'Repelon'\n",
    "idSheet = '1pOj3aUX3HxI3F92qt_NIFeYpmrAkffaP7-lgSPh5s9Y'\n",
    "\n",
    "funcion_Calculo_Rendimientos_IndicadorSheet.calculo_rendimientos_indicadorSheet(nMunicipio, nSheet, idSheet)\n",
    "print(f\"Concluye la ejecución de la función\")"
   ]
  },
  {
   "cell_type": "code",
   "execution_count": 3,
   "metadata": {
    "execution": {
     "iopub.execute_input": "2024-07-18T13:40:44.411788Z",
     "iopub.status.busy": "2024-07-18T13:40:44.411788Z",
     "iopub.status.idle": "2024-07-18T13:42:49.222651Z",
     "shell.execute_reply": "2024-07-18T13:42:49.222651Z"
    }
   },
   "outputs": [
    {
     "name": "stdout",
     "output_type": "stream",
     "text": [
      "El total de registros analizados es de 3241\n",
      "El total de terrenos visitados es: 3241\n",
      "De la capa original de Terrenos con 40022 registros se elimanan repetidos, obteniendose 39739\n",
      "39743\n",
      "34658\n",
      "Se crea la capa TERRENO_UNIFICADO_w_GIS en BD \n",
      " C:\\docsProyectos\\5.RAISS\\2024.0.RAISS_Lote_4\\6.Hitos\\E1_Alistamiento_Diagnostico\\3_Disposicion\\1.BD_Consolidada\\BD_Consolidada_Lote4.gdb\\Analitica_UT_Consolidada\n",
      "Se actualiza el campo de hectareaje\n",
      "Concluye el proceso\n",
      "3241\n",
      "Predios sin geometrías, posibles informalidades: 80\n",
      "Terrenos por verificar desde Reconocimiento:          MUNICIPIO  ZONA                         CODIGO  Area terreno_Ha  \\\n",
      "270  MARIA LA BAJA   NaN  13442000000000002019300000000              NaN   \n",
      "\n",
      "     CODIGO_MUN     COORDINADOR    RECONOCEDOR  PROGRAMACION Visitado  \\\n",
      "270         NaN  JAIR BENEDETTY  SANDRA ACOSTA           NaN       SI   \n",
      "\n",
      "     Nº Radicado BCGS  OBJECTID codigo codigo_anterior sig_creador  \\\n",
      "270            2753.0      <NA>   <NA>            <NA>        <NA>   \n",
      "\n",
      "    sig_ultima_edicion fecha_ultima_edicion globalid  area_ha_cmt12 SHAPE  \\\n",
      "270               <NA>                  NaT     <NA>           <NA>  None   \n",
      "\n",
      "    npn_matriz  \n",
      "270       None  \n",
      "Total de posibles Matrices: 68\n",
      "Matrices espacializados:                         npn_matriz  informalidades_visitadas  OBJECTID  \\\n",
      "0   134420100000001260012000000000                         8     25882   \n",
      "1   134420100000001240002000000000                         3     24778   \n",
      "2   134420100000001180010000000000                         2     25715   \n",
      "3   134420100000001260019000000000                         2     24462   \n",
      "4   134420100000002580008000000000                         1     22453   \n",
      "..                             ...                       ...       ...   \n",
      "63  134420100000002590016000000000                         1     20194   \n",
      "64  134420100000002540003000000000                         1     22391   \n",
      "65  134420100000002540007000000000                         1     22399   \n",
      "66  134420100000002570006000000000                         1     22328   \n",
      "67  134420100000001210018000000000                         1     24282   \n",
      "\n",
      "                            codigo       codigo_anterior sig_creador  \\\n",
      "0   134420100000001260012000000000  13442010001260012000               \n",
      "1   134420100000001240002000000000  13442010001240002000               \n",
      "2   134420100000001180010000000000  13442010001180010000               \n",
      "3   134420100000001260019000000000  13442010001260019000               \n",
      "4   134420100000002580008000000000  13442010002580008000               \n",
      "..                             ...                   ...         ...   \n",
      "63  134420100000002590016000000000  13442010002590016000               \n",
      "64  134420100000002540003000000000  13442010002540003000               \n",
      "65  134420100000002540007000000000  13442010002540007000               \n",
      "66  134420100000002570006000000000  13442010002570006000               \n",
      "67  134420100000001210018000000000  13442010001210018000               \n",
      "\n",
      "   sig_ultima_edicion fecha_ultima_edicion globalid  area_ha_cmt12  \\\n",
      "0                                      NaT                0.551765   \n",
      "1                                      NaT                0.124534   \n",
      "2                                      NaT                0.032839   \n",
      "3                                      NaT                0.522692   \n",
      "4                                      NaT                  0.0128   \n",
      "..                ...                  ...      ...            ...   \n",
      "63                                     NaT                  0.0128   \n",
      "64                                     NaT                  0.0128   \n",
      "65                                     NaT                  0.0128   \n",
      "66                                     NaT                  0.0128   \n",
      "67                                     NaT                0.036908   \n",
      "\n",
      "                                                SHAPE  \n",
      "0   {\"rings\": [[[4748456.8325, 2661110.3280999996]...  \n",
      "1   {\"rings\": [[[4748405.0327, 2661388.191299999],...  \n",
      "2   {\"rings\": [[[4748166.7976, 2661373.6546], [474...  \n",
      "3   {\"rings\": [[[4748339.5344, 2661206.558599999],...  \n",
      "4   {\"rings\": [[[4748393.6541, 2661600.5474999994]...  \n",
      "..                                                ...  \n",
      "63  {\"rings\": [[[4748382.6674, 2661623.0547], [474...  \n",
      "64  {\"rings\": [[[4748349.7107, 2661641.7364000008]...  \n",
      "65  {\"rings\": [[[4748324.5953, 2661640.3608999997]...  \n",
      "66  {\"rings\": [[[4748417.3929, 2661703.9757000003]...  \n",
      "67  {\"rings\": [[[4748205.678, 2661321.6686000004],...  \n",
      "\n",
      "[68 rows x 11 columns]\n",
      "Total Ha Predios Matrices: 2.57 Ha\n",
      "Predios con geometrías: 3161\n",
      "Total Ha Predios Con Geometría: 12558.34 Ha\n",
      "          MUNICIPIO  ZONA                          CODIGO  Area terreno_Ha  \\\n",
      "0     MARIA LA BAJA   NaN  134421600000000010019000000000              NaN   \n",
      "1     MARIA LA BAJA   NaN  134421600000000040003000000000              NaN   \n",
      "2     MARIA LA BAJA   NaN  134421600000000040002000000000              NaN   \n",
      "3     MARIA LA BAJA   NaN  134421600000000040001000000000              NaN   \n",
      "4     MARIA LA BAJA   NaN  134421600000000010022000000000              NaN   \n",
      "...             ...   ...                             ...              ...   \n",
      "3236  MARIA LA BAJA   NaN  134420000000000010168000000000              NaN   \n",
      "3237  MARIA LA BAJA   NaN  134420000000000010169000000000              NaN   \n",
      "3238  MARIA LA BAJA   NaN  134420000000000010170000000000              NaN   \n",
      "3239  MARIA LA BAJA   NaN  134420000000000010171000000000              NaN   \n",
      "3240  MARIA LA BAJA   NaN  134420000000000010384000000000              NaN   \n",
      "\n",
      "      CODIGO_MUN      COORDINADOR        RECONOCEDOR  PROGRAMACION Visitado  \\\n",
      "0            NaN     LINEY ARROYO     Celci Quintana           NaN       SI   \n",
      "1            NaN     LINEY ARROYO     Celci Quintana           NaN       SI   \n",
      "2            NaN     LINEY ARROYO     Celci Quintana           NaN       SI   \n",
      "3            NaN     LINEY ARROYO     Celci Quintana           NaN       SI   \n",
      "4            NaN     LINEY ARROYO     Celci Quintana           NaN       SI   \n",
      "...          ...              ...                ...           ...      ...   \n",
      "3236         NaN  Fredy Solorzano  Gustavo Maldonado           NaN       SI   \n",
      "3237         NaN  Fredy Solorzano  Gustavo Maldonado           NaN       SI   \n",
      "3238         NaN  Fredy Solorzano  Gustavo Maldonado           NaN       SI   \n",
      "3239         NaN  Fredy Solorzano  Gustavo Maldonado           NaN       SI   \n",
      "3240         NaN  Fredy Solorzano                NaN           NaN       SI   \n",
      "\n",
      "      Nº Radicado BCGS  OBJECTID                          codigo  \\\n",
      "0               2735.0     23130  134421600000000010019000000000   \n",
      "1               2738.0     25282  134421600000000040003000000000   \n",
      "2               2737.0     25283  134421600000000040002000000000   \n",
      "3               2738.0     25284  134421600000000040001000000000   \n",
      "4               2735.0     25373  134421600000000010022000000000   \n",
      "...                ...       ...                             ...   \n",
      "3236            3559.0      3683  134420000000000010168000000000   \n",
      "3237            3559.0      3685  134420000000000010169000000000   \n",
      "3238            3559.0      3681  134420000000000010170000000000   \n",
      "3239            3559.0      3680  134420000000000010171000000000   \n",
      "3240               NaN      2596  134420000000000010384000000000   \n",
      "\n",
      "           codigo_anterior         sig_creador  sig_ultima_edicion  \\\n",
      "0     13442160000010019000                                           \n",
      "1     13442160000040003000                                           \n",
      "2     13442160000040002000                                           \n",
      "3     13442160000040001000                                           \n",
      "4     13442160000010022000                                           \n",
      "...                    ...                 ...                 ...   \n",
      "3236                        CARLOS_CASTELLANOS  CARLOS_CASTELLANOS   \n",
      "3237                        CARLOS_CASTELLANOS  CARLOS_CASTELLANOS   \n",
      "3238                        CARLOS_CASTELLANOS  CARLOS_CASTELLANOS   \n",
      "3239                        CARLOS_CASTELLANOS  CARLOS_CASTELLANOS   \n",
      "3240                        CARLOS_CASTELLANOS  CARLOS_CASTELLANOS   \n",
      "\n",
      "     fecha_ultima_edicion                                globalid  \\\n",
      "0                     NaT                                           \n",
      "1                     NaT                                           \n",
      "2                     NaT                                           \n",
      "3                     NaT                                           \n",
      "4                     NaT                                           \n",
      "...                   ...                                     ...   \n",
      "3236  2024-05-29 17:42:55  {15F63B2C-8C85-485C-BB91-709AA2DA7B2D}   \n",
      "3237  2024-05-29 17:42:55  {E921E716-A4A2-4DA5-95A9-E190B93D1583}   \n",
      "3238  2024-05-29 17:42:55  {48581D55-4F52-4D51-92F6-E84065BBB0DE}   \n",
      "3239  2024-05-29 17:42:55  {5974B7BC-BF4C-47FD-BA04-F325C5753DC3}   \n",
      "3240  2024-05-29 17:42:55  {B09E7021-771B-41AF-A223-28F631525FA3}   \n",
      "\n",
      "      area_ha_cmt12                                              SHAPE  \n",
      "0          0.036668  {\"rings\": [[[4742823.4671, 2655377.7623999994]...  \n",
      "1          0.026718  {\"rings\": [[[4742947.8341, 2655649.7349999994]...  \n",
      "2           0.06336  {\"rings\": [[[4742947.8292, 2655649.7163999993]...  \n",
      "3          0.477773  {\"rings\": [[[4743018.4233, 2655765.4343], [474...  \n",
      "4          0.036889  {\"rings\": [[[4742912.7287, 2655746.034], [4742...  \n",
      "...             ...                                                ...  \n",
      "3236       0.015072  {\"rings\": [[[4753573.3063, 2670499.4113999996]...  \n",
      "3237       0.014826  {\"rings\": [[[4753568.8902, 2670493.1806000005]...  \n",
      "3238       0.017057  {\"rings\": [[[4753564.6186, 2670487.1535], [475...  \n",
      "3239       0.014727  {\"rings\": [[[4753559.4759, 2670479.897399999],...  \n",
      "3240       1.925103  {\"rings\": [[[4749681.6636, 2669893.954500001],...  \n",
      "\n",
      "[3161 rows x 19 columns]\n"
     ]
    },
    {
     "name": "stderr",
     "output_type": "stream",
     "text": [
      "C:\\docsInvestigacion\\Python\\Retos_Programacion\\zReporteRadicados\\funcion_Calculo_Rendimientos_IndicadorSheet.py:163: SettingWithCopyWarning: \n",
      "A value is trying to be set on a copy of a slice from a DataFrame.\n",
      "Try using .loc[row_indexer,col_indexer] = value instead\n",
      "\n",
      "See the caveats in the documentation: https://pandas.pydata.org/pandas-docs/stable/user_guide/indexing.html#returning-a-view-versus-a-copy\n",
      "  df_terrenos_reporteReconocimiento_conGeo['codigo_zona'] = df_terrenos_reporteReconocimiento_conGeo['CODIGO'].str[5:7]\n"
     ]
    },
    {
     "name": "stdout",
     "output_type": "stream",
     "text": [
      "Se exporta la capa Analitica_UT_Consolidada\\TERRENOS_VISITADOS_MARIA_LA_BAJA_INFORMAL a BD Consolidada\n",
      "Se exporta la capa Analitica_UT_Consolidada\\TERRENOS_VISITADOS_MARIA_LA_BAJA_FORMAL a BD Consolidada\n",
      "Se exporta la capa TERRENOS_VISITADOS_MARIA_LA_BAJA_INFORMAL a Local\n",
      "Se exporta la capa TERRENOS_VISITADOS_MARIA_LA_BAJA_FORMAL a Local\n",
      "Concluye la ejecución de la función\n"
     ]
    }
   ],
   "source": [
    "nMunicipio = 'MARIA_LA_BAJA' \n",
    "nSheet = 'MariaLaBaja'\n",
    "idSheet = '1NFiqkjT-MbdWlkE-QXGieYjE2wuVqmYZum2nIIQ7JUw'\n",
    "\n",
    "funcion_Calculo_Rendimientos_IndicadorSheet.calculo_rendimientos_indicadorSheet(nMunicipio, nSheet, idSheet)\n",
    "print(f\"Concluye la ejecución de la función\")"
   ]
  },
  {
   "cell_type": "code",
   "execution_count": 4,
   "metadata": {
    "execution": {
     "iopub.execute_input": "2024-07-18T13:42:49.222651Z",
     "iopub.status.busy": "2024-07-18T13:42:49.222651Z",
     "iopub.status.idle": "2024-07-18T13:42:50.399539Z",
     "shell.execute_reply": "2024-07-18T13:42:50.399539Z"
    }
   },
   "outputs": [
    {
     "name": "stdout",
     "output_type": "stream",
     "text": [
      "* Se completa el truncado de las tabla objetivo: TERRENOS_VISITADOS_INFORMAL\n",
      "* Se completa el truncado de las tabla objetivo: TERRENOS_VISITADOS_FORMAL\n",
      "1. Se completa el truncado de las tablas objetivo\n",
      "Se migran TERRENOS_VISITADOS_MARIA_LA_BAJA_INFORMAL a TERRENOS_VISITADOS_INFORMAL\n",
      "Se migran TERRENOS_VISITADOS_MARIA_LA_BAJA_FORMAL - TERRENOS_VISITADOS_REPELON_FORMAL a TERRENOS_VISITADOS_FORMAL\n",
      "2. Se completa la unificación de las tablas municipio\n"
     ]
    }
   ],
   "source": [
    "funcion_append_rendimientos_visitas_sheet.append_terrenos_visitas(bdResultados)"
   ]
  },
  {
   "cell_type": "code",
   "execution_count": 5,
   "metadata": {
    "execution": {
     "iopub.execute_input": "2024-07-18T13:42:50.399539Z",
     "iopub.status.busy": "2024-07-18T13:42:50.399539Z",
     "iopub.status.idle": "2024-07-18T13:43:16.522715Z",
     "shell.execute_reply": "2024-07-18T13:43:16.522715Z"
    }
   },
   "outputs": [
    {
     "name": "stdout",
     "output_type": "stream",
     "text": [
      "Nombre Layout: Seguimiento Indicadores [Ha] Visitadas Fuente Sheet X MPIO\n",
      "Se exporta a PDF Seguimiento Indicadores [Ha] Visitadas Fuente Sheet X MPIO\n"
     ]
    }
   ],
   "source": [
    "funcion_exportacion_pdf_seriemapas.exportacion_salida_grafica('Seguimiento Indicadores [Ha] Visitadas Fuente Sheet X MPIO', RUTA_SALIDA_GRAFICA)"
   ]
  },
  {
   "cell_type": "code",
   "execution_count": 6,
   "metadata": {
    "execution": {
     "iopub.execute_input": "2024-07-18T13:43:16.522715Z",
     "iopub.status.busy": "2024-07-18T13:43:16.522715Z",
     "iopub.status.idle": "2024-07-18T13:43:17.052441Z",
     "shell.execute_reply": "2024-07-18T13:43:17.052441Z"
    }
   },
   "outputs": [
    {
     "name": "stdout",
     "output_type": "stream",
     "text": [
      "Se copia 20240710_María La Baja.pdf a G:\\Mi unidad\\Equipo_Consolidacion\\Hitos\\E2_Informes_Id_FisicoJuridica\\2_2_7_Identificacion_Predial_Total_Ha_Visitadas\\Salidas_Graficas\n",
      "Se copia 20240710_Repelón.pdf a G:\\Mi unidad\\Equipo_Consolidacion\\Hitos\\E2_Informes_Id_FisicoJuridica\\2_2_7_Identificacion_Predial_Total_Ha_Visitadas\\Salidas_Graficas\n",
      "Se copia 20240712_María La Baja.pdf a G:\\Mi unidad\\Equipo_Consolidacion\\Hitos\\E2_Informes_Id_FisicoJuridica\\2_2_7_Identificacion_Predial_Total_Ha_Visitadas\\Salidas_Graficas\n",
      "Se copia 20240712_Repelón.pdf a G:\\Mi unidad\\Equipo_Consolidacion\\Hitos\\E2_Informes_Id_FisicoJuridica\\2_2_7_Identificacion_Predial_Total_Ha_Visitadas\\Salidas_Graficas\n",
      "Se copia 20240716_María La Baja.pdf a G:\\Mi unidad\\Equipo_Consolidacion\\Hitos\\E2_Informes_Id_FisicoJuridica\\2_2_7_Identificacion_Predial_Total_Ha_Visitadas\\Salidas_Graficas\n",
      "Se copia 20240716_Repelón.pdf a G:\\Mi unidad\\Equipo_Consolidacion\\Hitos\\E2_Informes_Id_FisicoJuridica\\2_2_7_Identificacion_Predial_Total_Ha_Visitadas\\Salidas_Graficas\n",
      "Se copia 20240717_María La Baja.pdf a G:\\Mi unidad\\Equipo_Consolidacion\\Hitos\\E2_Informes_Id_FisicoJuridica\\2_2_7_Identificacion_Predial_Total_Ha_Visitadas\\Salidas_Graficas\n",
      "Se copia 20240717_Repelón.pdf a G:\\Mi unidad\\Equipo_Consolidacion\\Hitos\\E2_Informes_Id_FisicoJuridica\\2_2_7_Identificacion_Predial_Total_Ha_Visitadas\\Salidas_Graficas\n",
      "Se copia 20240718_María La Baja.pdf a G:\\Mi unidad\\Equipo_Consolidacion\\Hitos\\E2_Informes_Id_FisicoJuridica\\2_2_7_Identificacion_Predial_Total_Ha_Visitadas\\Salidas_Graficas\n",
      "Se copia 20240718_Repelón.pdf a G:\\Mi unidad\\Equipo_Consolidacion\\Hitos\\E2_Informes_Id_FisicoJuridica\\2_2_7_Identificacion_Predial_Total_Ha_Visitadas\\Salidas_Graficas\n"
     ]
    }
   ],
   "source": [
    "archivos_origen = os.listdir(RUTA_ORIGEN)\n",
    "for archivo in archivos_origen:\n",
    "    shutil.copy(src=os.path.join(RUTA_ORIGEN, archivo),dst=os.path.join(RUTA_DESTINO, archivo))\n",
    "    print(f\"Se copia {archivo} a {RUTA_DESTINO}\")"
   ]
  }
 ],
 "metadata": {
  "kernelspec": {
   "display_name": "Python 3",
   "language": "python",
   "name": "python3"
  },
  "language_info": {
   "codemirror_mode": {
    "name": "ipython",
    "version": 3
   },
   "file_extension": ".py",
   "mimetype": "text/x-python",
   "name": "python",
   "nbconvert_exporter": "python",
   "pygments_lexer": "ipython3",
   "version": "3.11.8"
  }
 },
 "nbformat": 4,
 "nbformat_minor": 2
}
