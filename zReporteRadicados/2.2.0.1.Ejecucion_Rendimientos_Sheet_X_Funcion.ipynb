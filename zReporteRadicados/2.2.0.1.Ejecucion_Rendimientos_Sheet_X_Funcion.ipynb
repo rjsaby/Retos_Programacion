{
 "cells": [
  {
   "cell_type": "code",
   "execution_count": null,
   "metadata": {
    "execution": {
     "iopub.execute_input": "2024-09-05T13:56:00.859478Z",
     "iopub.status.busy": "2024-09-05T13:56:00.859478Z",
     "iopub.status.idle": "2024-09-05T13:56:06.586658Z",
     "shell.execute_reply": "2024-09-05T13:56:06.586658Z"
    }
   },
   "outputs": [],
   "source": [
    "import os\n",
    "import arcpy\n",
    "import shutil\n",
    "\n",
    "os.environ[\"CRYPTOGRAPHY_OPENSSL_NO_LEGACY\"] = \"yes\"\n",
    "\n",
    "import funcion_Calculo_Rendimientos_IndicadorSheet\n",
    "import funcion_append_rendimientos_visitas_sheet\n",
    "import funcion_exportacion_pdf_seriemapas"
   ]
  },
  {
   "cell_type": "code",
   "execution_count": null,
   "metadata": {
    "execution": {
     "iopub.execute_input": "2024-09-05T13:56:06.589665Z",
     "iopub.status.busy": "2024-09-05T13:56:06.589665Z",
     "iopub.status.idle": "2024-09-05T13:56:06.592958Z",
     "shell.execute_reply": "2024-09-05T13:56:06.592958Z"
    }
   },
   "outputs": [],
   "source": [
    "\n",
    "arcpy.env.overwriteOutput = True\n",
    "\n",
    "bdResultados = r\"C:\\docsProyectos\\5.RAISS\\2024.0.RAISS_Lote_4\\6.Hitos\\E2_Informes_Id_FisicoJuridica\\2_2_0_Identificacion_Predial_Total_Ha_Actualizadas\\Base_Datos\\2_2_0.gdb\"\n",
    "RUTA_SALIDA_GRAFICA = r'C:\\docsProyectos\\5.RAISS\\2024.0.RAISS_Lote_4\\6.Hitos\\E2_Informes_Id_FisicoJuridica\\2_2_7_Identificacion_Predial_Total_Ha_Visitadas\\Salidas_Graficas'\n",
    "\n",
    "# TODO: Copia de Salidas Gráficas\n",
    "RUTA_ORIGEN = r\"C:\\docsProyectos\\5.RAISS\\2024.0.RAISS_Lote_4\\6.Hitos\\E2_Informes_Id_FisicoJuridica\\2_2_7_Identificacion_Predial_Total_Ha_Visitadas\\Salidas_Graficas\"\n",
    "RUTA_DESTINO = r\"G:\\Mi unidad\\Equipo_Consolidacion\\Hitos\\E2_Informes_Id_FisicoJuridica\\2_2_7_Identificacion_Predial_Total_Ha_Visitadas\\Salidas_Graficas\"\n"
   ]
  },
  {
   "cell_type": "code",
   "execution_count": null,
   "metadata": {
    "execution": {
     "iopub.execute_input": "2024-09-05T13:56:06.595966Z",
     "iopub.status.busy": "2024-09-05T13:56:06.595966Z",
     "iopub.status.idle": "2024-09-05T13:56:34.044114Z",
     "shell.execute_reply": "2024-09-05T13:56:34.044114Z"
    }
   },
   "outputs": [],
   "source": [
    "\n",
    "nMunicipio = 'REPELON' \n",
    "nSheet = 'Repelon'\n",
    "idSheet = '1pOj3aUX3HxI3F92qt_NIFeYpmrAkffaP7-lgSPh5s9Y'\n",
    "\n",
    "funcion_Calculo_Rendimientos_IndicadorSheet.calculo_rendimientos_indicadorSheet(nMunicipio, nSheet, idSheet)\n",
    "print(f\"Concluye la ejecución de la función\")"
   ]
  },
  {
   "cell_type": "code",
   "execution_count": null,
   "metadata": {
    "execution": {
     "iopub.execute_input": "2024-09-05T13:56:34.047122Z",
     "iopub.status.busy": "2024-09-05T13:56:34.046120Z",
     "iopub.status.idle": "2024-09-05T13:57:10.911359Z",
     "shell.execute_reply": "2024-09-05T13:57:10.911359Z"
    }
   },
   "outputs": [],
   "source": [
    "\n",
    "nMunicipio = 'MARIA_LA_BAJA' \n",
    "nSheet = 'MariaLaBaja'\n",
    "idSheet = '1NFiqkjT-MbdWlkE-QXGieYjE2wuVqmYZum2nIIQ7JUw'\n",
    "\n",
    "funcion_Calculo_Rendimientos_IndicadorSheet.calculo_rendimientos_indicadorSheet(nMunicipio, nSheet, idSheet)\n",
    "print(f\"Concluye la ejecución de la función\")"
   ]
  },
  {
   "cell_type": "code",
   "execution_count": null,
   "metadata": {
    "execution": {
     "iopub.execute_input": "2024-09-05T13:57:10.913365Z",
     "iopub.status.busy": "2024-09-05T13:57:10.913365Z",
     "iopub.status.idle": "2024-09-05T13:57:23.656644Z",
     "shell.execute_reply": "2024-09-05T13:57:23.656644Z"
    }
   },
   "outputs": [],
   "source": [
    "nMunicipio = 'BARANOA' \n",
    "nSheet = 'Baranoa'\n",
    "idSheet = '1snzsxjRCZRbrEtBtBZ_ZHDQhkwihQGqNmEzqPtoJfg8'\n",
    "\n",
    "funcion_Calculo_Rendimientos_IndicadorSheet.calculo_rendimientos_indicadorSheet(nMunicipio, nSheet, idSheet)\n",
    "print(f\"Concluye la ejecución de la función\")"
   ]
  },
  {
   "cell_type": "code",
   "execution_count": null,
   "metadata": {
    "execution": {
     "iopub.execute_input": "2024-09-05T13:57:23.659654Z",
     "iopub.status.busy": "2024-09-05T13:57:23.659654Z",
     "iopub.status.idle": "2024-09-05T13:57:25.726006Z",
     "shell.execute_reply": "2024-09-05T13:57:25.724997Z"
    }
   },
   "outputs": [],
   "source": [
    "funcion_append_rendimientos_visitas_sheet.append_terrenos_visitas(bdResultados)"
   ]
  },
  {
   "cell_type": "code",
   "execution_count": null,
   "metadata": {
    "execution": {
     "iopub.execute_input": "2024-09-05T13:57:25.728004Z",
     "iopub.status.busy": "2024-09-05T13:57:25.728004Z",
     "iopub.status.idle": "2024-09-05T13:58:13.541237Z",
     "shell.execute_reply": "2024-09-05T13:58:13.541237Z"
    }
   },
   "outputs": [],
   "source": [
    "funcion_exportacion_pdf_seriemapas.exportacion_salida_grafica('Seguimiento Indicadores [Ha] Visitadas Fuente Sheet X MPIO', RUTA_SALIDA_GRAFICA)\n",
    "funcion_exportacion_pdf_seriemapas.exportacion_salida_grafica('Seguimiento Indicadores [Ha] Visitadas Fuente Sheet X UI', RUTA_SALIDA_GRAFICA)"
   ]
  },
  {
   "cell_type": "code",
   "execution_count": null,
   "metadata": {
    "execution": {
     "iopub.execute_input": "2024-09-05T13:58:13.544242Z",
     "iopub.status.busy": "2024-09-05T13:58:13.544242Z",
     "iopub.status.idle": "2024-09-05T13:58:31.688671Z",
     "shell.execute_reply": "2024-09-05T13:58:31.688671Z"
    }
   },
   "outputs": [],
   "source": [
    "archivos_origen = os.listdir(RUTA_ORIGEN)\n",
    "for archivo in archivos_origen:\n",
    "    shutil.copy(src=os.path.join(RUTA_ORIGEN, archivo),dst=os.path.join(RUTA_DESTINO, archivo))\n",
    "    print(f\"Se copia {archivo} a {RUTA_DESTINO}\")"
   ]
  }
 ],
 "metadata": {
  "kernelspec": {
   "display_name": "Python 3",
   "language": "python",
   "name": "python3"
  },
  "language_info": {
   "codemirror_mode": {
    "name": "ipython",
    "version": 3
   },
   "file_extension": ".py",
   "mimetype": "text/x-python",
   "name": "python",
   "nbconvert_exporter": "python",
   "pygments_lexer": "ipython3",
   "version": "3.11.8"
  }
 },
 "nbformat": 4,
 "nbformat_minor": 2
}
