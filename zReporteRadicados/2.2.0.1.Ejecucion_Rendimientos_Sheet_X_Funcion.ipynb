{
 "cells": [
  {
   "cell_type": "code",
   "execution_count": 1,
   "metadata": {
    "execution": {
     "iopub.execute_input": "2024-09-06T17:03:48.458726Z",
     "iopub.status.busy": "2024-09-06T17:03:48.458726Z",
     "iopub.status.idle": "2024-09-06T17:03:55.476516Z",
     "shell.execute_reply": "2024-09-06T17:03:55.476516Z"
    }
   },
   "outputs": [],
   "source": [
    "import os\n",
    "import arcpy\n",
    "import shutil\n",
    "\n",
    "os.environ[\"CRYPTOGRAPHY_OPENSSL_NO_LEGACY\"] = \"yes\"\n",
    "\n",
    "import funcion_Calculo_Rendimientos_IndicadorSheet\n",
    "import funcion_append_rendimientos_visitas_sheet\n",
    "import funcion_exportacion_pdf_seriemapas"
   ]
  },
  {
   "cell_type": "code",
   "execution_count": 2,
   "metadata": {
    "execution": {
     "iopub.execute_input": "2024-09-06T17:03:55.480521Z",
     "iopub.status.busy": "2024-09-06T17:03:55.479520Z",
     "iopub.status.idle": "2024-09-06T17:03:55.484143Z",
     "shell.execute_reply": "2024-09-06T17:03:55.484143Z"
    }
   },
   "outputs": [],
   "source": [
    "\n",
    "arcpy.env.overwriteOutput = True\n",
    "\n",
    "bdResultados = r\"C:\\docsProyectos\\5.RAISS\\2024.0.RAISS_Lote_4\\6.Hitos\\E2_Informes_Id_FisicoJuridica\\2_2_0_Identificacion_Predial_Total_Ha_Actualizadas\\Base_Datos\\2_2_0.gdb\"\n",
    "RUTA_SALIDA_GRAFICA = r'C:\\docsProyectos\\5.RAISS\\2024.0.RAISS_Lote_4\\6.Hitos\\E2_Informes_Id_FisicoJuridica\\2_2_7_Identificacion_Predial_Total_Ha_Visitadas\\Salidas_Graficas'\n",
    "\n",
    "# TODO: Copia de Salidas Gráficas\n",
    "RUTA_ORIGEN = r\"C:\\docsProyectos\\5.RAISS\\2024.0.RAISS_Lote_4\\6.Hitos\\E2_Informes_Id_FisicoJuridica\\2_2_7_Identificacion_Predial_Total_Ha_Visitadas\\Salidas_Graficas\"\n",
    "RUTA_DESTINO = r\"G:\\Mi unidad\\Equipo_Consolidacion\\Hitos\\E2_Informes_Id_FisicoJuridica\\2_2_7_Identificacion_Predial_Total_Ha_Visitadas\\Salidas_Graficas\"\n"
   ]
  },
  {
   "cell_type": "code",
   "execution_count": null,
   "metadata": {
    "execution": {
     "iopub.execute_input": "2024-09-06T17:03:55.487148Z",
     "iopub.status.busy": "2024-09-06T17:03:55.487148Z",
     "iopub.status.idle": "2024-09-06T17:04:31.119855Z",
     "shell.execute_reply": "2024-09-06T17:04:31.119855Z"
    }
   },
   "outputs": [],
   "source": [
    "\n",
    "nMunicipio = 'REPELON' \n",
    "nSheet = 'Repelon'\n",
    "idSheet = '1pOj3aUX3HxI3F92qt_NIFeYpmrAkffaP7-lgSPh5s9Y'\n",
    "\n",
    "funcion_Calculo_Rendimientos_IndicadorSheet.calculo_rendimientos_indicadorSheet(nMunicipio, nSheet, idSheet)\n",
    "print(f\"Concluye la ejecución de la función\")"
   ]
  },
  {
   "cell_type": "code",
   "execution_count": null,
   "metadata": {
    "execution": {
     "iopub.execute_input": "2024-09-06T17:04:31.122861Z",
     "iopub.status.busy": "2024-09-06T17:04:31.122861Z",
     "iopub.status.idle": "2024-09-06T17:05:24.981201Z",
     "shell.execute_reply": "2024-09-06T17:05:24.980195Z"
    }
   },
   "outputs": [],
   "source": [
    "\n",
    "nMunicipio = 'MARIA_LA_BAJA' \n",
    "nSheet = 'MariaLaBaja'\n",
    "idSheet = '1NFiqkjT-MbdWlkE-QXGieYjE2wuVqmYZum2nIIQ7JUw'\n",
    "\n",
    "funcion_Calculo_Rendimientos_IndicadorSheet.calculo_rendimientos_indicadorSheet(nMunicipio, nSheet, idSheet)\n",
    "print(f\"Concluye la ejecución de la función\")"
   ]
  },
  {
   "cell_type": "code",
   "execution_count": null,
   "metadata": {
    "execution": {
     "iopub.execute_input": "2024-09-06T17:05:24.984200Z",
     "iopub.status.busy": "2024-09-06T17:05:24.983200Z",
     "iopub.status.idle": "2024-09-06T17:05:42.861390Z",
     "shell.execute_reply": "2024-09-06T17:05:42.861390Z"
    }
   },
   "outputs": [],
   "source": [
    "nMunicipio = 'BARANOA' \n",
    "nSheet = 'Baranoa'\n",
    "idSheet = '1snzsxjRCZRbrEtBtBZ_ZHDQhkwihQGqNmEzqPtoJfg8'\n",
    "\n",
    "funcion_Calculo_Rendimientos_IndicadorSheet.calculo_rendimientos_indicadorSheet(nMunicipio, nSheet, idSheet)\n",
    "print(f\"Concluye la ejecución de la función\")"
   ]
  },
  {
   "cell_type": "code",
   "execution_count": null,
   "metadata": {
    "execution": {
     "iopub.execute_input": "2024-09-06T17:05:42.864395Z",
     "iopub.status.busy": "2024-09-06T17:05:42.864395Z",
     "iopub.status.idle": "2024-09-06T17:05:45.400340Z",
     "shell.execute_reply": "2024-09-06T17:05:45.399335Z"
    }
   },
   "outputs": [],
   "source": [
    "funcion_append_rendimientos_visitas_sheet.append_terrenos_visitas(bdResultados)"
   ]
  },
  {
   "cell_type": "code",
   "execution_count": null,
   "metadata": {
    "execution": {
     "iopub.execute_input": "2024-09-06T17:05:45.403340Z",
     "iopub.status.busy": "2024-09-06T17:05:45.402340Z",
     "iopub.status.idle": "2024-09-06T17:07:08.647301Z",
     "shell.execute_reply": "2024-09-06T17:07:08.647301Z"
    }
   },
   "outputs": [],
   "source": [
    "funcion_exportacion_pdf_seriemapas.exportacion_salida_grafica('Seguimiento Indicadores [Ha] Visitadas Fuente Sheet X MPIO', RUTA_SALIDA_GRAFICA)\n",
    "funcion_exportacion_pdf_seriemapas.exportacion_salida_grafica('Seguimiento Indicadores [Ha] Visitadas Fuente Sheet X UI', RUTA_SALIDA_GRAFICA)"
   ]
  },
  {
   "cell_type": "code",
   "execution_count": null,
   "metadata": {
    "execution": {
     "iopub.execute_input": "2024-09-06T17:07:08.651306Z",
     "iopub.status.busy": "2024-09-06T17:07:08.650306Z",
     "iopub.status.idle": "2024-09-06T17:07:13.494053Z",
     "shell.execute_reply": "2024-09-06T17:07:13.493047Z"
    }
   },
   "outputs": [],
   "source": [
    "archivos_origen = os.listdir(RUTA_ORIGEN)\n",
    "for archivo in archivos_origen:\n",
    "    shutil.copy(src=os.path.join(RUTA_ORIGEN, archivo),dst=os.path.join(RUTA_DESTINO, archivo))\n",
    "    print(f\"Se copia {archivo} a {RUTA_DESTINO}\")"
   ]
  }
 ],
 "metadata": {
  "kernelspec": {
   "display_name": "Python 3",
   "language": "python",
   "name": "python3"
  },
  "language_info": {
   "codemirror_mode": {
    "name": "ipython",
    "version": 3
   },
   "file_extension": ".py",
   "mimetype": "text/x-python",
   "name": "python",
   "nbconvert_exporter": "python",
   "pygments_lexer": "ipython3",
   "version": "3.11.8"
  }
 },
 "nbformat": 4,
 "nbformat_minor": 2
}
