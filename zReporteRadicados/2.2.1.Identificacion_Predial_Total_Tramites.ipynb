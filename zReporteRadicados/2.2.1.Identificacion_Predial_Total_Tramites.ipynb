{
 "cells": [
  {
   "cell_type": "code",
   "execution_count": 4,
   "metadata": {},
   "outputs": [
    {
     "data": {
      "text/plain": [
       "'\\n    Total Trámites, Total Radicados, Total Finalizados\\n'"
      ]
     },
     "execution_count": 4,
     "metadata": {},
     "output_type": "execute_result"
    }
   ],
   "source": [
    "\"\"\"\n",
    "    Total Trámites, Total Radicados, Total Finalizados\n",
    "\"\"\""
   ]
  },
  {
   "cell_type": "markdown",
   "metadata": {},
   "source": [
    "<h3>Importación Librerías</h3>"
   ]
  },
  {
   "cell_type": "code",
   "execution_count": 5,
   "metadata": {},
   "outputs": [],
   "source": [
    "import pandas as pd\n",
    "import os\n",
    "import seaborn as sns\n",
    "\n",
    "os.environ[\"CRYPTOGRAPHY_OPENSSL_NO_LEGACY\"] = \"yes\"\n",
    "\n",
    "# ? Se usa para generar gráficos\n",
    "import matplotlib.pyplot as plt\n",
    "\n",
    "# ? Se usa para determina la fecha de ejecución del proceso dentro del export de los resultados estadísticos\n",
    "from datetime import datetime\n",
    "\n",
    "# ? Conexión a BD Postgres. Se usa dado que pandas no acepta sino este paquete para la conexión.\n",
    "from sqlalchemy import create_engine, text\n",
    "\n",
    "from datetime import datetime\n",
    "\n",
    "from arcgis.features import GeoAccessor, GeoSeriesAccessor\n",
    "import arcpy\n",
    "\n",
    "from pathlib import Path\n",
    "\n",
    "# ** Librerías propias\n",
    "import funcion_dataframe_terrenos\n",
    "import funcion_SQL_a_DataFrame"
   ]
  },
  {
   "cell_type": "markdown",
   "metadata": {},
   "source": [
    "<h3>Parametrización de Variables</h3>"
   ]
  },
  {
   "cell_type": "code",
   "execution_count": 6,
   "metadata": {},
   "outputs": [],
   "source": [
    "consulta_tRadicados = \"\"\" \n",
    "select t1.municipio\n",
    "        ,t1.npn\n",
    "        ,t1.nro_ficha\n",
    "        ,t1.radicado\n",
    "        ,(case when t1.vr_nombre_proceso like 'Comple%%' then 'Actualización'\n",
    "            when t1.vr_nombre_proceso like 'Forma%%' then 'Actualización'\n",
    "            when t1.vr_nombre_proceso like 'Muta%%' then 'Conservación'\t\t\t\t\n",
    "            when t1.vr_nombre_proceso like 'Recti%%' then 'Conservación'\n",
    "            else t1.vr_nombre_proceso\n",
    "            end) \"Proceso\"\n",
    "        ,t1.vr_nombre_proceso\t\n",
    "        ,t1.estado_tramite\n",
    "        ,t1.actividad\n",
    "        ,t1.vr_estado_paso\n",
    "        ,t2.vr_proegn_est proceso_estado\n",
    "        ,t2.nb_step_idn\n",
    "        ,cast(t2.dt_adt_fchupd as date) dt_adt_fchupd\n",
    "        ,t2.vr_proegn_ori\n",
    "        ,cast(t1.fecha_radicado as date) fecha_radicado\n",
    "        ,t1.usuario\n",
    "        ,cast(t2.dt_adt_fchupd as date) fecha_actualizacion_tramite\n",
    "        ,t3.vr_proces_des\n",
    "        ,t6.vr_consec_nom\n",
    "        ,t6.vr_consec_des\n",
    "        ,t6.vr_consec_tip\n",
    "        ,t4.vr_step_est\n",
    "        --,t4.nb_task_idn\n",
    "        ,t5.vr_task_nom \n",
    "        ,t5.vr_task_tip\n",
    "        ,t5.vr_task_con\n",
    "        ,t5.vr_task_est \n",
    "        ,t7.vr_functy_des\n",
    "    from bpmcat.vw_rpt_tramites_en_proceso t1 \n",
    "    left join bpmcat.tb_bpm_egn_proegn t2 on t1.radicado = t2.vr_proegn_rad\n",
    "    left join bpmcat.tb_bpm_mdl_proces t3 on t2.nb_proces_idn = t3.nb_proces_idn \n",
    "    left join bpmcat.tb_fw_sec_consec t6 on t3.nb_consec_idn = t6.nb_consec_idn \n",
    "    left join bpmcat.tb_bpm_egn_step t4 on t2.nb_step_idn = t4.nb_step_idn\n",
    "    left join bpmcat.tb_bpm_mdl_task t5 on t4.nb_task_idn = t5.nb_task_idn\n",
    "    left join bpmcat.tb_fw_gui_functy t7 on t5.nb_functy_idn = t7.nb_functy_idn;\n",
    "\"\"\"\n",
    "\n",
    "consuta_tFinalizados = \"\"\"\n",
    "    select t1.municipio\n",
    "        ,t1.npn\n",
    "        ,t1.nro_ficha\n",
    "        ,t1.radicado\n",
    "        ,(case when t1.vr_nombre_proceso like 'Comple%%' then 'Actualización'\n",
    "            when t1.vr_nombre_proceso like 'Forma%%' then 'Actualización'\n",
    "            when t1.vr_nombre_proceso like 'Muta%%' then 'Conservación'\t\t\t\t\n",
    "            when t1.vr_nombre_proceso like 'Recti%%' then 'Conservación'\n",
    "            else t1.vr_nombre_proceso\n",
    "            end) \"Proceso\"\n",
    "        ,t1.vr_nombre_proceso\n",
    "        ,cast(t1.fecha_radicado as date) fecha_radicado\n",
    "        ,cast(t1.fecha_finalizacion as date) fecha_finalizacion\n",
    "        ,t1.resolucion\n",
    "        ,t1.fecha_resolucion\n",
    "        --,t1.nb_proegn_idn\n",
    "        ,t2.vr_proegn_est proceso_estado\n",
    "        --,t2.nb_step_idn\n",
    "        --,cast(t2.dt_adt_fchupd as date) dt_adt_fchupd\n",
    "        ,t2.vr_proegn_ori\n",
    "        --,t2.nb_proces_idn\n",
    "        --,t3.vr_proces_nom \n",
    "        ,t3.vr_proces_des\n",
    "        ,t6.vr_consec_nom\n",
    "        ,t6.vr_consec_des\n",
    "        ,t6.vr_consec_tip\n",
    "        ,t4.vr_step_est\n",
    "        --,t4.nb_task_idn\n",
    "        ,t5.vr_task_nom \n",
    "        ,t5.vr_task_tip\n",
    "        ,t5.vr_task_con\n",
    "        ,t5.vr_task_est \n",
    "        ,t7.vr_functy_des\t\n",
    "    from bpmcat.vw_rpt_tramites_finalizados t1\n",
    "    left join tb_bpm_egn_proegn t2 on t1.nb_proegn_idn = t2.nb_proegn_idn\n",
    "    left join tb_bpm_mdl_proces t3 on t2.nb_proces_idn = t3.nb_proces_idn \n",
    "    left join tb_fw_sec_consec t6 on t3.nb_consec_idn = t6.nb_consec_idn \n",
    "    left join tb_bpm_egn_step t4 on t2.nb_step_idn = t4.nb_step_idn\n",
    "    left join tb_bpm_mdl_task t5 on t4.nb_task_idn = t5.nb_task_idn\n",
    "    left join tb_fw_gui_functy t7 on t5.nb_functy_idn = t7.nb_functy_idn;\n",
    "\"\"\"\n",
    "\n",
    "columnas_estado = ['ATENDIENDO','PENDIENTE','DEVUELTO']\n",
    "\n",
    "nombre_procesos = ['Mutaciones de Cuarta Clase',\n",
    "    'Mutaciones de Primera Clase',\n",
    "    'Mutaciones de Quinta Clase',\n",
    "    'Mutaciones de Segunda Clase',\n",
    "    'Mutaciones de Tercera Clase',\n",
    "    'Rectificación de Cabida y Linderos 1101']\n",
    "\n",
    "modificacion_estado_proceso = {1:['Proceso cancelado por falta de documentos','Cancelado por falta de documentos']}\n",
    "\n",
    "XLSX_UNIFICADO = r\"C:\\docsProyectos\\5.RAISS\\2024.0.RAISS_Lote_4\\6.Hitos\\E2_Informes_Id_FisicoJuridica\\2_2_1_Identificacion_Predial_Total_Tramites\\2_2_1_Identificacion_Predial_Total_Tramites.xlsx\"\n",
    "\n",
    "RUTA_RAIZ = r\"C:\\docsProyectos\\5.RAISS\\2024.0.RAISS_Lote_4\\6.Hitos\\E2_Informes_Id_FisicoJuridica\\2_2_1_Identificacion_Predial_Total_Tramites\"\n",
    "NOMBRE_IND_2_2_1 = 'Seguimiento_Diario'\n",
    "\n",
    "fecha_actual = datetime.now()\n",
    "fecha_directorio = str(fecha_actual.strftime(\"%Y-%m-%d\"))"
   ]
  },
  {
   "cell_type": "markdown",
   "metadata": {},
   "source": [
    "<h3>Ejecución de Funciones</h3>"
   ]
  },
  {
   "cell_type": "code",
   "execution_count": 7,
   "metadata": {},
   "outputs": [
    {
     "name": "stdout",
     "output_type": "stream",
     "text": [
      "Inicio de la conexión\n",
      "Conexión exitosa ...\n",
      "Inicio de la conexión\n",
      "Conexión exitosa ...\n"
     ]
    }
   ],
   "source": [
    "df_consulta_radicados = funcion_SQL_a_DataFrame.sql_a_dataframe(consulta_tRadicados)\n",
    "df_consulta_finalizados = funcion_SQL_a_DataFrame.sql_a_dataframe(consuta_tFinalizados)"
   ]
  },
  {
   "cell_type": "markdown",
   "metadata": {},
   "source": [
    "<h3>Preparación Registros para Indicador General</h3>\n",
    "\n",
    "<ol>\n",
    "    <li>Total Trámites (Radicado\\Finalizado)\n",
    "    <li>Total Trámites (Radicado\\Finalizado) Por Municipio\n",
    "    <li>Total Trámites (Radicado\\Finalizado) Por Municipio y Proceso\n",
    "</ol>"
   ]
  },
  {
   "cell_type": "code",
   "execution_count": 8,
   "metadata": {},
   "outputs": [
    {
     "name": "stdout",
     "output_type": "stream",
     "text": [
      "1. El total de trámites generados a la fecha es de: 370 \n",
      "\n",
      "2. Por municipio, el total de trámites es el siguiente: \n",
      "        municipio  total_tramites\n",
      "0  MARÍA LA BAJA             151\n",
      "1        REPELÓN             130\n",
      "2        BARANOA              67\n",
      "3   SABANAGRANDE              22 \n",
      "\n",
      "3. Trámites Radicados y Cerrados por Municipio: \n",
      " tramite        Finalizado  Radicado  %_Avance\n",
      "municipio                                    \n",
      "BARANOA                 1        66      1.52\n",
      "MARÍA LA BAJA           6       145      4.14\n",
      "REPELÓN                 0       130      0.00\n",
      "SABANAGRANDE            0        22      0.00 \n",
      "\n"
     ]
    }
   ],
   "source": [
    "\n",
    "# TODO: Total Trámites (Radicado\\Finalizado)\n",
    "total_radicados = df_consulta_radicados.shape[0] + df_consulta_finalizados.shape[0]\n",
    "# ** De esta forma se almacena un numéro entero como un DF\n",
    "df_total_radicados = pd.DataFrame([[total_radicados]], columns=['Total Radicados'])\n",
    "print(f\"1. El total de trámites generados a la fecha es de: {total_radicados} \\n\")\n",
    "\n",
    "# TODO: Total Trámites (Radicado\\Finalizado) Por Municipio\n",
    "df_tramites_x_municipio = pd.DataFrame(pd.DataFrame(pd.concat([df_consulta_radicados['municipio'], df_consulta_finalizados['municipio']], ignore_index=True)).value_counts('municipio')).reset_index().rename(columns={'count':'total_tramites'})\n",
    "print(f\"2. Por municipio, el total de trámites es el siguiente: \\n {df_tramites_x_municipio} \\n\")\n",
    "\n",
    "# TODO: Total Trámites (Radicado\\Finalizado) Por Municipio y Proceso\n",
    "df_consulta_radicados['tramite'] = 'Radicado'\n",
    "df_consulta_finalizados['tramite'] = 'Finalizado'\n",
    "\n",
    "# ! Para la gráfica\n",
    "df_tramite_x_mun_x_proceso = pd.DataFrame(pd.concat([df_consulta_radicados[['municipio','tramite']], df_consulta_finalizados[['municipio','tramite']]], ignore_index=True).value_counts()).reset_index().rename(columns={'count':'total_tramites'})\n",
    "\n",
    "df_tramite_x_mun_x_proceso_pivote = df_tramite_x_mun_x_proceso.pivot(index='municipio', columns = 'tramite', values = 'total_tramites')\n",
    "\n",
    "columnas_proceso = ['Finalizado','Radicado']\n",
    "\n",
    "for columna in columnas_proceso:\n",
    "    if columna in df_tramite_x_mun_x_proceso_pivote.columns:\n",
    "        df_tramite_x_mun_x_proceso_pivote.loc[df_tramite_x_mun_x_proceso_pivote[columna].isnull(), columna] = 0\n",
    "        df_tramite_x_mun_x_proceso_pivote[columna] = df_tramite_x_mun_x_proceso_pivote[columna].astype(int)\n",
    "\n",
    "df_tramite_x_mun_x_proceso_pivote['%_Avance'] = ((df_tramite_x_mun_x_proceso_pivote['Finalizado']/df_tramite_x_mun_x_proceso_pivote['Radicado'])*100).round(2)\n",
    "\n",
    "# ! Para generación de Tabla\n",
    "print(f\"3. Trámites Radicados y Cerrados por Municipio: \\n {df_tramite_x_mun_x_proceso_pivote} \\n\")"
   ]
  },
  {
   "cell_type": "markdown",
   "metadata": {},
   "source": [
    "<h3>Preparación Registros para Indicador Detallado de Radicados</h3>"
   ]
  },
  {
   "cell_type": "code",
   "execution_count": 9,
   "metadata": {},
   "outputs": [
    {
     "name": "stdout",
     "output_type": "stream",
     "text": [
      "1.1 Dentro de los trámites radicados, por estado la relación es: \n",
      " Proceso        Actualización  Conservación\n",
      "municipio                                 \n",
      "BARANOA                    4            62\n",
      "MARÍA LA BAJA            109            36\n",
      "REPELÓN                  115            15\n",
      "SABANAGRANDE               2            20 \n",
      "\n",
      "1.2 Dentro de los trámites finalizados, por estado la relación es: \n",
      " Proceso        Conservación\n",
      "municipio                  \n",
      "BARANOA                   1\n",
      "MARÍA LA BAJA             6\n"
     ]
    }
   ],
   "source": [
    "\n",
    "# TODO: Total Radicados por Municipio y Proceso\n",
    "# ! Para gráfica\n",
    "df_consulta_radicados_proceso = df_consulta_radicados[['municipio','Proceso']].value_counts().reset_index().rename(columns={'count':'total_radicados'})\n",
    "\n",
    "# ! Para Tabla\n",
    "df_consulta_radicados_proceso_pivote = df_consulta_radicados_proceso.pivot(index=\"municipio\", columns=\"Proceso\", values=\"total_radicados\")\n",
    "print(f\"1.1 Dentro de los trámites radicados, por estado la relación es: \\n {df_consulta_radicados_proceso_pivote} \\n\")\n",
    "\n",
    "# TODO: Total Finalizados por Municipio y Proceso\n",
    "# ! Para gráfica\n",
    "df_consulta_finalizados_proceso = df_consulta_finalizados[['municipio','Proceso']].value_counts().reset_index().rename(columns={'count':'total_radicados'})\n",
    "\n",
    "# ! Para Tabla\n",
    "df_consulta_finalizados_proceso_pivote = df_consulta_finalizados_proceso.pivot(index=\"municipio\", columns=\"Proceso\", values=\"total_radicados\")\n",
    "print(f\"1.2 Dentro de los trámites finalizados, por estado la relación es: \\n {df_consulta_finalizados_proceso_pivote}\")"
   ]
  },
  {
   "cell_type": "markdown",
   "metadata": {},
   "source": [
    "<h3>Analítica sobre proceso de Conservación - Radicados</h3>\n",
    "<ol>\n",
    "    <li> Total de Trámites de Conservación por Estado\n",
    "    <li> Nombre de procesos detallado por estado de atención del trámite\n",
    "</ol>"
   ]
  },
  {
   "cell_type": "code",
   "execution_count": 10,
   "metadata": {},
   "outputs": [
    {
     "name": "stdout",
     "output_type": "stream",
     "text": [
      "1. Para el proceso de Conservación, se presentan la siguiente cantidad de trámites segun su estado: \n",
      " vr_estado_paso  ATENDIENDO  DEVUELTO\n",
      "municipio                           \n",
      "BARANOA                 58         4\n",
      "MARÍA LA BAJA           33         3\n",
      "REPELÓN                 13         2\n",
      "SABANAGRANDE            20         0 \n",
      "\n"
     ]
    },
    {
     "data": {
      "text/html": [
       "<div>\n",
       "<style scoped>\n",
       "    .dataframe tbody tr th:only-of-type {\n",
       "        vertical-align: middle;\n",
       "    }\n",
       "\n",
       "    .dataframe tbody tr th {\n",
       "        vertical-align: top;\n",
       "    }\n",
       "\n",
       "    .dataframe thead th {\n",
       "        text-align: right;\n",
       "    }\n",
       "</style>\n",
       "<table border=\"1\" class=\"dataframe\">\n",
       "  <thead>\n",
       "    <tr style=\"text-align: right;\">\n",
       "      <th>vr_nombre_proceso</th>\n",
       "      <th>Mutaciones de Primera Clase</th>\n",
       "      <th>Mutaciones de Segunda Clase</th>\n",
       "    </tr>\n",
       "    <tr>\n",
       "      <th>municipio</th>\n",
       "      <th></th>\n",
       "      <th></th>\n",
       "    </tr>\n",
       "  </thead>\n",
       "  <tbody>\n",
       "    <tr>\n",
       "      <th>BARANOA</th>\n",
       "      <td>2</td>\n",
       "      <td>2</td>\n",
       "    </tr>\n",
       "    <tr>\n",
       "      <th>MARÍA LA BAJA</th>\n",
       "      <td>2</td>\n",
       "      <td>1</td>\n",
       "    </tr>\n",
       "    <tr>\n",
       "      <th>REPELÓN</th>\n",
       "      <td>2</td>\n",
       "      <td>0</td>\n",
       "    </tr>\n",
       "  </tbody>\n",
       "</table>\n",
       "</div>"
      ],
      "text/plain": [
       "vr_nombre_proceso  Mutaciones de Primera Clase  Mutaciones de Segunda Clase\n",
       "municipio                                                                  \n",
       "BARANOA                                      2                            2\n",
       "MARÍA LA BAJA                                2                            1\n",
       "REPELÓN                                      2                            0"
      ]
     },
     "execution_count": 10,
     "metadata": {},
     "output_type": "execute_result"
    }
   ],
   "source": [
    "query_conservacion = \"Proceso == 'Conservación'\"\n",
    "\n",
    "# TODO: Total de Trámites de Conservación por Estado\n",
    "\n",
    "# ! Para Gráfica\n",
    "df_consulta_radicados_conservacion = df_consulta_radicados.query(query_conservacion)\n",
    "df_consulta_radicados_conservacion_estado = pd.DataFrame(df_consulta_radicados_conservacion[['municipio','vr_estado_paso']].value_counts()).reset_index().rename(columns={'count':'total_estado'})\n",
    "\n",
    "# ! Para Tabla\n",
    "df_consulta_radicados_conservacion_estado_pivote = df_consulta_radicados_conservacion_estado.pivot(index=\"municipio\", columns=\"vr_estado_paso\", values=\"total_estado\")\n",
    "\n",
    "for columna in columnas_estado:\n",
    "    if columna in df_consulta_radicados_conservacion_estado_pivote.columns:\n",
    "        df_consulta_radicados_conservacion_estado_pivote.loc[df_consulta_radicados_conservacion_estado_pivote[columna].isnull(), columna] = 0\n",
    "        df_consulta_radicados_conservacion_estado_pivote[columna] = df_consulta_radicados_conservacion_estado_pivote[columna].astype(int)\n",
    "\n",
    "print(f\"1. Para el proceso de Conservación, se presentan la siguiente cantidad de trámites segun su estado: \\n {df_consulta_radicados_conservacion_estado_pivote} \\n\")\n",
    "\n",
    "# TODO: 2. Nombre de procesos detallado por estado de atención del trámite\n",
    "dataframes = {}\n",
    "\n",
    "for estado in columnas_estado:\n",
    "    query_conservacion_estado = \"Proceso == 'Conservación' and vr_estado_paso == \"+\"'\"+estado+\"'\"\n",
    "    df = df_consulta_radicados.query(query_conservacion_estado)\n",
    "    dataframes[estado] = df\n",
    "\n",
    "# ** Se Asigna los dataframes del diccionario a variables individuales automáticamente\n",
    "for estado, df in dataframes.items():\n",
    "    globals()[f'df_{estado}'] = df\n",
    "    globals()[f'df_{estado}_Filtrado_Conservacion'] = pd.DataFrame(globals()[f'df_{estado}'][['municipio','vr_nombre_proceso']]).value_counts().reset_index().rename(columns={'count':'total'})\n",
    "    globals()[f'df_{estado}_Filtrado_Conservacion_Pivoteo'] = globals()[f'df_{estado}_Filtrado_Conservacion'].pivot(index=\"municipio\", columns=\"vr_nombre_proceso\", values=\"total\")\n",
    "    for columna in nombre_procesos:\n",
    "        if columna in globals()[f'df_{estado}_Filtrado_Conservacion_Pivoteo'].columns:\n",
    "            globals()[f'df_{estado}_Filtrado_Conservacion_Pivoteo'].loc[globals()[f'df_{estado}_Filtrado_Conservacion_Pivoteo'][columna].isnull(), columna] = 0\n",
    "            globals()[f'df_{estado}_Filtrado_Conservacion_Pivoteo'][columna] = globals()[f'df_{estado}_Filtrado_Conservacion_Pivoteo'][columna].astype(int)\n",
    "\n",
    "# ! Para Gráficas\n",
    "df_ATENDIENDO_Filtrado_Conservacion\n",
    "df_PENDIENTE_Filtrado_Conservacion\n",
    "df_DEVUELTO_Filtrado_Conservacion\n",
    "\n",
    "# ! Para Tablas\n",
    "df_ATENDIENDO_Filtrado_Conservacion_Pivoteo\n",
    "df_PENDIENTE_Filtrado_Conservacion_Pivoteo\n",
    "df_DEVUELTO_Filtrado_Conservacion_Pivoteo"
   ]
  },
  {
   "cell_type": "markdown",
   "metadata": {},
   "source": [
    "<h3>Analítica sobre proceso de Conservación - Finalizados</h3>\n",
    "<ol>\n",
    "    <li> Total Finalizado por Nombre de Proceso\n",
    "    <li> Finalizado Nombre Proceso Vs Motivo (Estado Tarea)\n",
    "</ol>"
   ]
  },
  {
   "cell_type": "code",
   "execution_count": 11,
   "metadata": {},
   "outputs": [
    {
     "name": "stdout",
     "output_type": "stream",
     "text": [
      "1. Total de Trámites Finalizados de Conservación por Nombre Proceso \n",
      " vr_nombre_proceso  Mutaciones de Quinta Clase  Mutaciones de Segunda Clase  \\\n",
      "municipio                                                                    \n",
      "BARANOA                                     0                            1   \n",
      "MARÍA LA BAJA                               4                            0   \n",
      "\n",
      "vr_nombre_proceso  Rectificación de Cabida y Linderos 1101  \n",
      "municipio                                                   \n",
      "BARANOA                                                  0  \n",
      "MARÍA LA BAJA                                            2   \n",
      "\n"
     ]
    }
   ],
   "source": [
    "query_conservacion = \"Proceso == 'Conservación'\"\n",
    "\n",
    "# TODO: 1. Total de Trámites Finalizados de Conservación por Nombre Proceso\n",
    "\n",
    "# ! Para Gráfica\n",
    "df_consulta_finalizados_conservacion = df_consulta_finalizados.query(query_conservacion)\n",
    "\n",
    "df_consulta_finalizados_conservacion_proceso = df_consulta_finalizados_conservacion[['municipio','vr_nombre_proceso']].value_counts().reset_index().rename(columns={'count':'total'})\n",
    "\n",
    "# ! Para Tabla\n",
    "df_consulta_finalizados_conservacion_proceso_pivote = df_consulta_finalizados_conservacion_proceso.pivot(index=\"municipio\", columns=\"vr_nombre_proceso\", values=\"total\")\n",
    "\n",
    "for columna in nombre_procesos:\n",
    "    if columna in df_consulta_finalizados_conservacion_proceso_pivote.columns:\n",
    "        df_consulta_finalizados_conservacion_proceso_pivote.loc[df_consulta_finalizados_conservacion_proceso_pivote[columna].isnull(), columna] = 0\n",
    "        df_consulta_finalizados_conservacion_proceso_pivote[columna] = df_consulta_finalizados_conservacion_proceso_pivote[columna].astype(int)\n",
    "\n",
    "print(f\"1. Total de Trámites Finalizados de Conservación por Nombre Proceso \\n {df_consulta_finalizados_conservacion_proceso_pivote} \\n\")\n",
    "\n",
    "# TODO: 2. Finalizado Nombre Proceso Vs Motivo (Estado Tarea)\n",
    "df_consulta_finalizados_conservacion_motivo = df_consulta_finalizados_conservacion[['municipio','vr_nombre_proceso','vr_task_est']].value_counts().reset_index().rename(columns={'count':'total'})\n",
    "\n",
    "for llave, valor in modificacion_estado_proceso.items():\n",
    "    df_consulta_finalizados_conservacion_motivo.loc[df_consulta_finalizados_conservacion_motivo['vr_task_est'] == valor[0], 'vr_task_est'] = valor[1]\n",
    "\n",
    "# ** Unifico dos columnas buscando generar una gráfica más indicadora\n",
    "df_consulta_finalizados_conservacion_motivo['municipio_nProceso'] = df_consulta_finalizados_conservacion_motivo['municipio'] + ' - ' + df_consulta_finalizados_conservacion_motivo['vr_nombre_proceso']"
   ]
  },
  {
   "cell_type": "code",
   "execution_count": 12,
   "metadata": {},
   "outputs": [
    {
     "data": {
      "image/png": "[encoded data removed]",
      "text/plain": [
       "<Figure size 1000x500 with 1 Axes>"
      ]
     },
     "metadata": {},
     "output_type": "display_data"
    }
   ],
   "source": [
    "modificacion_estado_proceso = {1:['Proceso cancelado por falta de documentos','Cancelado por falta de documentos']}\n",
    "\n",
    "# ** Aplicar tema a la salida gráfica y tipo de texto y tamaño del texto\n",
    "sns.set_theme(style='whitegrid', font='Tahoma', font_scale=1)\n",
    "\n",
    "# ** Configuración ejes horizontales en Matplotlib\n",
    "plt.rcParams['axes.axisbelow'] = True\n",
    "plt.rcParams['axes.edgecolor'] = 'gray'\n",
    "plt.rcParams['axes.linewidth'] = 0.8\n",
    "\n",
    "fig = plt.figure(figsize = (10, 5))\n",
    "\n",
    "ax = sns.barplot(data=df_consulta_finalizados_conservacion_motivo, x='municipio_nProceso', y='total', hue='vr_task_est', errorbar=None)\n",
    "\n",
    "# ** Se rota las etiquetas del eje x\n",
    "ax.set_xticklabels(ax.get_xticklabels(), rotation=90)\n",
    "\n",
    "# ** Se parametriza la leyenda \n",
    "ax.legend(title='Motivo Fin Trámite', loc='best')\n",
    "\n",
    "for container in ax.containers:\n",
    "    ax.bar_label(container, fmt='%d', label_type='edge', fontsize=10, color='black')\n",
    "\n",
    "# ** Titulos\n",
    "fig.suptitle('Motivo de la Finalización del Trámite', fontsize=18)\n",
    "ax.set_ylabel(\"Total Trámites\")\n",
    "ax.set_xlabel(\"Municipio - Nombre Proceso\")\n",
    "\n",
    "plt.show()"
   ]
  },
  {
   "cell_type": "markdown",
   "metadata": {},
   "source": [
    "<h3>Analítica sobre proceso de Actualización - Radicados</h3>\n",
    "<ol>\n",
    "    <li> Total de Trámites de Actualización por Estado\n",
    "    <li> Nombre de procesos detallado por estado de atención del trámite\n",
    "</ol>"
   ]
  },
  {
   "cell_type": "code",
   "execution_count": 13,
   "metadata": {},
   "outputs": [
    {
     "name": "stdout",
     "output_type": "stream",
     "text": [
      "1. Para el proceso de Actualización, se presentan la siguiente cantidad de trámites segun su estado: \n",
      " vr_estado_paso  ATENDIENDO  DEVUELTO\n",
      "municipio                           \n",
      "BARANOA                  4         0\n",
      "MARÍA LA BAJA          105         4\n",
      "REPELÓN                112         3\n",
      "SABANAGRANDE             2         0 \n",
      "\n"
     ]
    },
    {
     "data": {
      "text/html": [
       "<div>\n",
       "<style scoped>\n",
       "    .dataframe tbody tr th:only-of-type {\n",
       "        vertical-align: middle;\n",
       "    }\n",
       "\n",
       "    .dataframe tbody tr th {\n",
       "        vertical-align: top;\n",
       "    }\n",
       "\n",
       "    .dataframe thead th {\n",
       "        text-align: right;\n",
       "    }\n",
       "</style>\n",
       "<table border=\"1\" class=\"dataframe\">\n",
       "  <thead>\n",
       "    <tr style=\"text-align: right;\">\n",
       "      <th>vr_nombre_proceso</th>\n",
       "      <th>Formación y Actualización</th>\n",
       "    </tr>\n",
       "    <tr>\n",
       "      <th>municipio</th>\n",
       "      <th></th>\n",
       "    </tr>\n",
       "  </thead>\n",
       "  <tbody>\n",
       "    <tr>\n",
       "      <th>MARÍA LA BAJA</th>\n",
       "      <td>4</td>\n",
       "    </tr>\n",
       "    <tr>\n",
       "      <th>REPELÓN</th>\n",
       "      <td>3</td>\n",
       "    </tr>\n",
       "  </tbody>\n",
       "</table>\n",
       "</div>"
      ],
      "text/plain": [
       "vr_nombre_proceso  Formación y Actualización\n",
       "municipio                                   \n",
       "MARÍA LA BAJA                              4\n",
       "REPELÓN                                    3"
      ]
     },
     "execution_count": 13,
     "metadata": {},
     "output_type": "execute_result"
    }
   ],
   "source": [
    "query_actualizacion = \"Proceso == 'Actualización'\"\n",
    "\n",
    "# TODO: Total de Trámites de Actualización por Estado\n",
    "\n",
    "# ! Para Gráfica\n",
    "df_consulta_radicados_actualizacion = df_consulta_radicados.query(query_actualizacion)\n",
    "df_consulta_radicados_actualizacion_estado = pd.DataFrame(df_consulta_radicados_actualizacion[['municipio','vr_estado_paso']].value_counts()).reset_index().rename(columns={'count':'total_estado'})\n",
    "\n",
    "# ! Para Tabla\n",
    "df_consulta_radicados_actualizacion_estado_pivote = df_consulta_radicados_actualizacion_estado.pivot(index=\"municipio\", columns=\"vr_estado_paso\", values=\"total_estado\")\n",
    "\n",
    "for columna in columnas_estado:\n",
    "    if columna in df_consulta_radicados_actualizacion_estado_pivote.columns:\n",
    "        df_consulta_radicados_actualizacion_estado_pivote.loc[df_consulta_radicados_actualizacion_estado_pivote[columna].isnull(), columna] = 0\n",
    "        df_consulta_radicados_actualizacion_estado_pivote[columna] = df_consulta_radicados_actualizacion_estado_pivote[columna].astype(int)\n",
    "\n",
    "print(f\"1. Para el proceso de Actualización, se presentan la siguiente cantidad de trámites segun su estado: \\n {df_consulta_radicados_actualizacion_estado_pivote} \\n\")\n",
    "\n",
    "# TODO: 2. Nombre de procesos detallado por estado de atención del trámite\n",
    "dataframes = {}\n",
    "\n",
    "for estado in columnas_estado:\n",
    "    query_actualizacion_estado = \"Proceso == 'Actualización' and vr_estado_paso == \"+\"'\"+estado+\"'\"\n",
    "    df = df_consulta_radicados.query(query_actualizacion_estado)\n",
    "    dataframes[estado] = df\n",
    "\n",
    "# ** Se Asigna los dataframes del diccionario a variables individuales automáticamente\n",
    "for estado, df in dataframes.items():\n",
    "    globals()[f'df_{estado}'] = df\n",
    "    globals()[f'df_{estado}_Filtrado_Actualizacion'] = pd.DataFrame(globals()[f'df_{estado}'][['municipio','vr_nombre_proceso']]).value_counts().reset_index().rename(columns={'count':'total'})\n",
    "    globals()[f'df_{estado}_Filtrado_Actualizacion_Pivoteo'] = globals()[f'df_{estado}_Filtrado_Actualizacion'].pivot(index=\"municipio\", columns=\"vr_nombre_proceso\", values=\"total\")\n",
    "    for columna in nombre_procesos:\n",
    "        if columna in globals()[f'df_{estado}_Filtrado_Actualizacion_Pivoteo'].columns:\n",
    "            globals()[f'df_{estado}_Filtrado_Actualizacion_Pivoteo'].loc[globals()[f'df_{estado}_Filtrado_Actualizacion_Pivoteo'][columna].isnull(), columna] = 0\n",
    "            globals()[f'df_{estado}_Filtrado_Actualizacion_Pivoteo'][columna] = globals()[f'df_{estado}_Filtrado_Actualizacion_Pivoteo'][columna].astype(int)\n",
    "\n",
    "# ! Para Gráficas\n",
    "df_ATENDIENDO_Filtrado_Actualizacion\n",
    "df_PENDIENTE_Filtrado_Actualizacion\n",
    "df_DEVUELTO_Filtrado_Actualizacion\n",
    "\n",
    "# ! Para Tablas\n",
    "df_ATENDIENDO_Filtrado_Actualizacion_Pivoteo\n",
    "df_PENDIENTE_Filtrado_Actualizacion_Pivoteo\n",
    "df_DEVUELTO_Filtrado_Actualizacion_Pivoteo"
   ]
  },
  {
   "cell_type": "markdown",
   "metadata": {},
   "source": [
    "<h3>Analítica sobre proceso de Actualización - Finalizados</h3>\n",
    "<ol>\n",
    "    <li> Total Finalizado por Nombre de Proceso\n",
    "    <li> Finalizado Nombre Proceso Vs Motivo (Estado Tarea)\n",
    "</ol>"
   ]
  },
  {
   "cell_type": "code",
   "execution_count": 14,
   "metadata": {},
   "outputs": [
    {
     "name": "stdout",
     "output_type": "stream",
     "text": [
      "1. Total de Trámites de Actualización Finalizados por Nombre Proceso \n",
      " Empty DataFrame\n",
      "Columns: []\n",
      "Index: [] \n",
      "\n"
     ]
    }
   ],
   "source": [
    "query_actualizacion = \"Proceso == 'Actualización'\"\n",
    "\n",
    "# TODO: 1. Total de Trámites de Actualización por Nombre Proceso\n",
    "\n",
    "# ! Para Gráfica\n",
    "df_consulta_finalizados_actualizacion = df_consulta_finalizados.query(query_actualizacion)\n",
    "\n",
    "df_consulta_finalizados_actualizacion_proceso = df_consulta_finalizados_actualizacion[['municipio','vr_nombre_proceso']].value_counts().reset_index().rename(columns={'count':'total'})\n",
    "\n",
    "# ! Para Tabla\n",
    "df_consulta_finalizados_actualizacion_proceso_pivote = df_consulta_finalizados_actualizacion_proceso.pivot(index=\"municipio\", columns=\"vr_nombre_proceso\", values=\"total\")\n",
    "\n",
    "for columna in nombre_procesos:\n",
    "    if columna in df_consulta_finalizados_actualizacion_proceso_pivote.columns:\n",
    "        df_consulta_finalizados_actualizacion_proceso_pivote.loc[df_consulta_finalizados_actualizacion_proceso_pivote[columna].isnull(), columna] = 0\n",
    "        df_consulta_finalizados_actualizacion_proceso_pivote[columna] = df_consulta_finalizados_actualizacion_proceso_pivote[columna].astype(int)\n",
    "\n",
    "print(f\"1. Total de Trámites de Actualización Finalizados por Nombre Proceso \\n {df_consulta_finalizados_actualizacion_proceso_pivote} \\n\")\n",
    "\n",
    "# TODO: 2. Finalizado Nombre Proceso Vs Motivo (Estado Tarea)\n",
    "df_consulta_finalizados_actualizacion_motivo = df_consulta_finalizados_actualizacion[['municipio','vr_nombre_proceso','vr_task_est']].value_counts().reset_index().rename(columns={'count':'total'})\n",
    "\n",
    "for llave, valor in modificacion_estado_proceso.items():\n",
    "    df_consulta_finalizados_actualizacion_motivo.loc[df_consulta_finalizados_actualizacion_motivo['vr_task_est'] == valor[0], 'vr_task_est'] = valor[1]\n",
    "\n",
    "# ** Unifico dos columnas buscando generar una gráfica más indicadora\n",
    "df_consulta_finalizados_actualizacion_motivo['municipio_nProceso'] = df_consulta_finalizados_actualizacion_motivo['municipio'] + ' - ' + df_consulta_finalizados_actualizacion_motivo['vr_nombre_proceso']"
   ]
  },
  {
   "cell_type": "markdown",
   "metadata": {},
   "source": [
    "<h3>Generación de XLSX Unificado</h3>"
   ]
  },
  {
   "cell_type": "code",
   "execution_count": 15,
   "metadata": {},
   "outputs": [
    {
     "name": "stdout",
     "output_type": "stream",
     "text": [
      "Dataframes guardados en C:\\docsProyectos\\5.RAISS\\2024.0.RAISS_Lote_4\\6.Hitos\\E2_Informes_Id_FisicoJuridica\\2_2_1_Identificacion_Predial_Total_Tramites\\2_2_1_Identificacion_Predial_Total_Tramites.xlsx\n"
     ]
    }
   ],
   "source": [
    "\n",
    "# ** Usar ExcelWriter para guardar múltiples dataframes en diferentes hojas\n",
    "with pd.ExcelWriter(XLSX_UNIFICADO, engine='xlsxwriter') as writer:\n",
    "    df_total_radicados.to_excel(writer, sheet_name='1_TotalRadicados', index=False)\n",
    "    df_tramites_x_municipio.to_excel(writer, sheet_name='2_TramitesXMunicipio', index=False)\n",
    "    df_tramite_x_mun_x_proceso_pivote.to_excel(writer, sheet_name='3_TramiteXMunXVigencia', index=True)\n",
    "    df_consulta_radicados_proceso_pivote.to_excel(writer, sheet_name='6_TRadicadoXMunXProceso', index=True)\n",
    "    df_consulta_finalizados_proceso_pivote.to_excel(writer, sheet_name='7_TFinalizadoXMunXProceso', index=True)\n",
    "    df_consulta_radicados_conservacion_estado_pivote.to_excel(writer, sheet_name='8_TConsXMunXEstado', index=True)\n",
    "    df_ATENDIENDO_Filtrado_Conservacion_Pivoteo.to_excel(writer, sheet_name='9_1_TConsXMunXEAtendiendo', index=True)\n",
    "    df_PENDIENTE_Filtrado_Conservacion_Pivoteo.to_excel(writer, sheet_name='9_2_TConsXMunXEPendiente', index=True)\n",
    "    df_DEVUELTO_Filtrado_Conservacion_Pivoteo.to_excel(writer, sheet_name='9_3_TConsXMunXEDevuelto', index=True)\n",
    "    df_consulta_finalizados_conservacion_proceso_pivote.to_excel(writer, sheet_name='10_TConserXMunXProDetallado', index=True)\n",
    "    df_consulta_radicados_actualizacion_estado_pivote.to_excel(writer, sheet_name='12_TActualizacionXMunXEstado', index=True)\n",
    "    df_ATENDIENDO_Filtrado_Actualizacion_Pivoteo.to_excel(writer, sheet_name='13_1_TConXMunXEAtendiendo', index=True)\n",
    "    df_PENDIENTE_Filtrado_Actualizacion_Pivoteo.to_excel(writer, sheet_name='13_2_TConXMunXEPendiente', index=True)\n",
    "    df_DEVUELTO_Filtrado_Actualizacion_Pivoteo.to_excel(writer, sheet_name='13_3_TConsXMunXEDevuelto', index=True)\n",
    "    df_consulta_finalizados_actualizacion_proceso_pivote.to_excel(writer, sheet_name='14_TActuXMunXProcDetallado', index=True)\n",
    "\n",
    "print(f'Dataframes guardados en {XLSX_UNIFICADO}')"
   ]
  },
  {
   "cell_type": "code",
   "execution_count": 16,
   "metadata": {},
   "outputs": [
    {
     "name": "stdout",
     "output_type": "stream",
     "text": [
      "Se genera XLSX de DF 1_TotalRadicados.xlsx\n",
      "Se genera XLSX de DF 2_TramitesXMunicipio.xlsx\n",
      "Se genera XLSX de DF 3_TramiteXMunXVigencia.xlsx\n",
      "Se genera XLSX de DF 6_TRadicadoXMunXProceso.xlsx\n",
      "Se genera XLSX de DF 7_TFinalizadoXMunXProceso.xlsx\n",
      "Se genera XLSX de DF 8_TConservacionXMunXEstado.xlsx\n",
      "Se genera XLSX de DF 9_1_TConsXMunXEAtendiendo.xlsx\n",
      "Se genera XLSX de DF 9_2_TConsXMunXEPendiente.xlsx\n",
      "Se genera XLSX de DF 9_3_TConsXMunXEDevuelto.xlsx\n",
      "Se genera XLSX de DF 10_TConserXMunXProDetallado.xlsx\n",
      "Se genera XLSX de DF 12_TActualizacionXMunXEstado.xlsx\n",
      "Se genera XLSX de DF 13_1_TConXMunXEAtendiendo.xlsx\n",
      "Se genera XLSX de DF 13_2_TConXMunXEPendiente.xlsx\n",
      "Se genera XLSX de DF 13_3_TConsXMunXEDevuelto.xlsx\n",
      "Se genera XLSX de DF 14_TActuXMunXProcDetallado.xlsx\n"
     ]
    }
   ],
   "source": [
    "\n",
    "dir_directorio_salidas_xlsx = {1:[df_total_radicados,'1_TotalRadicados.xlsx','1_TotalRadicados'],\n",
    "    2:[df_tramites_x_municipio,'2_TramitesXMunicipio.xlsx','2_TramitesXMunicipio'],\n",
    "    3:[df_tramite_x_mun_x_proceso_pivote,'3_TramiteXMunXVigencia.xlsx','3_TramiteXMunXVigencia'],\n",
    "    4:[df_consulta_radicados_proceso_pivote,'6_TRadicadoXMunXProceso.xlsx','6_TRadicadoXMunXProceso'],\n",
    "    5:[df_consulta_finalizados_proceso_pivote,'7_TFinalizadoXMunXProceso.xlsx','7_TFinalizadoXMunXProceso'],\n",
    "    6:[df_consulta_radicados_conservacion_estado_pivote,'8_TConservacionXMunXEstado.xlsx','8_TConservacionXMunXEstado'],\n",
    "    7:[df_ATENDIENDO_Filtrado_Conservacion_Pivoteo,'9_1_TConsXMunXEAtendiendo.xlsx','9_1_TConsXMunXEAtendiendo'],\n",
    "    8:[df_PENDIENTE_Filtrado_Conservacion_Pivoteo,'9_2_TConsXMunXEPendiente.xlsx','9_2_TConsXMunXEPendiente'],\n",
    "    9:[df_DEVUELTO_Filtrado_Conservacion_Pivoteo,'9_3_TConsXMunXEDevuelto.xlsx','9_3_TConsXMunXEDevuelto'],\n",
    "    10:[df_consulta_finalizados_conservacion_proceso_pivote,'10_TConserXMunXProDetallado.xlsx','10_TConserXMunXProDetallado'],\n",
    "    11:[df_consulta_radicados_actualizacion_estado_pivote,'12_TActualizacionXMunXEstado.xlsx','12_TActualizacionXMunXEstado'],\n",
    "    12:[df_ATENDIENDO_Filtrado_Actualizacion_Pivoteo,'13_1_TConXMunXEAtendiendo.xlsx','13_1_TConXMunXEAtendiendo'],\n",
    "    13:[df_PENDIENTE_Filtrado_Actualizacion_Pivoteo,'13_2_TConXMunXEPendiente.xlsx','13_2_TConXMunXEPendiente'],\n",
    "    14:[df_DEVUELTO_Filtrado_Actualizacion_Pivoteo,'13_3_TConsXMunXEDevuelto.xlsx','13_3_TConsXMunXEDevuelto'],\n",
    "    15:[df_consulta_finalizados_actualizacion_proceso_pivote,'14_TActuXMunXProcDetallado.xlsx','14_TActuXMunXProcDetallado']\n",
    "    }\n",
    "\n",
    "if os.path.exists(os.path.join(RUTA_RAIZ, NOMBRE_IND_2_2_1, fecha_directorio)):\n",
    "    for llave, valor in dir_directorio_salidas_xlsx.items():\n",
    "        valor[0].to_excel(os.path.join(RUTA_RAIZ, NOMBRE_IND_2_2_1, fecha_directorio,valor[1]), sheet_name=valor[2])\n",
    "        print(f\"Se genera XLSX de DF {valor[1]}\")\n",
    "else:\n",
    "    os.mkdir(os.path.join(RUTA_RAIZ, NOMBRE_IND_2_2_1, fecha_directorio))\n",
    "    for llave, valor in dir_directorio_salidas_xlsx.items():\n",
    "        valor[0].to_excel(os.path.join(RUTA_RAIZ, NOMBRE_IND_2_2_1, fecha_directorio,valor[1]), sheet_name=valor[2])\n",
    "        print(f\"Se genera XLSX de DF {valor[1]}\")"
   ]
  }
 ],
 "metadata": {
  "kernelspec": {
   "display_name": "Python 3",
   "language": "python",
   "name": "python3"
  },
  "language_info": {
   "codemirror_mode": {
    "name": "ipython",
    "version": 3
   },
   "file_extension": ".py",
   "mimetype": "text/x-python",
   "name": "python",
   "nbconvert_exporter": "python",
   "pygments_lexer": "ipython3",
   "version": "3.11.8"
  }
 },
 "nbformat": 4,
 "nbformat_minor": 2
}
