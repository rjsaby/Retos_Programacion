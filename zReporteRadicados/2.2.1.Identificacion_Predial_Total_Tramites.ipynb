{
 "cells": [
  {
   "cell_type": "code",
   "execution_count": 1,
   "metadata": {
    "execution": {
<<<<<<< HEAD
     "iopub.execute_input": "2024-09-05T13:59:19.325076Z",
     "iopub.status.busy": "2024-09-05T13:59:19.324074Z",
     "iopub.status.idle": "2024-09-05T13:59:19.334091Z",
     "shell.execute_reply": "2024-09-05T13:59:19.334091Z"
=======
     "iopub.execute_input": "2024-07-18T15:13:06.925816Z",
     "iopub.status.busy": "2024-07-18T15:13:06.925816Z",
     "iopub.status.idle": "2024-07-18T15:13:06.933845Z",
     "shell.execute_reply": "2024-07-18T15:13:06.933845Z"
>>>>>>> 1de0162e9ad4e7a9df62aadbca46c2194b3914e9
    }
   },
   "outputs": [
    {
     "data": {
      "text/plain": [
       "'\\n    Total Trámites, Total Radicados, Total Finalizados\\n'"
      ]
     },
     "execution_count": 1,
     "metadata": {},
     "output_type": "execute_result"
    }
   ],
   "source": [
    "\"\"\"\n",
    "    Total Trámites, Total Radicados, Total Finalizados\n",
    "\"\"\""
   ]
  },
  {
   "cell_type": "markdown",
   "metadata": {},
   "source": [
    "<h3>Importación Librerías</h3>"
   ]
  },
  {
   "cell_type": "code",
   "execution_count": 2,
   "metadata": {
    "execution": {
<<<<<<< HEAD
     "iopub.execute_input": "2024-09-05T13:59:19.372098Z",
     "iopub.status.busy": "2024-09-05T13:59:19.372098Z",
     "iopub.status.idle": "2024-09-05T13:59:25.282166Z",
     "shell.execute_reply": "2024-09-05T13:59:25.282166Z"
=======
     "iopub.execute_input": "2024-07-18T15:13:06.940077Z",
     "iopub.status.busy": "2024-07-18T15:13:06.940077Z",
     "iopub.status.idle": "2024-07-18T15:13:10.796887Z",
     "shell.execute_reply": "2024-07-18T15:13:10.796887Z"
>>>>>>> 1de0162e9ad4e7a9df62aadbca46c2194b3914e9
    }
   },
   "outputs": [],
   "source": [
    "import pandas as pd\n",
    "import os\n",
    "import seaborn as sns\n",
    "\n",
    "os.environ[\"CRYPTOGRAPHY_OPENSSL_NO_LEGACY\"] = \"yes\"\n",
    "\n",
    "# ? Se usa para generar gráficos\n",
    "import matplotlib.pyplot as plt\n",
    "\n",
    "# ? Se usa para determina la fecha de ejecución del proceso dentro del export de los resultados estadísticos\n",
    "from datetime import datetime\n",
    "\n",
    "# ? Conexión a BD Postgres. Se usa dado que pandas no acepta sino este paquete para la conexión.\n",
    "from sqlalchemy import create_engine, text\n",
    "\n",
    "from datetime import datetime as dt\n",
    "\n",
    "from arcgis.features import GeoAccessor, GeoSeriesAccessor\n",
    "import arcpy\n",
    "\n",
    "from pathlib import Path\n",
    "\n",
    "# ** Librerías propias\n",
    "import funcion_parametrizacion_variables\n",
    "import funcion_SQL_a_DataFrame"
   ]
  },
  {
   "cell_type": "markdown",
   "metadata": {},
   "source": [
    "<h3>Ejecución de Función de Variables</h3>"
   ]
  },
  {
   "cell_type": "code",
   "execution_count": 3,
   "metadata": {
    "execution": {
<<<<<<< HEAD
     "iopub.execute_input": "2024-09-05T13:59:25.285173Z",
     "iopub.status.busy": "2024-09-05T13:59:25.285173Z",
     "iopub.status.idle": "2024-09-05T13:59:25.288461Z",
     "shell.execute_reply": "2024-09-05T13:59:25.288461Z"
=======
     "iopub.execute_input": "2024-07-18T15:13:10.796887Z",
     "iopub.status.busy": "2024-07-18T15:13:10.796887Z",
     "iopub.status.idle": "2024-07-18T15:13:10.801803Z",
     "shell.execute_reply": "2024-07-18T15:13:10.801803Z"
>>>>>>> 1de0162e9ad4e7a9df62aadbca46c2194b3914e9
    }
   },
   "outputs": [],
   "source": [
    "resultado = funcion_parametrizacion_variables.parametrizacion_variables()\n",
    "consulta_tRadicados = resultado[0]\n",
    "consuta_tFinalizados = resultado[1]\n",
    "nombre_procesos = resultado[8]"
   ]
  },
  {
   "cell_type": "markdown",
   "metadata": {},
   "source": [
    "<h3>Parametrización de Variables</h3>"
   ]
  },
  {
   "cell_type": "code",
   "execution_count": 4,
   "metadata": {
    "execution": {
<<<<<<< HEAD
     "iopub.execute_input": "2024-09-05T13:59:25.290468Z",
     "iopub.status.busy": "2024-09-05T13:59:25.290468Z",
     "iopub.status.idle": "2024-09-05T13:59:25.294435Z",
     "shell.execute_reply": "2024-09-05T13:59:25.294435Z"
=======
     "iopub.execute_input": "2024-07-18T15:13:10.801803Z",
     "iopub.status.busy": "2024-07-18T15:13:10.801803Z",
     "iopub.status.idle": "2024-07-18T15:13:10.806009Z",
     "shell.execute_reply": "2024-07-18T15:13:10.806009Z"
>>>>>>> 1de0162e9ad4e7a9df62aadbca46c2194b3914e9
    }
   },
   "outputs": [],
   "source": [
    "consulta_tRadicados = consulta_tRadicados\n",
    "consuta_tFinalizados = consuta_tFinalizados\n",
    "\n",
    "columnas_estado = ['ATENDIENDO','PENDIENTE','DEVUELTO']\n",
    "\n",
    "nombre_procesos = nombre_procesos\n",
    "\n",
    "modificacion_estado_proceso = {1:['Proceso cancelado por falta de documentos','Cancelado por falta de documentos']}\n",
    "\n",
    "XLSX_UNIFICADO = r\"C:\\docsProyectos\\5.RAISS\\2024.0.RAISS_Lote_4\\6.Hitos\\E2_Informes_Id_FisicoJuridica\\2_2_1_Identificacion_Predial_Total_Tramites\\2_2_1_Identificacion_Predial_Total_Tramites.xlsx\"\n",
    "\n",
    "RUTA_RAIZ = r\"C:\\docsProyectos\\5.RAISS\\2024.0.RAISS_Lote_4\\6.Hitos\\E2_Informes_Id_FisicoJuridica\\2_2_1_Identificacion_Predial_Total_Tramites\"\n",
    "NOMBRE_IND_2_2_1 = 'Seguimiento_Diario'\n",
    "\n",
    "fecha_actual = dt.now()\n",
    "fecha_directorio = str(fecha_actual.strftime(\"%Y-%m-%d\"))"
   ]
  },
  {
   "cell_type": "markdown",
   "metadata": {},
   "source": [
    "<h3>Ejecución de Funciones</h3>"
   ]
  },
  {
   "cell_type": "code",
   "execution_count": 5,
   "metadata": {
    "execution": {
<<<<<<< HEAD
     "iopub.execute_input": "2024-09-05T13:59:25.296449Z",
     "iopub.status.busy": "2024-09-05T13:59:25.296449Z",
     "iopub.status.idle": "2024-09-05T13:59:34.293464Z",
     "shell.execute_reply": "2024-09-05T13:59:34.292456Z"
=======
     "iopub.execute_input": "2024-07-18T15:13:10.806009Z",
     "iopub.status.busy": "2024-07-18T15:13:10.806009Z",
     "iopub.status.idle": "2024-07-18T15:13:17.007792Z",
     "shell.execute_reply": "2024-07-18T15:13:17.007792Z"
>>>>>>> 1de0162e9ad4e7a9df62aadbca46c2194b3914e9
    }
   },
   "outputs": [
    {
     "name": "stdout",
     "output_type": "stream",
     "text": [
      "Inicio de la conexión\n",
      "Conexión exitosa ...\n",
      "Inicio de la conexión\n",
      "Conexión exitosa ...\n"
     ]
    }
   ],
   "source": [
    "df_consulta_radicados = funcion_SQL_a_DataFrame.sql_a_dataframe(consulta_tRadicados)\n",
    "df_consulta_finalizados = funcion_SQL_a_DataFrame.sql_a_dataframe(consuta_tFinalizados)"
   ]
  },
  {
   "cell_type": "markdown",
   "metadata": {},
   "source": [
    "<h3>Preparación Registros para Indicador General</h3>\n",
    "\n",
    "<ol>\n",
    "    <li>Total Trámites (Radicado\\Finalizado)\n",
    "    <li>Total Trámites (Radicado\\Finalizado) Por Municipio\n",
    "    <li>Total Trámites (Radicado\\Finalizado) Por Municipio y Proceso\n",
    "</ol>"
   ]
  },
  {
   "cell_type": "code",
   "execution_count": 6,
   "metadata": {
    "execution": {
<<<<<<< HEAD
     "iopub.execute_input": "2024-09-05T13:59:34.295468Z",
     "iopub.status.busy": "2024-09-05T13:59:34.295468Z",
     "iopub.status.idle": "2024-09-05T13:59:34.317335Z",
     "shell.execute_reply": "2024-09-05T13:59:34.317335Z"
=======
     "iopub.execute_input": "2024-07-18T15:13:17.007792Z",
     "iopub.status.busy": "2024-07-18T15:13:17.007792Z",
     "iopub.status.idle": "2024-07-18T15:13:17.023853Z",
     "shell.execute_reply": "2024-07-18T15:13:17.023853Z"
>>>>>>> 1de0162e9ad4e7a9df62aadbca46c2194b3914e9
    }
   },
   "outputs": [
    {
     "name": "stdout",
     "output_type": "stream",
     "text": [
<<<<<<< HEAD
      "1. El total de trámites generados a la fecha es de: 12461 \n",
      "\n",
      "2. Por municipio, el total de trámites es el siguiente: \n",
      "        municipio  total_tramites\n",
      "0  MARÍA LA BAJA            8716\n",
      "1        REPELÓN            3715\n",
      "2        BARANOA              26\n",
      "3   SABANAGRANDE               4 \n",
=======
      "1. El total de trámites generados a la fecha es de: 7306 \n",
      "\n",
      "2. Por municipio, el total de trámites es el siguiente: \n",
      "        municipio  total_tramites\n",
      "0  MARÍA LA BAJA            4792\n",
      "1        REPELÓN            2488\n",
      "2        BARANOA              24\n",
      "3   SABANAGRANDE               2 \n",
>>>>>>> 1de0162e9ad4e7a9df62aadbca46c2194b3914e9
      "\n",
      "3. Trámites Radicados y Cerrados por Municipio: \n",
      " tramite        Finalizado  Radicado  %_Avance\n",
      "municipio                                    \n",
<<<<<<< HEAD
      "BARANOA                 8        18     44.44\n",
      "MARÍA LA BAJA           2      8714      0.02\n",
      "REPELÓN                 3      3712      0.08\n",
      "SABANAGRANDE            0         4      0.00 \n",
=======
      "BARANOA                 1        23      4.35\n",
      "MARÍA LA BAJA           1      4791      0.02\n",
      "REPELÓN                 0      2488      0.00\n",
      "SABANAGRANDE            0         2      0.00 \n",
>>>>>>> 1de0162e9ad4e7a9df62aadbca46c2194b3914e9
      "\n"
     ]
    }
   ],
   "source": [
    "\n",
    "# TODO: Total Trámites (Radicado\\Finalizado)\n",
    "total_radicados = df_consulta_radicados.shape[0] + df_consulta_finalizados.shape[0]\n",
    "# ** De esta forma se almacena un numéro entero como un DF\n",
    "df_total_radicados = pd.DataFrame([[total_radicados]], columns=['Total Radicados'])\n",
    "print(f\"1. El total de trámites generados a la fecha es de: {total_radicados} \\n\")\n",
    "\n",
    "# TODO: Total Trámites (Radicado\\Finalizado) Por Municipio\n",
    "df_tramites_x_municipio = pd.DataFrame(pd.DataFrame(pd.concat([df_consulta_radicados['municipio'], df_consulta_finalizados['municipio']], ignore_index=True)).value_counts('municipio')).reset_index().rename(columns={'count':'total_tramites'})\n",
    "print(f\"2. Por municipio, el total de trámites es el siguiente: \\n {df_tramites_x_municipio} \\n\")\n",
    "\n",
    "# TODO: Total Trámites (Radicado\\Finalizado) Por Municipio y Proceso\n",
    "df_consulta_radicados['tramite'] = 'Radicado'\n",
    "df_consulta_finalizados['tramite'] = 'Finalizado'\n",
    "\n",
    "# ! Para la gráfica\n",
    "df_tramite_x_mun_x_proceso = pd.DataFrame(pd.concat([df_consulta_radicados[['municipio','tramite']], df_consulta_finalizados[['municipio','tramite']]], ignore_index=True).value_counts()).reset_index().rename(columns={'count':'total_tramites'})\n",
    "\n",
    "df_tramite_x_mun_x_proceso_pivote = df_tramite_x_mun_x_proceso.pivot(index='municipio', columns = 'tramite', values = 'total_tramites')\n",
    "\n",
    "columnas_proceso = ['Finalizado','Radicado']\n",
    "\n",
    "for columna in columnas_proceso:\n",
    "    if columna in df_tramite_x_mun_x_proceso_pivote.columns:\n",
    "        df_tramite_x_mun_x_proceso_pivote.loc[df_tramite_x_mun_x_proceso_pivote[columna].isnull(), columna] = 0\n",
    "        df_tramite_x_mun_x_proceso_pivote[columna] = df_tramite_x_mun_x_proceso_pivote[columna].astype(int)\n",
    "\n",
    "df_tramite_x_mun_x_proceso_pivote['%_Avance'] = ((df_tramite_x_mun_x_proceso_pivote['Finalizado']/df_tramite_x_mun_x_proceso_pivote['Radicado'])*100).round(2)\n",
    "\n",
    "# ! Para generación de Tabla\n",
    "print(f\"3. Trámites Radicados y Cerrados por Municipio: \\n {df_tramite_x_mun_x_proceso_pivote} \\n\")"
   ]
  },
  {
   "cell_type": "markdown",
   "metadata": {},
   "source": [
    "<h3>Preparación Registros para Indicador Detallado de Radicados</h3>"
   ]
  },
  {
   "cell_type": "code",
   "execution_count": 7,
   "metadata": {
    "execution": {
<<<<<<< HEAD
     "iopub.execute_input": "2024-09-05T13:59:34.319342Z",
     "iopub.status.busy": "2024-09-05T13:59:34.319342Z",
     "iopub.status.idle": "2024-09-05T13:59:34.334985Z",
     "shell.execute_reply": "2024-09-05T13:59:34.334985Z"
=======
     "iopub.execute_input": "2024-07-18T15:13:17.023853Z",
     "iopub.status.busy": "2024-07-18T15:13:17.023853Z",
     "iopub.status.idle": "2024-07-18T15:13:17.034851Z",
     "shell.execute_reply": "2024-07-18T15:13:17.034851Z"
>>>>>>> 1de0162e9ad4e7a9df62aadbca46c2194b3914e9
    }
   },
   "outputs": [
    {
     "name": "stdout",
     "output_type": "stream",
     "text": [
      "1.1 Dentro de los trámites radicados, por estado la relación es: \n",
      " Proceso        Actualización  Conservación\n",
      "municipio                                 \n",
<<<<<<< HEAD
      "BARANOA                  NaN          18.0\n",
      "MARÍA LA BAJA         8702.0          12.0\n",
      "REPELÓN               3701.0          11.0\n",
      "SABANAGRANDE             NaN           4.0 \n",
=======
      "BARANOA                  NaN          23.0\n",
      "MARÍA LA BAJA         4786.0           5.0\n",
      "REPELÓN               2478.0          10.0\n",
      "SABANAGRANDE             NaN           2.0 \n",
>>>>>>> 1de0162e9ad4e7a9df62aadbca46c2194b3914e9
      "\n",
      "1.2 Dentro de los trámites finalizados, por estado la relación es: \n",
      " Proceso        Conservación\n",
      "municipio                  \n",
<<<<<<< HEAD
      "BARANOA                   8\n",
      "MARÍA LA BAJA             2\n",
      "REPELÓN                   3\n"
=======
      "BARANOA                   1\n",
      "MARÍA LA BAJA             1\n"
>>>>>>> 1de0162e9ad4e7a9df62aadbca46c2194b3914e9
     ]
    }
   ],
   "source": [
    "\n",
    "# TODO: Total Radicados por Municipio y Proceso\n",
    "# ! Para gráfica\n",
    "df_consulta_radicados_proceso = df_consulta_radicados[['municipio','Proceso']].value_counts().reset_index().rename(columns={'count':'total_radicados'})\n",
    "\n",
    "# ! Para Tabla\n",
    "df_consulta_radicados_proceso_pivote = df_consulta_radicados_proceso.pivot(index=\"municipio\", columns=\"Proceso\", values=\"total_radicados\")\n",
    "print(f\"1.1 Dentro de los trámites radicados, por estado la relación es: \\n {df_consulta_radicados_proceso_pivote} \\n\")\n",
    "\n",
    "# TODO: Total Finalizados por Municipio y Proceso\n",
    "# ! Para gráfica\n",
    "df_consulta_finalizados_proceso = df_consulta_finalizados[['municipio','Proceso']].value_counts().reset_index().rename(columns={'count':'total_radicados'})\n",
    "\n",
    "# ! Para Tabla\n",
    "df_consulta_finalizados_proceso_pivote = df_consulta_finalizados_proceso.pivot(index=\"municipio\", columns=\"Proceso\", values=\"total_radicados\")\n",
    "print(f\"1.2 Dentro de los trámites finalizados, por estado la relación es: \\n {df_consulta_finalizados_proceso_pivote}\")"
   ]
  },
  {
   "cell_type": "markdown",
   "metadata": {},
   "source": [
    "<h3>Analítica sobre proceso de Conservación - Radicados</h3>\n",
    "<ol>\n",
    "    <li> Total de Trámites de Conservación por Estado\n",
    "    <li> Nombre de procesos detallado por estado de atención del trámite\n",
    "</ol>"
   ]
  },
  {
   "cell_type": "code",
   "execution_count": 8,
   "metadata": {
    "execution": {
<<<<<<< HEAD
     "iopub.execute_input": "2024-09-05T13:59:34.337509Z",
     "iopub.status.busy": "2024-09-05T13:59:34.337509Z",
     "iopub.status.idle": "2024-09-05T13:59:34.453103Z",
     "shell.execute_reply": "2024-09-05T13:59:34.453103Z"
=======
     "iopub.execute_input": "2024-07-18T15:13:17.034851Z",
     "iopub.status.busy": "2024-07-18T15:13:17.034851Z",
     "iopub.status.idle": "2024-07-18T15:13:17.057246Z",
     "shell.execute_reply": "2024-07-18T15:13:17.057246Z"
>>>>>>> 1de0162e9ad4e7a9df62aadbca46c2194b3914e9
    }
   },
   "outputs": [
    {
     "name": "stdout",
     "output_type": "stream",
     "text": [
      "1. Para el proceso de Conservación, se presentan la siguiente cantidad de trámites segun su estado: \n",
<<<<<<< HEAD
      " vr_estado_paso  ATENDIENDO  PENDIENTE\n",
      "municipio                            \n",
      "BARANOA                 17          1\n",
      "MARÍA LA BAJA           11          1\n",
      "REPELÓN                 11          0\n",
      "SABANAGRANDE             4          0 \n",
=======
      " vr_estado_paso  ATENDIENDO\n",
      "municipio                 \n",
      "BARANOA                 23\n",
      "MARÍA LA BAJA            5\n",
      "REPELÓN                 10\n",
      "SABANAGRANDE             2 \n",
>>>>>>> 1de0162e9ad4e7a9df62aadbca46c2194b3914e9
      "\n"
     ]
    },
    {
     "data": {
      "text/html": [
       "<div>\n",
       "<style scoped>\n",
       "    .dataframe tbody tr th:only-of-type {\n",
       "        vertical-align: middle;\n",
       "    }\n",
       "\n",
       "    .dataframe tbody tr th {\n",
       "        vertical-align: top;\n",
       "    }\n",
       "\n",
       "    .dataframe thead th {\n",
       "        text-align: right;\n",
       "    }\n",
       "</style>\n",
       "<table border=\"1\" class=\"dataframe\">\n",
       "  <thead>\n",
       "    <tr style=\"text-align: right;\">\n",
       "      <th>vr_nombre_proceso</th>\n",
       "    </tr>\n",
       "    <tr>\n",
       "      <th>municipio</th>\n",
       "    </tr>\n",
       "  </thead>\n",
       "  <tbody>\n",
       "  </tbody>\n",
       "</table>\n",
       "</div>"
      ],
      "text/plain": [
       "Empty DataFrame\n",
       "Columns: []\n",
       "Index: []"
      ]
     },
     "execution_count": 8,
     "metadata": {},
     "output_type": "execute_result"
    }
   ],
   "source": [
    "\n",
    "query_conservacion = \"Proceso == 'Conservación'\"\n",
    "\n",
    "# TODO: Total de Trámites de Conservación por Estado\n",
    "\n",
    "# ! Para Gráfica\n",
    "df_consulta_radicados_conservacion = df_consulta_radicados.query(query_conservacion)\n",
    "df_consulta_radicados_conservacion_estado = pd.DataFrame(df_consulta_radicados_conservacion[['municipio','vr_estado_paso']].value_counts()).reset_index().rename(columns={'count':'total_estado'})\n",
    "\n",
    "# ! Para Tabla\n",
    "df_consulta_radicados_conservacion_estado_pivote = df_consulta_radicados_conservacion_estado.pivot(index=\"municipio\", columns=\"vr_estado_paso\", values=\"total_estado\")\n",
    "\n",
    "for columna in columnas_estado:\n",
    "    if columna in df_consulta_radicados_conservacion_estado_pivote.columns:\n",
    "        df_consulta_radicados_conservacion_estado_pivote.loc[df_consulta_radicados_conservacion_estado_pivote[columna].isnull(), columna] = 0\n",
    "        df_consulta_radicados_conservacion_estado_pivote[columna] = df_consulta_radicados_conservacion_estado_pivote[columna].astype(int)\n",
    "\n",
    "print(f\"1. Para el proceso de Conservación, se presentan la siguiente cantidad de trámites segun su estado: \\n {df_consulta_radicados_conservacion_estado_pivote} \\n\")\n",
    "\n",
    "# TODO: 2. Nombre de procesos detallado por estado de atención del trámite\n",
    "dataframes = {}\n",
    "\n",
    "for estado in columnas_estado:\n",
    "    query_conservacion_estado = \"Proceso == 'Conservación' and vr_estado_paso == \"+\"'\"+estado+\"'\"\n",
    "    df = df_consulta_radicados.query(query_conservacion_estado)\n",
    "    dataframes[estado] = df\n",
    "\n",
    "# ** Se Asigna los dataframes del diccionario a variables individuales automáticamente\n",
    "for estado, df in dataframes.items():\n",
    "    globals()[f'df_{estado}'] = df\n",
    "    globals()[f'df_{estado}_Filtrado_Conservacion'] = pd.DataFrame(globals()[f'df_{estado}'][['municipio','vr_nombre_proceso']]).value_counts().reset_index().rename(columns={'count':'total'})\n",
    "    globals()[f'df_{estado}_Filtrado_Conservacion_Pivoteo'] = globals()[f'df_{estado}_Filtrado_Conservacion'].pivot(index=\"municipio\", columns=\"vr_nombre_proceso\", values=\"total\")\n",
    "    for columna in nombre_procesos:\n",
    "        if columna in globals()[f'df_{estado}_Filtrado_Conservacion_Pivoteo'].columns:\n",
    "            globals()[f'df_{estado}_Filtrado_Conservacion_Pivoteo'].loc[globals()[f'df_{estado}_Filtrado_Conservacion_Pivoteo'][columna].isnull(), columna] = 0\n",
    "            globals()[f'df_{estado}_Filtrado_Conservacion_Pivoteo'][columna] = globals()[f'df_{estado}_Filtrado_Conservacion_Pivoteo'][columna].astype(int)\n",
    "\n",
    "# ! Para Gráficas\n",
    "df_ATENDIENDO_Filtrado_Conservacion\n",
    "df_PENDIENTE_Filtrado_Conservacion\n",
    "df_DEVUELTO_Filtrado_Conservacion\n",
    "\n",
    "# ! Para Tablas\n",
    "df_ATENDIENDO_Filtrado_Conservacion_Pivoteo\n",
    "df_PENDIENTE_Filtrado_Conservacion_Pivoteo\n",
    "df_DEVUELTO_Filtrado_Conservacion_Pivoteo"
   ]
  },
  {
   "cell_type": "markdown",
   "metadata": {},
   "source": [
    "<h3>Analítica sobre proceso de Conservación - Finalizados</h3>\n",
    "<ol>\n",
    "    <li> Total Finalizado por Nombre de Proceso\n",
    "    <li> Finalizado Nombre Proceso Vs Motivo (Estado Tarea)\n",
    "</ol>"
   ]
  },
  {
   "cell_type": "code",
   "execution_count": 9,
   "metadata": {
    "execution": {
<<<<<<< HEAD
     "iopub.execute_input": "2024-09-05T13:59:34.455109Z",
     "iopub.status.busy": "2024-09-05T13:59:34.455109Z",
     "iopub.status.idle": "2024-09-05T13:59:34.471551Z",
     "shell.execute_reply": "2024-09-05T13:59:34.471551Z"
=======
     "iopub.execute_input": "2024-07-18T15:13:17.057246Z",
     "iopub.status.busy": "2024-07-18T15:13:17.057246Z",
     "iopub.status.idle": "2024-07-18T15:13:17.071202Z",
     "shell.execute_reply": "2024-07-18T15:13:17.071202Z"
>>>>>>> 1de0162e9ad4e7a9df62aadbca46c2194b3914e9
    }
   },
   "outputs": [
    {
     "name": "stdout",
     "output_type": "stream",
     "text": [
      "1. Total de Trámites Finalizados de Conservación por Nombre Proceso \n",
      " vr_nombre_proceso  Complementación - Rectificación de Propietario  \\\n",
      "municipio                                                           \n",
      "BARANOA                                                       NaN   \n",
      "MARÍA LA BAJA                                                 1.0   \n",
<<<<<<< HEAD
      "REPELÓN                                                       NaN   \n",
      "\n",
      "vr_nombre_proceso  Mutaciones de Primera Clase  Mutaciones de Quinta Clase  \\\n",
      "municipio                                                                    \n",
      "BARANOA                                      7                           0   \n",
      "MARÍA LA BAJA                                0                           1   \n",
      "REPELÓN                                      3                           0   \n",
=======
>>>>>>> 1de0162e9ad4e7a9df62aadbca46c2194b3914e9
      "\n",
      "vr_nombre_proceso  Mutaciones de Segunda Clase  \n",
      "municipio                                       \n",
      "BARANOA                                      1  \n",
<<<<<<< HEAD
      "MARÍA LA BAJA                                0  \n",
      "REPELÓN                                      0   \n",
=======
      "MARÍA LA BAJA                                0   \n",
>>>>>>> 1de0162e9ad4e7a9df62aadbca46c2194b3914e9
      "\n"
     ]
    }
   ],
   "source": [
    "\n",
    "query_conservacion = \"Proceso == 'Conservación'\"\n",
    "\n",
    "# TODO: 1. Total de Trámites Finalizados de Conservación por Nombre Proceso\n",
    "\n",
    "# ! Para Gráfica\n",
    "df_consulta_finalizados_conservacion = df_consulta_finalizados.query(query_conservacion)\n",
    "\n",
    "df_consulta_finalizados_conservacion_proceso = df_consulta_finalizados_conservacion[['municipio','vr_nombre_proceso']].value_counts().reset_index().rename(columns={'count':'total'})\n",
    "\n",
    "# ! Para Tabla\n",
    "df_consulta_finalizados_conservacion_proceso_pivote = df_consulta_finalizados_conservacion_proceso.pivot(index=\"municipio\", columns=\"vr_nombre_proceso\", values=\"total\")\n",
    "\n",
    "for columna in nombre_procesos:\n",
    "    if columna in df_consulta_finalizados_conservacion_proceso_pivote.columns:\n",
    "        df_consulta_finalizados_conservacion_proceso_pivote.loc[df_consulta_finalizados_conservacion_proceso_pivote[columna].isnull(), columna] = 0\n",
    "        df_consulta_finalizados_conservacion_proceso_pivote[columna] = df_consulta_finalizados_conservacion_proceso_pivote[columna].astype(int)\n",
    "\n",
    "print(f\"1. Total de Trámites Finalizados de Conservación por Nombre Proceso \\n {df_consulta_finalizados_conservacion_proceso_pivote} \\n\")\n",
    "\n",
    "# TODO: 2. Finalizado Nombre Proceso Vs Motivo (Estado Tarea)\n",
    "df_consulta_finalizados_conservacion_motivo = df_consulta_finalizados_conservacion[['municipio','vr_nombre_proceso','vr_task_est']].value_counts().reset_index().rename(columns={'count':'total'})\n",
    "\n",
    "for llave, valor in modificacion_estado_proceso.items():\n",
    "    df_consulta_finalizados_conservacion_motivo.loc[df_consulta_finalizados_conservacion_motivo['vr_task_est'] == valor[0], 'vr_task_est'] = valor[1]\n",
    "\n",
    "# ** Unifico dos columnas buscando generar una gráfica más indicadora\n",
    "df_consulta_finalizados_conservacion_motivo['municipio_nProceso'] = df_consulta_finalizados_conservacion_motivo['municipio'] + ' - ' + df_consulta_finalizados_conservacion_motivo['vr_nombre_proceso']"
   ]
  },
  {
   "cell_type": "code",
   "execution_count": 10,
   "metadata": {
    "execution": {
<<<<<<< HEAD
     "iopub.execute_input": "2024-09-05T13:59:34.473559Z",
     "iopub.status.busy": "2024-09-05T13:59:34.473559Z",
     "iopub.status.idle": "2024-09-05T13:59:35.030277Z",
     "shell.execute_reply": "2024-09-05T13:59:35.030277Z"
=======
     "iopub.execute_input": "2024-07-18T15:13:17.071202Z",
     "iopub.status.busy": "2024-07-18T15:13:17.071202Z",
     "iopub.status.idle": "2024-07-18T15:13:17.184462Z",
     "shell.execute_reply": "2024-07-18T15:13:17.184462Z"
>>>>>>> 1de0162e9ad4e7a9df62aadbca46c2194b3914e9
    }
   },
   "outputs": [
    {
     "data": {
<<<<<<< HEAD
      "image/png": "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",
=======
      "image/png": "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\n",
>>>>>>> 1de0162e9ad4e7a9df62aadbca46c2194b3914e9
      "text/plain": [
       "<Figure size 1000x500 with 1 Axes>"
      ]
     },
     "metadata": {},
     "output_type": "display_data"
    }
   ],
   "source": [
    "modificacion_estado_proceso = {1:['Proceso cancelado por falta de documentos','Cancelado por falta de documentos']}\n",
    "\n",
    "# ** Aplicar tema a la salida gráfica y tipo de texto y tamaño del texto\n",
    "sns.set_theme(style='whitegrid', font='Tahoma', font_scale=1)\n",
    "\n",
    "# ** Configuración ejes horizontales en Matplotlib\n",
    "plt.rcParams['axes.axisbelow'] = True\n",
    "plt.rcParams['axes.edgecolor'] = 'gray'\n",
    "plt.rcParams['axes.linewidth'] = 0.8\n",
    "\n",
    "fig = plt.figure(figsize = (10, 5))\n",
    "\n",
    "ax = sns.barplot(data=df_consulta_finalizados_conservacion_motivo, x='municipio_nProceso', y='total', hue='vr_task_est', errorbar=None)\n",
    "\n",
    "# ** Se rota las etiquetas del eje x\n",
    "ax.set_xticklabels(ax.get_xticklabels(), rotation=90)\n",
    "\n",
    "# ** Se parametriza la leyenda \n",
    "ax.legend(title='Motivo Fin Trámite', loc='best')\n",
    "\n",
    "for container in ax.containers:\n",
    "    ax.bar_label(container, fmt='%d', label_type='edge', fontsize=10, color='black')\n",
    "\n",
    "# ** Titulos\n",
    "fig.suptitle('Motivo de la Finalización del Trámite', fontsize=18)\n",
    "ax.set_ylabel(\"Total Trámites\")\n",
    "ax.set_xlabel(\"Municipio - Nombre Proceso\")\n",
    "\n",
    "plt.show()"
   ]
  },
  {
   "cell_type": "markdown",
   "metadata": {},
   "source": [
    "<h3>Analítica sobre proceso de Actualización - Radicados</h3>\n",
    "<ol>\n",
    "    <li> Total de Trámites de Actualización por Estado\n",
    "    <li> Nombre de procesos detallado por estado de atención del trámite\n",
    "</ol>"
   ]
  },
  {
   "cell_type": "code",
   "execution_count": 11,
   "metadata": {
    "execution": {
<<<<<<< HEAD
     "iopub.execute_input": "2024-09-05T13:59:35.033282Z",
     "iopub.status.busy": "2024-09-05T13:59:35.032283Z",
     "iopub.status.idle": "2024-09-05T13:59:35.080970Z",
     "shell.execute_reply": "2024-09-05T13:59:35.080970Z"
=======
     "iopub.execute_input": "2024-07-18T15:13:17.185029Z",
     "iopub.status.busy": "2024-07-18T15:13:17.185029Z",
     "iopub.status.idle": "2024-07-18T15:13:17.208675Z",
     "shell.execute_reply": "2024-07-18T15:13:17.208675Z"
>>>>>>> 1de0162e9ad4e7a9df62aadbca46c2194b3914e9
    }
   },
   "outputs": [
    {
     "name": "stdout",
     "output_type": "stream",
     "text": [
      "1. Para el proceso de Actualización, se presentan la siguiente cantidad de trámites segun su estado: \n",
      " vr_estado_paso  ATENDIENDO\n",
      "municipio                 \n",
<<<<<<< HEAD
      "MARÍA LA BAJA         8702\n",
      "REPELÓN               3701 \n",
=======
      "MARÍA LA BAJA         4786\n",
      "REPELÓN               2478 \n",
>>>>>>> 1de0162e9ad4e7a9df62aadbca46c2194b3914e9
      "\n"
     ]
    },
    {
     "data": {
      "text/html": [
       "<div>\n",
       "<style scoped>\n",
       "    .dataframe tbody tr th:only-of-type {\n",
       "        vertical-align: middle;\n",
       "    }\n",
       "\n",
       "    .dataframe tbody tr th {\n",
       "        vertical-align: top;\n",
       "    }\n",
       "\n",
       "    .dataframe thead th {\n",
       "        text-align: right;\n",
       "    }\n",
       "</style>\n",
       "<table border=\"1\" class=\"dataframe\">\n",
       "  <thead>\n",
       "    <tr style=\"text-align: right;\">\n",
       "      <th>vr_nombre_proceso</th>\n",
       "    </tr>\n",
       "    <tr>\n",
       "      <th>municipio</th>\n",
       "    </tr>\n",
       "  </thead>\n",
       "  <tbody>\n",
       "  </tbody>\n",
       "</table>\n",
       "</div>"
      ],
      "text/plain": [
       "Empty DataFrame\n",
       "Columns: []\n",
       "Index: []"
      ]
     },
     "execution_count": 11,
     "metadata": {},
     "output_type": "execute_result"
    }
   ],
   "source": [
    "query_actualizacion = \"Proceso == 'Actualización'\"\n",
    "\n",
    "# TODO: Total de Trámites de Actualización por Estado\n",
    "\n",
    "# ! Para Gráfica\n",
    "df_consulta_radicados_actualizacion = df_consulta_radicados.query(query_actualizacion)\n",
    "df_consulta_radicados_actualizacion_estado = pd.DataFrame(df_consulta_radicados_actualizacion[['municipio','vr_estado_paso']].value_counts()).reset_index().rename(columns={'count':'total_estado'})\n",
    "\n",
    "# ! Para Tabla\n",
    "df_consulta_radicados_actualizacion_estado_pivote = df_consulta_radicados_actualizacion_estado.pivot(index=\"municipio\", columns=\"vr_estado_paso\", values=\"total_estado\")\n",
    "\n",
    "for columna in columnas_estado:\n",
    "    if columna in df_consulta_radicados_actualizacion_estado_pivote.columns:\n",
    "        df_consulta_radicados_actualizacion_estado_pivote.loc[df_consulta_radicados_actualizacion_estado_pivote[columna].isnull(), columna] = 0\n",
    "        df_consulta_radicados_actualizacion_estado_pivote[columna] = df_consulta_radicados_actualizacion_estado_pivote[columna].astype(int)\n",
    "\n",
    "print(f\"1. Para el proceso de Actualización, se presentan la siguiente cantidad de trámites segun su estado: \\n {df_consulta_radicados_actualizacion_estado_pivote} \\n\")\n",
    "\n",
    "# TODO: 2. Nombre de procesos detallado por estado de atención del trámite\n",
    "dataframes = {}\n",
    "\n",
    "for estado in columnas_estado:\n",
    "    query_actualizacion_estado = \"Proceso == 'Actualización' and vr_estado_paso == \"+\"'\"+estado+\"'\"\n",
    "    df = df_consulta_radicados.query(query_actualizacion_estado)\n",
    "    dataframes[estado] = df\n",
    "\n",
    "# ** Se Asigna los dataframes del diccionario a variables individuales automáticamente\n",
    "for estado, df in dataframes.items():\n",
    "    globals()[f'df_{estado}'] = df\n",
    "    globals()[f'df_{estado}_Filtrado_Actualizacion'] = pd.DataFrame(globals()[f'df_{estado}'][['municipio','vr_nombre_proceso']]).value_counts().reset_index().rename(columns={'count':'total'})\n",
    "    globals()[f'df_{estado}_Filtrado_Actualizacion_Pivoteo'] = globals()[f'df_{estado}_Filtrado_Actualizacion'].pivot(index=\"municipio\", columns=\"vr_nombre_proceso\", values=\"total\")\n",
    "    for columna in nombre_procesos:\n",
    "        if columna in globals()[f'df_{estado}_Filtrado_Actualizacion_Pivoteo'].columns:\n",
    "            globals()[f'df_{estado}_Filtrado_Actualizacion_Pivoteo'].loc[globals()[f'df_{estado}_Filtrado_Actualizacion_Pivoteo'][columna].isnull(), columna] = 0\n",
    "            globals()[f'df_{estado}_Filtrado_Actualizacion_Pivoteo'][columna] = globals()[f'df_{estado}_Filtrado_Actualizacion_Pivoteo'][columna].astype(int)\n",
    "\n",
    "# ! Para Gráficas\n",
    "df_ATENDIENDO_Filtrado_Actualizacion\n",
    "df_PENDIENTE_Filtrado_Actualizacion\n",
    "df_DEVUELTO_Filtrado_Actualizacion\n",
    "\n",
    "# ! Para Tablas\n",
    "df_ATENDIENDO_Filtrado_Actualizacion_Pivoteo\n",
    "df_PENDIENTE_Filtrado_Actualizacion_Pivoteo\n",
    "df_DEVUELTO_Filtrado_Actualizacion_Pivoteo"
   ]
  },
  {
   "cell_type": "markdown",
   "metadata": {},
   "source": [
    "<h3>Analítica sobre proceso de Actualización - Finalizados</h3>\n",
    "<ol>\n",
    "    <li> Total Finalizado por Nombre de Proceso\n",
    "    <li> Finalizado Nombre Proceso Vs Motivo (Estado Tarea)\n",
    "</ol>"
   ]
  },
  {
   "cell_type": "code",
   "execution_count": 12,
   "metadata": {
    "execution": {
<<<<<<< HEAD
     "iopub.execute_input": "2024-09-05T13:59:35.082985Z",
     "iopub.status.busy": "2024-09-05T13:59:35.082985Z",
     "iopub.status.idle": "2024-09-05T13:59:35.096787Z",
     "shell.execute_reply": "2024-09-05T13:59:35.096787Z"
=======
     "iopub.execute_input": "2024-07-18T15:13:17.208675Z",
     "iopub.status.busy": "2024-07-18T15:13:17.208675Z",
     "iopub.status.idle": "2024-07-18T15:13:17.219522Z",
     "shell.execute_reply": "2024-07-18T15:13:17.219522Z"
>>>>>>> 1de0162e9ad4e7a9df62aadbca46c2194b3914e9
    }
   },
   "outputs": [
    {
     "name": "stdout",
     "output_type": "stream",
     "text": [
      "1. Total de Trámites de Actualización Finalizados por Nombre Proceso \n",
      " Empty DataFrame\n",
      "Columns: []\n",
      "Index: [] \n",
      "\n"
     ]
    }
   ],
   "source": [
    "query_actualizacion = \"Proceso == 'Actualización'\"\n",
    "\n",
    "# TODO: 1. Total de Trámites de Actualización por Nombre Proceso\n",
    "\n",
    "# ! Para Gráfica\n",
    "df_consulta_finalizados_actualizacion = df_consulta_finalizados.query(query_actualizacion)\n",
    "\n",
    "df_consulta_finalizados_actualizacion_proceso = df_consulta_finalizados_actualizacion[['municipio','vr_nombre_proceso']].value_counts().reset_index().rename(columns={'count':'total'})\n",
    "\n",
    "# ! Para Tabla\n",
    "df_consulta_finalizados_actualizacion_proceso_pivote = df_consulta_finalizados_actualizacion_proceso.pivot(index=\"municipio\", columns=\"vr_nombre_proceso\", values=\"total\")\n",
    "\n",
    "for columna in nombre_procesos:\n",
    "    if columna in df_consulta_finalizados_actualizacion_proceso_pivote.columns:\n",
    "        df_consulta_finalizados_actualizacion_proceso_pivote.loc[df_consulta_finalizados_actualizacion_proceso_pivote[columna].isnull(), columna] = 0\n",
    "        df_consulta_finalizados_actualizacion_proceso_pivote[columna] = df_consulta_finalizados_actualizacion_proceso_pivote[columna].astype(int)\n",
    "\n",
    "print(f\"1. Total de Trámites de Actualización Finalizados por Nombre Proceso \\n {df_consulta_finalizados_actualizacion_proceso_pivote} \\n\")\n",
    "\n",
    "# TODO: 2. Finalizado Nombre Proceso Vs Motivo (Estado Tarea)\n",
    "df_consulta_finalizados_actualizacion_motivo = df_consulta_finalizados_actualizacion[['municipio','vr_nombre_proceso','vr_task_est']].value_counts().reset_index().rename(columns={'count':'total'})\n",
    "\n",
    "for llave, valor in modificacion_estado_proceso.items():\n",
    "    df_consulta_finalizados_actualizacion_motivo.loc[df_consulta_finalizados_actualizacion_motivo['vr_task_est'] == valor[0], 'vr_task_est'] = valor[1]\n",
    "\n",
    "# ** Unifico dos columnas buscando generar una gráfica más indicadora\n",
    "df_consulta_finalizados_actualizacion_motivo['municipio_nProceso'] = df_consulta_finalizados_actualizacion_motivo['municipio'] + ' - ' + df_consulta_finalizados_actualizacion_motivo['vr_nombre_proceso']"
   ]
  },
  {
   "cell_type": "markdown",
   "metadata": {},
   "source": [
    "<h3>Generación de XLSX Unificado</h3>"
   ]
  },
  {
   "cell_type": "code",
   "execution_count": 13,
   "metadata": {
    "execution": {
<<<<<<< HEAD
     "iopub.execute_input": "2024-09-05T13:59:35.098794Z",
     "iopub.status.busy": "2024-09-05T13:59:35.098794Z",
     "iopub.status.idle": "2024-09-05T13:59:35.219085Z",
     "shell.execute_reply": "2024-09-05T13:59:35.219085Z"
=======
     "iopub.execute_input": "2024-07-18T15:13:17.221117Z",
     "iopub.status.busy": "2024-07-18T15:13:17.221117Z",
     "iopub.status.idle": "2024-07-18T15:13:17.263384Z",
     "shell.execute_reply": "2024-07-18T15:13:17.263384Z"
>>>>>>> 1de0162e9ad4e7a9df62aadbca46c2194b3914e9
    }
   },
   "outputs": [
    {
     "name": "stdout",
     "output_type": "stream",
     "text": [
      "Dataframes guardados en C:\\docsProyectos\\5.RAISS\\2024.0.RAISS_Lote_4\\6.Hitos\\E2_Informes_Id_FisicoJuridica\\2_2_1_Identificacion_Predial_Total_Tramites\\2_2_1_Identificacion_Predial_Total_Tramites.xlsx\n"
     ]
    }
   ],
   "source": [
    "\n",
    "# ** Usar ExcelWriter para guardar múltiples dataframes en diferentes hojas\n",
    "with pd.ExcelWriter(XLSX_UNIFICADO, engine='xlsxwriter') as writer:\n",
    "    df_total_radicados.to_excel(writer, sheet_name='1_TotalRadicados', index=False)\n",
    "    df_tramites_x_municipio.to_excel(writer, sheet_name='2_TramitesXMunicipio', index=False)\n",
    "    df_tramite_x_mun_x_proceso_pivote.to_excel(writer, sheet_name='3_TramiteXMunXVigencia', index=True)\n",
    "    df_consulta_radicados_proceso_pivote.to_excel(writer, sheet_name='6_TRadicadoXMunXProceso', index=True)\n",
    "    df_consulta_finalizados_proceso_pivote.to_excel(writer, sheet_name='7_TFinalizadoXMunXProceso', index=True)\n",
    "    df_consulta_radicados_conservacion_estado_pivote.to_excel(writer, sheet_name='8_TConsXMunXEstado', index=True)\n",
    "    df_ATENDIENDO_Filtrado_Conservacion_Pivoteo.to_excel(writer, sheet_name='9_1_TConsXMunXEAtendiendo', index=True)\n",
    "    df_PENDIENTE_Filtrado_Conservacion_Pivoteo.to_excel(writer, sheet_name='9_2_TConsXMunXEPendiente', index=True)\n",
    "    df_DEVUELTO_Filtrado_Conservacion_Pivoteo.to_excel(writer, sheet_name='9_3_TConsXMunXEDevuelto', index=True)\n",
    "    df_consulta_finalizados_conservacion_proceso_pivote.to_excel(writer, sheet_name='10_TConserXMunXProDetallado', index=True)\n",
    "    df_consulta_radicados_actualizacion_estado_pivote.to_excel(writer, sheet_name='12_TActualizacionXMunXEstado', index=True)\n",
    "    df_ATENDIENDO_Filtrado_Actualizacion_Pivoteo.to_excel(writer, sheet_name='13_1_TConXMunXEAtendiendo', index=True)\n",
    "    df_PENDIENTE_Filtrado_Actualizacion_Pivoteo.to_excel(writer, sheet_name='13_2_TConXMunXEPendiente', index=True)\n",
    "    df_DEVUELTO_Filtrado_Actualizacion_Pivoteo.to_excel(writer, sheet_name='13_3_TConsXMunXEDevuelto', index=True)\n",
    "    df_consulta_finalizados_actualizacion_proceso_pivote.to_excel(writer, sheet_name='14_TActuXMunXProcDetallado', index=True)\n",
    "\n",
    "print(f'Dataframes guardados en {XLSX_UNIFICADO}')"
   ]
  },
  {
   "cell_type": "code",
   "execution_count": 14,
   "metadata": {
    "execution": {
<<<<<<< HEAD
     "iopub.execute_input": "2024-09-05T13:59:35.222091Z",
     "iopub.status.busy": "2024-09-05T13:59:35.221092Z",
     "iopub.status.idle": "2024-09-05T13:59:35.945615Z",
     "shell.execute_reply": "2024-09-05T13:59:35.945615Z"
=======
     "iopub.execute_input": "2024-07-18T15:13:17.263384Z",
     "iopub.status.busy": "2024-07-18T15:13:17.263384Z",
     "iopub.status.idle": "2024-07-18T15:13:17.416141Z",
     "shell.execute_reply": "2024-07-18T15:13:17.416141Z"
>>>>>>> 1de0162e9ad4e7a9df62aadbca46c2194b3914e9
    }
   },
   "outputs": [
    {
     "name": "stdout",
     "output_type": "stream",
     "text": [
      "Se genera XLSX de DF 1_TotalRadicados.xlsx\n",
      "Se genera XLSX de DF 2_TramitesXMunicipio.xlsx\n",
      "Se genera XLSX de DF 3_TramiteXMunXVigencia.xlsx\n",
      "Se genera XLSX de DF 6_TRadicadoXMunXProceso.xlsx\n",
      "Se genera XLSX de DF 7_TFinalizadoXMunXProceso.xlsx\n",
      "Se genera XLSX de DF 8_TConservacionXMunXEstado.xlsx\n",
      "Se genera XLSX de DF 9_1_TConsXMunXEAtendiendo.xlsx\n",
      "Se genera XLSX de DF 9_2_TConsXMunXEPendiente.xlsx\n",
      "Se genera XLSX de DF 9_3_TConsXMunXEDevuelto.xlsx\n",
      "Se genera XLSX de DF 10_TConserXMunXProDetallado.xlsx\n",
      "Se genera XLSX de DF 12_TActualizacionXMunXEstado.xlsx\n",
      "Se genera XLSX de DF 13_1_TConXMunXEAtendiendo.xlsx\n",
      "Se genera XLSX de DF 13_2_TConXMunXEPendiente.xlsx\n",
      "Se genera XLSX de DF 13_3_TConsXMunXEDevuelto.xlsx\n",
      "Se genera XLSX de DF 14_TActuXMunXProcDetallado.xlsx\n"
     ]
    }
   ],
   "source": [
    "\n",
    "dir_directorio_salidas_xlsx = {1:[df_total_radicados,'1_TotalRadicados.xlsx','1_TotalRadicados'],\n",
    "    2:[df_tramites_x_municipio,'2_TramitesXMunicipio.xlsx','2_TramitesXMunicipio'],\n",
    "    3:[df_tramite_x_mun_x_proceso_pivote,'3_TramiteXMunXVigencia.xlsx','3_TramiteXMunXVigencia'],\n",
    "    4:[df_consulta_radicados_proceso_pivote,'6_TRadicadoXMunXProceso.xlsx','6_TRadicadoXMunXProceso'],\n",
    "    5:[df_consulta_finalizados_proceso_pivote,'7_TFinalizadoXMunXProceso.xlsx','7_TFinalizadoXMunXProceso'],\n",
    "    6:[df_consulta_radicados_conservacion_estado_pivote,'8_TConservacionXMunXEstado.xlsx','8_TConservacionXMunXEstado'],\n",
    "    7:[df_ATENDIENDO_Filtrado_Conservacion_Pivoteo,'9_1_TConsXMunXEAtendiendo.xlsx','9_1_TConsXMunXEAtendiendo'],\n",
    "    8:[df_PENDIENTE_Filtrado_Conservacion_Pivoteo,'9_2_TConsXMunXEPendiente.xlsx','9_2_TConsXMunXEPendiente'],\n",
    "    9:[df_DEVUELTO_Filtrado_Conservacion_Pivoteo,'9_3_TConsXMunXEDevuelto.xlsx','9_3_TConsXMunXEDevuelto'],\n",
    "    10:[df_consulta_finalizados_conservacion_proceso_pivote,'10_TConserXMunXProDetallado.xlsx','10_TConserXMunXProDetallado'],\n",
    "    11:[df_consulta_radicados_actualizacion_estado_pivote,'12_TActualizacionXMunXEstado.xlsx','12_TActualizacionXMunXEstado'],\n",
    "    12:[df_ATENDIENDO_Filtrado_Actualizacion_Pivoteo,'13_1_TConXMunXEAtendiendo.xlsx','13_1_TConXMunXEAtendiendo'],\n",
    "    13:[df_PENDIENTE_Filtrado_Actualizacion_Pivoteo,'13_2_TConXMunXEPendiente.xlsx','13_2_TConXMunXEPendiente'],\n",
    "    14:[df_DEVUELTO_Filtrado_Actualizacion_Pivoteo,'13_3_TConsXMunXEDevuelto.xlsx','13_3_TConsXMunXEDevuelto'],\n",
    "    15:[df_consulta_finalizados_actualizacion_proceso_pivote,'14_TActuXMunXProcDetallado.xlsx','14_TActuXMunXProcDetallado']\n",
    "    }\n",
    "\n",
    "if os.path.exists(os.path.join(RUTA_RAIZ, NOMBRE_IND_2_2_1, fecha_directorio)):\n",
    "    for llave, valor in dir_directorio_salidas_xlsx.items():\n",
    "        valor[0].to_excel(os.path.join(RUTA_RAIZ, NOMBRE_IND_2_2_1, fecha_directorio,valor[1]), sheet_name=valor[2])\n",
    "        print(f\"Se genera XLSX de DF {valor[1]}\")\n",
    "else:\n",
    "    os.mkdir(os.path.join(RUTA_RAIZ, NOMBRE_IND_2_2_1, fecha_directorio))\n",
    "    for llave, valor in dir_directorio_salidas_xlsx.items():\n",
    "        valor[0].to_excel(os.path.join(RUTA_RAIZ, NOMBRE_IND_2_2_1, fecha_directorio,valor[1]), sheet_name=valor[2])\n",
    "        print(f\"Se genera XLSX de DF {valor[1]}\")"
   ]
  }
 ],
 "metadata": {
  "kernelspec": {
   "display_name": "Python 3",
   "language": "python",
   "name": "python3"
  },
  "language_info": {
   "codemirror_mode": {
    "name": "ipython",
    "version": 3
   },
   "file_extension": ".py",
   "mimetype": "text/x-python",
   "name": "python",
   "nbconvert_exporter": "python",
   "pygments_lexer": "ipython3",
   "version": "3.11.8"
  }
 },
 "nbformat": 4,
 "nbformat_minor": 2
}
