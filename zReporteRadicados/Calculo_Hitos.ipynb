{
 "cells": [
  {
   "cell_type": "code",
   "execution_count": 1,
   "metadata": {},
   "outputs": [],
   "source": [
    "import os\n",
    "import pandas as pd\n",
    "\n",
    "os.environ[\"CRYPTOGRAPHY_OPENSSL_NO_LEGACY\"] = \"yes\"\n",
    "\n",
    "# import numpy as np\n",
    "from arcgis.features import GeoAccessor, GeoSeriesAccessor\n",
    "import arcpy"
   ]
  },
  {
   "cell_type": "code",
   "execution_count": 2,
   "metadata": {},
   "outputs": [],
   "source": [
    "RUTA_BD_CONSOLIDADO = r\"C:\\docsProyectos\\5.RAISS\\2024.0.RAISS_Lote_4\\6.Hitos\\O_Apoyo_Construccion_UIntervencion\\UI_Finales\\UI_Finales.gdb\"\n",
    "RUTA_XLSX = r\"C:\\docsProyectos\\5.RAISS\\2024.0.RAISS_Lote_4\\6.Hitos\\O_Apoyo_Construccion_UIntervencion\\UI_Finales\\Estadisticos\"\n",
    "NOMBRE_XLSX = 'indicadores_base_ui_lote_4.xlsx'\n",
    "DIRECTORIO_XLSX = os.path.join(RUTA_XLSX, NOMBRE_XLSX)\n",
    "\n",
    "DIFERENCIA_AREAS_UT_CONTRATO = 'hitos_por_asignacion'\n",
    "AREA_INDIVUALIZADA = 'areas_ha_hito'\n",
    "\n",
    "h2_contractual = 16243.92\n",
    "h3_contractual = 54146.40\n",
    "h4_contractual = 81219.60\n",
    "h5_contractual = 108292.80"
   ]
  },
  {
   "cell_type": "code",
   "execution_count": 3,
   "metadata": {},
   "outputs": [
    {
     "name": "stdout",
     "output_type": "stream",
     "text": [
      "Se crea dataset de capa UI_Unificadas\n"
     ]
    }
   ],
   "source": [
    "arcpy.env.workspace = RUTA_BD_CONSOLIDADO\n",
    "\n",
    "for dataset in arcpy.ListDatasets():\n",
    "    for capa in arcpy.ListFeatureClasses(feature_dataset=dataset):\n",
    "        ruta = os.path.join(arcpy.env.workspace,dataset,capa)\n",
    "        df_unidades_intervencion = pd.DataFrame.spatial.from_featureclass(ruta)\n",
    "        print(f\"Se crea dataset de capa {capa}\")"
   ]
  },
  {
   "cell_type": "code",
   "execution_count": 4,
   "metadata": {},
   "outputs": [],
   "source": [
    "\n",
    "query_2 = \"Meta_Hito == 'Hito 2'\"\n",
    "query_3 = \"(Meta_Hito == 'Hito 2') or (Meta_Hito == 'Hito 3')\"\n",
    "query_4 = \"(Meta_Hito == 'Hito 2') or (Meta_Hito == 'Hito 3') or (Meta_Hito == 'Hito 4')\"\n",
    "query_5 = \"(Meta_Hito == 'Hito 2') or (Meta_Hito == 'Hito 3') or (Meta_Hito == 'Hito 4') or (Meta_Hito == 'Hito 5')\"\n",
    "\n",
    "query_hito_2 =df_unidades_intervencion.query(query_2)\n",
    "# ! Corregir luego de modificar el nombre de la columna\n",
    "ha_hito_2 = query_hito_2['Area_Ha_CMT12'].sum().round(2)\n",
    "\n",
    "query_hito_3 =df_unidades_intervencion.query(query_3)\n",
    "# ! Corregir luego de modificar el nombre de la columna\n",
    "ha_hito_3 = query_hito_3['Area_Ha_CMT12'].sum().round(2)\n",
    "\n",
    "query_hito_4 =df_unidades_intervencion.query(query_4)\n",
    "# ! Corregir luego de modificar el nombre de la columna\n",
    "ha_hito_4 = query_hito_4['Area_Ha_CMT12'].sum().round(2)\n",
    "\n",
    "query_hito_5 =df_unidades_intervencion.query(query_5)\n",
    "# ! Corregir luego de modificar el nombre de la columna\n",
    "ha_hito_5 = query_hito_5['Area_Ha_CMT12'].sum().round(2)"
   ]
  },
  {
   "cell_type": "code",
   "execution_count": 5,
   "metadata": {},
   "outputs": [],
   "source": [
    "diccionario_hitos = {\n",
    "    'Hito': ['Hito 2','Hito 3','Hito 4','Hito 5'],\n",
    "    'Area_Ha_CMT12': [ha_hito_2, ha_hito_3, ha_hito_4, ha_hito_5],\n",
    "    'Area_Ha_Contractual': [h2_contractual, h3_contractual, h4_contractual, h5_contractual]\n",
    "}\n",
    "\n",
    "df_hitos_ut = pd.DataFrame(diccionario_hitos)\n",
    "\n",
    "df_hitos_ut['Diferencia_AreaUT_Vs_Contrato'] = df_hitos_ut['Area_Ha_CMT12'] - df_hitos_ut['Area_Ha_Contractual']\n"
   ]
  },
  {
   "cell_type": "code",
   "execution_count": 6,
   "metadata": {},
   "outputs": [],
   "source": [
    "df_unidades_intervencion_hitos = pd.DataFrame(df_unidades_intervencion[['ID_UI', 'Zona_UI', 'Municipio_UI', 'Meta_Hito','Area_Ha_CMT12']]).rename(columns={'Area_Ha_CMT12':'Area_Ha_CTM12'})"
   ]
  },
  {
   "cell_type": "code",
   "execution_count": 7,
   "metadata": {},
   "outputs": [
    {
     "name": "stdout",
     "output_type": "stream",
     "text": [
      "Se exporta C:\\docsProyectos\\5.RAISS\\2024.0.RAISS_Lote_4\\6.Hitos\\O_Apoyo_Construccion_UIntervencion\\UI_Finales\\Estadisticos\\indicadores_base_ui_lote_4.xlsx\n"
     ]
    }
   ],
   "source": [
    "\n",
    "# ** Usar ExcelWriter para guardar múltiples dataframes en diferentes hojas\n",
    "with pd.ExcelWriter(DIRECTORIO_XLSX, engine='xlsxwriter') as writer:\n",
    "    df_unidades_intervencion_hitos.to_excel(writer, sheet_name=AREA_INDIVUALIZADA, index=False)\n",
    "    df_hitos_ut.to_excel(writer, sheet_name=DIFERENCIA_AREAS_UT_CONTRATO, index=False)\n",
    "\n",
    "print(f\"Se exporta {DIRECTORIO_XLSX}\")"
   ]
  }
 ],
 "metadata": {
  "kernelspec": {
   "display_name": "Python 3",
   "language": "python",
   "name": "python3"
  },
  "language_info": {
   "codemirror_mode": {
    "name": "ipython",
    "version": 3
   },
   "file_extension": ".py",
   "mimetype": "text/x-python",
   "name": "python",
   "nbconvert_exporter": "python",
   "pygments_lexer": "ipython3",
   "version": "3.11.8"
  }
 },
 "nbformat": 4,
 "nbformat_minor": 2
}
