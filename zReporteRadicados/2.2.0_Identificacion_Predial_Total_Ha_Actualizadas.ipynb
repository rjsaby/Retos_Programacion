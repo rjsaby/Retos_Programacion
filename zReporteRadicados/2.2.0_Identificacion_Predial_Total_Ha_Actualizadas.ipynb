{
 "cells": [
  {
   "cell_type": "code",
   "execution_count": null,
   "metadata": {},
   "outputs": [],
   "source": [
    "\"\"\"    \n",
    "    Indicador: Porcentaje de Hectáreas actualizadas con respecto al total de hectáreas que deben actualizarse para cumplir un Hito contractual.\n",
    "\"\"\""
   ]
  },
  {
   "cell_type": "markdown",
   "metadata": {},
   "source": [
    "<h3>Importación Librerías</h3>"
   ]
  },
  {
   "cell_type": "code",
   "execution_count": null,
   "metadata": {},
   "outputs": [],
   "source": [
    "import pandas as pd\n",
    "import os\n",
    "import seaborn as sns\n",
    "\n",
    "os.environ[\"CRYPTOGRAPHY_OPENSSL_NO_LEGACY\"] = \"yes\"\n",
    "\n",
    "# ? Se usa para generar gráficos\n",
    "import matplotlib.pyplot as plt\n",
    "\n",
    "# ? Se usa para determina la fecha de ejecución del proceso dentro del export de los resultados estadísticos\n",
    "from datetime import datetime\n",
    "\n",
    "# ? Conexión a BD Postgres. Se usa dado que pandas no acepta sino este paquete para la conexión.\n",
    "from sqlalchemy import create_engine, text\n",
    "\n",
    "from datetime  import datetime as dt\n",
    "\n",
    "from arcgis.features import GeoAccessor, GeoSeriesAccessor\n",
    "import arcpy\n",
    "\n",
    "from pathlib import Path\n",
    "\n",
    "# ** Librerías propias\n",
    "import funcion_dataframe_terrenos\n",
    "import funcion_SQL_a_DataFrame\n",
    "import funcion_parametrizacion_variables\n",
    "import funcion_actualizacion_exportacion_seriemapa"
   ]
  },
  {
   "cell_type": "markdown",
   "metadata": {},
   "source": [
    "<h3>Ejecución de Función de Variables</h3>"
   ]
  },
  {
   "cell_type": "code",
   "execution_count": null,
   "metadata": {},
   "outputs": [],
   "source": [
    "resultado = funcion_parametrizacion_variables.parametrizacion_variables()\n",
    "consulta_tRadicados = resultado[0]\n",
    "renombrar_actividades = resultado[4]"
   ]
  },
  {
   "cell_type": "markdown",
   "metadata": {},
   "source": [
    "<h3>Parametrización de Variables</h3>"
   ]
  },
  {
   "cell_type": "code",
   "execution_count": null,
   "metadata": {},
   "outputs": [],
   "source": [
    "consulta_tRadicados = consulta_tRadicados\n",
    "\n",
    "columnasRadicadoActualizacionCampo = ['municipio',\n",
    "\t'municipio_estandarizado',\n",
    "\t'zona',\n",
    "\t'npn',\n",
    "\t'radicado',\n",
    "\t'Proceso',\n",
    "\t'estado_tramite',\n",
    "\t'actividad',\n",
    "\t'usuario',\n",
    "\t'vr_proces_des']\n",
    "\n",
    "columnas_espacializacion_radicadosActualizacionConNPNAtendiendoCampo = ['codigo',\n",
    "\t'codigo_anterior',                                                                        \n",
    "\t'municipio',\n",
    "\t'municipio_estandarizado',\n",
    "\t'zona',\n",
    "    'Proceso',\n",
    "\t'radicado',\n",
    "\t'estado_tramite',\n",
    "\t'actividad',\n",
    "\t'usuario',\n",
    "\t'vr_proces_des',\n",
    "\t'area_ha_cmt12',\n",
    "\t'SHAPE']\n",
    "\n",
    "L_MUNICIPIO = ['MariaLaBaja', 'Repelon', 'Baranoa', 'Sabanagrande']\n",
    "NOMBRE_PROCESOS = ['Actualización','Conservación']\n",
    "MUNICIPIO_FUENTE = ['MARIA LA ']\n",
    "\n",
    "DIRECTORIO_REPORTE = r\"C:\\docsProyectos\\5.RAISS\\2024.0.RAISS_Lote_4\\6.Hitos\\E2_Informes_Id_FisicoJuridica\\2_2_0_Identificacion_Predial_Total_Ha_Actualizadas\\zReportes\"\n",
    "NOMBRE_REPORTE_RADSINNPN = 'Reporte_Radicado_SinNPNoFicha.xlsx'\n",
    "NOMBRE_REPORTE_RADFORMACIONATENDIENDO = 'Reporte_Radicado_EnAtencion.xlsx'\n",
    "\n",
    "RUTA_BD_LOCAL = r\"C:\\docsProyectos\\5.RAISS\\2024.0.RAISS_Lote_4\\6.Hitos\\E2_Informes_Id_FisicoJuridica\\2_2_0_Identificacion_Predial_Total_Ha_Actualizadas\\Base_Datos\\_2_2_0.gdb\"\n",
    "RUTA_BD_CONSOLIDADA = r\"C:\\docsProyectos\\5.RAISS\\2024.0.RAISS_Lote_4\\6.Hitos\\E1_Alistamiento_Diagnostico\\3_Disposicion\\1.BD_Consolidada\\BD_Consolidada_Lote4.gdb\"\n",
    "NOMBRE_CAPA_HAXESTADO = 'TERRENOS_RECONOCIMIENTO_TRAMITES_ATENCION_BCGS'\n",
    "\n",
    "XLSX_UNIFICADO = r\"C:\\docsProyectos\\5.RAISS\\2024.0.RAISS_Lote_4\\6.Hitos\\E2_Informes_Id_FisicoJuridica\\2_2_0_Identificacion_Predial_Total_Ha_Actualizadas\\zReportes\\2_2_0_Identificacion_Predial_Total_Ha_Actualizadas.xlsx\"\n",
    "\n",
    "RUTA_RAIZ = r\"C:\\docsProyectos\\5.RAISS\\2024.0.RAISS_Lote_4\\6.Hitos\\E2_Informes_Id_FisicoJuridica\\2_2_0_Identificacion_Predial_Total_Ha_Actualizadas\\zReportes\"\n",
    "NOMBRE_IND_2_2_0 = 'Seguimiento_Diario'\n",
    "\n",
    "fecha_actual = dt.now()\n",
    "fecha_directorio = str(fecha_actual.strftime(\"%Y-%m-%d\"))\n",
    "\n",
    "renombrar_actividades = renombrar_actividades\n",
    "\n",
    "dict_correcion_area_columna = {'area_ha_cmt12':'area_ha_ctm12'}"
   ]
  },
  {
   "cell_type": "markdown",
   "metadata": {},
   "source": [
    "<h3>Ejecución de Funciones</h3>"
   ]
  },
  {
   "cell_type": "code",
   "execution_count": null,
   "metadata": {},
   "outputs": [],
   "source": [
    "df_terrenos, ruta_terrenos = funcion_dataframe_terrenos.dataframe_terrenos()\n",
    "df_consulta_radicados = funcion_SQL_a_DataFrame.sql_a_dataframe(consulta_tRadicados)"
   ]
  },
  {
   "cell_type": "markdown",
   "metadata": {},
   "source": [
    "<h3>Estandarización de actividades</h3>"
   ]
  },
  {
   "cell_type": "code",
   "execution_count": null,
   "metadata": {},
   "outputs": [],
   "source": [
    "\n",
    "for columna in df_consulta_radicados.columns:\n",
    "    if columna == 'estado_tramite':\n",
    "        for llave, valor in renombrar_actividades.items():\n",
    "            df_consulta_radicados.loc[df_consulta_radicados[columna]==llave, columna] = valor"
   ]
  },
  {
   "cell_type": "markdown",
   "metadata": {},
   "source": [
    "<h3>Generación de Campo Zona (Urbano/Rural) y Estandarización Campo Municipio</h3>"
   ]
  },
  {
   "cell_type": "code",
   "execution_count": null,
   "metadata": {},
   "outputs": [],
   "source": [
    "\n",
    "# TODO: Generacion Campo Zona\n",
    "df_predios_radicados = df_consulta_radicados.copy()\n",
    "\n",
    "df_predios_radicados['codigo_zona'] = df_predios_radicados['npn'].str[5:7]\n",
    "df_predios_radicados['zona'] = None\n",
    "\n",
    "df_predios_radicados.loc[df_predios_radicados['codigo_zona'] == '01', 'zona'] = 'Urbano'\n",
    "df_predios_radicados.loc[df_predios_radicados['codigo_zona'] == '00', 'zona'] = 'Rural'\n",
    "df_predios_radicados.loc[(df_predios_radicados['codigo_zona'] != '00') & (df_predios_radicados['codigo_zona'] != '01'), 'zona'] = 'Corregimientos Urbanos'\n",
    "\n",
    "# TODO: Generacion Campo municipio_estandarizado\n",
    "df_predios_radicados['municipio_estandarizado'] = None\n",
    "df_predios_radicados.loc[df_predios_radicados['municipio'] == 'MARÍA LA BAJA', 'municipio_estandarizado'] = 'MariaLaBaja'\n",
    "df_predios_radicados.loc[df_predios_radicados['municipio'] == 'REPELÓN', 'municipio_estandarizado'] = 'Repelon'\n",
    "df_predios_radicados.loc[df_predios_radicados['municipio'] == 'BARANOA', 'municipio_estandarizado'] = 'Baranoa'\n",
    "df_predios_radicados.loc[df_predios_radicados['municipio'] == 'SABANAGRANDE', 'municipio_estandarizado'] = 'Sabanagrande'"
   ]
  },
  {
   "cell_type": "markdown",
   "metadata": {},
   "source": [
    "<h3>Trámites Sin NPN Registrado</h3>"
   ]
  },
  {
   "cell_type": "code",
   "execution_count": null,
   "metadata": {},
   "outputs": [],
   "source": [
    "\n",
    "# TODO: Radicados sin NPN\n",
    "\n",
    "# ** 1. Filtro\n",
    "df_radicados_sin_npn = df_predios_radicados[(df_predios_radicados['npn'].isnull()) | (df_predios_radicados['npn'] == '')] \n",
    "\n",
    "total_radicados_SinNPN = df_radicados_sin_npn.shape[0]\n",
    "print(f\" 1. El total de radicados sin parametrización de NPN o Ficha es: \\n {total_radicados_SinNPN}\")\n",
    "\n",
    "df_radicadosSinNPNParaReporte = df_radicados_sin_npn[['municipio','Proceso','radicado','usuario','vr_consec_nom']]\n",
    "df_radicadosSinNPNParaReporte.to_excel(os.path.join(DIRECTORIO_REPORTE, NOMBRE_REPORTE_RADSINNPN), sheet_name='ReporteRadSinNPN')\n",
    "print(f\"Se crea el reporte {NOMBRE_REPORTE_RADSINNPN}\")\n",
    "\n",
    "df_radicadosActualizacionSinNPN = pd.DataFrame([[total_radicados_SinNPN]], columns=['TotalRadicadosSinNPN'])"
   ]
  },
  {
   "cell_type": "markdown",
   "metadata": {},
   "source": [
    "<h3>Total Radicados por Zona y Proceso [ATENDIENDO] </h3>"
   ]
  },
  {
   "cell_type": "code",
   "execution_count": null,
   "metadata": {},
   "outputs": [],
   "source": [
    "\n",
    "df_predios_radicados = df_predios_radicados[df_predios_radicados['vr_estado_paso']=='ATENDIENDO']\n",
    "df_predios_radicados_x_proceso_x_zona = pd.DataFrame(df_predios_radicados[['municipio','Proceso','zona']].value_counts()).reset_index().rename(columns={'count':'total_predios'})\n",
    "\n",
    "dataframes = {}\n",
    "\n",
    "for municipio in L_MUNICIPIO:\n",
    "    query_municipio_zona = \"municipio_estandarizado == \"+\"'\"+municipio+\"'\"\n",
    "    df = df_predios_radicados.query(query_municipio_zona)\n",
    "    dataframes[municipio] = df\n",
    "\n",
    "for municipio, df in dataframes.items():\n",
    "    globals()[f'df_{municipio}'] = df\n",
    "    globals()[f'df_{municipio}_Filtrado'] = pd.DataFrame(globals()[f'df_{municipio}'][['Proceso', 'zona']].value_counts().reset_index()).rename(columns={'count':'total_predios'})\n",
    "    globals()[f'df_{municipio}_Filtrado_Pivote'] = globals()[f'df_{municipio}_Filtrado'].pivot(index=\"zona\", columns=\"Proceso\", values=\"total_predios\")\n",
    "    for columna in NOMBRE_PROCESOS:\n",
    "        if columna in globals()[f'df_{municipio}_Filtrado_Pivote'].columns:\n",
    "            globals()[f'df_{municipio}_Filtrado_Pivote'].loc[globals()[f'df_{municipio}_Filtrado_Pivote'][columna].isnull(), columna] = 0\n",
    "            globals()[f'df_{municipio}_Filtrado_Pivote'][columna] = globals()[f'df_{municipio}_Filtrado_Pivote'][columna].astype(int)\n",
    "\n",
    "# ! Para gráfica\n",
    "# print(f\"Predios por Zona, Maria La Baja: \\n {df_MariaLaBaja_Filtrado}\")\n",
    "# print(f\"Predios por Zona, Repelon: \\n {df_Repelon_Filtrado}\")\n",
    "# print(f\"Predios por Zona, Baranoa: \\n {df_Baranoa_Filtrado}\")\n",
    "# print(f\"Predios por Zona, Sabanagrande: \\n {df_Sabanagrande_Filtrado}\")\n",
    "\n",
    "# # ! Para Tabla\n",
    "print(F\"PARA TABLAS \\n\")\n",
    "print(f\"Predios por Zona, Maria La Baja: \\n {df_MariaLaBaja_Filtrado_Pivote}\")\n",
    "print(f\"Predios por Zona, Repelon: \\n {df_Repelon_Filtrado_Pivote}\")\n",
    "print(f\"Predios por Zona, Baranoa: \\n {df_Baranoa_Filtrado_Pivote}\")\n",
    "print(f\"Predios por Zona, Sabanagrande: \\n {df_Sabanagrande_Filtrado_Pivote}\")"
   ]
  },
  {
   "cell_type": "markdown",
   "metadata": {},
   "source": [
    "<h3>Predios Atendiendo</h3>"
   ]
  },
  {
   "cell_type": "code",
   "execution_count": null,
   "metadata": {},
   "outputs": [],
   "source": [
    "df_radicadosConNPNAtendiendo = df_predios_radicados[(df_predios_radicados['npn'].notnull()) & \n",
    "    (df_predios_radicados['vr_estado_paso'] == 'ATENDIENDO')]\n",
    "\n",
    "df_radicadosConNPNAtendiendoCampo = df_radicadosConNPNAtendiendo[columnasRadicadoActualizacionCampo]\n",
    "print(f\" 1. El total de trámites, en actualización (formación) y que están siendo atendidos son: {df_radicadosConNPNAtendiendo.shape[0]}\")\n",
    "\n",
    "# ! Para Tabla\n",
    "df_totalprediosActualEnAtencion = pd.DataFrame([[df_radicadosConNPNAtendiendoCampo.shape[0]]], columns=['Total Predios Actualizacion En Atención'])\n",
    "\n",
    "df_radicadosConNPNAtendiendoCampo.to_excel(os.path.join(DIRECTORIO_REPORTE, NOMBRE_REPORTE_RADFORMACIONATENDIENDO), sheet_name='ReportePrediosEnAtencion')\n",
    "print(f\"Se crea el reporte {NOMBRE_REPORTE_RADFORMACIONATENDIENDO}\")"
   ]
  },
  {
   "cell_type": "markdown",
   "metadata": {},
   "source": [
    "<h3>Proceso: Atendiendo (ESPACIALIZACIÓN)</h3>"
   ]
  },
  {
   "cell_type": "code",
   "execution_count": null,
   "metadata": {},
   "outputs": [],
   "source": [
    "\n",
    "df_terrenos_radicadosConNPNAtendiendoCampo = pd.merge(left=df_terrenos, right=df_radicadosConNPNAtendiendo, left_on=\"codigo\", right_on=\"npn\", how=\"inner\")\n",
    "\n",
    "# # TODO: ExportacionTramitesEnAtencionXEstado\n",
    "# ** Exportación a BD Consolidada\n",
    "NOMBRE_CAPA_SALIDA = f\"Analitica_UT_Consolidada\\\\{NOMBRE_CAPA_HAXESTADO.upper()}\"\n",
    "ruta_salida_terrenos_ha_x_estado = os.path.join(RUTA_BD_CONSOLIDADA, NOMBRE_CAPA_SALIDA)\n",
    "\n",
    "df_terrenos_radicadosConNPNAtendiendoCampo.spatial.to_featureclass(location=ruta_salida_terrenos_ha_x_estado)\n",
    "print(f\"Se exporta la capa {NOMBRE_CAPA_SALIDA} a BD Consolidada\")\n",
    "\n",
    "# ** Exportación a BD Seguimiento Indicadores\n",
    "df_terrenos_radicadosConNPNAtendiendoCampo.spatial.to_featureclass(location=os.path.join(RUTA_BD_LOCAL,NOMBRE_CAPA_HAXESTADO))\n",
    "print(f\"Se exporta la capa {NOMBRE_CAPA_SALIDA} a BD Local 2.2.0\")"
   ]
  },
  {
   "cell_type": "markdown",
   "metadata": {},
   "source": [
    "<h3>Calculo de Hectáreas [Atendiendo por Actualización]</h3>"
   ]
  },
  {
   "cell_type": "code",
   "execution_count": null,
   "metadata": {},
   "outputs": [],
   "source": [
    "\n",
    "# TODO: Actualización\n",
    "# ** Mejora de la tabla\n",
    "df_radicadosConNPNAtendiendoCampo = df_terrenos_radicadosConNPNAtendiendoCampo[columnas_espacializacion_radicadosActualizacionConNPNAtendiendoCampo]\n",
    "# ** Filtro de registros asociados a la Actualización\n",
    "df_radicadosActualizacionConNPNAtendiendoCampo = df_radicadosConNPNAtendiendoCampo[df_radicadosConNPNAtendiendoCampo['Proceso'] == 'Actualización']"
   ]
  },
  {
   "cell_type": "code",
   "execution_count": null,
   "metadata": {},
   "outputs": [],
   "source": [
    "df_radicadosActualizacionConNPNAtendiendoCampo_municipio_has = df_radicadosActualizacionConNPNAtendiendoCampo.groupby(['municipio_estandarizado','zona','estado_tramite'])['area_ha_cmt12'].sum()\n",
    "df_radicadosConNPNAtendiendoCampo_municipio_has = pd.DataFrame(df_radicadosActualizacionConNPNAtendiendoCampo_municipio_has).reset_index().round(2)\n",
    "df_radicadosConNPNAtendiendoCampo_municipio_has = df_radicadosConNPNAtendiendoCampo_municipio_has.rename(columns=dict_correcion_area_columna)"
   ]
  },
  {
   "cell_type": "markdown",
   "metadata": {},
   "source": [
    "<h3>Calculo de Hectáreas: Actualizacion - Actualización - Atendiendo - Zona - En SIG</h3>"
   ]
  },
  {
   "cell_type": "code",
   "execution_count": null,
   "metadata": {},
   "outputs": [],
   "source": [
    "df_radicadosActualizacionConNPNAtendiendoCampo = df_radicadosActualizacionConNPNAtendiendoCampo[(df_radicadosActualizacionConNPNAtendiendoCampo['estado_tramite'] == '6.Preparando Edición Geográfica') | \n",
    "                                                                                                (df_radicadosActualizacionConNPNAtendiendoCampo['estado_tramite'] == '7.Realizando Edición Geográfica') |\n",
    "                                                                                                (df_radicadosActualizacionConNPNAtendiendoCampo['estado_tramite'] == '8.Revisando Información Geográfica')]\n",
    "\n",
    "df_radicadosActualizacionConNPNAtendiendoCampo_municipio_zona_has = df_radicadosActualizacionConNPNAtendiendoCampo.groupby(['municipio_estandarizado','zona'])['area_ha_cmt12'].sum()\n",
    "df_radicadosActualizacionConNPNAtendiendoCampo_municipio_zona_has = pd.DataFrame(df_radicadosActualizacionConNPNAtendiendoCampo_municipio_zona_has).reset_index().round(2)\n",
    "df_radicadosActualizacionConNPNAtendiendoCampo_municipio_zona_has = df_radicadosActualizacionConNPNAtendiendoCampo_municipio_zona_has.rename(columns=dict_correcion_area_columna)\n",
    "\n",
    "# ! Para Gráfico\n",
    "# df_radicadosActualizacionConNPNAtendiendoCampo_municipio_zona_has\n",
    "\n",
    "# # ! Para Tabla\n",
    "df_radicadosActualizacionConNPNAtendiendoCampo_municipio_zona_has_pivote = df_radicadosActualizacionConNPNAtendiendoCampo_municipio_zona_has.pivot(index=\"zona\", columns=\"municipio_estandarizado\", values=\"area_ha_ctm12\")\n",
    "df_radicadosConNPNAtendiendoCampo_municipio_zona_has_pivote =  df_radicadosActualizacionConNPNAtendiendoCampo_municipio_zona_has_pivote.fillna(0)"
   ]
  },
  {
   "cell_type": "code",
   "execution_count": null,
   "metadata": {},
   "outputs": [],
   "source": [
    "\n",
    "# ** Usar ExcelWriter para guardar múltiples dataframes en diferentes hojas\n",
    "with pd.ExcelWriter(XLSX_UNIFICADO, engine='xlsxwriter') as writer:\n",
    "    df_MariaLaBaja_Filtrado_Pivote.to_excel(writer, sheet_name='5_1_PredActXZonaMariaLaBaja', index=True)\n",
    "    df_Repelon_Filtrado_Pivote.to_excel(writer, sheet_name='5_2_PredActXZonaRepelon', index=True)\n",
    "    df_Baranoa_Filtrado_Pivote.to_excel(writer, sheet_name='5_3_PredActXZonaBaranoa', index=True)\n",
    "    df_Sabanagrande_Filtrado_Pivote.to_excel(writer, sheet_name='5_4_PredActXZonaSabanag', index=True)\n",
    "    df_radicadosConNPNAtendiendoCampo_municipio_has.to_excel(writer, sheet_name='16_TotalHAActuaXMpio', index=True)\n",
    "    df_radicadosConNPNAtendiendoCampo_municipio_zona_has_pivote.to_excel(writer, sheet_name='17_TotalHAActuaXMpioXZona', index=True)\n",
    "    df_totalprediosActualEnAtencion.to_excel(writer, sheet_name='4_TotalPrediosEnAtencion', index=True)\n",
    "\n",
    "print(f\"Se genera XLSX Unificado {XLSX_UNIFICADO}\")"
   ]
  },
  {
   "cell_type": "code",
   "execution_count": null,
   "metadata": {},
   "outputs": [],
   "source": [
    "\n",
    "dir_directorio_salidas_xlsx = {1:[df_MariaLaBaja_Filtrado_Pivote,'5_1_PredActXZonaMariaLaBaja.xlsx','5_1_PredActXZonaMariaLaBaja'],\n",
    "    2:[df_Repelon_Filtrado_Pivote,'5_2_PredActXZonaRepelon.xlsx','5_2_PredActXZonaRepelon'],\n",
    "    3:[df_Baranoa_Filtrado_Pivote,'5_3_PredActXZonaBaranoa.xlsx','5_3_PredActXZonaBaranoa'],\n",
    "    4:[df_Sabanagrande_Filtrado_Pivote,'5_4_PredActXZonaSabanag.xlsx','5_4_PredActXZonaSabanag'],\n",
    "    5:[df_radicadosConNPNAtendiendoCampo_municipio_has,'16_TotalHAActuaXMpio.xlsx','16_TotalHAActuaXMpio'],\n",
    "    6:[df_radicadosConNPNAtendiendoCampo_municipio_zona_has_pivote,'17_TotalHAActuaXMpioXZona.xlsx','17_TotalHAActuaXMpioXZona'],\n",
    "    7:[df_totalprediosActualEnAtencion,'4_TotalPrediosEnAtencion.xlsx','4_TotalPrediosEnAtencion'],\n",
    "    }\n",
    "\n",
    "if os.path.exists(os.path.join(RUTA_RAIZ, NOMBRE_IND_2_2_0, fecha_directorio)):\n",
    "    for llave, valor in dir_directorio_salidas_xlsx.items():\n",
    "        valor[0].to_excel(os.path.join(RUTA_RAIZ, NOMBRE_IND_2_2_0, fecha_directorio, valor[1]), sheet_name=valor[2])\n",
    "        print(f\"Se genera XLSX de DF {valor[1]}\")\n",
    "else:\n",
    "    os.mkdir(os.path.join(RUTA_RAIZ, NOMBRE_IND_2_2_0, fecha_directorio))\n",
    "    for llave, valor in dir_directorio_salidas_xlsx.items():\n",
    "        valor[0].to_excel(os.path.join(RUTA_RAIZ, NOMBRE_IND_2_2_0, fecha_directorio, valor[1]), sheet_name=valor[2])\n",
    "        print(f\"Se genera XLSX de DF {valor[1]}\")"
   ]
  },
  {
   "cell_type": "markdown",
   "metadata": {},
   "source": [
    "<h3>Actualización Mapa y Generación de PDF</h3>"
   ]
  },
  {
   "cell_type": "code",
   "execution_count": null,
   "metadata": {},
   "outputs": [],
   "source": [
    "nombreMapa = 'Seguimiento Indicadores [Ha] Visitadas Fuente BCGS X MPIO'\n",
    "nombreCapa = 'Terrenos Radicados BCGS'\n",
    "nombreCapaSimbologia = 'estado_tramite'\n",
    "nombreLayout = nombreMapa\n",
    "\n",
    "funcion_actualizacion_exportacion_seriemapa.actualizacion_exportacion_mapa(nombreMapa, nombreCapa, nombreCapaSimbologia, nombreLayout)"
   ]
  }
 ],
 "metadata": {
  "kernelspec": {
   "display_name": "Python 3",
   "language": "python",
   "name": "python3"
  },
  "language_info": {
   "codemirror_mode": {
    "name": "ipython",
    "version": 3
   },
   "file_extension": ".py",
   "mimetype": "text/x-python",
   "name": "python",
   "nbconvert_exporter": "python",
   "pygments_lexer": "ipython3",
   "version": "3.11.8"
  }
 },
 "nbformat": 4,
 "nbformat_minor": 2
}
