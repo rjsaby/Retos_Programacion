{
 "cells": [
  {
   "cell_type": "code",
   "execution_count": 4,
   "metadata": {},
   "outputs": [
    {
     "data": {
      "text/plain": [
       "'    \\n    Indicador: Porcentaje de Hectáreas actualizadas con respecto al total de hectáreas que deben actualizarse para cumplir un Hito contractual.\\n'"
      ]
     },
     "execution_count": 4,
     "metadata": {},
     "output_type": "execute_result"
    }
   ],
   "source": [
    "\"\"\"    \n",
    "    Indicador: Porcentaje de Hectáreas actualizadas con respecto al total de hectáreas que deben actualizarse para cumplir un Hito contractual.\n",
    "\"\"\""
   ]
  },
  {
   "cell_type": "markdown",
   "metadata": {},
   "source": [
    "<h3>Importación Librerías</h3>"
   ]
  },
  {
   "cell_type": "code",
   "execution_count": 5,
   "metadata": {},
   "outputs": [],
   "source": [
    "import pandas as pd\n",
    "import os\n",
    "import seaborn as sns\n",
    "\n",
    "os.environ[\"CRYPTOGRAPHY_OPENSSL_NO_LEGACY\"] = \"yes\"\n",
    "\n",
    "# ? Se usa para generar gráficos\n",
    "import matplotlib.pyplot as plt\n",
    "\n",
    "# ? Se usa para determina la fecha de ejecución del proceso dentro del export de los resultados estadísticos\n",
    "from datetime import datetime\n",
    "\n",
    "# ? Conexión a BD Postgres. Se usa dado que pandas no acepta sino este paquete para la conexión.\n",
    "from sqlalchemy import create_engine, text\n",
    "\n",
    "from datetime import datetime\n",
    "\n",
    "from arcgis.features import GeoAccessor, GeoSeriesAccessor\n",
    "import arcpy\n",
    "\n",
    "from pathlib import Path\n",
    "\n",
    "# ** Librerías propias\n",
    "import funcion_dataframe_terrenos\n",
    "import funcion_SQL_a_DataFrame"
   ]
  },
  {
   "cell_type": "markdown",
   "metadata": {},
   "source": [
    "<h3>Parametrización de Variables</h3>"
   ]
  },
  {
   "cell_type": "code",
   "execution_count": 6,
   "metadata": {},
   "outputs": [],
   "source": [
    "consulta_tRadicados = \"\"\" \n",
    "select t0.*\n",
    "\t,radicados.\"Proceso\"\n",
    "\t,radicados.vr_nombre_proceso\n",
    "\t,radicados.estado_tramite\n",
    "\t,radicados.actividad\n",
    "\t,radicados.vr_estado_paso\n",
    "\t,radicados.proceso_estado\n",
    "\t,radicados.fecha_radicado\n",
    "\t,radicados.usuario\n",
    "\t,radicados.vr_proces_des\n",
    "\t,radicados.vr_consec_nom\n",
    "\t,radicados.vr_consec_des\n",
    "\t,radicados.vr_consec_tip\n",
    "\t,radicados.vr_step_est\n",
    "\t,radicados.vr_task_nom\n",
    "\t,radicados.vr_task_tip\n",
    "\t,radicados.vr_task_con\n",
    "\t,radicados.vr_task_est\n",
    "from bpmcat.vw_trmactivos_rad_npn t0\n",
    "inner join (\n",
    "\tselect t1.municipio\n",
    "\t    ,t1.npn\n",
    "\t    ,t1.nro_ficha\n",
    "\t    ,t1.radicado\n",
    "\t    ,(case when t1.vr_nombre_proceso like 'Comple%%' then 'Actualización'\n",
    "\t        when t1.vr_nombre_proceso like 'Forma%%' then 'Actualización'\n",
    "\t        when t1.vr_nombre_proceso like 'Muta%%' then 'Conservación'\t\t\t\t\n",
    "\t        when t1.vr_nombre_proceso like 'Recti%%' then 'Conservación'\n",
    "\t        else t1.vr_nombre_proceso\n",
    "\t        end) \"Proceso\"\n",
    "\t    ,t1.vr_nombre_proceso\t\n",
    "\t    ,t1.estado_tramite\n",
    "\t    ,t1.actividad\n",
    "\t    ,t1.vr_estado_paso\n",
    "\t    ,t2.vr_proegn_est proceso_estado\n",
    "\t    ,t2.nb_step_idn\n",
    "\t    ,cast(t2.dt_adt_fchupd as date) dt_adt_fchupd\n",
    "\t    ,t2.vr_proegn_ori\n",
    "\t    ,cast(t1.fecha_radicado as date) fecha_radicado\n",
    "\t    ,t1.usuario\n",
    "\t    ,cast(t2.dt_adt_fchupd as date) fecha_actualizacion_tramite\n",
    "\t    ,t3.vr_proces_des\n",
    "\t    ,t6.vr_consec_nom\n",
    "\t    ,t6.vr_consec_des\n",
    "\t    ,t6.vr_consec_tip\n",
    "\t    ,t4.vr_step_est\n",
    "\t    --,t4.nb_task_idn\n",
    "\t    ,t5.vr_task_nom \n",
    "\t    ,t5.vr_task_tip\n",
    "\t    ,t5.vr_task_con\n",
    "\t    ,t5.vr_task_est \n",
    "\t    ,t7.vr_functy_des\n",
    "\tfrom bpmcat.vw_rpt_tramites_en_proceso t1\n",
    "\tleft join bpmcat.tb_bpm_egn_proegn t2 on t1.radicado = t2.vr_proegn_rad\n",
    "\tleft join bpmcat.tb_bpm_mdl_proces t3 on t2.nb_proces_idn = t3.nb_proces_idn \n",
    "\tleft join bpmcat.tb_fw_sec_consec t6 on t3.nb_consec_idn = t6.nb_consec_idn \n",
    "\tleft join bpmcat.tb_bpm_egn_step t4 on t2.nb_step_idn = t4.nb_step_idn\n",
    "\tleft join bpmcat.tb_bpm_mdl_task t5 on t4.nb_task_idn = t5.nb_task_idn\n",
    "\tleft join bpmcat.tb_fw_gui_functy t7 on t5.nb_functy_idn = t7.nb_functy_idn\n",
    "\t) radicados \n",
    "on radicados.radicado = t0.radicado;\n",
    "\"\"\"\t\n",
    "\n",
    "columnasRadicadoActualizacionCampo = ['municipio','municipio_estandarizado','zona','npn','radicado','Proceso','estado_tramite','actividad','usuario','vr_proces_des']\n",
    "\n",
    "columnas_espacializacion_radicadosActualizacionConNPNAtendiendoCampo = ['CODIGO',\n",
    "\t'CODIGO_ANTERIOR',                                                                        \n",
    "\t'municipio',\n",
    "\t'municipio_estandarizado',\n",
    "\t'zona',\n",
    "    'Proceso',\n",
    "\t'radicado',\n",
    "\t'estado_tramite',\n",
    "\t'actividad',\n",
    "\t'usuario',\n",
    "\t'vr_proces_des',\n",
    "\t'Area_ha_cmt12',\n",
    "\t'SHAPE']\n",
    "\n",
    "L_MUNICIPIO = ['MariaLaBaja', 'Repelon', 'Baranoa', 'Sabanagrande']\n",
    "NOMBRE_PROCESOS = ['Actualización','Conservación']\n",
    "MUNICIPIO_FUENTE = ['MARIA LA ']\n",
    "\n",
    "DIRECTORIO_REPORTE = r\"C:\\docsProyectos\\5.RAISS\\2024.0.RAISS_Lote_4\\6.Hitos\\E2_Informes_Id_FisicoJuridica\\2_2_0_Identificacion_Predial_Total_Ha_Actualizadas\\zReportes\"\n",
    "NOMBRE_REPORTE_RADSINNPN = 'Reporte_Radicado_SinNPNoFicha.xlsx'\n",
    "NOMBRE_REPORTE_RADFORMACIONATENDIENDO = 'Reporte_Radicado_EnAtencion.xlsx'\n",
    "\n",
    "RUTA_BD_LOCAL = r\"C:\\docsProyectos\\5.RAISS\\2024.0.RAISS_Lote_4\\6.Hitos\\E2_Informes_Id_FisicoJuridica\\2_2_0_Identificacion_Predial_Total_Ha_Actualizadas\\Base_Datos\\_2_2_0.gdb\"\n",
    "RUTA_BD_CONSOLIDADA = r\"C:\\docsProyectos\\5.RAISS\\2024.0.RAISS_Lote_4\\6.Hitos\\E1_Alistamiento_Diagnostico\\3_Disposicion\\1.BD_Consolidada\\BD_Consolidada_Lote4.gdb\"\n",
    "NOMBRE_CAPA_HAXESTADO = 'TERRENOS_RECONOCIMIENTO_TRAMITES_ATENCION_BCGS'\n",
    "\n",
    "XLSX_UNIFICADO = r\"C:\\docsProyectos\\5.RAISS\\2024.0.RAISS_Lote_4\\6.Hitos\\E2_Informes_Id_FisicoJuridica\\2_2_0_Identificacion_Predial_Total_Ha_Actualizadas\\zReportes\\2_2_0_Identificacion_Predial_Total_Ha_Actualizadas.xlsx\"\n",
    "\n",
    "RUTA_RAIZ = r\"C:\\docsProyectos\\5.RAISS\\2024.0.RAISS_Lote_4\\6.Hitos\\E2_Informes_Id_FisicoJuridica\\2_2_0_Identificacion_Predial_Total_Ha_Actualizadas\\zReportes\"\n",
    "NOMBRE_IND_2_2_0 = 'Seguimiento_Diario'\n",
    "\n",
    "fecha_actual = datetime.now()\n",
    "fecha_directorio = str(fecha_actual.strftime(\"%Y-%m-%d\"))"
   ]
  },
  {
   "cell_type": "markdown",
   "metadata": {},
   "source": [
    "<h3>Ejecución de Funciones</h3>"
   ]
  },
  {
   "cell_type": "code",
   "execution_count": 7,
   "metadata": {},
   "outputs": [
    {
     "name": "stdout",
     "output_type": "stream",
     "text": [
      "Concluye el proceso\n",
      "Inicio de la conexión\n",
      "Conexión exitosa ...\n"
     ]
    }
   ],
   "source": [
    "df_terrenos = funcion_dataframe_terrenos.dataframe_terrenos()\n",
    "df_consulta_radicados = funcion_SQL_a_DataFrame.sql_a_dataframe(consulta_tRadicados)"
   ]
  },
  {
   "cell_type": "markdown",
   "metadata": {},
   "source": [
    "<h3>Generación de Campo Zona (Urbano/Rural) y Estandarización Campo Municipio</h3>"
   ]
  },
  {
   "cell_type": "code",
   "execution_count": 8,
   "metadata": {},
   "outputs": [],
   "source": [
    "\n",
    "# TODO: Generacion Campo Zona\n",
    "df_predios_radicados = df_consulta_radicados.copy()\n",
    "\n",
    "df_predios_radicados['codigo_zona'] = df_predios_radicados['npn'].str[5:7]\n",
    "df_predios_radicados['zona'] = None\n",
    "\n",
    "df_predios_radicados.loc[df_predios_radicados['codigo_zona'] == '01', 'zona'] = 'Urbano'\n",
    "df_predios_radicados.loc[df_predios_radicados['codigo_zona'] == '00', 'zona'] = 'Rural'\n",
    "df_predios_radicados.loc[(df_predios_radicados['codigo_zona'] != '00') & (df_predios_radicados['codigo_zona'] != '01'), 'zona'] = 'Corregimientos Urbanos'\n",
    "\n",
    "# TODO: Generacion Campo municipio_estandarizado\n",
    "df_predios_radicados['municipio_estandarizado'] = None\n",
    "df_predios_radicados.loc[df_predios_radicados['municipio'] == 'MARÍA LA BAJA', 'municipio_estandarizado'] = 'MariaLaBaja'\n",
    "df_predios_radicados.loc[df_predios_radicados['municipio'] == 'REPELÓN', 'municipio_estandarizado'] = 'Repelon'\n",
    "df_predios_radicados.loc[df_predios_radicados['municipio'] == 'BARANOA', 'municipio_estandarizado'] = 'Baranoa'\n",
    "df_predios_radicados.loc[df_predios_radicados['municipio'] == 'SABANAGRANDE', 'municipio_estandarizado'] = 'Sabanagrande'"
   ]
  },
  {
   "cell_type": "markdown",
   "metadata": {},
   "source": [
    "<h3>Trámites Sin NPN Registrado</h3>"
   ]
  },
  {
   "cell_type": "code",
   "execution_count": 9,
   "metadata": {},
   "outputs": [
    {
     "name": "stdout",
     "output_type": "stream",
     "text": [
      " 1. El total de radicados sin parametrización de NPN o Ficha es: \n",
      " 0\n",
      "Se crea el reporte Reporte_Radicado_SinNPNoFicha.xlsx\n"
     ]
    }
   ],
   "source": [
    "\n",
    "# TODO: Radicados sin NPN\n",
    "\n",
    "# ** 1. Filtro\n",
    "df_radicados_sin_npn = df_predios_radicados[(df_predios_radicados['npn'].isnull()) | (df_predios_radicados['npn'] == '')] \n",
    "\n",
    "total_radicados_SinNPN = df_radicados_sin_npn.shape[0]\n",
    "print(f\" 1. El total de radicados sin parametrización de NPN o Ficha es: \\n {total_radicados_SinNPN}\")\n",
    "\n",
    "df_radicadosSinNPNParaReporte = df_radicados_sin_npn[['municipio','Proceso','radicado','usuario','vr_consec_nom']]\n",
    "df_radicadosSinNPNParaReporte.to_excel(os.path.join(DIRECTORIO_REPORTE, NOMBRE_REPORTE_RADSINNPN), sheet_name='ReporteRadSinNPN')\n",
    "print(f\"Se crea el reporte {NOMBRE_REPORTE_RADSINNPN}\")\n",
    "\n",
    "df_radicadosActualizacionSinNPN = pd.DataFrame([[total_radicados_SinNPN]], columns=['TotalRadicadosSinNPN'])"
   ]
  },
  {
   "cell_type": "markdown",
   "metadata": {},
   "source": [
    "<h3>Total Radicados por Zona y Proceso</h3>"
   ]
  },
  {
   "cell_type": "code",
   "execution_count": 10,
   "metadata": {},
   "outputs": [
    {
     "name": "stdout",
     "output_type": "stream",
     "text": [
      "PARA TABLAS \n",
      "\n",
      "Radicados por Zona, Maria La Baja: \n",
      " Proceso                 Actualización  Conservación\n",
      "zona                                               \n",
      "Corregimientos Urbanos            229             1\n",
      "Rural                             663             0\n",
      "Urbano                            605             2\n",
      "Radicados por Zona, Repelon: \n",
      " Proceso                 Actualización  Conservación\n",
      "zona                                               \n",
      "Corregimientos Urbanos            844             0\n",
      "Rural                             270             1\n",
      "Urbano                              0             2\n",
      "Radicados por Zona, Baranoa: \n",
      " Proceso  Conservación\n",
      "zona                 \n",
      "Urbano             14\n",
      "Radicados por Zona, Sabanagrande: \n",
      " Proceso  Conservación\n",
      "zona                 \n",
      "Urbano              1\n"
     ]
    }
   ],
   "source": [
    "\n",
    "df_predios_radicados_x_proceso_x_zona = pd.DataFrame(df_predios_radicados[['municipio','Proceso','zona']].value_counts()).reset_index().rename(columns={'count':'total_predios'})\n",
    "\n",
    "dataframes = {}\n",
    "\n",
    "for municipio in L_MUNICIPIO:\n",
    "    query_municipio_zona = \"municipio_estandarizado == \"+\"'\"+municipio+\"'\"\n",
    "    df = df_predios_radicados.query(query_municipio_zona)\n",
    "    dataframes[municipio] = df\n",
    "\n",
    "for municipio, df in dataframes.items():\n",
    "    globals()[f'df_{municipio}'] = df\n",
    "    globals()[f'df_{municipio}_Filtrado'] = pd.DataFrame(globals()[f'df_{municipio}'][['Proceso', 'zona']].value_counts().reset_index()).rename(columns={'count':'total_predios'})\n",
    "    globals()[f'df_{municipio}_Filtrado_Pivote'] = globals()[f'df_{municipio}_Filtrado'].pivot(index=\"zona\", columns=\"Proceso\", values=\"total_predios\")\n",
    "    for columna in NOMBRE_PROCESOS:\n",
    "        if columna in globals()[f'df_{municipio}_Filtrado_Pivote'].columns:\n",
    "            globals()[f'df_{municipio}_Filtrado_Pivote'].loc[globals()[f'df_{municipio}_Filtrado_Pivote'][columna].isnull(), columna] = 0\n",
    "            globals()[f'df_{municipio}_Filtrado_Pivote'][columna] = globals()[f'df_{municipio}_Filtrado_Pivote'][columna].astype(int)\n",
    "\n",
    "# ! Para gráfica\n",
    "# print(f\"Radicados por Zona, Maria La Baja: \\n {df_MariaLaBaja_Filtrado}\")\n",
    "# print(f\"Radicados por Zona, Repelon: \\n {df_Repelon_Filtrado}\")\n",
    "# print(f\"Radicados por Zona, Baranoa: \\n {df_Baranoa_Filtrado}\")\n",
    "# print(f\"Radicados por Zona, Sabanagrande: \\n {df_Sabanagrande_Filtrado}\")\n",
    "\n",
    "# # ! Para Tabla\n",
    "print(F\"PARA TABLAS \\n\")\n",
    "print(f\"Radicados por Zona, Maria La Baja: \\n {df_MariaLaBaja_Filtrado_Pivote}\")\n",
    "print(f\"Radicados por Zona, Repelon: \\n {df_Repelon_Filtrado_Pivote}\")\n",
    "print(f\"Radicados por Zona, Baranoa: \\n {df_Baranoa_Filtrado_Pivote}\")\n",
    "print(f\"Radicados por Zona, Sabanagrande: \\n {df_Sabanagrande_Filtrado_Pivote}\")"
   ]
  },
  {
   "cell_type": "markdown",
   "metadata": {},
   "source": [
    "<h3>Predios Atendiendo</h3>"
   ]
  },
  {
   "cell_type": "code",
   "execution_count": 11,
   "metadata": {},
   "outputs": [
    {
     "name": "stdout",
     "output_type": "stream",
     "text": [
      " 1. El total de trámites, en actualización (formación) y que están siendo atendidos son: 2632\n",
      "Se crea el reporte Reporte_Radicado_EnAtencion.xlsx\n"
     ]
    }
   ],
   "source": [
    "df_radicadosConNPNAtendiendo = df_predios_radicados[(df_predios_radicados['npn'].notnull()) & \n",
    "    (df_predios_radicados['vr_estado_paso'] == 'ATENDIENDO')]\n",
    "\n",
    "df_radicadosConNPNAtendiendoCampo = df_radicadosConNPNAtendiendo[columnasRadicadoActualizacionCampo]\n",
    "print(f\" 1. El total de trámites, en actualización (formación) y que están siendo atendidos son: {df_radicadosConNPNAtendiendo.shape[0]}\")\n",
    "\n",
    "# ! Para Tabla\n",
    "df_totalprediosActualEnAtencion = pd.DataFrame([[df_radicadosConNPNAtendiendoCampo.shape[0]]], columns=['Total Predios Actualizacion En Atención'])\n",
    "\n",
    "df_radicadosConNPNAtendiendoCampo.to_excel(os.path.join(DIRECTORIO_REPORTE, NOMBRE_REPORTE_RADFORMACIONATENDIENDO), sheet_name='ReportePrediosEnAtencion')\n",
    "print(f\"Se crea el reporte {NOMBRE_REPORTE_RADFORMACIONATENDIENDO}\")"
   ]
  },
  {
   "cell_type": "markdown",
   "metadata": {},
   "source": [
    "<h3>Proceso: Atendiendo (ESPACIALIZACIÓN)</h3>"
   ]
  },
  {
   "cell_type": "code",
   "execution_count": 12,
   "metadata": {},
   "outputs": [
    {
     "name": "stdout",
     "output_type": "stream",
     "text": [
      "cannot add field: 'fecha_radicado'\n",
      "Se exporta la capa Analitica_UT_Consolidada\\TERRENOS_RECONOCIMIENTO_TRAMITES_ATENCION_BCGS a BD Consolidada\n",
      "cannot add field: 'fecha_radicado'\n",
      "Se exporta la capa Analitica_UT_Consolidada\\TERRENOS_RECONOCIMIENTO_TRAMITES_ATENCION_BCGS a BD Local 2.2.0\n"
     ]
    }
   ],
   "source": [
    "\n",
    "df_terrenos_radicadosConNPNAtendiendoCampo = pd.merge(left=df_terrenos, right=df_radicadosConNPNAtendiendo, left_on=\"CODIGO\", right_on=\"npn\", how=\"inner\")\n",
    "\n",
    "# # TODO: ExportacionTramitesEnAtencionXEstado\n",
    "# ** Exportación a BD Consolidada\n",
    "NOMBRE_CAPA_SALIDA = f\"Analitica_UT_Consolidada\\\\{NOMBRE_CAPA_HAXESTADO.upper()}\"\n",
    "ruta_salida_terrenos_ha_x_estado = os.path.join(RUTA_BD_CONSOLIDADA, NOMBRE_CAPA_SALIDA)\n",
    "\n",
    "df_terrenos_radicadosConNPNAtendiendoCampo.spatial.to_featureclass(location=ruta_salida_terrenos_ha_x_estado)\n",
    "print(f\"Se exporta la capa {NOMBRE_CAPA_SALIDA} a BD Consolidada\")\n",
    "\n",
    "# ** Exportación a BD Seguimiento Indicadores\n",
    "df_terrenos_radicadosConNPNAtendiendoCampo.spatial.to_featureclass(location=os.path.join(RUTA_BD_LOCAL,NOMBRE_CAPA_HAXESTADO))\n",
    "print(f\"Se exporta la capa {NOMBRE_CAPA_SALIDA} a BD Local 2.2.0\")"
   ]
  },
  {
   "cell_type": "markdown",
   "metadata": {},
   "source": [
    "<h3>Calculo de Hectáreas [Atendiendo por Actualización]</h3>"
   ]
  },
  {
   "cell_type": "code",
   "execution_count": 13,
   "metadata": {},
   "outputs": [],
   "source": [
    "\n",
    "# TODO: Actualización\n",
    "# ** Mejora de la tabla\n",
    "df_radicadosConNPNAtendiendoCampo = df_terrenos_radicadosConNPNAtendiendoCampo[columnas_espacializacion_radicadosActualizacionConNPNAtendiendoCampo]\n",
    "# ** Filtro de registros asociados a la Actualización\n",
    "df_radicadosActualizacionConNPNAtendiendoCampo = df_radicadosConNPNAtendiendoCampo[df_radicadosConNPNAtendiendoCampo['Proceso'] == 'Actualización']\n"
   ]
  },
  {
   "cell_type": "code",
   "execution_count": 14,
   "metadata": {},
   "outputs": [
    {
     "data": {
      "text/plain": [
       "municipio_estandarizado\n",
       "MariaLaBaja    7200.383745\n",
       "Repelon         7838.23684\n",
       "Name: Area_ha_cmt12, dtype: Float64"
      ]
     },
     "execution_count": 14,
     "metadata": {},
     "output_type": "execute_result"
    }
   ],
   "source": [
    "df_radicadosActualizacionConNPNAtendiendoCampo_municipio_has = df_radicadosActualizacionConNPNAtendiendoCampo.groupby(['municipio_estandarizado'])['Area_ha_cmt12'].sum()\n",
    "df_radicadosConNPNAtendiendoCampo_municipio_has = pd.DataFrame(df_radicadosActualizacionConNPNAtendiendoCampo_municipio_has).reset_index().round(2)\n",
    "df_radicadosActualizacionConNPNAtendiendoCampo_municipio_has"
   ]
  },
  {
   "cell_type": "markdown",
   "metadata": {},
   "source": [
    "<h3>Calculo de Hectáreas: Actualizacion - Actualización - Atendiendo - Zona</h3>"
   ]
  },
  {
   "cell_type": "code",
   "execution_count": 15,
   "metadata": {},
   "outputs": [
    {
     "data": {
      "text/html": [
       "<div>\n",
       "<style scoped>\n",
       "    .dataframe tbody tr th:only-of-type {\n",
       "        vertical-align: middle;\n",
       "    }\n",
       "\n",
       "    .dataframe tbody tr th {\n",
       "        vertical-align: top;\n",
       "    }\n",
       "\n",
       "    .dataframe thead th {\n",
       "        text-align: right;\n",
       "    }\n",
       "</style>\n",
       "<table border=\"1\" class=\"dataframe\">\n",
       "  <thead>\n",
       "    <tr style=\"text-align: right;\">\n",
       "      <th>municipio_estandarizado</th>\n",
       "      <th>MariaLaBaja</th>\n",
       "      <th>Repelon</th>\n",
       "    </tr>\n",
       "    <tr>\n",
       "      <th>zona</th>\n",
       "      <th></th>\n",
       "      <th></th>\n",
       "    </tr>\n",
       "  </thead>\n",
       "  <tbody>\n",
       "    <tr>\n",
       "      <th>Corregimientos Urbanos</th>\n",
       "      <td>31.07</td>\n",
       "      <td>32.54</td>\n",
       "    </tr>\n",
       "    <tr>\n",
       "      <th>Rural</th>\n",
       "      <td>7149.0</td>\n",
       "      <td>7805.7</td>\n",
       "    </tr>\n",
       "    <tr>\n",
       "      <th>Urbano</th>\n",
       "      <td>20.31</td>\n",
       "      <td>&lt;NA&gt;</td>\n",
       "    </tr>\n",
       "  </tbody>\n",
       "</table>\n",
       "</div>"
      ],
      "text/plain": [
       "municipio_estandarizado  MariaLaBaja  Repelon\n",
       "zona                                         \n",
       "Corregimientos Urbanos         31.07    32.54\n",
       "Rural                         7149.0   7805.7\n",
       "Urbano                         20.31     <NA>"
      ]
     },
     "execution_count": 15,
     "metadata": {},
     "output_type": "execute_result"
    }
   ],
   "source": [
    "df_radicadosActualizacionConNPNAtendiendoCampo_municipio_zona_has = df_radicadosActualizacionConNPNAtendiendoCampo.groupby(['municipio_estandarizado','zona'])['Area_ha_cmt12'].sum()\n",
    "df_radicadosActualizacionConNPNAtendiendoCampo_municipio_zona_has = pd.DataFrame(df_radicadosActualizacionConNPNAtendiendoCampo_municipio_zona_has).reset_index().round(2)\n",
    "\n",
    "# ! Para Gráfico\n",
    "df_radicadosActualizacionConNPNAtendiendoCampo_municipio_zona_has\n",
    "\n",
    "# ! Para Tabla\n",
    "df_radicadosActualizacionConNPNAtendiendoCampo_municipio_zona_has_pivote = df_radicadosActualizacionConNPNAtendiendoCampo_municipio_zona_has.pivot(index=\"zona\", columns=\"municipio_estandarizado\", values=\"Area_ha_cmt12\")\n",
    "df_radicadosConNPNAtendiendoCampo_municipio_zona_has_pivote =  df_radicadosActualizacionConNPNAtendiendoCampo_municipio_zona_has_pivote.fillna(0)\n",
    "df_radicadosActualizacionConNPNAtendiendoCampo_municipio_zona_has_pivote"
   ]
  },
  {
   "cell_type": "code",
   "execution_count": 16,
   "metadata": {},
   "outputs": [
    {
     "name": "stdout",
     "output_type": "stream",
     "text": [
      "Se genera XLSX Unificado C:\\docsProyectos\\5.RAISS\\2024.0.RAISS_Lote_4\\6.Hitos\\E2_Informes_Id_FisicoJuridica\\2_2_0_Identificacion_Predial_Total_Ha_Actualizadas\\zReportes\\2_2_0_Identificacion_Predial_Total_Ha_Actualizadas.xlsx\n"
     ]
    }
   ],
   "source": [
    "\n",
    "# ** Usar ExcelWriter para guardar múltiples dataframes en diferentes hojas\n",
    "with pd.ExcelWriter(XLSX_UNIFICADO, engine='xlsxwriter') as writer:\n",
    "    df_MariaLaBaja_Filtrado_Pivote.to_excel(writer, sheet_name='5_1_PredActXZonaMariaLaBaja', index=False)\n",
    "    df_Repelon_Filtrado_Pivote.to_excel(writer, sheet_name='5_2_PredActXZonaRepelon', index=False)\n",
    "    df_Baranoa_Filtrado_Pivote.to_excel(writer, sheet_name='5_3_PredActXZonaBaranoa', index=False)\n",
    "    df_Sabanagrande_Filtrado_Pivote.to_excel(writer, sheet_name='5_4_PredActXZonaSabanag', index=False)\n",
    "    df_radicadosActualizacionConNPNAtendiendoCampo_municipio_has.to_excel(writer, sheet_name='16_TotalHAActuaXMpio', index=False)\n",
    "    df_radicadosActualizacionConNPNAtendiendoCampo_municipio_zona_has_pivote.to_excel(writer, sheet_name='17_TotalHAActuaXMpioXZona', index=False)\n",
    "    df_totalprediosActualEnAtencion.to_excel(writer, sheet_name='4_TotalPrediosEnAtencion', index=False)\n",
    "\n",
    "print(f\"Se genera XLSX Unificado {XLSX_UNIFICADO}\")"
   ]
  },
  {
   "cell_type": "code",
   "execution_count": 17,
   "metadata": {},
   "outputs": [
    {
     "name": "stdout",
     "output_type": "stream",
     "text": [
      "Se genera XLSX de DF 5_1_PredActXZonaMariaLaBaja.xlsx\n",
      "Se genera XLSX de DF 5_2_PredActXZonaRepelon.xlsx\n",
      "Se genera XLSX de DF 5_3_PredActXZonaBaranoa.xlsx\n",
      "Se genera XLSX de DF 5_4_PredActXZonaSabanag.xlsx\n",
      "Se genera XLSX de DF 16_TotalHAActuaXMpio.xlsx\n",
      "Se genera XLSX de DF 17_TotalHAActuaXMpioXZona.xlsx\n",
      "Se genera XLSX de DF 4_TotalPrediosEnAtencion.xlsx\n"
     ]
    }
   ],
   "source": [
    "\n",
    "dir_directorio_salidas_xlsx = {1:[df_MariaLaBaja_Filtrado_Pivote,'5_1_PredActXZonaMariaLaBaja.xlsx','5_1_PredActXZonaMariaLaBaja'],\n",
    "    2:[df_Repelon_Filtrado_Pivote,'5_2_PredActXZonaRepelon.xlsx','5_2_PredActXZonaRepelon'],\n",
    "    3:[df_Baranoa_Filtrado_Pivote,'5_3_PredActXZonaBaranoa.xlsx','5_3_PredActXZonaBaranoa'],\n",
    "    4:[df_Sabanagrande_Filtrado_Pivote,'5_4_PredActXZonaSabanag.xlsx','5_4_PredActXZonaSabanag'],\n",
    "    5:[df_radicadosActualizacionConNPNAtendiendoCampo_municipio_has,'16_TotalHAActuaXMpio.xlsx','16_TotalHAActuaXMpio'],\n",
    "    6:[df_radicadosActualizacionConNPNAtendiendoCampo_municipio_zona_has_pivote,'17_TotalHAActuaXMpioXZona.xlsx','17_TotalHAActuaXMpioXZona'],\n",
    "    7:[df_totalprediosActualEnAtencion,'4_TotalPrediosEnAtencion.xlsx','4_TotalPrediosEnAtencion'],\n",
    "    }\n",
    "\n",
    "if os.path.exists(os.path.join(RUTA_RAIZ, NOMBRE_IND_2_2_0, fecha_directorio)):\n",
    "    for llave, valor in dir_directorio_salidas_xlsx.items():\n",
    "        valor[0].to_excel(os.path.join(RUTA_RAIZ, NOMBRE_IND_2_2_0, fecha_directorio, valor[1]), sheet_name=valor[2])\n",
    "        print(f\"Se genera XLSX de DF {valor[1]}\")\n",
    "else:\n",
    "    os.mkdir(os.path.join(RUTA_RAIZ, NOMBRE_IND_2_2_0, fecha_directorio))\n",
    "    for llave, valor in dir_directorio_salidas_xlsx.items():\n",
    "        valor[0].to_excel(os.path.join(RUTA_RAIZ, NOMBRE_IND_2_2_0, fecha_directorio, valor[1]), sheet_name=valor[2])\n",
    "        print(f\"Se genera XLSX de DF {valor[1]}\")"
   ]
  }
 ],
 "metadata": {
  "kernelspec": {
   "display_name": "Python 3",
   "language": "python",
   "name": "python3"
  },
  "language_info": {
   "codemirror_mode": {
    "name": "ipython",
    "version": 3
   },
   "file_extension": ".py",
   "mimetype": "text/x-python",
   "name": "python",
   "nbconvert_exporter": "python",
   "pygments_lexer": "ipython3",
   "version": "3.11.8"
  }
 },
 "nbformat": 4,
 "nbformat_minor": 2
}
