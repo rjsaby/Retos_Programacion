{
 "cells": [
  {
   "cell_type": "code",
   "execution_count": 32,
   "metadata": {},
   "outputs": [
    {
     "data": {
      "text/plain": [
       "'    \\n    Indicador: Porcentaje de Hectáreas actualizadas con respecto al total de hectáreas que deben actualizarse para cumplir un Hito contractual.\\n'"
      ]
     },
     "execution_count": 32,
     "metadata": {},
     "output_type": "execute_result"
    }
   ],
   "source": [
    "\"\"\"    \n",
    "    Indicador: Porcentaje de Hectáreas actualizadas con respecto al total de hectáreas que deben actualizarse para cumplir un Hito contractual.\n",
    "\"\"\""
   ]
  },
  {
   "cell_type": "markdown",
   "metadata": {},
   "source": [
    "<h3>Importación Librerías</h3>"
   ]
  },
  {
   "cell_type": "code",
   "execution_count": 33,
   "metadata": {},
   "outputs": [],
   "source": [
    "import pandas as pd\n",
    "import os\n",
    "import seaborn as sns\n",
    "\n",
    "# ? Se usa para generar gráficos\n",
    "import matplotlib.pyplot as plt\n",
    "\n",
    "# ? Se usa para determina la fecha de ejecución del proceso dentro del export de los resultados estadísticos\n",
    "from datetime import datetime\n",
    "\n",
    "# ? Conexión a BD Postgres. Se usa dado que pandas no acepta sino este paquete para la conexión.\n",
    "from sqlalchemy import create_engine, text\n",
    "\n",
    "from datetime import datetime\n",
    "\n",
    "from arcgis.features import GeoAccessor, GeoSeriesAccessor\n",
    "import arcpy\n",
    "\n",
    "from pathlib import Path\n",
    "\n",
    "# ** Librerías propias\n",
    "import funcion_dataframe_terrenos\n",
    "import funcion_SQL_a_DataFrame"
   ]
  },
  {
   "cell_type": "markdown",
   "metadata": {},
   "source": [
    "<h3>Parametrización de Variables</h3>"
   ]
  },
  {
   "cell_type": "code",
   "execution_count": 34,
   "metadata": {},
   "outputs": [],
   "source": [
    "consulta_tRadicados = \"\"\" \n",
    "    select t1.municipio\n",
    "        ,t1.npn\n",
    "        ,t1.nro_ficha\n",
    "        ,t1.radicado\n",
    "        ,(case when t1.vr_nombre_proceso like 'Comple%%' then 'Actualización'\n",
    "            when t1.vr_nombre_proceso like 'Forma%%' then 'Actualización'\n",
    "            when t1.vr_nombre_proceso like 'Muta%%' then 'Conservación'\t\t\t\t\n",
    "            when t1.vr_nombre_proceso like 'Recti%%' then 'Conservación'\n",
    "            else t1.vr_nombre_proceso\n",
    "            end) \"Proceso\"\n",
    "        ,t1.vr_nombre_proceso\t\n",
    "        ,t1.estado_tramite\n",
    "        ,t1.actividad\n",
    "        ,t1.vr_estado_paso\n",
    "        ,t2.vr_proegn_est proceso_estado\n",
    "        ,t2.nb_step_idn\n",
    "        ,cast(t2.dt_adt_fchupd as date) dt_adt_fchupd\n",
    "        ,t2.vr_proegn_ori\n",
    "        ,cast(t1.fecha_radicado as date) fecha_radicado\n",
    "        ,t1.usuario\n",
    "        ,cast(t2.dt_adt_fchupd as date) fecha_actualizacion_tramite\n",
    "        ,t3.vr_proces_des\n",
    "        ,t6.vr_consec_nom\n",
    "        ,t6.vr_consec_des\n",
    "        ,t6.vr_consec_tip\n",
    "        ,t4.vr_step_est\n",
    "        --,t4.nb_task_idn\n",
    "        ,t5.vr_task_nom \n",
    "        ,t5.vr_task_tip\n",
    "        ,t5.vr_task_con\n",
    "        ,t5.vr_task_est \n",
    "        ,t7.vr_functy_des\n",
    "    from vw_rpt_tramites_en_proceso t1 \n",
    "    left join tb_bpm_egn_proegn t2 on t1.radicado = t2.vr_proegn_rad\n",
    "    left join tb_bpm_mdl_proces t3 on t2.nb_proces_idn = t3.nb_proces_idn \n",
    "    left join tb_fw_sec_consec t6 on t3.nb_consec_idn = t6.nb_consec_idn \n",
    "    left join tb_bpm_egn_step t4 on t2.nb_step_idn = t4.nb_step_idn\n",
    "    left join tb_bpm_mdl_task t5 on t4.nb_task_idn = t5.nb_task_idn\n",
    "    left join tb_fw_gui_functy t7 on t5.nb_functy_idn = t7.nb_functy_idn;\n",
    "\"\"\"\n",
    "\n",
    "consuta_tFinalizados = \"\"\"\n",
    "    select t1.municipio\n",
    "        ,t1.npn\n",
    "        ,t1.nro_ficha\n",
    "        ,t1.radicado\n",
    "        ,(case when t1.vr_nombre_proceso like 'Comple%%' then 'Actualización'\n",
    "            when t1.vr_nombre_proceso like 'Forma%%' then 'Actualización'\n",
    "            when t1.vr_nombre_proceso like 'Muta%%' then 'Conservación'\t\t\t\t\n",
    "            when t1.vr_nombre_proceso like 'Recti%%' then 'Conservación'\n",
    "            else t1.vr_nombre_proceso\n",
    "            end) \"Proceso\"\n",
    "        ,t1.vr_nombre_proceso\n",
    "        ,cast(t1.fecha_radicado as date) fecha_radicado\n",
    "        ,cast(t1.fecha_finalizacion as date) fecha_finalizacion\n",
    "        ,t1.resolucion\n",
    "        ,t1.fecha_resolucion\n",
    "        --,t1.nb_proegn_idn\n",
    "        ,t2.vr_proegn_est proceso_estado\n",
    "        --,t2.nb_step_idn\n",
    "        --,cast(t2.dt_adt_fchupd as date) dt_adt_fchupd\n",
    "        ,t2.vr_proegn_ori\n",
    "        --,t2.nb_proces_idn\n",
    "        --,t3.vr_proces_nom \n",
    "        ,t3.vr_proces_des\n",
    "        ,t6.vr_consec_nom\n",
    "        ,t6.vr_consec_des\n",
    "        ,t6.vr_consec_tip\n",
    "        ,t4.vr_step_est\n",
    "        --,t4.nb_task_idn\n",
    "        ,t5.vr_task_nom \n",
    "        ,t5.vr_task_tip\n",
    "        ,t5.vr_task_con\n",
    "        ,t5.vr_task_est \n",
    "        ,t7.vr_functy_des\t\n",
    "    from bpmcat.vw_rpt_tramites_finalizados t1\n",
    "    left join tb_bpm_egn_proegn t2 on t1.nb_proegn_idn = t2.nb_proegn_idn\n",
    "    left join tb_bpm_mdl_proces t3 on t2.nb_proces_idn = t3.nb_proces_idn \n",
    "    left join tb_fw_sec_consec t6 on t3.nb_consec_idn = t6.nb_consec_idn \n",
    "    left join tb_bpm_egn_step t4 on t2.nb_step_idn = t4.nb_step_idn\n",
    "    left join tb_bpm_mdl_task t5 on t4.nb_task_idn = t5.nb_task_idn\n",
    "    left join tb_fw_gui_functy t7 on t5.nb_functy_idn = t7.nb_functy_idn;\n",
    "\"\"\"\n",
    "\n",
    "columnasRadicadoActualizacionCampo = ['municipio','npn','nro_ficha','radicado','estado_tramite','actividad','usuario','vr_proces_des']\n",
    "\n",
    "\n",
    "DIRECTORIO_REPORTE = r\"C:\\docsProyectos\\5.RAISS\\2024.0.RAISS_Lote_4\\6.Hitos\\E2_Informes_Id_FisicoJuirica\\2_2_0_Identificacion_Predial_Total_Ha_Actualizadas\\zReportes\"\n",
    "NOMBRE_REPORTE_RADSINNPN = 'Reporte_Radicado_SinNPNoFicha.xlsx'\n",
    "NOMBRE_REPORTE_RADFORMACIONATENDIENDO = 'Reporte_Radicado_ActualizacionEnAtencion.xlsx'\n",
    "\n",
    "RUTA_BD_LOCAL = r\"C:\\docsProyectos\\5.RAISS\\2024.0.RAISS_Lote_4\\6.Hitos\\E2_Informes_Id_FisicoJuirica\\2_2_0_Identificacion_Predial_Total_Ha_Actualizadas\\Base_Datos\\_2_2_0.gdb\"\n",
    "RUTA_BD_CONSOLIDADA = r\"C:\\docsProyectos\\5.RAISS\\2024.0.RAISS_Lote_4\\6.Hitos\\E1_Alistamiento_Diagnostico\\3_Disposicion\\1.BD_Consolidada\\BD_Consolidada_Lote4.gdb\"\n",
    "NOMBRE_CAPA_HAXESTADO = 'TERRENOS_RECONOCIMIENTO_TRAMITES_ATENCION_BCGS'"
   ]
  },
  {
   "cell_type": "markdown",
   "metadata": {},
   "source": [
    "<h3>Ejecución de Funciones</h3>"
   ]
  },
  {
   "cell_type": "code",
   "execution_count": 35,
   "metadata": {},
   "outputs": [
    {
     "name": "stdout",
     "output_type": "stream",
     "text": [
      "Inicio de la conexión\n",
      "Concluye el proceso\n"
     ]
    }
   ],
   "source": [
    "df_consulta_radicados = funcion_SQL_a_DataFrame.sql_a_dataframe(consulta_tRadicados)\n",
    "df_terrenos = funcion_dataframe_terrenos.dataframe_terrenos()"
   ]
  },
  {
   "cell_type": "markdown",
   "metadata": {},
   "source": [
    "<h3>Proceso: Actualizacion, Sin NPN Registrados</h3>"
   ]
  },
  {
   "cell_type": "code",
   "execution_count": 36,
   "metadata": {},
   "outputs": [
    {
     "name": "stdout",
     "output_type": "stream",
     "text": [
      "El total de radicados sin parametrización de NPN o Ficha es: 14\n",
      "Se crea el reporte Reporte_Radicado_SinNPNoFicha.xlsx\n"
     ]
    }
   ],
   "source": [
    "\n",
    "# TODO: Radicados sin NPN\n",
    "\n",
    "# ** 1. Filtro\n",
    "df_radicadosActualizacion_sin_npn = df_consulta_radicados[(df_consulta_radicados['Proceso'] == 'Actualización') & (df_consulta_radicados['npn'].isnull())]\n",
    "\n",
    "total_radicadosActualizacionSinNPN = df_radicadosActualizacion_sin_npn.shape[0]\n",
    "print(f\"El total de radicados sin parametrización de NPN o Ficha es: {total_radicadosActualizacionSinNPN}\")\n",
    "\n",
    "df_radicadosActualizacionSinNPNParaReporte = df_radicadosActualizacion_sin_npn[['municipio','radicado','usuario','vr_consec_nom']]\n",
    "df_radicadosActualizacionSinNPNParaReporte.to_excel(os.path.join(DIRECTORIO_REPORTE, NOMBRE_REPORTE_RADSINNPN), sheet_name='ReporteRadSinNPN')\n",
    "print(f\"Se crea el reporte {NOMBRE_REPORTE_RADSINNPN}\")\n",
    "\n",
    "df_radicadosActualizacionSinNPN = pd.DataFrame([[total_radicadosActualizacionSinNPN]], columns=['TotalRadicadosSinNPN'])"
   ]
  },
  {
   "cell_type": "markdown",
   "metadata": {},
   "source": [
    "<h3>Proceso: Actualizacion - Formación y Actualización - Atendiendo</h3>"
   ]
  },
  {
   "cell_type": "code",
   "execution_count": 37,
   "metadata": {},
   "outputs": [
    {
     "name": "stdout",
     "output_type": "stream",
     "text": [
      "Se crea el reporte Reporte_Radicado_ActualizacionEnAtencion.xlsx\n"
     ]
    }
   ],
   "source": [
    "df_radicadosActualizacionConNPNAtendiendo = df_consulta_radicados[(df_consulta_radicados['Proceso'] == 'Actualización') & \n",
    "    (df_consulta_radicados['npn'].notnull()) & \n",
    "    (df_consulta_radicados['vr_estado_paso'] == 'ATENDIENDO') &\n",
    "    (df_consulta_radicados['vr_nombre_proceso'].str.startswith('Form'))]\n",
    "\n",
    "df_radicadosActualizacionConNPNAtendiendoCampo = df_radicadosActualizacionConNPNAtendiendo[columnasRadicadoActualizacionCampo]\n",
    "\n",
    "df_radicadosActualizacionConNPNAtendiendoCampo.to_excel(os.path.join(DIRECTORIO_REPORTE, NOMBRE_REPORTE_RADFORMACIONATENDIENDO), sheet_name='ReporteActualizacionEnAtencion')\n",
    "print(f\"Se crea el reporte {NOMBRE_REPORTE_RADFORMACIONATENDIENDO}\")"
   ]
  },
  {
   "cell_type": "markdown",
   "metadata": {},
   "source": [
    "<h3>Proceso: Actualizacion - Formación y Actualización - Atendiendo (ESPACIALIZACIÓN)</h3>"
   ]
  },
  {
   "cell_type": "code",
   "execution_count": 38,
   "metadata": {},
   "outputs": [
    {
     "name": "stdout",
     "output_type": "stream",
     "text": [
      "Se exporta la capa Analitica_UT_Consolidada\\TERRENOS_RECONOCIMIENTO_TRAMITES_ATENCION_BCGS a BD Consolidada\n",
      "Se exporta la capa Analitica_UT_Consolidada\\TERRENOS_RECONOCIMIENTO_TRAMITES_ATENCION_BCGS a BD Local 2.2.0\n"
     ]
    }
   ],
   "source": [
    "df_terrenos_radicadosActualizacionConNPNAtendiendoCampo = pd.merge(left=df_terrenos, right=df_radicadosActualizacionConNPNAtendiendoCampo, left_on=\"CODIGO\", right_on=\"npn\", how=\"inner\")\n",
    "df_radicadosActualizacionConNPNAtendiendoCampo = df_terrenos_radicadosActualizacionConNPNAtendiendoCampo[['Area_ha_cmt12','estado_tramite']]\n",
    "\n",
    "# TODO: Hectareaje por Tramite de los Radicados En Atención por parte de Reconocimiento\n",
    "df_HectareajeXPorEstadoTramite = pd.DataFrame(df_radicadosActualizacionConNPNAtendiendoCampo.groupby(by='estado_tramite')['Area_ha_cmt12'].sum())\n",
    "\n",
    "# TODO: ExportacionTramitesEnAtencionXEstado\n",
    "\n",
    "# ** Exportación a BD Consolidada\n",
    "NOMBRE_CAPA_SALIDA = f\"Analitica_UT_Consolidada\\\\{NOMBRE_CAPA_HAXESTADO.upper()}\"\n",
    "ruta_salida_terrenos_ha_x_estado = os.path.join(RUTA_BD_CONSOLIDADA, NOMBRE_CAPA_SALIDA)\n",
    "\n",
    "df_terrenos_radicadosActualizacionConNPNAtendiendoCampo.spatial.to_featureclass(location=ruta_salida_terrenos_ha_x_estado)\n",
    "print(f\"Se exporta la capa {NOMBRE_CAPA_SALIDA} a BD Consolidada\")\n",
    "\n",
    "# ** Exportación a BD Seguimiento Indicadores\n",
    "df_terrenos_radicadosActualizacionConNPNAtendiendoCampo.spatial.to_featureclass(location=os.path.join(RUTA_BD_LOCAL,NOMBRE_CAPA_HAXESTADO))\n",
    "print(f\"Se exporta la capa {NOMBRE_CAPA_SALIDA} a BD Local 2.2.0\")"
   ]
  }
 ],
 "metadata": {
  "kernelspec": {
   "display_name": "Python 3",
   "language": "python",
   "name": "python3"
  },
  "language_info": {
   "codemirror_mode": {
    "name": "ipython",
    "version": 3
   },
   "file_extension": ".py",
   "mimetype": "text/x-python",
   "name": "python",
   "nbconvert_exporter": "python",
   "pygments_lexer": "ipython3",
   "version": "3.11.8"
  }
 },
 "nbformat": 4,
 "nbformat_minor": 2
}
