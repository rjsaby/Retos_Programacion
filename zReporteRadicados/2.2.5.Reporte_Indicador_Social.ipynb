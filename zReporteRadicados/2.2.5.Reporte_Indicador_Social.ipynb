{
 "cells": [
  {
   "cell_type": "code",
   "execution_count": 1,
   "metadata": {
    "execution": {
     "iopub.execute_input": "2024-09-06T17:08:35.625198Z",
     "iopub.status.busy": "2024-09-06T17:08:35.625198Z",
     "iopub.status.idle": "2024-09-06T17:08:42.894791Z",
     "shell.execute_reply": "2024-09-06T17:08:42.893785Z"
    }
   },
   "outputs": [],
   "source": [
    "import pandas as pd\n",
    "import os\n",
    "import seaborn as sns\n",
    "\n",
    "os.environ[\"CRYPTOGRAPHY_OPENSSL_NO_LEGACY\"] = \"yes\"\n",
    "\n",
    "# ? Se usa para generar gráficos\n",
    "import matplotlib.pyplot as plt\n",
    "\n",
    "import shutil\n",
    "\n",
    "# ? Se usa para determina la fecha de ejecución del proceso dentro del export de los resultados estadísticos\n",
    "from datetime import datetime\n",
    "\n",
    "# ? Conexión a BD Postgres. Se usa dado que pandas no acepta sino este paquete para la conexión.\n",
    "from sqlalchemy import create_engine, text\n",
    "\n",
    "from datetime import datetime\n",
    "\n",
    "from arcgis.features import GeoAccessor, GeoSeriesAccessor\n",
    "import arcpy\n",
    "\n",
    "from pathlib import Path\n",
    "\n",
    "# ** Librerías propias\n"
   ]
  },
  {
   "cell_type": "code",
   "execution_count": 2,
   "metadata": {
    "execution": {
     "iopub.execute_input": "2024-09-06T17:08:42.897794Z",
     "iopub.status.busy": "2024-09-06T17:08:42.897794Z",
     "iopub.status.idle": "2024-09-06T17:08:42.901592Z",
     "shell.execute_reply": "2024-09-06T17:08:42.901592Z"
    }
   },
   "outputs": [],
   "source": [
    "RUTA_VISITA_FORMAL = r\"C:\\docsProyectos\\5.RAISS\\2024.0.RAISS_Lote_4\\6.Hitos\\E2_Informes_Id_FisicoJuridica\\2_2_0_Identificacion_Predial_Total_Ha_Actualizadas\\Base_Datos\\2_2_0.gdb\\TERRENOS_VISITADOS_FORMAL\"\n",
    "TBL_RELACION_TERRENOS_UI = r\"C:\\docsProyectos\\5.RAISS\\2024.0.RAISS_Lote_4\\6.Hitos\\E1_Alistamiento_Diagnostico\\3_Disposicion\\1.BD_Consolidada\\BD_Consolidada_Lote4.gdb\\relacion_terreno_ui\"\n",
    "\n",
    "DIRECTORIO_INDICADOR_SOCIAL = r\"C:\\docsProyectos\\5.RAISS\\2024.0.RAISS_Lote_4\\6.Hitos\\E2_Informes_Id_FisicoJuridica\\2_2_5_Indicador_Social_Interlocuciones_Nivel_3\"\n",
    "NOMBRE_XLSX = 'indicador_social_interlocucion_n3.xlsx'\n",
    "RUTA_INDICADOR_SOCIAL = os.path.join(DIRECTORIO_INDICADOR_SOCIAL, NOMBRE_XLSX)"
   ]
  },
  {
   "cell_type": "code",
   "execution_count": 3,
   "metadata": {
    "execution": {
     "iopub.execute_input": "2024-09-06T17:08:42.904597Z",
     "iopub.status.busy": "2024-09-06T17:08:42.904597Z",
     "iopub.status.idle": "2024-09-06T17:08:44.797589Z",
     "shell.execute_reply": "2024-09-06T17:08:44.797589Z"
    }
   },
   "outputs": [],
   "source": [
    "df_relacion_uiTerrenos = pd.DataFrame.spatial.from_table(TBL_RELACION_TERRENOS_UI)\n",
    "\n",
    "df_terrenos_visitados = pd.DataFrame.spatial.from_featureclass(RUTA_VISITA_FORMAL)\n",
    "df_terrenos_visitados_codigoMpio = pd.DataFrame(df_terrenos_visitados[['municipio','codigo']])"
   ]
  },
  {
   "cell_type": "code",
   "execution_count": 4,
   "metadata": {
    "execution": {
     "iopub.execute_input": "2024-09-06T17:08:44.801594Z",
     "iopub.status.busy": "2024-09-06T17:08:44.801594Z",
     "iopub.status.idle": "2024-09-06T17:08:44.821963Z",
     "shell.execute_reply": "2024-09-06T17:08:44.821963Z"
    }
   },
   "outputs": [],
   "source": [
    "pd_ui_visitados = pd.merge(left=df_relacion_uiTerrenos, right=df_terrenos_visitados_codigoMpio, on=\"codigo\", how=\"inner\")"
   ]
  },
  {
   "cell_type": "code",
   "execution_count": null,
   "metadata": {
    "execution": {
     "iopub.execute_input": "2024-09-06T17:08:44.825972Z",
     "iopub.status.busy": "2024-09-06T17:08:44.824971Z",
     "iopub.status.idle": "2024-09-06T17:08:44.840553Z",
     "shell.execute_reply": "2024-09-06T17:08:44.839548Z"
    }
   },
   "outputs": [],
   "source": [
    "indicador_social = pd.DataFrame(pd_ui_visitados.groupby('municipio')['id_ui'].value_counts()).reset_index().rename(columns={'count':'total_predios'})\n",
    "indicador_social.loc[indicador_social['id_ui']=='','id_ui'] = 'Sin información'\n",
    "\n",
    "print(f\"El total de predios por Municipio es: {indicador_social.groupby('municipio')['total_predios'].sum()}\")"
   ]
  },
  {
   "cell_type": "code",
   "execution_count": null,
   "metadata": {
    "execution": {
     "iopub.execute_input": "2024-09-06T17:08:44.884558Z",
     "iopub.status.busy": "2024-09-06T17:08:44.884558Z",
     "iopub.status.idle": "2024-09-06T17:08:44.946794Z",
     "shell.execute_reply": "2024-09-06T17:08:44.946794Z"
    }
   },
   "outputs": [],
   "source": [
    "indicador_social.to_excel(RUTA_INDICADOR_SOCIAL, sheet_name='ind_social_int3')\n",
    "print(\"Se crea XLSX Indicador Social\")"
   ]
  }
 ],
 "metadata": {
  "kernelspec": {
   "display_name": "Python 3",
   "language": "python",
   "name": "python3"
  },
  "language_info": {
   "codemirror_mode": {
    "name": "ipython",
    "version": 3
   },
   "file_extension": ".py",
   "mimetype": "text/x-python",
   "name": "python",
   "nbconvert_exporter": "python",
   "pygments_lexer": "ipython3",
   "version": "3.11.8"
  }
 },
 "nbformat": 4,
 "nbformat_minor": 2
}
