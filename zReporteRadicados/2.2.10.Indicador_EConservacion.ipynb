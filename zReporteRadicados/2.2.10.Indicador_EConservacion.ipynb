{
 "cells": [
  {
   "cell_type": "code",
   "execution_count": null,
   "metadata": {
    "execution": {
     "iopub.execute_input": "2024-09-05T14:12:31.391345Z",
     "iopub.status.busy": "2024-09-05T14:12:31.391345Z",
     "iopub.status.idle": "2024-09-05T14:12:43.441968Z",
     "shell.execute_reply": "2024-09-05T14:12:43.441968Z"
    }
   },
   "outputs": [],
   "source": [
    "import pandas as pd\n",
    "import os\n",
    "import seaborn as sns\n",
    "import shutil\n",
    "\n",
    "os.environ[\"CRYPTOGRAPHY_OPENSSL_NO_LEGACY\"] = \"yes\"\n",
    "\n",
    "# ? Se usa para generar gráficos\n",
    "import matplotlib.pyplot as plt\n",
    "\n",
    "# ? Se usa para determina la fecha de ejecución del proceso dentro del export de los resultados estadísticos\n",
    "from datetime import datetime\n",
    "\n",
    "# ? Conexión a BD Postgres. Se usa dado que pandas no acepta sino este paquete para la conexión.\n",
    "from sqlalchemy import create_engine, text\n",
    "\n",
    "from datetime  import datetime as dt\n",
    "\n",
    "from arcgis.features import GeoAccessor, GeoSeriesAccessor\n",
    "import arcpy\n",
    "\n",
    "from pathlib import Path\n",
    "\n",
    "# ** Librerías propias\n",
    "import funcion_exportacion_pdf_seriemapas"
   ]
  },
  {
   "cell_type": "code",
   "execution_count": null,
   "metadata": {
    "execution": {
     "iopub.execute_input": "2024-09-05T14:12:43.444978Z",
     "iopub.status.busy": "2024-09-05T14:12:43.444978Z",
     "iopub.status.idle": "2024-09-05T14:12:43.449650Z",
     "shell.execute_reply": "2024-09-05T14:12:43.449650Z"
    }
   },
   "outputs": [],
   "source": [
    "\n",
    "fecha_actual = dt.now()\n",
    "fecha_directorio = str(fecha_actual.strftime(\"%Y%m%d\"))\n",
    "\n",
    "RUTA_CONSOLIDACION_SALDOS = r\"C:\\docsProyectos\\5.RAISS\\2024.0.RAISS_Lote_4\\6.Hitos\\E2_Informes_Tramites_Conservacion\\2_2_10_Seguimiento_EConservacion\\zInsumos\\20240903.csv\"\n",
    "FC_TERRENOS_UNIFICADOS = r\"C:\\docsProyectos\\5.RAISS\\2024.0.RAISS_Lote_4\\6.Hitos\\E1_Alistamiento_Diagnostico\\3_Disposicion\\1.BD_Consolidada\\BD_Consolidada_Lote4.gdb\\Analitica_UT_Consolidada\\TERRENO_POR_HITO\"\n",
    "\n",
    "# TODO: Generación XLSX Resultados\n",
    "DIRECTORIO_XLSX = r\"C:\\docsProyectos\\5.RAISS\\2024.0.RAISS_Lote_4\\6.Hitos\\E2_Informes_Tramites_Conservacion\\2_2_10_Seguimiento_EConservacion\\zReportes\"\n",
    "NOMBRE_XLSX = fecha_directorio+'_Seguimiento_indicador_conservacion.xlsx'\n",
    "\n",
    "# TODO: Generación Salidas Gráficas\n",
    "DIRECTORIO_PDF = r\"C:\\docsProyectos\\5.RAISS\\2024.0.RAISS_Lote_4\\6.Hitos\\E2_Informes_Tramites_Conservacion\\2_2_10_Seguimiento_EConservacion\\Salidas_Graficas\"\n",
    "\n",
    "# TODO: Salida de Estadísticos de Barra\n",
    "DIRECTORIO_GRAFICO = r\"C:\\docsProyectos\\5.RAISS\\2024.0.RAISS_Lote_4\\6.Hitos\\E2_Informes_Tramites_Conservacion\\2_2_10_Seguimiento_EConservacion\\Estadisticos\"\n",
    "\n",
    "estandarizacion_saldos_conservacion = ['MUNICIPIO',\n",
    "    'TIPO',\n",
    "    'RADICADO IGAC',\n",
    "    'FECHA RAD IGAC',\n",
    "    'RADICADO BCGS',\n",
    "    'REFERENCIA CATASTRAL',\n",
    "    'MUTACIÓN',\n",
    "    'FECHA DE VISITA',\n",
    "    'INFORME DE VISITA',\n",
    "    'SHF',\n",
    "    'INFORME TÉCNICO UT',\n",
    "    'ESTADO DE LA REVISIÓN',\n",
    "    'FECHA REVISIÓN CONSERVACIÓN',\n",
    "    'ESTADO DE REVISIÓN',\n",
    "    'ENVIADO A IGAC',\n",
    "    'FECHA DE ENVÍO'\n",
    "    ]\n",
    "\n",
    "estandarizacion_terrenos_saldosConservacion = [\n",
    "    'codigo',\n",
    "    'MUNICIPIO',\n",
    "    'MUTACIÓN',\n",
    "    'INFORME DE VISITA',\n",
    "    'SHF',\n",
    "    'INFORME TÉCNICO UT',\n",
    "    'ESTADO DE REVISIÓN',\n",
    "    'ENVIADO A IGAC',\n",
    "    'SHAPE'\n",
    "    ]"
   ]
  },
  {
   "cell_type": "code",
   "execution_count": null,
   "metadata": {
    "execution": {
     "iopub.execute_input": "2024-09-05T14:12:43.451655Z",
     "iopub.status.busy": "2024-09-05T14:12:43.451655Z",
     "iopub.status.idle": "2024-09-05T14:12:43.519525Z",
     "shell.execute_reply": "2024-09-05T14:12:43.519525Z"
    }
   },
   "outputs": [],
   "source": [
    "df_saldos_conservacion = pd.read_csv(RUTA_CONSOLIDACION_SALDOS)"
   ]
  },
  {
   "cell_type": "code",
   "execution_count": null,
   "metadata": {
    "execution": {
     "iopub.execute_input": "2024-09-05T14:12:43.522532Z",
     "iopub.status.busy": "2024-09-05T14:12:43.522532Z",
     "iopub.status.idle": "2024-09-05T14:12:43.786316Z",
     "shell.execute_reply": "2024-09-05T14:12:43.786316Z"
    }
   },
   "outputs": [],
   "source": [
    "\n",
    "# TODO: Se parametriza el .csv de Conservación\n",
    "df_saldos_conservacion = df_saldos_conservacion[estandarizacion_saldos_conservacion]\n",
    "\n",
    "# TODO: Se eliminan los datos en blanco, si existen\n",
    "df_saldos_conservacion = df_saldos_conservacion.dropna(subset=['MUNICIPIO'])\n",
    "\n",
    "# TODO: Se realiza parametrización de tramites realizados por DT y Ventanilla\n",
    "df_saldos_conservacion_dt = df_saldos_conservacion[df_saldos_conservacion['TIPO']=='SALDO']\n",
    "df_saldos_conservacion_ventanilla = df_saldos_conservacion[df_saldos_conservacion['TIPO']=='VENTANILLA']\n",
    "\n",
    "# TODO: Agrupamiento por tipo de Saldo\n",
    "df_saldos_conservacion_dt = ((pd.DataFrame(df_saldos_conservacion_dt.groupby(['MUNICIPIO','MUTACIÓN'])['MUTACIÓN'].count())).rename(columns={'MUTACIÓN':'total_saldos'})).reset_index()\n",
    "df_saldos_conservacion_ventanilla = ((pd.DataFrame(df_saldos_conservacion_ventanilla.groupby(['MUNICIPIO','MUTACIÓN'])['MUTACIÓN'].count())).rename(columns={'MUTACIÓN':'total_saldos'})).reset_index()\n",
    "\n",
    "# TODO: Pivoteo\n",
    "df_saldos_conservacion_dt_pivoteo = df_saldos_conservacion_dt.pivot(index='MUNICIPIO', columns='MUTACIÓN', values='total_saldos')\n",
    "df_saldos_conservacion_ventanilla_pivoteo = df_saldos_conservacion_ventanilla.pivot(index='MUNICIPIO', columns='MUTACIÓN', values='total_saldos')\n",
    "\n",
    "# TODO: Cambio de nan por 0\n",
    "df_saldos_conservacion_dt_pivoteo = (df_saldos_conservacion_dt_pivoteo.fillna(0)).astype(int)\n",
    "df_saldos_conservacion_ventanilla_pivoteo = (df_saldos_conservacion_ventanilla_pivoteo.fillna(0)).astype(int)\n",
    "\n",
    "with pd.ExcelWriter(os.path.join(DIRECTORIO_XLSX,NOMBRE_XLSX), engine='openpyxl', if_sheet_exists='replace') as writer:\n",
    "    df_saldos_conservacion_dt_pivoteo.to_excel(writer, sheet_name='segIndDt', index=True)\n",
    "    df_saldos_conservacion_ventanilla_pivoteo.to_excel(writer, sheet_name='segIndVentanilla', index=True)"
   ]
  },
  {
   "cell_type": "code",
   "execution_count": null,
   "metadata": {
    "execution": {
     "iopub.execute_input": "2024-09-05T14:12:43.789323Z",
     "iopub.status.busy": "2024-09-05T14:12:43.789323Z",
     "iopub.status.idle": "2024-09-05T14:12:48.414180Z",
     "shell.execute_reply": "2024-09-05T14:12:48.414180Z"
    }
   },
   "outputs": [],
   "source": [
    "df_terrenos = pd.DataFrame.spatial.from_featureclass(FC_TERRENOS_UNIFICADOS)\n",
    "\n",
    "estandarizacion_terrenos  = ['codigo','area_ha_cmt12','SHAPE']"
   ]
  },
  {
   "cell_type": "code",
   "execution_count": null,
   "metadata": {
    "execution": {
     "iopub.execute_input": "2024-09-05T14:12:48.417186Z",
     "iopub.status.busy": "2024-09-05T14:12:48.417186Z",
     "iopub.status.idle": "2024-09-05T14:12:48.475779Z",
     "shell.execute_reply": "2024-09-05T14:12:48.475779Z"
    }
   },
   "outputs": [],
   "source": [
    "df_terrenos_saldosConservacion = pd.merge(left=df_terrenos,\n",
    "    right=df_saldos_conservacion,\n",
    "    left_on='codigo',\n",
    "    right_on='REFERENCIA CATASTRAL',\n",
    "    how='inner')\n",
    "\n",
    "df_terrenos_saldosConservacion = df_terrenos_saldosConservacion[estandarizacion_terrenos_saldosConservacion]\n",
    "\n",
    "df_terrenos_saldosConservacion"
   ]
  },
  {
   "cell_type": "markdown",
   "metadata": {},
   "source": [
    "<h3>Generación Capa Geográfica</h3>"
   ]
  },
  {
   "cell_type": "code",
   "execution_count": null,
   "metadata": {
    "execution": {
     "iopub.execute_input": "2024-09-05T14:12:48.524792Z",
     "iopub.status.busy": "2024-09-05T14:12:48.524792Z",
     "iopub.status.idle": "2024-09-05T14:12:51.696436Z",
     "shell.execute_reply": "2024-09-05T14:12:51.696436Z"
    }
   },
   "outputs": [],
   "source": [
    "RUTA_BDLOCAL = r\"C:\\docsProyectos\\5.RAISS\\2024.0.RAISS_Lote_4\\6.Hitos\\E2_Informes_Tramites_Conservacion\\2_2_10_Seguimiento_EConservacion\\Base_Datos\\2_2_10_SegEConservacion.gdb\"\n",
    "NOMBRE_FEATURE = 'Seguimiento_EConservacion'\n",
    "\n",
    "df_terrenos_saldosConservacion.spatial.to_featureclass(location=os.path.join(RUTA_BDLOCAL, NOMBRE_FEATURE))\n",
    "print(f\"Se genera el featureclass {NOMBRE_FEATURE}\")"
   ]
  },
  {
   "cell_type": "markdown",
   "metadata": {},
   "source": [
    "<h3>Generación de Salida Gráfica</h3>"
   ]
  },
  {
   "cell_type": "code",
   "execution_count": null,
   "metadata": {
    "execution": {
     "iopub.execute_input": "2024-09-05T14:12:51.699443Z",
     "iopub.status.busy": "2024-09-05T14:12:51.699443Z",
     "iopub.status.idle": "2024-09-05T14:13:27.405187Z",
     "shell.execute_reply": "2024-09-05T14:13:27.405187Z"
    }
   },
   "outputs": [],
   "source": [
    "\n",
    "# TODO: Generación Salida Gráfica\n",
    "funcion_exportacion_pdf_seriemapas.exportacion_salida_grafica('Seguimiento E. Conservacion', DIRECTORIO_PDF)\n",
    "print(f\"Se exporta Salida Gráfica\")"
   ]
  },
  {
   "cell_type": "markdown",
   "metadata": {},
   "source": [
    "<h3>Informes de Visita</h3>"
   ]
  },
  {
   "cell_type": "code",
   "execution_count": null,
   "metadata": {
    "execution": {
     "iopub.execute_input": "2024-09-05T14:13:27.408194Z",
     "iopub.status.busy": "2024-09-05T14:13:27.407195Z",
     "iopub.status.idle": "2024-09-05T14:13:27.968065Z",
     "shell.execute_reply": "2024-09-05T14:13:27.968065Z"
    }
   },
   "outputs": [],
   "source": [
    "\n",
    "# TODO: Se filtran aquellos registros que tienen SI en Informe de Vista\n",
    "df_saldos_conservacion_infVisita = df_saldos_conservacion[df_saldos_conservacion['INFORME DE VISITA']=='SI']\n",
    "\n",
    "# TODO: Se realiza el conteo\n",
    "df_saldos_conservacion_infVisita = ((pd.DataFrame(df_saldos_conservacion_infVisita.groupby(['MUNICIPIO','INFORME DE VISITA'])['INFORME DE VISITA'].count())).rename(columns={'INFORME DE VISITA':'total_informes'})).reset_index()\n",
    "\n",
    "# ** Aplicar tema a la salida gráfica y tipo de texto y tamaño del texto\n",
    "sns.set_theme(style='whitegrid', font='Tahoma', font_scale=1)\n",
    "\n",
    "# ** Configuración ejes horizontales en Matplotlib\n",
    "plt.rcParams['axes.axisbelow'] = True\n",
    "plt.rcParams['axes.edgecolor'] = 'gray'\n",
    "plt.rcParams['axes.linewidth'] = 0.8\n",
    "\n",
    "paleta_colores = {\n",
    "    'BARANOA ': '#4285f4',  # Azul\n",
    "    'MARIA LA BAJA': '#ea4335', # Naranja\n",
    "    'REPELON':'#fbbc04',\n",
    "    'SABANAGRANDE':'#34a853'\n",
    "}\n",
    "\n",
    "f, ax = plt.subplots(figsize=(8, 8))\n",
    "\n",
    "sns.barplot(x='MUNICIPIO', y='total_informes', data=df_saldos_conservacion_infVisita, ax=ax, palette=paleta_colores)\n",
    "\n",
    "for container in ax.containers:\n",
    "    ax.bar_label(container, fmt='%d', label_type='edge', fontsize=10, color='black')\n",
    "\n",
    "# * Ajustar las etiquetas y el título\n",
    "ax.set_title(f'Informes de Visitas')\n",
    "ax.set_xlabel('Municipio')\n",
    "ax.set_ylabel('Total de Informes de Visitas')\n",
    "\n",
    "NOMBRE_GRAFICO = fecha_directorio + 'Informe_Visitas.png'\n",
    "ruta_grafico = os.path.join(DIRECTORIO_GRAFICO, NOMBRE_GRAFICO)\n",
    "\n",
    "plt.savefig(ruta_grafico, dpi=300, bbox_inches='tight')"
   ]
  },
  {
   "cell_type": "markdown",
   "metadata": {},
   "source": [
    "<h3>Trámites Entregados Territoriales</h3>"
   ]
  },
  {
   "cell_type": "code",
   "execution_count": null,
   "metadata": {
    "execution": {
     "iopub.execute_input": "2024-09-05T14:13:27.971071Z",
     "iopub.status.busy": "2024-09-05T14:13:27.971071Z",
     "iopub.status.idle": "2024-09-05T14:13:27.983678Z",
     "shell.execute_reply": "2024-09-05T14:13:27.983678Z"
    }
   },
   "outputs": [],
   "source": [
    "df_saldos_conservacion"
   ]
  },
  {
   "cell_type": "code",
   "execution_count": null,
   "metadata": {
    "execution": {
     "iopub.execute_input": "2024-09-05T14:13:27.985684Z",
     "iopub.status.busy": "2024-09-05T14:13:27.985684Z",
     "iopub.status.idle": "2024-09-05T14:13:28.475143Z",
     "shell.execute_reply": "2024-09-05T14:13:28.475143Z"
    }
   },
   "outputs": [],
   "source": [
    "\n",
    "# TODO: Se filtran aquellos registros que tienen SI en Enviado IGAC\n",
    "df_saldos_conservacion_infEnviados = df_saldos_conservacion[df_saldos_conservacion['ENVIADO A IGAC']=='SI']\n",
    "\n",
    "# TODO: Se realiza el conteo\n",
    "df_saldos_conservacion_infEnviados = ((pd.DataFrame(df_saldos_conservacion_infEnviados.groupby(['MUNICIPIO','ENVIADO A IGAC'])['ENVIADO A IGAC'].count())).rename(columns={'ENVIADO A IGAC':'total_informes'})).reset_index()\n",
    "\n",
    "# ** Aplicar tema a la salida gráfica y tipo de texto y tamaño del texto\n",
    "sns.set_theme(style='whitegrid', font='Tahoma', font_scale=1)\n",
    "\n",
    "# ** Configuración ejes horizontales en Matplotlib\n",
    "plt.rcParams['axes.axisbelow'] = True\n",
    "plt.rcParams['axes.edgecolor'] = 'gray'\n",
    "plt.rcParams['axes.linewidth'] = 0.8\n",
    "\n",
    "paleta_colores = {\n",
    "    'BARANOA ': '#4285f4',  # Azul\n",
    "    'MARIA LA BAJA': '#ea4335', # Naranja\n",
    "    'REPELON':'#fbbc04',\n",
    "    'SABANAGRANDE':'#34a853'\n",
    "}\n",
    "\n",
    "f, ax = plt.subplots(figsize=(8, 8))\n",
    "\n",
    "sns.barplot(x='MUNICIPIO', y='total_informes', data=df_saldos_conservacion_infEnviados, ax=ax, palette=paleta_colores)\n",
    "\n",
    "for container in ax.containers:\n",
    "    ax.bar_label(container, fmt='%d', label_type='edge', fontsize=10, color='black')\n",
    "\n",
    "# * Ajustar las etiquetas y el título\n",
    "ax.set_title(f'Informes Enviados IGAC')\n",
    "ax.set_xlabel('Municipio')\n",
    "ax.set_ylabel('Total de Informes Enviados IGAC')\n",
    "\n",
    "NOMBRE_GRAFICO = fecha_directorio + 'Informe_Enviados.png'\n",
    "ruta_grafico = os.path.join(DIRECTORIO_GRAFICO, NOMBRE_GRAFICO)\n",
    "\n",
    "plt.savefig(ruta_grafico, dpi=300, bbox_inches='tight')"
   ]
  }
 ],
 "metadata": {
  "kernelspec": {
   "display_name": "Python 3",
   "language": "python",
   "name": "python3"
  },
  "language_info": {
   "codemirror_mode": {
    "name": "ipython",
    "version": 3
   },
   "file_extension": ".py",
   "mimetype": "text/x-python",
   "name": "python",
   "nbconvert_exporter": "python",
   "pygments_lexer": "ipython3",
   "version": "3.11.8"
  }
 },
 "nbformat": 4,
 "nbformat_minor": 2
}
