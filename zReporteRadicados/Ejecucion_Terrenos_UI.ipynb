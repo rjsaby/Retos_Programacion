{
 "cells": [
  {
   "cell_type": "code",
   "execution_count": 2,
   "metadata": {},
   "outputs": [],
   "source": [
    "import pandas as pd\n",
    "import os\n",
    "import seaborn as sns\n",
    "\n",
    "os.environ[\"CRYPTOGRAPHY_OPENSSL_NO_LEGACY\"] = \"yes\"\n",
    "\n",
    "# ? Se usa para generar gráficos\n",
    "import matplotlib.pyplot as plt\n",
    "\n",
    "# ? Se usa para determina la fecha de ejecución del proceso dentro del export de los resultados estadísticos\n",
    "from datetime import datetime\n",
    "\n",
    "# ? Conexión a BD Postgres. Se usa dado que pandas no acepta sino este paquete para la conexión.\n",
    "from sqlalchemy import create_engine, text\n",
    "\n",
    "from datetime import datetime\n",
    "\n",
    "from arcgis.features import GeoAccessor, GeoSeriesAccessor\n",
    "import arcpy\n",
    "\n",
    "from pathlib import Path\n",
    "\n",
    "# ** Librerías propias\n",
    "import funcion_terrenos_w_ui"
   ]
  },
  {
   "cell_type": "code",
   "execution_count": 3,
   "metadata": {},
   "outputs": [],
   "source": [
    "# TODO: LLamado a Terrenos\n",
    "arcpy.env.workspace = r\"C:\\docsProyectos\\5.RAISS\\2024.0.RAISS_Lote_4\\6.Hitos\\E1_Alistamiento_Diagnostico\\3_Disposicion\\1.BD_Consolidada\\BD_Consolidada_Lote4.gdb\"\n",
    "ruta_bdScrach = r\"C:\\docsProyectos\\5.RAISS\\2024.0.RAISS_Lote_4\\6.Hitos\\E2_Informes_Id_FisicoJuridica\\2_2_0_Identificacion_Predial_Total_Ha_Actualizadas\\Base_Datos\\Terrenos_w_UI.gdb\"\n",
    "nDataset = 'Analitica_UT_Consolidada'\n",
    "fcTerrenos = 'BASE_CATASTRAL_NORMALIZADA'\n",
    "\n",
    "for dataset in arcpy.ListDatasets(wild_card=nDataset):\n",
    "    for capa in arcpy.ListFeatureClasses(feature_dataset=dataset, wild_card=fcTerrenos):\n",
    "        ruta_fcTerrenos = os.path.join(arcpy.env.workspace,dataset,capa)\n",
    "\n",
    "# TODO: LLamado a UI\n",
    "arcpy.env.workspace = r\"C:\\docsProyectos\\5.RAISS\\2024.0.RAISS_Lote_4\\6.Hitos\\O_Apoyo_Construccion_UIntervencion\\UI_Finales\\UI_Finales.gdb\"\n",
    "nDataset = 'UI_Unificadas'\n",
    "fcUI = 'UI_Unificadas'\n",
    "\n",
    "for dataset in arcpy.ListDatasets(wild_card=nDataset):\n",
    "    for capa in arcpy.ListFeatureClasses(feature_dataset=dataset, wild_card=fcUI):\n",
    "        ruta_fcUI = os.path.join(arcpy.env.workspace,dataset,capa)"
   ]
  },
  {
   "cell_type": "code",
   "execution_count": 4,
   "metadata": {},
   "outputs": [
    {
     "name": "stdout",
     "output_type": "stream",
     "text": [
      "1. Se genera centroides de Terrenos, capa fcTerrenosCentroides, base de datos Terrenos_w_UI.gdb\n",
      "2. Se genera Join Terrenos Centroides W UI, capa capa_fccentroidesTerrenosWJoinUI, base de datos Terrenos_w_UI.gdb\n",
      "3. Se borran campos en Terrenos Centroides W UI, capa capa_fccentroidesTerrenosWJoinUI, base de datos Terrenos_w_UI.gdb\n",
      "4. Se genera Join Terrenos Centroides W Terrenos Originales, capa fcTerrenosUI, base de datos Terrenos_w_UI.gdb\n",
      "5. Se borran campos en Terrenos W UI, capa fcTerrenosUI, base de datos Terrenos_w_UI.gdb\n",
      "6.1. Se genera tabla C:\\docsProyectos\\5.RAISS\\2024.0.RAISS_Lote_4\\6.Hitos\\E2_Informes_Id_FisicoJuridica\\2_2_0_Identificacion_Predial_Total_Ha_Actualizadas\\Base_Datos\\Terrenos_w_UI.gdb\\fcTerrenosUI que relaciona Terrenos con UI, base de datos Terrenos_w_UI.gdb\n",
      "6.2. Se genera tabla C:\\docsProyectos\\5.RAISS\\2024.0.RAISS_Lote_4\\6.Hitos\\E1_Alistamiento_Diagnostico\\3_Disposicion\\1.BD_Consolidada\\BD_Consolidada_Lote4.gdb\\fcTerrenosUI que relaciona Terrenos con UI, base de datos BD_Consolidada_Lote4.gdb\n",
      "FINALIZA PROCESO\n"
     ]
    }
   ],
   "source": [
    "funcion_terrenos_w_ui.funcion_terreno_w_ui(ruta_fcTerrenos, ruta_bdScrach, ruta_fcUI)"
   ]
  }
 ],
 "metadata": {
  "kernelspec": {
   "display_name": "Python 3",
   "language": "python",
   "name": "python3"
  },
  "language_info": {
   "codemirror_mode": {
    "name": "ipython",
    "version": 3
   },
   "file_extension": ".py",
   "mimetype": "text/x-python",
   "name": "python",
   "nbconvert_exporter": "python",
   "pygments_lexer": "ipython3",
   "version": "3.11.8"
  }
 },
 "nbformat": 4,
 "nbformat_minor": 2
}
