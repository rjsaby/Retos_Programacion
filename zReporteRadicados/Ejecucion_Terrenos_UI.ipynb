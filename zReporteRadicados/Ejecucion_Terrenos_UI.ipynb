{
 "cells": [
  {
   "cell_type": "code",
   "execution_count": null,
   "metadata": {},
   "outputs": [],
   "source": [
    "import pandas as pd\n",
    "import os\n",
    "import seaborn as sns\n",
    "\n",
    "os.environ[\"CRYPTOGRAPHY_OPENSSL_NO_LEGACY\"] = \"yes\"\n",
    "\n",
    "# ? Se usa para generar gráficos\n",
    "import matplotlib.pyplot as plt\n",
    "\n",
    "# ? Se usa para determina la fecha de ejecución del proceso dentro del export de los resultados estadísticos\n",
    "from datetime import datetime\n",
    "\n",
    "# ? Conexión a BD Postgres. Se usa dado que pandas no acepta sino este paquete para la conexión.\n",
    "from sqlalchemy import create_engine, text\n",
    "\n",
    "from datetime import datetime\n",
    "\n",
    "from arcgis.features import GeoAccessor, GeoSeriesAccessor\n",
    "import arcpy\n",
    "\n",
    "from pathlib import Path\n",
    "\n",
    "# ** Librerías propias\n",
    "import funcion_relacion_terrenos_w_ui\n",
    "import funcion_dataframe_terrenos"
   ]
  },
  {
   "cell_type": "code",
   "execution_count": null,
   "metadata": {},
   "outputs": [],
   "source": [
    "\n",
    "# TODO: LLamado a Terrenos\n",
    "df_terrenos_unificados, ruta_terrenos_unificados = funcion_dataframe_terrenos.dataframe_terrenos()\n",
    "print(\"Se ejecuta la función\")\n",
    "\n",
    "# TODO: LLamado a UI\n",
    "arcpy.env.workspace = r\"C:\\docsProyectos\\5.RAISS\\2024.0.RAISS_Lote_4\\6.Hitos\\O_Apoyo_Construccion_UIntervencion\\UI_Finales\\UI_Finales.gdb\"\n",
    "nDataset = 'UI_Unificadas'\n",
    "fcUI = 'UI_Unificadas'\n",
    "\n",
    "for dataset in arcpy.ListDatasets(wild_card=nDataset):\n",
    "    for capa in arcpy.ListFeatureClasses(feature_dataset=dataset, wild_card=fcUI):\n",
    "        ruta_fcUI = os.path.join(arcpy.env.workspace,dataset,capa)\n",
    "\n",
    "# TODO: Almacenamiento de capas temporales\n",
    "ruta_bdScrach = r\"C:\\docsProyectos\\5.RAISS\\2024.0.RAISS_Lote_4\\6.Hitos\\E2_Informes_Id_FisicoJuridica\\2_2_0_Identificacion_Predial_Total_Ha_Actualizadas\\Base_Datos\\Terrenos_w_UI.gdb\""
   ]
  },
  {
   "cell_type": "code",
   "execution_count": null,
   "metadata": {},
   "outputs": [],
   "source": [
    "funcion_relacion_terrenos_w_ui.funcion_terreno_w_ui(ruta_terrenos_unificados, ruta_bdScrach, ruta_fcUI)"
   ]
  }
 ],
 "metadata": {
  "kernelspec": {
   "display_name": "Python 3",
   "language": "python",
   "name": "python3"
  },
  "language_info": {
   "codemirror_mode": {
    "name": "ipython",
    "version": 3
   },
   "file_extension": ".py",
   "mimetype": "text/x-python",
   "name": "python",
   "nbconvert_exporter": "python",
   "pygments_lexer": "ipython3",
   "version": "3.11.8"
  }
 },
 "nbformat": 4,
 "nbformat_minor": 2
}
