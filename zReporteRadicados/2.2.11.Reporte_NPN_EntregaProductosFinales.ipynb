{
 "cells": [
  {
   "cell_type": "code",
   "execution_count": 1,
   "metadata": {
    "execution": {
     "iopub.execute_input": "2024-09-06T05:52:11.931602Z",
     "iopub.status.busy": "2024-09-06T05:52:11.931602Z",
     "iopub.status.idle": "2024-09-06T05:52:17.682088Z",
     "shell.execute_reply": "2024-09-06T05:52:17.682088Z"
    }
   },
   "outputs": [],
   "source": [
    "import pandas as pd\n",
    "import os\n",
    "import seaborn as sns\n",
    "\n",
    "os.environ[\"CRYPTOGRAPHY_OPENSSL_NO_LEGACY\"] = \"yes\"\n",
    "\n",
    "# ? Se usa para generar gráficos\n",
    "import matplotlib.pyplot as plt\n",
    "\n",
    "import shutil\n",
    "\n",
    "# ? Se usa para determina la fecha de ejecución del proceso dentro del export de los resultados estadísticos\n",
    "from datetime import datetime as dt\n",
    "\n",
    "# ? Conexión a BD Postgres. Se usa dado que pandas no acepta sino este paquete para la conexión.\n",
    "from sqlalchemy import create_engine, text\n",
    "\n",
    "from arcgis.features import GeoAccessor, GeoSeriesAccessor\n",
    "import arcpy\n",
    "\n",
    "from pathlib import Path\n",
    "\n",
    "# ** Librerías propias\n",
    "import funcion_SQL_a_DataFrame\n",
    "import funcion_parametrizacion_variables\n",
    "import funcion_migracionReporte_GoogleDrive\n",
    "import funcion_exportacion_pdf_seriemapas\n",
    "import funcion_copia_googledrive"
   ]
  },
  {
   "cell_type": "code",
   "execution_count": 2,
   "metadata": {
    "execution": {
     "iopub.execute_input": "2024-09-06T05:52:17.685094Z",
     "iopub.status.busy": "2024-09-06T05:52:17.684095Z",
     "iopub.status.idle": "2024-09-06T05:52:17.688354Z",
     "shell.execute_reply": "2024-09-06T05:52:17.688354Z"
    }
   },
   "outputs": [],
   "source": [
    "\n",
    "fecha_actual = dt.now()\n",
    "fecha_estandarizada = str(fecha_actual.strftime(\"%Y%m%d\"))\n",
    "\n",
    "FC_TERRENOS_UNIFICADOS = r\"C:\\docsProyectos\\5.RAISS\\2024.0.RAISS_Lote_4\\6.Hitos\\E1_Alistamiento_Diagnostico\\3_Disposicion\\1.BD_Consolidada\\BD_Consolidada_Lote4.gdb\\Analitica_UT_Consolidada\\TERRENO_POR_HITO\"\n",
    "FC_BD_INDICADOR = r\"C:\\docsProyectos\\5.RAISS\\2024.0.RAISS_Lote_4\\6.Hitos\\E2_Informes_Id_FisicoJuridica\\2_2_11_Indicador_NPN_EntregaProdFinales\\Base_Datos\\2_11_NPNProductosFinales.gdb\"\n",
    "\n",
    "# TODO: Actualización del Reporte de Seguimiento\n",
    "DIRECTORIO_SALIDA_XLSX = r\"C:\\docsProyectos\\5.RAISS\\2024.0.RAISS_Lote_4\\6.Hitos\\E2_Informes_Id_FisicoJuridica\\2_2_2_Rendimientos_Reconocimiento\"\n",
    "NOMBRE_XLSX = fecha_estandarizada + \"_RendimientoEquipoReconocimiento_BCGS.xlsx\"\n",
    "RUTA_SALIDA_XLSX = os.path.join(DIRECTORIO_SALIDA_XLSX, NOMBRE_XLSX)\n",
    "NOMBRE_HOJA = 'NPN_En_EntregaProductoFinal'"
   ]
  },
  {
   "cell_type": "code",
   "execution_count": 3,
   "metadata": {
    "execution": {
     "iopub.execute_input": "2024-09-06T05:52:17.691361Z",
     "iopub.status.busy": "2024-09-06T05:52:17.690361Z",
     "iopub.status.idle": "2024-09-06T05:53:40.026214Z",
     "shell.execute_reply": "2024-09-06T05:53:40.026214Z"
    }
   },
   "outputs": [
    {
     "name": "stdout",
     "output_type": "stream",
     "text": [
      "Inicio de la conexión\n",
      "Conexión exitosa ...\n"
     ]
    }
   ],
   "source": [
    "\n",
    "# TODO: Llamado a la consulta \n",
    "resultados = funcion_parametrizacion_variables.parametrizacion_variables()\n",
    "consulta_tRendimientosActualizacion = resultados[2]\n",
    "renombrar_actividades = resultados[4]\n",
    "\n",
    "# TODO: Generación de DF a partir de consulta\n",
    "df_tRendimientosActualizacion = funcion_SQL_a_DataFrame.sql_a_dataframe(consulta_tRendimientosActualizacion)\n",
    "\n",
    "for columna in df_tRendimientosActualizacion.columns:\n",
    "    if columna == 'actividad_actual_tramite':\n",
    "        for llave, valor in renombrar_actividades.items():\n",
    "            df_tRendimientosActualizacion.loc[df_tRendimientosActualizacion[columna]==llave, columna] = valor"
   ]
  },
  {
   "cell_type": "code",
   "execution_count": 4,
   "metadata": {
    "execution": {
     "iopub.execute_input": "2024-09-06T05:53:40.028221Z",
     "iopub.status.busy": "2024-09-06T05:53:40.028221Z",
     "iopub.status.idle": "2024-09-06T05:53:40.036095Z",
     "shell.execute_reply": "2024-09-06T05:53:40.036095Z"
    }
   },
   "outputs": [],
   "source": [
    "\n",
    "# TODO: Preparación y selección de NPN en estado de actividad 16.Realizando Entrega de Productos Finales\n",
    "df_tRendimientosActualizacion_ProdFinales = df_tRendimientosActualizacion[df_tRendimientosActualizacion['actividad_actual_tramite'] == '16.Realizando Entrega de Productos Finales'][['municipio','npn','pversion','radicado','ficha','tipo_terreno']]\n",
    "df_tRendimientosActualizacion_ProdFinales = (df_tRendimientosActualizacion_ProdFinales.rename(columns={'pversion':'radicado_padre','radicado':'radicado_hijo'})).astype({'radicado_padre':str, 'radicado_hijo':str})\n",
    "df_tRendimientosActualizacion_ProdFinales['radicado_padre'] = df_tRendimientosActualizacion_ProdFinales['radicado_padre'].astype(float).astype(int).astype(str)"
   ]
  },
  {
   "cell_type": "code",
   "execution_count": 5,
   "metadata": {
    "execution": {
     "iopub.execute_input": "2024-09-06T05:53:40.039109Z",
     "iopub.status.busy": "2024-09-06T05:53:40.038110Z",
     "iopub.status.idle": "2024-09-06T05:53:47.800910Z",
     "shell.execute_reply": "2024-09-06T05:53:47.800910Z"
    }
   },
   "outputs": [
    {
     "name": "stdout",
     "output_type": "stream",
     "text": [
      "Se crea la capa geográfica del indicador\n"
     ]
    }
   ],
   "source": [
    "\n",
    "# TODO: Acceso a la capa Terrenos mediante DF\n",
    "df_terrenosHito = pd.DataFrame.spatial.from_featureclass(FC_TERRENOS_UNIFICADOS)\n",
    "df_terrenosHito = df_terrenosHito[['codigo','codigo_anterior','fuente','area_ha_cmt12','meta_hito','id_ui','SHAPE']]\n",
    "\n",
    "# TODO: Espacialización de NPN Tipo 16\n",
    "df_Unificacion_ProdFinales_Terrenos = df_tRendimientosActualizacion_ProdFinales.merge(right=df_terrenosHito, left_on='npn', right_on='codigo', how='left')\n",
    "df_Unificacion_ProdFinales_Terrenos.spatial.to_featureclass(location=os.path.join(FC_BD_INDICADOR,'terrenos_prodFinales'))\n",
    "print(\"Se crea la capa geográfica del indicador\")"
   ]
  },
  {
   "cell_type": "code",
   "execution_count": 6,
   "metadata": {
    "execution": {
     "iopub.execute_input": "2024-09-06T05:53:47.802916Z",
     "iopub.status.busy": "2024-09-06T05:53:47.802916Z",
     "iopub.status.idle": "2024-09-06T05:54:02.983330Z",
     "shell.execute_reply": "2024-09-06T05:54:02.983330Z"
    }
   },
   "outputs": [],
   "source": [
    "\n",
    "# TODO: Se actualiza el reporte de rendimientos\n",
    "with pd.ExcelWriter(RUTA_SALIDA_XLSX, engine='openpyxl', mode='a', if_sheet_exists='replace') as writer:\n",
    "    df_tRendimientosActualizacion_ProdFinales.to_excel(writer, sheet_name=NOMBRE_HOJA, index=False)"
   ]
  },
  {
   "cell_type": "code",
   "execution_count": 7,
   "metadata": {
    "execution": {
     "iopub.execute_input": "2024-09-06T05:54:02.986336Z",
     "iopub.status.busy": "2024-09-06T05:54:02.986336Z",
     "iopub.status.idle": "2024-09-06T05:54:25.857386Z",
     "shell.execute_reply": "2024-09-06T05:54:25.857386Z"
    }
   },
   "outputs": [
    {
     "name": "stdout",
     "output_type": "stream",
     "text": [
      "Nombre Layout: Seguimiento NPN Entrega Prod. Finales\n",
      "Se exporta a PDF Seguimiento NPN Entrega Prod. Finales\n"
     ]
    }
   ],
   "source": [
    "RUTA_PDF = r\"C:\\docsProyectos\\5.RAISS\\2024.0.RAISS_Lote_4\\6.Hitos\\E2_Informes_Id_FisicoJuridica\\2_2_11_Indicador_NPN_EntregaProdFinales\\Salidas_Graficas\"\n",
    "nombre_layout = 'Seguimiento NPN Entrega Prod. Finales'\n",
    "\n",
    "# TODO: Generación de Salidas Gráficas\n",
    "funcion_exportacion_pdf_seriemapas.exportacion_salida_grafica(nombre_layout,RUTA_PDF)"
   ]
  },
  {
   "cell_type": "code",
   "execution_count": 8,
   "metadata": {
    "execution": {
     "iopub.execute_input": "2024-09-06T05:54:25.859396Z",
     "iopub.status.busy": "2024-09-06T05:54:25.859396Z",
     "iopub.status.idle": "2024-09-06T05:54:30.031754Z",
     "shell.execute_reply": "2024-09-06T05:54:30.031754Z"
    }
   },
   "outputs": [
    {
     "name": "stdout",
     "output_type": "stream",
     "text": [
      "Se copia BD 2_11_NPNProductosFinales.gdb\n",
      "Se copia archivo PDF 20240905_María La Baja.pdf\n",
      "Se copia archivo PDF 20240905_Repelón.pdf\n",
      "Se copia archivo PDF 20240906_María La Baja.pdf\n",
      "Se copia archivo PDF 20240906_Repelón.pdf\n",
      "Se migra los archivos del Indicador\n"
     ]
    }
   ],
   "source": [
    "dLocal = r\"C:\\docsProyectos\\5.RAISS\\2024.0.RAISS_Lote_4\\6.Hitos\\E2_Informes_Id_FisicoJuridica\\2_2_11_Indicador_NPN_EntregaProdFinales\"\n",
    "dGoogleDrive = r\"G:\\Mi unidad\\Equipo_Consolidacion\\Hitos\\E2_Informes_Id_FisicoJuridica\\2_2_11_Indicador_NPN_EntregaProdFinales\"\n",
    "\n",
    "funcion_copia_googledrive.migracion_googledrive(dLocal, dGoogleDrive)\n",
    "print(\"Se migra los archivos del Indicador\")"
   ]
  },
  {
   "cell_type": "markdown",
   "metadata": {},
   "source": [
    "<h3>Migración a Google Drive</h3>"
   ]
  },
  {
   "cell_type": "code",
   "execution_count": 9,
   "metadata": {
    "execution": {
     "iopub.execute_input": "2024-09-06T05:54:30.034766Z",
     "iopub.status.busy": "2024-09-06T05:54:30.034766Z",
     "iopub.status.idle": "2024-09-06T05:55:54.668444Z",
     "shell.execute_reply": "2024-09-06T05:55:54.668444Z"
    }
   },
   "outputs": [
    {
     "name": "stdout",
     "output_type": "stream",
     "text": [
      "Se migra a Google Drive\n"
     ]
    }
   ],
   "source": [
    "funcion_migracionReporte_GoogleDrive.reporte_a_googleDrive()\n",
    "print(\"Se migra a Google Drive\")"
   ]
  }
 ],
 "metadata": {
  "kernelspec": {
   "display_name": "Python 3",
   "language": "python",
   "name": "python3"
  },
  "language_info": {
   "codemirror_mode": {
    "name": "ipython",
    "version": 3
   },
   "file_extension": ".py",
   "mimetype": "text/x-python",
   "name": "python",
   "nbconvert_exporter": "python",
   "pygments_lexer": "ipython3",
   "version": "3.11.8"
  }
 },
 "nbformat": 4,
 "nbformat_minor": 2
}
