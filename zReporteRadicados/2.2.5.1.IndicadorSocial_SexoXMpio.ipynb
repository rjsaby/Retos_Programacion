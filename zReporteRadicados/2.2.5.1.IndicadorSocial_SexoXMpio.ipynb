{
 "cells": [
  {
   "cell_type": "code",
   "execution_count": null,
   "metadata": {},
   "outputs": [],
   "source": [
    "import pandas as pd\n",
    "import os\n",
    "import seaborn as sns\n",
    "\n",
    "os.environ[\"CRYPTOGRAPHY_OPENSSL_NO_LEGACY\"] = \"yes\"\n",
    "\n",
    "# ? Se usa para generar gráficos\n",
    "import matplotlib.pyplot as plt\n",
    "import matplotlib.patches as patches\n",
    "\n",
    "import shutil\n",
    "\n",
    "# ? Se usa para determina la fecha de ejecución del proceso dentro del export de los resultados estadísticos\n",
    "from datetime import datetime as dt\n",
    "\n",
    "# ? Conexión a BD Postgres. Se usa dado que pandas no acepta sino este paquete para la conexión.\n",
    "from sqlalchemy import create_engine, text\n",
    "\n",
    "from arcgis.features import GeoAccessor, GeoSeriesAccessor\n",
    "import arcpy\n",
    "\n",
    "from pathlib import Path\n",
    "\n",
    "# ** Librerías propias\n",
    "import funcion_SQL_a_DataFrame\n",
    "import funcion_parametrizacion_variables"
   ]
  },
  {
   "cell_type": "code",
   "execution_count": null,
   "metadata": {},
   "outputs": [],
   "source": [
    "resultados = funcion_parametrizacion_variables.parametrizacion_variables()\n",
    "consulta_interesado_sexo = resultados[9]\n",
    "consulta_interesado_npn = resultados[10]\n",
    "\n",
    "df_consulta_interesado_sexo = funcion_SQL_a_DataFrame.sql_a_dataframe(consulta_interesado_sexo)\n",
    "df_consulta_interesado_npn = funcion_SQL_a_DataFrame.sql_a_dataframe(consulta_interesado_npn)"
   ]
  },
  {
   "cell_type": "code",
   "execution_count": null,
   "metadata": {},
   "outputs": [],
   "source": [
    "df_interesado_sexoXmunicipio = df_consulta_interesado_sexo.groupby(['codigo_dane','sexo'])['sexo'].count()\n",
    "df_interesado_sexoXmunicipio = pd.DataFrame(df_interesado_sexoXmunicipio).rename(columns={'sexo':'total'}).reset_index()\n",
    "df_interesado_sexoXmunicipio"
   ]
  },
  {
   "cell_type": "code",
   "execution_count": null,
   "metadata": {},
   "outputs": [],
   "source": [
    "codigos_municipios = {'Baranoa':'08078',\n",
    "    'Repelon':'08606',\n",
    "    'Sabanagrande':'08634',\n",
    "    'MariaLaBaja':'13442'\n",
    "    }\n",
    "\n",
    "DIRECTORIO_GRAFICO = r\"C:\\docsProyectos\\5.RAISS\\2024.0.RAISS_Lote_4\\6.Hitos\\E2_Informes_Id_FisicoJuridica\\2_2_5_Indicador_Social_Interlocuciones_Nivel_3\\Seguimiento_Genero_IntN3\\Salidas_Graficas\"\n",
    "\n",
    "# ** Aplicar tema a la salida gráfica y tipo de texto y tamaño del texto\n",
    "sns.set_theme(style='whitegrid', font='Tahoma', font_scale=1)\n",
    "\n",
    "fig, ax = plt.subplots(figsize=(8, 8))\n",
    "colors = ['gold', 'yellowgreen', 'lightskyblue']\n",
    "\n",
    "for llave, valor in codigos_municipios.items():\n",
    "    for columna in df_interesado_sexoXmunicipio.columns:\n",
    "        if columna == 'codigo_dane':\n",
    "            globals()[f\"df_{llave}_sexoXmunicipio\"] = df_interesado_sexoXmunicipio[df_interesado_sexoXmunicipio[columna] == valor]\n",
    "\n",
    "            # ! wedgeprops=dict(edgecolor='w'): Añade un borde blanco alrededor de cada porción del gráfico de pie\n",
    "            wedges, texts, autotexts = plt.pie(globals()[f\"df_{llave}_sexoXmunicipio\"]['total'], labels=globals()[f\"df_{llave}_sexoXmunicipio\"]['sexo'], colors=colors, autopct='%1.1f%%', shadow=True, wedgeprops=dict(edgecolor='w'), labeldistance=1.2)\n",
    "            plt.title(f'Genero por Interesado, Municipio de {llave}', pad=40, fontweight='bold', fontsize=16) # * Añadir título a la gráfica con separación, negrilla y tamaño mayor\n",
    "            ax.axis('equal') # * Asegura que el pie sea un círculo\n",
    "\n",
    "            # * Mejorar la estética de los textos\n",
    "            for text in texts:\n",
    "                text.set_fontsize(12)\n",
    "\n",
    "            for autotext in autotexts:\n",
    "                autotext.set_fontsize(13)\n",
    "                autotext.set_fontweight('bold')\n",
    "                autotext.set_color('white')\n",
    "                \n",
    "            NOMBRE_GRAFICO = llave + '_Sexo_X_Interesado.png'\n",
    "            ruta_grafico = os.path.join(DIRECTORIO_GRAFICO, NOMBRE_GRAFICO)\n",
    "            \n",
    "            plt.savefig(ruta_grafico, dpi=300, bbox_inches='tight')\n",
    "            plt.close()  # * Cerrar la figura para evitar superposición de gráficos\n",
    "\n",
    "            \n",
    "            DIRECTORIO_SALIDA_GRAFICA = r\"C:\\docsProyectos\\5.RAISS\\2024.0.RAISS_Lote_4\\6.Hitos\\E2_Informes_Id_FisicoJuridica\\2_2_5_Indicador_Social_Interlocuciones_Nivel_3\\Seguimiento_Genero_IntN3\\Estadisticos\"\n",
    "            NOMBRE_XLSX = 'Genero_X_Municipio.xlsx'\n",
    "\n",
    "            # ** Usar ExcelWriter para guardar múltiples dataframes en diferentes hojas\n",
    "            with pd.ExcelWriter(os.path.join(DIRECTORIO_SALIDA_GRAFICA, NOMBRE_XLSX), engine='openpyxl', mode='a', if_sheet_exists='replace') as writer:\n",
    "                globals()[f\"df_{llave}_sexoXmunicipio\"].to_excel(writer, sheet_name=f'GenXInt_{llave}', index=False)"
   ]
  },
  {
   "cell_type": "code",
   "execution_count": null,
   "metadata": {},
   "outputs": [],
   "source": [
    "ruta_terrenos_w_sig = r\"C:\\docsProyectos\\5.RAISS\\2024.0.RAISS_Lote_4\\6.Hitos\\E1_Alistamiento_Diagnostico\\3_Disposicion\\1.BD_Consolidada\\BD_Consolidada_Lote4.gdb\\Analitica_UT_Consolidada\\TERRENO_POR_HITO\"\n",
    "\n",
    "df_terrenos = pd.DataFrame.spatial.from_featureclass(ruta_terrenos_w_sig)"
   ]
  },
  {
   "cell_type": "code",
   "execution_count": null,
   "metadata": {},
   "outputs": [],
   "source": [
    "df_terreno_x_sexo = pd.merge(left=df_terrenos,\n",
    "    right=df_consulta_interesado_npn,\n",
    "    left_on='codigo',\n",
    "    right_on='numero_predial',\n",
    "    how='inner')"
   ]
  },
  {
   "cell_type": "code",
   "execution_count": null,
   "metadata": {},
   "outputs": [],
   "source": [
    "estandarizacion_columna_terrenoXsexo = ['codigo','codigo_dane','sexo','SHAPE']\n",
    "\n",
    "RUTA_BDLOCAL = r\"C:\\docsProyectos\\5.RAISS\\2024.0.RAISS_Lote_4\\6.Hitos\\E2_Informes_Id_FisicoJuridica\\2_2_5_Indicador_Social_Interlocuciones_Nivel_3\\Seguimiento_Genero_IntN3\\Base_Datos\\2_2_5_GeoTerrenoXGenero.gdb\"\n",
    "NOMBRE_FEATURE = 'Terreno_X_Genero'\n",
    "\n",
    "df_terreno_x_sexo = df_terreno_x_sexo[estandarizacion_columna_terrenoXsexo]\n",
    "\n",
    "df_terreno_x_sexo.spatial.to_featureclass(location=os.path.join(RUTA_BDLOCAL,NOMBRE_FEATURE))\n",
    "print(f\"Se crea la capa {NOMBRE_FEATURE}\")"
   ]
  }
 ],
 "metadata": {
  "kernelspec": {
   "display_name": "Python 3",
   "language": "python",
   "name": "python3"
  },
  "language_info": {
   "codemirror_mode": {
    "name": "ipython",
    "version": 3
   },
   "file_extension": ".py",
   "mimetype": "text/x-python",
   "name": "python",
   "nbconvert_exporter": "python",
   "pygments_lexer": "ipython3",
   "version": "3.11.8"
  }
 },
 "nbformat": 4,
 "nbformat_minor": 2
}
