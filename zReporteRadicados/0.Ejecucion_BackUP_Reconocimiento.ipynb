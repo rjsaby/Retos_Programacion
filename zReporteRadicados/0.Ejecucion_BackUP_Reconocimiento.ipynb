{
 "cells": [
  {
   "cell_type": "code",
   "execution_count": null,
   "metadata": {},
   "outputs": [],
   "source": [
    "\n",
    "# * Librerías propias\n",
    "import funcion_backup_reconocimiento"
   ]
  },
  {
   "cell_type": "code",
   "execution_count": null,
   "metadata": {},
   "outputs": [],
   "source": [
    "ruta_origen = r\"G:\\Unidades compartidas\\CROQUIS PARA GIS\"\n",
    "\n",
    "funcion_backup_reconocimiento.generacion_backup(ruta_origen)\n",
    "print(f\"Ejecución exitosa\")"
   ]
  },
  {
   "cell_type": "code",
   "execution_count": null,
   "metadata": {},
   "outputs": [],
   "source": [
    "ruta_origen = r\"G:\\Unidades compartidas\\600 predios\"\n",
    "\n",
    "funcion_backup_reconocimiento.generacion_backup(ruta_origen)\n",
    "print(f\"Ejecución exitosa\")"
   ]
  }
 ],
 "metadata": {
  "kernelspec": {
   "display_name": "Python 3",
   "language": "python",
   "name": "python3"
  },
  "language_info": {
   "codemirror_mode": {
    "name": "ipython",
    "version": 3
   },
   "file_extension": ".py",
   "mimetype": "text/x-python",
   "name": "python",
   "nbconvert_exporter": "python",
   "pygments_lexer": "ipython3",
   "version": "3.11.8"
  }
 },
 "nbformat": 4,
 "nbformat_minor": 2
}
