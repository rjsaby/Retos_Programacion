{
 "cells": [
  {
   "cell_type": "markdown",
   "metadata": {},
   "source": [
    "<h3></h3>"
   ]
  },
  {
   "cell_type": "code",
   "execution_count": null,
   "metadata": {},
   "outputs": [],
   "source": [
    "import pandas as pd\n",
    "import os\n",
    "import seaborn as sns\n",
    "\n",
    "# ? Se usa para generar gráficos\n",
    "import matplotlib.pyplot as plt\n",
    "\n",
    "# ? Se usa para determina la fecha de ejecución del proceso dentro del export de los resultados estadísticos\n",
    "from datetime import datetime\n",
    "\n",
    "# ? Conexión a BD Postgres. Se usa dado que pandas no acepta sino este paquete para la conexión.\n",
    "from sqlalchemy import create_engine, text\n",
    "\n",
    "from datetime import datetime\n",
    "\n",
    "from arcgis.features import GeoAccessor, GeoSeriesAccessor\n",
    "import arcpy\n",
    "\n",
    "from pathlib import Path\n",
    "\n",
    "# ** Librerías propias\n",
    "import funcion_dataframe_terrenos\n",
    "import funcion_SQL_a_DataFrame\n",
    "import funcion_parametrizacionPredioMatriz_X_NPN"
   ]
  },
  {
   "cell_type": "code",
   "execution_count": null,
   "metadata": {},
   "outputs": [],
   "source": [
    "DIRECTORIO_REPORTE = r\"C:\\docsProyectos\\5.RAISS\\2024.0.RAISS_Lote_4\\6.Hitos\\E2_Informes_Id_FisicoJuirica\\2_2_0_Identificacion_Predial_Total_Ha_Actualizadas\\zReportes\"\n",
    "NOMBRE_REPORTE_HASHEET = 'Reporte_Ha_FuenteSheet.xlsx'\n",
    "\n",
    "RUTA_BD_LOCAL = r\"C:\\docsProyectos\\5.RAISS\\2024.0.RAISS_Lote_4\\6.Hitos\\E2_Informes_Id_FisicoJuirica\\2_2_0_Identificacion_Predial_Total_Ha_Actualizadas\\Base_Datos\\_2_2_0.gdb\"\n",
    "RUTA_BD_CONSOLIDADA = r\"C:\\docsProyectos\\5.RAISS\\2024.0.RAISS_Lote_4\\6.Hitos\\E1_Alistamiento_Diagnostico\\3_Disposicion\\1.BD_Consolidada\\BD_Consolidada_Lote4.gdb\"\n",
    "NOMBRE_CAPA_HAXESTADO = 'TERRENOS_RECONOCIMIENTO_TRAMITES_ATENCION_SHEET'"
   ]
  },
  {
   "cell_type": "code",
   "execution_count": null,
   "metadata": {},
   "outputs": [],
   "source": [
    "sheet_name = 'Rendimientos_Reconocimiento_MariaLaBaja'\n",
    "sheet_id = '1-6JLJwBQk5O57VU11kD02mmsowbyL2rJ9HzsN2XfNxs'\n",
    "\n",
    "url = f\"https://docs.google.com/spreadsheets/d/{sheet_id}/gviz/tq?tqx=out:csv&sheet={sheet_name}\"\n",
    "\n",
    "df_reporte_reconocimiento = pd.read_csv(url)\n",
    "columnas_seleccion = ['MUNICIPIO', \n",
    "    'ZONA', \n",
    "    'CODIGO',\n",
    "    'Area terreno_Ha',\n",
    "    'CODIGO_MUN', \n",
    "    'COORDINADOR',\n",
    "    'RECONOCEDOR',\n",
    "    'PROGRAMACION',\n",
    "    'Visitado',\n",
    "    'Nº Radicado BCGS']\n",
    "\n",
    "df_reporte_reconocimiento = df_reporte_reconocimiento[columnas_seleccion]\n",
    "\n",
    "df_reporte_reconocimiento = df_reporte_reconocimiento.copy()\n",
    "\n",
    "total_registros = df_reporte_reconocimiento.shape[0]\n",
    "print(f\"El total de registros analizados es de {total_registros}\")"
   ]
  },
  {
   "cell_type": "code",
   "execution_count": null,
   "metadata": {},
   "outputs": [],
   "source": [
    "df_reporte_reconocimiento = df_reporte_reconocimiento[(df_reporte_reconocimiento['Visitado'] == 'SI')]"
   ]
  },
  {
   "cell_type": "markdown",
   "metadata": {},
   "source": [
    "<h3>Ejecución de Funciones</h3>"
   ]
  },
  {
   "cell_type": "code",
   "execution_count": null,
   "metadata": {},
   "outputs": [],
   "source": [
    "\n",
    "df_terrenos = funcion_dataframe_terrenos.dataframe_terrenos()"
   ]
  },
  {
   "cell_type": "markdown",
   "metadata": {},
   "source": [
    "<h3>Espacialización de Rendimientos Reconocimiento</h3>"
   ]
  },
  {
   "cell_type": "code",
   "execution_count": null,
   "metadata": {},
   "outputs": [],
   "source": [
    "\n",
    "# ** Left para verificar posteriormente cuales terrenos son posibles informalidades\n",
    "df_terrenos_reporteReconocimiento = pd.merge(left=df_reporte_reconocimiento, right=df_terrenos, on=\"CODIGO\", how=\"left\")\n",
    "print(f\"{df_terrenos_reporteReconocimiento.shape[0]}\")"
   ]
  },
  {
   "cell_type": "markdown",
   "metadata": {},
   "source": [
    "<h3>Análisis de Terrenos Visitados sin Geometrías</h3>"
   ]
  },
  {
   "cell_type": "code",
   "execution_count": null,
   "metadata": {},
   "outputs": [],
   "source": [
    "df_terrenos_reporteReconocimiento_sinGeo =  df_terrenos_reporteReconocimiento[df_terrenos_reporteReconocimiento['SHAPE'].isnull()]\n",
    "terrenos_posiblesInformalidades = df_terrenos_reporteReconocimiento_sinGeo.shape[0]\n",
    "print(f\"Predios sin geometrías, posibles informalidades: {df_terrenos_reporteReconocimiento_sinGeo.shape[0]}\")"
   ]
  },
  {
   "cell_type": "markdown",
   "metadata": {},
   "source": [
    "<h4>Búsqueda del Predio Matriz a partir del NPN</h4>"
   ]
  },
  {
   "cell_type": "code",
   "execution_count": null,
   "metadata": {},
   "outputs": [],
   "source": [
    "\n",
    "# ** Aplica la función a cada elemento de la columna npn y asigna el resultado a npn_parametrizado\n",
    "\n",
    "df_terrenos_reporteReconocimiento_sinGeo = df_terrenos_reporteReconocimiento_sinGeo.copy()\n",
    "df_terrenos_reporteReconocimiento_sinGeo['npn_matriz'] = df_terrenos_reporteReconocimiento_sinGeo['CODIGO'].apply(funcion_parametrizacionPredioMatriz_X_NPN.eliminacion_mejora)\n",
    "\n",
    "df_terrenos_reporteReconocimiento_sinGeo_sinMatriz = df_terrenos_reporteReconocimiento_sinGeo[df_terrenos_reporteReconocimiento_sinGeo['npn_matriz'].isnull()]\n",
    "df_terrenos_reporteReconocimiento_sinGeo_conMatriz = df_terrenos_reporteReconocimiento_sinGeo[df_terrenos_reporteReconocimiento_sinGeo['npn_matriz'].notnull()]\n",
    "\n",
    "print(f\"Terrenos por verificar desde Reconocimiento: {df_terrenos_reporteReconocimiento_sinGeo_sinMatriz}\")"
   ]
  },
  {
   "cell_type": "markdown",
   "metadata": {},
   "source": [
    "<h4>Espacializacion de los posibles Matrices</h4>"
   ]
  },
  {
   "cell_type": "code",
   "execution_count": null,
   "metadata": {},
   "outputs": [],
   "source": [
    "reporteReconocimiento_sinGeo_conMatriz_Unicos = pd.DataFrame(df_terrenos_reporteReconocimiento_sinGeo_conMatriz['npn_matriz'].value_counts()).rename(columns={'count':'informalidades_visitadas'}).reset_index()\n",
    "predios_matrices = reporteReconocimiento_sinGeo_conMatriz_Unicos.shape[0]\n",
    "print(f\"Total de posibles Matrices: {reporteReconocimiento_sinGeo_conMatriz_Unicos.shape[0]}\")\n",
    "\n",
    "reporteReconocimiento_sinGeo_conMatriz_Unicos_Geo = pd.merge(left=reporteReconocimiento_sinGeo_conMatriz_Unicos, right=df_terrenos, left_on=\"npn_matriz\", right_on=\"CODIGO\", how=\"inner\")\n",
    "print(f\"Matrices espacializados: {reporteReconocimiento_sinGeo_conMatriz_Unicos_Geo}\")"
   ]
  },
  {
   "cell_type": "markdown",
   "metadata": {},
   "source": [
    "<h4>Calculo de Ha Posibles Matrices (del tratamiento de informalidades)</h4>"
   ]
  },
  {
   "cell_type": "code",
   "execution_count": null,
   "metadata": {},
   "outputs": [],
   "source": [
    "total_ha_matrices = reporteReconocimiento_sinGeo_conMatriz_Unicos_Geo['Area_ha_cmt12'].sum().round(2)\n",
    "print(f\"Total Ha Predios Matrices: {total_ha_matrices} Ha\")"
   ]
  },
  {
   "cell_type": "markdown",
   "metadata": {},
   "source": [
    "<h3>Análisis de Terrenos Visitados con Geometrías</h3>"
   ]
  },
  {
   "cell_type": "code",
   "execution_count": null,
   "metadata": {},
   "outputs": [],
   "source": [
    "df_terrenos_reporteReconocimiento_conGeo =  df_terrenos_reporteReconocimiento[df_terrenos_reporteReconocimiento['SHAPE'].notnull()]\n",
    "terrenos_formales = df_terrenos_reporteReconocimiento_conGeo.shape[0]\n",
    "print(f\"Predios con geometrías: {df_terrenos_reporteReconocimiento_conGeo.shape[0]}\")"
   ]
  },
  {
   "cell_type": "code",
   "execution_count": null,
   "metadata": {},
   "outputs": [],
   "source": [
    "total_ha_conGeo = df_terrenos_reporteReconocimiento_conGeo['Area_ha_cmt12'].sum().round(2)\n",
    "print(f\"Total Ha Predios Matrices: {total_ha_conGeo} Ha\")"
   ]
  },
  {
   "cell_type": "code",
   "execution_count": null,
   "metadata": {},
   "outputs": [],
   "source": [
    "municipio = 'Maria La Baja'\n",
    "\n",
    "df_resumen_marialabaja_ha = pd.DataFrame([[municipio, terrenos_posiblesInformalidades, predios_matrices, total_ha_matrices, terrenos_formales, total_ha_conGeo]], columns=['municipio', 'posibles_informalidades', 'terrenos_matrices', 'total_ha_posiblesinformalidades','predios_formales', 'total_ha_prediosformales'])\n",
    "df_resumen_marialabaja_ha['total_ha'] = df_resumen_marialabaja_ha['total_ha_posiblesinformalidades'] + df_resumen_marialabaja_ha['total_ha_prediosformales']"
   ]
  },
  {
   "cell_type": "code",
   "execution_count": null,
   "metadata": {},
   "outputs": [],
   "source": [
    "\n",
    "reporteReconocimiento_sinGeo_conMatriz_Unicos_Geo = reporteReconocimiento_sinGeo_conMatriz_Unicos_Geo.copy()\n",
    "df_terrenos_reporteReconocimiento_conGeo = df_terrenos_reporteReconocimiento_conGeo.copy()\n",
    "\n",
    "# TODO: Matrices\n",
    "# ** Exportación a BD Consolidada\n",
    "NOMBRE_CAPA_SALIDA = f\"Analitica_UT_Consolidada\\\\{'TERRENOS_RECONOCIMIENTO_TRAMITES_ATENCION_SHEET_MATRICES'.upper()}\"\n",
    "ruta_salida_terrenos_reconocimiento_matrices = os.path.join(RUTA_BD_CONSOLIDADA, NOMBRE_CAPA_SALIDA)\n",
    "\n",
    "reporteReconocimiento_sinGeo_conMatriz_Unicos_Geo.spatial.to_featureclass(location=ruta_salida_terrenos_reconocimiento_matrices)\n",
    "print(f\"Se exporta la capa {NOMBRE_CAPA_SALIDA} a BD Consolidada\")\n",
    "\n",
    "# TODO: Formales\n",
    "# ** Exportación a BD Consolidada\n",
    "NOMBRE_CAPA_SALIDA = f\"Analitica_UT_Consolidada\\\\{'TERRENOS_RECONOCIMIENTO_TRAMITES_ATENCION_SHEET_FORMALES'.upper()}\"\n",
    "ruta_salida_terrenos_reconocimiento_formales = os.path.join(RUTA_BD_CONSOLIDADA, NOMBRE_CAPA_SALIDA)\n",
    "\n",
    "df_terrenos_reporteReconocimiento_conGeo.spatial.to_featureclass(location=ruta_salida_terrenos_reconocimiento_formales)\n",
    "print(f\"Se exporta la capa {NOMBRE_CAPA_SALIDA} a BD Consolidada\")\n",
    "\n",
    "df_resumen_marialabaja_ha.to_excel(os.path.join(DIRECTORIO_REPORTE, NOMBRE_REPORTE_HASHEET))"
   ]
  }
 ],
 "metadata": {
  "kernelspec": {
   "display_name": "Python 3",
   "language": "python",
   "name": "python3"
  },
  "language_info": {
   "codemirror_mode": {
    "name": "ipython",
    "version": 3
   },
   "file_extension": ".py",
   "mimetype": "text/x-python",
   "name": "python",
   "nbconvert_exporter": "python",
   "pygments_lexer": "ipython3",
   "version": "3.11.8"
  }
 },
 "nbformat": 4,
 "nbformat_minor": 2
}
