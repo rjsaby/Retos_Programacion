{
 "cells": [
  {
   "cell_type": "code",
   "execution_count": 217,
   "metadata": {},
   "outputs": [
    {
     "data": {
      "text/plain": [
       "'    \\n    Indicador: Rendimientos del Equipo de Reconocimiento para pago\\n'"
      ]
     },
     "execution_count": 217,
     "metadata": {},
     "output_type": "execute_result"
    }
   ],
   "source": [
    "\"\"\"    \n",
    "    Indicador: Rendimientos del Equipo de Reconocimiento para pago\n",
    "\"\"\""
   ]
  },
  {
   "cell_type": "markdown",
   "metadata": {},
   "source": [
    "<h3>Importación Librerías</h3>"
   ]
  },
  {
   "cell_type": "code",
   "execution_count": 218,
   "metadata": {},
   "outputs": [],
   "source": [
    "import pandas as pd\n",
    "import os\n",
    "import seaborn as sns\n",
    "\n",
    "os.environ[\"CRYPTOGRAPHY_OPENSSL_NO_LEGACY\"] = \"yes\"\n",
    "\n",
    "# ? Se usa para generar gráficos\n",
    "import matplotlib.pyplot as plt\n",
    "\n",
    "# ? Se usa para determina la fecha de ejecución del proceso dentro del export de los resultados estadísticos\n",
    "from datetime import datetime\n",
    "\n",
    "# ? Conexión a BD Postgres. Se usa dado que pandas no acepta sino este paquete para la conexión.\n",
    "from sqlalchemy import create_engine, text\n",
    "\n",
    "from datetime import datetime\n",
    "\n",
    "from arcgis.features import GeoAccessor, GeoSeriesAccessor\n",
    "import arcpy\n",
    "\n",
    "from pathlib import Path\n",
    "\n",
    "# ** Librerías propias\n",
    "import funcion_dataframe_terrenos\n",
    "import funcion_SQL_a_DataFrame"
   ]
  },
  {
   "cell_type": "markdown",
   "metadata": {},
   "source": [
    "<h3>Parametrización de Variables</h3>"
   ]
  },
  {
   "cell_type": "code",
   "execution_count": 219,
   "metadata": {},
   "outputs": [],
   "source": [
    "consulta_tRendimientosActualizacion = \"\"\"\n",
    "    select t2.radicado \n",
    "        ,t2.usuario_responsable_actividad_anterior\n",
    "        ,t2.actividad_actual_tramite\n",
    "        ,t2.usuario_actual_responsable_tramite\n",
    "        ,t2.con_plano_cartografico\n",
    "        ,t2.usuario_inserta_plano\n",
    "        ,t2.npn\n",
    "        ,t2.municipio\n",
    "        ,(case when t2.actividad_actual_tramite in ('Consolidando información'\n",
    "                                                    ,'Incorporando predios a la versión'\n",
    "                                                    ,'Realizando visita de campo'\n",
    "                                                    ,'Revisando Información Reconocimiento  Inicial'\n",
    "                                                    ,'Revisando Información') then 'Reconocimiento'\n",
    "            when t2.actividad_actual_tramite in ('Realizando Análisis Catastro Registro') then 'Jurídica'\n",
    "            when t2.actividad_actual_tramite in ('Preparando Edición Geográfica') then 'SIG'\n",
    "            else 'Sin parametrización'\n",
    "            end) componente_responsable\n",
    "        ,(case when actividad_actual_tramite in ('Consolidando información'\n",
    "                                                ,'Incorporando predios a la versión'\n",
    "                                                ,'Realizando visita de campo'\n",
    "                                                ,'Revisando Información Reconocimiento  Inicial'\n",
    "                                                ,'Realizando Análisis Catastro Registro'\n",
    "                                                ,'Preparando Edición Geográfica') then 'Fase Previa a la Transacción Catastral'\n",
    "                when actividad_actual_tramite in ('Revisando Información') then 'En Transacción Catastral o Posterior'\n",
    "            else 'Sin parametrización'\n",
    "            end) fase_actividad\n",
    "            \n",
    "    from\n",
    "    (\n",
    "    select t1.radicado\n",
    "    ,t1.user_fn_activiad_ant usuario_responsable_actividad_anterior\n",
    "    ,t1.actividad actividad_actual_tramite\n",
    "    ,t1.user_actividad_act usuario_actual_responsable_tramite\n",
    "    ,t1.plano_cartografico con_plano_cartografico\n",
    "    ,t1.user_inserta_plano usuario_inserta_plano\n",
    "    ,t1.npn \n",
    "    ,t1.municipio \n",
    "    from bpmcat.vw_trmactivos_rad_npn_plano t1\n",
    "    where nom_tramite = 'Formación y Actualización'\n",
    "    ) t2;\n",
    "\"\"\"\n",
    "\n",
    "orden_columnas_indicador_2 = ['Incorporando predios a la versión'\n",
    "    ,'Realizando visita de campo'\n",
    "    ,'Consolidando información'\n",
    "    ,'Revisando Información Reconocimiento  Inicial'\n",
    "]\n",
    "\n",
    "columnas_croquis = ['municipio'\n",
    "                    ,'radicado'\n",
    "                    ,'componente_responsable'\n",
    "                    ,'npn'\n",
    "                    ,'usuario_actual_responsable_tramite']\n",
    "\n",
    "dict_coordinador_reconocedor = {'abel.maldonado':'Coordinador',\n",
    "                                'angel.banquez':'Reconocedor',\n",
    "                                'celci.quintana':'Reconocedor',\n",
    "                                'emilio.castillo':'Reconocedor',\n",
    "                                'fabian.arango':'Reconocedor',\n",
    "                                'fabio.barragan':'Reconocedor',\n",
    "                                'german.panizza':'Reconocedor',\n",
    "                                'harlingto.padilla':'Reconocedor',\n",
    "                                'hernando.sarmiento':'Reconocedor',\n",
    "                                'jacqueline.jimenez':'Coordinador',\n",
    "                                'jarod.macareno':'Reconocedor',\n",
    "                                'karen.escobar':'Reconocedor',\n",
    "                                'luis.jimenez':'Reconocedor',\n",
    "                                'mary.conquett':'Reconocedor',\n",
    "                                'ricardo.guerrero':'Reconocedor',\n",
    "                                'samith.saenz':'Reconocedor',\n",
    "                                'william.perez':'Reconocedor',\n",
    "                                'yesmy.batista':'Coordinador',\n",
    "                                'andres.ramos':'Editor SIG',\n",
    "                                'melany.delahoz':'Jurídico',\n",
    "                                'kevin.castro':'Coordinador',\n",
    "                                'stefany.dominguez':'Reconocedor',\n",
    "                                'rafael.molina':'Reconocedor',\n",
    "                                'jorge.hernandez':'Reconocedor',\n",
    "                                'alvaro.donado':'Reconocedor',\n",
    "                                'yeinez.cortes':'Reconocedor',\n",
    "                                'pedro.garcia':'Reconocedor',\n",
    "                                'nadith.miranda':'Reconocedor',\n",
    "                                'juan.herreraa':'Sin información',\n",
    "                                'maria.hernandez':'Reconocedor',\n",
    "                                'sandra.acosta':'Sin información',\n",
    "                                'julie.castano':'Jurídico',\n",
    "                                'francisco.galarcio':'Reconocedor',\n",
    "                                'monica.penuela':'Reconocedor',\n",
    "                                'luis.jimenez':'Reconocedor',\n",
    "                                'harlingto.padilla':'Reconocedor',\n",
    "                                'euclides.polo':'Reconocedor',\n",
    "                                'william.perez':'Reconocedor',}\n",
    "\n",
    "dict_renombrado_columnas = {'radicado_y':'radicado',\n",
    "                            'municipio_y':'municipio',\n",
    "                            'usuario_responsable_actividad_anterior_y':'usuario_responsable_actividad_anterior',\n",
    "                            'rol_anterior_responsable_actividad_y':'rol_anterior_responsable_actividad'\n",
    "                            }\n",
    "\n",
    "patron_busqueda = 'ransacci'\n",
    "\n",
    "fecha_actual = datetime.now()\n",
    "fecha_directorio = str(fecha_actual.strftime(\"%Y%m%d\"))\n",
    "\n",
    "DIRECTORIO_SALIDA_XLSX = r\"C:\\docsProyectos\\5.RAISS\\2024.0.RAISS_Lote_4\\6.Hitos\\E2_Informes_Id_FisicoJuridica\\2_2_2_Rendimientos_Reconocimiento\"\n",
    "NOMBRE_XLSX = str(fecha_directorio) + \"_RendimientoEquipoReconocimiento_BCGS.xlsx\"\n",
    "RUTA_SALIDA_XLSX = os.path.join(DIRECTORIO_SALIDA_XLSX, NOMBRE_XLSX)\n",
    "\n",
    "DIRECTORIO_EXCEL_BASE = r\"C:\\docsProyectos\\5.RAISS\\2024.0.RAISS_Lote_4\\6.Hitos\\E2_Informes_Id_FisicoJuridica\\zInsumos\"\n",
    "NOMBRE_EXCEL_BASE = 'base_npn_analisis_seguimiento.xlsx'\n",
    "RUTA_EXCEL_BASE = os.path.join(DIRECTORIO_EXCEL_BASE, NOMBRE_EXCEL_BASE)"
   ]
  },
  {
   "cell_type": "markdown",
   "metadata": {},
   "source": [
    "<h3>Ejecución de Funciones</h3>"
   ]
  },
  {
   "cell_type": "code",
   "execution_count": 220,
   "metadata": {},
   "outputs": [
    {
     "name": "stdout",
     "output_type": "stream",
     "text": [
      "Inicio de la conexión\n",
      "Conexión exitosa ...\n"
     ]
    }
   ],
   "source": [
    "df_consulta_rendimientosActualizacion = funcion_SQL_a_DataFrame.sql_a_dataframe(consulta_tRendimientosActualizacion)"
   ]
  },
  {
   "cell_type": "markdown",
   "metadata": {},
   "source": [
    "<h3>Incorporación de Rol</h3>"
   ]
  },
  {
   "cell_type": "code",
   "execution_count": 221,
   "metadata": {},
   "outputs": [],
   "source": [
    "df_consulta_rendimientosActualizacion['rol_actual_responsable_tramite'] = None\n",
    "df_consulta_rendimientosActualizacion['rol_anterior_responsable_actividad'] = None\n",
    "for llave, valor in dict_coordinador_reconocedor.items():\n",
    "    df_consulta_rendimientosActualizacion.loc[df_consulta_rendimientosActualizacion['usuario_actual_responsable_tramite']==llave, 'rol_actual_responsable_tramite'] = valor\n",
    "    df_consulta_rendimientosActualizacion.loc[df_consulta_rendimientosActualizacion['usuario_responsable_actividad_anterior']==llave, 'rol_anterior_responsable_actividad'] = valor"
   ]
  },
  {
   "cell_type": "markdown",
   "metadata": {},
   "source": [
    "<h3>1. Análisis Rendimientos sobre Reconocimiento</h3>\n",
    "<ol>\n",
    "    <li> Indicador 1: Total de Predios por Fase de Actividad y Reconocedor (Eliminar)\n",
    "    <li> Indicador 2: Total de predios, fase previa a Transacción, por usuario\n",
    "    <li> Indicador 3: Total de predios, fase Transacción o posterior, por usuario\n",
    "    <li> Indicador 4: Total de predios, que fueron liberados por reconocimiento previo análisis SIG\n",
    "</ol>"
   ]
  },
  {
   "cell_type": "code",
   "execution_count": 222,
   "metadata": {},
   "outputs": [],
   "source": [
    "\n",
    "# # ? Indicador 1\n",
    "# df_rendActua_ERecono = df_consulta_rendimientosActualizacion[df_consulta_rendimientosActualizacion['componente_responsable']=='Reconocimiento']\n",
    "# df_rendActua_ERecono_indicador_1 = pd.DataFrame(df_rendActua_ERecono.groupby(['municipio','fase_actividad','rol_actual_responsable_tramite'])['usuario_actual_responsable_tramite'].value_counts()).reset_index().rename(columns={'count':'total_predios'})\n",
    "# df_rendActua_ERecono_indicador_1['rol_usuario'] = df_rendActua_ERecono_indicador_1['rol_actual_responsable_tramite'] + ' - ' + df_rendActua_ERecono_indicador_1['usuario_actual_responsable_tramite']\n",
    "# print(f\"Indicador 1: \\n {df_rendActua_ERecono_indicador_1}\")\n",
    "\n",
    "# ? Indicador 2\n",
    "df_rendActua_ERecono_FasePrevia = df_consulta_rendimientosActualizacion[(df_consulta_rendimientosActualizacion['componente_responsable']=='Reconocimiento') & (df_consulta_rendimientosActualizacion['fase_actividad']=='Fase Previa a la Transacción Catastral')]\n",
    "\n",
    "# TODO: Se crea diccionario para ordenar columnas de acuerdo a flujo de trabajo de Actualización\n",
    "dict_orden_columnas_ind_2 = {valor: index for index, valor in enumerate(orden_columnas_indicador_2)}\n",
    "\n",
    "df_rendActua_ERecono_indicador_2 = pd.DataFrame(df_rendActua_ERecono_FasePrevia.groupby(['municipio','actividad_actual_tramite','rol_actual_responsable_tramite'])['usuario_actual_responsable_tramite'].value_counts()).reset_index().rename(columns={'count':'total_predios'})\n",
    "\n",
    "# TODO: Ordenar el DataFrame usando el diccionario de mapeo\n",
    "df_rendActua_ERecono_indicador_2['actividad_ordenada_s_flujo'] = df_rendActua_ERecono_indicador_2['actividad_actual_tramite'].map(dict_orden_columnas_ind_2)\n",
    "df_rendActua_ERecono_indicador_2_Ordenado = df_rendActua_ERecono_indicador_2.sort_values(by='actividad_ordenada_s_flujo').drop(columns='actividad_ordenada_s_flujo')\n",
    "\n",
    "# ** Filtro Municipio\n",
    "# ! María La Baja\n",
    "df_rendActua_ERecono_indicador_2_Ordenado_Maria = df_rendActua_ERecono_indicador_2_Ordenado[df_rendActua_ERecono_indicador_2_Ordenado['municipio']=='MARÍA LA BAJA']\n",
    "df_rendActua_ERecono_indicador_2_Ordenado_Repelon = df_rendActua_ERecono_indicador_2_Ordenado[df_rendActua_ERecono_indicador_2_Ordenado['municipio']=='REPELÓN']\n",
    "\n",
    "# ! Copia\n",
    "df_rendActua_ERecono_indicador_2_Ordenado_Maria = df_rendActua_ERecono_indicador_2_Ordenado_Maria.copy()\n",
    "df_rendActua_ERecono_indicador_2_Ordenado_Repelon = df_rendActua_ERecono_indicador_2_Ordenado_Repelon.copy()\n",
    "\n",
    "# ! Unificacion Campos\n",
    "df_rendActua_ERecono_indicador_2_Ordenado_Maria['rol_usuario'] = df_rendActua_ERecono_indicador_2_Ordenado_Maria['rol_actual_responsable_tramite'] + ' - ' + df_rendActua_ERecono_indicador_2_Ordenado_Maria['usuario_actual_responsable_tramite']\n",
    "df_rendActua_ERecono_indicador_2_Ordenado_Repelon['rol_usuario'] = df_rendActua_ERecono_indicador_2_Ordenado_Repelon['rol_actual_responsable_tramite'] + ' - ' + df_rendActua_ERecono_indicador_2_Ordenado_Repelon['usuario_actual_responsable_tramite']\n",
    "\n",
    "# ! Pivote\n",
    "df_rendActua_ERecono_indicador_2_Ordenado_Maria_pivote = df_rendActua_ERecono_indicador_2_Ordenado_Maria.pivot(index='rol_usuario', columns='actividad_actual_tramite', values='total_predios')\n",
    "df_rendActua_ERecono_indicador_2_Ordenado_Repelon_pivote = df_rendActua_ERecono_indicador_2_Ordenado_Repelon.pivot(index='rol_usuario', columns='actividad_actual_tramite', values='total_predios')\n",
    "\n",
    "# ! Eliminación de nulos\n",
    "for columna in df_rendActua_ERecono_indicador_2_Ordenado_Maria_pivote.columns:\n",
    "    df_rendActua_ERecono_indicador_2_Ordenado_Maria_pivote.loc[df_rendActua_ERecono_indicador_2_Ordenado_Maria_pivote[columna].isnull(), columna] = 0\n",
    "    df_rendActua_ERecono_indicador_2_Ordenado_Maria_pivote[columna] = df_rendActua_ERecono_indicador_2_Ordenado_Maria_pivote[columna].astype(int)\n",
    "\n",
    "for columna in df_rendActua_ERecono_indicador_2_Ordenado_Repelon_pivote.columns:\n",
    "    df_rendActua_ERecono_indicador_2_Ordenado_Repelon_pivote.loc[df_rendActua_ERecono_indicador_2_Ordenado_Repelon_pivote[columna].isnull(), columna] = 0\n",
    "    df_rendActua_ERecono_indicador_2_Ordenado_Repelon_pivote[columna] = df_rendActua_ERecono_indicador_2_Ordenado_Repelon_pivote[columna].astype(int)\n",
    "\n",
    "# ! Reseteo\n",
    "\n",
    "df_rendActua_ERecono_indicador_2_Ordenado_Maria_pivote = df_rendActua_ERecono_indicador_2_Ordenado_Maria_pivote.reset_index()\n",
    "df_rendActua_ERecono_indicador_2_Ordenado_Repelon_pivote = df_rendActua_ERecono_indicador_2_Ordenado_Repelon_pivote.reset_index()\n",
    "\n",
    "# # ? Indicador 3\n",
    "# df_rendActua_ERecono_FaseTransaccionOPost = df_consulta_rendimientosActualizacion[(df_consulta_rendimientosActualizacion['componente_responsable']=='Reconocimiento') & \n",
    "#                                                                                   (df_consulta_rendimientosActualizacion['fase_actividad']=='En Transacción Catastral o Posterior')]\n",
    "\n",
    "# df_rendActua_ERecono_indicador_3 = pd.DataFrame(df_rendActua_ERecono_FaseTransaccionOPost.groupby(['municipio','actividad_actual_tramite','rol_actual_responsable_tramite'])['usuario_responsable_actividad_anterior'].value_counts()).reset_index().rename(columns={'count':'total_predios'})\n",
    "# print(f\"Indicador 3 \\n {df_rendActua_ERecono_indicador_3}\")"
   ]
  },
  {
   "cell_type": "markdown",
   "metadata": {},
   "source": [
    "<h3>1. Análisis Rendimientos sobre Reconocimiento</h3>\n",
    "<ol>\n",
    "    <li> Indicador 4: Total de predios, que fueron liberados por reconocimiento previo análisis SIG\n",
    "</ol>"
   ]
  },
  {
   "cell_type": "code",
   "execution_count": 223,
   "metadata": {},
   "outputs": [
    {
     "name": "stdout",
     "output_type": "stream",
     "text": [
      "Total de registros en archivo base: \n",
      " 677\n",
      "Total de registros seguimiento diario: \n",
      " 677\n",
      "Empty DataFrame\n",
      "Columns: [radicado_x, municipio_x, rol_anterior_responsable_actividad_x, usuario_responsable_actividad_anterior_x, npn, fecha_registro, radicado_y, municipio_y, rol_anterior_responsable_actividad_y, usuario_responsable_actividad_anterior_y]\n",
      "Index: [] con 0 nuevos registros\n",
      "El archivo base no reporta nuevos predios en Edición Geográfica\n"
     ]
    }
   ],
   "source": [
    "\n",
    "# ? Indicador 4\n",
    "# TODO: Creación archivo base\n",
    "# df_PrediosPreparandoEdicionGeo = df_consulta_rendimientosActualizacion[(df_consulta_rendimientosActualizacion['actividad_actual_tramite'] == 'Preparando Edición Geográfica') |\n",
    "#                                                                        (df_consulta_rendimientosActualizacion['actividad_actual_tramite'].str.contains(patron_busqueda))]\n",
    "# df_PrediosPreparandoEdicionGeo_Base = df_PrediosPreparandoEdicionGeo[['radicado', 'municipio', 'rol_anterior_responsable_actividad', 'usuario_responsable_actividad_anterior', 'npn']]\n",
    "# df_PrediosPreparandoEdicionGeo_Base = df_PrediosPreparandoEdicionGeo_Base.copy()\n",
    "# df_PrediosPreparandoEdicionGeo_Base['fecha_registro'] = fecha_directorio\n",
    "# df_PrediosPreparandoEdicionGeo_Base.to_excel(RUTA_EXCEL_BASE)\n",
    "\n",
    "# TODO: Actualización del Archivo Base, partiendo del reporte XLSX creado el 17 de Junio, 2024\n",
    "df_lectura_xlsx_base = pd.read_excel(RUTA_EXCEL_BASE)\n",
    "df_lectura_xlsx_base = df_lectura_xlsx_base[['radicado','municipio','rol_anterior_responsable_actividad','usuario_responsable_actividad_anterior','npn','fecha_registro']]\n",
    "print(f\"Total de registros en archivo base: \\n {df_lectura_xlsx_base.shape[0]}\")\n",
    "\n",
    "#! Edicióm Cartográfica\n",
    "df_PrediosPreparandoEdicionGeo_Seguimiento = df_consulta_rendimientosActualizacion[(df_consulta_rendimientosActualizacion['actividad_actual_tramite'] == 'Preparando Edición Geográfica') |\n",
    "                                                                                   (df_consulta_rendimientosActualizacion['actividad_actual_tramite'].str.contains(patron_busqueda))]\n",
    "print(f\"Total de registros seguimiento diario: \\n {df_PrediosPreparandoEdicionGeo_Seguimiento.shape[0]}\")\n",
    "\n",
    "df_PrediosPreparandoEdicionGeo_Seguimiento = df_PrediosPreparandoEdicionGeo_Seguimiento[['radicado', 'municipio', 'rol_anterior_responsable_actividad', 'usuario_responsable_actividad_anterior', 'npn']]\n",
    "df_cambios_base_seguimiento = pd.merge(df_lectura_xlsx_base, df_PrediosPreparandoEdicionGeo_Seguimiento, how = \"right\", on = \"npn\")\n",
    "df_cambios_base_seguimiento_nuevos = df_cambios_base_seguimiento[df_cambios_base_seguimiento['radicado_x'].isnull()]\n",
    "print(f\"{df_cambios_base_seguimiento_nuevos} con {df_cambios_base_seguimiento_nuevos.shape[0]} nuevos registros\")\n",
    "if df_cambios_base_seguimiento_nuevos.shape[0] > 0:\n",
    "    df_cambios_base_seguimiento_nuevos = df_cambios_base_seguimiento_nuevos[['radicado_y','municipio_y', 'rol_anterior_responsable_actividad_y', 'usuario_responsable_actividad_anterior_y','npn']]\n",
    "    df_cambios_base_seguimiento_nuevos = df_cambios_base_seguimiento_nuevos.rename(columns=dict_renombrado_columnas)\n",
    "    df_cambios_base_seguimiento_nuevos['fecha_registro'] = fecha_directorio\n",
    "    df_cambios_base_seguimiento_unificacion = pd.concat([df_lectura_xlsx_base, df_cambios_base_seguimiento_nuevos])\n",
    "    df_cambios_base_seguimiento_unificacion.to_excel(RUTA_EXCEL_BASE)\n",
    "else:\n",
    "    print(f\"El archivo base no reporta nuevos predios en Edición Geográfica\")"
   ]
  },
  {
   "cell_type": "code",
   "execution_count": 224,
   "metadata": {},
   "outputs": [
    {
     "data": {
      "text/html": [
       "<div>\n",
       "<style scoped>\n",
       "    .dataframe tbody tr th:only-of-type {\n",
       "        vertical-align: middle;\n",
       "    }\n",
       "\n",
       "    .dataframe tbody tr th {\n",
       "        vertical-align: top;\n",
       "    }\n",
       "\n",
       "    .dataframe thead th {\n",
       "        text-align: right;\n",
       "    }\n",
       "</style>\n",
       "<table border=\"1\" class=\"dataframe\">\n",
       "  <thead>\n",
       "    <tr style=\"text-align: right;\">\n",
       "      <th>fecha_registro</th>\n",
       "      <th>rol_usuario</th>\n",
       "      <th>20240617</th>\n",
       "    </tr>\n",
       "  </thead>\n",
       "  <tbody>\n",
       "    <tr>\n",
       "      <th>0</th>\n",
       "      <td>Reconocedor - angel.banquez</td>\n",
       "      <td>76</td>\n",
       "    </tr>\n",
       "    <tr>\n",
       "      <th>1</th>\n",
       "      <td>Reconocedor - emilio.castillo</td>\n",
       "      <td>44</td>\n",
       "    </tr>\n",
       "    <tr>\n",
       "      <th>2</th>\n",
       "      <td>Reconocedor - hernando.sarmiento</td>\n",
       "      <td>11</td>\n",
       "    </tr>\n",
       "    <tr>\n",
       "      <th>3</th>\n",
       "      <td>Reconocedor - maria.hernandez</td>\n",
       "      <td>55</td>\n",
       "    </tr>\n",
       "    <tr>\n",
       "      <th>4</th>\n",
       "      <td>Reconocedor - mary.conquett</td>\n",
       "      <td>121</td>\n",
       "    </tr>\n",
       "    <tr>\n",
       "      <th>5</th>\n",
       "      <td>Reconocedor - nadith.miranda</td>\n",
       "      <td>65</td>\n",
       "    </tr>\n",
       "    <tr>\n",
       "      <th>6</th>\n",
       "      <td>Reconocedor - rafael.molina</td>\n",
       "      <td>244</td>\n",
       "    </tr>\n",
       "    <tr>\n",
       "      <th>7</th>\n",
       "      <td>Sin información - sandra.acosta</td>\n",
       "      <td>61</td>\n",
       "    </tr>\n",
       "  </tbody>\n",
       "</table>\n",
       "</div>"
      ],
      "text/plain": [
       "fecha_registro                       rol_usuario  20240617\n",
       "0                    Reconocedor - angel.banquez        76\n",
       "1                  Reconocedor - emilio.castillo        44\n",
       "2               Reconocedor - hernando.sarmiento        11\n",
       "3                  Reconocedor - maria.hernandez        55\n",
       "4                    Reconocedor - mary.conquett       121\n",
       "5                   Reconocedor - nadith.miranda        65\n",
       "6                    Reconocedor - rafael.molina       244\n",
       "7                Sin información - sandra.acosta        61"
      ]
     },
     "execution_count": 224,
     "metadata": {},
     "output_type": "execute_result"
    }
   ],
   "source": [
    "df_lectura_xlsx_base['rol_usuario'] = df_lectura_xlsx_base['rol_anterior_responsable_actividad'] + ' - ' + df_lectura_xlsx_base['usuario_responsable_actividad_anterior']\n",
    "df_indicador_4 = pd.DataFrame(df_lectura_xlsx_base.groupby(['municipio','rol_usuario'])['fecha_registro'].value_counts()).reset_index().rename(columns={'count':'total_predios'})\n",
    "\n",
    "df_indicador_4_maria = df_indicador_4[df_indicador_4['municipio'] == 'MARÍA LA BAJA']\n",
    "df_indicador_4_maria_std = df_indicador_4_maria[['rol_usuario','fecha_registro','total_predios']]\n",
    "df_indicador_4_maria_std_pivote = df_indicador_4_maria_std.pivot(index=\"rol_usuario\", columns=\"fecha_registro\", values=\"total_predios\").reset_index()\n",
    "df_indicador_4_maria_std_pivote\n"
   ]
  },
  {
   "cell_type": "markdown",
   "metadata": {},
   "source": [
    "<h3>Indicadores 1, 2 y 3 para Tabla XLSX<h3>"
   ]
  },
  {
   "cell_type": "code",
   "execution_count": 225,
   "metadata": {},
   "outputs": [],
   "source": [
    "\n",
    "# # ? Indicador 1\n",
    "\n",
    "# df_rendActua_ERecono_indicador_1_pivote = df_rendActua_ERecono_indicador_1.pivot(index='rol_usuario', columns='fase_actividad', values='total_predios')\n",
    "\n",
    "# for columna in df_rendActua_ERecono_indicador_1_pivote.columns:\n",
    "#     df_rendActua_ERecono_indicador_1_pivote.loc[df_rendActua_ERecono_indicador_1_pivote[columna].isnull(), columna] = 0\n",
    "#     df_rendActua_ERecono_indicador_1_pivote[columna] = df_rendActua_ERecono_indicador_1_pivote[columna].astype(int)\n",
    "\n",
    "# df_rendActua_ERecono_indicador_1_pivote = pd.DataFrame(df_rendActua_ERecono_indicador_1_pivote).reset_index()\n",
    "# df_rendActua_ERecono_indicador_1_pivote\n",
    "\n",
    "\n",
    "# # ? Indicador 3\n",
    "# df_rendActua_ERecono_indicador_3_pivote = df_rendActua_ERecono_indicador_3.pivot(index='usuario_responsable_actividad_anterior', columns='actividad_actual_tramite', values='total_predios')\n",
    "\n",
    "# for columna in df_rendActua_ERecono_indicador_3_pivote.columns:\n",
    "#     df_rendActua_ERecono_indicador_3_pivote.loc[df_rendActua_ERecono_indicador_3_pivote[columna].isnull(), columna] = 0\n",
    "#     df_rendActua_ERecono_indicador_3_pivote[columna] = df_rendActua_ERecono_indicador_3_pivote[columna].astype(int)\n",
    "\n",
    "# df_rendActua_ERecono_indicador_3_pivote = pd.DataFrame(df_rendActua_ERecono_indicador_3_pivote).reset_index()\n"
   ]
  },
  {
   "cell_type": "markdown",
   "metadata": {},
   "source": [
    "<h3>Reporte Croquis Vs NPN</h3>"
   ]
  },
  {
   "cell_type": "code",
   "execution_count": 226,
   "metadata": {},
   "outputs": [],
   "source": [
    "df_npn_croquis = df_consulta_rendimientosActualizacion[df_consulta_rendimientosActualizacion['con_plano_cartografico']=='Si']\n",
    "df_npn_croquis_estandarizado = df_npn_croquis[columnas_croquis]"
   ]
  },
  {
   "cell_type": "markdown",
   "metadata": {},
   "source": [
    "<h3>Reporte NPN por Radicado</h3>"
   ]
  },
  {
   "cell_type": "code",
   "execution_count": 227,
   "metadata": {},
   "outputs": [],
   "source": [
    "df_radicado_npn = df_consulta_rendimientosActualizacion[['municipio','componente_responsable','radicado','npn', 'actividad_actual_tramite','usuario_actual_responsable_tramite','con_plano_cartografico']]\n"
   ]
  },
  {
   "cell_type": "markdown",
   "metadata": {},
   "source": [
    "<h3>Generación XLSX</h3>"
   ]
  },
  {
   "cell_type": "code",
   "execution_count": 228,
   "metadata": {},
   "outputs": [
    {
     "name": "stdout",
     "output_type": "stream",
     "text": [
      "Se exporta XLSX 20240617_RendimientoEquipoReconocimiento_BCGS.xlsx, en la ruta C:\\docsProyectos\\5.RAISS\\2024.0.RAISS_Lote_4\\6.Hitos\\E2_Informes_Id_FisicoJuridica\\2_2_2_Rendimientos_Reconocimiento\n"
     ]
    }
   ],
   "source": [
    "\n",
    "# ** Usar ExcelWriter para guardar múltiples dataframes en diferentes hojas\n",
    "with pd.ExcelWriter(RUTA_SALIDA_XLSX, engine='xlsxwriter') as writer:\n",
    "    # df_rendActua_ERecono_indicador_1_pivote.to_excel(writer, sheet_name='Indicador_1', index=False)\n",
    "    df_rendActua_ERecono_indicador_2_Ordenado_Maria_pivote.to_excel(writer, sheet_name='Ind_2_Maria', index=False)\n",
    "    df_rendActua_ERecono_indicador_2_Ordenado_Repelon_pivote.to_excel(writer, sheet_name='Ind_2_Repelon', index=False)\n",
    "    # df_rendActua_ERecono_indicador_3_pivote.to_excel(writer, sheet_name='Indicador_3', index=False)\n",
    "    df_indicador_4_maria_std_pivote.to_excel(writer, sheet_name='Indicador_4_MariaLaBaja', index=False)\n",
    "    df_radicado_npn.to_excel(writer, sheet_name='Radicado_X_NPN', index=False)\n",
    "    df_npn_croquis_estandarizado.to_excel(writer, sheet_name='Reporte_NPN_Croquis', index=False)\n",
    "\n",
    "print(f\"Se exporta XLSX {NOMBRE_XLSX}, en la ruta {DIRECTORIO_SALIDA_XLSX}\")\n"
   ]
  }
 ],
 "metadata": {
  "kernelspec": {
   "display_name": "Python 3",
   "language": "python",
   "name": "python3"
  },
  "language_info": {
   "codemirror_mode": {
    "name": "ipython",
    "version": 3
   },
   "file_extension": ".py",
   "mimetype": "text/x-python",
   "name": "python",
   "nbconvert_exporter": "python",
   "pygments_lexer": "ipython3",
   "version": "3.11.8"
  }
 },
 "nbformat": 4,
 "nbformat_minor": 2
}
