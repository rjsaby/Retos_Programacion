{
 "cells": [
  {
   "cell_type": "code",
   "execution_count": 1,
   "metadata": {
    "execution": {
     "iopub.execute_input": "2024-09-05T13:20:17.027680Z",
     "iopub.status.busy": "2024-09-05T13:20:17.027680Z",
     "iopub.status.idle": "2024-09-05T13:20:38.462470Z",
     "shell.execute_reply": "2024-09-05T13:20:38.462470Z"
    }
   },
   "outputs": [],
   "source": [
    "import pandas as pd\n",
    "import os\n",
    "import seaborn as sns\n",
    "\n",
    "os.environ[\"CRYPTOGRAPHY_OPENSSL_NO_LEGACY\"] = \"yes\"\n",
    "\n",
    "# ? Se usa para generar gráficos\n",
    "import matplotlib.pyplot as plt\n",
    "\n",
    "# ? Se usa para determina la fecha de ejecución del proceso dentro del export de los resultados estadísticos\n",
    "from datetime import datetime\n",
    "\n",
    "# ? Conexión a BD Postgres. Se usa dado que pandas no acepta sino este paquete para la conexión.\n",
    "from sqlalchemy import create_engine, text\n",
    "\n",
    "from datetime import datetime\n",
    "\n",
    "from arcgis.features import GeoAccessor, GeoSeriesAccessor\n",
    "import arcpy\n",
    "\n",
    "from pathlib import Path\n",
    "\n",
    "# ** Librerías propias\n",
    "import funcion_relacion_terrenos_w_ui\n",
    "import funcion_dataframe_terrenos"
   ]
  },
  {
   "cell_type": "markdown",
   "metadata": {},
   "source": [
    "<h3>Ejecución de Funciones</h3>\n",
    "\n",
    "Funciones que relacionan:\n",
    "\n",
    "<ol>\n",
    "<li> Terrenos Gestor con Terrenos SIG = Terrenos w GIS\n",
    "<li> Terrenos w GIS con Terrenos Reconocimiento (PENDIENTE)\n",
    "</ol>"
   ]
  },
  {
   "cell_type": "code",
   "execution_count": 2,
   "metadata": {
    "execution": {
     "iopub.execute_input": "2024-09-05T13:20:38.465477Z",
     "iopub.status.busy": "2024-09-05T13:20:38.465477Z",
     "iopub.status.idle": "2024-09-05T13:42:19.564487Z",
     "shell.execute_reply": "2024-09-05T13:42:19.564487Z"
    }
   },
   "outputs": [
    {
     "name": "stdout",
     "output_type": "stream",
     "text": [
      "De la capa original de Terrenos con 40022 registros se elimanan repetidos, obteniendose 39739\n",
      "39743\n",
      "34658\n",
      "Se crea la capa TERRENO_UNIFICADO_w_GIS en BD \n",
      " C:\\docsProyectos\\5.RAISS\\2024.0.RAISS_Lote_4\\6.Hitos\\E1_Alistamiento_Diagnostico\\3_Disposicion\\1.BD_Consolidada\\BD_Consolidada_Lote4.gdb\\Analitica_UT_Consolidada\n",
      "Se actualiza el campo de hectareaje\n",
      "Capa bcgs_geo.m442.r_lc_terreno exportada correctamente a C:\\docsProyectos\\5.RAISS\\2024.0.RAISS_Lote_4\\6.Hitos\\E2_Informes_Id_FisicoJuridica\\2_2_10_TerrenosBCGS\\2_2_10_TerrenosBCGS.gdb\\bcgs_geo_m442_r_lc_terreno\n",
      "Capa bcgs_geo.m442.u_lc_terreno exportada correctamente a C:\\docsProyectos\\5.RAISS\\2024.0.RAISS_Lote_4\\6.Hitos\\E2_Informes_Id_FisicoJuridica\\2_2_10_TerrenosBCGS\\2_2_10_TerrenosBCGS.gdb\\bcgs_geo_m442_u_lc_terreno\n",
      "Capa bcgs_geo.m606.r_lc_terreno exportada correctamente a C:\\docsProyectos\\5.RAISS\\2024.0.RAISS_Lote_4\\6.Hitos\\E2_Informes_Id_FisicoJuridica\\2_2_10_TerrenosBCGS\\2_2_10_TerrenosBCGS.gdb\\bcgs_geo_m606_r_lc_terreno\n",
      "Capa bcgs_geo.m606.u_lc_terreno exportada correctamente a C:\\docsProyectos\\5.RAISS\\2024.0.RAISS_Lote_4\\6.Hitos\\E2_Informes_Id_FisicoJuridica\\2_2_10_TerrenosBCGS\\2_2_10_TerrenosBCGS.gdb\\bcgs_geo_m606_u_lc_terreno\n",
      "Se unifica bcgs_geo_m442_r_lc_terreno en -bcgs_lc_terreno-\n",
      "Se unifica bcgs_geo_m442_u_lc_terreno en -bcgs_lc_terreno-\n",
      "Se unifica bcgs_geo_m606_r_lc_terreno en -bcgs_lc_terreno-\n",
      "Se unifica bcgs_geo_m606_u_lc_terreno en -bcgs_lc_terreno-\n",
      "2\n",
      "3\n",
      "df_terrenos_no_bcgs, total registros 22649\n",
      "df_terreno_gis_bcgs, total registros 39761\n",
      "Se crea la capa TERRENO_UNIFICADO_GIS_BCGS en BD \n",
      " C:\\docsProyectos\\5.RAISS\\2024.0.RAISS_Lote_4\\6.Hitos\\E1_Alistamiento_Diagnostico\\3_Disposicion\\1.BD_Consolidada\\BD_Consolidada_Lote4.gdb\\Analitica_UT_Consolidada\n",
      "Se actualiza el campo de hectareaje\n",
      "Concluye el proceso\n",
      "Se ejecuta la función\n",
      "1. Se genera centroides de Terrenos, capa fcTerrenosCentroides, base de datos Terrenos_w_UI.gdb\n",
      "2. Se genera Join Terrenos Centroides W UI, capa capa_fccentroidesTerrenosWJoinUI, base de datos Terrenos_w_UI.gdb\n",
      "3. Se borran campos en Terrenos Centroides W UI, capa capa_fccentroidesTerrenosWJoinUI, base de datos Terrenos_w_UI.gdb\n",
      "4. Se genera Join Terrenos Centroides W Terrenos Originales, capa fcTerrenosUI, base de datos Terrenos_w_UI.gdb\n",
      "5. Se borran campos en Terrenos W UI, capa fcTerrenosUI, base de datos Terrenos_w_UI.gdb\n",
      "6.1. Se genera tabla relacion_terreno_ui que relaciona Terrenos con UI, base de datos Terrenos_w_UI.gdb\n",
      "6.2. Se genera tabla relacion_terreno_ui que relaciona Terrenos con UI, base de datos BD_Consolidada_Lote4.gdb\n",
      "FINALIZA PROCESO\n"
     ]
    },
    {
     "data": {
      "text/plain": [
       "'C:\\\\docsProyectos\\\\5.RAISS\\\\2024.0.RAISS_Lote_4\\\\6.Hitos\\\\E1_Alistamiento_Diagnostico\\\\3_Disposicion\\\\1.BD_Consolidada\\\\BD_Consolidada_Lote4.gdb\\\\relacion_terreno_ui'"
      ]
     },
     "execution_count": 2,
     "metadata": {},
     "output_type": "execute_result"
    }
   ],
   "source": [
    "\n",
    "arcpy.env.overwriteOutput = True\n",
    "\n",
    "# TODO: LLamado a Terrenos\n",
    "df_terrenos_unificados, ruta_terrenos_unificados = funcion_dataframe_terrenos.dataframe_terrenos()\n",
    "print(\"Se ejecuta la función\")\n",
    "\n",
    "# TODO: LLamado a UI\n",
    "arcpy.env.workspace = r\"C:\\docsProyectos\\5.RAISS\\2024.0.RAISS_Lote_4\\6.Hitos\\O_Apoyo_Construccion_UIntervencion\\UI_Finales\\UI_Finales.gdb\"\n",
    "nDataset = 'UI_Unificadas'\n",
    "fcUI = 'UI_Unificadas'\n",
    "\n",
    "for dataset in arcpy.ListDatasets(wild_card=nDataset):\n",
    "    for capa in arcpy.ListFeatureClasses(feature_dataset=dataset, wild_card=fcUI):\n",
    "        ruta_fcUI = os.path.join(arcpy.env.workspace,dataset,capa)\n",
    "\n",
    "# TODO: Almacenamiento de capas temporales\n",
    "ruta_bdScrach = r\"C:\\docsProyectos\\5.RAISS\\2024.0.RAISS_Lote_4\\6.Hitos\\E2_Informes_Id_FisicoJuridica\\2_2_0_Identificacion_Predial_Total_Ha_Actualizadas\\Base_Datos\\Terrenos_w_UI.gdb\"\n",
    "\n",
    "funcion_relacion_terrenos_w_ui.funcion_terreno_w_ui(ruta_terrenos_unificados, ruta_bdScrach, ruta_fcUI)"
   ]
  },
  {
   "cell_type": "markdown",
   "metadata": {},
   "source": [
    "<h3>Variables que alimentan la construcción de la capa Terrenos Final con la Capa de Hitos (y su relación creada anteriormente con las Geo UI)</h3>"
   ]
  },
  {
   "cell_type": "code",
   "execution_count": 3,
   "metadata": {
    "execution": {
     "iopub.execute_input": "2024-09-05T13:42:19.567501Z",
     "iopub.status.busy": "2024-09-05T13:42:19.566500Z",
     "iopub.status.idle": "2024-09-05T13:42:19.570462Z",
     "shell.execute_reply": "2024-09-05T13:42:19.570462Z"
    }
   },
   "outputs": [],
   "source": [
    "RUTA_TERRENOS_W_GIS_BCGS = r\"C:\\docsProyectos\\5.RAISS\\2024.0.RAISS_Lote_4\\6.Hitos\\E1_Alistamiento_Diagnostico\\3_Disposicion\\1.BD_Consolidada\\BD_Consolidada_Lote4.gdb\\Analitica_UT_Consolidada\\TERRENO_UNIFICADO_GIS_BCGS\"\n",
    "RUTA_RELACION_NPN_HITO  = r\"C:\\docsProyectos\\5.RAISS\\2024.0.RAISS_Lote_4\\6.Hitos\\E1_Alistamiento_Diagnostico\\3_Disposicion\\1.BD_Consolidada\\BD_Consolidada_Lote4.gdb\\relacion_terreno_ui\"\n",
    "\n",
    "RUTA_BDCONSOLIDADA = r\"C:\\docsProyectos\\5.RAISS\\2024.0.RAISS_Lote_4\\6.Hitos\\E1_Alistamiento_Diagnostico\\3_Disposicion\\1.BD_Consolidada\\BD_Consolidada_Lote4.gdb\\Analitica_UT_Consolidada\"\n",
    "NOMBRE_CAPA_TERRENO_X_HITO = 'TERRENO_POR_HITO'\n",
    "\n",
    "dict_municipios = {'13442':'MariaLaBaja',\n",
    "    '08078':'Baranoa',\n",
    "    '08606':'Repelon',\n",
    "    '08634':'Sabanagrande'}"
   ]
  },
  {
   "cell_type": "code",
   "execution_count": 4,
   "metadata": {
    "execution": {
     "iopub.execute_input": "2024-09-05T13:42:19.572473Z",
     "iopub.status.busy": "2024-09-05T13:42:19.572473Z",
     "iopub.status.idle": "2024-09-05T13:43:44.847376Z",
     "shell.execute_reply": "2024-09-05T13:43:44.847376Z"
    }
   },
   "outputs": [
    {
     "name": "stdout",
     "output_type": "stream",
     "text": [
      "Se genera la capa TERRENO_POR_HITO\n"
     ]
    }
   ],
   "source": [
    "df_terrenosWgis = pd.DataFrame.spatial.from_featureclass(RUTA_TERRENOS_W_GIS_BCGS)\n",
    "df_npnXhito = pd.DataFrame.spatial.from_table(RUTA_RELACION_NPN_HITO)\n",
    "df_ui = pd.DataFrame.spatial.from_featureclass(ruta_fcUI)\n",
    "\n",
    "# TODO: Aqui se relaciona la capa de Terrenos Final con la Relación NPN X Hito creada en fases anteriores del código\n",
    "df_terrenosgisXhito = pd.merge(left=df_terrenosWgis,\n",
    "    right=df_npnXhito,\n",
    "    on='codigo',\n",
    "    how='inner')\n",
    "\n",
    "df_terrenosgisXhito['nombre_municipio'] = None\n",
    "\n",
    "for llave, valor in dict_municipios.items():\n",
    "    for columna in df_terrenosgisXhito.columns:\n",
    "        if columna == 'codigo':\n",
    "            df_terrenosgisXhito.loc[df_terrenosgisXhito[columna].str[:5] == llave, 'nombre_municipio'] = valor\n",
    "\n",
    "estandarizacion_columnas = ['nombre_municipio','terreno_codigo','etiqueta','espacio_de_nombres','local_id','bcgs_creador','bcgs_ultima_edicion','bcgs_fecha_ultima_edicion','codigo','codigo_anterior','sig_creador','sig_ultima_edicion','sig_fecha_ultima_edicion','fuente','area_ha_cmt12','id_ui','SHAPE']\n",
    "df_terrenosgisXhito = df_terrenosgisXhito[estandarizacion_columnas]\n",
    "\n",
    "# TODO: Estandarización del datafre de las UI\n",
    "estandarizacion_ui = ['ID_UI','Nombre_UI','Meta_Hito']\n",
    "df_ui = df_ui[estandarizacion_ui]\n",
    "\n",
    "df_terrenoXhitoXmeta = pd.merge(left=df_terrenosgisXhito,\n",
    "    right=df_ui,\n",
    "    left_on='id_ui',\n",
    "    right_on='ID_UI',\n",
    "    how='inner')\n",
    "\n",
    "# TODO: Se estandariza la capa de Terrenos Final\n",
    "estandarizacion_columnas_meta = ['nombre_municipio','terreno_codigo','etiqueta','espacio_de_nombres','local_id','bcgs_creador','bcgs_ultima_edicion','bcgs_fecha_ultima_edicion','codigo','codigo_anterior','sig_creador','sig_ultima_edicion','sig_fecha_ultima_edicion','fuente','area_ha_cmt12','id_ui','Nombre_UI','Meta_Hito','SHAPE']\n",
    "df_terrenoXhitoXmeta = df_terrenoXhitoXmeta[estandarizacion_columnas_meta]\n",
    "\n",
    "# TODO: La capa definitiva se almacena en la BD Consolidada Local\n",
    "df_terrenoXhitoXmeta.spatial.to_featureclass(location=os.path.join(RUTA_BDCONSOLIDADA, NOMBRE_CAPA_TERRENO_X_HITO))\n",
    "print(f\"Se genera la capa {NOMBRE_CAPA_TERRENO_X_HITO}\")"
   ]
  }
 ],
 "metadata": {
  "kernelspec": {
   "display_name": "Python 3",
   "language": "python",
   "name": "python3"
  },
  "language_info": {
   "codemirror_mode": {
    "name": "ipython",
    "version": 3
   },
   "file_extension": ".py",
   "mimetype": "text/x-python",
   "name": "python",
   "nbconvert_exporter": "python",
   "pygments_lexer": "ipython3",
   "version": "3.11.8"
  }
 },
 "nbformat": 4,
 "nbformat_minor": 2
}
