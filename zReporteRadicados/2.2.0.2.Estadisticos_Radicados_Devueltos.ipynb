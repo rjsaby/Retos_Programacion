{
 "cells": [
  {
   "cell_type": "code",
   "execution_count": 1,
   "metadata": {
    "execution": {
     "iopub.execute_input": "2024-09-06T05:39:00.198150Z",
     "iopub.status.busy": "2024-09-06T05:39:00.198150Z",
     "iopub.status.idle": "2024-09-06T05:39:06.572987Z",
     "shell.execute_reply": "2024-09-06T05:39:06.572987Z"
    }
   },
   "outputs": [],
   "source": [
    "import pandas as pd\n",
    "import os\n",
    "import seaborn as sns\n",
    "\n",
    "os.environ[\"CRYPTOGRAPHY_OPENSSL_NO_LEGACY\"] = \"yes\"\n",
    "\n",
    "# ? Se usa para generar gráficos\n",
    "import matplotlib.pyplot as plt\n",
    "\n",
    "import shutil\n",
    "\n",
    "# ? Se usa para determina la fecha de ejecución del proceso dentro del export de los resultados estadísticos\n",
    "from datetime import datetime as dt\n",
    "\n",
    "# ? Conexión a BD Postgres. Se usa dado que pandas no acepta sino este paquete para la conexión.\n",
    "from sqlalchemy import create_engine, text\n",
    "\n",
    "from arcgis.features import GeoAccessor, GeoSeriesAccessor\n",
    "import arcpy\n",
    "\n",
    "from pathlib import Path\n",
    "\n",
    "# ** Librerías propias\n",
    "import funcion_SQL_a_DataFrame\n",
    "import funcion_parametrizacion_variables"
   ]
  },
  {
   "cell_type": "markdown",
   "metadata": {},
   "source": [
    "<h3>Ejecución de Funciones</h3>"
   ]
  },
  {
   "cell_type": "code",
   "execution_count": 2,
   "metadata": {
    "execution": {
     "iopub.execute_input": "2024-09-06T05:39:06.575992Z",
     "iopub.status.busy": "2024-09-06T05:39:06.575992Z",
     "iopub.status.idle": "2024-09-06T05:39:10.183156Z",
     "shell.execute_reply": "2024-09-06T05:39:10.183156Z"
    }
   },
   "outputs": [
    {
     "name": "stdout",
     "output_type": "stream",
     "text": [
      "Inicio de la conexión\n",
      "Conexión exitosa ...\n"
     ]
    }
   ],
   "source": [
    "resultado = funcion_parametrizacion_variables.parametrizacion_variables()\n",
    "consulta_tRendimientosDevueltosActualizacion = resultado[11]\n",
    "renombrar_actividades = resultado[4]\n",
    "\n",
    "df_tRendimientosDevueltosActualizacion = funcion_SQL_a_DataFrame.sql_a_dataframe(consulta_tRendimientosDevueltosActualizacion)"
   ]
  },
  {
   "cell_type": "markdown",
   "metadata": {},
   "source": [
    "<h3>Parametrización de Variables</h3>"
   ]
  },
  {
   "cell_type": "code",
   "execution_count": 3,
   "metadata": {
    "execution": {
     "iopub.execute_input": "2024-09-06T05:39:10.186163Z",
     "iopub.status.busy": "2024-09-06T05:39:10.186163Z",
     "iopub.status.idle": "2024-09-06T05:39:15.163910Z",
     "shell.execute_reply": "2024-09-06T05:39:15.163910Z"
    }
   },
   "outputs": [],
   "source": [
    "\n",
    "fecha_actual = dt.now()\n",
    "fecha_estandarizada = str(fecha_actual.strftime(\"%Y%m%d\"))\n",
    "\n",
    "# TODO: LLamada a la capa de Terrenos Final\n",
    "terrenosXhito = r\"C:\\docsProyectos\\5.RAISS\\2024.0.RAISS_Lote_4\\6.Hitos\\E1_Alistamiento_Diagnostico\\3_Disposicion\\1.BD_Consolidada\\BD_Consolidada_Lote4.gdb\\Analitica_UT_Consolidada\\TERRENO_POR_HITO\"\n",
    "df_terrenos = pd.DataFrame.spatial.from_featureclass(terrenosXhito)\n",
    "\n",
    "# TODO: Parametrización BD\n",
    "BD_CONSOLIDADOLOCAL = r\"C:\\docsProyectos\\5.RAISS\\2024.0.RAISS_Lote_4\\6.Hitos\\E1_Alistamiento_Diagnostico\\3_Disposicion\\1.BD_Consolidada\\BD_Consolidada_Lote4.gdb\\Analitica_UT_Consolidada\"\n",
    "NOMBRE_CAPA_DEVUELTOS = 'TERRENOS_RECONOCIMIENTO_TRAMITES_DEVUELTOS_BCGS'\n",
    "\n",
    "# TODO: Actualización del Reporte de Seguimiento\n",
    "DIRECTORIO_SALIDA_XLSX = r\"C:\\docsProyectos\\5.RAISS\\2024.0.RAISS_Lote_4\\6.Hitos\\E2_Informes_Id_FisicoJuridica\\2_2_2_Rendimientos_Reconocimiento\"\n",
    "NOMBRE_XLSX = fecha_estandarizada + \"_RendimientoEquipoReconocimiento_BCGS.xlsx\"\n",
    "RUTA_SALIDA_XLSX = os.path.join(DIRECTORIO_SALIDA_XLSX, NOMBRE_XLSX)\n",
    "NOMBRE_HOJA = 'Seguimiento_Rad_Devueltos'"
   ]
  },
  {
   "cell_type": "code",
   "execution_count": 4,
   "metadata": {
    "execution": {
     "iopub.execute_input": "2024-09-06T05:39:15.166921Z",
     "iopub.status.busy": "2024-09-06T05:39:15.166921Z",
     "iopub.status.idle": "2024-09-06T05:39:15.178133Z",
     "shell.execute_reply": "2024-09-06T05:39:15.178133Z"
    }
   },
   "outputs": [],
   "source": [
    "\n",
    "# TODO: Se actualizan los códigos de la actividad\n",
    "for columna in df_tRendimientosDevueltosActualizacion.columns:\n",
    "    if columna == 'actividad_actual_tramite':\n",
    "        for llave, valor in renombrar_actividades.items():\n",
    "            df_tRendimientosDevueltosActualizacion.loc[df_tRendimientosDevueltosActualizacion[columna]==llave, columna] = valor\n",
    "\n",
    "df_tRendimientosDevueltosActualizacion['pversion'] = df_tRendimientosDevueltosActualizacion['pversion'].astype(int)"
   ]
  },
  {
   "cell_type": "code",
   "execution_count": 5,
   "metadata": {
    "execution": {
     "iopub.execute_input": "2024-09-06T05:39:15.181143Z",
     "iopub.status.busy": "2024-09-06T05:39:15.181143Z",
     "iopub.status.idle": "2024-09-06T05:39:15.239500Z",
     "shell.execute_reply": "2024-09-06T05:39:15.239500Z"
    }
   },
   "outputs": [],
   "source": [
    "\n",
    "# TODO: Unificación de los radicados devueltos con las geometrías de los terrenos\n",
    "df_devueltosXterrenos = pd.merge(left=df_terrenos, \n",
    "        right=df_tRendimientosDevueltosActualizacion, \n",
    "        left_on=\"codigo\", \n",
    "        right_on=\"npn\",\n",
    "        how=\"inner\"\n",
    "        )\n",
    "\n",
    "estandarizacion_columnas_devuXterrenos = ['codigo',                                 \n",
    "        'pversion',\n",
    "        'radicado',\n",
    "        'ficha',\n",
    "        'componente_responsable',\n",
    "        'actividad_actual_tramite',\n",
    "        'con_plano_cartografico',\n",
    "        'usuario_inserta_plano',\n",
    "        'area_ha_cmt12',\n",
    "        'id_ui',\n",
    "        'nombre_ui',\n",
    "        'meta_hito',\n",
    "        'SHAPE'\n",
    "        ]\n",
    "\n",
    "df_devueltosXterrenos = df_devueltosXterrenos[estandarizacion_columnas_devuXterrenos]\n",
    "df_devueltosXterrenos = df_devueltosXterrenos.rename(columns={'pversion':'radicado_padre', 'radicado':'radicado_hijo'})"
   ]
  },
  {
   "cell_type": "code",
   "execution_count": 6,
   "metadata": {
    "execution": {
     "iopub.execute_input": "2024-09-06T05:39:15.242507Z",
     "iopub.status.busy": "2024-09-06T05:39:15.242507Z",
     "iopub.status.idle": "2024-09-06T05:39:33.079857Z",
     "shell.execute_reply": "2024-09-06T05:39:33.079857Z"
    }
   },
   "outputs": [
    {
     "name": "stdout",
     "output_type": "stream",
     "text": [
      "Se crea la capa TERRENOS_RECONOCIMIENTO_TRAMITES_DEVUELTOS_BCGS\n"
     ]
    }
   ],
   "source": [
    "\n",
    "# TODO: Se crea la capa geográfica de devueltos\n",
    "df_devueltosXterrenos.spatial.to_featureclass(location=os.path.join(BD_CONSOLIDADOLOCAL,NOMBRE_CAPA_DEVUELTOS))\n",
    "print(f\"Se crea la capa {NOMBRE_CAPA_DEVUELTOS}\")"
   ]
  },
  {
   "cell_type": "code",
   "execution_count": 7,
   "metadata": {
    "execution": {
     "iopub.execute_input": "2024-09-06T05:39:33.082865Z",
     "iopub.status.busy": "2024-09-06T05:39:33.082865Z",
     "iopub.status.idle": "2024-09-06T05:39:39.864438Z",
     "shell.execute_reply": "2024-09-06T05:39:39.864438Z"
    }
   },
   "outputs": [],
   "source": [
    "\n",
    "# TODO: Se prepara y se parametriza las columnas para geneción de reporte alfanumérico\n",
    "estandarizacion_columnas_devuXterrenos = ['codigo',\n",
    "        'radicado_padre',\n",
    "        'radicado_hijo',\n",
    "        'ficha',\n",
    "        'componente_responsable',\n",
    "        'actividad_actual_tramite',\n",
    "        'con_plano_cartografico',\n",
    "        'usuario_inserta_plano',\n",
    "        'area_ha_cmt12',\n",
    "        'id_ui',\n",
    "        'nombre_ui',\n",
    "        'meta_hito'\n",
    "        ]\n",
    "\n",
    "df_devueltosXterrenos = df_devueltosXterrenos[estandarizacion_columnas_devuXterrenos]\n",
    "\n",
    "# TODO: Se actualiza el reporte de rendimientos\n",
    "with pd.ExcelWriter(RUTA_SALIDA_XLSX, engine='openpyxl', mode='a', if_sheet_exists='replace') as writer:\n",
    "    df_devueltosXterrenos.to_excel(writer, sheet_name=NOMBRE_HOJA, index=False)\n"
   ]
  }
 ],
 "metadata": {
  "kernelspec": {
   "display_name": "Python 3",
   "language": "python",
   "name": "python3"
  },
  "language_info": {
   "codemirror_mode": {
    "name": "ipython",
    "version": 3
   },
   "file_extension": ".py",
   "mimetype": "text/x-python",
   "name": "python",
   "nbconvert_exporter": "python",
   "pygments_lexer": "ipython3",
   "version": "3.11.8"
  }
 },
 "nbformat": 4,
 "nbformat_minor": 2
}
