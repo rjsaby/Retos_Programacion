{
 "cells": [
  {
   "cell_type": "markdown",
   "metadata": {},
   "source": [
    "<h2>INDICADOR: Avance Hito por UI, según ejecución de trámites BCGS<h2>"
   ]
  },
  {
   "cell_type": "markdown",
   "metadata": {},
   "source": [
    "<h3>Importación Librerías</h3>"
   ]
  },
  {
   "cell_type": "code",
   "execution_count": null,
   "metadata": {},
   "outputs": [],
   "source": [
    "import pandas as pd\n",
    "import os\n",
    "import seaborn as sns\n",
    "\n",
    "os.environ[\"CRYPTOGRAPHY_OPENSSL_NO_LEGACY\"] = \"yes\"\n",
    "\n",
    "# ? Se usa para generar gráficos\n",
    "import matplotlib.pyplot as plt\n",
    "\n",
    "# ? Se usa para determina la fecha de ejecución del proceso dentro del export de los resultados estadísticos\n",
    "from datetime import datetime\n",
    "\n",
    "# ? Conexión a BD Postgres. Se usa dado que pandas no acepta sino este paquete para la conexión.\n",
    "from sqlalchemy import create_engine, text\n",
    "\n",
    "from datetime import datetime\n",
    "\n",
    "from arcgis.features import GeoAccessor, GeoSeriesAccessor\n",
    "import arcpy\n",
    "\n",
    "from pathlib import Path\n",
    "\n",
    "# ** Librerías propias\n",
    "import funcion_dataframe_terrenos\n",
    "import funcion_SQL_a_DataFrame"
   ]
  },
  {
   "cell_type": "markdown",
   "metadata": {},
   "source": [
    "<h3>Parametrización de Variables</h3>"
   ]
  },
  {
   "cell_type": "code",
   "execution_count": null,
   "metadata": {},
   "outputs": [],
   "source": []
  },
  {
   "cell_type": "code",
   "execution_count": null,
   "metadata": {},
   "outputs": [],
   "source": [
    "\n",
    "def avance_hito_por_ui():\n",
    "    \n",
    "    RUTA_CAPA_UI = r\"C:\\docsProyectos\\5.RAISS\\2024.0.RAISS_Lote_4\\6.Hitos\\O_Apoyo_Construccion_UIntervencion\\UI_Finales\\UI_Finales.gdb\\UI_Unificadas\\UI_Unificadas\"\n",
    "    \n",
    "    df_ui = pd.DataFrame.spatial.from_featureclass(RUTA_CAPA_UI)\n",
    "    df_ui_area_x_hito = pd.DataFrame(df_ui.groupby(['Meta_Hito'])['Area_Ha_CMT12'].sum()).round(2)\n",
    "    dic_ui_area_x_hito = df_ui_area_x_hito.to_dict('index')\n",
    "    return df_ui, df_ui_area_x_hito, dic_ui_area_x_hito\n",
    "\n"
   ]
  },
  {
   "cell_type": "code",
   "execution_count": null,
   "metadata": {},
   "outputs": [],
   "source": [
    "df_ui, df_ui_area_x_hito, dic_ui_area_x_hito = avance_hito_por_ui()"
   ]
  },
  {
   "cell_type": "markdown",
   "metadata": {},
   "source": [
    "df_ui"
   ]
  },
  {
   "cell_type": "code",
   "execution_count": null,
   "metadata": {},
   "outputs": [],
   "source": [
    "df_ui_area_x_hito"
   ]
  },
  {
   "cell_type": "code",
   "execution_count": null,
   "metadata": {},
   "outputs": [],
   "source": [
    "dic_hito_contrato = {}\n",
    "for llave, valor in dic_ui_area_x_hito.items():\n",
    "    print(f\"Valor : {valor[0] + valor[1]}\")\n",
    "    # dic_hito_contrato[llave[0]] = valor[0]\n",
    "    # dic_hito_contrato[llave[1]] = valor[0] + valor[1]\n",
    "    # dic_hito_contrato[llave[2]] = valor[0] + valor[1] + valor[3]\n",
    "    # dic_hito_contrato[llave[4]] = valor[0] + valor[1] + valor[3] + valor[4]"
   ]
  }
 ],
 "metadata": {
  "kernelspec": {
   "display_name": "Python 3",
   "language": "python",
   "name": "python3"
  },
  "language_info": {
   "codemirror_mode": {
    "name": "ipython",
    "version": 3
   },
   "file_extension": ".py",
   "mimetype": "text/x-python",
   "name": "python",
   "nbconvert_exporter": "python",
   "pygments_lexer": "ipython3",
   "version": "3.11.8"
  }
 },
 "nbformat": 4,
 "nbformat_minor": 2
}
