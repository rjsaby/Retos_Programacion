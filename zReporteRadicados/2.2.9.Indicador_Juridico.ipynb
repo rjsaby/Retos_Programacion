{
 "cells": [
  {
   "cell_type": "code",
   "execution_count": 1,
   "metadata": {
    "execution": {
     "iopub.execute_input": "2024-09-05T21:18:57.058453Z",
     "iopub.status.busy": "2024-09-05T21:18:57.058453Z",
     "iopub.status.idle": "2024-09-05T21:19:02.850589Z",
     "shell.execute_reply": "2024-09-05T21:19:02.850589Z"
    }
   },
   "outputs": [],
   "source": [
    "import pandas as pd\n",
    "import os\n",
    "import seaborn as sns\n",
    "\n",
    "os.environ[\"CRYPTOGRAPHY_OPENSSL_NO_LEGACY\"] = \"yes\"\n",
    "\n",
    "# ? Se usa para generar gráficos\n",
    "import matplotlib.pyplot as plt\n",
    "\n",
    "import shutil\n",
    "\n",
    "# ? Se usa para determina la fecha de ejecución del proceso dentro del export de los resultados estadísticos\n",
    "from datetime import datetime as dt\n",
    "\n",
    "# ? Conexión a BD Postgres. Se usa dado que pandas no acepta sino este paquete para la conexión.\n",
    "from sqlalchemy import create_engine, text\n",
    "\n",
    "from arcgis.features import GeoAccessor, GeoSeriesAccessor\n",
    "import arcpy\n",
    "\n",
    "from pathlib import Path\n",
    "\n",
    "import time\n",
    "\n",
    "# ** Librerías propias\n",
    "import funcion_parametrizacion_variables\n",
    "import funcion_SQL_a_DataFrame\n",
    "import funcion_exportacion_pdf_seriemapas"
   ]
  },
  {
   "cell_type": "code",
   "execution_count": 2,
   "metadata": {
    "execution": {
     "iopub.execute_input": "2024-09-05T21:19:02.853599Z",
     "iopub.status.busy": "2024-09-05T21:19:02.853599Z",
     "iopub.status.idle": "2024-09-05T21:19:02.856965Z",
     "shell.execute_reply": "2024-09-05T21:19:02.856965Z"
    }
   },
   "outputs": [],
   "source": [
    "resultado = funcion_parametrizacion_variables.parametrizacion_variables()\n",
    "consulta_tRendimientosActualizacion = resultado[2]\n",
    "renombrar_actividades = resultado[4]\n",
    "consulta_informalidades = resultado[12]\n",
    "dict_area_municipio = resultado[13]\n",
    "consulta_interesados = resultado[14]"
   ]
  },
  {
   "cell_type": "code",
   "execution_count": 3,
   "metadata": {
    "execution": {
     "iopub.execute_input": "2024-09-05T21:19:02.858973Z",
     "iopub.status.busy": "2024-09-05T21:19:02.858973Z",
     "iopub.status.idle": "2024-09-05T21:19:02.863061Z",
     "shell.execute_reply": "2024-09-05T21:19:02.863061Z"
    }
   },
   "outputs": [],
   "source": [
    "\n",
    "fecha_actual = dt.now()\n",
    "fecha_directorio = str(fecha_actual.strftime(\"%Y%m%d\"))\n",
    "\n",
    "FC_TERRENOS_UNIFICADOS = r\"C:\\docsProyectos\\5.RAISS\\2024.0.RAISS_Lote_4\\6.Hitos\\E1_Alistamiento_Diagnostico\\3_Disposicion\\1.BD_Consolidada\\BD_Consolidada_Lote4.gdb\\Analitica_UT_Consolidada\\TERRENO_POR_HITO\"\n",
    "\n",
    "RUTA_BDLOCAL = r\"C:\\docsProyectos\\5.RAISS\\2024.0.RAISS_Lote_4\\6.Hitos\\E2_Informes_Id_FisicoJuridica\\2_2_9_Indicador_Juridico\\Base_Datos\\2_2_9_IndicadorJuridico.gdb\"\n",
    "NOMBRE_CAPA = 'terrenos_matrices_con_informales'\n",
    "NOMBRE_CAPA_AVANCE_COMPONENTEJURID = 'predios_con_avanceJuridico'\n",
    "\n",
    "# TODO: Generación XLSX Resultados\n",
    "DIRECTORIO_XLSX = r\"C:\\docsProyectos\\5.RAISS\\2024.0.RAISS_Lote_4\\6.Hitos\\E2_Informes_Id_FisicoJuridica\\2_2_9_Indicador_Juridico\\zReportes\"\n",
    "NOMBRE_XLSX = fecha_directorio+'_Seguimiento_indicador_juridico.xlsx'\n",
    "\n",
    "# TODO: Generación Salidas Gráficas\n",
    "DIRECTORIO_PDF = r\"C:\\docsProyectos\\5.RAISS\\2024.0.RAISS_Lote_4\\6.Hitos\\E2_Informes_Id_FisicoJuridica\\2_2_9_Indicador_Juridico\\Salidas_Graficas\"\n"
   ]
  },
  {
   "cell_type": "code",
   "execution_count": 4,
   "metadata": {
    "execution": {
     "iopub.execute_input": "2024-09-05T21:19:02.865067Z",
     "iopub.status.busy": "2024-09-05T21:19:02.865067Z",
     "iopub.status.idle": "2024-09-05T21:21:58.444551Z",
     "shell.execute_reply": "2024-09-05T21:21:58.444551Z"
    }
   },
   "outputs": [
    {
     "name": "stdout",
     "output_type": "stream",
     "text": [
      "Inicio de la conexión\n",
      "Conflicto detectado, reintentando en 10 segundos...\n",
      "Inicio de la conexión\n",
      "Conexión exitosa ...\n",
      "Inicio de la conexión\n",
      "Conexión exitosa ...\n",
      "Inicio de la conexión\n",
      "Conexión exitosa ...\n"
     ]
    }
   ],
   "source": [
    "\n",
    "df_consulta_tRendimientosActualizacion = funcion_SQL_a_DataFrame.sql_a_dataframe(consulta_tRendimientosActualizacion)\n",
    "df_consulta_informalidades = funcion_SQL_a_DataFrame.sql_a_dataframe(consulta_informalidades)\n",
    "df_consulta_interesados = funcion_SQL_a_DataFrame.sql_a_dataframe(consulta_interesados)\n",
    "\n",
    "for columna in df_consulta_tRendimientosActualizacion.columns:\n",
    "    if columna == 'actividad_actual_tramite':\n",
    "        for llave, valor in renombrar_actividades.items():\n",
    "            df_consulta_tRendimientosActualizacion.loc[df_consulta_tRendimientosActualizacion[columna]==llave, columna] = valor"
   ]
  },
  {
   "cell_type": "code",
   "execution_count": 5,
   "metadata": {
    "execution": {
     "iopub.execute_input": "2024-09-05T21:21:58.446556Z",
     "iopub.status.busy": "2024-09-05T21:21:58.446556Z",
     "iopub.status.idle": "2024-09-05T21:22:02.990953Z",
     "shell.execute_reply": "2024-09-05T21:22:02.990953Z"
    }
   },
   "outputs": [],
   "source": [
    "\n",
    "# TODO: Llamadas a las variables\n",
    "df_terrenos_unificados = pd.DataFrame.spatial.from_featureclass(FC_TERRENOS_UNIFICADOS)"
   ]
  },
  {
   "cell_type": "markdown",
   "metadata": {},
   "source": [
    "<h3>Estadísticos de Avance</h3>"
   ]
  },
  {
   "cell_type": "code",
   "execution_count": 6,
   "metadata": {
    "execution": {
     "iopub.execute_input": "2024-09-05T21:22:02.993959Z",
     "iopub.status.busy": "2024-09-05T21:22:02.993959Z",
     "iopub.status.idle": "2024-09-05T21:22:04.496455Z",
     "shell.execute_reply": "2024-09-05T21:22:04.496455Z"
    }
   },
   "outputs": [
    {
     "name": "stdout",
     "output_type": "stream",
     "text": [
      "Total de registros existentes: 9745\n",
      "Total de registros asociados a Devoluciones: 92\n",
      "Total de nuevos registros: 3396\n",
      "Total de registros existentes: 6349\n",
      "Total de registros unificados: 9746\n"
     ]
    }
   ],
   "source": [
    "\n",
    "# TODO: Se filtran todas las actividades que ya hallan pasado por el análisis Catastro Registro\n",
    "df_consulta_tRendimientosActualizacion_ajuste_juridico = df_consulta_tRendimientosActualizacion[(df_consulta_tRendimientosActualizacion['actividad_actual_tramite'] != '1.Incorporando predios a la versión') & \n",
    "    (df_consulta_tRendimientosActualizacion['actividad_actual_tramite'] != '2.Realizando Análisis Catastro Registro')][['radicado','actividad_actual_tramite','npn','municipio','ficha','tipo_terreno']]\n",
    "\n",
    "# TODO: Como los NPN se duplican por el cruce con las informalidades, se debe dejar un único NPN\n",
    "df_consulta_tRendimientosActualizacion_ajuste_juridico_unicos = df_consulta_tRendimientosActualizacion_ajuste_juridico.drop_duplicates()\n",
    "print(f\"Total de registros existentes: {df_consulta_tRendimientosActualizacion_ajuste_juridico_unicos.shape[0]}\")\n",
    "\n",
    "# TODO: Se carga la capa de avance del indicador\n",
    "ruta_fc_indicador = r\"C:\\docsProyectos\\5.RAISS\\2024.0.RAISS_Lote_4\\6.Hitos\\E2_Informes_Id_FisicoJuridica\\2_2_9_Indicador_Juridico\\Base_Datos\\2_2_9_IndicadorJuridico.gdb\\predios_con_avanceJuridico\"\n",
    "if arcpy.Exists(ruta_fc_indicador):\n",
    "    df_fc_base = pd.DataFrame.spatial.from_featureclass(ruta_fc_indicador)\n",
    "    df_fc_base = df_fc_base['numero_predial_nacional']\n",
    "    df_fc_base = df_fc_base.drop_duplicates()\n",
    "\n",
    "else:\n",
    "    print(f\"La capa no existe\")\n",
    "\n",
    "# TODO: Se cruza la capa de avance del indicador con la nueva consulta, buscando indentificar registros que sean nuevos y no se encuentren en la capa base del indicador\n",
    "df_actualizacion_base = pd.merge(left=df_consulta_tRendimientosActualizacion_ajuste_juridico_unicos,\n",
    "right=df_fc_base,\n",
    "left_on='npn',\n",
    "right_on='numero_predial_nacional',\n",
    "how='left')\n",
    "\n",
    "# TODO: Aquí se reconocen los registros que por Devoluciones, cambian de semana a semana\n",
    "df_base_actualizacion = pd.merge(left=df_consulta_tRendimientosActualizacion_ajuste_juridico_unicos,\n",
    "right=df_fc_base,\n",
    "left_on='npn',\n",
    "right_on='numero_predial_nacional',\n",
    "how='right')\n",
    "\n",
    "columnas = ['radicado','actividad_actual_tramite','npn','municipio','ficha','tipo_terreno']\n",
    "\n",
    "# TODO: Se garantiza mantener los devueltos dentro de los ya análisis jurídicos realizados\n",
    "df_base_actualizacion = df_base_actualizacion[df_base_actualizacion['npn'].isna()][columnas]\n",
    "print(f\"Total de registros asociados a Devoluciones: {df_base_actualizacion.shape[0]}\")\n",
    "\n",
    "# TODO: Por el JOIN se buscan los registros que aparezcan en el sistema que no se alojen en la base de datos geo base\n",
    "df_actualizacion_base_nuevos_registros = df_actualizacion_base[df_actualizacion_base['numero_predial_nacional'].isna()][columnas]\n",
    "print(f\"Total de nuevos registros: {df_actualizacion_base_nuevos_registros.shape[0]}\")\n",
    "\n",
    "# TODO: Se ajusta el dataframe que contiene los registros que son antiguos, es decir, que ya aparecián en la capa base\n",
    "df_actualizacion_base_registros_existentes = df_actualizacion_base[df_actualizacion_base['numero_predial_nacional'].notna()][columnas]\n",
    "print(f\"Total de registros existentes: {df_actualizacion_base_registros_existentes.shape[0]}\")\n",
    "\n",
    "# TODO: Se concatenan registros nuevos vs registros antiguos\n",
    "df_unificado = pd.concat([df_actualizacion_base_registros_existentes, df_actualizacion_base_nuevos_registros, df_base_actualizacion]).drop_duplicates()\n",
    "print(f\"Total de registros unificados: {df_unificado.shape[0]}\")\n",
    "\n",
    "# TODO: Se cruza con Terrenos para conocer el Hito al que pertenen estos predios\n",
    "df_ajustejurico_vs_terrenos = pd.merge(left=df_unificado,\n",
    "    right=df_terrenos_unificados,\n",
    "    left_on='npn',\n",
    "    right_on='codigo',\n",
    "    how='inner'\n",
    ")\n",
    "\n",
    "# TODO: Se genera el dataframe, con el universo consilidado, para ser cruzado con predios (buscando propietarios, derecho, etc), y que sirve de base para las nuevas incorporaciones de datos jurídicas\n",
    "df_ajustejurico_vs_terrenos_completo = df_ajustejurico_vs_terrenos\n",
    "\n",
    "# TODO: Se filtran los Informales. Si se mantuvieran lo que significa es que me reconocerá aquellos que ya tienen geometría desde SIG\n",
    "# TODO: Al extraerlos se totaliza el total de Informalidades por Mpío según relación.\n",
    "df_ajustejurico_vs_terrenos = df_ajustejurico_vs_terrenos[df_ajustejurico_vs_terrenos['tipo_terreno'] != 'Informal']\n",
    "\n",
    "# TODO: Cálculo de Terrenos Ajustados Jurídicamente por Municipio (limitado por los terrenos)\n",
    "df_ajustejurico_vs_terrenos_x_mpio = df_ajustejurico_vs_terrenos.groupby(['nombre_municipio']).agg({'npn': 'count', 'area_ha_cmt12': 'sum'})\n",
    "df_ajustejurico_vs_terrenos_x_mpio = (pd.DataFrame(df_ajustejurico_vs_terrenos_x_mpio).reset_index()).rename(columns={'npn':'total_predios_formales', 'area_ha_cmt12':'total_area_ha_predios'})\n",
    "df_ajustejurico_vs_terrenos_x_mpio['total_area_ha_predios'] = (df_ajustejurico_vs_terrenos_x_mpio['total_area_ha_predios']).round(3)\n",
    "\n",
    "# TODO: Unificación con áreas de Municipios\n",
    "# TODO: Transformación de diccionario a DF\n",
    "df_areas_municipio = pd.DataFrame(list(dict_area_municipio.items()), columns=['Municipio', 'Area'])\n",
    "\n",
    "df_ajustejurico_vs_terrenos_x_mpio_w_areampio = (pd.merge(left=df_ajustejurico_vs_terrenos_x_mpio,\n",
    "    right=df_areas_municipio,\n",
    "    left_on='nombre_municipio',\n",
    "    right_on='Municipio',\n",
    "    how='inner'\n",
    ")).rename(columns={'Area':'area_ha_municipio'})\n",
    "\n",
    "# TODO: Calculo del Avance\n",
    "df_ajustejurico_vs_terrenos_x_mpio_w_areampio['porcentaje_avance_area'] = ((df_ajustejurico_vs_terrenos_x_mpio_w_areampio['total_area_ha_predios']/df_ajustejurico_vs_terrenos_x_mpio_w_areampio['area_ha_municipio']) * 100).round(3)\n",
    "\n",
    "# TODO: Incorporación Informalidades\n",
    "df_consulta_informalidades['municipio_informalidad'] = None\n",
    "\n",
    "df_consulta_informalidades.loc[df_consulta_informalidades['numero_predial_informal'].str.startswith('08606'), 'municipio_informalidad'] = 'Repelon'\n",
    "df_consulta_informalidades.loc[df_consulta_informalidades['numero_predial_informal'].str.startswith('13442'), 'municipio_informalidad'] = 'MariaLaBaja'\n",
    "df_consulta_informalidades.loc[df_consulta_informalidades['numero_predial_informal'].str.startswith('08078'), 'municipio_informalidad'] = 'Baranoa'\n",
    "df_consulta_informalidades.loc[df_consulta_informalidades['numero_predial_informal'].str.startswith('08634'), 'municipio_informalidad'] = 'Sabanagrande'\n",
    "\n",
    "df_consulta_informalidades_x_municipio = df_consulta_informalidades.groupby(['municipio_informalidad'])['numero_predial_informal'].count()\n",
    "df_consulta_informalidades_x_municipio = ((pd.DataFrame(df_consulta_informalidades_x_municipio)).reset_index()).rename(columns={'numero_predial_informal':'total_predios_informales'})\n",
    "\n",
    "\n",
    "df_ajustejurico_vs_terrenos_x_mpio_w_areampio_x_informalidad = pd.merge(left=df_ajustejurico_vs_terrenos_x_mpio_w_areampio,\n",
    "    right=df_consulta_informalidades_x_municipio,\n",
    "    left_on='nombre_municipio',\n",
    "    right_on='municipio_informalidad',\n",
    "    how='inner'\n",
    ")\n",
    "\n",
    "# TODO: Cálculo del total de predios (predios formales + predios informales)\n",
    "df_ajustejurico_vs_terrenos_x_mpio_w_areampio_x_informalidad['numero_predios'] = df_ajustejurico_vs_terrenos_x_mpio_w_areampio_x_informalidad['total_predios_formales'] + df_ajustejurico_vs_terrenos_x_mpio_w_areampio_x_informalidad['total_predios_informales']\n",
    "\n",
    "# TODO: Reorganización de Columnas\n",
    "reorganizacion_columnas = ['nombre_municipio','area_ha_municipio','total_area_ha_predios','porcentaje_avance_area','numero_predios', 'total_predios_formales', 'total_predios_informales']\n",
    "df_ajustejurico_vs_terrenos_x_mpio_w_areampio_x_informalidad = df_ajustejurico_vs_terrenos_x_mpio_w_areampio_x_informalidad[reorganizacion_columnas]\n",
    "\n",
    "with pd.ExcelWriter(os.path.join(DIRECTORIO_XLSX,NOMBRE_XLSX), engine='openpyxl') as writer:\n",
    "    df_ajustejurico_vs_terrenos_x_mpio_w_areampio_x_informalidad.to_excel(writer, sheet_name='segIndJuridico', index=False)"
   ]
  },
  {
   "cell_type": "markdown",
   "metadata": {},
   "source": [
    "<h3>Capa Geográfica para Informe Semanal</h3>"
   ]
  },
  {
   "cell_type": "code",
   "execution_count": 7,
   "metadata": {
    "execution": {
     "iopub.execute_input": "2024-09-05T21:22:04.499461Z",
     "iopub.status.busy": "2024-09-05T21:22:04.498460Z",
     "iopub.status.idle": "2024-09-05T21:22:22.658458Z",
     "shell.execute_reply": "2024-09-05T21:22:22.658458Z"
    }
   },
   "outputs": [
    {
     "name": "stdout",
     "output_type": "stream",
     "text": [
      "cannot add field: 'fecha_tenencia'\n",
      "cannot add field: 'fecha_visita'\n",
      "Se crea capa geográfica predios_con_avanceJuridico\n"
     ]
    }
   ],
   "source": [
    "\n",
    "arcpy.env.overwriteOutput = True\n",
    "\n",
    "# TODO: Se cruza con Terrenos para conocer el Hito al que pertenen estos predios\n",
    "df_interesado_vs_terrenos = pd.merge(left=df_consulta_interesados,\n",
    "    right=df_ajustejurico_vs_terrenos_completo,\n",
    "    left_on='numero_predial_nacional',\n",
    "    right_on='npn',\n",
    "    how='inner'\n",
    ")\n",
    "\n",
    "# TODO: Estandarización nombres\n",
    "estandarizacion_columnas = ['numero_predial_nacional','tipo_predio','orip','matricula_inmobiliaria','destino_economico','tipo_derecho','fraccion_derecho','fecha_tenencia','tipo_documento','numero_documento','nombre_interesado','fecha_visita','SHAPE']\n",
    "df_interesado_vs_terrenos = df_interesado_vs_terrenos[estandarizacion_columnas]\n",
    "\n",
    "# TODO: Importación de resultados a base de datos geográficos\n",
    "df_interesado_vs_terrenos.spatial.to_featureclass(location=os.path.join(RUTA_BDLOCAL,NOMBRE_CAPA_AVANCE_COMPONENTEJURID))\n",
    "print(f\"Se crea capa geográfica {NOMBRE_CAPA_AVANCE_COMPONENTEJURID}\")"
   ]
  },
  {
   "cell_type": "markdown",
   "metadata": {},
   "source": [
    "<h3>Espacialización de Terrenos Matrices con Informalidades</h3>"
   ]
  },
  {
   "cell_type": "code",
   "execution_count": 8,
   "metadata": {
    "execution": {
     "iopub.execute_input": "2024-09-05T21:22:22.661464Z",
     "iopub.status.busy": "2024-09-05T21:22:22.661464Z",
     "iopub.status.idle": "2024-09-05T21:22:25.679771Z",
     "shell.execute_reply": "2024-09-05T21:22:25.679771Z"
    }
   },
   "outputs": [
    {
     "name": "stdout",
     "output_type": "stream",
     "text": [
      "Se crea la capa terrenos_matrices_con_informales\n"
     ]
    }
   ],
   "source": [
    "df_terrenos_unificados_informalidades = pd.merge(left=df_terrenos_unificados,\n",
    "    right=df_consulta_informalidades,\n",
    "    left_on='codigo',\n",
    "    right_on='numero_predial_formal',\n",
    "    how='left'\n",
    ")\n",
    "\n",
    "df_terrenos_unificados_informalidades = df_terrenos_unificados_informalidades[df_terrenos_unificados_informalidades['numero_predial_informal'].notna()]\n",
    "\n",
    "# TODO: De los Terrenos que Tienen Formalidades, se debe dejar solo una geometría, esto mientras se accede a la BD Definitiva.\n",
    "estandarizacion_terrenos_unicos = ['codigo','id_ui','meta_hito']\n",
    "df_terrenos_matrices_w_informalidades = df_terrenos_unificados_informalidades[estandarizacion_terrenos_unicos]\n",
    "df_terrenos_matrices_w_informalidades_unico = df_terrenos_matrices_w_informalidades.drop_duplicates()\n",
    "\n",
    "# TODO: Total de Terrenos con Informalidades por Hito\n",
    "df_terrenos_matrices_w_informalidades_unico_x_hito = df_terrenos_matrices_w_informalidades_unico['meta_hito'].value_counts()\n",
    "\n",
    "df_terrenos_matrices_w_informalidades_unico_geo = pd.merge(left=df_terrenos_matrices_w_informalidades_unico,\n",
    "    right=df_terrenos_unificados,\n",
    "    on='codigo',\n",
    "    how='inner'\n",
    ")\n",
    "\n",
    "df_terrenos_matrices_w_informalidades_unico_geo = df_terrenos_matrices_w_informalidades_unico_geo[['codigo','id_ui_x','meta_hito_x','area_ha_cmt12','SHAPE']]\n",
    "df_terrenos_matrices_w_informalidades_unico_geo = df_terrenos_matrices_w_informalidades_unico_geo.rename(columns={'id_ui_x':'id_ui', 'meta_hito_x':'meta_hito'})\n",
    "\n",
    "df_terrenos_matrices_w_informalidades_unico_geo.spatial.to_featureclass(location=os.path.join(RUTA_BDLOCAL,NOMBRE_CAPA))\n",
    "print(f\"Se crea la capa {NOMBRE_CAPA}\")"
   ]
  },
  {
   "cell_type": "markdown",
   "metadata": {},
   "source": [
    "<h3>Salida Gráfica</h3>"
   ]
  },
  {
   "cell_type": "code",
   "execution_count": 9,
   "metadata": {
    "execution": {
     "iopub.execute_input": "2024-09-05T21:22:25.682778Z",
     "iopub.status.busy": "2024-09-05T21:22:25.681777Z",
     "iopub.status.idle": "2024-09-05T21:22:48.696184Z",
     "shell.execute_reply": "2024-09-05T21:22:48.695178Z"
    }
   },
   "outputs": [
    {
     "name": "stdout",
     "output_type": "stream",
     "text": [
      "Nombre Layout: Seguimiento E. Juridico\n",
      "Se exporta a PDF Seguimiento E. Juridico\n",
      "Se exporta Salida Gráfica\n"
     ]
    }
   ],
   "source": [
    "\n",
    "# TODO: Generación Salida Gráfica\n",
    "funcion_exportacion_pdf_seriemapas.exportacion_salida_grafica('Seguimiento E. Juridico', DIRECTORIO_PDF)\n",
    "print(f\"Se exporta Salida Gráfica\")"
   ]
  }
 ],
 "metadata": {
  "kernelspec": {
   "display_name": "Python 3",
   "language": "python",
   "name": "python3"
  },
  "language_info": {
   "codemirror_mode": {
    "name": "ipython",
    "version": 3
   },
   "file_extension": ".py",
   "mimetype": "text/x-python",
   "name": "python",
   "nbconvert_exporter": "python",
   "pygments_lexer": "ipython3",
   "version": "3.11.8"
  }
 },
 "nbformat": 4,
 "nbformat_minor": 2
}
