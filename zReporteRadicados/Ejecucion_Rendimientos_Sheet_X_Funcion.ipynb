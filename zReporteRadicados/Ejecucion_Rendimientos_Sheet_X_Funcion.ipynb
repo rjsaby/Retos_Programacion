{
 "cells": [
  {
   "cell_type": "code",
   "execution_count": null,
   "metadata": {},
   "outputs": [],
   "source": [
    "import os\n",
    "import arcpy\n",
    "\n",
    "os.environ[\"CRYPTOGRAPHY_OPENSSL_NO_LEGACY\"] = \"yes\"\n",
    "\n",
    "import funcion_Calculo_Rendimientos_IndicadorSheet\n",
    "import funcion_append_rendimientos_visitas_sheet"
   ]
  },
  {
   "cell_type": "code",
   "execution_count": null,
   "metadata": {},
   "outputs": [],
   "source": [
    "arcpy.env.overwriteOutput = True\n",
    "\n",
    "bdResultados = r\"C:\\docsProyectos\\5.RAISS\\2024.0.RAISS_Lote_4\\6.Hitos\\E2_Informes_Id_FisicoJuridica\\2_2_0_Identificacion_Predial_Total_Ha_Actualizadas\\Base_Datos\\_2_2_0.gdb\"\n",
    "\n",
    "nMunicipio = 'REPELON' \n",
    "nSheet = 'Repelon'\n",
    "idSheet = '1pOj3aUX3HxI3F92qt_NIFeYpmrAkffaP7-lgSPh5s9Y'\n",
    "\n",
    "funcion_Calculo_Rendimientos_IndicadorSheet.calculo_rendimientos_indicadorSheet(nMunicipio, nSheet, idSheet)\n",
    "print(f\"Concluye la ejecución de la función\")"
   ]
  },
  {
   "cell_type": "code",
   "execution_count": null,
   "metadata": {},
   "outputs": [],
   "source": [
    "nMunicipio = 'MARIA_LA_BAJA' \n",
    "nSheet = 'MariaLaBaja'\n",
    "idSheet = '1NFiqkjT-MbdWlkE-QXGieYjE2wuVqmYZum2nIIQ7JUw'\n",
    "\n",
    "funcion_Calculo_Rendimientos_IndicadorSheet.calculo_rendimientos_indicadorSheet(nMunicipio, nSheet, idSheet)\n",
    "print(f\"Concluye la ejecución de la función\")"
   ]
  },
  {
   "cell_type": "code",
   "execution_count": null,
   "metadata": {},
   "outputs": [],
   "source": [
    "funcion_append_rendimientos_visitas_sheet.append_terrenos_visitas(bdResultados)"
   ]
  }
 ],
 "metadata": {
  "kernelspec": {
   "display_name": "Python 3",
   "language": "python",
   "name": "python3"
  },
  "language_info": {
   "codemirror_mode": {
    "name": "ipython",
    "version": 3
   },
   "file_extension": ".py",
   "mimetype": "text/x-python",
   "name": "python",
   "nbconvert_exporter": "python",
   "pygments_lexer": "ipython3",
   "version": "3.11.8"
  }
 },
 "nbformat": 4,
 "nbformat_minor": 2
}
