{
 "cells": [
  {
   "cell_type": "code",
   "execution_count": null,
   "metadata": {},
   "outputs": [],
   "source": [
    "\"\"\"    \n",
    "    Indicador: Rendimientos del Equipo de Reconocimiento para pago\n",
    "\"\"\""
   ]
  },
  {
   "cell_type": "markdown",
   "metadata": {},
   "source": [
    "<h3>Importación Librerías</h3>"
   ]
  },
  {
   "cell_type": "code",
   "execution_count": null,
   "metadata": {},
   "outputs": [],
   "source": [
    "import pandas as pd\n",
    "import os\n",
    "import seaborn as sns\n",
    "\n",
    "os.environ[\"CRYPTOGRAPHY_OPENSSL_NO_LEGACY\"] = \"yes\"\n",
    "\n",
    "# ? Se usa para generar gráficos\n",
    "import matplotlib.pyplot as plt\n",
    "\n",
    "import shutil\n",
    "\n",
    "# ? Se usa para determina la fecha de ejecución del proceso dentro del export de los resultados estadísticos\n",
    "from datetime import datetime as dt\n",
    "\n",
    "# ? Conexión a BD Postgres. Se usa dado que pandas no acepta sino este paquete para la conexión.\n",
    "from sqlalchemy import create_engine, text\n",
    "\n",
    "from arcgis.features import GeoAccessor, GeoSeriesAccessor\n",
    "import arcpy\n",
    "\n",
    "from pathlib import Path\n",
    "\n",
    "# ** Librerías propias\n",
    "import funcion_SQL_a_DataFrame\n",
    "import funcion_parametrizacion_variables"
   ]
  },
  {
   "cell_type": "markdown",
   "metadata": {},
   "source": [
    "<h3>Ejecución de Función de Variables</h3>"
   ]
  },
  {
   "cell_type": "code",
   "execution_count": null,
   "metadata": {},
   "outputs": [],
   "source": [
    "resultado = funcion_parametrizacion_variables.parametrizacion_variables()\n",
    "consulta_tRendimientosActualizacion = resultado[2]\n",
    "consulta_fechas = resultado[3]\n",
    "renombrar_actividades = resultado[4]\n",
    "dict_coordinador_reconocedor = resultado[5]\n",
    "consulta_radicado_padre = resultado[6]\n",
    "consulta_nro_ficha = resultado[7]"
   ]
  },
  {
   "cell_type": "markdown",
   "metadata": {},
   "source": [
    "<h3>Parametrización de Variables</h3>"
   ]
  },
  {
   "cell_type": "code",
   "execution_count": null,
   "metadata": {},
   "outputs": [],
   "source": [
    "consulta_tRendimientosActualizacion = consulta_tRendimientosActualizacion\n",
    "\n",
    "consulta_fechas = consulta_fechas\n",
    "\n",
    "consulta_nro_ficha = consulta_nro_ficha\n",
    "\n",
    "columnas_croquis = ['municipio'\n",
    "    ,'radicado'\n",
    "    ,'componente_responsable'\n",
    "    ,'npn'\n",
    "    ,'usuario_actual_responsable_tramite'\n",
    "    ]\n",
    "\n",
    "# ** Reorganización de columnas para Radicado Hijo\n",
    "columnas_reorganizacion_npn = ['municipio',\n",
    "    'componente_responsable',\n",
    "    'radicado_padre',\n",
    "    'radicado',\n",
    "    'fecha_radicado',\n",
    "    'fecha_actualizacion_tramite',\n",
    "    'npn',\n",
    "    'area_ha_ctm12_predio',\n",
    "    'actividad_actual_tramite',\n",
    "    'usuario_actual_responsable_tramite',\n",
    "    'con_plano_cartografico',\n",
    "    'id_ui',\n",
    "    'Meta_Hito'\n",
    "    ]\n",
    "\n",
    "columnas_reorganizacion_ficha = ['municipio',\n",
    "    'componente_responsable',\n",
    "    'radicado_padre',\n",
    "    'radicado',\n",
    "    'nro_ficha',\n",
    "    'fecha_radicado',\n",
    "    'fecha_actualizacion_tramite',\n",
    "    'npn','area_ha_ctm12_predio',\n",
    "    'actividad_actual_tramite',\n",
    "    'usuario_actual_responsable_tramite',\n",
    "    'con_plano_cartografico',\n",
    "    'id_ui',\n",
    "    'Meta_Hito'\n",
    "    ]\n",
    "\n",
    "dict_coordinador_reconocedor = dict_coordinador_reconocedor\n",
    "\n",
    "dict_renombrado_columnas = {'radicado_y':'radicado',\n",
    "    'municipio_y':'municipio',\n",
    "    'usuario_responsable_actividad_anterior_y':'usuario_responsable_actividad_anterior',\n",
    "    'rol_anterior_responsable_actividad_y':'rol_anterior_responsable_actividad'\n",
    "    }\n",
    "\n",
    "patron_busqueda = 'ransacci'\n",
    "\n",
    "renombrar_actividades = renombrar_actividades\n",
    "\n",
    "fecha_actual = dt.now()\n",
    "fecha_directorio = str(fecha_actual.strftime(\"%Y%m%d\"))\n",
    "\n",
    "DIRECTORIO_SALIDA_XLSX = r\"C:\\docsProyectos\\5.RAISS\\2024.0.RAISS_Lote_4\\6.Hitos\\E2_Informes_Id_FisicoJuridica\\2_2_2_Rendimientos_Reconocimiento\"\n",
    "NOMBRE_XLSX = str(fecha_directorio) + \"_RendimientoEquipoReconocimiento_BCGS.xlsx\"\n",
    "RUTA_SALIDA_XLSX = os.path.join(DIRECTORIO_SALIDA_XLSX, NOMBRE_XLSX)\n",
    "\n",
    "DIRECTORIO_EXCEL_BASE = r\"C:\\docsProyectos\\5.RAISS\\2024.0.RAISS_Lote_4\\6.Hitos\\E2_Informes_Id_FisicoJuridica\\zInsumos\"\n",
    "NOMBRE_EXCEL_BASE = 'base_npn_analisis_seguimiento.xlsx'\n",
    "RUTA_EXCEL_BASE = os.path.join(DIRECTORIO_EXCEL_BASE, NOMBRE_EXCEL_BASE)\n",
    "\n",
    "TBL_RELACION_TERRENOS_UI = r\"C:\\docsProyectos\\5.RAISS\\2024.0.RAISS_Lote_4\\6.Hitos\\E1_Alistamiento_Diagnostico\\3_Disposicion\\1.BD_Consolidada\\BD_Consolidada_Lote4.gdb\\relacion_terreno_ui\"\n",
    "FC_TERRENOS_UNIFICADOS = r\"C:\\docsProyectos\\5.RAISS\\2024.0.RAISS_Lote_4\\6.Hitos\\E1_Alistamiento_Diagnostico\\3_Disposicion\\1.BD_Consolidada\\BD_Consolidada_Lote4.gdb\\Analitica_UT_Consolidada\\TERRENO_UNIFICADO_w_GIS\"\n",
    "\n",
    "TBL_UI = r\"C:\\docsProyectos\\5.RAISS\\2024.0.RAISS_Lote_4\\6.Hitos\\O_Apoyo_Construccion_UIntervencion\\UI_Finales\\UI_Finales.gdb\\UI_Unificadas\\UI_Unificadas\""
   ]
  },
  {
   "cell_type": "markdown",
   "metadata": {},
   "source": [
    "<h3>Ejecución de Funciones</h3>"
   ]
  },
  {
   "cell_type": "code",
   "execution_count": null,
   "metadata": {},
   "outputs": [],
   "source": [
    "df_consulta_rendimientosActualizacion = funcion_SQL_a_DataFrame.sql_a_dataframe(consulta_tRendimientosActualizacion)\n",
    "df_consulta_fechas = funcion_SQL_a_DataFrame.sql_a_dataframe(consulta_fechas)\n",
    "df_consulta_radicado_padre = funcion_SQL_a_DataFrame.sql_a_dataframe(consulta_radicado_padre)\n",
    "df_consulta_nro_ficha = funcion_SQL_a_DataFrame.sql_a_dataframe(consulta_nro_ficha)"
   ]
  },
  {
   "cell_type": "markdown",
   "metadata": {},
   "source": [
    "<h3>Incorporación de Rol</h3>"
   ]
  },
  {
   "cell_type": "code",
   "execution_count": null,
   "metadata": {},
   "outputs": [],
   "source": [
    "df_consulta_rendimientosActualizacion['rol_actual_responsable_tramite'] = None\n",
    "df_consulta_rendimientosActualizacion['rol_anterior_responsable_actividad'] = None\n",
    "for llave, valor in dict_coordinador_reconocedor.items():\n",
    "    df_consulta_rendimientosActualizacion.loc[df_consulta_rendimientosActualizacion['usuario_actual_responsable_tramite']==llave, 'rol_actual_responsable_tramite'] = valor\n",
    "    df_consulta_rendimientosActualizacion.loc[df_consulta_rendimientosActualizacion['usuario_responsable_actividad_anterior']==llave, 'rol_anterior_responsable_actividad'] = valor"
   ]
  },
  {
   "cell_type": "markdown",
   "metadata": {},
   "source": [
    "<h3>Cambiar nombre de actividades</h3>"
   ]
  },
  {
   "cell_type": "code",
   "execution_count": null,
   "metadata": {},
   "outputs": [],
   "source": [
    "for columna in df_consulta_rendimientosActualizacion.columns:\n",
    "    if columna == 'actividad_actual_tramite':\n",
    "        for llave, valor in renombrar_actividades.items():\n",
    "            df_consulta_rendimientosActualizacion.loc[df_consulta_rendimientosActualizacion[columna]==llave, columna] = valor"
   ]
  },
  {
   "cell_type": "markdown",
   "metadata": {},
   "source": [
    "<h3>Reporte NPN por Radicado</h3>"
   ]
  },
  {
   "cell_type": "code",
   "execution_count": null,
   "metadata": {},
   "outputs": [],
   "source": [
    "df_radicado_npn = df_consulta_rendimientosActualizacion[['municipio','componente_responsable','radicado','npn', 'actividad_actual_tramite','usuario_actual_responsable_tramite','con_plano_cartografico']]\n",
    "\n",
    "# ! Aquí se llama una tabla relacion terrenos ui, puede modificarse con la incorporación de terrenos nuevos o modificaciones en UI\n",
    "# ** Llamadas a las variables\n",
    "df_terrenos_unificados = pd.DataFrame.spatial.from_featureclass(FC_TERRENOS_UNIFICADOS)\n",
    "df_relacion_terrenos_ui = pd.DataFrame.spatial.from_table(TBL_RELACION_TERRENOS_UI)\n",
    "df_ui = pd.DataFrame.spatial.from_featureclass(TBL_UI)\n",
    "\n",
    "# ** Se relaciona los terrenos con la tabla de relación de UI\n",
    "df_terrenos_ui = pd.merge(left=df_terrenos_unificados, right=df_relacion_terrenos_ui, on=\"codigo\", how=\"inner\")\n",
    "df_terrenos_ui_estandarizado = df_terrenos_ui[['codigo','area_ha_cmt12','id_ui']]\n",
    "df_terrenos_ui_estandarizado = df_terrenos_ui_estandarizado.rename(columns={'area_ha_cmt12':'area_ha_ctm12_predio'})\n",
    "df_terrenos_ui_estandarizado['area_ha_ctm12_predio'] = df_terrenos_ui_estandarizado['area_ha_ctm12_predio'].round(3)\n",
    "\n",
    "# ** Se relaciona la tabla de predio_ui con la completitud de la información de la zona\n",
    "df_terrenos_ui_completo = pd.merge(left=df_terrenos_ui_estandarizado, right=df_ui, left_on=\"id_ui\", right_on=\"ID_UI\", how=\"inner\")\n",
    "\n",
    "# TODO: Relación con Radicados\n",
    "df_radicados_ui = pd.merge(left=df_terrenos_ui_completo, right=df_radicado_npn, left_on=\"codigo\", right_on=\"npn\", how=\"right\")\n",
    "df_radicados_ui = df_radicados_ui[['municipio', 'componente_responsable', 'radicado', 'npn', 'area_ha_ctm12_predio', 'actividad_actual_tramite','usuario_actual_responsable_tramite','con_plano_cartografico','id_ui','Meta_Hito']]\n",
    "\n",
    "# TODO: Unificación de fechas\n",
    "df_radicados_ui_fechas = pd.merge(left=df_radicados_ui, right=df_consulta_fechas, on=\"radicado\", how=\"left\")\n",
    "df_radicados_ui_fechas_estandarizado = df_radicados_ui_fechas[['municipio', 'componente_responsable', 'radicado', 'fecha_radicado', 'fecha_actualizacion_tramite', 'npn', 'area_ha_ctm12_predio', 'actividad_actual_tramite','usuario_actual_responsable_tramite','con_plano_cartografico','id_ui','Meta_Hito']]\n",
    "\n",
    "# TODO: Incorporación de radicados padre a reporte\n",
    "df_npn_w_radicado_padre = pd.merge(left=df_radicados_ui_fechas_estandarizado,\n",
    "                                   right=df_consulta_radicado_padre,\n",
    "                                   on='radicado',\n",
    "                                   how=\"left\")\n",
    "\n",
    "df_npn_w_radicado_padre = df_npn_w_radicado_padre[columnas_reorganizacion_npn]\n",
    "\n",
    "# TODO: Incorporación de la ficha\n",
    "df_npn_w_ficha = pd.merge(left=df_npn_w_radicado_padre,\n",
    "                                   right=df_consulta_nro_ficha,\n",
    "                                   on='radicado',\n",
    "                                   how=\"left\")\n",
    "\n",
    "df_npn_w_ficha = df_npn_w_ficha[columnas_reorganizacion_ficha]\n",
    "\n",
    "# ** Usar ExcelWriter para guardar múltiples dataframes en diferentes hojas\n",
    "with pd.ExcelWriter(RUTA_SALIDA_XLSX, engine='openpyxl') as writer:\n",
    "    df_npn_w_ficha.to_excel(writer, sheet_name='Radicado_X_NPN', index=False)\n",
    "\n",
    "print(f\"Se exporta XLSX {NOMBRE_XLSX}, en la ruta {DIRECTORIO_SALIDA_XLSX}\")"
   ]
  },
  {
   "cell_type": "markdown",
   "metadata": {},
   "source": [
    "<h3>Indicador 2</h3>"
   ]
  },
  {
   "cell_type": "code",
   "execution_count": null,
   "metadata": {},
   "outputs": [],
   "source": [
    "\n",
    "# ? Indicador 2\n",
    "# ** Fase Previa a la Transacción Catastral\n",
    "df_rendActua_ERecono_FasePrevia = df_consulta_rendimientosActualizacion[(df_consulta_rendimientosActualizacion['fase_actividad']=='Fase Previa a la Transacción Catastral')]\n",
    "df_rendActua_ERecono_indicador_2_Ordenado = pd.DataFrame(df_rendActua_ERecono_FasePrevia.groupby(['municipio','actividad_actual_tramite','rol_actual_responsable_tramite'])['usuario_actual_responsable_tramite'].value_counts()).reset_index().rename(columns={'count':'total_predios'})\n",
    "\n",
    "# TODO: Construcción de Indicador 2\n",
    "dataframes = {}\n",
    "df_municipio = pd.DataFrame(df_rendActua_ERecono_indicador_2_Ordenado[['municipio']].value_counts()).reset_index()\n",
    "df_municipio = df_municipio['municipio']\n",
    "lista_municipio_bcgs = df_municipio.tolist()\n",
    "\n",
    "for mpio in lista_municipio_bcgs:\n",
    "    df = df_rendActua_ERecono_indicador_2_Ordenado[df_rendActua_ERecono_indicador_2_Ordenado['municipio'] == mpio]\n",
    "    dataframes[mpio] = df\n",
    "\n",
    "for dframe, df in dataframes.items():\n",
    "    globals()[f'df_{dframe}_indicador_2'] = df\n",
    "    # ? Generación de copia\n",
    "    globals()[f'df_{dframe}_indicador_2'] = globals()[f'df_{dframe}_indicador_2'].copy()\n",
    "    # ? Unificación de campos\n",
    "    globals()[f'df_{dframe}_indicador_2']['rol_usuario'] = globals()[f'df_{dframe}_indicador_2']['rol_actual_responsable_tramite'] + ' - ' + globals()[f'df_{dframe}_indicador_2']['usuario_actual_responsable_tramite']\n",
    "    # ? Generación Pivote\n",
    "    globals()[f'df_{dframe}_indicador_2_pivote'] = globals()[f'df_{dframe}_indicador_2'].pivot(index='rol_usuario', columns='actividad_actual_tramite', values='total_predios')\n",
    "    # ? Reemplazo de Nulos por 0 y cambio de float a int\n",
    "    for columna in globals()[f'df_{dframe}_indicador_2_pivote'].columns:\n",
    "        globals()[f'df_{dframe}_indicador_2_pivote'].loc[globals()[f'df_{dframe}_indicador_2_pivote'][columna].isnull(), columna] = 0\n",
    "        globals()[f'df_{dframe}_indicador_2_pivote'][columna] = globals()[f'df_{dframe}_indicador_2_pivote'][columna].astype(int)\n",
    "    # ? Reseteo de Índices\n",
    "    globals()[f'df_{dframe}_indicador_2_pivote'] = globals()[f'df_{dframe}_indicador_2_pivote'].reset_index()\n",
    "    # ? Impresión en XLSX\n",
    "    with pd.ExcelWriter(RUTA_SALIDA_XLSX, engine='openpyxl', mode='a', if_sheet_exists='new') as writer:\n",
    "       globals()[f'df_{dframe}_indicador_2_pivote'].to_excel(writer, sheet_name='Ind_2_'+dframe, index=False)"
   ]
  },
  {
   "cell_type": "markdown",
   "metadata": {},
   "source": [
    "<h3>Indicador 4</h3>"
   ]
  },
  {
   "cell_type": "code",
   "execution_count": null,
   "metadata": {},
   "outputs": [],
   "source": [
    "\n",
    "# ? Indicador 4\n",
    "# TODO: Creación archivo base\n",
    "# ! Cuidado si se actualiza la actividad por el número que se le asigna\n",
    "# df_PrediosPreparandoEdicionGeo = df_consulta_rendimientosActualizacion[(df_consulta_rendimientosActualizacion['actividad_actual_tramite'] == '6.Preparando Edición Geográfica') |\n",
    "#                                                                        (df_consulta_rendimientosActualizacion['actividad_actual_tramite'].str.contains(patron_busqueda))]\n",
    "# df_PrediosPreparandoEdicionGeo_Base = df_PrediosPreparandoEdicionGeo[['radicado', 'municipio', 'rol_anterior_responsable_actividad', 'usuario_responsable_actividad_anterior', 'npn']]\n",
    "# df_PrediosPreparandoEdicionGeo_Base = df_PrediosPreparandoEdicionGeo_Base.copy()\n",
    "# df_PrediosPreparandoEdicionGeo_Base['fecha_registro'] = fecha_directorio\n",
    "# df_PrediosPreparandoEdicionGeo_Base.to_excel(RUTA_EXCEL_BASE)\n",
    "\n",
    "# TODO: Actualización del Archivo Base, partiendo del reporte XLSX creado el 17 de Junio, 2024\n",
    "df_lectura_xlsx_base = pd.read_excel(RUTA_EXCEL_BASE)\n",
    "df_lectura_xlsx_base = df_lectura_xlsx_base[['radicado','municipio','rol_anterior_responsable_actividad','usuario_responsable_actividad_anterior','npn','fecha_registro']]\n",
    "print(f\"Total de registros en archivo base: \\n {df_lectura_xlsx_base.shape[0]}\")\n",
    "\n",
    "# ! Cuidado si se actualiza la actividad por el número que se le asigna\n",
    "df_PrediosPreparandoEdicionGeo_Seguimiento = df_consulta_rendimientosActualizacion[(df_consulta_rendimientosActualizacion['actividad_actual_tramite'].str.contains('Preparando Edición Geográfica')) |\n",
    "                                                                                   (df_consulta_rendimientosActualizacion['actividad_actual_tramite'].str.contains(patron_busqueda))]\n",
    "print(f\"Total de registros seguimiento diario: \\n {df_PrediosPreparandoEdicionGeo_Seguimiento.shape[0]} \\n\")\n",
    "\n",
    "df_PrediosPreparandoEdicionGeo_Seguimiento = df_PrediosPreparandoEdicionGeo_Seguimiento[['radicado', 'municipio', 'rol_anterior_responsable_actividad', 'usuario_responsable_actividad_anterior', 'npn']]\n",
    "df_cambios_base_seguimiento = pd.merge(df_lectura_xlsx_base, df_PrediosPreparandoEdicionGeo_Seguimiento, how = \"right\", on = \"npn\")\n",
    "df_cambios_base_seguimiento_nuevos = df_cambios_base_seguimiento[df_cambios_base_seguimiento['radicado_x'].isnull()]\n",
    "print(f\"\\n {df_cambios_base_seguimiento_nuevos} con {df_cambios_base_seguimiento_nuevos.shape[0]} nuevos registros \\n\")\n",
    "if df_cambios_base_seguimiento_nuevos.shape[0] > 0:\n",
    "    df_cambios_base_seguimiento_nuevos = df_cambios_base_seguimiento_nuevos[['radicado_y','municipio_y', 'rol_anterior_responsable_actividad_y', 'usuario_responsable_actividad_anterior_y','npn']]\n",
    "    df_cambios_base_seguimiento_nuevos = df_cambios_base_seguimiento_nuevos.rename(columns=dict_renombrado_columnas)\n",
    "    df_cambios_base_seguimiento_nuevos['fecha_registro'] = fecha_directorio\n",
    "    df_cambios_base_seguimiento_unificacion = pd.concat([df_lectura_xlsx_base, df_cambios_base_seguimiento_nuevos])\n",
    "    df_cambios_base_seguimiento_unificacion.to_excel(RUTA_EXCEL_BASE)\n",
    "else:\n",
    "    print(f\"El archivo base no reporta nuevos predios en Edición Geográfica\")"
   ]
  },
  {
   "cell_type": "code",
   "execution_count": null,
   "metadata": {},
   "outputs": [],
   "source": [
    "\n",
    "df_lectura_xlsx_base = pd.read_excel(RUTA_EXCEL_BASE)\n",
    "\n",
    "df_lectura_xlsx_base['rol_usuario'] = df_lectura_xlsx_base['rol_anterior_responsable_actividad'] + ' - ' + df_lectura_xlsx_base['usuario_responsable_actividad_anterior']\n",
    "df_indicador_4 = pd.DataFrame(df_lectura_xlsx_base.groupby(['municipio','rol_usuario'])['fecha_registro'].value_counts()).reset_index().rename(columns={'count':'total_predios'})\n",
    "\n",
    "df_indicador_4_municipio = pd.DataFrame(df_indicador_4['municipio'].value_counts()).reset_index()\n",
    "df_indicador_4_municipio = df_indicador_4_municipio['municipio']\n",
    "lista_municipios = df_indicador_4_municipio.tolist()\n",
    "\n",
    "dataframes = {}\n",
    "for mpio in lista_municipios:\n",
    "    df = df_indicador_4[df_indicador_4['municipio']==mpio]\n",
    "    dataframes[mpio] = df\n",
    "\n",
    "for nmpio, df in dataframes.items():\n",
    "    globals()[f'df_indicador_4_{nmpio}'] = df\n",
    "    # ? Filtro de Columnas\n",
    "    globals()[f'df_indicador_4_{nmpio}_stand'] = globals()[f'df_indicador_4_{nmpio}'][['rol_usuario','fecha_registro','total_predios']]\n",
    "    # ? Construcción del Pivote\n",
    "    globals()[f'df_indicador_4_{nmpio}_stand_pivote'] = globals()[f'df_indicador_4_{nmpio}_stand'].pivot(index=\"rol_usuario\", columns=\"fecha_registro\", values=\"total_predios\").reset_index()\n",
    "    # ? Reemplazo de valores nulos por 0\n",
    "    globals()[f'df_indicador_4_{nmpio}_stand_pivote'] = globals()[f'df_indicador_4_{nmpio}_stand_pivote'].fillna(0)\n",
    "    # ? Seleccionar todas las columnas numéricas\n",
    "    columnas_numericas = globals()[f'df_indicador_4_{nmpio}_stand_pivote'].select_dtypes(include=['number']).columns\n",
    "    # ? Convertir todas las columnas numéricas a tipo int\n",
    "    globals()[f'df_indicador_4_{nmpio}_stand_pivote'][columnas_numericas] = globals()[f'df_indicador_4_{nmpio}_stand_pivote'][columnas_numericas].astype(int)\n",
    "    # ? Impresión en XLSX\n",
    "    with pd.ExcelWriter(RUTA_SALIDA_XLSX, engine='openpyxl', mode='a', if_sheet_exists='new') as writer:\n",
    "        globals()[f'df_indicador_4_{nmpio}_stand_pivote'].to_excel(writer, sheet_name='Indicador_4_'+nmpio, index=False)\n",
    "        print(globals()[f'df_indicador_4_{nmpio}_stand_pivote'])"
   ]
  }
 ],
 "metadata": {
  "kernelspec": {
   "display_name": "Python 3",
   "language": "python",
   "name": "python3"
  },
  "language_info": {
   "codemirror_mode": {
    "name": "ipython",
    "version": 3
   },
   "file_extension": ".py",
   "mimetype": "text/x-python",
   "name": "python",
   "nbconvert_exporter": "python",
   "pygments_lexer": "ipython3",
   "version": "3.11.8"
  }
 },
 "nbformat": 4,
 "nbformat_minor": 2
}
