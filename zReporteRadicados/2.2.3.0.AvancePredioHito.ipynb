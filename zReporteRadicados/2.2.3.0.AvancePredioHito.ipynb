{
    "cells": [
        {
            "cell_type": "code",
            "execution_count": 1,
            "metadata": {
                "execution": {
                    "iopub.execute_input": "2024-09-06T05:39:48.539299Z",
                    "iopub.status.busy": "2024-09-06T05:39:48.539299Z",
                    "iopub.status.idle": "2024-09-06T05:39:54.388407Z",
                    "shell.execute_reply": "2024-09-06T05:39:54.388407Z"
                }
            },
            "outputs": [],
            "source": [
                "import pandas as pd\n",
                "import os\n",
                "import seaborn as sns\n",
                "import shutil\n",
                "\n",
                "os.environ[\"CRYPTOGRAPHY_OPENSSL_NO_LEGACY\"] = \"yes\"\n",
                "\n",
                "# ? Se usa para generar gráficos\n",
                "import matplotlib.pyplot as plt\n",
                "\n",
                "# ? Se usa para determina la fecha de ejecución del proceso dentro del export de los resultados estadísticos\n",
                "from datetime import datetime\n",
                "\n",
                "# ? Conexión a BD Postgres. Se usa dado que pandas no acepta sino este paquete para la conexión.\n",
                "from sqlalchemy import create_engine, text\n",
                "\n",
                "from datetime  import datetime as dt\n",
                "\n",
                "from arcgis.features import GeoAccessor, GeoSeriesAccessor\n",
                "import arcpy\n",
                "\n",
                "from pathlib import Path\n",
                "\n",
                "# ** Librerías propias\n",
                "import funcion_parametrizacion_variables\n",
                "import funcion_SQL_a_DataFrame\n",
                "import funcion_exportacion_pdf_seriemapas\n",
                "import funcion_copia_googledrive\n",
                "import funcion_hectareaje_general_ui"
            ]
        },
        {
            "cell_type": "code",
            "execution_count": 2,
            "metadata": {
                "execution": {
                    "iopub.execute_input": "2024-09-06T05:39:54.391417Z",
                    "iopub.status.busy": "2024-09-06T05:39:54.391417Z",
                    "iopub.status.idle": "2024-09-06T05:39:54.394434Z",
                    "shell.execute_reply": "2024-09-06T05:39:54.394434Z"
                }
            },
            "outputs": [],
            "source": [
                "\n",
                "resultado = funcion_parametrizacion_variables.parametrizacion_variables()\n",
                "consulta_tRendimientosActualizacion = resultado[2]\n",
                "renombrar_actividades = resultado[4]"
            ]
        },
        {
            "cell_type": "code",
            "execution_count": 3,
            "metadata": {
                "execution": {
                    "iopub.execute_input": "2024-09-06T05:39:54.396442Z",
                    "iopub.status.busy": "2024-09-06T05:39:54.396442Z",
                    "iopub.status.idle": "2024-09-06T05:41:15.920605Z",
                    "shell.execute_reply": "2024-09-06T05:41:15.920605Z"
                }
            },
            "outputs": [
                {
                    "name": "stdout",
                    "output_type": "stream",
                    "text": [
                        "Inicio de la conexión\n",
                        "Conexión exitosa ...\n",
                        "Finaliza Ejecución SQL Radicados Actualización\n"
                    ]
                }
            ],
            "source": [
                "df_consulta_tRendimientosActualizacion = funcion_SQL_a_DataFrame.sql_a_dataframe(consulta_tRendimientosActualizacion)\n",
                "print(f\"Finaliza Ejecución SQL Radicados Actualización\")"
            ]
        },
        {
            "cell_type": "code",
            "execution_count": 4,
            "metadata": {
                "execution": {
                    "iopub.execute_input": "2024-09-06T05:41:15.923637Z",
                    "iopub.status.busy": "2024-09-06T05:41:15.922631Z",
                    "iopub.status.idle": "2024-09-06T05:41:15.928040Z",
                    "shell.execute_reply": "2024-09-06T05:41:15.928040Z"
                }
            },
            "outputs": [],
            "source": [
                "RUTA_CAPA_TERRENOS = r\"C:\\docsProyectos\\5.RAISS\\2024.0.RAISS_Lote_4\\6.Hitos\\E1_Alistamiento_Diagnostico\\3_Disposicion\\1.BD_Consolidada\\BD_Consolidada_Lote4.gdb\\Analitica_UT_Consolidada\\TERRENO_POR_HITO\"\n",
                "\n",
                "estandarizacion_columnas_tRadActualizacion = ['municipio','componente_responsable','radicado','npn','ficha','actividad_actual_tramite','usuario_actual_responsable_tramite','con_plano_cartografico','tipo_terreno']\n",
                "\n",
                "fecha_actual = dt.now()\n",
                "fecha_directorio_w_Rendimiento = str(fecha_actual.strftime(\"%Y%m%d\"))\n",
                "\n",
                "DIRECTORIO_SALIDA_XLSX = r\"C:\\docsProyectos\\5.RAISS\\2024.0.RAISS_Lote_4\\6.Hitos\\E2_Informes_Id_FisicoJuridica\\2_2_2_Rendimientos_Reconocimiento\"\n",
                "NOMBRE_XLSX = fecha_directorio_w_Rendimiento + \"_RendimientoEquipoReconocimiento_BCGS.xlsx\"\n",
                "RUTA_SALIDA_XLSX = os.path.join(DIRECTORIO_SALIDA_XLSX, NOMBRE_XLSX)\n",
                "NOMBRE_HOJA = 'Seguimiento_Avance_NPN_Hito'\n",
                "NOMBRE_HOJA_AVANCE = 'Porcentaje_Contractual_Avance'\n",
                "\n",
                "RUTA_HITO = r\"C:\\docsProyectos\\5.RAISS\\2024.0.RAISS_Lote_4\\6.Hitos\\E2_Informes_Id_FisicoJuridica\\2_2_8_Seguimiento_Avance_Terreno_Hito\\Base_Datos\\2_2_8_SegAvanceTerrenoHito.gdb\"\n",
                "\n",
                "nLayout = 'Seguimiento Avance Predio X Hito'\n",
                "rutaPDF = r\"C:\\docsProyectos\\5.RAISS\\2024.0.RAISS_Lote_4\\6.Hitos\\E2_Informes_Id_FisicoJuridica\\2_2_8_Seguimiento_Avance_Terreno_Hito\\Salida_Grafica\"\n",
                "\n",
                "DIRECTORIO_GLOBAL_LOCAL = r\"C:\\docsProyectos\\5.RAISS\\2024.0.RAISS_Lote_4\\6.Hitos\\E2_Informes_Id_FisicoJuridica\\2_2_8_Seguimiento_Avance_Terreno_Hito\"\n",
                "DIRECTORIO_GLOBAL_DRIVE = r\"G:\\Mi unidad\\Equipo_Consolidacion\\Hitos\\E2_Informes_Id_FisicoJuridica\\2_2_8_Seguimiento_Avance_Terreno_Hito\"\n",
                "\n",
                "ruta_fcUI = r\"C:\\docsProyectos\\5.RAISS\\2024.0.RAISS_Lote_4\\6.Hitos\\O_Apoyo_Construccion_UIntervencion\\UI_Finales\\UI_Finales.gdb\"\n"
            ]
        },
        {
            "cell_type": "code",
            "execution_count": 5,
            "metadata": {
                "execution": {
                    "iopub.execute_input": "2024-09-06T05:41:15.930046Z",
                    "iopub.status.busy": "2024-09-06T05:41:15.930046Z",
                    "iopub.status.idle": "2024-09-06T05:41:17.172738Z",
                    "shell.execute_reply": "2024-09-06T05:41:17.172738Z"
                }
            },
            "outputs": [
                {
                    "name": "stdout",
                    "output_type": "stream",
                    "text": [
                        "Se crea dataset de capa UI_Unificadas\n",
                        "Se exporta C:\\docsProyectos\\5.RAISS\\2024.0.RAISS_Lote_4\\6.Hitos\\O_Apoyo_Construccion_UIntervencion\\UI_Finales\\Estadisticos\\indicadores_base_ui_lote_4.xlsx\n",
                        "FINALIZA PROCESO\n"
                    ]
                }
            ],
            "source": [
                "hito = funcion_hectareaje_general_ui.funcion_hectareaje_general_hito(ruta_fcUI)\n",
                "df_hitos_ut = hito[0]"
            ]
        },
        {
            "cell_type": "code",
            "execution_count": 6,
            "metadata": {
                "execution": {
                    "iopub.execute_input": "2024-09-06T05:41:17.175722Z",
                    "iopub.status.busy": "2024-09-06T05:41:17.175722Z",
                    "iopub.status.idle": "2024-09-06T05:41:17.197148Z",
                    "shell.execute_reply": "2024-09-06T05:41:17.197148Z"
                }
            },
            "outputs": [],
            "source": [
                "\n",
                "# # ? Parametrización Actualización Atendiendo\n",
                "for columna in df_consulta_tRendimientosActualizacion.columns:\n",
                "    if columna == 'actividad_actual_tramite':\n",
                "        for llave, valor in renombrar_actividades.items():\n",
                "            df_consulta_tRendimientosActualizacion.loc[df_consulta_tRendimientosActualizacion[columna]==llave, columna] = valor\n",
                "\n",
                "df_consulta_tRadicados_Actualizacion = df_consulta_tRendimientosActualizacion[estandarizacion_columnas_tRadActualizacion]"
            ]
        },
        {
            "cell_type": "code",
            "execution_count": 7,
            "metadata": {
                "execution": {
                    "iopub.execute_input": "2024-09-06T05:41:17.199155Z",
                    "iopub.status.busy": "2024-09-06T05:41:17.199155Z",
                    "iopub.status.idle": "2024-09-06T05:41:21.888139Z",
                    "shell.execute_reply": "2024-09-06T05:41:21.888139Z"
                }
            },
            "outputs": [],
            "source": [
                "\n",
                "df_terrenos = pd.DataFrame.spatial.from_featureclass(RUTA_CAPA_TERRENOS)"
            ]
        },
        {
            "cell_type": "code",
            "execution_count": 8,
            "metadata": {
                "execution": {
                    "iopub.execute_input": "2024-09-06T05:41:21.891145Z",
                    "iopub.status.busy": "2024-09-06T05:41:21.891145Z",
                    "iopub.status.idle": "2024-09-06T05:41:22.040556Z",
                    "shell.execute_reply": "2024-09-06T05:41:22.040556Z"
                }
            },
            "outputs": [],
            "source": [
                "df_seguimiento_avance_X_hito = pd.merge(left=df_terrenos,\n",
                "    right=df_consulta_tRendimientosActualizacion,\n",
                "    left_on='codigo',\n",
                "    right_on='npn',\n",
                "    how='left')\n",
                "\n",
                "df_seguimiento_avance_X_hito\n",
                "\n",
                "df_seguimiento_avance_X_hito = df_seguimiento_avance_X_hito.copy()\n",
                "\n",
                "df_seguimiento_avance_X_hito['En_Sistema_BCGS'] = None\n",
                "\n",
                "df_seguimiento_avance_X_hito.loc[df_seguimiento_avance_X_hito['radicado'].notnull(), 'En_Sistema_BCGS'] = 'SI'\n",
                "df_seguimiento_avance_X_hito.loc[df_seguimiento_avance_X_hito['radicado'].isnull(), 'En_Sistema_BCGS'] = 'NO'\n",
                "\n",
                "estandarizacion_columnas_seguimiento_avance_sin_GEO = ['codigo','id_ui','meta_hito','area_ha_cmt12','En_Sistema_BCGS','radicado','actividad_actual_tramite','tipo_terreno']\n",
                "estandarizacion_columnas_seguimiento_avance_con_GEO = ['codigo','id_ui','meta_hito','area_ha_cmt12','En_Sistema_BCGS','radicado','actividad_actual_tramite','tipo_terreno','SHAPE']\n",
                "\n",
                "df_seguimiento_avance_X_hito_sin_Geo = df_seguimiento_avance_X_hito[estandarizacion_columnas_seguimiento_avance_sin_GEO]\n",
                "df_seguimiento_avance_X_hito_con_Geo = df_seguimiento_avance_X_hito[estandarizacion_columnas_seguimiento_avance_con_GEO]"
            ]
        },
        {
            "cell_type": "code",
            "execution_count": 9,
            "metadata": {
                "execution": {
                    "iopub.execute_input": "2024-09-06T05:41:22.043622Z",
                    "iopub.status.busy": "2024-09-06T05:41:22.042615Z",
                    "iopub.status.idle": "2024-09-06T05:41:22.070408Z",
                    "shell.execute_reply": "2024-09-06T05:41:22.070105Z"
                }
            },
            "outputs": [
                {
                    "data": {
                        "text/html": [
                            "<div>\n",
                            "<style scoped>\n",
                            "    .dataframe tbody tr th:only-of-type {\n",
                            "        vertical-align: middle;\n",
                            "    }\n",
                            "\n",
                            "    .dataframe tbody tr th {\n",
                            "        vertical-align: top;\n",
                            "    }\n",
                            "\n",
                            "    .dataframe thead th {\n",
                            "        text-align: right;\n",
                            "    }\n",
                            "</style>\n",
                            "<table border=\"1\" class=\"dataframe\">\n",
                            "  <thead>\n",
                            "    <tr style=\"text-align: right;\">\n",
                            "      <th></th>\n",
                            "      <th>Hito</th>\n",
                            "      <th>Area_Avance_X_Hito_CargaEnBCGS</th>\n",
                            "    </tr>\n",
                            "  </thead>\n",
                            "  <tbody>\n",
                            "    <tr>\n",
                            "      <th>0</th>\n",
                            "      <td>Hito 2</td>\n",
                            "      <td>13506.042</td>\n",
                            "    </tr>\n",
                            "    <tr>\n",
                            "      <th>1</th>\n",
                            "      <td>Hito 3</td>\n",
                            "      <td>37185.888</td>\n",
                            "    </tr>\n",
                            "    <tr>\n",
                            "      <th>2</th>\n",
                            "      <td>Hito 4</td>\n",
                            "      <td>45995.819</td>\n",
                            "    </tr>\n",
                            "    <tr>\n",
                            "      <th>3</th>\n",
                            "      <td>Hito 5</td>\n",
                            "      <td>45995.819</td>\n",
                            "    </tr>\n",
                            "  </tbody>\n",
                            "</table>\n",
                            "</div>"
                        ],
                        "text/plain": [
                            "     Hito  Area_Avance_X_Hito_CargaEnBCGS\n",
                            "0  Hito 2                       13506.042\n",
                            "1  Hito 3                       37185.888\n",
                            "2  Hito 4                       45995.819\n",
                            "3  Hito 5                       45995.819"
                        ]
                    },
                    "execution_count": 9,
                    "metadata": {},
                    "output_type": "execute_result"
                }
            ],
            "source": [
                "\n",
                "df_hitos_ut_contrato = df_hitos_ut[['Hito','Area_Ha_Contractual']]\n",
                "\n",
                "df_seguimiento_avance_X_hito_enBCGS = df_seguimiento_avance_X_hito_sin_Geo[df_seguimiento_avance_X_hito_sin_Geo['En_Sistema_BCGS'] =='SI']\n",
                "df_seguimiento_avance_X_hito_enBCGS_Statics = pd.DataFrame(df_seguimiento_avance_X_hito_enBCGS.groupby(['meta_hito'])['area_ha_cmt12'].sum()).reset_index()\n",
                "df_seguimiento_avance_X_hito_enBCGS_Statics['area_ha_cmt12'] = df_seguimiento_avance_X_hito_enBCGS_Statics['area_ha_cmt12'].round(3)\n",
                "\n",
                "df_seguimiento_avance_X_hito_enBCGS_Statics_H2 = df_seguimiento_avance_X_hito_enBCGS_Statics[df_seguimiento_avance_X_hito_enBCGS_Statics['meta_hito']=='Hito 2']\n",
                "HITO_2 = df_seguimiento_avance_X_hito_enBCGS_Statics_H2['area_ha_cmt12'].sum().round(3)\n",
                "\n",
                "df_seguimiento_avance_X_hito_enBCGS_Statics_H2_H3 = df_seguimiento_avance_X_hito_enBCGS_Statics[(df_seguimiento_avance_X_hito_enBCGS_Statics['meta_hito']=='Hito 2') |\n",
                "    (df_seguimiento_avance_X_hito_enBCGS_Statics['meta_hito']=='Hito 3')]\n",
                "HITO2_HITO3 = df_seguimiento_avance_X_hito_enBCGS_Statics_H2_H3['area_ha_cmt12'].sum().round(3)\n",
                "\n",
                "df_seguimiento_avance_X_hito_enBCGS_Statics_H2_H3_H4 = df_seguimiento_avance_X_hito_enBCGS_Statics[(df_seguimiento_avance_X_hito_enBCGS_Statics['meta_hito']=='Hito 2') |\n",
                "    (df_seguimiento_avance_X_hito_enBCGS_Statics['meta_hito']=='Hito 3') |\n",
                "    (df_seguimiento_avance_X_hito_enBCGS_Statics['meta_hito']=='Hito 4')]\n",
                "HITO2_HITO3_HITO4 = df_seguimiento_avance_X_hito_enBCGS_Statics_H2_H3_H4['area_ha_cmt12'].sum().round(3)\n",
                "\n",
                "df_seguimiento_avance_X_hito_enBCGS_Statics_H2_H3_H4_H5 = df_seguimiento_avance_X_hito_enBCGS_Statics[(df_seguimiento_avance_X_hito_enBCGS_Statics['meta_hito']=='Hito 2') |\n",
                "    (df_seguimiento_avance_X_hito_enBCGS_Statics['meta_hito']=='Hito 3') |\n",
                "    (df_seguimiento_avance_X_hito_enBCGS_Statics['meta_hito']=='Hito 4') |\n",
                "    (df_seguimiento_avance_X_hito_enBCGS_Statics['meta_hito']=='Hito 5') ]\n",
                "HITO2_HITO3_HITO4_HITO5 = df_seguimiento_avance_X_hito_enBCGS_Statics_H2_H3_H4_H5['area_ha_cmt12'].sum().round(3)\n",
                "\n",
                "\n",
                "dict_avance_porcentual = {'Hito 2':HITO_2,\n",
                "    'Hito 3':HITO2_HITO3,\n",
                "    'Hito 4':HITO2_HITO3_HITO4,\n",
                "    'Hito 5':HITO2_HITO3_HITO4_HITO5\n",
                "    }\n",
                "\n",
                "renombrar_columnas = {'index':'Hito',\n",
                "    0:'Area_Avance_X_Hito_CargaEnBCGS'}\n",
                "\n",
                "df_avance_porcentual_BCGS = pd.DataFrame.from_dict(dict_avance_porcentual, orient='index').reset_index().rename(columns=renombrar_columnas)\n",
                "\n",
                "df_avance_porcentual_BCGS"
            ]
        },
        {
            "cell_type": "code",
            "execution_count": 10,
            "metadata": {
                "execution": {
                    "iopub.execute_input": "2024-09-06T05:41:22.072934Z",
                    "iopub.status.busy": "2024-09-06T05:41:22.072934Z",
                    "iopub.status.idle": "2024-09-06T05:41:22.078704Z",
                    "shell.execute_reply": "2024-09-06T05:41:22.078704Z"
                }
            },
            "outputs": [],
            "source": [
                "df_avance_por_hContractual = pd.merge(left=df_hitos_ut_contrato,\n",
                "    right=df_avance_porcentual_BCGS,\n",
                "    on='Hito',\n",
                "    how='left')\n",
                "\n",
                "df_avance_por_hContractual['%_Avance'] = ((df_avance_por_hContractual['Area_Avance_X_Hito_CargaEnBCGS']/df_avance_por_hContractual['Area_Ha_Contractual'])*100).round(1)"
            ]
        },
        {
            "cell_type": "code",
            "execution_count": 11,
            "metadata": {
                "execution": {
                    "iopub.execute_input": "2024-09-06T05:41:22.081710Z",
                    "iopub.status.busy": "2024-09-06T05:41:22.080711Z",
                    "iopub.status.idle": "2024-09-06T05:41:35.846890Z",
                    "shell.execute_reply": "2024-09-06T05:41:35.846890Z"
                }
            },
            "outputs": [],
            "source": [
                "with pd.ExcelWriter(RUTA_SALIDA_XLSX, engine='openpyxl', mode='a', if_sheet_exists='replace') as writer:\n",
                "    df_seguimiento_avance_X_hito_sin_Geo.to_excel(writer, sheet_name=NOMBRE_HOJA, index=False)\n",
                "    df_avance_por_hContractual.to_excel(writer, sheet_name=NOMBRE_HOJA_AVANCE, index=False)"
            ]
        },
        {
            "cell_type": "code",
            "execution_count": 12,
            "metadata": {
                "execution": {
                    "iopub.execute_input": "2024-09-06T05:41:35.849895Z",
                    "iopub.status.busy": "2024-09-06T05:41:35.848895Z",
                    "iopub.status.idle": "2024-09-06T05:42:57.750581Z",
                    "shell.execute_reply": "2024-09-06T05:42:57.750581Z"
                }
            },
            "outputs": [
                {
                    "name": "stderr",
                    "output_type": "stream",
                    "text": [
                        "C:\\docsProyectos\\ENTORNOS\\UT\\Lib\\site-packages\\arcgis\\features\\geo\\_accessor.py:1531: SettingWithCopyWarning: \n",
                        "A value is trying to be set on a copy of a slice from a DataFrame.\n",
                        "Try using .loc[row_indexer,col_indexer] = value instead\n",
                        "\n",
                        "See the caveats in the documentation: https://pandas.pydata.org/pandas-docs/stable/user_guide/indexing.html#returning-a-view-versus-a-copy\n",
                        "  self._data[col] = array\n"
                    ]
                },
                {
                    "name": "stdout",
                    "output_type": "stream",
                    "text": [
                        "Se genera la capa C:\\docsProyectos\\5.RAISS\\2024.0.RAISS_Lote_4\\6.Hitos\\E2_Informes_Id_FisicoJuridica\\2_2_8_Seguimiento_Avance_Terreno_Hito\\Base_Datos\\2_2_8_SegAvanceTerrenoHito.gdb\\Seguimiento_Avance_NPN_Hito\n"
                    ]
                }
            ],
            "source": [
                "ruta_salida_seguimiento_geo = os.path.join(RUTA_HITO, NOMBRE_HOJA)\n",
                "df_seguimiento_avance_X_hito_con_Geo.spatial.to_featureclass(location=ruta_salida_seguimiento_geo)\n",
                "print(f\"Se genera la capa {ruta_salida_seguimiento_geo}\")"
            ]
        },
        {
            "cell_type": "code",
            "execution_count": 13,
            "metadata": {
                "execution": {
                    "iopub.execute_input": "2024-09-06T05:42:57.753671Z",
                    "iopub.status.busy": "2024-09-06T05:42:57.753671Z",
                    "iopub.status.idle": "2024-09-06T05:43:23.171810Z",
                    "shell.execute_reply": "2024-09-06T05:43:23.171810Z"
                }
            },
            "outputs": [
                {
                    "name": "stdout",
                    "output_type": "stream",
                    "text": [
                        "Nombre Layout: Seguimiento Avance Predio X Hito\n",
                        "Se exporta a PDF Seguimiento Avance Predio X Hito\n"
                    ]
                }
            ],
            "source": [
                "funcion_exportacion_pdf_seriemapas.exportacion_salida_grafica(nLayout, rutaPDF)"
            ]
        },
        {
            "cell_type": "code",
            "execution_count": 14,
            "metadata": {
                "execution": {
                    "iopub.execute_input": "2024-09-06T05:43:23.174892Z",
                    "iopub.status.busy": "2024-09-06T05:43:23.174892Z",
                    "iopub.status.idle": "2024-09-06T05:43:36.570836Z",
                    "shell.execute_reply": "2024-09-06T05:43:36.569830Z"
                }
            },
            "outputs": [
                {
                    "name": "stdout",
                    "output_type": "stream",
                    "text": [
                        "Se copia BD 2_2_8_SegAvanceTerrenoHito.gdb\n",
                        "Se copia archivo PDF 20240717_María La Baja.pdf\n",
                        "Se copia archivo PDF 20240717_Repelón.pdf\n",
                        "Se copia archivo PDF 20240718_María La Baja.pdf\n",
                        "Se copia archivo PDF 20240718_Repelón.pdf\n",
                        "Se copia archivo PDF 20240719_María La Baja.pdf\n",
                        "Se copia archivo PDF 20240719_Repelón.pdf\n",
                        "Se copia archivo PDF 20240722_María La Baja.pdf\n",
                        "Se copia archivo PDF 20240722_Repelón.pdf\n",
                        "Se copia archivo PDF 20240723_María La Baja.pdf\n",
                        "Se copia archivo PDF 20240723_Repelón.pdf\n",
                        "Se copia archivo PDF 20240724_María La Baja.pdf\n",
                        "Se copia archivo PDF 20240724_Repelón.pdf\n",
                        "Se copia archivo PDF 20240725_María La Baja.pdf\n",
                        "Se copia archivo PDF 20240725_Repelón.pdf\n",
                        "Se copia archivo PDF 20240726_María La Baja.pdf\n",
                        "Se copia archivo PDF 20240726_Repelón.pdf\n",
                        "Se copia archivo PDF 20240727_María La Baja.pdf\n",
                        "Se copia archivo PDF 20240727_Repelón.pdf\n",
                        "Se copia archivo PDF 20240729_María La Baja.pdf\n",
                        "Se copia archivo PDF 20240729_Repelón.pdf\n",
                        "Se copia archivo PDF 20240730_María La Baja.pdf\n",
                        "Se copia archivo PDF 20240730_Repelón.pdf\n",
                        "Se copia archivo PDF 20240731_María La Baja.pdf\n",
                        "Se copia archivo PDF 20240731_Repelón.pdf\n",
                        "Se copia archivo PDF 20240801_María La Baja.pdf\n",
                        "Se copia archivo PDF 20240801_Repelón.pdf\n",
                        "Se copia archivo PDF 20240802_María La Baja.pdf\n",
                        "Se copia archivo PDF 20240802_Repelón.pdf\n",
                        "Se copia archivo PDF 20240804_María La Baja.pdf\n",
                        "Se copia archivo PDF 20240804_Repelón.pdf\n",
                        "Se copia archivo PDF 20240805_María La Baja.pdf\n",
                        "Se copia archivo PDF 20240805_Repelón.pdf\n",
                        "Se copia archivo PDF 20240806_María La Baja.pdf\n",
                        "Se copia archivo PDF 20240806_Repelón.pdf\n",
                        "Se copia archivo PDF 20240807_María La Baja.pdf\n",
                        "Se copia archivo PDF 20240807_Repelón.pdf\n",
                        "Se copia archivo PDF 20240808_María La Baja.pdf\n",
                        "Se copia archivo PDF 20240808_Repelón.pdf\n",
                        "Se copia archivo PDF 20240809_María La Baja.pdf\n",
                        "Se copia archivo PDF 20240809_Repelón.pdf\n",
                        "Se copia archivo PDF 20240810_María La Baja.pdf\n",
                        "Se copia archivo PDF 20240810_Repelón.pdf\n",
                        "Se copia archivo PDF 20240811_María La Baja.pdf\n",
                        "Se copia archivo PDF 20240811_Repelón.pdf\n",
                        "Se copia archivo PDF 20240812_María La Baja.pdf\n",
                        "Se copia archivo PDF 20240812_Repelón.pdf\n",
                        "Se copia archivo PDF 20240813_María La Baja.pdf\n",
                        "Se copia archivo PDF 20240813_Repelón.pdf\n",
                        "Se copia archivo PDF 20240814_María La Baja.pdf\n",
                        "Se copia archivo PDF 20240814_Repelón.pdf\n",
                        "Se copia archivo PDF 20240815_María La Baja.pdf\n",
                        "Se copia archivo PDF 20240815_Repelón.pdf\n",
                        "Se copia archivo PDF 20240816_María La Baja.pdf\n",
                        "Se copia archivo PDF 20240816_Repelón.pdf\n",
                        "Se copia archivo PDF 20240817_María La Baja.pdf\n",
                        "Se copia archivo PDF 20240817_Repelón.pdf\n",
                        "Se copia archivo PDF 20240818_María La Baja.pdf\n",
                        "Se copia archivo PDF 20240818_Repelón.pdf\n",
                        "Se copia archivo PDF 20240819_María La Baja.pdf\n",
                        "Se copia archivo PDF 20240819_Repelón.pdf\n",
                        "Se copia archivo PDF 20240820_María La Baja.pdf\n",
                        "Se copia archivo PDF 20240820_Repelón.pdf\n",
                        "Se copia archivo PDF 20240821_María La Baja.pdf\n",
                        "Se copia archivo PDF 20240821_Repelón.pdf\n",
                        "Se copia archivo PDF 20240822_María La Baja.pdf\n",
                        "Se copia archivo PDF 20240822_Repelón.pdf\n",
                        "Se copia archivo PDF 20240823_María La Baja.pdf\n",
                        "Se copia archivo PDF 20240823_Repelón.pdf\n",
                        "Se copia archivo PDF 20240824_María La Baja.pdf\n",
                        "Se copia archivo PDF 20240824_Repelón.pdf\n",
                        "Se copia archivo PDF 20240825_María La Baja.pdf\n",
                        "Se copia archivo PDF 20240825_Repelón.pdf\n",
                        "Se copia archivo PDF 20240826_María La Baja.pdf\n",
                        "Se copia archivo PDF 20240826_Repelón.pdf\n",
                        "Se copia archivo PDF 20240827_María La Baja.pdf\n",
                        "Se copia archivo PDF 20240827_Repelón.pdf\n",
                        "Se copia archivo PDF 20240828_María La Baja.pdf\n",
                        "Se copia archivo PDF 20240828_Repelón.pdf\n",
                        "Se copia archivo PDF 20240829_María La Baja.pdf\n",
                        "Se copia archivo PDF 20240829_Repelón.pdf\n",
                        "Se copia archivo PDF 20240830_María La Baja.pdf\n",
                        "Se copia archivo PDF 20240830_Repelón.pdf\n",
                        "Se copia archivo PDF 20240831_María La Baja.pdf\n",
                        "Se copia archivo PDF 20240831_Repelón.pdf\n",
                        "Se copia archivo PDF 20240901_María La Baja.pdf\n",
                        "Se copia archivo PDF 20240901_Repelón.pdf\n",
                        "Se copia archivo PDF 20240902_María La Baja.pdf\n",
                        "Se copia archivo PDF 20240902_Repelón.pdf\n",
                        "Se copia archivo PDF 20240903_María La Baja.pdf\n",
                        "Se copia archivo PDF 20240903_Repelón.pdf\n",
                        "Se copia archivo PDF 20240904_María La Baja.pdf\n",
                        "Se copia archivo PDF 20240904_Repelón.pdf\n",
                        "Se copia archivo PDF 20240905_María La Baja.pdf\n",
                        "Se copia archivo PDF 20240905_Repelón.pdf\n",
                        "Se copia archivo PDF 20240906_María La Baja.pdf\n",
                        "Se copia archivo PDF 20240906_Repelón.pdf\n"
                    ]
                }
            ],
            "source": [
                "funcion_copia_googledrive.migracion_googledrive(DIRECTORIO_GLOBAL_LOCAL, DIRECTORIO_GLOBAL_DRIVE)"
            ]
        }
    ],
    "metadata": {
        "kernelspec": {
            "display_name": "Python 3",
            "language": "python",
            "name": "python3"
        },
        "language_info": {
            "codemirror_mode": {
                "name": "ipython",
                "version": 3
            },
            "file_extension": ".py",
            "mimetype": "text/x-python",
            "name": "python",
            "nbconvert_exporter": "python",
            "pygments_lexer": "ipython3",
            "version": "3.11.8"
        }
    },
    "nbformat": 4,
    "nbformat_minor": 2
}