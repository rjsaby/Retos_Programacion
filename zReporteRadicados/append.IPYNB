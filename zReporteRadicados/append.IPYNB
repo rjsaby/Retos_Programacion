{
 "cells": [
  {
   "cell_type": "code",
   "execution_count": 116,
   "metadata": {},
   "outputs": [],
   "source": [
    "import arcpy, os"
   ]
  },
  {
   "cell_type": "code",
   "execution_count": 117,
   "metadata": {},
   "outputs": [],
   "source": [
    "RUTA_BD_LOCAL = r\"C:\\docsProyectos\\5.RAISS\\2024.0.RAISS_Lote_4\\6.Hitos\\E2_Informes_Id_FisicoJuirica\\2_2_0_Identificacion_Predial_Total_Ha_Actualizadas\\Base_Datos\\_2_2_0.gdb\"\n",
    "\n",
    "arcpy.env.workspace = RUTA_BD_LOCAL"
   ]
  },
  {
   "cell_type": "code",
   "execution_count": 118,
   "metadata": {},
   "outputs": [
    {
     "name": "stdout",
     "output_type": "stream",
     "text": [
      "Se migran TERRENOS_RECONOCIMIENTO_TRAMITES_ATENCION_SHEET_MARIA_LA_BAJA_FORMAL - TERRENOS_RECONOCIMIENTO_TRAMITES_ATENCION_SHEET_REPELON_FORMAL a TERRENOS_RECONOCIMIENTO_TRAMITES_ATENCION_SHEET_FORMAL\n",
      "Se migran TERRENOS_RECONOCIMIENTO_TRAMITES_ATENCION_SHEET_MARIA_LA_BAJA_INFORMAL - TERRENOS_RECONOCIMIENTO_TRAMITES_ATENCION_SHEET_REPELON_INFORMAL a TERRENOS_RECONOCIMIENTO_TRAMITES_ATENCION_SHEET_INFORMAL\n"
     ]
    }
   ],
   "source": [
    "\n",
    "dict_capas_input_target = {1:['TERRENOS_RECONOCIMIENTO_TRAMITES_ATENCION_SHEET_FORMAL',\n",
    "    'TERRENOS_RECONOCIMIENTO_TRAMITES_ATENCION_SHEET_MARIA_LA_BAJA_FORMAL', \n",
    "    'TERRENOS_RECONOCIMIENTO_TRAMITES_ATENCION_SHEET_REPELON_FORMAL'],\n",
    "    2:['TERRENOS_RECONOCIMIENTO_TRAMITES_ATENCION_SHEET_INFORMAL',\n",
    "    'TERRENOS_RECONOCIMIENTO_TRAMITES_ATENCION_SHEET_MARIA_LA_BAJA_INFORMAL', \n",
    "    'TERRENOS_RECONOCIMIENTO_TRAMITES_ATENCION_SHEET_REPELON_INFORMAL'],\n",
    "}\n",
    "\n",
    "for capa in arcpy.ListFeatureClasses():\n",
    "    for llave, valor in dict_capas_input_target.items():\n",
    "        if capa == valor[0]:\n",
    "            arcpy.TruncateTable_management(capa)\n",
    "\n",
    "for capa in arcpy.ListFeatureClasses():\n",
    "    for llave, valor in dict_capas_input_target.items():\n",
    "        if capa == valor[0]:\n",
    "            arcpy.Append_management(inputs=[os.path.join(arcpy.env.workspace, valor[1]), os.path.join(arcpy.env.workspace, valor[2])], target=capa, schema_type='TEST')\n",
    "            print(f\"Se migran {valor[1]} - {valor[2]} a {capa}\")"
   ]
  }
 ],
 "metadata": {
  "kernelspec": {
   "display_name": "Python 3",
   "language": "python",
   "name": "python3"
  },
  "language_info": {
   "codemirror_mode": {
    "name": "ipython",
    "version": 3
   },
   "file_extension": ".py",
   "mimetype": "text/x-python",
   "name": "python",
   "nbconvert_exporter": "python",
   "pygments_lexer": "ipython3",
   "version": "3.11.8"
  }
 },
 "nbformat": 4,
 "nbformat_minor": 2
}
