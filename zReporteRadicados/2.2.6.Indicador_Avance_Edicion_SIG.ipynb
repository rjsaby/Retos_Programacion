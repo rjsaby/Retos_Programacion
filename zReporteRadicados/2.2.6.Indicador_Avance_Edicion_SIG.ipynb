{
 "cells": [
  {
   "cell_type": "code",
   "execution_count": 1,
   "metadata": {
    "execution": {
     "iopub.execute_input": "2024-09-05T21:16:35.956874Z",
     "iopub.status.busy": "2024-09-05T21:16:35.956874Z",
     "iopub.status.idle": "2024-09-05T21:16:41.905570Z",
     "shell.execute_reply": "2024-09-05T21:16:41.905570Z"
    }
   },
   "outputs": [],
   "source": [
    "import funcion_edicion_sig_x_municipio\n",
    "import funcion_append_avance_edicion_gis\n",
    "import funcion_xlsx_avance_edicion_gis\n",
    "import funcion_exportacion_pdf_seriemapas\n",
    "\n",
    "import shutil, os\n",
    "from datetime  import datetime as dt"
   ]
  },
  {
   "cell_type": "markdown",
   "metadata": {},
   "source": [
    "<h3>Parametrización de Variables</h3>"
   ]
  },
  {
   "cell_type": "code",
   "execution_count": 2,
   "metadata": {
    "execution": {
     "iopub.execute_input": "2024-09-05T21:16:41.908575Z",
     "iopub.status.busy": "2024-09-05T21:16:41.908575Z",
     "iopub.status.idle": "2024-09-05T21:16:41.912379Z",
     "shell.execute_reply": "2024-09-05T21:16:41.912379Z"
    }
   },
   "outputs": [],
   "source": [
    "\n",
    "ruta_2_2_6 = r\"C:\\docsProyectos\\5.RAISS\\2024.0.RAISS_Lote_4\\6.Hitos\\E2_Informes_Id_FisicoJuridica\\2_2_6_Indicador_Edicion_Geografica\\Base_Datos\\2_2_6.gdb\"\n",
    "\n",
    "sheet_name_R = 'CONTROL_CAMBIOS_REPELON'\n",
    "sheet_id_R = '1T3B-Cnkje56tDg8xJ9BirIit57EmcPCu2m9BHanDPgo'\n",
    "municipio_R = 'Repelon'\n",
    "\n",
    "sheet_name_M = 'CONTROL_CAMBIOS_MARIALABAJA'\n",
    "sheet_id_M = '1n_t9qtwLeIklH5UFoH9iDPiAa6uN4HZeR1-atsKTYeU'\n",
    "municipio_M = 'MariaLaBaja'\n",
    "\n",
    "sheet_name_B = 'CONTROL_CAMBIOS_BARANOA'\n",
    "sheet_id_B = '1YgXN5RrBAEMXcBou894_LJi7tXjj1R8LPT0AJ0VWme4'\n",
    "municipio_B = 'Baranoa'\n",
    "\n",
    "sheet_name_S = 'CONTROL_CAMBIOS_SABANA_GRANDE'\n",
    "sheet_id_S = '1E_eSRnvJvgns4tCEx5dAFD_NHrzlyQrE2NUNEjFWo5w'\n",
    "municipio_S = 'Sabanagrande'\n",
    "\n",
    "# TODO: Copia de Salidas Gráficas\n",
    "RUTA_ORIGEN = r\"C:\\docsProyectos\\5.RAISS\\2024.0.RAISS_Lote_4\\6.Hitos\\E2_Informes_Id_FisicoJuridica\\2_2_6_Indicador_Edicion_Geografica\\Salidas_Graficas\"\n",
    "RUTA_DESTINO = r\"G:\\Mi unidad\\Equipo_Consolidacion\\Hitos\\E2_Informes_Id_FisicoJuridica\\2_2_6_Indicador_Edicion_Geografica\\Salidas_Graficas\""
   ]
  },
  {
   "cell_type": "code",
   "execution_count": 3,
   "metadata": {
    "execution": {
     "iopub.execute_input": "2024-09-05T21:16:41.914384Z",
     "iopub.status.busy": "2024-09-05T21:16:41.914384Z",
     "iopub.status.idle": "2024-09-05T21:16:57.805610Z",
     "shell.execute_reply": "2024-09-05T21:16:57.804601Z"
    }
   },
   "outputs": [
    {
     "name": "stdout",
     "output_type": "stream",
     "text": [
      "Registros NO espacializados: 0\n",
      "Se genera FC asociado a terrenos editados, para el municipio MariaLaBaja\n",
      "Se genera el excel para el municipio de MariaLaBaja\n",
      "1. Finaliza MariaLaBaja\n"
     ]
    }
   ],
   "source": [
    "funcion_edicion_sig_x_municipio.edicion_sig_municipio(sheet_name_M,sheet_id_M,municipio_M)\n",
    "print(f\"1. Finaliza {municipio_M}\")"
   ]
  },
  {
   "cell_type": "code",
   "execution_count": 4,
   "metadata": {
    "execution": {
     "iopub.execute_input": "2024-09-05T21:16:57.807611Z",
     "iopub.status.busy": "2024-09-05T21:16:57.807611Z",
     "iopub.status.idle": "2024-09-05T21:17:07.288288Z",
     "shell.execute_reply": "2024-09-05T21:17:07.288288Z"
    }
   },
   "outputs": [
    {
     "name": "stdout",
     "output_type": "stream",
     "text": [
      "Registros NO espacializados: 1\n",
      "Se genera FC asociado a terrenos editados, para el municipio Repelon\n",
      "Se genera el excel para el municipio de Repelon\n",
      "2. Finaliza Repelon\n"
     ]
    }
   ],
   "source": [
    "\n",
    "funcion_edicion_sig_x_municipio.edicion_sig_municipio(sheet_name_R,sheet_id_R,municipio_R)\n",
    "print(f\"2. Finaliza {municipio_R}\")"
   ]
  },
  {
   "cell_type": "code",
   "execution_count": 5,
   "metadata": {
    "execution": {
     "iopub.execute_input": "2024-09-05T21:17:07.291297Z",
     "iopub.status.busy": "2024-09-05T21:17:07.291297Z",
     "iopub.status.idle": "2024-09-05T21:17:19.251529Z",
     "shell.execute_reply": "2024-09-05T21:17:19.251529Z"
    }
   },
   "outputs": [
    {
     "name": "stdout",
     "output_type": "stream",
     "text": [
      "Registros NO espacializados: 0\n",
      "Se genera FC asociado a terrenos editados, para el municipio Baranoa\n",
      "Se genera el excel para el municipio de Baranoa\n",
      "3. Finaliza Baranoa\n"
     ]
    }
   ],
   "source": [
    "\n",
    "funcion_edicion_sig_x_municipio.edicion_sig_municipio(sheet_name_B,sheet_id_B,municipio_B)\n",
    "print(f\"3. Finaliza {municipio_B}\")"
   ]
  },
  {
   "cell_type": "code",
   "execution_count": 6,
   "metadata": {
    "execution": {
     "iopub.execute_input": "2024-09-05T21:17:19.254535Z",
     "iopub.status.busy": "2024-09-05T21:17:19.253535Z",
     "iopub.status.idle": "2024-09-05T21:17:28.281509Z",
     "shell.execute_reply": "2024-09-05T21:17:28.281509Z"
    }
   },
   "outputs": [
    {
     "name": "stdout",
     "output_type": "stream",
     "text": [
      "Registros NO espacializados: 0\n",
      "Se genera FC asociado a terrenos editados, para el municipio Sabanagrande\n",
      "Se genera el excel para el municipio de Sabanagrande\n",
      "3. Finaliza Sabanagrande\n"
     ]
    }
   ],
   "source": [
    "funcion_edicion_sig_x_municipio.edicion_sig_municipio(sheet_name_S,sheet_id_S,municipio_S)\n",
    "print(f\"3. Finaliza {municipio_S}\")"
   ]
  },
  {
   "cell_type": "markdown",
   "metadata": {},
   "source": [
    "<h3>Construcción de Estadísticos XLSX</h3>"
   ]
  },
  {
   "cell_type": "code",
   "execution_count": 7,
   "metadata": {
    "execution": {
     "iopub.execute_input": "2024-09-05T21:17:28.284515Z",
     "iopub.status.busy": "2024-09-05T21:17:28.284515Z",
     "iopub.status.idle": "2024-09-05T21:17:43.194113Z",
     "shell.execute_reply": "2024-09-05T21:17:43.194113Z"
    }
   },
   "outputs": [
    {
     "name": "stdout",
     "output_type": "stream",
     "text": [
      "Se genera XLSX 20240905_avance_edicios_GIS.xlsx\n",
      "Se copia a Google Drive\n"
     ]
    }
   ],
   "source": [
    "funcion_xlsx_avance_edicion_gis.xlsx_avance_edicion_gis()"
   ]
  },
  {
   "cell_type": "markdown",
   "metadata": {},
   "source": [
    "<h3>Ejecución Unión Avance GEO</h3>"
   ]
  },
  {
   "cell_type": "code",
   "execution_count": 8,
   "metadata": {
    "execution": {
     "iopub.execute_input": "2024-09-05T21:17:43.197119Z",
     "iopub.status.busy": "2024-09-05T21:17:43.197119Z",
     "iopub.status.idle": "2024-09-05T21:17:45.118169Z",
     "shell.execute_reply": "2024-09-05T21:17:45.118169Z"
    }
   },
   "outputs": [
    {
     "name": "stdout",
     "output_type": "stream",
     "text": [
      "* Se completa el truncado de las tabla objetivo: terrenos_editados\n",
      "1. Se completa el truncado de las tablas objetivo\n",
      "2. Se anexan capas a BD\n"
     ]
    }
   ],
   "source": [
    "funcion_append_avance_edicion_gis.append_terrenos_avance_edicion_gis(ruta_2_2_6)"
   ]
  },
  {
   "cell_type": "markdown",
   "metadata": {},
   "source": [
    "<h3>Generación Salida Gráfica</h3>"
   ]
  },
  {
   "cell_type": "code",
   "execution_count": 9,
   "metadata": {
    "execution": {
     "iopub.execute_input": "2024-09-05T21:17:45.121174Z",
     "iopub.status.busy": "2024-09-05T21:17:45.120176Z",
     "iopub.status.idle": "2024-09-05T21:18:21.946582Z",
     "shell.execute_reply": "2024-09-05T21:18:21.946582Z"
    }
   },
   "outputs": [
    {
     "name": "stdout",
     "output_type": "stream",
     "text": [
      "Nombre Layout: Gestión Cambios - Equipo SIG\n",
      "Se exporta a PDF Gestión Cambios - Equipo SIG\n"
     ]
    }
   ],
   "source": [
    "funcion_exportacion_pdf_seriemapas.exportacion_salida_grafica('Gestión Cambios - Equipo SIG', RUTA_ORIGEN)"
   ]
  },
  {
   "cell_type": "markdown",
   "metadata": {},
   "source": [
    "<h4> - Se copia a Google Drive</h4>"
   ]
  },
  {
   "cell_type": "code",
   "execution_count": 10,
   "metadata": {
    "execution": {
     "iopub.execute_input": "2024-09-05T21:18:21.949475Z",
     "iopub.status.busy": "2024-09-05T21:18:21.948469Z",
     "iopub.status.idle": "2024-09-05T21:18:47.361111Z",
     "shell.execute_reply": "2024-09-05T21:18:47.361111Z"
    }
   },
   "outputs": [
    {
     "name": "stdout",
     "output_type": "stream",
     "text": [
      "Se copia 20240626_Baranoa.jpg a G:\\Mi unidad\\Equipo_Consolidacion\\Hitos\\E2_Informes_Id_FisicoJuridica\\2_2_6_Indicador_Edicion_Geografica\\Salidas_Graficas\n",
      "Se copia 20240626_María La Baja.jpg a G:\\Mi unidad\\Equipo_Consolidacion\\Hitos\\E2_Informes_Id_FisicoJuridica\\2_2_6_Indicador_Edicion_Geografica\\Salidas_Graficas\n",
      "Se copia 20240626_Repelón.jpg a G:\\Mi unidad\\Equipo_Consolidacion\\Hitos\\E2_Informes_Id_FisicoJuridica\\2_2_6_Indicador_Edicion_Geografica\\Salidas_Graficas\n",
      "Se copia 20240702_Baranoa.pdf a G:\\Mi unidad\\Equipo_Consolidacion\\Hitos\\E2_Informes_Id_FisicoJuridica\\2_2_6_Indicador_Edicion_Geografica\\Salidas_Graficas\n",
      "Se copia 20240702_María La Baja.pdf a G:\\Mi unidad\\Equipo_Consolidacion\\Hitos\\E2_Informes_Id_FisicoJuridica\\2_2_6_Indicador_Edicion_Geografica\\Salidas_Graficas\n",
      "Se copia 20240702_Repelón.pdf a G:\\Mi unidad\\Equipo_Consolidacion\\Hitos\\E2_Informes_Id_FisicoJuridica\\2_2_6_Indicador_Edicion_Geografica\\Salidas_Graficas\n",
      "Se copia 20240703_Baranoa.pdf a G:\\Mi unidad\\Equipo_Consolidacion\\Hitos\\E2_Informes_Id_FisicoJuridica\\2_2_6_Indicador_Edicion_Geografica\\Salidas_Graficas\n",
      "Se copia 20240703_María La Baja.pdf a G:\\Mi unidad\\Equipo_Consolidacion\\Hitos\\E2_Informes_Id_FisicoJuridica\\2_2_6_Indicador_Edicion_Geografica\\Salidas_Graficas\n",
      "Se copia 20240703_Repelón.pdf a G:\\Mi unidad\\Equipo_Consolidacion\\Hitos\\E2_Informes_Id_FisicoJuridica\\2_2_6_Indicador_Edicion_Geografica\\Salidas_Graficas\n",
      "Se copia 20240704_Baranoa.pdf a G:\\Mi unidad\\Equipo_Consolidacion\\Hitos\\E2_Informes_Id_FisicoJuridica\\2_2_6_Indicador_Edicion_Geografica\\Salidas_Graficas\n",
      "Se copia 20240704_María La Baja.pdf a G:\\Mi unidad\\Equipo_Consolidacion\\Hitos\\E2_Informes_Id_FisicoJuridica\\2_2_6_Indicador_Edicion_Geografica\\Salidas_Graficas\n",
      "Se copia 20240704_Repelón.pdf a G:\\Mi unidad\\Equipo_Consolidacion\\Hitos\\E2_Informes_Id_FisicoJuridica\\2_2_6_Indicador_Edicion_Geografica\\Salidas_Graficas\n",
      "Se copia 20240705_Baranoa.pdf a G:\\Mi unidad\\Equipo_Consolidacion\\Hitos\\E2_Informes_Id_FisicoJuridica\\2_2_6_Indicador_Edicion_Geografica\\Salidas_Graficas\n",
      "Se copia 20240705_María La Baja.pdf a G:\\Mi unidad\\Equipo_Consolidacion\\Hitos\\E2_Informes_Id_FisicoJuridica\\2_2_6_Indicador_Edicion_Geografica\\Salidas_Graficas\n",
      "Se copia 20240705_Repelón.pdf a G:\\Mi unidad\\Equipo_Consolidacion\\Hitos\\E2_Informes_Id_FisicoJuridica\\2_2_6_Indicador_Edicion_Geografica\\Salidas_Graficas\n",
      "Se copia 20240708_Baranoa.pdf a G:\\Mi unidad\\Equipo_Consolidacion\\Hitos\\E2_Informes_Id_FisicoJuridica\\2_2_6_Indicador_Edicion_Geografica\\Salidas_Graficas\n",
      "Se copia 20240708_María La Baja.pdf a G:\\Mi unidad\\Equipo_Consolidacion\\Hitos\\E2_Informes_Id_FisicoJuridica\\2_2_6_Indicador_Edicion_Geografica\\Salidas_Graficas\n",
      "Se copia 20240708_Repelón.pdf a G:\\Mi unidad\\Equipo_Consolidacion\\Hitos\\E2_Informes_Id_FisicoJuridica\\2_2_6_Indicador_Edicion_Geografica\\Salidas_Graficas\n",
      "Se copia 20240709_Baranoa.pdf a G:\\Mi unidad\\Equipo_Consolidacion\\Hitos\\E2_Informes_Id_FisicoJuridica\\2_2_6_Indicador_Edicion_Geografica\\Salidas_Graficas\n",
      "Se copia 20240709_María La Baja.pdf a G:\\Mi unidad\\Equipo_Consolidacion\\Hitos\\E2_Informes_Id_FisicoJuridica\\2_2_6_Indicador_Edicion_Geografica\\Salidas_Graficas\n",
      "Se copia 20240709_Repelón.pdf a G:\\Mi unidad\\Equipo_Consolidacion\\Hitos\\E2_Informes_Id_FisicoJuridica\\2_2_6_Indicador_Edicion_Geografica\\Salidas_Graficas\n",
      "Se copia 20240710_Baranoa.pdf a G:\\Mi unidad\\Equipo_Consolidacion\\Hitos\\E2_Informes_Id_FisicoJuridica\\2_2_6_Indicador_Edicion_Geografica\\Salidas_Graficas\n",
      "Se copia 20240710_María La Baja.pdf a G:\\Mi unidad\\Equipo_Consolidacion\\Hitos\\E2_Informes_Id_FisicoJuridica\\2_2_6_Indicador_Edicion_Geografica\\Salidas_Graficas\n",
      "Se copia 20240710_Repelón.pdf a G:\\Mi unidad\\Equipo_Consolidacion\\Hitos\\E2_Informes_Id_FisicoJuridica\\2_2_6_Indicador_Edicion_Geografica\\Salidas_Graficas\n",
      "Se copia 20240712_Baranoa.pdf a G:\\Mi unidad\\Equipo_Consolidacion\\Hitos\\E2_Informes_Id_FisicoJuridica\\2_2_6_Indicador_Edicion_Geografica\\Salidas_Graficas\n",
      "Se copia 20240712_María La Baja.pdf a G:\\Mi unidad\\Equipo_Consolidacion\\Hitos\\E2_Informes_Id_FisicoJuridica\\2_2_6_Indicador_Edicion_Geografica\\Salidas_Graficas\n",
      "Se copia 20240712_Repelón.pdf a G:\\Mi unidad\\Equipo_Consolidacion\\Hitos\\E2_Informes_Id_FisicoJuridica\\2_2_6_Indicador_Edicion_Geografica\\Salidas_Graficas\n",
      "Se copia 20240716_Baranoa.pdf a G:\\Mi unidad\\Equipo_Consolidacion\\Hitos\\E2_Informes_Id_FisicoJuridica\\2_2_6_Indicador_Edicion_Geografica\\Salidas_Graficas\n",
      "Se copia 20240716_María La Baja.pdf a G:\\Mi unidad\\Equipo_Consolidacion\\Hitos\\E2_Informes_Id_FisicoJuridica\\2_2_6_Indicador_Edicion_Geografica\\Salidas_Graficas\n",
      "Se copia 20240716_Repelón.pdf a G:\\Mi unidad\\Equipo_Consolidacion\\Hitos\\E2_Informes_Id_FisicoJuridica\\2_2_6_Indicador_Edicion_Geografica\\Salidas_Graficas\n",
      "Se copia 20240717_Baranoa.pdf a G:\\Mi unidad\\Equipo_Consolidacion\\Hitos\\E2_Informes_Id_FisicoJuridica\\2_2_6_Indicador_Edicion_Geografica\\Salidas_Graficas\n",
      "Se copia 20240717_María La Baja.pdf a G:\\Mi unidad\\Equipo_Consolidacion\\Hitos\\E2_Informes_Id_FisicoJuridica\\2_2_6_Indicador_Edicion_Geografica\\Salidas_Graficas\n",
      "Se copia 20240717_Repelón.pdf a G:\\Mi unidad\\Equipo_Consolidacion\\Hitos\\E2_Informes_Id_FisicoJuridica\\2_2_6_Indicador_Edicion_Geografica\\Salidas_Graficas\n",
      "Se copia 20240718_Baranoa.pdf a G:\\Mi unidad\\Equipo_Consolidacion\\Hitos\\E2_Informes_Id_FisicoJuridica\\2_2_6_Indicador_Edicion_Geografica\\Salidas_Graficas\n",
      "Se copia 20240718_María La Baja.pdf a G:\\Mi unidad\\Equipo_Consolidacion\\Hitos\\E2_Informes_Id_FisicoJuridica\\2_2_6_Indicador_Edicion_Geografica\\Salidas_Graficas\n",
      "Se copia 20240718_Repelón.pdf a G:\\Mi unidad\\Equipo_Consolidacion\\Hitos\\E2_Informes_Id_FisicoJuridica\\2_2_6_Indicador_Edicion_Geografica\\Salidas_Graficas\n",
      "Se copia 20240719_Baranoa.pdf a G:\\Mi unidad\\Equipo_Consolidacion\\Hitos\\E2_Informes_Id_FisicoJuridica\\2_2_6_Indicador_Edicion_Geografica\\Salidas_Graficas\n",
      "Se copia 20240719_María La Baja.pdf a G:\\Mi unidad\\Equipo_Consolidacion\\Hitos\\E2_Informes_Id_FisicoJuridica\\2_2_6_Indicador_Edicion_Geografica\\Salidas_Graficas\n",
      "Se copia 20240719_Repelón.pdf a G:\\Mi unidad\\Equipo_Consolidacion\\Hitos\\E2_Informes_Id_FisicoJuridica\\2_2_6_Indicador_Edicion_Geografica\\Salidas_Graficas\n",
      "Se copia 20240722_Baranoa.pdf a G:\\Mi unidad\\Equipo_Consolidacion\\Hitos\\E2_Informes_Id_FisicoJuridica\\2_2_6_Indicador_Edicion_Geografica\\Salidas_Graficas\n",
      "Se copia 20240722_María La Baja.pdf a G:\\Mi unidad\\Equipo_Consolidacion\\Hitos\\E2_Informes_Id_FisicoJuridica\\2_2_6_Indicador_Edicion_Geografica\\Salidas_Graficas\n",
      "Se copia 20240722_Repelón.pdf a G:\\Mi unidad\\Equipo_Consolidacion\\Hitos\\E2_Informes_Id_FisicoJuridica\\2_2_6_Indicador_Edicion_Geografica\\Salidas_Graficas\n",
      "Se copia 20240723_Baranoa.pdf a G:\\Mi unidad\\Equipo_Consolidacion\\Hitos\\E2_Informes_Id_FisicoJuridica\\2_2_6_Indicador_Edicion_Geografica\\Salidas_Graficas\n",
      "Se copia 20240723_María La Baja.pdf a G:\\Mi unidad\\Equipo_Consolidacion\\Hitos\\E2_Informes_Id_FisicoJuridica\\2_2_6_Indicador_Edicion_Geografica\\Salidas_Graficas\n",
      "Se copia 20240723_Repelón.pdf a G:\\Mi unidad\\Equipo_Consolidacion\\Hitos\\E2_Informes_Id_FisicoJuridica\\2_2_6_Indicador_Edicion_Geografica\\Salidas_Graficas\n",
      "Se copia 20240724_Baranoa.pdf a G:\\Mi unidad\\Equipo_Consolidacion\\Hitos\\E2_Informes_Id_FisicoJuridica\\2_2_6_Indicador_Edicion_Geografica\\Salidas_Graficas\n",
      "Se copia 20240724_María La Baja.pdf a G:\\Mi unidad\\Equipo_Consolidacion\\Hitos\\E2_Informes_Id_FisicoJuridica\\2_2_6_Indicador_Edicion_Geografica\\Salidas_Graficas\n",
      "Se copia 20240724_Repelón.pdf a G:\\Mi unidad\\Equipo_Consolidacion\\Hitos\\E2_Informes_Id_FisicoJuridica\\2_2_6_Indicador_Edicion_Geografica\\Salidas_Graficas\n",
      "Se copia 20240725_Baranoa.pdf a G:\\Mi unidad\\Equipo_Consolidacion\\Hitos\\E2_Informes_Id_FisicoJuridica\\2_2_6_Indicador_Edicion_Geografica\\Salidas_Graficas\n",
      "Se copia 20240725_María La Baja.pdf a G:\\Mi unidad\\Equipo_Consolidacion\\Hitos\\E2_Informes_Id_FisicoJuridica\\2_2_6_Indicador_Edicion_Geografica\\Salidas_Graficas\n",
      "Se copia 20240725_Repelón.pdf a G:\\Mi unidad\\Equipo_Consolidacion\\Hitos\\E2_Informes_Id_FisicoJuridica\\2_2_6_Indicador_Edicion_Geografica\\Salidas_Graficas\n",
      "Se copia 20240726_Baranoa.pdf a G:\\Mi unidad\\Equipo_Consolidacion\\Hitos\\E2_Informes_Id_FisicoJuridica\\2_2_6_Indicador_Edicion_Geografica\\Salidas_Graficas\n",
      "Se copia 20240726_María La Baja.pdf a G:\\Mi unidad\\Equipo_Consolidacion\\Hitos\\E2_Informes_Id_FisicoJuridica\\2_2_6_Indicador_Edicion_Geografica\\Salidas_Graficas\n",
      "Se copia 20240726_Repelón.pdf a G:\\Mi unidad\\Equipo_Consolidacion\\Hitos\\E2_Informes_Id_FisicoJuridica\\2_2_6_Indicador_Edicion_Geografica\\Salidas_Graficas\n",
      "Se copia 20240727_Baranoa.pdf a G:\\Mi unidad\\Equipo_Consolidacion\\Hitos\\E2_Informes_Id_FisicoJuridica\\2_2_6_Indicador_Edicion_Geografica\\Salidas_Graficas\n",
      "Se copia 20240727_María La Baja.pdf a G:\\Mi unidad\\Equipo_Consolidacion\\Hitos\\E2_Informes_Id_FisicoJuridica\\2_2_6_Indicador_Edicion_Geografica\\Salidas_Graficas\n",
      "Se copia 20240727_Repelón.pdf a G:\\Mi unidad\\Equipo_Consolidacion\\Hitos\\E2_Informes_Id_FisicoJuridica\\2_2_6_Indicador_Edicion_Geografica\\Salidas_Graficas\n",
      "Se copia 20240729_Baranoa.pdf a G:\\Mi unidad\\Equipo_Consolidacion\\Hitos\\E2_Informes_Id_FisicoJuridica\\2_2_6_Indicador_Edicion_Geografica\\Salidas_Graficas\n",
      "Se copia 20240729_María La Baja.pdf a G:\\Mi unidad\\Equipo_Consolidacion\\Hitos\\E2_Informes_Id_FisicoJuridica\\2_2_6_Indicador_Edicion_Geografica\\Salidas_Graficas\n",
      "Se copia 20240729_Repelón.pdf a G:\\Mi unidad\\Equipo_Consolidacion\\Hitos\\E2_Informes_Id_FisicoJuridica\\2_2_6_Indicador_Edicion_Geografica\\Salidas_Graficas\n",
      "Se copia 20240730_Baranoa.pdf a G:\\Mi unidad\\Equipo_Consolidacion\\Hitos\\E2_Informes_Id_FisicoJuridica\\2_2_6_Indicador_Edicion_Geografica\\Salidas_Graficas\n",
      "Se copia 20240730_María La Baja.pdf a G:\\Mi unidad\\Equipo_Consolidacion\\Hitos\\E2_Informes_Id_FisicoJuridica\\2_2_6_Indicador_Edicion_Geografica\\Salidas_Graficas\n",
      "Se copia 20240730_Repelón.pdf a G:\\Mi unidad\\Equipo_Consolidacion\\Hitos\\E2_Informes_Id_FisicoJuridica\\2_2_6_Indicador_Edicion_Geografica\\Salidas_Graficas\n",
      "Se copia 20240731_Baranoa.pdf a G:\\Mi unidad\\Equipo_Consolidacion\\Hitos\\E2_Informes_Id_FisicoJuridica\\2_2_6_Indicador_Edicion_Geografica\\Salidas_Graficas\n",
      "Se copia 20240731_María La Baja.pdf a G:\\Mi unidad\\Equipo_Consolidacion\\Hitos\\E2_Informes_Id_FisicoJuridica\\2_2_6_Indicador_Edicion_Geografica\\Salidas_Graficas\n",
      "Se copia 20240731_Repelón.pdf a G:\\Mi unidad\\Equipo_Consolidacion\\Hitos\\E2_Informes_Id_FisicoJuridica\\2_2_6_Indicador_Edicion_Geografica\\Salidas_Graficas\n",
      "Se copia 20240801_Baranoa.pdf a G:\\Mi unidad\\Equipo_Consolidacion\\Hitos\\E2_Informes_Id_FisicoJuridica\\2_2_6_Indicador_Edicion_Geografica\\Salidas_Graficas\n",
      "Se copia 20240801_María La Baja.pdf a G:\\Mi unidad\\Equipo_Consolidacion\\Hitos\\E2_Informes_Id_FisicoJuridica\\2_2_6_Indicador_Edicion_Geografica\\Salidas_Graficas\n",
      "Se copia 20240801_Repelón.pdf a G:\\Mi unidad\\Equipo_Consolidacion\\Hitos\\E2_Informes_Id_FisicoJuridica\\2_2_6_Indicador_Edicion_Geografica\\Salidas_Graficas\n",
      "Se copia 20240802_Baranoa.pdf a G:\\Mi unidad\\Equipo_Consolidacion\\Hitos\\E2_Informes_Id_FisicoJuridica\\2_2_6_Indicador_Edicion_Geografica\\Salidas_Graficas\n",
      "Se copia 20240802_María La Baja.pdf a G:\\Mi unidad\\Equipo_Consolidacion\\Hitos\\E2_Informes_Id_FisicoJuridica\\2_2_6_Indicador_Edicion_Geografica\\Salidas_Graficas\n",
      "Se copia 20240802_Repelón.pdf a G:\\Mi unidad\\Equipo_Consolidacion\\Hitos\\E2_Informes_Id_FisicoJuridica\\2_2_6_Indicador_Edicion_Geografica\\Salidas_Graficas\n",
      "Se copia 20240804_Baranoa.pdf a G:\\Mi unidad\\Equipo_Consolidacion\\Hitos\\E2_Informes_Id_FisicoJuridica\\2_2_6_Indicador_Edicion_Geografica\\Salidas_Graficas\n",
      "Se copia 20240804_María La Baja.pdf a G:\\Mi unidad\\Equipo_Consolidacion\\Hitos\\E2_Informes_Id_FisicoJuridica\\2_2_6_Indicador_Edicion_Geografica\\Salidas_Graficas\n",
      "Se copia 20240804_Repelón.pdf a G:\\Mi unidad\\Equipo_Consolidacion\\Hitos\\E2_Informes_Id_FisicoJuridica\\2_2_6_Indicador_Edicion_Geografica\\Salidas_Graficas\n",
      "Se copia 20240805_Baranoa.pdf a G:\\Mi unidad\\Equipo_Consolidacion\\Hitos\\E2_Informes_Id_FisicoJuridica\\2_2_6_Indicador_Edicion_Geografica\\Salidas_Graficas\n",
      "Se copia 20240805_María La Baja.pdf a G:\\Mi unidad\\Equipo_Consolidacion\\Hitos\\E2_Informes_Id_FisicoJuridica\\2_2_6_Indicador_Edicion_Geografica\\Salidas_Graficas\n",
      "Se copia 20240805_Repelón.pdf a G:\\Mi unidad\\Equipo_Consolidacion\\Hitos\\E2_Informes_Id_FisicoJuridica\\2_2_6_Indicador_Edicion_Geografica\\Salidas_Graficas\n",
      "Se copia 20240806_Baranoa.pdf a G:\\Mi unidad\\Equipo_Consolidacion\\Hitos\\E2_Informes_Id_FisicoJuridica\\2_2_6_Indicador_Edicion_Geografica\\Salidas_Graficas\n",
      "Se copia 20240806_María La Baja.pdf a G:\\Mi unidad\\Equipo_Consolidacion\\Hitos\\E2_Informes_Id_FisicoJuridica\\2_2_6_Indicador_Edicion_Geografica\\Salidas_Graficas\n",
      "Se copia 20240806_Repelón.pdf a G:\\Mi unidad\\Equipo_Consolidacion\\Hitos\\E2_Informes_Id_FisicoJuridica\\2_2_6_Indicador_Edicion_Geografica\\Salidas_Graficas\n",
      "Se copia 20240807_Baranoa.pdf a G:\\Mi unidad\\Equipo_Consolidacion\\Hitos\\E2_Informes_Id_FisicoJuridica\\2_2_6_Indicador_Edicion_Geografica\\Salidas_Graficas\n",
      "Se copia 20240807_María La Baja.pdf a G:\\Mi unidad\\Equipo_Consolidacion\\Hitos\\E2_Informes_Id_FisicoJuridica\\2_2_6_Indicador_Edicion_Geografica\\Salidas_Graficas\n",
      "Se copia 20240807_Repelón.pdf a G:\\Mi unidad\\Equipo_Consolidacion\\Hitos\\E2_Informes_Id_FisicoJuridica\\2_2_6_Indicador_Edicion_Geografica\\Salidas_Graficas\n",
      "Se copia 20240808_Baranoa.pdf a G:\\Mi unidad\\Equipo_Consolidacion\\Hitos\\E2_Informes_Id_FisicoJuridica\\2_2_6_Indicador_Edicion_Geografica\\Salidas_Graficas\n",
      "Se copia 20240808_María La Baja.pdf a G:\\Mi unidad\\Equipo_Consolidacion\\Hitos\\E2_Informes_Id_FisicoJuridica\\2_2_6_Indicador_Edicion_Geografica\\Salidas_Graficas\n",
      "Se copia 20240808_Repelón.pdf a G:\\Mi unidad\\Equipo_Consolidacion\\Hitos\\E2_Informes_Id_FisicoJuridica\\2_2_6_Indicador_Edicion_Geografica\\Salidas_Graficas\n",
      "Se copia 20240809_Baranoa.pdf a G:\\Mi unidad\\Equipo_Consolidacion\\Hitos\\E2_Informes_Id_FisicoJuridica\\2_2_6_Indicador_Edicion_Geografica\\Salidas_Graficas\n",
      "Se copia 20240809_María La Baja.pdf a G:\\Mi unidad\\Equipo_Consolidacion\\Hitos\\E2_Informes_Id_FisicoJuridica\\2_2_6_Indicador_Edicion_Geografica\\Salidas_Graficas\n",
      "Se copia 20240809_Repelón.pdf a G:\\Mi unidad\\Equipo_Consolidacion\\Hitos\\E2_Informes_Id_FisicoJuridica\\2_2_6_Indicador_Edicion_Geografica\\Salidas_Graficas\n",
      "Se copia 20240810_Baranoa.pdf a G:\\Mi unidad\\Equipo_Consolidacion\\Hitos\\E2_Informes_Id_FisicoJuridica\\2_2_6_Indicador_Edicion_Geografica\\Salidas_Graficas\n",
      "Se copia 20240810_María La Baja.pdf a G:\\Mi unidad\\Equipo_Consolidacion\\Hitos\\E2_Informes_Id_FisicoJuridica\\2_2_6_Indicador_Edicion_Geografica\\Salidas_Graficas\n",
      "Se copia 20240810_Repelón.pdf a G:\\Mi unidad\\Equipo_Consolidacion\\Hitos\\E2_Informes_Id_FisicoJuridica\\2_2_6_Indicador_Edicion_Geografica\\Salidas_Graficas\n",
      "Se copia 20240811_Baranoa.pdf a G:\\Mi unidad\\Equipo_Consolidacion\\Hitos\\E2_Informes_Id_FisicoJuridica\\2_2_6_Indicador_Edicion_Geografica\\Salidas_Graficas\n",
      "Se copia 20240811_María La Baja.pdf a G:\\Mi unidad\\Equipo_Consolidacion\\Hitos\\E2_Informes_Id_FisicoJuridica\\2_2_6_Indicador_Edicion_Geografica\\Salidas_Graficas\n",
      "Se copia 20240811_Repelón.pdf a G:\\Mi unidad\\Equipo_Consolidacion\\Hitos\\E2_Informes_Id_FisicoJuridica\\2_2_6_Indicador_Edicion_Geografica\\Salidas_Graficas\n",
      "Se copia 20240812_Baranoa.pdf a G:\\Mi unidad\\Equipo_Consolidacion\\Hitos\\E2_Informes_Id_FisicoJuridica\\2_2_6_Indicador_Edicion_Geografica\\Salidas_Graficas\n",
      "Se copia 20240812_María La Baja.pdf a G:\\Mi unidad\\Equipo_Consolidacion\\Hitos\\E2_Informes_Id_FisicoJuridica\\2_2_6_Indicador_Edicion_Geografica\\Salidas_Graficas\n",
      "Se copia 20240812_Repelón.pdf a G:\\Mi unidad\\Equipo_Consolidacion\\Hitos\\E2_Informes_Id_FisicoJuridica\\2_2_6_Indicador_Edicion_Geografica\\Salidas_Graficas\n",
      "Se copia 20240813_Baranoa.pdf a G:\\Mi unidad\\Equipo_Consolidacion\\Hitos\\E2_Informes_Id_FisicoJuridica\\2_2_6_Indicador_Edicion_Geografica\\Salidas_Graficas\n",
      "Se copia 20240813_María La Baja.pdf a G:\\Mi unidad\\Equipo_Consolidacion\\Hitos\\E2_Informes_Id_FisicoJuridica\\2_2_6_Indicador_Edicion_Geografica\\Salidas_Graficas\n",
      "Se copia 20240813_Repelón.pdf a G:\\Mi unidad\\Equipo_Consolidacion\\Hitos\\E2_Informes_Id_FisicoJuridica\\2_2_6_Indicador_Edicion_Geografica\\Salidas_Graficas\n",
      "Se copia 20240814_Baranoa.pdf a G:\\Mi unidad\\Equipo_Consolidacion\\Hitos\\E2_Informes_Id_FisicoJuridica\\2_2_6_Indicador_Edicion_Geografica\\Salidas_Graficas\n",
      "Se copia 20240814_María La Baja.pdf a G:\\Mi unidad\\Equipo_Consolidacion\\Hitos\\E2_Informes_Id_FisicoJuridica\\2_2_6_Indicador_Edicion_Geografica\\Salidas_Graficas\n",
      "Se copia 20240814_Repelón.pdf a G:\\Mi unidad\\Equipo_Consolidacion\\Hitos\\E2_Informes_Id_FisicoJuridica\\2_2_6_Indicador_Edicion_Geografica\\Salidas_Graficas\n",
      "Se copia 20240815_Baranoa.pdf a G:\\Mi unidad\\Equipo_Consolidacion\\Hitos\\E2_Informes_Id_FisicoJuridica\\2_2_6_Indicador_Edicion_Geografica\\Salidas_Graficas\n",
      "Se copia 20240815_María La Baja.pdf a G:\\Mi unidad\\Equipo_Consolidacion\\Hitos\\E2_Informes_Id_FisicoJuridica\\2_2_6_Indicador_Edicion_Geografica\\Salidas_Graficas\n",
      "Se copia 20240815_Repelón.pdf a G:\\Mi unidad\\Equipo_Consolidacion\\Hitos\\E2_Informes_Id_FisicoJuridica\\2_2_6_Indicador_Edicion_Geografica\\Salidas_Graficas\n",
      "Se copia 20240816_Baranoa.pdf a G:\\Mi unidad\\Equipo_Consolidacion\\Hitos\\E2_Informes_Id_FisicoJuridica\\2_2_6_Indicador_Edicion_Geografica\\Salidas_Graficas\n",
      "Se copia 20240816_María La Baja.pdf a G:\\Mi unidad\\Equipo_Consolidacion\\Hitos\\E2_Informes_Id_FisicoJuridica\\2_2_6_Indicador_Edicion_Geografica\\Salidas_Graficas\n",
      "Se copia 20240816_Repelón.pdf a G:\\Mi unidad\\Equipo_Consolidacion\\Hitos\\E2_Informes_Id_FisicoJuridica\\2_2_6_Indicador_Edicion_Geografica\\Salidas_Graficas\n",
      "Se copia 20240817_Baranoa.pdf a G:\\Mi unidad\\Equipo_Consolidacion\\Hitos\\E2_Informes_Id_FisicoJuridica\\2_2_6_Indicador_Edicion_Geografica\\Salidas_Graficas\n",
      "Se copia 20240817_María La Baja.pdf a G:\\Mi unidad\\Equipo_Consolidacion\\Hitos\\E2_Informes_Id_FisicoJuridica\\2_2_6_Indicador_Edicion_Geografica\\Salidas_Graficas\n",
      "Se copia 20240817_Repelón.pdf a G:\\Mi unidad\\Equipo_Consolidacion\\Hitos\\E2_Informes_Id_FisicoJuridica\\2_2_6_Indicador_Edicion_Geografica\\Salidas_Graficas\n",
      "Se copia 20240818_Baranoa.pdf a G:\\Mi unidad\\Equipo_Consolidacion\\Hitos\\E2_Informes_Id_FisicoJuridica\\2_2_6_Indicador_Edicion_Geografica\\Salidas_Graficas\n",
      "Se copia 20240818_María La Baja.pdf a G:\\Mi unidad\\Equipo_Consolidacion\\Hitos\\E2_Informes_Id_FisicoJuridica\\2_2_6_Indicador_Edicion_Geografica\\Salidas_Graficas\n",
      "Se copia 20240818_Repelón.pdf a G:\\Mi unidad\\Equipo_Consolidacion\\Hitos\\E2_Informes_Id_FisicoJuridica\\2_2_6_Indicador_Edicion_Geografica\\Salidas_Graficas\n",
      "Se copia 20240819_Baranoa.pdf a G:\\Mi unidad\\Equipo_Consolidacion\\Hitos\\E2_Informes_Id_FisicoJuridica\\2_2_6_Indicador_Edicion_Geografica\\Salidas_Graficas\n",
      "Se copia 20240819_María La Baja.pdf a G:\\Mi unidad\\Equipo_Consolidacion\\Hitos\\E2_Informes_Id_FisicoJuridica\\2_2_6_Indicador_Edicion_Geografica\\Salidas_Graficas\n",
      "Se copia 20240819_Repelón.pdf a G:\\Mi unidad\\Equipo_Consolidacion\\Hitos\\E2_Informes_Id_FisicoJuridica\\2_2_6_Indicador_Edicion_Geografica\\Salidas_Graficas\n",
      "Se copia 20240820_Baranoa.pdf a G:\\Mi unidad\\Equipo_Consolidacion\\Hitos\\E2_Informes_Id_FisicoJuridica\\2_2_6_Indicador_Edicion_Geografica\\Salidas_Graficas\n",
      "Se copia 20240820_María La Baja.pdf a G:\\Mi unidad\\Equipo_Consolidacion\\Hitos\\E2_Informes_Id_FisicoJuridica\\2_2_6_Indicador_Edicion_Geografica\\Salidas_Graficas\n",
      "Se copia 20240820_Repelón.pdf a G:\\Mi unidad\\Equipo_Consolidacion\\Hitos\\E2_Informes_Id_FisicoJuridica\\2_2_6_Indicador_Edicion_Geografica\\Salidas_Graficas\n",
      "Se copia 20240821_Baranoa.pdf a G:\\Mi unidad\\Equipo_Consolidacion\\Hitos\\E2_Informes_Id_FisicoJuridica\\2_2_6_Indicador_Edicion_Geografica\\Salidas_Graficas\n",
      "Se copia 20240821_María La Baja.pdf a G:\\Mi unidad\\Equipo_Consolidacion\\Hitos\\E2_Informes_Id_FisicoJuridica\\2_2_6_Indicador_Edicion_Geografica\\Salidas_Graficas\n",
      "Se copia 20240821_Repelón.pdf a G:\\Mi unidad\\Equipo_Consolidacion\\Hitos\\E2_Informes_Id_FisicoJuridica\\2_2_6_Indicador_Edicion_Geografica\\Salidas_Graficas\n",
      "Se copia 20240822_Baranoa.pdf a G:\\Mi unidad\\Equipo_Consolidacion\\Hitos\\E2_Informes_Id_FisicoJuridica\\2_2_6_Indicador_Edicion_Geografica\\Salidas_Graficas\n",
      "Se copia 20240822_María La Baja.pdf a G:\\Mi unidad\\Equipo_Consolidacion\\Hitos\\E2_Informes_Id_FisicoJuridica\\2_2_6_Indicador_Edicion_Geografica\\Salidas_Graficas\n",
      "Se copia 20240822_Repelón.pdf a G:\\Mi unidad\\Equipo_Consolidacion\\Hitos\\E2_Informes_Id_FisicoJuridica\\2_2_6_Indicador_Edicion_Geografica\\Salidas_Graficas\n",
      "Se copia 20240823_Baranoa.pdf a G:\\Mi unidad\\Equipo_Consolidacion\\Hitos\\E2_Informes_Id_FisicoJuridica\\2_2_6_Indicador_Edicion_Geografica\\Salidas_Graficas\n",
      "Se copia 20240823_María La Baja.pdf a G:\\Mi unidad\\Equipo_Consolidacion\\Hitos\\E2_Informes_Id_FisicoJuridica\\2_2_6_Indicador_Edicion_Geografica\\Salidas_Graficas\n",
      "Se copia 20240823_Repelón.pdf a G:\\Mi unidad\\Equipo_Consolidacion\\Hitos\\E2_Informes_Id_FisicoJuridica\\2_2_6_Indicador_Edicion_Geografica\\Salidas_Graficas\n",
      "Se copia 20240824_Baranoa.pdf a G:\\Mi unidad\\Equipo_Consolidacion\\Hitos\\E2_Informes_Id_FisicoJuridica\\2_2_6_Indicador_Edicion_Geografica\\Salidas_Graficas\n",
      "Se copia 20240824_María La Baja.pdf a G:\\Mi unidad\\Equipo_Consolidacion\\Hitos\\E2_Informes_Id_FisicoJuridica\\2_2_6_Indicador_Edicion_Geografica\\Salidas_Graficas\n",
      "Se copia 20240824_Repelón.pdf a G:\\Mi unidad\\Equipo_Consolidacion\\Hitos\\E2_Informes_Id_FisicoJuridica\\2_2_6_Indicador_Edicion_Geografica\\Salidas_Graficas\n",
      "Se copia 20240825_Baranoa.pdf a G:\\Mi unidad\\Equipo_Consolidacion\\Hitos\\E2_Informes_Id_FisicoJuridica\\2_2_6_Indicador_Edicion_Geografica\\Salidas_Graficas\n",
      "Se copia 20240825_María La Baja.pdf a G:\\Mi unidad\\Equipo_Consolidacion\\Hitos\\E2_Informes_Id_FisicoJuridica\\2_2_6_Indicador_Edicion_Geografica\\Salidas_Graficas\n",
      "Se copia 20240825_Repelón.pdf a G:\\Mi unidad\\Equipo_Consolidacion\\Hitos\\E2_Informes_Id_FisicoJuridica\\2_2_6_Indicador_Edicion_Geografica\\Salidas_Graficas\n",
      "Se copia 20240826_Baranoa.pdf a G:\\Mi unidad\\Equipo_Consolidacion\\Hitos\\E2_Informes_Id_FisicoJuridica\\2_2_6_Indicador_Edicion_Geografica\\Salidas_Graficas\n",
      "Se copia 20240826_María La Baja.pdf a G:\\Mi unidad\\Equipo_Consolidacion\\Hitos\\E2_Informes_Id_FisicoJuridica\\2_2_6_Indicador_Edicion_Geografica\\Salidas_Graficas\n",
      "Se copia 20240826_Repelón.pdf a G:\\Mi unidad\\Equipo_Consolidacion\\Hitos\\E2_Informes_Id_FisicoJuridica\\2_2_6_Indicador_Edicion_Geografica\\Salidas_Graficas\n",
      "Se copia 20240827_Baranoa.pdf a G:\\Mi unidad\\Equipo_Consolidacion\\Hitos\\E2_Informes_Id_FisicoJuridica\\2_2_6_Indicador_Edicion_Geografica\\Salidas_Graficas\n",
      "Se copia 20240827_María La Baja.pdf a G:\\Mi unidad\\Equipo_Consolidacion\\Hitos\\E2_Informes_Id_FisicoJuridica\\2_2_6_Indicador_Edicion_Geografica\\Salidas_Graficas\n",
      "Se copia 20240827_Repelón.pdf a G:\\Mi unidad\\Equipo_Consolidacion\\Hitos\\E2_Informes_Id_FisicoJuridica\\2_2_6_Indicador_Edicion_Geografica\\Salidas_Graficas\n",
      "Se copia 20240827_Sabanagrande.pdf a G:\\Mi unidad\\Equipo_Consolidacion\\Hitos\\E2_Informes_Id_FisicoJuridica\\2_2_6_Indicador_Edicion_Geografica\\Salidas_Graficas\n",
      "Se copia 20240828_Baranoa.pdf a G:\\Mi unidad\\Equipo_Consolidacion\\Hitos\\E2_Informes_Id_FisicoJuridica\\2_2_6_Indicador_Edicion_Geografica\\Salidas_Graficas\n",
      "Se copia 20240828_María La Baja.pdf a G:\\Mi unidad\\Equipo_Consolidacion\\Hitos\\E2_Informes_Id_FisicoJuridica\\2_2_6_Indicador_Edicion_Geografica\\Salidas_Graficas\n",
      "Se copia 20240828_Repelón.pdf a G:\\Mi unidad\\Equipo_Consolidacion\\Hitos\\E2_Informes_Id_FisicoJuridica\\2_2_6_Indicador_Edicion_Geografica\\Salidas_Graficas\n",
      "Se copia 20240828_Sabanagrande.pdf a G:\\Mi unidad\\Equipo_Consolidacion\\Hitos\\E2_Informes_Id_FisicoJuridica\\2_2_6_Indicador_Edicion_Geografica\\Salidas_Graficas\n",
      "Se copia 20240829_Baranoa.pdf a G:\\Mi unidad\\Equipo_Consolidacion\\Hitos\\E2_Informes_Id_FisicoJuridica\\2_2_6_Indicador_Edicion_Geografica\\Salidas_Graficas\n",
      "Se copia 20240829_María La Baja.pdf a G:\\Mi unidad\\Equipo_Consolidacion\\Hitos\\E2_Informes_Id_FisicoJuridica\\2_2_6_Indicador_Edicion_Geografica\\Salidas_Graficas\n",
      "Se copia 20240829_Repelón.pdf a G:\\Mi unidad\\Equipo_Consolidacion\\Hitos\\E2_Informes_Id_FisicoJuridica\\2_2_6_Indicador_Edicion_Geografica\\Salidas_Graficas\n",
      "Se copia 20240829_Sabanagrande.pdf a G:\\Mi unidad\\Equipo_Consolidacion\\Hitos\\E2_Informes_Id_FisicoJuridica\\2_2_6_Indicador_Edicion_Geografica\\Salidas_Graficas\n",
      "Se copia 20240830_Baranoa.pdf a G:\\Mi unidad\\Equipo_Consolidacion\\Hitos\\E2_Informes_Id_FisicoJuridica\\2_2_6_Indicador_Edicion_Geografica\\Salidas_Graficas\n",
      "Se copia 20240830_María La Baja.pdf a G:\\Mi unidad\\Equipo_Consolidacion\\Hitos\\E2_Informes_Id_FisicoJuridica\\2_2_6_Indicador_Edicion_Geografica\\Salidas_Graficas\n",
      "Se copia 20240830_Repelón.pdf a G:\\Mi unidad\\Equipo_Consolidacion\\Hitos\\E2_Informes_Id_FisicoJuridica\\2_2_6_Indicador_Edicion_Geografica\\Salidas_Graficas\n",
      "Se copia 20240830_Sabanagrande.pdf a G:\\Mi unidad\\Equipo_Consolidacion\\Hitos\\E2_Informes_Id_FisicoJuridica\\2_2_6_Indicador_Edicion_Geografica\\Salidas_Graficas\n",
      "Se copia 20240831_Baranoa.pdf a G:\\Mi unidad\\Equipo_Consolidacion\\Hitos\\E2_Informes_Id_FisicoJuridica\\2_2_6_Indicador_Edicion_Geografica\\Salidas_Graficas\n",
      "Se copia 20240831_María La Baja.pdf a G:\\Mi unidad\\Equipo_Consolidacion\\Hitos\\E2_Informes_Id_FisicoJuridica\\2_2_6_Indicador_Edicion_Geografica\\Salidas_Graficas\n",
      "Se copia 20240831_Repelón.pdf a G:\\Mi unidad\\Equipo_Consolidacion\\Hitos\\E2_Informes_Id_FisicoJuridica\\2_2_6_Indicador_Edicion_Geografica\\Salidas_Graficas\n",
      "Se copia 20240831_Sabanagrande.pdf a G:\\Mi unidad\\Equipo_Consolidacion\\Hitos\\E2_Informes_Id_FisicoJuridica\\2_2_6_Indicador_Edicion_Geografica\\Salidas_Graficas\n",
      "Se copia 20240901_Baranoa.pdf a G:\\Mi unidad\\Equipo_Consolidacion\\Hitos\\E2_Informes_Id_FisicoJuridica\\2_2_6_Indicador_Edicion_Geografica\\Salidas_Graficas\n",
      "Se copia 20240901_María La Baja.pdf a G:\\Mi unidad\\Equipo_Consolidacion\\Hitos\\E2_Informes_Id_FisicoJuridica\\2_2_6_Indicador_Edicion_Geografica\\Salidas_Graficas\n",
      "Se copia 20240901_Repelón.pdf a G:\\Mi unidad\\Equipo_Consolidacion\\Hitos\\E2_Informes_Id_FisicoJuridica\\2_2_6_Indicador_Edicion_Geografica\\Salidas_Graficas\n",
      "Se copia 20240901_Sabanagrande.pdf a G:\\Mi unidad\\Equipo_Consolidacion\\Hitos\\E2_Informes_Id_FisicoJuridica\\2_2_6_Indicador_Edicion_Geografica\\Salidas_Graficas\n",
      "Se copia 20240902_Baranoa.pdf a G:\\Mi unidad\\Equipo_Consolidacion\\Hitos\\E2_Informes_Id_FisicoJuridica\\2_2_6_Indicador_Edicion_Geografica\\Salidas_Graficas\n",
      "Se copia 20240902_María La Baja.pdf a G:\\Mi unidad\\Equipo_Consolidacion\\Hitos\\E2_Informes_Id_FisicoJuridica\\2_2_6_Indicador_Edicion_Geografica\\Salidas_Graficas\n",
      "Se copia 20240902_Repelón.pdf a G:\\Mi unidad\\Equipo_Consolidacion\\Hitos\\E2_Informes_Id_FisicoJuridica\\2_2_6_Indicador_Edicion_Geografica\\Salidas_Graficas\n",
      "Se copia 20240902_Sabanagrande.pdf a G:\\Mi unidad\\Equipo_Consolidacion\\Hitos\\E2_Informes_Id_FisicoJuridica\\2_2_6_Indicador_Edicion_Geografica\\Salidas_Graficas\n",
      "Se copia 20240903_Baranoa.pdf a G:\\Mi unidad\\Equipo_Consolidacion\\Hitos\\E2_Informes_Id_FisicoJuridica\\2_2_6_Indicador_Edicion_Geografica\\Salidas_Graficas\n",
      "Se copia 20240903_María La Baja.pdf a G:\\Mi unidad\\Equipo_Consolidacion\\Hitos\\E2_Informes_Id_FisicoJuridica\\2_2_6_Indicador_Edicion_Geografica\\Salidas_Graficas\n",
      "Se copia 20240903_Repelón.pdf a G:\\Mi unidad\\Equipo_Consolidacion\\Hitos\\E2_Informes_Id_FisicoJuridica\\2_2_6_Indicador_Edicion_Geografica\\Salidas_Graficas\n",
      "Se copia 20240903_Sabanagrande.pdf a G:\\Mi unidad\\Equipo_Consolidacion\\Hitos\\E2_Informes_Id_FisicoJuridica\\2_2_6_Indicador_Edicion_Geografica\\Salidas_Graficas\n",
      "Se copia 20240904_Baranoa.pdf a G:\\Mi unidad\\Equipo_Consolidacion\\Hitos\\E2_Informes_Id_FisicoJuridica\\2_2_6_Indicador_Edicion_Geografica\\Salidas_Graficas\n",
      "Se copia 20240904_María La Baja.pdf a G:\\Mi unidad\\Equipo_Consolidacion\\Hitos\\E2_Informes_Id_FisicoJuridica\\2_2_6_Indicador_Edicion_Geografica\\Salidas_Graficas\n",
      "Se copia 20240904_Repelón.pdf a G:\\Mi unidad\\Equipo_Consolidacion\\Hitos\\E2_Informes_Id_FisicoJuridica\\2_2_6_Indicador_Edicion_Geografica\\Salidas_Graficas\n",
      "Se copia 20240904_Sabanagrande.pdf a G:\\Mi unidad\\Equipo_Consolidacion\\Hitos\\E2_Informes_Id_FisicoJuridica\\2_2_6_Indicador_Edicion_Geografica\\Salidas_Graficas\n",
      "Se copia 20240905_Baranoa.pdf a G:\\Mi unidad\\Equipo_Consolidacion\\Hitos\\E2_Informes_Id_FisicoJuridica\\2_2_6_Indicador_Edicion_Geografica\\Salidas_Graficas\n",
      "Se copia 20240905_María La Baja.pdf a G:\\Mi unidad\\Equipo_Consolidacion\\Hitos\\E2_Informes_Id_FisicoJuridica\\2_2_6_Indicador_Edicion_Geografica\\Salidas_Graficas\n",
      "Se copia 20240905_Repelón.pdf a G:\\Mi unidad\\Equipo_Consolidacion\\Hitos\\E2_Informes_Id_FisicoJuridica\\2_2_6_Indicador_Edicion_Geografica\\Salidas_Graficas\n",
      "Se copia 20240905_Sabanagrande.pdf a G:\\Mi unidad\\Equipo_Consolidacion\\Hitos\\E2_Informes_Id_FisicoJuridica\\2_2_6_Indicador_Edicion_Geografica\\Salidas_Graficas\n"
     ]
    }
   ],
   "source": [
    "archivos_origen = os.listdir(RUTA_ORIGEN)\n",
    "for archivo in archivos_origen:\n",
    "    shutil.copy(src=os.path.join(RUTA_ORIGEN, archivo),dst=os.path.join(RUTA_DESTINO, archivo))\n",
    "    print(f\"Se copia {archivo} a {RUTA_DESTINO}\")"
   ]
  }
 ],
 "metadata": {
  "kernelspec": {
   "display_name": "Python 3",
   "language": "python",
   "name": "python3"
  },
  "language_info": {
   "codemirror_mode": {
    "name": "ipython",
    "version": 3
   },
   "file_extension": ".py",
   "mimetype": "text/x-python",
   "name": "python",
   "nbconvert_exporter": "python",
   "pygments_lexer": "ipython3",
   "version": "3.11.8"
  }
 },
 "nbformat": 4,
 "nbformat_minor": 2
}
