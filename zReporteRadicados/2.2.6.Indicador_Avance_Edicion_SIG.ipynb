{
 "cells": [
  {
   "cell_type": "code",
   "execution_count": 1,
   "metadata": {},
   "outputs": [],
   "source": [
    "import funcion_edicion_sig_x_municipio\n",
    "import funcion_append_avance_edicion_gis\n",
    "import funcion_xlsx_avance_edicion_gis"
   ]
  },
  {
   "cell_type": "markdown",
   "metadata": {},
   "source": [
    "<h3>Parametrización de Variables</h3>"
   ]
  },
  {
   "cell_type": "code",
   "execution_count": 2,
   "metadata": {},
   "outputs": [],
   "source": [
    "ruta_2_2_6 = r\"C:\\docsProyectos\\5.RAISS\\2024.0.RAISS_Lote_4\\6.Hitos\\E2_Informes_Id_FisicoJuridica\\2_2_6_Indicador_Edicion_Geografica\\Base_Datos\\2_2_6.gdb\"\n",
    "\n",
    "sheet_name = 'CONTROL_CAMBIOS_REPELON'\n",
    "sheet_id = '1T3B-Cnkje56tDg8xJ9BirIit57EmcPCu2m9BHanDPgo'\n",
    "municipio = 'Repelon'\n",
    "\n",
    "sheet_name = 'CONTROL_CAMBIOS_MARIALABAJA'\n",
    "sheet_id = '1n_t9qtwLeIklH5UFoH9iDPiAa6uN4HZeR1-atsKTYeU'\n",
    "municipio = 'MariaLaBaja'\n",
    "\n",
    "sheet_name = 'CONTROL_CAMBIOS_BARANOA'\n",
    "sheet_id = '1YgXN5RrBAEMXcBou894_LJi7tXjj1R8LPT0AJ0VWme4'\n",
    "municipio = 'Baranoa'"
   ]
  },
  {
   "cell_type": "code",
   "execution_count": 3,
   "metadata": {},
   "outputs": [
    {
     "name": "stdout",
     "output_type": "stream",
     "text": [
      "De la capa original de Terrenos con 40022 registros se elimanan repetidos, obteniendose 39739\n",
      "Concluye el proceso\n",
      "Registros NO espacializados: 0\n",
      "Se genera FC asociado a terrenos editados, para el municipio Baranoa\n",
      "Se genera el excel para el municipio de Baranoa\n",
      "1. Finaliza Baranoa\n"
     ]
    }
   ],
   "source": [
    "funcion_edicion_sig_x_municipio.edicion_sig_municipio(sheet_name,sheet_id,municipio)\n",
    "print(f\"1. Finaliza {municipio}\")"
   ]
  },
  {
   "cell_type": "code",
   "execution_count": 4,
   "metadata": {},
   "outputs": [
    {
     "name": "stdout",
     "output_type": "stream",
     "text": [
      "De la capa original de Terrenos con 40022 registros se elimanan repetidos, obteniendose 39739\n",
      "Concluye el proceso\n",
      "Registros NO espacializados: 0\n",
      "Se genera FC asociado a terrenos editados, para el municipio Baranoa\n",
      "Se genera el excel para el municipio de Baranoa\n",
      "2. Finaliza Baranoa\n"
     ]
    }
   ],
   "source": [
    "\n",
    "funcion_edicion_sig_x_municipio.edicion_sig_municipio(sheet_name,sheet_id,municipio)\n",
    "print(f\"2. Finaliza {municipio}\")"
   ]
  },
  {
   "cell_type": "code",
   "execution_count": 5,
   "metadata": {},
   "outputs": [
    {
     "name": "stdout",
     "output_type": "stream",
     "text": [
      "De la capa original de Terrenos con 40022 registros se elimanan repetidos, obteniendose 39739\n",
      "Concluye el proceso\n",
      "Registros NO espacializados: 0\n",
      "Se genera FC asociado a terrenos editados, para el municipio Baranoa\n",
      "Se genera el excel para el municipio de Baranoa\n",
      "3. Finaliza Baranoa\n"
     ]
    }
   ],
   "source": [
    "\n",
    "funcion_edicion_sig_x_municipio.edicion_sig_municipio(sheet_name,sheet_id,municipio)\n",
    "print(f\"3. Finaliza {municipio}\")"
   ]
  },
  {
   "cell_type": "markdown",
   "metadata": {},
   "source": [
    "<h3>Construcción de Estadísticos XLSX</h3>"
   ]
  },
  {
   "cell_type": "code",
   "execution_count": 6,
   "metadata": {},
   "outputs": [
    {
     "name": "stdout",
     "output_type": "stream",
     "text": [
      "Se genera XLSX 20240625_avance_edicios_GIS.xlsx\n"
     ]
    }
   ],
   "source": [
    "funcion_xlsx_avance_edicion_gis.xlsx_avance_edicion_gis()"
   ]
  },
  {
   "cell_type": "markdown",
   "metadata": {},
   "source": [
    "<h3>Ejecución Unión Avance GEO</h3>"
   ]
  },
  {
   "cell_type": "code",
   "execution_count": 7,
   "metadata": {},
   "outputs": [
    {
     "name": "stdout",
     "output_type": "stream",
     "text": [
      "* Se completa el truncado de las tabla objetivo: terrenos_editados\n",
      "1. Se completa el truncado de las tablas objetivo\n",
      "2. Se anexan capas a BD\n"
     ]
    }
   ],
   "source": [
    "funcion_append_avance_edicion_gis.append_terrenos_avance_edicion_gis(ruta_2_2_6)"
   ]
  }
 ],
 "metadata": {
  "kernelspec": {
   "display_name": "Python 3",
   "language": "python",
   "name": "python3"
  },
  "language_info": {
   "codemirror_mode": {
    "name": "ipython",
    "version": 3
   },
   "file_extension": ".py",
   "mimetype": "text/x-python",
   "name": "python",
   "nbconvert_exporter": "python",
   "pygments_lexer": "ipython3",
   "version": "3.11.8"
  }
 },
 "nbformat": 4,
 "nbformat_minor": 2
}
