{
 "cells": [
  {
   "cell_type": "code",
   "execution_count": 1,
   "metadata": {
    "execution": {
     "iopub.execute_input": "2024-07-18T13:49:39.520592Z",
     "iopub.status.busy": "2024-07-18T13:49:39.520592Z",
     "iopub.status.idle": "2024-07-18T13:49:43.375779Z",
     "shell.execute_reply": "2024-07-18T13:49:43.375779Z"
    }
   },
   "outputs": [],
   "source": [
    "import funcion_edicion_sig_x_municipio\n",
    "import funcion_append_avance_edicion_gis\n",
    "import funcion_xlsx_avance_edicion_gis\n",
    "import funcion_exportacion_pdf_seriemapas\n",
    "\n",
    "import shutil, os"
   ]
  },
  {
   "cell_type": "markdown",
   "metadata": {},
   "source": [
    "<h3>Parametrización de Variables</h3>"
   ]
  },
  {
   "cell_type": "code",
   "execution_count": 2,
   "metadata": {
    "execution": {
     "iopub.execute_input": "2024-07-18T13:49:43.375779Z",
     "iopub.status.busy": "2024-07-18T13:49:43.375779Z",
     "iopub.status.idle": "2024-07-18T13:49:43.381244Z",
     "shell.execute_reply": "2024-07-18T13:49:43.381244Z"
    }
   },
   "outputs": [],
   "source": [
    "ruta_2_2_6 = r\"C:\\docsProyectos\\5.RAISS\\2024.0.RAISS_Lote_4\\6.Hitos\\E2_Informes_Id_FisicoJuridica\\2_2_6_Indicador_Edicion_Geografica\\Base_Datos\\2_2_6.gdb\"\n",
    "\n",
    "sheet_name_R = 'CONTROL_CAMBIOS_REPELON'\n",
    "sheet_id_R = '1T3B-Cnkje56tDg8xJ9BirIit57EmcPCu2m9BHanDPgo'\n",
    "municipio_R = 'Repelon'\n",
    "\n",
    "sheet_name_M = 'CONTROL_CAMBIOS_MARIALABAJA'\n",
    "sheet_id_M = '1n_t9qtwLeIklH5UFoH9iDPiAa6uN4HZeR1-atsKTYeU'\n",
    "municipio_M = 'MariaLaBaja'\n",
    "\n",
    "sheet_name_B = 'CONTROL_CAMBIOS_BARANOA'\n",
    "sheet_id_B = '1YgXN5RrBAEMXcBou894_LJi7tXjj1R8LPT0AJ0VWme4'\n",
    "municipio_B = 'Baranoa'\n",
    "\n",
    "# ? Copia de Salidas Gráficas\n",
    "RUTA_ORIGEN = r\"C:\\docsProyectos\\5.RAISS\\2024.0.RAISS_Lote_4\\6.Hitos\\E2_Informes_Id_FisicoJuridica\\2_2_6_Indicador_Edicion_Geografica\\Salidas_Graficas\"\n",
    "RUTA_DESTINO = r\"G:\\Mi unidad\\Equipo_Consolidacion\\Hitos\\E2_Informes_Id_FisicoJuridica\\2_2_6_Indicador_Edicion_Geografica\\Salidas_Graficas\""
   ]
  },
  {
   "cell_type": "code",
   "execution_count": 3,
   "metadata": {
    "execution": {
     "iopub.execute_input": "2024-07-18T13:49:43.381244Z",
     "iopub.status.busy": "2024-07-18T13:49:43.381244Z",
     "iopub.status.idle": "2024-07-18T13:51:37.237023Z",
     "shell.execute_reply": "2024-07-18T13:51:37.236442Z"
    }
   },
   "outputs": [
    {
     "name": "stdout",
     "output_type": "stream",
     "text": [
      "De la capa original de Terrenos con 40022 registros se elimanan repetidos, obteniendose 39739\n",
      "39743\n",
      "34658\n",
      "Se crea la capa TERRENO_UNIFICADO_w_GIS en BD \n",
      " C:\\docsProyectos\\5.RAISS\\2024.0.RAISS_Lote_4\\6.Hitos\\E1_Alistamiento_Diagnostico\\3_Disposicion\\1.BD_Consolidada\\BD_Consolidada_Lote4.gdb\\Analitica_UT_Consolidada\n",
      "Se actualiza el campo de hectareaje\n",
      "Concluye el proceso\n",
      "Registros NO espacializados: 0\n",
      "Se genera FC asociado a terrenos editados, para el municipio MariaLaBaja\n",
      "Se genera el excel para el municipio de MariaLaBaja\n",
      "1. Finaliza MariaLaBaja\n"
     ]
    }
   ],
   "source": [
    "funcion_edicion_sig_x_municipio.edicion_sig_municipio(sheet_name_M,sheet_id_M,municipio_M)\n",
    "print(f\"1. Finaliza {municipio_M}\")"
   ]
  },
  {
   "cell_type": "code",
   "execution_count": 4,
   "metadata": {
    "execution": {
     "iopub.execute_input": "2024-07-18T13:51:37.239139Z",
     "iopub.status.busy": "2024-07-18T13:51:37.239139Z",
     "iopub.status.idle": "2024-07-18T13:53:37.046394Z",
     "shell.execute_reply": "2024-07-18T13:53:37.046394Z"
    }
   },
   "outputs": [
    {
     "name": "stdout",
     "output_type": "stream",
     "text": [
      "De la capa original de Terrenos con 40022 registros se elimanan repetidos, obteniendose 39739\n",
      "39743\n",
      "34658\n",
      "Se crea la capa TERRENO_UNIFICADO_w_GIS en BD \n",
      " C:\\docsProyectos\\5.RAISS\\2024.0.RAISS_Lote_4\\6.Hitos\\E1_Alistamiento_Diagnostico\\3_Disposicion\\1.BD_Consolidada\\BD_Consolidada_Lote4.gdb\\Analitica_UT_Consolidada\n",
      "Se actualiza el campo de hectareaje\n",
      "Concluye el proceso\n",
      "Registros NO espacializados: 0\n",
      "Se genera FC asociado a terrenos editados, para el municipio Repelon\n",
      "Se genera el excel para el municipio de Repelon\n",
      "2. Finaliza Repelon\n"
     ]
    }
   ],
   "source": [
    "\n",
    "funcion_edicion_sig_x_municipio.edicion_sig_municipio(sheet_name_R,sheet_id_R,municipio_R)\n",
    "print(f\"2. Finaliza {municipio_R}\")"
   ]
  },
  {
   "cell_type": "code",
   "execution_count": 5,
   "metadata": {
    "execution": {
     "iopub.execute_input": "2024-07-18T13:53:37.046394Z",
     "iopub.status.busy": "2024-07-18T13:53:37.046394Z",
     "iopub.status.idle": "2024-07-18T13:55:26.699895Z",
     "shell.execute_reply": "2024-07-18T13:55:26.698868Z"
    }
   },
   "outputs": [
    {
     "name": "stdout",
     "output_type": "stream",
     "text": [
      "De la capa original de Terrenos con 40022 registros se elimanan repetidos, obteniendose 39739\n",
      "39743\n",
      "34658\n",
      "Se crea la capa TERRENO_UNIFICADO_w_GIS en BD \n",
      " C:\\docsProyectos\\5.RAISS\\2024.0.RAISS_Lote_4\\6.Hitos\\E1_Alistamiento_Diagnostico\\3_Disposicion\\1.BD_Consolidada\\BD_Consolidada_Lote4.gdb\\Analitica_UT_Consolidada\n",
      "Se actualiza el campo de hectareaje\n",
      "Concluye el proceso\n",
      "Registros NO espacializados: 0\n",
      "Se genera FC asociado a terrenos editados, para el municipio Baranoa\n",
      "Se genera el excel para el municipio de Baranoa\n",
      "3. Finaliza Baranoa\n"
     ]
    }
   ],
   "source": [
    "\n",
    "funcion_edicion_sig_x_municipio.edicion_sig_municipio(sheet_name_B,sheet_id_B,municipio_B)\n",
    "print(f\"3. Finaliza {municipio_B}\")"
   ]
  },
  {
   "cell_type": "markdown",
   "metadata": {},
   "source": [
    "<h3>Construcción de Estadísticos XLSX</h3>"
   ]
  },
  {
   "cell_type": "code",
   "execution_count": 6,
   "metadata": {
    "execution": {
     "iopub.execute_input": "2024-07-18T13:55:26.699895Z",
     "iopub.status.busy": "2024-07-18T13:55:26.699895Z",
     "iopub.status.idle": "2024-07-18T13:55:26.884667Z",
     "shell.execute_reply": "2024-07-18T13:55:26.884667Z"
    }
   },
   "outputs": [
    {
     "name": "stdout",
     "output_type": "stream",
     "text": [
      "Se genera XLSX 20240718_avance_edicios_GIS.xlsx\n",
      "Se copia a Google Drive\n"
     ]
    }
   ],
   "source": [
    "funcion_xlsx_avance_edicion_gis.xlsx_avance_edicion_gis()"
   ]
  },
  {
   "cell_type": "markdown",
   "metadata": {},
   "source": [
    "<h3>Ejecución Unión Avance GEO</h3>"
   ]
  },
  {
   "cell_type": "code",
   "execution_count": 7,
   "metadata": {
    "execution": {
     "iopub.execute_input": "2024-07-18T13:55:26.886673Z",
     "iopub.status.busy": "2024-07-18T13:55:26.886673Z",
     "iopub.status.idle": "2024-07-18T13:55:27.650067Z",
     "shell.execute_reply": "2024-07-18T13:55:27.650067Z"
    }
   },
   "outputs": [
    {
     "name": "stdout",
     "output_type": "stream",
     "text": [
      "* Se completa el truncado de las tabla objetivo: terrenos_editados\n",
      "1. Se completa el truncado de las tablas objetivo\n",
      "2. Se anexan capas a BD\n"
     ]
    }
   ],
   "source": [
    "funcion_append_avance_edicion_gis.append_terrenos_avance_edicion_gis(ruta_2_2_6)"
   ]
  },
  {
   "cell_type": "markdown",
   "metadata": {},
   "source": [
    "<h3>Generación Salida Gráfica</h3>"
   ]
  },
  {
   "cell_type": "code",
   "execution_count": 8,
   "metadata": {
    "execution": {
     "iopub.execute_input": "2024-07-18T13:55:27.650067Z",
     "iopub.status.busy": "2024-07-18T13:55:27.650067Z",
     "iopub.status.idle": "2024-07-18T13:55:50.287010Z",
     "shell.execute_reply": "2024-07-18T13:55:50.287010Z"
    }
   },
   "outputs": [
    {
     "name": "stdout",
     "output_type": "stream",
     "text": [
      "Nombre Layout: Gestión Cambios - Equipo SIG\n",
      "Se exporta a PDF Gestión Cambios - Equipo SIG\n"
     ]
    }
   ],
   "source": [
    "funcion_exportacion_pdf_seriemapas.exportacion_salida_grafica('Gestión Cambios - Equipo SIG', RUTA_ORIGEN)"
   ]
  },
  {
   "cell_type": "markdown",
   "metadata": {},
   "source": [
    "<h4> - Se copia a Google Drive</h4>"
   ]
  },
  {
   "cell_type": "code",
   "execution_count": 9,
   "metadata": {
    "execution": {
     "iopub.execute_input": "2024-07-18T13:55:50.287010Z",
     "iopub.status.busy": "2024-07-18T13:55:50.287010Z",
     "iopub.status.idle": "2024-07-18T13:55:51.257887Z",
     "shell.execute_reply": "2024-07-18T13:55:51.257887Z"
    }
   },
   "outputs": [
    {
     "name": "stdout",
     "output_type": "stream",
     "text": [
      "Se copia 20240626_Baranoa.jpg a G:\\Mi unidad\\Equipo_Consolidacion\\Hitos\\E2_Informes_Id_FisicoJuridica\\2_2_6_Indicador_Edicion_Geografica\\Salidas_Graficas\n",
      "Se copia 20240626_María La Baja.jpg a G:\\Mi unidad\\Equipo_Consolidacion\\Hitos\\E2_Informes_Id_FisicoJuridica\\2_2_6_Indicador_Edicion_Geografica\\Salidas_Graficas\n",
      "Se copia 20240626_Repelón.jpg a G:\\Mi unidad\\Equipo_Consolidacion\\Hitos\\E2_Informes_Id_FisicoJuridica\\2_2_6_Indicador_Edicion_Geografica\\Salidas_Graficas\n",
      "Se copia 20240702_Baranoa.pdf a G:\\Mi unidad\\Equipo_Consolidacion\\Hitos\\E2_Informes_Id_FisicoJuridica\\2_2_6_Indicador_Edicion_Geografica\\Salidas_Graficas\n",
      "Se copia 20240702_María La Baja.pdf a G:\\Mi unidad\\Equipo_Consolidacion\\Hitos\\E2_Informes_Id_FisicoJuridica\\2_2_6_Indicador_Edicion_Geografica\\Salidas_Graficas\n",
      "Se copia 20240702_Repelón.pdf a G:\\Mi unidad\\Equipo_Consolidacion\\Hitos\\E2_Informes_Id_FisicoJuridica\\2_2_6_Indicador_Edicion_Geografica\\Salidas_Graficas\n",
      "Se copia 20240703_Baranoa.pdf a G:\\Mi unidad\\Equipo_Consolidacion\\Hitos\\E2_Informes_Id_FisicoJuridica\\2_2_6_Indicador_Edicion_Geografica\\Salidas_Graficas\n",
      "Se copia 20240703_María La Baja.pdf a G:\\Mi unidad\\Equipo_Consolidacion\\Hitos\\E2_Informes_Id_FisicoJuridica\\2_2_6_Indicador_Edicion_Geografica\\Salidas_Graficas\n",
      "Se copia 20240703_Repelón.pdf a G:\\Mi unidad\\Equipo_Consolidacion\\Hitos\\E2_Informes_Id_FisicoJuridica\\2_2_6_Indicador_Edicion_Geografica\\Salidas_Graficas\n",
      "Se copia 20240704_Baranoa.pdf a G:\\Mi unidad\\Equipo_Consolidacion\\Hitos\\E2_Informes_Id_FisicoJuridica\\2_2_6_Indicador_Edicion_Geografica\\Salidas_Graficas\n",
      "Se copia 20240704_María La Baja.pdf a G:\\Mi unidad\\Equipo_Consolidacion\\Hitos\\E2_Informes_Id_FisicoJuridica\\2_2_6_Indicador_Edicion_Geografica\\Salidas_Graficas\n",
      "Se copia 20240704_Repelón.pdf a G:\\Mi unidad\\Equipo_Consolidacion\\Hitos\\E2_Informes_Id_FisicoJuridica\\2_2_6_Indicador_Edicion_Geografica\\Salidas_Graficas\n",
      "Se copia 20240705_Baranoa.pdf a G:\\Mi unidad\\Equipo_Consolidacion\\Hitos\\E2_Informes_Id_FisicoJuridica\\2_2_6_Indicador_Edicion_Geografica\\Salidas_Graficas\n",
      "Se copia 20240705_María La Baja.pdf a G:\\Mi unidad\\Equipo_Consolidacion\\Hitos\\E2_Informes_Id_FisicoJuridica\\2_2_6_Indicador_Edicion_Geografica\\Salidas_Graficas\n",
      "Se copia 20240705_Repelón.pdf a G:\\Mi unidad\\Equipo_Consolidacion\\Hitos\\E2_Informes_Id_FisicoJuridica\\2_2_6_Indicador_Edicion_Geografica\\Salidas_Graficas\n",
      "Se copia 20240708_Baranoa.pdf a G:\\Mi unidad\\Equipo_Consolidacion\\Hitos\\E2_Informes_Id_FisicoJuridica\\2_2_6_Indicador_Edicion_Geografica\\Salidas_Graficas\n",
      "Se copia 20240708_María La Baja.pdf a G:\\Mi unidad\\Equipo_Consolidacion\\Hitos\\E2_Informes_Id_FisicoJuridica\\2_2_6_Indicador_Edicion_Geografica\\Salidas_Graficas\n",
      "Se copia 20240708_Repelón.pdf a G:\\Mi unidad\\Equipo_Consolidacion\\Hitos\\E2_Informes_Id_FisicoJuridica\\2_2_6_Indicador_Edicion_Geografica\\Salidas_Graficas\n",
      "Se copia 20240709_Baranoa.pdf a G:\\Mi unidad\\Equipo_Consolidacion\\Hitos\\E2_Informes_Id_FisicoJuridica\\2_2_6_Indicador_Edicion_Geografica\\Salidas_Graficas\n",
      "Se copia 20240709_María La Baja.pdf a G:\\Mi unidad\\Equipo_Consolidacion\\Hitos\\E2_Informes_Id_FisicoJuridica\\2_2_6_Indicador_Edicion_Geografica\\Salidas_Graficas\n",
      "Se copia 20240709_Repelón.pdf a G:\\Mi unidad\\Equipo_Consolidacion\\Hitos\\E2_Informes_Id_FisicoJuridica\\2_2_6_Indicador_Edicion_Geografica\\Salidas_Graficas\n",
      "Se copia 20240710_Baranoa.pdf a G:\\Mi unidad\\Equipo_Consolidacion\\Hitos\\E2_Informes_Id_FisicoJuridica\\2_2_6_Indicador_Edicion_Geografica\\Salidas_Graficas\n",
      "Se copia 20240710_María La Baja.pdf a G:\\Mi unidad\\Equipo_Consolidacion\\Hitos\\E2_Informes_Id_FisicoJuridica\\2_2_6_Indicador_Edicion_Geografica\\Salidas_Graficas\n",
      "Se copia 20240710_Repelón.pdf a G:\\Mi unidad\\Equipo_Consolidacion\\Hitos\\E2_Informes_Id_FisicoJuridica\\2_2_6_Indicador_Edicion_Geografica\\Salidas_Graficas\n",
      "Se copia 20240712_Baranoa.pdf a G:\\Mi unidad\\Equipo_Consolidacion\\Hitos\\E2_Informes_Id_FisicoJuridica\\2_2_6_Indicador_Edicion_Geografica\\Salidas_Graficas\n",
      "Se copia 20240712_María La Baja.pdf a G:\\Mi unidad\\Equipo_Consolidacion\\Hitos\\E2_Informes_Id_FisicoJuridica\\2_2_6_Indicador_Edicion_Geografica\\Salidas_Graficas\n",
      "Se copia 20240712_Repelón.pdf a G:\\Mi unidad\\Equipo_Consolidacion\\Hitos\\E2_Informes_Id_FisicoJuridica\\2_2_6_Indicador_Edicion_Geografica\\Salidas_Graficas\n",
      "Se copia 20240716_Baranoa.pdf a G:\\Mi unidad\\Equipo_Consolidacion\\Hitos\\E2_Informes_Id_FisicoJuridica\\2_2_6_Indicador_Edicion_Geografica\\Salidas_Graficas\n",
      "Se copia 20240716_María La Baja.pdf a G:\\Mi unidad\\Equipo_Consolidacion\\Hitos\\E2_Informes_Id_FisicoJuridica\\2_2_6_Indicador_Edicion_Geografica\\Salidas_Graficas\n",
      "Se copia 20240716_Repelón.pdf a G:\\Mi unidad\\Equipo_Consolidacion\\Hitos\\E2_Informes_Id_FisicoJuridica\\2_2_6_Indicador_Edicion_Geografica\\Salidas_Graficas\n",
      "Se copia 20240717_Baranoa.pdf a G:\\Mi unidad\\Equipo_Consolidacion\\Hitos\\E2_Informes_Id_FisicoJuridica\\2_2_6_Indicador_Edicion_Geografica\\Salidas_Graficas\n",
      "Se copia 20240717_María La Baja.pdf a G:\\Mi unidad\\Equipo_Consolidacion\\Hitos\\E2_Informes_Id_FisicoJuridica\\2_2_6_Indicador_Edicion_Geografica\\Salidas_Graficas\n",
      "Se copia 20240717_Repelón.pdf a G:\\Mi unidad\\Equipo_Consolidacion\\Hitos\\E2_Informes_Id_FisicoJuridica\\2_2_6_Indicador_Edicion_Geografica\\Salidas_Graficas\n",
      "Se copia 20240718_Baranoa.pdf a G:\\Mi unidad\\Equipo_Consolidacion\\Hitos\\E2_Informes_Id_FisicoJuridica\\2_2_6_Indicador_Edicion_Geografica\\Salidas_Graficas\n",
      "Se copia 20240718_María La Baja.pdf a G:\\Mi unidad\\Equipo_Consolidacion\\Hitos\\E2_Informes_Id_FisicoJuridica\\2_2_6_Indicador_Edicion_Geografica\\Salidas_Graficas\n",
      "Se copia 20240718_Repelón.pdf a G:\\Mi unidad\\Equipo_Consolidacion\\Hitos\\E2_Informes_Id_FisicoJuridica\\2_2_6_Indicador_Edicion_Geografica\\Salidas_Graficas\n"
     ]
    }
   ],
   "source": [
    "archivos_origen = os.listdir(RUTA_ORIGEN)\n",
    "for archivo in archivos_origen:\n",
    "    shutil.copy(src=os.path.join(RUTA_ORIGEN, archivo),dst=os.path.join(RUTA_DESTINO, archivo))\n",
    "    print(f\"Se copia {archivo} a {RUTA_DESTINO}\")"
   ]
  }
 ],
 "metadata": {
  "kernelspec": {
   "display_name": "Python 3",
   "language": "python",
   "name": "python3"
  },
  "language_info": {
   "codemirror_mode": {
    "name": "ipython",
    "version": 3
   },
   "file_extension": ".py",
   "mimetype": "text/x-python",
   "name": "python",
   "nbconvert_exporter": "python",
   "pygments_lexer": "ipython3",
   "version": "3.11.8"
  }
 },
 "nbformat": 4,
 "nbformat_minor": 2
}
