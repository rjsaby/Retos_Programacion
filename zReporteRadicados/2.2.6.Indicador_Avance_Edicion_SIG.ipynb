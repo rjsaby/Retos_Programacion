{
 "cells": [
  {
   "cell_type": "code",
   "execution_count": 1,
   "metadata": {
    "execution": {
     "iopub.execute_input": "2024-09-06T17:08:54.534944Z",
     "iopub.status.busy": "2024-09-06T17:08:54.533944Z",
     "iopub.status.idle": "2024-09-06T17:09:02.051996Z",
     "shell.execute_reply": "2024-09-06T17:09:02.050991Z"
    }
   },
   "outputs": [],
   "source": [
    "import funcion_edicion_sig_x_municipio\n",
    "import funcion_append_avance_edicion_gis\n",
    "import funcion_xlsx_avance_edicion_gis\n",
    "import funcion_exportacion_pdf_seriemapas\n",
    "\n",
    "import shutil, os\n",
    "from datetime  import datetime as dt"
   ]
  },
  {
   "cell_type": "markdown",
   "metadata": {},
   "source": [
    "<h3>Parametrización de Variables</h3>"
   ]
  },
  {
   "cell_type": "code",
   "execution_count": 2,
   "metadata": {
    "execution": {
     "iopub.execute_input": "2024-09-06T17:09:02.054996Z",
     "iopub.status.busy": "2024-09-06T17:09:02.053996Z",
     "iopub.status.idle": "2024-09-06T17:09:02.060059Z",
     "shell.execute_reply": "2024-09-06T17:09:02.059054Z"
    }
   },
   "outputs": [],
   "source": [
    "\n",
    "ruta_2_2_6 = r\"C:\\docsProyectos\\5.RAISS\\2024.0.RAISS_Lote_4\\6.Hitos\\E2_Informes_Id_FisicoJuridica\\2_2_6_Indicador_Edicion_Geografica\\Base_Datos\\2_2_6.gdb\"\n",
    "\n",
    "sheet_name_R = 'CONTROL_CAMBIOS_REPELON'\n",
    "sheet_id_R = '1T3B-Cnkje56tDg8xJ9BirIit57EmcPCu2m9BHanDPgo'\n",
    "municipio_R = 'Repelon'\n",
    "\n",
    "sheet_name_M = 'CONTROL_CAMBIOS_MARIALABAJA'\n",
    "sheet_id_M = '1n_t9qtwLeIklH5UFoH9iDPiAa6uN4HZeR1-atsKTYeU'\n",
    "municipio_M = 'MariaLaBaja'\n",
    "\n",
    "sheet_name_B = 'CONTROL_CAMBIOS_BARANOA'\n",
    "sheet_id_B = '1YgXN5RrBAEMXcBou894_LJi7tXjj1R8LPT0AJ0VWme4'\n",
    "municipio_B = 'Baranoa'\n",
    "\n",
    "sheet_name_S = 'CONTROL_CAMBIOS_SABANA_GRANDE'\n",
    "sheet_id_S = '1E_eSRnvJvgns4tCEx5dAFD_NHrzlyQrE2NUNEjFWo5w'\n",
    "municipio_S = 'Sabanagrande'\n",
    "\n",
    "# TODO: Copia de Salidas Gráficas\n",
    "RUTA_ORIGEN = r\"C:\\docsProyectos\\5.RAISS\\2024.0.RAISS_Lote_4\\6.Hitos\\E2_Informes_Id_FisicoJuridica\\2_2_6_Indicador_Edicion_Geografica\\Salidas_Graficas\"\n",
    "RUTA_DESTINO = r\"G:\\Mi unidad\\Equipo_Consolidacion\\Hitos\\E2_Informes_Id_FisicoJuridica\\2_2_6_Indicador_Edicion_Geografica\\Salidas_Graficas\""
   ]
  },
  {
   "cell_type": "code",
   "execution_count": null,
   "metadata": {
    "execution": {
     "iopub.execute_input": "2024-09-06T17:09:02.063059Z",
     "iopub.status.busy": "2024-09-06T17:09:02.062059Z",
     "iopub.status.idle": "2024-09-06T17:09:24.422961Z",
     "shell.execute_reply": "2024-09-06T17:09:24.422961Z"
    }
   },
   "outputs": [],
   "source": [
    "funcion_edicion_sig_x_municipio.edicion_sig_municipio(sheet_name_M,sheet_id_M,municipio_M)\n",
    "print(f\"1. Finaliza {municipio_M}\")"
   ]
  },
  {
   "cell_type": "code",
   "execution_count": null,
   "metadata": {
    "execution": {
     "iopub.execute_input": "2024-09-06T17:09:24.426966Z",
     "iopub.status.busy": "2024-09-06T17:09:24.425965Z",
     "iopub.status.idle": "2024-09-06T17:09:37.750929Z",
     "shell.execute_reply": "2024-09-06T17:09:37.750929Z"
    }
   },
   "outputs": [],
   "source": [
    "\n",
    "funcion_edicion_sig_x_municipio.edicion_sig_municipio(sheet_name_R,sheet_id_R,municipio_R)\n",
    "print(f\"2. Finaliza {municipio_R}\")"
   ]
  },
  {
   "cell_type": "code",
   "execution_count": null,
   "metadata": {
    "execution": {
     "iopub.execute_input": "2024-09-06T17:09:37.755934Z",
     "iopub.status.busy": "2024-09-06T17:09:37.755934Z",
     "iopub.status.idle": "2024-09-06T17:09:54.301808Z",
     "shell.execute_reply": "2024-09-06T17:09:54.300799Z"
    }
   },
   "outputs": [],
   "source": [
    "\n",
    "funcion_edicion_sig_x_municipio.edicion_sig_municipio(sheet_name_B,sheet_id_B,municipio_B)\n",
    "print(f\"3. Finaliza {municipio_B}\")"
   ]
  },
  {
   "cell_type": "code",
   "execution_count": null,
   "metadata": {
    "execution": {
     "iopub.execute_input": "2024-09-06T17:09:54.305309Z",
     "iopub.status.busy": "2024-09-06T17:09:54.303805Z",
     "iopub.status.idle": "2024-09-06T17:10:06.615962Z",
     "shell.execute_reply": "2024-09-06T17:10:06.614956Z"
    }
   },
   "outputs": [],
   "source": [
    "funcion_edicion_sig_x_municipio.edicion_sig_municipio(sheet_name_S,sheet_id_S,municipio_S)\n",
    "print(f\"3. Finaliza {municipio_S}\")"
   ]
  },
  {
   "cell_type": "markdown",
   "metadata": {},
   "source": [
    "<h3>Construcción de Estadísticos XLSX</h3>"
   ]
  },
  {
   "cell_type": "code",
   "execution_count": null,
   "metadata": {
    "execution": {
     "iopub.execute_input": "2024-09-06T17:10:06.618964Z",
     "iopub.status.busy": "2024-09-06T17:10:06.618964Z",
     "iopub.status.idle": "2024-09-06T17:10:31.218706Z",
     "shell.execute_reply": "2024-09-06T17:10:31.217701Z"
    }
   },
   "outputs": [],
   "source": [
    "funcion_xlsx_avance_edicion_gis.xlsx_avance_edicion_gis()"
   ]
  },
  {
   "cell_type": "markdown",
   "metadata": {},
   "source": [
    "<h3>Ejecución Unión Avance GEO</h3>"
   ]
  },
  {
   "cell_type": "code",
   "execution_count": null,
   "metadata": {
    "execution": {
     "iopub.execute_input": "2024-09-06T17:10:31.221708Z",
     "iopub.status.busy": "2024-09-06T17:10:31.221708Z",
     "iopub.status.idle": "2024-09-06T17:10:33.795055Z",
     "shell.execute_reply": "2024-09-06T17:10:33.795055Z"
    }
   },
   "outputs": [],
   "source": [
    "funcion_append_avance_edicion_gis.append_terrenos_avance_edicion_gis(ruta_2_2_6)"
   ]
  },
  {
   "cell_type": "markdown",
   "metadata": {},
   "source": [
    "<h3>Generación Salida Gráfica</h3>"
   ]
  },
  {
   "cell_type": "code",
   "execution_count": null,
   "metadata": {
    "execution": {
     "iopub.execute_input": "2024-09-06T17:10:33.798072Z",
     "iopub.status.busy": "2024-09-06T17:10:33.798072Z",
     "iopub.status.idle": "2024-09-06T17:11:26.361363Z",
     "shell.execute_reply": "2024-09-06T17:11:26.361363Z"
    }
   },
   "outputs": [],
   "source": [
    "funcion_exportacion_pdf_seriemapas.exportacion_salida_grafica('Gestión Cambios - Equipo SIG', RUTA_ORIGEN)"
   ]
  },
  {
   "cell_type": "markdown",
   "metadata": {},
   "source": [
    "<h4> - Se copia a Google Drive</h4>"
   ]
  },
  {
   "cell_type": "code",
   "execution_count": null,
   "metadata": {
    "execution": {
     "iopub.execute_input": "2024-09-06T17:11:26.365370Z",
     "iopub.status.busy": "2024-09-06T17:11:26.364371Z",
     "iopub.status.idle": "2024-09-06T17:11:32.610325Z",
     "shell.execute_reply": "2024-09-06T17:11:32.609317Z"
    }
   },
   "outputs": [],
   "source": [
    "archivos_origen = os.listdir(RUTA_ORIGEN)\n",
    "for archivo in archivos_origen:\n",
    "    shutil.copy(src=os.path.join(RUTA_ORIGEN, archivo),dst=os.path.join(RUTA_DESTINO, archivo))\n",
    "    print(f\"Se copia {archivo} a {RUTA_DESTINO}\")"
   ]
  }
 ],
 "metadata": {
  "kernelspec": {
   "display_name": "Python 3",
   "language": "python",
   "name": "python3"
  },
  "language_info": {
   "codemirror_mode": {
    "name": "ipython",
    "version": 3
   },
   "file_extension": ".py",
   "mimetype": "text/x-python",
   "name": "python",
   "nbconvert_exporter": "python",
   "pygments_lexer": "ipython3",
   "version": "3.11.8"
  }
 },
 "nbformat": 4,
 "nbformat_minor": 2
}
