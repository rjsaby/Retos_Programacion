{
 "cells": [
  {
   "cell_type": "code",
   "execution_count": 1,
   "metadata": {
    "execution": {
<<<<<<< HEAD
     "iopub.execute_input": "2024-09-06T05:46:58.524376Z",
     "iopub.status.busy": "2024-09-06T05:46:58.524376Z",
     "iopub.status.idle": "2024-09-06T05:47:12.140970Z",
     "shell.execute_reply": "2024-09-06T05:47:12.140970Z"
=======
     "iopub.execute_input": "2024-07-18T13:49:39.520592Z",
     "iopub.status.busy": "2024-07-18T13:49:39.520592Z",
     "iopub.status.idle": "2024-07-18T13:49:43.375779Z",
     "shell.execute_reply": "2024-07-18T13:49:43.375779Z"
>>>>>>> 1de0162e9ad4e7a9df62aadbca46c2194b3914e9
    }
   },
   "outputs": [],
   "source": [
    "import funcion_edicion_sig_x_municipio\n",
    "import funcion_append_avance_edicion_gis\n",
    "import funcion_xlsx_avance_edicion_gis\n",
    "import funcion_exportacion_pdf_seriemapas\n",
    "\n",
<<<<<<< HEAD
    "import shutil, os\n",
    "from datetime  import datetime as dt"
=======
    "import shutil, os"
>>>>>>> 1de0162e9ad4e7a9df62aadbca46c2194b3914e9
   ]
  },
  {
   "cell_type": "markdown",
   "metadata": {},
   "source": [
    "<h3>Parametrización de Variables</h3>"
   ]
  },
  {
   "cell_type": "code",
   "execution_count": 2,
   "metadata": {
    "execution": {
<<<<<<< HEAD
     "iopub.execute_input": "2024-09-06T05:47:12.143976Z",
     "iopub.status.busy": "2024-09-06T05:47:12.143976Z",
     "iopub.status.idle": "2024-09-06T05:47:12.147618Z",
     "shell.execute_reply": "2024-09-06T05:47:12.147618Z"
=======
     "iopub.execute_input": "2024-07-18T13:49:43.375779Z",
     "iopub.status.busy": "2024-07-18T13:49:43.375779Z",
     "iopub.status.idle": "2024-07-18T13:49:43.381244Z",
     "shell.execute_reply": "2024-07-18T13:49:43.381244Z"
>>>>>>> 1de0162e9ad4e7a9df62aadbca46c2194b3914e9
    }
   },
   "outputs": [],
   "source": [
<<<<<<< HEAD
    "\n",
=======
>>>>>>> 1de0162e9ad4e7a9df62aadbca46c2194b3914e9
    "ruta_2_2_6 = r\"C:\\docsProyectos\\5.RAISS\\2024.0.RAISS_Lote_4\\6.Hitos\\E2_Informes_Id_FisicoJuridica\\2_2_6_Indicador_Edicion_Geografica\\Base_Datos\\2_2_6.gdb\"\n",
    "\n",
    "sheet_name_R = 'CONTROL_CAMBIOS_REPELON'\n",
    "sheet_id_R = '1T3B-Cnkje56tDg8xJ9BirIit57EmcPCu2m9BHanDPgo'\n",
    "municipio_R = 'Repelon'\n",
    "\n",
    "sheet_name_M = 'CONTROL_CAMBIOS_MARIALABAJA'\n",
    "sheet_id_M = '1n_t9qtwLeIklH5UFoH9iDPiAa6uN4HZeR1-atsKTYeU'\n",
    "municipio_M = 'MariaLaBaja'\n",
    "\n",
    "sheet_name_B = 'CONTROL_CAMBIOS_BARANOA'\n",
    "sheet_id_B = '1YgXN5RrBAEMXcBou894_LJi7tXjj1R8LPT0AJ0VWme4'\n",
    "municipio_B = 'Baranoa'\n",
    "\n",
<<<<<<< HEAD
    "sheet_name_S = 'CONTROL_CAMBIOS_SABANA_GRANDE'\n",
    "sheet_id_S = '1E_eSRnvJvgns4tCEx5dAFD_NHrzlyQrE2NUNEjFWo5w'\n",
    "municipio_S = 'Sabanagrande'\n",
    "\n",
    "# TODO: Copia de Salidas Gráficas\n",
=======
    "# ? Copia de Salidas Gráficas\n",
>>>>>>> 1de0162e9ad4e7a9df62aadbca46c2194b3914e9
    "RUTA_ORIGEN = r\"C:\\docsProyectos\\5.RAISS\\2024.0.RAISS_Lote_4\\6.Hitos\\E2_Informes_Id_FisicoJuridica\\2_2_6_Indicador_Edicion_Geografica\\Salidas_Graficas\"\n",
    "RUTA_DESTINO = r\"G:\\Mi unidad\\Equipo_Consolidacion\\Hitos\\E2_Informes_Id_FisicoJuridica\\2_2_6_Indicador_Edicion_Geografica\\Salidas_Graficas\""
   ]
  },
  {
   "cell_type": "code",
   "execution_count": 3,
   "metadata": {
    "execution": {
<<<<<<< HEAD
     "iopub.execute_input": "2024-09-06T05:47:12.149632Z",
     "iopub.status.busy": "2024-09-06T05:47:12.149632Z",
     "iopub.status.idle": "2024-09-06T05:47:31.557578Z",
     "shell.execute_reply": "2024-09-06T05:47:31.557578Z"
=======
     "iopub.execute_input": "2024-07-18T13:49:43.381244Z",
     "iopub.status.busy": "2024-07-18T13:49:43.381244Z",
     "iopub.status.idle": "2024-07-18T13:51:37.237023Z",
     "shell.execute_reply": "2024-07-18T13:51:37.236442Z"
>>>>>>> 1de0162e9ad4e7a9df62aadbca46c2194b3914e9
    }
   },
   "outputs": [
    {
     "name": "stdout",
     "output_type": "stream",
     "text": [
<<<<<<< HEAD
=======
      "De la capa original de Terrenos con 40022 registros se elimanan repetidos, obteniendose 39739\n",
      "39743\n",
      "34658\n",
      "Se crea la capa TERRENO_UNIFICADO_w_GIS en BD \n",
      " C:\\docsProyectos\\5.RAISS\\2024.0.RAISS_Lote_4\\6.Hitos\\E1_Alistamiento_Diagnostico\\3_Disposicion\\1.BD_Consolidada\\BD_Consolidada_Lote4.gdb\\Analitica_UT_Consolidada\n",
      "Se actualiza el campo de hectareaje\n",
      "Concluye el proceso\n",
>>>>>>> 1de0162e9ad4e7a9df62aadbca46c2194b3914e9
      "Registros NO espacializados: 0\n",
      "Se genera FC asociado a terrenos editados, para el municipio MariaLaBaja\n",
      "Se genera el excel para el municipio de MariaLaBaja\n",
      "1. Finaliza MariaLaBaja\n"
     ]
    }
   ],
   "source": [
    "funcion_edicion_sig_x_municipio.edicion_sig_municipio(sheet_name_M,sheet_id_M,municipio_M)\n",
    "print(f\"1. Finaliza {municipio_M}\")"
   ]
  },
  {
   "cell_type": "code",
   "execution_count": 4,
   "metadata": {
    "execution": {
<<<<<<< HEAD
     "iopub.execute_input": "2024-09-06T05:47:31.560586Z",
     "iopub.status.busy": "2024-09-06T05:47:31.559587Z",
     "iopub.status.idle": "2024-09-06T05:47:40.969598Z",
     "shell.execute_reply": "2024-09-06T05:47:40.969598Z"
=======
     "iopub.execute_input": "2024-07-18T13:51:37.239139Z",
     "iopub.status.busy": "2024-07-18T13:51:37.239139Z",
     "iopub.status.idle": "2024-07-18T13:53:37.046394Z",
     "shell.execute_reply": "2024-07-18T13:53:37.046394Z"
>>>>>>> 1de0162e9ad4e7a9df62aadbca46c2194b3914e9
    }
   },
   "outputs": [
    {
     "name": "stdout",
     "output_type": "stream",
     "text": [
<<<<<<< HEAD
      "Registros NO espacializados: 1\n",
=======
      "De la capa original de Terrenos con 40022 registros se elimanan repetidos, obteniendose 39739\n",
      "39743\n",
      "34658\n",
      "Se crea la capa TERRENO_UNIFICADO_w_GIS en BD \n",
      " C:\\docsProyectos\\5.RAISS\\2024.0.RAISS_Lote_4\\6.Hitos\\E1_Alistamiento_Diagnostico\\3_Disposicion\\1.BD_Consolidada\\BD_Consolidada_Lote4.gdb\\Analitica_UT_Consolidada\n",
      "Se actualiza el campo de hectareaje\n",
      "Concluye el proceso\n",
      "Registros NO espacializados: 0\n",
>>>>>>> 1de0162e9ad4e7a9df62aadbca46c2194b3914e9
      "Se genera FC asociado a terrenos editados, para el municipio Repelon\n",
      "Se genera el excel para el municipio de Repelon\n",
      "2. Finaliza Repelon\n"
     ]
    }
   ],
   "source": [
    "\n",
    "funcion_edicion_sig_x_municipio.edicion_sig_municipio(sheet_name_R,sheet_id_R,municipio_R)\n",
    "print(f\"2. Finaliza {municipio_R}\")"
   ]
  },
  {
   "cell_type": "code",
   "execution_count": 5,
   "metadata": {
    "execution": {
<<<<<<< HEAD
     "iopub.execute_input": "2024-09-06T05:47:40.972611Z",
     "iopub.status.busy": "2024-09-06T05:47:40.972611Z",
     "iopub.status.idle": "2024-09-06T05:47:53.001518Z",
     "shell.execute_reply": "2024-09-06T05:47:53.001518Z"
=======
     "iopub.execute_input": "2024-07-18T13:53:37.046394Z",
     "iopub.status.busy": "2024-07-18T13:53:37.046394Z",
     "iopub.status.idle": "2024-07-18T13:55:26.699895Z",
     "shell.execute_reply": "2024-07-18T13:55:26.698868Z"
>>>>>>> 1de0162e9ad4e7a9df62aadbca46c2194b3914e9
    }
   },
   "outputs": [
    {
     "name": "stdout",
     "output_type": "stream",
     "text": [
<<<<<<< HEAD
=======
      "De la capa original de Terrenos con 40022 registros se elimanan repetidos, obteniendose 39739\n",
      "39743\n",
      "34658\n",
      "Se crea la capa TERRENO_UNIFICADO_w_GIS en BD \n",
      " C:\\docsProyectos\\5.RAISS\\2024.0.RAISS_Lote_4\\6.Hitos\\E1_Alistamiento_Diagnostico\\3_Disposicion\\1.BD_Consolidada\\BD_Consolidada_Lote4.gdb\\Analitica_UT_Consolidada\n",
      "Se actualiza el campo de hectareaje\n",
      "Concluye el proceso\n",
>>>>>>> 1de0162e9ad4e7a9df62aadbca46c2194b3914e9
      "Registros NO espacializados: 0\n",
      "Se genera FC asociado a terrenos editados, para el municipio Baranoa\n",
      "Se genera el excel para el municipio de Baranoa\n",
      "3. Finaliza Baranoa\n"
     ]
    }
   ],
   "source": [
    "\n",
    "funcion_edicion_sig_x_municipio.edicion_sig_municipio(sheet_name_B,sheet_id_B,municipio_B)\n",
    "print(f\"3. Finaliza {municipio_B}\")"
   ]
  },
  {
<<<<<<< HEAD
   "cell_type": "code",
   "execution_count": 6,
   "metadata": {
    "execution": {
     "iopub.execute_input": "2024-09-06T05:47:53.003525Z",
     "iopub.status.busy": "2024-09-06T05:47:53.003525Z",
     "iopub.status.idle": "2024-09-06T05:48:02.099914Z",
     "shell.execute_reply": "2024-09-06T05:48:02.099914Z"
    }
   },
   "outputs": [
    {
     "name": "stdout",
     "output_type": "stream",
     "text": [
      "Registros NO espacializados: 0\n",
      "Se genera FC asociado a terrenos editados, para el municipio Sabanagrande\n",
      "Se genera el excel para el municipio de Sabanagrande\n",
      "3. Finaliza Sabanagrande\n"
     ]
    }
   ],
   "source": [
    "funcion_edicion_sig_x_municipio.edicion_sig_municipio(sheet_name_S,sheet_id_S,municipio_S)\n",
    "print(f\"3. Finaliza {municipio_S}\")"
   ]
  },
  {
=======
>>>>>>> 1de0162e9ad4e7a9df62aadbca46c2194b3914e9
   "cell_type": "markdown",
   "metadata": {},
   "source": [
    "<h3>Construcción de Estadísticos XLSX</h3>"
   ]
  },
  {
   "cell_type": "code",
<<<<<<< HEAD
   "execution_count": 7,
   "metadata": {
    "execution": {
     "iopub.execute_input": "2024-09-06T05:48:02.102919Z",
     "iopub.status.busy": "2024-09-06T05:48:02.101919Z",
     "iopub.status.idle": "2024-09-06T05:48:17.370821Z",
     "shell.execute_reply": "2024-09-06T05:48:17.369812Z"
=======
   "execution_count": 6,
   "metadata": {
    "execution": {
     "iopub.execute_input": "2024-07-18T13:55:26.699895Z",
     "iopub.status.busy": "2024-07-18T13:55:26.699895Z",
     "iopub.status.idle": "2024-07-18T13:55:26.884667Z",
     "shell.execute_reply": "2024-07-18T13:55:26.884667Z"
>>>>>>> 1de0162e9ad4e7a9df62aadbca46c2194b3914e9
    }
   },
   "outputs": [
    {
     "name": "stdout",
     "output_type": "stream",
     "text": [
<<<<<<< HEAD
      "Se genera XLSX 20240906_avance_edicios_GIS.xlsx\n",
=======
      "Se genera XLSX 20240718_avance_edicios_GIS.xlsx\n",
>>>>>>> 1de0162e9ad4e7a9df62aadbca46c2194b3914e9
      "Se copia a Google Drive\n"
     ]
    }
   ],
   "source": [
    "funcion_xlsx_avance_edicion_gis.xlsx_avance_edicion_gis()"
   ]
  },
  {
   "cell_type": "markdown",
   "metadata": {},
   "source": [
    "<h3>Ejecución Unión Avance GEO</h3>"
   ]
  },
  {
   "cell_type": "code",
<<<<<<< HEAD
   "execution_count": 8,
   "metadata": {
    "execution": {
     "iopub.execute_input": "2024-09-06T05:48:17.373821Z",
     "iopub.status.busy": "2024-09-06T05:48:17.372822Z",
     "iopub.status.idle": "2024-09-06T05:48:20.724495Z",
     "shell.execute_reply": "2024-09-06T05:48:20.724495Z"
=======
   "execution_count": 7,
   "metadata": {
    "execution": {
     "iopub.execute_input": "2024-07-18T13:55:26.886673Z",
     "iopub.status.busy": "2024-07-18T13:55:26.886673Z",
     "iopub.status.idle": "2024-07-18T13:55:27.650067Z",
     "shell.execute_reply": "2024-07-18T13:55:27.650067Z"
>>>>>>> 1de0162e9ad4e7a9df62aadbca46c2194b3914e9
    }
   },
   "outputs": [
    {
     "name": "stdout",
     "output_type": "stream",
     "text": [
      "* Se completa el truncado de las tabla objetivo: terrenos_editados\n",
      "1. Se completa el truncado de las tablas objetivo\n",
      "2. Se anexan capas a BD\n"
     ]
    }
   ],
   "source": [
    "funcion_append_avance_edicion_gis.append_terrenos_avance_edicion_gis(ruta_2_2_6)"
   ]
  },
  {
   "cell_type": "markdown",
   "metadata": {},
   "source": [
    "<h3>Generación Salida Gráfica</h3>"
   ]
  },
  {
   "cell_type": "code",
<<<<<<< HEAD
   "execution_count": 9,
   "metadata": {
    "execution": {
     "iopub.execute_input": "2024-09-06T05:48:20.727501Z",
     "iopub.status.busy": "2024-09-06T05:48:20.727501Z",
     "iopub.status.idle": "2024-09-06T05:48:59.203105Z",
     "shell.execute_reply": "2024-09-06T05:48:59.203105Z"
=======
   "execution_count": 8,
   "metadata": {
    "execution": {
     "iopub.execute_input": "2024-07-18T13:55:27.650067Z",
     "iopub.status.busy": "2024-07-18T13:55:27.650067Z",
     "iopub.status.idle": "2024-07-18T13:55:50.287010Z",
     "shell.execute_reply": "2024-07-18T13:55:50.287010Z"
>>>>>>> 1de0162e9ad4e7a9df62aadbca46c2194b3914e9
    }
   },
   "outputs": [
    {
     "name": "stdout",
     "output_type": "stream",
     "text": [
      "Nombre Layout: Gestión Cambios - Equipo SIG\n",
      "Se exporta a PDF Gestión Cambios - Equipo SIG\n"
     ]
    }
   ],
   "source": [
    "funcion_exportacion_pdf_seriemapas.exportacion_salida_grafica('Gestión Cambios - Equipo SIG', RUTA_ORIGEN)"
   ]
  },
  {
   "cell_type": "markdown",
   "metadata": {},
   "source": [
    "<h4> - Se copia a Google Drive</h4>"
   ]
  },
  {
   "cell_type": "code",
<<<<<<< HEAD
   "execution_count": 10,
   "metadata": {
    "execution": {
     "iopub.execute_input": "2024-09-06T05:48:59.206113Z",
     "iopub.status.busy": "2024-09-06T05:48:59.205113Z",
     "iopub.status.idle": "2024-09-06T05:49:23.987185Z",
     "shell.execute_reply": "2024-09-06T05:49:23.986177Z"
=======
   "execution_count": 9,
   "metadata": {
    "execution": {
     "iopub.execute_input": "2024-07-18T13:55:50.287010Z",
     "iopub.status.busy": "2024-07-18T13:55:50.287010Z",
     "iopub.status.idle": "2024-07-18T13:55:51.257887Z",
     "shell.execute_reply": "2024-07-18T13:55:51.257887Z"
>>>>>>> 1de0162e9ad4e7a9df62aadbca46c2194b3914e9
    }
   },
   "outputs": [
    {
     "name": "stdout",
     "output_type": "stream",
     "text": [
      "Se copia 20240626_Baranoa.jpg a G:\\Mi unidad\\Equipo_Consolidacion\\Hitos\\E2_Informes_Id_FisicoJuridica\\2_2_6_Indicador_Edicion_Geografica\\Salidas_Graficas\n",
      "Se copia 20240626_María La Baja.jpg a G:\\Mi unidad\\Equipo_Consolidacion\\Hitos\\E2_Informes_Id_FisicoJuridica\\2_2_6_Indicador_Edicion_Geografica\\Salidas_Graficas\n",
      "Se copia 20240626_Repelón.jpg a G:\\Mi unidad\\Equipo_Consolidacion\\Hitos\\E2_Informes_Id_FisicoJuridica\\2_2_6_Indicador_Edicion_Geografica\\Salidas_Graficas\n",
      "Se copia 20240702_Baranoa.pdf a G:\\Mi unidad\\Equipo_Consolidacion\\Hitos\\E2_Informes_Id_FisicoJuridica\\2_2_6_Indicador_Edicion_Geografica\\Salidas_Graficas\n",
      "Se copia 20240702_María La Baja.pdf a G:\\Mi unidad\\Equipo_Consolidacion\\Hitos\\E2_Informes_Id_FisicoJuridica\\2_2_6_Indicador_Edicion_Geografica\\Salidas_Graficas\n",
      "Se copia 20240702_Repelón.pdf a G:\\Mi unidad\\Equipo_Consolidacion\\Hitos\\E2_Informes_Id_FisicoJuridica\\2_2_6_Indicador_Edicion_Geografica\\Salidas_Graficas\n",
      "Se copia 20240703_Baranoa.pdf a G:\\Mi unidad\\Equipo_Consolidacion\\Hitos\\E2_Informes_Id_FisicoJuridica\\2_2_6_Indicador_Edicion_Geografica\\Salidas_Graficas\n",
      "Se copia 20240703_María La Baja.pdf a G:\\Mi unidad\\Equipo_Consolidacion\\Hitos\\E2_Informes_Id_FisicoJuridica\\2_2_6_Indicador_Edicion_Geografica\\Salidas_Graficas\n",
      "Se copia 20240703_Repelón.pdf a G:\\Mi unidad\\Equipo_Consolidacion\\Hitos\\E2_Informes_Id_FisicoJuridica\\2_2_6_Indicador_Edicion_Geografica\\Salidas_Graficas\n",
      "Se copia 20240704_Baranoa.pdf a G:\\Mi unidad\\Equipo_Consolidacion\\Hitos\\E2_Informes_Id_FisicoJuridica\\2_2_6_Indicador_Edicion_Geografica\\Salidas_Graficas\n",
      "Se copia 20240704_María La Baja.pdf a G:\\Mi unidad\\Equipo_Consolidacion\\Hitos\\E2_Informes_Id_FisicoJuridica\\2_2_6_Indicador_Edicion_Geografica\\Salidas_Graficas\n",
      "Se copia 20240704_Repelón.pdf a G:\\Mi unidad\\Equipo_Consolidacion\\Hitos\\E2_Informes_Id_FisicoJuridica\\2_2_6_Indicador_Edicion_Geografica\\Salidas_Graficas\n",
      "Se copia 20240705_Baranoa.pdf a G:\\Mi unidad\\Equipo_Consolidacion\\Hitos\\E2_Informes_Id_FisicoJuridica\\2_2_6_Indicador_Edicion_Geografica\\Salidas_Graficas\n",
      "Se copia 20240705_María La Baja.pdf a G:\\Mi unidad\\Equipo_Consolidacion\\Hitos\\E2_Informes_Id_FisicoJuridica\\2_2_6_Indicador_Edicion_Geografica\\Salidas_Graficas\n",
      "Se copia 20240705_Repelón.pdf a G:\\Mi unidad\\Equipo_Consolidacion\\Hitos\\E2_Informes_Id_FisicoJuridica\\2_2_6_Indicador_Edicion_Geografica\\Salidas_Graficas\n",
      "Se copia 20240708_Baranoa.pdf a G:\\Mi unidad\\Equipo_Consolidacion\\Hitos\\E2_Informes_Id_FisicoJuridica\\2_2_6_Indicador_Edicion_Geografica\\Salidas_Graficas\n",
      "Se copia 20240708_María La Baja.pdf a G:\\Mi unidad\\Equipo_Consolidacion\\Hitos\\E2_Informes_Id_FisicoJuridica\\2_2_6_Indicador_Edicion_Geografica\\Salidas_Graficas\n",
      "Se copia 20240708_Repelón.pdf a G:\\Mi unidad\\Equipo_Consolidacion\\Hitos\\E2_Informes_Id_FisicoJuridica\\2_2_6_Indicador_Edicion_Geografica\\Salidas_Graficas\n",
      "Se copia 20240709_Baranoa.pdf a G:\\Mi unidad\\Equipo_Consolidacion\\Hitos\\E2_Informes_Id_FisicoJuridica\\2_2_6_Indicador_Edicion_Geografica\\Salidas_Graficas\n",
      "Se copia 20240709_María La Baja.pdf a G:\\Mi unidad\\Equipo_Consolidacion\\Hitos\\E2_Informes_Id_FisicoJuridica\\2_2_6_Indicador_Edicion_Geografica\\Salidas_Graficas\n",
      "Se copia 20240709_Repelón.pdf a G:\\Mi unidad\\Equipo_Consolidacion\\Hitos\\E2_Informes_Id_FisicoJuridica\\2_2_6_Indicador_Edicion_Geografica\\Salidas_Graficas\n",
      "Se copia 20240710_Baranoa.pdf a G:\\Mi unidad\\Equipo_Consolidacion\\Hitos\\E2_Informes_Id_FisicoJuridica\\2_2_6_Indicador_Edicion_Geografica\\Salidas_Graficas\n",
      "Se copia 20240710_María La Baja.pdf a G:\\Mi unidad\\Equipo_Consolidacion\\Hitos\\E2_Informes_Id_FisicoJuridica\\2_2_6_Indicador_Edicion_Geografica\\Salidas_Graficas\n",
      "Se copia 20240710_Repelón.pdf a G:\\Mi unidad\\Equipo_Consolidacion\\Hitos\\E2_Informes_Id_FisicoJuridica\\2_2_6_Indicador_Edicion_Geografica\\Salidas_Graficas\n",
      "Se copia 20240712_Baranoa.pdf a G:\\Mi unidad\\Equipo_Consolidacion\\Hitos\\E2_Informes_Id_FisicoJuridica\\2_2_6_Indicador_Edicion_Geografica\\Salidas_Graficas\n",
      "Se copia 20240712_María La Baja.pdf a G:\\Mi unidad\\Equipo_Consolidacion\\Hitos\\E2_Informes_Id_FisicoJuridica\\2_2_6_Indicador_Edicion_Geografica\\Salidas_Graficas\n",
      "Se copia 20240712_Repelón.pdf a G:\\Mi unidad\\Equipo_Consolidacion\\Hitos\\E2_Informes_Id_FisicoJuridica\\2_2_6_Indicador_Edicion_Geografica\\Salidas_Graficas\n",
      "Se copia 20240716_Baranoa.pdf a G:\\Mi unidad\\Equipo_Consolidacion\\Hitos\\E2_Informes_Id_FisicoJuridica\\2_2_6_Indicador_Edicion_Geografica\\Salidas_Graficas\n",
      "Se copia 20240716_María La Baja.pdf a G:\\Mi unidad\\Equipo_Consolidacion\\Hitos\\E2_Informes_Id_FisicoJuridica\\2_2_6_Indicador_Edicion_Geografica\\Salidas_Graficas\n",
      "Se copia 20240716_Repelón.pdf a G:\\Mi unidad\\Equipo_Consolidacion\\Hitos\\E2_Informes_Id_FisicoJuridica\\2_2_6_Indicador_Edicion_Geografica\\Salidas_Graficas\n",
      "Se copia 20240717_Baranoa.pdf a G:\\Mi unidad\\Equipo_Consolidacion\\Hitos\\E2_Informes_Id_FisicoJuridica\\2_2_6_Indicador_Edicion_Geografica\\Salidas_Graficas\n",
      "Se copia 20240717_María La Baja.pdf a G:\\Mi unidad\\Equipo_Consolidacion\\Hitos\\E2_Informes_Id_FisicoJuridica\\2_2_6_Indicador_Edicion_Geografica\\Salidas_Graficas\n",
      "Se copia 20240717_Repelón.pdf a G:\\Mi unidad\\Equipo_Consolidacion\\Hitos\\E2_Informes_Id_FisicoJuridica\\2_2_6_Indicador_Edicion_Geografica\\Salidas_Graficas\n",
      "Se copia 20240718_Baranoa.pdf a G:\\Mi unidad\\Equipo_Consolidacion\\Hitos\\E2_Informes_Id_FisicoJuridica\\2_2_6_Indicador_Edicion_Geografica\\Salidas_Graficas\n",
      "Se copia 20240718_María La Baja.pdf a G:\\Mi unidad\\Equipo_Consolidacion\\Hitos\\E2_Informes_Id_FisicoJuridica\\2_2_6_Indicador_Edicion_Geografica\\Salidas_Graficas\n",
<<<<<<< HEAD
      "Se copia 20240718_Repelón.pdf a G:\\Mi unidad\\Equipo_Consolidacion\\Hitos\\E2_Informes_Id_FisicoJuridica\\2_2_6_Indicador_Edicion_Geografica\\Salidas_Graficas\n",
      "Se copia 20240719_Baranoa.pdf a G:\\Mi unidad\\Equipo_Consolidacion\\Hitos\\E2_Informes_Id_FisicoJuridica\\2_2_6_Indicador_Edicion_Geografica\\Salidas_Graficas\n",
      "Se copia 20240719_María La Baja.pdf a G:\\Mi unidad\\Equipo_Consolidacion\\Hitos\\E2_Informes_Id_FisicoJuridica\\2_2_6_Indicador_Edicion_Geografica\\Salidas_Graficas\n",
      "Se copia 20240719_Repelón.pdf a G:\\Mi unidad\\Equipo_Consolidacion\\Hitos\\E2_Informes_Id_FisicoJuridica\\2_2_6_Indicador_Edicion_Geografica\\Salidas_Graficas\n",
      "Se copia 20240722_Baranoa.pdf a G:\\Mi unidad\\Equipo_Consolidacion\\Hitos\\E2_Informes_Id_FisicoJuridica\\2_2_6_Indicador_Edicion_Geografica\\Salidas_Graficas\n",
      "Se copia 20240722_María La Baja.pdf a G:\\Mi unidad\\Equipo_Consolidacion\\Hitos\\E2_Informes_Id_FisicoJuridica\\2_2_6_Indicador_Edicion_Geografica\\Salidas_Graficas\n",
      "Se copia 20240722_Repelón.pdf a G:\\Mi unidad\\Equipo_Consolidacion\\Hitos\\E2_Informes_Id_FisicoJuridica\\2_2_6_Indicador_Edicion_Geografica\\Salidas_Graficas\n",
      "Se copia 20240723_Baranoa.pdf a G:\\Mi unidad\\Equipo_Consolidacion\\Hitos\\E2_Informes_Id_FisicoJuridica\\2_2_6_Indicador_Edicion_Geografica\\Salidas_Graficas\n",
      "Se copia 20240723_María La Baja.pdf a G:\\Mi unidad\\Equipo_Consolidacion\\Hitos\\E2_Informes_Id_FisicoJuridica\\2_2_6_Indicador_Edicion_Geografica\\Salidas_Graficas\n",
      "Se copia 20240723_Repelón.pdf a G:\\Mi unidad\\Equipo_Consolidacion\\Hitos\\E2_Informes_Id_FisicoJuridica\\2_2_6_Indicador_Edicion_Geografica\\Salidas_Graficas\n",
      "Se copia 20240724_Baranoa.pdf a G:\\Mi unidad\\Equipo_Consolidacion\\Hitos\\E2_Informes_Id_FisicoJuridica\\2_2_6_Indicador_Edicion_Geografica\\Salidas_Graficas\n",
      "Se copia 20240724_María La Baja.pdf a G:\\Mi unidad\\Equipo_Consolidacion\\Hitos\\E2_Informes_Id_FisicoJuridica\\2_2_6_Indicador_Edicion_Geografica\\Salidas_Graficas\n",
      "Se copia 20240724_Repelón.pdf a G:\\Mi unidad\\Equipo_Consolidacion\\Hitos\\E2_Informes_Id_FisicoJuridica\\2_2_6_Indicador_Edicion_Geografica\\Salidas_Graficas\n",
      "Se copia 20240725_Baranoa.pdf a G:\\Mi unidad\\Equipo_Consolidacion\\Hitos\\E2_Informes_Id_FisicoJuridica\\2_2_6_Indicador_Edicion_Geografica\\Salidas_Graficas\n",
      "Se copia 20240725_María La Baja.pdf a G:\\Mi unidad\\Equipo_Consolidacion\\Hitos\\E2_Informes_Id_FisicoJuridica\\2_2_6_Indicador_Edicion_Geografica\\Salidas_Graficas\n",
      "Se copia 20240725_Repelón.pdf a G:\\Mi unidad\\Equipo_Consolidacion\\Hitos\\E2_Informes_Id_FisicoJuridica\\2_2_6_Indicador_Edicion_Geografica\\Salidas_Graficas\n",
      "Se copia 20240726_Baranoa.pdf a G:\\Mi unidad\\Equipo_Consolidacion\\Hitos\\E2_Informes_Id_FisicoJuridica\\2_2_6_Indicador_Edicion_Geografica\\Salidas_Graficas\n",
      "Se copia 20240726_María La Baja.pdf a G:\\Mi unidad\\Equipo_Consolidacion\\Hitos\\E2_Informes_Id_FisicoJuridica\\2_2_6_Indicador_Edicion_Geografica\\Salidas_Graficas\n",
      "Se copia 20240726_Repelón.pdf a G:\\Mi unidad\\Equipo_Consolidacion\\Hitos\\E2_Informes_Id_FisicoJuridica\\2_2_6_Indicador_Edicion_Geografica\\Salidas_Graficas\n",
      "Se copia 20240727_Baranoa.pdf a G:\\Mi unidad\\Equipo_Consolidacion\\Hitos\\E2_Informes_Id_FisicoJuridica\\2_2_6_Indicador_Edicion_Geografica\\Salidas_Graficas\n",
      "Se copia 20240727_María La Baja.pdf a G:\\Mi unidad\\Equipo_Consolidacion\\Hitos\\E2_Informes_Id_FisicoJuridica\\2_2_6_Indicador_Edicion_Geografica\\Salidas_Graficas\n",
      "Se copia 20240727_Repelón.pdf a G:\\Mi unidad\\Equipo_Consolidacion\\Hitos\\E2_Informes_Id_FisicoJuridica\\2_2_6_Indicador_Edicion_Geografica\\Salidas_Graficas\n",
      "Se copia 20240729_Baranoa.pdf a G:\\Mi unidad\\Equipo_Consolidacion\\Hitos\\E2_Informes_Id_FisicoJuridica\\2_2_6_Indicador_Edicion_Geografica\\Salidas_Graficas\n",
      "Se copia 20240729_María La Baja.pdf a G:\\Mi unidad\\Equipo_Consolidacion\\Hitos\\E2_Informes_Id_FisicoJuridica\\2_2_6_Indicador_Edicion_Geografica\\Salidas_Graficas\n",
      "Se copia 20240729_Repelón.pdf a G:\\Mi unidad\\Equipo_Consolidacion\\Hitos\\E2_Informes_Id_FisicoJuridica\\2_2_6_Indicador_Edicion_Geografica\\Salidas_Graficas\n",
      "Se copia 20240730_Baranoa.pdf a G:\\Mi unidad\\Equipo_Consolidacion\\Hitos\\E2_Informes_Id_FisicoJuridica\\2_2_6_Indicador_Edicion_Geografica\\Salidas_Graficas\n",
      "Se copia 20240730_María La Baja.pdf a G:\\Mi unidad\\Equipo_Consolidacion\\Hitos\\E2_Informes_Id_FisicoJuridica\\2_2_6_Indicador_Edicion_Geografica\\Salidas_Graficas\n",
      "Se copia 20240730_Repelón.pdf a G:\\Mi unidad\\Equipo_Consolidacion\\Hitos\\E2_Informes_Id_FisicoJuridica\\2_2_6_Indicador_Edicion_Geografica\\Salidas_Graficas\n",
      "Se copia 20240731_Baranoa.pdf a G:\\Mi unidad\\Equipo_Consolidacion\\Hitos\\E2_Informes_Id_FisicoJuridica\\2_2_6_Indicador_Edicion_Geografica\\Salidas_Graficas\n",
      "Se copia 20240731_María La Baja.pdf a G:\\Mi unidad\\Equipo_Consolidacion\\Hitos\\E2_Informes_Id_FisicoJuridica\\2_2_6_Indicador_Edicion_Geografica\\Salidas_Graficas\n",
      "Se copia 20240731_Repelón.pdf a G:\\Mi unidad\\Equipo_Consolidacion\\Hitos\\E2_Informes_Id_FisicoJuridica\\2_2_6_Indicador_Edicion_Geografica\\Salidas_Graficas\n",
      "Se copia 20240801_Baranoa.pdf a G:\\Mi unidad\\Equipo_Consolidacion\\Hitos\\E2_Informes_Id_FisicoJuridica\\2_2_6_Indicador_Edicion_Geografica\\Salidas_Graficas\n",
      "Se copia 20240801_María La Baja.pdf a G:\\Mi unidad\\Equipo_Consolidacion\\Hitos\\E2_Informes_Id_FisicoJuridica\\2_2_6_Indicador_Edicion_Geografica\\Salidas_Graficas\n",
      "Se copia 20240801_Repelón.pdf a G:\\Mi unidad\\Equipo_Consolidacion\\Hitos\\E2_Informes_Id_FisicoJuridica\\2_2_6_Indicador_Edicion_Geografica\\Salidas_Graficas\n",
      "Se copia 20240802_Baranoa.pdf a G:\\Mi unidad\\Equipo_Consolidacion\\Hitos\\E2_Informes_Id_FisicoJuridica\\2_2_6_Indicador_Edicion_Geografica\\Salidas_Graficas\n",
      "Se copia 20240802_María La Baja.pdf a G:\\Mi unidad\\Equipo_Consolidacion\\Hitos\\E2_Informes_Id_FisicoJuridica\\2_2_6_Indicador_Edicion_Geografica\\Salidas_Graficas\n",
      "Se copia 20240802_Repelón.pdf a G:\\Mi unidad\\Equipo_Consolidacion\\Hitos\\E2_Informes_Id_FisicoJuridica\\2_2_6_Indicador_Edicion_Geografica\\Salidas_Graficas\n",
      "Se copia 20240804_Baranoa.pdf a G:\\Mi unidad\\Equipo_Consolidacion\\Hitos\\E2_Informes_Id_FisicoJuridica\\2_2_6_Indicador_Edicion_Geografica\\Salidas_Graficas\n",
      "Se copia 20240804_María La Baja.pdf a G:\\Mi unidad\\Equipo_Consolidacion\\Hitos\\E2_Informes_Id_FisicoJuridica\\2_2_6_Indicador_Edicion_Geografica\\Salidas_Graficas\n",
      "Se copia 20240804_Repelón.pdf a G:\\Mi unidad\\Equipo_Consolidacion\\Hitos\\E2_Informes_Id_FisicoJuridica\\2_2_6_Indicador_Edicion_Geografica\\Salidas_Graficas\n",
      "Se copia 20240805_Baranoa.pdf a G:\\Mi unidad\\Equipo_Consolidacion\\Hitos\\E2_Informes_Id_FisicoJuridica\\2_2_6_Indicador_Edicion_Geografica\\Salidas_Graficas\n",
      "Se copia 20240805_María La Baja.pdf a G:\\Mi unidad\\Equipo_Consolidacion\\Hitos\\E2_Informes_Id_FisicoJuridica\\2_2_6_Indicador_Edicion_Geografica\\Salidas_Graficas\n",
      "Se copia 20240805_Repelón.pdf a G:\\Mi unidad\\Equipo_Consolidacion\\Hitos\\E2_Informes_Id_FisicoJuridica\\2_2_6_Indicador_Edicion_Geografica\\Salidas_Graficas\n",
      "Se copia 20240806_Baranoa.pdf a G:\\Mi unidad\\Equipo_Consolidacion\\Hitos\\E2_Informes_Id_FisicoJuridica\\2_2_6_Indicador_Edicion_Geografica\\Salidas_Graficas\n",
      "Se copia 20240806_María La Baja.pdf a G:\\Mi unidad\\Equipo_Consolidacion\\Hitos\\E2_Informes_Id_FisicoJuridica\\2_2_6_Indicador_Edicion_Geografica\\Salidas_Graficas\n",
      "Se copia 20240806_Repelón.pdf a G:\\Mi unidad\\Equipo_Consolidacion\\Hitos\\E2_Informes_Id_FisicoJuridica\\2_2_6_Indicador_Edicion_Geografica\\Salidas_Graficas\n",
      "Se copia 20240807_Baranoa.pdf a G:\\Mi unidad\\Equipo_Consolidacion\\Hitos\\E2_Informes_Id_FisicoJuridica\\2_2_6_Indicador_Edicion_Geografica\\Salidas_Graficas\n",
      "Se copia 20240807_María La Baja.pdf a G:\\Mi unidad\\Equipo_Consolidacion\\Hitos\\E2_Informes_Id_FisicoJuridica\\2_2_6_Indicador_Edicion_Geografica\\Salidas_Graficas\n",
      "Se copia 20240807_Repelón.pdf a G:\\Mi unidad\\Equipo_Consolidacion\\Hitos\\E2_Informes_Id_FisicoJuridica\\2_2_6_Indicador_Edicion_Geografica\\Salidas_Graficas\n",
      "Se copia 20240808_Baranoa.pdf a G:\\Mi unidad\\Equipo_Consolidacion\\Hitos\\E2_Informes_Id_FisicoJuridica\\2_2_6_Indicador_Edicion_Geografica\\Salidas_Graficas\n",
      "Se copia 20240808_María La Baja.pdf a G:\\Mi unidad\\Equipo_Consolidacion\\Hitos\\E2_Informes_Id_FisicoJuridica\\2_2_6_Indicador_Edicion_Geografica\\Salidas_Graficas\n",
      "Se copia 20240808_Repelón.pdf a G:\\Mi unidad\\Equipo_Consolidacion\\Hitos\\E2_Informes_Id_FisicoJuridica\\2_2_6_Indicador_Edicion_Geografica\\Salidas_Graficas\n",
      "Se copia 20240809_Baranoa.pdf a G:\\Mi unidad\\Equipo_Consolidacion\\Hitos\\E2_Informes_Id_FisicoJuridica\\2_2_6_Indicador_Edicion_Geografica\\Salidas_Graficas\n",
      "Se copia 20240809_María La Baja.pdf a G:\\Mi unidad\\Equipo_Consolidacion\\Hitos\\E2_Informes_Id_FisicoJuridica\\2_2_6_Indicador_Edicion_Geografica\\Salidas_Graficas\n",
      "Se copia 20240809_Repelón.pdf a G:\\Mi unidad\\Equipo_Consolidacion\\Hitos\\E2_Informes_Id_FisicoJuridica\\2_2_6_Indicador_Edicion_Geografica\\Salidas_Graficas\n",
      "Se copia 20240810_Baranoa.pdf a G:\\Mi unidad\\Equipo_Consolidacion\\Hitos\\E2_Informes_Id_FisicoJuridica\\2_2_6_Indicador_Edicion_Geografica\\Salidas_Graficas\n",
      "Se copia 20240810_María La Baja.pdf a G:\\Mi unidad\\Equipo_Consolidacion\\Hitos\\E2_Informes_Id_FisicoJuridica\\2_2_6_Indicador_Edicion_Geografica\\Salidas_Graficas\n",
      "Se copia 20240810_Repelón.pdf a G:\\Mi unidad\\Equipo_Consolidacion\\Hitos\\E2_Informes_Id_FisicoJuridica\\2_2_6_Indicador_Edicion_Geografica\\Salidas_Graficas\n",
      "Se copia 20240811_Baranoa.pdf a G:\\Mi unidad\\Equipo_Consolidacion\\Hitos\\E2_Informes_Id_FisicoJuridica\\2_2_6_Indicador_Edicion_Geografica\\Salidas_Graficas\n",
      "Se copia 20240811_María La Baja.pdf a G:\\Mi unidad\\Equipo_Consolidacion\\Hitos\\E2_Informes_Id_FisicoJuridica\\2_2_6_Indicador_Edicion_Geografica\\Salidas_Graficas\n",
      "Se copia 20240811_Repelón.pdf a G:\\Mi unidad\\Equipo_Consolidacion\\Hitos\\E2_Informes_Id_FisicoJuridica\\2_2_6_Indicador_Edicion_Geografica\\Salidas_Graficas\n",
      "Se copia 20240812_Baranoa.pdf a G:\\Mi unidad\\Equipo_Consolidacion\\Hitos\\E2_Informes_Id_FisicoJuridica\\2_2_6_Indicador_Edicion_Geografica\\Salidas_Graficas\n",
      "Se copia 20240812_María La Baja.pdf a G:\\Mi unidad\\Equipo_Consolidacion\\Hitos\\E2_Informes_Id_FisicoJuridica\\2_2_6_Indicador_Edicion_Geografica\\Salidas_Graficas\n",
      "Se copia 20240812_Repelón.pdf a G:\\Mi unidad\\Equipo_Consolidacion\\Hitos\\E2_Informes_Id_FisicoJuridica\\2_2_6_Indicador_Edicion_Geografica\\Salidas_Graficas\n",
      "Se copia 20240813_Baranoa.pdf a G:\\Mi unidad\\Equipo_Consolidacion\\Hitos\\E2_Informes_Id_FisicoJuridica\\2_2_6_Indicador_Edicion_Geografica\\Salidas_Graficas\n",
      "Se copia 20240813_María La Baja.pdf a G:\\Mi unidad\\Equipo_Consolidacion\\Hitos\\E2_Informes_Id_FisicoJuridica\\2_2_6_Indicador_Edicion_Geografica\\Salidas_Graficas\n",
      "Se copia 20240813_Repelón.pdf a G:\\Mi unidad\\Equipo_Consolidacion\\Hitos\\E2_Informes_Id_FisicoJuridica\\2_2_6_Indicador_Edicion_Geografica\\Salidas_Graficas\n",
      "Se copia 20240814_Baranoa.pdf a G:\\Mi unidad\\Equipo_Consolidacion\\Hitos\\E2_Informes_Id_FisicoJuridica\\2_2_6_Indicador_Edicion_Geografica\\Salidas_Graficas\n",
      "Se copia 20240814_María La Baja.pdf a G:\\Mi unidad\\Equipo_Consolidacion\\Hitos\\E2_Informes_Id_FisicoJuridica\\2_2_6_Indicador_Edicion_Geografica\\Salidas_Graficas\n",
      "Se copia 20240814_Repelón.pdf a G:\\Mi unidad\\Equipo_Consolidacion\\Hitos\\E2_Informes_Id_FisicoJuridica\\2_2_6_Indicador_Edicion_Geografica\\Salidas_Graficas\n",
      "Se copia 20240815_Baranoa.pdf a G:\\Mi unidad\\Equipo_Consolidacion\\Hitos\\E2_Informes_Id_FisicoJuridica\\2_2_6_Indicador_Edicion_Geografica\\Salidas_Graficas\n",
      "Se copia 20240815_María La Baja.pdf a G:\\Mi unidad\\Equipo_Consolidacion\\Hitos\\E2_Informes_Id_FisicoJuridica\\2_2_6_Indicador_Edicion_Geografica\\Salidas_Graficas\n",
      "Se copia 20240815_Repelón.pdf a G:\\Mi unidad\\Equipo_Consolidacion\\Hitos\\E2_Informes_Id_FisicoJuridica\\2_2_6_Indicador_Edicion_Geografica\\Salidas_Graficas\n",
      "Se copia 20240816_Baranoa.pdf a G:\\Mi unidad\\Equipo_Consolidacion\\Hitos\\E2_Informes_Id_FisicoJuridica\\2_2_6_Indicador_Edicion_Geografica\\Salidas_Graficas\n",
      "Se copia 20240816_María La Baja.pdf a G:\\Mi unidad\\Equipo_Consolidacion\\Hitos\\E2_Informes_Id_FisicoJuridica\\2_2_6_Indicador_Edicion_Geografica\\Salidas_Graficas\n",
      "Se copia 20240816_Repelón.pdf a G:\\Mi unidad\\Equipo_Consolidacion\\Hitos\\E2_Informes_Id_FisicoJuridica\\2_2_6_Indicador_Edicion_Geografica\\Salidas_Graficas\n",
      "Se copia 20240817_Baranoa.pdf a G:\\Mi unidad\\Equipo_Consolidacion\\Hitos\\E2_Informes_Id_FisicoJuridica\\2_2_6_Indicador_Edicion_Geografica\\Salidas_Graficas\n",
      "Se copia 20240817_María La Baja.pdf a G:\\Mi unidad\\Equipo_Consolidacion\\Hitos\\E2_Informes_Id_FisicoJuridica\\2_2_6_Indicador_Edicion_Geografica\\Salidas_Graficas\n",
      "Se copia 20240817_Repelón.pdf a G:\\Mi unidad\\Equipo_Consolidacion\\Hitos\\E2_Informes_Id_FisicoJuridica\\2_2_6_Indicador_Edicion_Geografica\\Salidas_Graficas\n",
      "Se copia 20240818_Baranoa.pdf a G:\\Mi unidad\\Equipo_Consolidacion\\Hitos\\E2_Informes_Id_FisicoJuridica\\2_2_6_Indicador_Edicion_Geografica\\Salidas_Graficas\n",
      "Se copia 20240818_María La Baja.pdf a G:\\Mi unidad\\Equipo_Consolidacion\\Hitos\\E2_Informes_Id_FisicoJuridica\\2_2_6_Indicador_Edicion_Geografica\\Salidas_Graficas\n",
      "Se copia 20240818_Repelón.pdf a G:\\Mi unidad\\Equipo_Consolidacion\\Hitos\\E2_Informes_Id_FisicoJuridica\\2_2_6_Indicador_Edicion_Geografica\\Salidas_Graficas\n",
      "Se copia 20240819_Baranoa.pdf a G:\\Mi unidad\\Equipo_Consolidacion\\Hitos\\E2_Informes_Id_FisicoJuridica\\2_2_6_Indicador_Edicion_Geografica\\Salidas_Graficas\n",
      "Se copia 20240819_María La Baja.pdf a G:\\Mi unidad\\Equipo_Consolidacion\\Hitos\\E2_Informes_Id_FisicoJuridica\\2_2_6_Indicador_Edicion_Geografica\\Salidas_Graficas\n",
      "Se copia 20240819_Repelón.pdf a G:\\Mi unidad\\Equipo_Consolidacion\\Hitos\\E2_Informes_Id_FisicoJuridica\\2_2_6_Indicador_Edicion_Geografica\\Salidas_Graficas\n",
      "Se copia 20240820_Baranoa.pdf a G:\\Mi unidad\\Equipo_Consolidacion\\Hitos\\E2_Informes_Id_FisicoJuridica\\2_2_6_Indicador_Edicion_Geografica\\Salidas_Graficas\n",
      "Se copia 20240820_María La Baja.pdf a G:\\Mi unidad\\Equipo_Consolidacion\\Hitos\\E2_Informes_Id_FisicoJuridica\\2_2_6_Indicador_Edicion_Geografica\\Salidas_Graficas\n",
      "Se copia 20240820_Repelón.pdf a G:\\Mi unidad\\Equipo_Consolidacion\\Hitos\\E2_Informes_Id_FisicoJuridica\\2_2_6_Indicador_Edicion_Geografica\\Salidas_Graficas\n",
      "Se copia 20240821_Baranoa.pdf a G:\\Mi unidad\\Equipo_Consolidacion\\Hitos\\E2_Informes_Id_FisicoJuridica\\2_2_6_Indicador_Edicion_Geografica\\Salidas_Graficas\n",
      "Se copia 20240821_María La Baja.pdf a G:\\Mi unidad\\Equipo_Consolidacion\\Hitos\\E2_Informes_Id_FisicoJuridica\\2_2_6_Indicador_Edicion_Geografica\\Salidas_Graficas\n",
      "Se copia 20240821_Repelón.pdf a G:\\Mi unidad\\Equipo_Consolidacion\\Hitos\\E2_Informes_Id_FisicoJuridica\\2_2_6_Indicador_Edicion_Geografica\\Salidas_Graficas\n",
      "Se copia 20240822_Baranoa.pdf a G:\\Mi unidad\\Equipo_Consolidacion\\Hitos\\E2_Informes_Id_FisicoJuridica\\2_2_6_Indicador_Edicion_Geografica\\Salidas_Graficas\n",
      "Se copia 20240822_María La Baja.pdf a G:\\Mi unidad\\Equipo_Consolidacion\\Hitos\\E2_Informes_Id_FisicoJuridica\\2_2_6_Indicador_Edicion_Geografica\\Salidas_Graficas\n",
      "Se copia 20240822_Repelón.pdf a G:\\Mi unidad\\Equipo_Consolidacion\\Hitos\\E2_Informes_Id_FisicoJuridica\\2_2_6_Indicador_Edicion_Geografica\\Salidas_Graficas\n",
      "Se copia 20240823_Baranoa.pdf a G:\\Mi unidad\\Equipo_Consolidacion\\Hitos\\E2_Informes_Id_FisicoJuridica\\2_2_6_Indicador_Edicion_Geografica\\Salidas_Graficas\n",
      "Se copia 20240823_María La Baja.pdf a G:\\Mi unidad\\Equipo_Consolidacion\\Hitos\\E2_Informes_Id_FisicoJuridica\\2_2_6_Indicador_Edicion_Geografica\\Salidas_Graficas\n",
      "Se copia 20240823_Repelón.pdf a G:\\Mi unidad\\Equipo_Consolidacion\\Hitos\\E2_Informes_Id_FisicoJuridica\\2_2_6_Indicador_Edicion_Geografica\\Salidas_Graficas\n",
      "Se copia 20240824_Baranoa.pdf a G:\\Mi unidad\\Equipo_Consolidacion\\Hitos\\E2_Informes_Id_FisicoJuridica\\2_2_6_Indicador_Edicion_Geografica\\Salidas_Graficas\n",
      "Se copia 20240824_María La Baja.pdf a G:\\Mi unidad\\Equipo_Consolidacion\\Hitos\\E2_Informes_Id_FisicoJuridica\\2_2_6_Indicador_Edicion_Geografica\\Salidas_Graficas\n",
      "Se copia 20240824_Repelón.pdf a G:\\Mi unidad\\Equipo_Consolidacion\\Hitos\\E2_Informes_Id_FisicoJuridica\\2_2_6_Indicador_Edicion_Geografica\\Salidas_Graficas\n",
      "Se copia 20240825_Baranoa.pdf a G:\\Mi unidad\\Equipo_Consolidacion\\Hitos\\E2_Informes_Id_FisicoJuridica\\2_2_6_Indicador_Edicion_Geografica\\Salidas_Graficas\n",
      "Se copia 20240825_María La Baja.pdf a G:\\Mi unidad\\Equipo_Consolidacion\\Hitos\\E2_Informes_Id_FisicoJuridica\\2_2_6_Indicador_Edicion_Geografica\\Salidas_Graficas\n",
      "Se copia 20240825_Repelón.pdf a G:\\Mi unidad\\Equipo_Consolidacion\\Hitos\\E2_Informes_Id_FisicoJuridica\\2_2_6_Indicador_Edicion_Geografica\\Salidas_Graficas\n",
      "Se copia 20240826_Baranoa.pdf a G:\\Mi unidad\\Equipo_Consolidacion\\Hitos\\E2_Informes_Id_FisicoJuridica\\2_2_6_Indicador_Edicion_Geografica\\Salidas_Graficas\n",
      "Se copia 20240826_María La Baja.pdf a G:\\Mi unidad\\Equipo_Consolidacion\\Hitos\\E2_Informes_Id_FisicoJuridica\\2_2_6_Indicador_Edicion_Geografica\\Salidas_Graficas\n",
      "Se copia 20240826_Repelón.pdf a G:\\Mi unidad\\Equipo_Consolidacion\\Hitos\\E2_Informes_Id_FisicoJuridica\\2_2_6_Indicador_Edicion_Geografica\\Salidas_Graficas\n",
      "Se copia 20240827_Baranoa.pdf a G:\\Mi unidad\\Equipo_Consolidacion\\Hitos\\E2_Informes_Id_FisicoJuridica\\2_2_6_Indicador_Edicion_Geografica\\Salidas_Graficas\n",
      "Se copia 20240827_María La Baja.pdf a G:\\Mi unidad\\Equipo_Consolidacion\\Hitos\\E2_Informes_Id_FisicoJuridica\\2_2_6_Indicador_Edicion_Geografica\\Salidas_Graficas\n",
      "Se copia 20240827_Repelón.pdf a G:\\Mi unidad\\Equipo_Consolidacion\\Hitos\\E2_Informes_Id_FisicoJuridica\\2_2_6_Indicador_Edicion_Geografica\\Salidas_Graficas\n",
      "Se copia 20240827_Sabanagrande.pdf a G:\\Mi unidad\\Equipo_Consolidacion\\Hitos\\E2_Informes_Id_FisicoJuridica\\2_2_6_Indicador_Edicion_Geografica\\Salidas_Graficas\n",
      "Se copia 20240828_Baranoa.pdf a G:\\Mi unidad\\Equipo_Consolidacion\\Hitos\\E2_Informes_Id_FisicoJuridica\\2_2_6_Indicador_Edicion_Geografica\\Salidas_Graficas\n",
      "Se copia 20240828_María La Baja.pdf a G:\\Mi unidad\\Equipo_Consolidacion\\Hitos\\E2_Informes_Id_FisicoJuridica\\2_2_6_Indicador_Edicion_Geografica\\Salidas_Graficas\n",
      "Se copia 20240828_Repelón.pdf a G:\\Mi unidad\\Equipo_Consolidacion\\Hitos\\E2_Informes_Id_FisicoJuridica\\2_2_6_Indicador_Edicion_Geografica\\Salidas_Graficas\n",
      "Se copia 20240828_Sabanagrande.pdf a G:\\Mi unidad\\Equipo_Consolidacion\\Hitos\\E2_Informes_Id_FisicoJuridica\\2_2_6_Indicador_Edicion_Geografica\\Salidas_Graficas\n",
      "Se copia 20240829_Baranoa.pdf a G:\\Mi unidad\\Equipo_Consolidacion\\Hitos\\E2_Informes_Id_FisicoJuridica\\2_2_6_Indicador_Edicion_Geografica\\Salidas_Graficas\n",
      "Se copia 20240829_María La Baja.pdf a G:\\Mi unidad\\Equipo_Consolidacion\\Hitos\\E2_Informes_Id_FisicoJuridica\\2_2_6_Indicador_Edicion_Geografica\\Salidas_Graficas\n",
      "Se copia 20240829_Repelón.pdf a G:\\Mi unidad\\Equipo_Consolidacion\\Hitos\\E2_Informes_Id_FisicoJuridica\\2_2_6_Indicador_Edicion_Geografica\\Salidas_Graficas\n",
      "Se copia 20240829_Sabanagrande.pdf a G:\\Mi unidad\\Equipo_Consolidacion\\Hitos\\E2_Informes_Id_FisicoJuridica\\2_2_6_Indicador_Edicion_Geografica\\Salidas_Graficas\n",
      "Se copia 20240830_Baranoa.pdf a G:\\Mi unidad\\Equipo_Consolidacion\\Hitos\\E2_Informes_Id_FisicoJuridica\\2_2_6_Indicador_Edicion_Geografica\\Salidas_Graficas\n",
      "Se copia 20240830_María La Baja.pdf a G:\\Mi unidad\\Equipo_Consolidacion\\Hitos\\E2_Informes_Id_FisicoJuridica\\2_2_6_Indicador_Edicion_Geografica\\Salidas_Graficas\n",
      "Se copia 20240830_Repelón.pdf a G:\\Mi unidad\\Equipo_Consolidacion\\Hitos\\E2_Informes_Id_FisicoJuridica\\2_2_6_Indicador_Edicion_Geografica\\Salidas_Graficas\n",
      "Se copia 20240830_Sabanagrande.pdf a G:\\Mi unidad\\Equipo_Consolidacion\\Hitos\\E2_Informes_Id_FisicoJuridica\\2_2_6_Indicador_Edicion_Geografica\\Salidas_Graficas\n",
      "Se copia 20240831_Baranoa.pdf a G:\\Mi unidad\\Equipo_Consolidacion\\Hitos\\E2_Informes_Id_FisicoJuridica\\2_2_6_Indicador_Edicion_Geografica\\Salidas_Graficas\n",
      "Se copia 20240831_María La Baja.pdf a G:\\Mi unidad\\Equipo_Consolidacion\\Hitos\\E2_Informes_Id_FisicoJuridica\\2_2_6_Indicador_Edicion_Geografica\\Salidas_Graficas\n",
      "Se copia 20240831_Repelón.pdf a G:\\Mi unidad\\Equipo_Consolidacion\\Hitos\\E2_Informes_Id_FisicoJuridica\\2_2_6_Indicador_Edicion_Geografica\\Salidas_Graficas\n",
      "Se copia 20240831_Sabanagrande.pdf a G:\\Mi unidad\\Equipo_Consolidacion\\Hitos\\E2_Informes_Id_FisicoJuridica\\2_2_6_Indicador_Edicion_Geografica\\Salidas_Graficas\n",
      "Se copia 20240901_Baranoa.pdf a G:\\Mi unidad\\Equipo_Consolidacion\\Hitos\\E2_Informes_Id_FisicoJuridica\\2_2_6_Indicador_Edicion_Geografica\\Salidas_Graficas\n",
      "Se copia 20240901_María La Baja.pdf a G:\\Mi unidad\\Equipo_Consolidacion\\Hitos\\E2_Informes_Id_FisicoJuridica\\2_2_6_Indicador_Edicion_Geografica\\Salidas_Graficas\n",
      "Se copia 20240901_Repelón.pdf a G:\\Mi unidad\\Equipo_Consolidacion\\Hitos\\E2_Informes_Id_FisicoJuridica\\2_2_6_Indicador_Edicion_Geografica\\Salidas_Graficas\n",
      "Se copia 20240901_Sabanagrande.pdf a G:\\Mi unidad\\Equipo_Consolidacion\\Hitos\\E2_Informes_Id_FisicoJuridica\\2_2_6_Indicador_Edicion_Geografica\\Salidas_Graficas\n",
      "Se copia 20240902_Baranoa.pdf a G:\\Mi unidad\\Equipo_Consolidacion\\Hitos\\E2_Informes_Id_FisicoJuridica\\2_2_6_Indicador_Edicion_Geografica\\Salidas_Graficas\n",
      "Se copia 20240902_María La Baja.pdf a G:\\Mi unidad\\Equipo_Consolidacion\\Hitos\\E2_Informes_Id_FisicoJuridica\\2_2_6_Indicador_Edicion_Geografica\\Salidas_Graficas\n",
      "Se copia 20240902_Repelón.pdf a G:\\Mi unidad\\Equipo_Consolidacion\\Hitos\\E2_Informes_Id_FisicoJuridica\\2_2_6_Indicador_Edicion_Geografica\\Salidas_Graficas\n",
      "Se copia 20240902_Sabanagrande.pdf a G:\\Mi unidad\\Equipo_Consolidacion\\Hitos\\E2_Informes_Id_FisicoJuridica\\2_2_6_Indicador_Edicion_Geografica\\Salidas_Graficas\n",
      "Se copia 20240903_Baranoa.pdf a G:\\Mi unidad\\Equipo_Consolidacion\\Hitos\\E2_Informes_Id_FisicoJuridica\\2_2_6_Indicador_Edicion_Geografica\\Salidas_Graficas\n",
      "Se copia 20240903_María La Baja.pdf a G:\\Mi unidad\\Equipo_Consolidacion\\Hitos\\E2_Informes_Id_FisicoJuridica\\2_2_6_Indicador_Edicion_Geografica\\Salidas_Graficas\n",
      "Se copia 20240903_Repelón.pdf a G:\\Mi unidad\\Equipo_Consolidacion\\Hitos\\E2_Informes_Id_FisicoJuridica\\2_2_6_Indicador_Edicion_Geografica\\Salidas_Graficas\n",
      "Se copia 20240903_Sabanagrande.pdf a G:\\Mi unidad\\Equipo_Consolidacion\\Hitos\\E2_Informes_Id_FisicoJuridica\\2_2_6_Indicador_Edicion_Geografica\\Salidas_Graficas\n",
      "Se copia 20240904_Baranoa.pdf a G:\\Mi unidad\\Equipo_Consolidacion\\Hitos\\E2_Informes_Id_FisicoJuridica\\2_2_6_Indicador_Edicion_Geografica\\Salidas_Graficas\n",
      "Se copia 20240904_María La Baja.pdf a G:\\Mi unidad\\Equipo_Consolidacion\\Hitos\\E2_Informes_Id_FisicoJuridica\\2_2_6_Indicador_Edicion_Geografica\\Salidas_Graficas\n",
      "Se copia 20240904_Repelón.pdf a G:\\Mi unidad\\Equipo_Consolidacion\\Hitos\\E2_Informes_Id_FisicoJuridica\\2_2_6_Indicador_Edicion_Geografica\\Salidas_Graficas\n",
      "Se copia 20240904_Sabanagrande.pdf a G:\\Mi unidad\\Equipo_Consolidacion\\Hitos\\E2_Informes_Id_FisicoJuridica\\2_2_6_Indicador_Edicion_Geografica\\Salidas_Graficas\n",
      "Se copia 20240905_Baranoa.pdf a G:\\Mi unidad\\Equipo_Consolidacion\\Hitos\\E2_Informes_Id_FisicoJuridica\\2_2_6_Indicador_Edicion_Geografica\\Salidas_Graficas\n",
      "Se copia 20240905_María La Baja.pdf a G:\\Mi unidad\\Equipo_Consolidacion\\Hitos\\E2_Informes_Id_FisicoJuridica\\2_2_6_Indicador_Edicion_Geografica\\Salidas_Graficas\n",
      "Se copia 20240905_Repelón.pdf a G:\\Mi unidad\\Equipo_Consolidacion\\Hitos\\E2_Informes_Id_FisicoJuridica\\2_2_6_Indicador_Edicion_Geografica\\Salidas_Graficas\n",
      "Se copia 20240905_Sabanagrande.pdf a G:\\Mi unidad\\Equipo_Consolidacion\\Hitos\\E2_Informes_Id_FisicoJuridica\\2_2_6_Indicador_Edicion_Geografica\\Salidas_Graficas\n",
      "Se copia 20240906_Baranoa.pdf a G:\\Mi unidad\\Equipo_Consolidacion\\Hitos\\E2_Informes_Id_FisicoJuridica\\2_2_6_Indicador_Edicion_Geografica\\Salidas_Graficas\n",
      "Se copia 20240906_María La Baja.pdf a G:\\Mi unidad\\Equipo_Consolidacion\\Hitos\\E2_Informes_Id_FisicoJuridica\\2_2_6_Indicador_Edicion_Geografica\\Salidas_Graficas\n",
      "Se copia 20240906_Repelón.pdf a G:\\Mi unidad\\Equipo_Consolidacion\\Hitos\\E2_Informes_Id_FisicoJuridica\\2_2_6_Indicador_Edicion_Geografica\\Salidas_Graficas\n",
      "Se copia 20240906_Sabanagrande.pdf a G:\\Mi unidad\\Equipo_Consolidacion\\Hitos\\E2_Informes_Id_FisicoJuridica\\2_2_6_Indicador_Edicion_Geografica\\Salidas_Graficas\n"
=======
      "Se copia 20240718_Repelón.pdf a G:\\Mi unidad\\Equipo_Consolidacion\\Hitos\\E2_Informes_Id_FisicoJuridica\\2_2_6_Indicador_Edicion_Geografica\\Salidas_Graficas\n"
>>>>>>> 1de0162e9ad4e7a9df62aadbca46c2194b3914e9
     ]
    }
   ],
   "source": [
    "archivos_origen = os.listdir(RUTA_ORIGEN)\n",
    "for archivo in archivos_origen:\n",
    "    shutil.copy(src=os.path.join(RUTA_ORIGEN, archivo),dst=os.path.join(RUTA_DESTINO, archivo))\n",
    "    print(f\"Se copia {archivo} a {RUTA_DESTINO}\")"
   ]
  }
 ],
 "metadata": {
  "kernelspec": {
   "display_name": "Python 3",
   "language": "python",
   "name": "python3"
  },
  "language_info": {
   "codemirror_mode": {
    "name": "ipython",
    "version": 3
   },
   "file_extension": ".py",
   "mimetype": "text/x-python",
   "name": "python",
   "nbconvert_exporter": "python",
   "pygments_lexer": "ipython3",
   "version": "3.11.8"
  }
 },
 "nbformat": 4,
 "nbformat_minor": 2
}
