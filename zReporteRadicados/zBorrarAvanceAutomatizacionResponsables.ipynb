{
 "cells": [
  {
   "cell_type": "code",
   "execution_count": null,
   "metadata": {},
   "outputs": [],
   "source": [
    "fecha_indicador = str(datetime.now().strftime(\"%Y-%m-%d\"))\n",
    "\n",
    "RUTA_RESPONSABLE_TRAMITE_EN_ATENCION = r\"C:\\docsProyectos\\5.RAISS\\2024.0.RAISS_Lote_4\\6.Hitos\\E2_Informes_Id_FisicoJuirica\\1.Indicadores_Estrategicos\\1.1.Responsable_Por_Tramite_Activo\\Responsable_Tramite_En_Atencion.xlsx\"\n",
    "\n",
    "df_xlsx_tramite_en_atencion = pd.read_excel(RUTA_RESPONSABLE_TRAMITE_EN_ATENCION)"
   ]
  },
  {
   "cell_type": "code",
   "execution_count": null,
   "metadata": {},
   "outputs": [],
   "source": [
    "# df_consulta_indicador_1_actualizacion_estado_responsable.columns\n",
    "\n",
    "# if fecha_indicador in df_consulta_indicador_1_actualizacion_estado_responsable.columns:\n",
    "#     pass\n",
    "# else:\n",
    "#     pass"
   ]
  }
 ],
 "metadata": {
  "language_info": {
   "name": "python"
  }
 },
 "nbformat": 4,
 "nbformat_minor": 2
}
