{
 "cells": [
  {
   "cell_type": "code",
   "execution_count": 3,
   "metadata": {},
   "outputs": [],
   "source": [
    "import arcpy, os\n",
    "\n",
    "def append_terrenos_avance_edicion_gis(rutaSalidaCapas):\n",
    "    \n",
    "    arcpy.env.workspace = rutaSalidaCapas\n",
    "    for capa in arcpy.ListFeatureClasses():\n",
    "        if capa == 'terrenos_editados':\n",
    "            arcpy.TruncateTable_management(capa)\n",
    "            print(f\"* Se completa el truncado de las tabla objetivo: {capa}\")\n",
    "    print(f\"1. Se completa el truncado de las tablas objetivo\")\n",
    "\n",
    "    lista_rutas_append = []\n",
    "    for capa in arcpy.ListFeatureClasses():\n",
    "        if capa != 'terrenos_editados':\n",
    "            ruta_fc_append = os.path.join(arcpy.env.workspace,capa)\n",
    "            lista_rutas_append.append(ruta_fc_append)\n",
    "\n",
    "    for capa in arcpy.ListFeatureClasses():\n",
    "        if capa == 'terrenos_editados':\n",
    "            arcpy.management.Append(inputs = lista_rutas_append, target = capa, schema_type='TEST')\n",
    "    \n",
    "    print(f\"2. Se anexan capas a BD\")\n",
    "            \n",
    "\n",
    "\n",
    "        \n"
   ]
  },
  {
   "cell_type": "code",
   "execution_count": 4,
   "metadata": {},
   "outputs": [
    {
     "name": "stdout",
     "output_type": "stream",
     "text": [
      "* Se completa el truncado de las tabla objetivo: terrenos_editados\n",
      "1. Se completa el truncado de las tablas objetivo\n",
      "2. Se anexan capas a BD\n"
     ]
    }
   ],
   "source": [
    "ruta_2_2_6 = r\"C:\\docsProyectos\\5.RAISS\\2024.0.RAISS_Lote_4\\6.Hitos\\E2_Informes_Id_FisicoJuridica\\2_2_6_Indicador_Edicion_Geografica\\Base_Datos\\2_2_6.gdb\"\n",
    "\n",
    "append_terrenos_avance_edicion_gis(ruta_2_2_6)"
   ]
  }
 ],
 "metadata": {
  "kernelspec": {
   "display_name": "Python 3",
   "language": "python",
   "name": "python3"
  },
  "language_info": {
   "codemirror_mode": {
    "name": "ipython",
    "version": 3
   },
   "file_extension": ".py",
   "mimetype": "text/x-python",
   "name": "python",
   "nbconvert_exporter": "python",
   "pygments_lexer": "ipython3",
   "version": "3.11.8"
  }
 },
 "nbformat": 4,
 "nbformat_minor": 2
}
