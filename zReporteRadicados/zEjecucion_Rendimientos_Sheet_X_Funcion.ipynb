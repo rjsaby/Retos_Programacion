{
 "cells": [
  {
   "cell_type": "code",
   "execution_count": null,
   "metadata": {},
   "outputs": [],
   "source": [
    "import funcion_dataframe_terrenos\n",
    "import funcion_Calculo_Rendimientos_IndicadorSheet"
   ]
  },
  {
   "cell_type": "code",
   "execution_count": null,
   "metadata": {},
   "outputs": [],
   "source": [
    "nMunicipio = 'REPELON' \n",
    "nSheet = 'Rendimientos_Reconocimiento_Repelon'\n",
    "idSheet = '1b5SCyNYRiowsu3QarYDjPVBh5Dr5p_qxZ1OkpwJMT3Q'\n",
    "\n",
    "funcion_Calculo_Rendimientos_IndicadorSheet.calculo_rendimientos_indicadorSheet(nMunicipio, nSheet, idSheet)\n",
    "print(f\"Concluye la ejecución de la función\")"
   ]
  }
 ],
 "metadata": {
  "kernelspec": {
   "display_name": "Python 3",
   "language": "python",
   "name": "python3"
  },
  "language_info": {
   "codemirror_mode": {
    "name": "ipython",
    "version": 3
   },
   "file_extension": ".py",
   "mimetype": "text/x-python",
   "name": "python",
   "nbconvert_exporter": "python",
   "pygments_lexer": "ipython3",
   "version": "3.11.8"
  }
 },
 "nbformat": 4,
 "nbformat_minor": 2
}
