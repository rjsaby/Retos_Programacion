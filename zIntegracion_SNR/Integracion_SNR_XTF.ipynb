{
 "cells": [
  {
   "cell_type": "code",
   "execution_count": 1,
   "metadata": {},
   "outputs": [],
   "source": [
    "import pandas as pd\n",
    "import os, sys\n",
    "import seaborn as sns\n",
    "\n",
    "os.environ[\"CRYPTOGRAPHY_OPENSSL_NO_LEGACY\"] = \"yes\"\n",
    "\n",
    "# ? Se usa para generar gráficos\n",
    "import matplotlib.pyplot as plt\n",
    "\n",
    "import shutil\n",
    "\n",
    "# ? Se usa para determina la fecha de ejecución del proceso dentro del export de los resultados estadísticos\n",
    "from datetime import datetime as dt\n",
    "\n",
    "# ? Conexión a BD Postgres. Se usa dado que pandas no acepta sino este paquete para la conexión.\n",
    "from sqlalchemy import create_engine, text\n",
    "\n",
    "from pathlib import Path\n",
    "\n",
    "# ** Librerías propias\n"
   ]
  },
  {
   "cell_type": "code",
   "execution_count": 2,
   "metadata": {},
   "outputs": [],
   "source": [
    "\n",
    "# TODO: Se parametrizan las variables a usar en la función de conexión (connect)\n",
    "host = 'localhost'\n",
    "database = 'raiss_lote_4'\n",
    "user = 'postgres'\n",
    "password = 'R80798034s.'\n",
    "port = '5432'\n",
    "schema = 'public'\n",
    "\n",
    "url = f\"postgresql://{user}:{password}@{host}:{port}/{database}\"\n",
    "engine = create_engine(url, pool_size=50, echo=False)\n",
    "\n",
    "conexion_sqlalq = engine.connect()\n",
    "\n",
    "conexion_sqlalq.execute(text(f'SET search_path TO {schema}'))\n",
    "\n",
    "consulta_usuario = \"\"\"select * from tbl_submodelo_snr;\"\"\"\n",
    "\n",
    "df_consulta_sql = pd.read_sql_query(consulta_usuario, conexion_sqlalq)"
   ]
  },
  {
   "cell_type": "code",
   "execution_count": 3,
   "metadata": {},
   "outputs": [],
   "source": [
    "def generacion_xlsx_municipio(codigodane:str):\n",
    "\n",
    "    # TODO: Añadir el directorio A al sys.path, esto para llamar a una función contenida en otro directorio, ambas dentro de la misma carpeta raiz\n",
    "    sys.path.append(os.path.abspath('../zReporteRadicados'))\n",
    "\n",
    "    # ** Importar Librerías Propias\n",
    "    from funcion_personalizacion_tablas import personalizacion_tablas\n",
    "\n",
    "    DIRECTORIO_XLSX = r\"C:\\docsProyectos\\5.RAISS\\2024.0.RAISS_Lote_4\\6.Hitos\\zApoyo_A_Equipos\\zApoyoEquipoJuridico\\2.Submodelo_Insumos_SNR\"\n",
    "    NOMBRE_XLSX = codigodane + '_' + 'tbl_submodelo_insumos_snr.xlsx'\n",
    "\n",
    "    df_consulta_sql.to_excel(os.path.join(DIRECTORIO_XLSX,NOMBRE_XLSX))\n",
    "\n",
    "    \n",
    "    # TODO: Ejecución de la función que personaliza la tabla de salida\n",
    "    personalizacion_tablas(os.path.join(DIRECTORIO_XLSX,NOMBRE_XLSX))"
   ]
  },
  {
   "cell_type": "code",
   "execution_count": 4,
   "metadata": {},
   "outputs": [],
   "source": [
    "\n",
    "# TODO: Ejecución de Función\n",
    "generacion_xlsx_municipio('13442')"
   ]
  }
 ],
 "metadata": {
  "kernelspec": {
   "display_name": "Python 3",
   "language": "python",
   "name": "python3"
  },
  "language_info": {
   "codemirror_mode": {
    "name": "ipython",
    "version": 3
   },
   "file_extension": ".py",
   "mimetype": "text/x-python",
   "name": "python",
   "nbconvert_exporter": "python",
   "pygments_lexer": "ipython3",
   "version": "3.11.8"
  }
 },
 "nbformat": 4,
 "nbformat_minor": 2
}
