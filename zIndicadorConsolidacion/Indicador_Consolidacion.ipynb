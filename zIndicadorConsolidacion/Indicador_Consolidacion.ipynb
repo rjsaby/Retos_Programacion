{
 "cells": [
  {
   "cell_type": "markdown",
   "metadata": {},
   "source": [
    "<h2>Seguimiento a la Consolidación de Información</h2>"
   ]
  },
  {
   "cell_type": "code",
   "execution_count": null,
   "metadata": {},
   "outputs": [],
   "source": [
    "import os\n",
    "import pandas as pd\n",
    "from pathlib import Path\n",
    "import datetime\n",
    "import shutil"
   ]
  },
  {
   "cell_type": "markdown",
   "metadata": {},
   "source": [
    "<h3>Parametrización de variables</h3>"
   ]
  },
  {
   "cell_type": "code",
   "execution_count": null,
   "metadata": {},
   "outputs": [],
   "source": [
    "\n",
    "RUTA_XLSX_NUBE = r\"C:\\Users\\rodian.saby\\OneDrive\\Documentos\\docsProyectos\\5.RAISS\\2024.0.RAISS_Lote_4\\6.Hitos\\E1_Alistamiento_Diagnostico\\3_Disposicion\\4.Seguimiento_Consolidacion\\Reporte_Seguimiento_Consolidacion_V1.xlsx\"\n",
    "\n",
    "RUTA_XLSX = r\"C:\\docsProyectos\\5.RAISS\\2024.0.RAISS_Lote_4\\6.Hitos\\E1_Alistamiento_Diagnostico\\3_Disposicion\\4.Seguimiento_Consolidacion\\Reporte_Seguimiento_Consolidacion_V1.xlsx\"\n",
    "SHEET_NAME = \"Seguimiento Consolidación\"\n",
    "RUTA_BASE = r\"E:\\Insumos PCCasa\"\n",
    "\n",
    "columnas = ['ruta_archivo','nomArchivo','extensionArchivo','pesoArchivoMbs','fechaCreacionArchivo','fuenteArchivo']\n",
    "ruta_salida_csv = r\"C:\\docsProyectos\\5.RAISS\\2024.0.RAISS_Lote_4\\6.Hitos\\E1_Alistamiento_Diagnostico\\3_Disposicion\\4.Seguimiento_Consolidacion\"\n",
    "nombre_csv = \"seguimiento_consolidacion.csv\"\n",
    "extensiones = ['.shp','.xls','.xlsx','.csv','.txt','.doc','.docx','.dwg','.dxf','.pdf', '.geojson', '.json', '.xtf', '.ili',\n",
    "    '.SHP','.XLS','.XLSX','.CSV','.TXT','.DOC','.DOCX','.DWG','.DXF','.PDF', '.GEOJSON', '.JSON', '.XTF', '.ILI']\n",
    "\n",
    "reemplazo = {'ruta_archivo':'Ruta Archivo',\n",
    "    'nomArchivo':'Nombre Archivo',\n",
    "    'extensionArchivo':'Extensión Archivo',\n",
    "    'pesoArchivoMbs':'Peso Archivo [Mbs]',\n",
    "    'fechaCreacionArchivo':'Fecha Creación Archivo',\n",
    "    'fuenteArchivo':'Entidad\\Agencia Fuente',\n",
    "    'tipoInsumo':'Tipo Insumo'}\n",
    "\n",
    "COLUMNAS = ['Ruta Archivo',\n",
    "    'Nombre Archivo',\n",
    "    'Extensión Archivo',\n",
    "    'Peso Archivo [Mbs]',\n",
    "    'Fecha Creación Archivo',\n",
    "    'Entidad\\Agencia Fuente',\n",
    "    'Tipo Insumo',\n",
    "    'Consolidado',\n",
    "    'Fecha Consolidación',\n",
    "    'Identificador Insumo Inventario',\n",
    "    'Nombre Archivo o Daset Consolidado En BD',\n",
    "    'Ruta Consolidacion Insumo Documental']"
   ]
  },
  {
   "cell_type": "markdown",
   "metadata": {},
   "source": [
    "<h3>Definición de Funciones</h3>"
   ]
  },
  {
   "cell_type": "code",
   "execution_count": null,
   "metadata": {},
   "outputs": [],
   "source": [
    "def ftipoinsumo(a):\n",
    "\n",
    "    # todo Documental\n",
    "    a.loc[(a['tipoInsumo'].isnull()) & \n",
    "        ((a['extensionArchivo'] == '.pdf') |\n",
    "        (a['extensionArchivo'] == '.PDF') |\n",
    "        (a['extensionArchivo'] == '.doc') |\n",
    "        (a['extensionArchivo'] == '.DOC') |\n",
    "        (a['extensionArchivo'] == '.docx') |\n",
    "        (a['extensionArchivo'] == '.DOCX')), 'tipoInsumo'] = 'Documental'\n",
    "\n",
    "    # todo Geográfica\n",
    "    a.loc[(a['tipoInsumo'].isnull()) & \n",
    "        ((a['extensionArchivo'] == '.gdb') |\n",
    "        (a['extensionArchivo'] == '.GDB') |\n",
    "        (a['extensionArchivo'] == '.shp') |\n",
    "        (a['extensionArchivo'] == '.SHP') |\n",
    "        (a['extensionArchivo'] == '.geojson') |\n",
    "        (a['extensionArchivo'] == '.GEOJSON')), 'tipoInsumo'] = 'Geografica'\n",
    "\n",
    "    # todo Alfanumérica\n",
    "    a.loc[(a['tipoInsumo'].isnull()) & \n",
    "        ((a['extensionArchivo'] == '.xlsx') |\n",
    "        (a['extensionArchivo'] == '.XLSX') |\n",
    "        (a['extensionArchivo'] == '.xls') |\n",
    "        (a['extensionArchivo'] == '.XLS') |\n",
    "        (a['extensionArchivo'] == '.json') |\n",
    "        (a['extensionArchivo'] == '.JSON') |\n",
    "        (a['extensionArchivo'] == '.xtf') |\n",
    "        (a['extensionArchivo'] == '.XTF') |\n",
    "        (a['extensionArchivo'] == '.ili') |\n",
    "        (a['extensionArchivo'] == '.ILI') |\n",
    "        (a['extensionArchivo'] == '.txt') |\n",
    "        (a['extensionArchivo'] == '.TXT') |\n",
    "        (a['extensionArchivo'] == '.csv') |\n",
    "        (a['extensionArchivo'] == '.CSV') |\n",
    "        (a['extensionArchivo'] == '.dwg') |\n",
    "        (a['extensionArchivo'] == '.DWG') |\n",
    "        (a['extensionArchivo'] == '.dxf') |\n",
    "        (a['extensionArchivo'] == '.DXF')), 'tipoInsumo'] = 'Geografica'\n",
    "    \n",
    "def eliminar_raiz(ruta):\n",
    "    ruta_completa = Path(ruta)\n",
    "    partes = ruta_completa.parts\n",
    "    ruta_sin_raiz = Path(*partes[1:])\n",
    "    return str(ruta_sin_raiz)"
   ]
  },
  {
   "cell_type": "code",
   "execution_count": null,
   "metadata": {},
   "outputs": [],
   "source": [
    "rutaBorrar = r\"E:\\Insumos PCCasa\\IGAC - Direccion Territorial Atlantico\\634\\634 - Sabanagrande_Atlantico.txt\"\n",
    "ruta = eliminar_raiz(rutaBorrar)\n",
    "ruta"
   ]
  },
  {
   "cell_type": "markdown",
   "metadata": {},
   "source": [
    "<h3>Copia de archivo de seguimiento de Nube o Local</h3>"
   ]
  },
  {
   "cell_type": "code",
   "execution_count": null,
   "metadata": {},
   "outputs": [],
   "source": [
    "shutil.copy(RUTA_XLSX_NUBE, RUTA_XLSX)\n",
    "print(f\"Se copia archivo de ruta {RUTA_XLSX_NUBE} a ruta {RUTA_XLSX}\")"
   ]
  },
  {
   "cell_type": "markdown",
   "metadata": {},
   "source": [
    "<h3>DF con la base de seguimiento a la consolidación</h3>"
   ]
  },
  {
   "cell_type": "code",
   "execution_count": null,
   "metadata": {},
   "outputs": [],
   "source": [
    "df_data_xlsx = pd.read_excel(RUTA_XLSX, sheet_name=SHEET_NAME)"
   ]
  },
  {
   "cell_type": "markdown",
   "metadata": {},
   "source": [
    "<h3>Indexación de fuente diferentes a las bases de datos geográficas</h3>"
   ]
  },
  {
   "cell_type": "code",
   "execution_count": null,
   "metadata": {},
   "outputs": [],
   "source": [
    "ruta_archivo = []\n",
    "nomArchivo = []\n",
    "extensionArchivo = []\n",
    "pesoArchivoMbs = []\n",
    "fechaCreacionArchivo = []\n",
    "fuenteArchivo = []\n",
    "\n",
    "for ruta, directorio, archivo in os.walk(RUTA_BASE):\n",
    "    for nombre_archivo in archivo:        \n",
    "        ruta_archivos = os.path.join(ruta, nombre_archivo)\n",
    "        rArchivos = Path(ruta_archivos)\n",
    "        extensionArchivos = rArchivos.suffix\n",
    "        for extBase in extensiones:\n",
    "            if extBase == rArchivos.suffix:\n",
    "                ruta_archivo.append(ruta_archivos)\n",
    "                nomArchivo.append(rArchivos.stem)\n",
    "                fuenteArchivo.append(ruta_archivos.split('\\\\')[2])                \n",
    "                extensionArchivo.append(rArchivos.suffix)\n",
    "                pesoArchivoMbs.append((os.path.getsize(rArchivos))/1000000)\n",
    "                # ** DE UT a Formato Fecha\n",
    "                marca_tiempo_creacion = os.path.getctime(rArchivos)\n",
    "                fecha_creacion = datetime.datetime.fromtimestamp(marca_tiempo_creacion)\n",
    "                fecha_formateada = fecha_creacion.strftime('%Y-%m-%d')\n",
    "                fechaCreacionArchivo.append(fecha_formateada)\n",
    "                print(\"Se documenta {0}\".format(rArchivos.name))"
   ]
  },
  {
   "cell_type": "markdown",
   "metadata": {},
   "source": [
    "<h3>Indexación de las bases de datos geográficas</h3>"
   ]
  },
  {
   "cell_type": "code",
   "execution_count": null,
   "metadata": {},
   "outputs": [],
   "source": [
    "for ruta, directorios, archivo in os.walk(RUTA_BASE):\n",
    "    for nombre_directorio in directorios:        \n",
    "        ruta_directorios = os.path.join(ruta, nombre_directorio)\n",
    "        rDirectorios = Path(ruta_directorios)\n",
    "        if rDirectorios.suffix == '.gdb':\n",
    "                ruta_archivo.append(ruta_directorios)                \n",
    "                nomArchivo.append(rDirectorios.stem)\n",
    "                fuenteArchivo.append(ruta_directorios.split('\\\\')[2])\n",
    "                extensionArchivo.append(rDirectorios.suffix)\n",
    "                pesoArchivoMbs.append((os.path.getsize(rDirectorios))/1000000)\n",
    "                # ** DE UT a Formato Fecha\n",
    "                marca_tiempo_creacion = os.path.getctime(rDirectorios)\n",
    "                fecha_creacion = datetime.datetime.fromtimestamp(marca_tiempo_creacion)\n",
    "                fecha_formateada = fecha_creacion.strftime('%Y-%m-%d')\n",
    "                fechaCreacionArchivo.append(fecha_formateada)\n",
    "                print(\"Se documenta {0}\".format(rDirectorios.name))\n"
   ]
  },
  {
   "cell_type": "markdown",
   "metadata": {},
   "source": [
    "<h3>Unificación de Consolidación Alefanumérica, Geográfica y Documental</h3>"
   ]
  },
  {
   "cell_type": "code",
   "execution_count": null,
   "metadata": {},
   "outputs": [],
   "source": [
    "\n",
    "lista_archivos_recibidos = list(zip(ruta_archivo, nomArchivo, extensionArchivo, pesoArchivoMbs, fechaCreacionArchivo, fuenteArchivo))\n",
    "df_lista_archivos_recibidos = pd.DataFrame(lista_archivos_recibidos, columns = columnas)\n",
    "\n",
    "df_lista_archivos_recibidos[\"tipoInsumo\"] = None\n",
    "\n",
    "# TODO: Inserción del Tipo de Insumo por medio de la función creada\n",
    "ftipoinsumo(df_lista_archivos_recibidos)"
   ]
  },
  {
   "cell_type": "code",
   "execution_count": null,
   "metadata": {},
   "outputs": [],
   "source": [
    "\n",
    "# ** Se ejecuta para remover las raices de los archivos\n",
    "# df_data_xlsx['Ruta Archivo'] = df_data_xlsx['Ruta Archivo'].apply(eliminar_raiz)\n",
    "df_lista_archivos_recibidos['ruta_archivo'] = df_lista_archivos_recibidos['ruta_archivo'].apply(eliminar_raiz)"
   ]
  },
  {
   "cell_type": "markdown",
   "metadata": {},
   "source": [
    "<h3>Identificación de nuevos insumos frente al documento base de Seguimiento</h3>"
   ]
  },
  {
   "cell_type": "code",
   "execution_count": null,
   "metadata": {},
   "outputs": [],
   "source": [
    "\n",
    "# ** Terrenos Gestionados SIG Espacializados\n",
    "df_rastreo_vs_base = pd.merge(df_data_xlsx, df_lista_archivos_recibidos, left_on='Ruta Archivo', right_on='ruta_archivo', how='outer')\n",
    "df_rastreo_vs_base_outer = df_rastreo_vs_base.loc[df_rastreo_vs_base['Ruta Archivo'].isnull()]\n",
    "df_nuevos_insumos = pd.DataFrame(df_rastreo_vs_base_outer, columns=columnas)\n",
    "\n",
    "df_nuevos_insumos[\"tipoInsumo\"] = None\n",
    "\n",
    "# TODO: Inserción del Tipo de Insumo por medio de la función creada\n",
    "ftipoinsumo(df_nuevos_insumos)"
   ]
  },
  {
   "cell_type": "markdown",
   "metadata": {},
   "source": [
    "<h3>Reemplazo en el nombre de las columnas</h3>"
   ]
  },
  {
   "cell_type": "code",
   "execution_count": null,
   "metadata": {},
   "outputs": [],
   "source": [
    "df_nuevos_insumos_estandarizado = df_nuevos_insumos.rename(columns=reemplazo)"
   ]
  },
  {
   "cell_type": "markdown",
   "metadata": {},
   "source": [
    "<h3>Unificación de los nuevos insumos dentro del documento de seguimiento</h3>"
   ]
  },
  {
   "cell_type": "code",
   "execution_count": null,
   "metadata": {},
   "outputs": [],
   "source": [
    "df_nuevos_insumos_estandarizado_tipo_insumo = pd.concat([df_data_xlsx, df_nuevos_insumos_estandarizado] , ignore_index=True)\n",
    "\n",
    "df_seguimiento_consolidacion = pd.DataFrame(df_nuevos_insumos_estandarizado_tipo_insumo, columns=COLUMNAS)"
   ]
  },
  {
   "cell_type": "markdown",
   "metadata": {},
   "source": [
    "<h3>Parametrización de lo NO consolidado</h3>"
   ]
  },
  {
   "cell_type": "code",
   "execution_count": null,
   "metadata": {},
   "outputs": [],
   "source": [
    "df_seguimiento_consolidacion.loc[df_seguimiento_consolidacion['Consolidado'].isnull(),'Consolidado'] = 'No'"
   ]
  },
  {
   "cell_type": "markdown",
   "metadata": {},
   "source": [
    "<h3>Generación de CSV para reemplazar el informe de Seguimiento</h3>"
   ]
  },
  {
   "cell_type": "code",
   "execution_count": null,
   "metadata": {},
   "outputs": [],
   "source": [
    "df_seguimiento_consolidacion.to_csv(os.path.join(ruta_salida_csv, nombre_csv))\n",
    "print(f\"Se genera CSV: {nombre_csv}\")"
   ]
  },
  {
   "cell_type": "markdown",
   "metadata": {},
   "source": [
    "<h3>Estadísticos</h3>"
   ]
  },
  {
   "cell_type": "code",
   "execution_count": null,
   "metadata": {},
   "outputs": [],
   "source": [
    "print(f\"Total de registros, XLSX Base: {df_data_xlsx.shape[0]}\")\n",
    "print(f\"Total de actualizados: {df_rastreo_vs_base_outer.shape[0]}\")\n",
    "print(f\"Total de registros, Seguimiento Consolidado: {df_seguimiento_consolidacion.shape[0]}\")"
   ]
  }
 ],
 "metadata": {
  "kernelspec": {
   "display_name": "Python 3",
   "language": "python",
   "name": "python3"
  },
  "language_info": {
   "codemirror_mode": {
    "name": "ipython",
    "version": 3
   },
   "file_extension": ".py",
   "mimetype": "text/x-python",
   "name": "python",
   "nbconvert_exporter": "python",
   "pygments_lexer": "ipython3",
   "version": "3.11.8"
  }
 },
 "nbformat": 4,
 "nbformat_minor": 2
}
