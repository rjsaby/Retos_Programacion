{
 "cells": [
  {
   "cell_type": "code",
   "execution_count": null,
   "metadata": {},
   "outputs": [],
   "source": [
    "import arcpy, os\n",
    "arcpy.env.overwriteOutput = True"
   ]
  },
  {
   "cell_type": "code",
   "execution_count": null,
   "metadata": {},
   "outputs": [],
   "source": [
    "\n",
    "ruta_creacion_base_datos_salida = r\"C:\\docsProyectos\\5.RAISS\\2024.0.RAISS_Lote_4\\1.GIS\\1.2.PRO\\RAISS_Lote_4\" \n",
    "nombre_base_datos_salida = 'LC_ModeloAplicacion_V_1_0_SRC9377'\n",
    "ruta_bd_salida = os.path.join(ruta_creacion_base_datos_salida, nombre_base_datos_salida)\n",
    "\n",
    "\n",
    "if arcpy.Exists(ruta_bd_salida):\n",
    "    os.rmdir(ruta_bd_salida)\n",
    "    print(\"La base de datos existe por eso se elimina\")\n",
    "    arcpy.CreateFileGDB_management( out_folder_path = ruta_creacion_base_datos_salida, out_name = nombre_base_datos_salida)\n",
    "    print(\"Se recrea la base de datos\")\n",
    "else:   \n",
    "    arcpy.CreateFileGDB_management( out_folder_path = ruta_creacion_base_datos_salida, out_name = nombre_base_datos_salida)\n",
    "    print(\"Se crea la base de datos\")"
   ]
  },
  {
   "cell_type": "code",
   "execution_count": null,
   "metadata": {},
   "outputs": [],
   "source": [
    "\n",
    "ruta_bd_inicio = r\"C:\\docsProyectos\\5.RAISS\\2024.0.RAISS_Lote_4\\1.GIS\\1.2.PRO\\RAISS_Lote_4\\modelo_aplicacion_interno_v_1_0.gdb\"\n",
    "arcpy.env.workspace = ruta_bd_inicio\n",
    "bd_salida = ruta_bd_salida + '.gdb'\n",
    "\n",
    "lista_tablas = arcpy.ListTables()\n",
    "\n",
    "for tabla in lista_tablas:\n",
    "    tabla_inicio = os.path.join(ruta_bd_inicio, tabla)\n",
    "    tabla_salida = os.path.join(bd_salida, tabla)\n",
    "    arcpy.Copy_management(in_data = tabla_inicio, out_data = tabla_salida)\n",
    "    print(\"Se copia {0}\".format(tabla))"
   ]
  },
  {
   "cell_type": "code",
   "execution_count": 28,
   "metadata": {},
   "outputs": [],
   "source": [
    "lista_capas = arcpy.ListFeatureClasses()\n",
    "\n",
    "for capa in lista_capas:\n",
    "    print(lista_capas)"
   ]
  }
 ],
 "metadata": {
  "kernelspec": {
   "display_name": "Python 3",
   "language": "python",
   "name": "python3"
  },
  "language_info": {
   "codemirror_mode": {
    "name": "ipython",
    "version": 3
   },
   "file_extension": ".py",
   "mimetype": "text/x-python",
   "name": "python",
   "nbconvert_exporter": "python",
   "pygments_lexer": "ipython3",
   "version": "3.9.18"
  }
 },
 "nbformat": 4,
 "nbformat_minor": 2
}
