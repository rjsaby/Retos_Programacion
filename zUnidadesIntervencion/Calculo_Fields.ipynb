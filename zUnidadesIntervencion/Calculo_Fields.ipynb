{
 "cells": [
  {
   "cell_type": "code",
   "execution_count": null,
   "metadata": {},
   "outputs": [],
   "source": [
    "import arcpy\n",
    "import os"
   ]
  },
  {
   "cell_type": "code",
   "execution_count": null,
   "metadata": {},
   "outputs": [],
   "source": [
    "RUTA_BD_ZI = r\"C:\\docsProyectos\\5.RAISS\\2024.0.RAISS_Lote_4\\6.Hitos\\O_Apoyo_Construccion_UIntervencion\\zInsumos\\ZI_LOTE4.gdb\"\n",
    "arcpy.env.workspace = RUTA_BD_ZI\n",
    "lCapas = ['ZI_BA','ZI_MB','ZI_RP','ZI_SG']"
   ]
  },
  {
   "cell_type": "code",
   "execution_count": null,
   "metadata": {},
   "outputs": [],
   "source": [
    "\n",
    "capa_campo_expresion = {1:['ZI_BA','ID_UI','!ZI_BA!'],\n",
    "    2:['ZI_BA','Codigo_DANE_UI','!DPTOMPIO!'],\n",
    "    3:['ZI_BA','Departamento_UI','!NOM_DEP!'],\n",
    "    4:['ZI_BA','Municipio_UI','!NOMB_MPIO!'],\n",
    "    5:['ZI_BA','Zona_UI','\"Rural\"'],\n",
    "    6:['ZI_BA','Nombre_UI','!NOMBRE_VER!'],\n",
    "    7:['ZI_MB','ID_UI','!CODIGO_VER!'],\n",
    "    8:['ZI_MB','Codigo_DANE_UI','!DPTOMPIO!'],\n",
    "    9:['ZI_MB','Departamento_UI','!NOM_DEP!'],\n",
    "    10:['ZI_MB','Municipio_UI','!NOMB_MPIO!'],\n",
    "    11:['ZI_MB','Zona_UI','\"Rural\"'],\n",
    "    12:['ZI_MB','Nombre_UI','!NOMBRE_VER!'],\n",
    "    13:['ZI_RP','ID_UI','!ZI_RP!'],\n",
    "    14:['ZI_RP','Codigo_DANE_UI','!DPTOMPIO!'],\n",
    "    15:['ZI_RP','Departamento_UI','!NOM_DEP!'],\n",
    "    16:['ZI_RP','Municipio_UI','!NOMB_MPIO!'],\n",
    "    17:['ZI_RP','Zona_UI','\"Rural\"'],\n",
    "    18:['ZI_RP','Nombre_UI','!NOMBRE_VER!'],\n",
    "    19:['ZI_SG','ID_UI','!ZI_SG!'],\n",
    "    20:['ZI_SG','Codigo_DANE_UI','!DPTOMPIO!'],\n",
    "    21:['ZI_SG','Departamento_UI','!NOM_DEP!'],\n",
    "    22:['ZI_SG','Municipio_UI','!NOMB_MPIO!'],\n",
    "    23:['ZI_SG','Zona_UI','\"Rural\"'],\n",
    "    24:['ZI_SG','Nombre_UI','!NOMBRE_VER!']\n",
    "    }\n",
    "\n",
    "for dataset in arcpy.ListDatasets():\n",
    "    for capa in arcpy.ListFeatureClasses(feature_dataset=dataset):\n",
    "        for llave, valor in capa_campo_expresion.items():\n",
    "            if valor[0] == capa:\n",
    "                arcpy.management.CalculateField(in_table=capa, field=valor[1], expression=valor[2], expression_type='PYTHON3')\n",
    "                print(f\"Se calcula campo en dataset {dataset}, de la capa {capa}, campo {valor[1]}\")"
   ]
  }
 ],
 "metadata": {
  "kernelspec": {
   "display_name": "Python 3",
   "language": "python",
   "name": "python3"
  },
  "language_info": {
   "codemirror_mode": {
    "name": "ipython",
    "version": 3
   },
   "file_extension": ".py",
   "mimetype": "text/x-python",
   "name": "python",
   "nbconvert_exporter": "python",
   "pygments_lexer": "ipython3",
   "version": "3.11.8"
  }
 },
 "nbformat": 4,
 "nbformat_minor": 2
}
