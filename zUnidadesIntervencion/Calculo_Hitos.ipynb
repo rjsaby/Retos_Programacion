{
 "cells": [
  {
   "cell_type": "code",
   "execution_count": null,
   "metadata": {},
   "outputs": [],
   "source": [
    "import os\n",
    "import pandas as pd\n",
    "import numpy as np\n",
    "from arcgis.features import GeoAccessor, GeoSeriesAccessor\n",
    "import arcpy"
   ]
  },
  {
   "cell_type": "code",
   "execution_count": null,
   "metadata": {},
   "outputs": [],
   "source": [
    "RUTA_BD_CONSOLIDADO = r\"C:\\docsProyectos\\5.RAISS\\2024.0.RAISS_Lote_4\\6.Hitos\\O_Apoyo_Construccion_UIntervencion\\UI_Finales\\UI_Finales.gdb\"\n",
    "RUTA_CSV = r\"C:\\docsProyectos\\5.RAISS\\2024.0.RAISS_Lote_4\\6.Hitos\\O_Apoyo_Construccion_UIntervencion\\UI_Finales\\Estadisticos\"\n",
    "RUTA_HITOS = r\"C:\\docsProyectos\\5.RAISS\\2024.0.RAISS_Lote_4\\6.Hitos\\O_Apoyo_Construccion_UIntervencion\\UI_Finales\\Estadisticos\"\n",
    "\n",
    "NOMBRE_XLSX = 'calculo_hitos_por_asignacion.xlsx'\n",
    "NOMBRE_HITOS = 'verificacion_asignacion_hito.xlsx'\n",
    "NOMBRE_AREAS = 'areas_ha_hito.xlsx'\n",
    "\n",
    "h2_contractual = 16243.92\n",
    "h3_contractual = 54146.40\n",
    "h4_contractual = 81219.60\n",
    "h5_contractual = 108292.80\n",
    "\n",
    "ruta_xlsx = os.path.join(RUTA_CSV, NOMBRE_XLSX)\n",
    "ruta_hito = os.path.join(RUTA_HITOS, NOMBRE_HITOS)\n",
    "ruta_area = os.path.join(RUTA_HITOS, NOMBRE_AREAS)"
   ]
  },
  {
   "cell_type": "code",
   "execution_count": null,
   "metadata": {},
   "outputs": [],
   "source": [
    "arcpy.env.workspace = RUTA_BD_CONSOLIDADO\n",
    "\n",
    "for dataset in arcpy.ListDatasets():\n",
    "    for capa in arcpy.ListFeatureClasses(feature_dataset=dataset):\n",
    "        ruta = os.path.join(arcpy.env.workspace,dataset,capa)\n",
    "        df_unidades_intervencion = pd.DataFrame.spatial.from_featureclass(ruta)\n",
    "        print(f\"Se crea dataset de capa {capa}\")"
   ]
  },
  {
   "cell_type": "code",
   "execution_count": null,
   "metadata": {},
   "outputs": [],
   "source": [
    "query_2 = \"Meta_Hito == 'Hito 2'\"\n",
    "query_3 = \"(Meta_Hito == 'Hito 2') or (Meta_Hito == 'Hito 3')\"\n",
    "query_4 = \"(Meta_Hito == 'Hito 2') or (Meta_Hito == 'Hito 3') or (Meta_Hito == 'Hito 4')\"\n",
    "query_5 = \"(Meta_Hito == 'Hito 2') or (Meta_Hito == 'Hito 3') or (Meta_Hito == 'Hito 4') or (Meta_Hito == 'Hito 5')\"\n",
    "\n",
    "query_hito_2 =df_unidades_intervencion.query(query_2)\n",
    "# ! Corregir luego de modificar el nombre de la columna\n",
    "ha_hito_2 = query_hito_2['Area_Ha_CMT12'].sum().round(2)\n",
    "\n",
    "query_hito_3 =df_unidades_intervencion.query(query_3)\n",
    "# ! Corregir luego de modificar el nombre de la columna\n",
    "ha_hito_3 = query_hito_3['Area_Ha_CMT12'].sum().round(2)\n",
    "\n",
    "query_hito_4 =df_unidades_intervencion.query(query_4)\n",
    "# ! Corregir luego de modificar el nombre de la columna\n",
    "ha_hito_4 = query_hito_4['Area_Ha_CMT12'].sum().round(2)\n",
    "\n",
    "query_hito_5 =df_unidades_intervencion.query(query_5)\n",
    "# ! Corregir luego de modificar el nombre de la columna\n",
    "ha_hito_5 = query_hito_5['Area_Ha_CMT12'].sum().round(2)"
   ]
  },
  {
   "cell_type": "code",
   "execution_count": null,
   "metadata": {},
   "outputs": [],
   "source": [
    "diccionario_hitos = {\n",
    "    'Hito': ['Hito 2','Hito 3','Hito 4','Hito 5'],\n",
    "    'Area_Ha_CMT12': [ha_hito_2, ha_hito_3, ha_hito_4, ha_hito_5],\n",
    "    'Area_Ha_Contractual': [h2_contractual, h3_contractual, h4_contractual, h5_contractual]\n",
    "}\n",
    "\n",
    "df_hitos_ut = pd.DataFrame(diccionario_hitos)\n",
    "\n",
    "df_hitos_ut['Diferencia'] = df_hitos_ut['Area_Ha_Contractual'] - df_hitos_ut['Area_Ha_CMT12']\n",
    "\n",
    "df_hitos_ut.to_excel(ruta_xlsx, sheet_name='UT_Hitos')\n",
    "print(f\"Se imprime xlsx hoja 1 resultados por hitos\")"
   ]
  },
  {
   "cell_type": "code",
   "execution_count": null,
   "metadata": {},
   "outputs": [],
   "source": [
    "df_unidades_intervencion_hitos = df_unidades_intervencion[['ID_UI','Zona_UI', 'Municipio_UI', 'Meta_Hito']]\n",
    "df_unidades_intervencion_hitos.to_excel(ruta_hito, sheet_name='Asignacion')\n",
    "print(f\"Se imprime xlsx hoja 2 resultados por hitos\")"
   ]
  },
  {
   "cell_type": "code",
   "execution_count": null,
   "metadata": {},
   "outputs": [],
   "source": [
    "df_unidades_intervencion_hitos = df_unidades_intervencion[['Zona_UI', 'Municipio_UI', 'Meta_Hito','Area_Ha_CMT12']]\n",
    "df_unidades_intervencion_hitos.to_excel(ruta_area, sheet_name='Area_Hito')\n",
    "print(f\"Se imprime xlsx hoja 3 resultados por hitos\")\n"
   ]
  }
 ],
 "metadata": {
  "kernelspec": {
   "display_name": "Python 3",
   "language": "python",
   "name": "python3"
  },
  "language_info": {
   "codemirror_mode": {
    "name": "ipython",
    "version": 3
   },
   "file_extension": ".py",
   "mimetype": "text/x-python",
   "name": "python",
   "nbconvert_exporter": "python",
   "pygments_lexer": "ipython3",
   "version": "3.9.18"
  }
 },
 "nbformat": 4,
 "nbformat_minor": 2
}
