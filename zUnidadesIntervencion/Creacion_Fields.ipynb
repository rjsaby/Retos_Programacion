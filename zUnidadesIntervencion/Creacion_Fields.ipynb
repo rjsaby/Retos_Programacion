{
 "cells": [
  {
   "cell_type": "code",
   "execution_count": null,
   "metadata": {},
   "outputs": [],
   "source": [
    "import os\n",
    "import arcpy"
   ]
  },
  {
   "cell_type": "code",
   "execution_count": null,
   "metadata": {},
   "outputs": [],
   "source": [
    "RUTA_BD_ZI = r\"C:\\docsProyectos\\5.RAISS\\2024.0.RAISS_Lote_4\\6.Hitos\\O_Apoyo_Construccion_UIntervencion\\zInsumos\\ZI_LOTE4.gdb\"\n",
    "arcpy.env.workspace = RUTA_BD_ZI\n",
    "lCapas = ['ZI_BA','ZI_MB','ZI_RP','ZI_SG']"
   ]
  },
  {
   "cell_type": "code",
   "execution_count": null,
   "metadata": {},
   "outputs": [],
   "source": [
    "def estructuracion_zi_string(nombreCampo, tipoCampo, longitudCampo, aliasCampo):\n",
    "\n",
    "    nombre_campo = nombreCampo\n",
    "    tipo_campo = tipoCampo\n",
    "    longitud_campo = longitudCampo\n",
    "    alias_campo = aliasCampo\n",
    "\n",
    "    for dataset in arcpy.ListDatasets():\n",
    "        for capa in arcpy.ListFeatureClasses(feature_dataset=dataset):\n",
    "            for capa_mod in lCapas:\n",
    "                if capa_mod == capa:\n",
    "                    arcpy.management.AddField(in_table=capa_mod, field_name=nombre_campo, field_type=tipo_campo, field_length=longitud_campo, field_alias=alias_campo)\n",
    "                    print(f\"Se crea campo en dataset{dataset}, de la capa {capa}\")\n",
    "\n",
    "def estructuracion_zi_double(nombreCampo, tipoCampo, aliasCampo):\n",
    "\n",
    "    nombre_campo = nombreCampo\n",
    "    tipo_campo = tipoCampo\n",
    "    alias_campo = aliasCampo\n",
    "\n",
    "    for dataset in arcpy.ListDatasets():\n",
    "        for capa in arcpy.ListFeatureClasses(feature_dataset=dataset):\n",
    "            for capa_mod in lCapas:\n",
    "                if capa_mod == capa:\n",
    "                    arcpy.management.AddField(in_table=capa_mod, field_name=nombre_campo, field_type=tipo_campo, field_alias=alias_campo)\n",
    "                    print(f\"Se crea campo en dataset{dataset}, de la capa {capa}\")\n",
    "    "
   ]
  },
  {
   "cell_type": "code",
   "execution_count": null,
   "metadata": {},
   "outputs": [],
   "source": [
    "estructuracion_zi_string(nombreCampo='ID_UI', tipoCampo='TEXT', longitudCampo='11', aliasCampo='ID UI')\n",
    "estructuracion_zi_string(nombreCampo='Codigo_DANE_UI', tipoCampo='TEXT', longitudCampo='5', aliasCampo='Código DANE UI')\n",
    "estructuracion_zi_string(nombreCampo='Departamento_UI', tipoCampo='TEXT', longitudCampo='50', aliasCampo='Departamento UI')\n",
    "estructuracion_zi_string(nombreCampo='Municipio_UI', tipoCampo='TEXT', longitudCampo='50', aliasCampo='Municipio UI')\n",
    "estructuracion_zi_string(nombreCampo='Zona_UI', tipoCampo='TEXT', longitudCampo='20', aliasCampo='Zona UI')\n",
    "estructuracion_zi_string(nombreCampo='Nombre_UI', tipoCampo='TEXT', longitudCampo='50', aliasCampo='Nombre UI')"
   ]
  },
  {
   "cell_type": "code",
   "execution_count": null,
   "metadata": {},
   "outputs": [],
   "source": [
    "estructuracion_zi_double(nombreCampo='Area_Ha_CMT12', tipoCampo='DOUBLE', aliasCampo='Area [Ha] CMT12')"
   ]
  }
 ],
 "metadata": {
  "kernelspec": {
   "display_name": "Python 3",
   "language": "python",
   "name": "python3"
  },
  "language_info": {
   "codemirror_mode": {
    "name": "ipython",
    "version": 3
   },
   "file_extension": ".py",
   "mimetype": "text/x-python",
   "name": "python",
   "nbconvert_exporter": "python",
   "pygments_lexer": "ipython3",
   "version": "3.9.18"
  }
 },
 "nbformat": 4,
 "nbformat_minor": 2
}
