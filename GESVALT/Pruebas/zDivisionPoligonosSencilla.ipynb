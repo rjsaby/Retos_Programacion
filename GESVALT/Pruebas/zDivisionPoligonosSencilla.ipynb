{
 "cells": [
  {
   "cell_type": "code",
   "execution_count": 35,
   "metadata": {},
   "outputs": [],
   "source": [
    "import pandas as pd\n",
    "import os\n",
    "import arcpy\n",
    "\n",
    "os.environ[\"CRYPTOGRAPHY_OPENSSL_NO_LEGACY\"] = \"yes\"\n",
    "\n",
    "from arcgis.features import GeoAccessor, GeoSeriesAccessor\n"
   ]
  },
  {
   "cell_type": "code",
   "execution_count": 36,
   "metadata": {},
   "outputs": [],
   "source": [
    "arcpy.env.overwriteOutput = True\n",
    "\n",
    "poligono = 'sector'\n",
    "numero_areas = 4\n",
    "\n",
    "arcpy.env.workspace = r\"C:\\docsProyectos\\8.GESTVALT\\1.GIS\\PRO\\GESVALT\\GESVALT.gdb\""
   ]
  },
  {
   "cell_type": "code",
   "execution_count": 37,
   "metadata": {},
   "outputs": [],
   "source": [
    "for capa in arcpy.ListFeatureClasses():\n",
    "    if capa == poligono:\n",
    "        arcpy.management.SubdividePolygon(in_polygons = capa, \n",
    "            out_feature_class = 'sector_subdividido', \n",
    "            method = 'NUMBER_OF_EQUAL_PARTS', \n",
    "            num_areas = numero_areas, \n",
    "            subdivision_type = 'STACKED_BLOCKS')"
   ]
  },
  {
   "cell_type": "code",
   "execution_count": 38,
   "metadata": {},
   "outputs": [
    {
     "data": {
      "text/plain": [
       "'C:\\\\docsProyectos\\\\8.GESTVALT\\\\1.GIS\\\\PRO\\\\GESVALT\\\\GESVALT.gdb\\\\sector_salida_grafica'"
      ]
     },
     "execution_count": 38,
     "metadata": {},
     "output_type": "execute_result"
    }
   ],
   "source": [
    "df_sectores_subdivididos = pd.DataFrame.spatial.from_featureclass(os.path.join(arcpy.env.workspace, 'sector_subdividido'))\n",
    "\n",
    "df_sectores_subdivididos['cantidad_sectores'] = (df_sectores_subdivididos.groupby('catastro').cumcount()+1).astype(str)\n",
    "\n",
    "df_sectores_subdivididos['id_sector'] = df_sectores_subdivididos['catastro'] + '_' + df_sectores_subdivididos['cantidad_sectores']\n",
    "\n",
    "est_columnas_sectores_subdivididos = ['id_sector','catastro','priorizacion','SHAPE']\n",
    "\n",
    "df_sectores_subdivididos = df_sectores_subdivididos[est_columnas_sectores_subdivididos]\n",
    "\n",
    "df_sectores_subdivididos.spatial.to_featureclass(location=os.path.join(arcpy.env.workspace, 'sector_salida_grafica'))"
   ]
  },
  {
   "cell_type": "code",
   "execution_count": 39,
   "metadata": {},
   "outputs": [],
   "source": [
    "memoria_centroide_ptomuestra = \"in_memory/centroide_ptoMuestra\"\n",
    "memoria_joinspatial_sectorMzn = \"in_memory/joinspatial_sectorMzn\"\n",
    "memoria_joinspatial_sectorMznBarrios = \"in_memory/joinspatial_sectorMznBarrios\"\n",
    "memoria_ptoMuestra_w_Sector =\"in_memory/ptoMuestra_w_Sector\"\n",
    "\n",
    "for capa in arcpy.ListFeatureClasses():\n",
    "    if capa == 'poligonos_puntos_muestra':\n",
    "        arcpy.FeatureToPoint_management(in_features=capa, out_feature_class=memoria_centroide_ptomuestra, point_location='INSIDE')\n",
    "\n",
    "        arcpy.SpatialJoin_analysis(target_features=memoria_centroide_ptomuestra,\n",
    "        join_features='sector_salida_grafica',\n",
    "        out_feature_class=memoria_joinspatial_sectorMzn,\n",
    "        join_type = 'KEEP_COMMON',\n",
    "        match_option='INTERSECT'\n",
    "        )\n",
    "\n",
    "        arcpy.SpatialJoin_analysis(target_features=memoria_joinspatial_sectorMzn,\n",
    "        join_features='barrios',\n",
    "        out_feature_class=memoria_joinspatial_sectorMznBarrios,\n",
    "        join_type = 'KEEP_COMMON',\n",
    "        match_option='INTERSECT'\n",
    "        )\n",
    "\n",
    "        arcpy.SpatialJoin_analysis(target_features=capa,\n",
    "        join_features=memoria_joinspatial_sectorMznBarrios,\n",
    "        out_feature_class=memoria_ptoMuestra_w_Sector,\n",
    "        join_type = 'KEEP_COMMON',\n",
    "        match_option='INTERSECT'\n",
    "        )\n",
    "\n",
    "        df_pto_muestra = pd.DataFrame.spatial.from_featureclass(memoria_ptoMuestra_w_Sector)\n",
    "\n",
    "        est_columnas_pto_muestra = ['t_id','terrcnpn','id_sector','catastro','priorizacion','barrio','SHAPE']\n",
    "\n",
    "        df_pto_muestra = df_pto_muestra[est_columnas_pto_muestra]\n",
    "\n",
    "        df_pto_muestra.spatial.to_featureclass(location=os.path.join(arcpy.env.workspace,'poligono_pto_muestra_sector'))"
   ]
  },
  {
   "cell_type": "code",
   "execution_count": 40,
   "metadata": {},
   "outputs": [],
   "source": [
    "query = \"!OBJECTID!\"\n",
    "\n",
    "for capa in arcpy.ListFeatureClasses(wild_card='poligono_pto_muestra_sector'):\n",
    "    arcpy.AddField_management(in_table=capa, field_name='id_punto_muestra', field_alias='ID Punto Muestra',field_type='SHORT')\n",
    "    arcpy.CalculateField_management(in_table=capa, field='id_punto_muestra', expression=query, expression_type= 'PYTHON')"
   ]
  }
 ],
 "metadata": {
  "kernelspec": {
   "display_name": "Python 3",
   "language": "python",
   "name": "python3"
  },
  "language_info": {
   "codemirror_mode": {
    "name": "ipython",
    "version": 3
   },
   "file_extension": ".py",
   "mimetype": "text/x-python",
   "name": "python",
   "nbconvert_exporter": "python",
   "pygments_lexer": "ipython3",
   "version": "3.11.8"
  }
 },
 "nbformat": 4,
 "nbformat_minor": 2
}
