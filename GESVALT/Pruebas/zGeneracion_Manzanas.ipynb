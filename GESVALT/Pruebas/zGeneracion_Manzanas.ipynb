{
 "cells": [
  {
   "cell_type": "code",
   "execution_count": 20,
   "metadata": {},
   "outputs": [],
   "source": [
    "import pandas as pd\n",
    "import os\n",
    "import seaborn as sns\n",
    "\n",
    "os.environ[\"CRYPTOGRAPHY_OPENSSL_NO_LEGACY\"] = \"yes\"\n",
    "\n",
    "# ? Se usa para generar gráficos\n",
    "import matplotlib.pyplot as plt\n",
    "\n",
    "import shutil\n",
    "\n",
    "# ? Se usa para determina la fecha de ejecución del proceso dentro del export de los resultados estadísticos\n",
    "from datetime import datetime as dt\n",
    "\n",
    "# ? Conexión a BD Postgres. Se usa dado que pandas no acepta sino este paquete para la conexión.\n",
    "from sqlalchemy import create_engine, text\n",
    "\n",
    "from arcgis.features import GeoAccessor, GeoSeriesAccessor\n",
    "import arcpy\n",
    "\n",
    "from pathlib import Path\n",
    "\n",
    "# ** Librerías propias\n"
   ]
  },
  {
   "cell_type": "code",
   "execution_count": 21,
   "metadata": {},
   "outputs": [],
   "source": [
    "ruta_bd = r\"C:\\docsProyectos\\8.GESTVALT\\zInsumos\\Información Recibida\\FGDB-SOLEDAD-11062024.gdb\"\n",
    "scrach_bd = r\"C:\\docsProyectos\\8.GESTVALT\\1.GIS\\PRO\\GESVALT\\GESVALT.gdb\""
   ]
  },
  {
   "cell_type": "code",
   "execution_count": 22,
   "metadata": {},
   "outputs": [
    {
     "name": "stdout",
     "output_type": "stream",
     "text": [
      "Finaliza Proceso\n"
     ]
    }
   ],
   "source": [
    "arcpy.env.workspace = ruta_bd\n",
    "arcpy.env.overwriteOutput = True\n",
    "\n",
    "\n",
    "CAPA_ANALISIS = 'LC_TERRENO'\n",
    "CAMPO_DISOLUCION = 'MANZANA_VE'\n",
    "\n",
    "capa_manzana_r = 'manzana_from_terrenosrurales'\n",
    "capa_manzana_u = 'manzana_from_terrenosurbanos'\n",
    "\n",
    "query_terreno_rural = \"ESPACIO_DE = 'TERRENO_RURAL'\"\n",
    "query_terreno_urbano = \"ESPACIO_DE = 'TERRENO_URBANO'\"\n",
    "\n",
    "ruta_capa_manzana_terrenorural = os.path.join(scrach_bd,capa_manzana_r)\n",
    "ruta_capa_manzana_terrenourbano = os.path.join(scrach_bd,capa_manzana_u)\n",
    "\n",
    "for capa in arcpy.ListFeatureClasses(wild_card=CAPA_ANALISIS):\n",
    "    arcpy.MakeFeatureLayer_management(in_features=capa, out_layer='lyr_manzana_from_terrenorural', where_clause=query_terreno_rural)\n",
    "    arcpy.MakeFeatureLayer_management(in_features=capa, out_layer='lyr_manzana_from_terrenourbano', where_clause=query_terreno_urbano)\n",
    "\n",
    "    arcpy.Dissolve_management(in_features='lyr_manzana_from_terrenorural', out_feature_class=ruta_capa_manzana_terrenorural, dissolve_field=CAMPO_DISOLUCION, multi_part='SINGLE_PART')\n",
    "    arcpy.Dissolve_management(in_features='lyr_manzana_from_terrenourbano', out_feature_class=ruta_capa_manzana_terrenourbano, dissolve_field=CAMPO_DISOLUCION, multi_part='SINGLE_PART')\n",
    "\n",
    "print(\"Finaliza Proceso\")"
   ]
  },
  {
   "cell_type": "code",
   "execution_count": 23,
   "metadata": {},
   "outputs": [
    {
     "data": {
      "text/plain": [
       "'C:\\\\docsProyectos\\\\8.GESTVALT\\\\1.GIS\\\\PRO\\\\GESVALT\\\\GESVALT.gdb\\\\sector'"
      ]
     },
     "execution_count": 23,
     "metadata": {},
     "output_type": "execute_result"
    }
   ],
   "source": [
    "ruta_sectores = r\"C:\\docsProyectos\\8.GESTVALT\\zInsumos\\SECTORES\\SECTORES.shp\"\n",
    "\n",
    "df_sectores = pd.DataFrame.spatial.from_featureclass(ruta_sectores)\n",
    "\n",
    "seleccion_columnas_sectores = ['Catastro','SHAPE']\n",
    "\n",
    "df_sectores = df_sectores[seleccion_columnas_sectores]\n",
    "\n",
    "df_sectores['priorizacion'] = None\n",
    "\n",
    "dict_sectorizacion = {'Sector 02 Rural':99,\n",
    "    'Sector 04 Rural':99,\n",
    "    'Sector 05 Rural':99,\n",
    "    'Sector 06 Rural':99,\n",
    "    'Sector 00 Urbano':99,\n",
    "    'Sector 02 Urbano':1,\n",
    "    'Sector 03 Urbano':99,\n",
    "    'Sector 04 Urbano':99,\n",
    "    'Sector 04 Urbano':99,\n",
    "    'Sector 05 Urbano':99,\n",
    "    'Sector 06 Urbano':1,\n",
    "    'Sector 03 Rural':99\n",
    "    }\n",
    "\n",
    "for columna in df_sectores.columns:\n",
    "    for llave, valor in dict_sectorizacion.items(): \n",
    "        if columna == 'Catastro':\n",
    "            df_sectores.loc[df_sectores[columna] == llave, 'priorizacion'] = valor\n",
    "\n",
    "nombre_fc_sectores = 'sector'\n",
    "ruta_fc_sectores = os.path.join(scrach_bd, nombre_fc_sectores)\n",
    "\n",
    "df_sectores.spatial.to_featureclass(location=ruta_fc_sectores)\n"
   ]
  },
  {
   "cell_type": "code",
   "execution_count": 24,
   "metadata": {},
   "outputs": [],
   "source": [
    "arcpy.env.workspace = scrach_bd\n",
    "\n",
    "memoria_centroide_mzn = \"in_memory/centroide_manzana\"\n",
    "memoria_joinspatial_mzn = \"in_memory/joinspatial_manzana\"\n",
    "memoria_mzn_w_priorizacion =\"in_memory/joinspatial_mzn_w_priorizacion\"\n",
    "\n",
    "dict_capas = {'urbana':[capa_manzana_u,'manzana_urbana_priorizacion'],                        \n",
    "    'rural':[capa_manzana_r,'manzana_rural_priorizacion']\n",
    "    }\n",
    "\n",
    "estandariazacion_mnzpriorizacion = ['MANZANA_VE','catastro','priorizacion','SHAPE']\n",
    "\n",
    "for capa in arcpy.ListFeatureClasses():\n",
    "    for llave, valor in dict_capas.items():\n",
    "        if capa == valor[0]:\n",
    "            arcpy.FeatureToPoint_management(in_features=capa, out_feature_class=memoria_centroide_mzn, point_location='INSIDE')\n",
    "\n",
    "            arcpy.SpatialJoin_analysis(target_features=memoria_centroide_mzn,\n",
    "                join_features='sector',\n",
    "                out_feature_class=memoria_joinspatial_mzn,\n",
    "                match_option='INTERSECT'\n",
    "                )\n",
    "        \n",
    "            arcpy.SpatialJoin_analysis(target_features=capa,\n",
    "                join_features=memoria_joinspatial_mzn,\n",
    "                out_feature_class=memoria_mzn_w_priorizacion,\n",
    "                match_option='INTERSECT'\n",
    "                )\n",
    "            \n",
    "            globals()[f'df_mnz{llave}_priorizacion'] = pd.DataFrame.spatial.from_featureclass(memoria_mzn_w_priorizacion)\n",
    "            globals()[f'df_mnz{llave}_priorizacion'] = globals()[f'df_mnz{llave}_priorizacion'][estandariazacion_mnzpriorizacion]\n",
    "\n",
    "            ruta_salida_mnz_priorizacion = os.path.join(arcpy.env.workspace,valor[1])\n",
    "\n",
    "            globals()[f'df_mnz{llave}_priorizacion'].spatial.to_featureclass(location=ruta_salida_mnz_priorizacion)\n"
   ]
  },
  {
   "cell_type": "code",
   "execution_count": 25,
   "metadata": {},
   "outputs": [],
   "source": [
    "\n",
    "ruta_puntos_muestra = r\"C:\\docsProyectos\\8.GESTVALT\\zInsumos\\Actualizacion_Soledad.gdb\\Puntos_Muestra\\Puntos_Muestra_V1\"\n",
    "df_punto_muestra = pd.DataFrame.spatial.from_featureclass(ruta_puntos_muestra)\n",
    "\n",
    "estandarizacion_punto_muestra = ['T_ID','MANZANA_VE','COMIENZO_V','TERRCNPN','TERRARJU','TERRARFI','SHAPE']\n",
    "\n",
    "df_punto_muestra = df_punto_muestra[estandarizacion_punto_muestra]\n",
    "\n",
    "df_punto_muestra['COMIENZO_V'] = df_punto_muestra['COMIENZO_V'].astype('datetime64[ns]')\n",
    "\n",
    "NOMBRE_CAPA_PTOMUESTRA = 'poligonos_puntos_muestra'\n",
    "RUTA_SALIDA_PTOMUESTRA = os.path.join(arcpy.env.workspace, NOMBRE_CAPA_PTOMUESTRA)\n",
    "\n",
    "df_punto_muestra.spatial.to_featureclass(location=RUTA_SALIDA_PTOMUESTRA)\n",
    "\n",
    "memoria_centroide_ptomuestra = \"in_memory/centroide_ptomuestra\"\n",
    "\n",
    "lista_zona = ['rural','urbana']\n",
    "\n",
    "for capa in arcpy.ListFeatureClasses():\n",
    "    if capa == NOMBRE_CAPA_PTOMUESTRA:\n",
    "        for zona in lista_zona:\n",
    "            arcpy.FeatureToPoint_management(in_features=capa, out_feature_class=memoria_centroide_ptomuestra,point_location='INSIDE')\n",
    "            arcpy.MakeFeatureLayer_management(in_features=memoria_centroide_ptomuestra, out_layer='lyr_centroide_ptomuestra')\n",
    "            arcpy.MakeFeatureLayer_management(in_features=f'manzana_{zona}_priorizacion', out_layer=f'lyr_manzana_{zona}_priorizacion')\n",
    "            arcpy.SelectLayerByLocation_management(in_layer=f'lyr_manzana_{zona}_priorizacion', overlap_type='INTERSECT', select_features=memoria_centroide_ptomuestra, selection_type='NEW_SELECTION')\n",
    "            arcpy.conversion.ExportFeatures(in_features=f'lyr_manzana_{zona}_priorizacion', out_features=f'mzn_{zona}_priorizacion_w_ptomuestra')"
   ]
  }
 ],
 "metadata": {
  "kernelspec": {
   "display_name": "Python 3",
   "language": "python",
   "name": "python3"
  },
  "language_info": {
   "codemirror_mode": {
    "name": "ipython",
    "version": 3
   },
   "file_extension": ".py",
   "mimetype": "text/x-python",
   "name": "python",
   "nbconvert_exporter": "python",
   "pygments_lexer": "ipython3",
   "version": "3.11.8"
  }
 },
 "nbformat": 4,
 "nbformat_minor": 2
}
