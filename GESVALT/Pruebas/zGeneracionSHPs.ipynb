{
 "cells": [
  {
   "cell_type": "code",
   "execution_count": null,
   "metadata": {},
   "outputs": [],
   "source": [
    "import arcpy, os"
   ]
  },
  {
   "cell_type": "code",
   "execution_count": null,
   "metadata": {},
   "outputs": [],
   "source": [
    "arcpy.env.overwriteOutput = True"
   ]
  },
  {
   "cell_type": "code",
   "execution_count": null,
   "metadata": {},
   "outputs": [],
   "source": [
    "ruta_bd_proyecto = r\"C:\\docsProyectos\\8.GESTVALT\\3.Analitica\\Base_Datos\\Gestvalt_Soledad_Digitalizacion.gdb\"\n",
    "ruta_directorio_shps = r\"C:\\docsProyectos\\8.GESTVALT\\3.Analitica\\SHPs\"\n",
    "\n",
    "arcpy.env.workspace = ruta_bd_proyecto\n",
    "\n",
    "for capa in arcpy.ListFeatureClasses():\n",
    "    arcpy.conversion.FeatureClassToShapefile(capa, Output_Folder = ruta_directorio_shps)\n",
    "    print(f\"Se exporta a SHP capa {capa}\")\n"
   ]
  }
 ],
 "metadata": {
  "kernelspec": {
   "display_name": "Python 3",
   "language": "python",
   "name": "python3"
  },
  "language_info": {
   "codemirror_mode": {
    "name": "ipython",
    "version": 3
   },
   "file_extension": ".py",
   "mimetype": "text/x-python",
   "name": "python",
   "nbconvert_exporter": "python",
   "pygments_lexer": "ipython3",
   "version": "3.11.8"
  }
 },
 "nbformat": 4,
 "nbformat_minor": 2
}
