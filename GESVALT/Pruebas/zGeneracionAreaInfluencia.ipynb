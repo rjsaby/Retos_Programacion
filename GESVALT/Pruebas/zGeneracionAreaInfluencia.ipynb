{
 "cells": [
  {
   "cell_type": "code",
   "execution_count": 66,
   "metadata": {},
   "outputs": [],
   "source": [
    "import arcpy\n",
    "\n",
    "arcpy.env.overwriteOutput = True"
   ]
  },
  {
   "cell_type": "code",
   "execution_count": 67,
   "metadata": {},
   "outputs": [],
   "source": [
    "ruta_bc = r\"C:\\docsProyectos\\8.GESTVALT\\1.GIS\\PRO\\GESVALT\\GESVALT.gdb\"\n",
    "capa_para_areaInfluencia = 'servicio_red_alcant_Dissolve'\n",
    "capa_areaInfluencia = 'perimetro_servicio_alcantarillado'\n",
    "\n",
    "arcpy.env.workspace = ruta_bc\n",
    "\n",
    "# for capa in arcpy.ListFeatureClasses(wild_card=capa_para_areaInfluencia):\n",
    "#     arcpy.analysis.Buffer(in_features = capa, out_feature_class = capa_areaInfluencia, buffer_distance_or_field = '50 Meters', line_side = 'FULL', line_end_type = 'FLAT', dissolve_option = 'ALL', method = 'PLANAR')\n",
    "#     print(f\"Se genera la capa {capa_areaInfluencia}\")"
   ]
  },
  {
   "cell_type": "code",
   "execution_count": 68,
   "metadata": {},
   "outputs": [],
   "source": [
    "\n",
    "# TODO: Zona Con Servicios Básicos Más Complementarios\n",
    "capa_alcantarillado = None\n",
    "capa_acueducto = None\n",
    "capa_gas = None\n",
    "\n",
    "# * Iterar sobre las capas y asignar las variables correspondientes\n",
    "for capa in arcpy.ListFeatureClasses():    \n",
    "    if capa == 'perimetro_servicio_alcantarillado':\n",
    "        capa_alcantarillado = capa\n",
    "    elif capa == 'perimetro_servicio_acueducto':\n",
    "        capa_acueducto = capa\n",
    "    elif capa == 'perimetro_servicio_gas':\n",
    "        capa_gas = capa\n",
    "\n",
    "# * Verificar si todas las capas están definidas antes de realizar la intersección\n",
    "if capa_alcantarillado and capa_acueducto and capa_gas:\n",
    "    arcpy.analysis.Intersect(in_features = [capa_alcantarillado, capa_acueducto, capa_gas], \n",
    "                             out_feature_class = 'zona_servicios_basicos_complementarios')\n",
    "else:\n",
    "    print(\"Una o más capas no fueron encontradas.\")\n"
   ]
  },
  {
   "cell_type": "code",
   "execution_count": 69,
   "metadata": {},
   "outputs": [],
   "source": [
    "\n",
    "# TODO: Zona Con Servicios Básicos Sin Complementarios\n",
    "capa_alcantarillado = None\n",
    "capa_acueducto = None\n",
    "capa_gas = None\n",
    "\n",
    "# * Iterar sobre las capas y asignar las variables correspondientes\n",
    "for capa in arcpy.ListFeatureClasses():    \n",
    "    if capa == 'perimetro_servicio_alcantarillado':\n",
    "        capa_alcantarillado = capa\n",
    "    elif capa == 'perimetro_servicio_acueducto':\n",
    "        capa_acueducto = capa\n",
    "    elif capa == 'perimetro_servicio_gas':\n",
    "        capa_gas = capa\n",
    "\n",
    "# * Verificar si todas las capas están definidas antes de realizar la intersección\n",
    "if capa_alcantarillado and capa_acueducto and capa_gas:\n",
    "    arcpy.analysis.Intersect(in_features = [capa_alcantarillado, capa_acueducto], \n",
    "                             out_feature_class = 'in_memory/memory_zona_servicios_basicos')\n",
    "    arcpy.analysis.Erase(in_features = 'in_memory/memory_zona_servicios_basicos', erase_features = capa_gas, out_feature_class = 'zona_servicios_basicos')\n",
    "else:\n",
    "    print(\"Una o más capas no fueron encontradas.\")"
   ]
  },
  {
   "cell_type": "code",
   "execution_count": 70,
   "metadata": {},
   "outputs": [],
   "source": [
    "\n",
    "# TODO: Zona Con Servicios Básicos Incompletos\n",
    "capa_alcantarillado = None\n",
    "capa_acueducto = None\n",
    "capa_gas = None\n",
    "\n",
    "# * Iterar sobre las capas y asignar las variables correspondientes\n",
    "for capa in arcpy.ListFeatureClasses():    \n",
    "    if capa == 'perimetro_servicio_alcantarillado':\n",
    "        capa_alcantarillado = capa\n",
    "    elif capa == 'perimetro_servicio_acueducto':\n",
    "        capa_acueducto = capa\n",
    "    elif capa == 'perimetro_servicio_gas':\n",
    "        capa_gas = capa\n",
    "\n",
    "# * Verificar si todas las capas están definidas antes de realizar la intersección\n",
    "if capa_alcantarillado and capa_acueducto and capa_gas:\n",
    "    arcpy.analysis.Erase(in_features = capa_acueducto, erase_features = capa_alcantarillado, out_feature_class = 'zona_servicios_basicos_incompletos')\n",
    "else:\n",
    "    print(\"Una o más capas no fueron encontradas.\")"
   ]
  }
 ],
 "metadata": {
  "kernelspec": {
   "display_name": "Python 3",
   "language": "python",
   "name": "python3"
  },
  "language_info": {
   "codemirror_mode": {
    "name": "ipython",
    "version": 3
   },
   "file_extension": ".py",
   "mimetype": "text/x-python",
   "name": "python",
   "nbconvert_exporter": "python",
   "pygments_lexer": "ipython3",
   "version": "3.11.8"
  }
 },
 "nbformat": 4,
 "nbformat_minor": 2
}
