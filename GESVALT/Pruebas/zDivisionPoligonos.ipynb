{
 "cells": [
  {
   "cell_type": "code",
   "execution_count": 21,
   "metadata": {},
   "outputs": [],
   "source": [
    "import arcpy\n",
    "\n",
    "arcpy.env.overwriteOutput = True"
   ]
  },
  {
   "cell_type": "code",
   "execution_count": 22,
   "metadata": {},
   "outputs": [],
   "source": [
    "import arcpy\n",
    "\n",
    "def divide_polygon_with_cut_lines(input_polygon, output_feature_class):\n",
    "\n",
    "\n",
    "    # Crear el cursor de búsqueda para obtener la geometría del polígono\n",
    "    with arcpy.da.SearchCursor(input_polygon, [\"SHAPE@\"]) as cursor:\n",
    "\n",
    "        for row in cursor:\n",
    "            polygon = row[0]\n",
    "            extent = polygon.extent\n",
    "\n",
    "            # Crear una capa temporal de líneas\n",
    "            cut_lines = \"in_memory\\\\cut_lines\"\n",
    "\n",
    "            # Calcular las coordenadas de los puntos centrales\n",
    "            center_x = (extent.XMin + extent.XMax) / 2\n",
    "            center_y = (extent.YMin + extent.YMax) / 2\n",
    "\n",
    "            # Crear las líneas de corte\n",
    "            line1 = arcpy.Polyline(arcpy.Array([arcpy.Point(extent.XMin, center_y), arcpy.Point(extent.XMax, center_y)]))\n",
    "            line2 = arcpy.Polyline(arcpy.Array([arcpy.Point(center_x, extent.YMin), arcpy.Point(center_x, extent.YMax)]))\n",
    "\n",
    "            # Crear la capa de líneas de corte temporal\n",
    "            arcpy.management.CreateFeatureclass(\"in_memory\", \"cut_lines\", \"POLYLINE\", spatial_reference=input_polygon)\n",
    "\n",
    "            # Insertar las líneas en la capa de líneas de corte\n",
    "            with arcpy.da.InsertCursor(cut_lines, [\"SHAPE@\"]) as insert_cursor:\n",
    "                insert_cursor.insertRow([line1])\n",
    "                insert_cursor.insertRow([line2])\n",
    "\n",
    "            # Dividir el polígono utilizando las líneas de corte\n",
    "            arcpy.management.FeatureToPolygon([input_polygon, cut_lines], output_feature_class)\n",
    "\n",
    "            # Eliminar la capa temporal de líneas\n",
    "            arcpy.management.Delete(cut_lines)\n"
   ]
  },
  {
   "cell_type": "code",
   "execution_count": 23,
   "metadata": {},
   "outputs": [],
   "source": [
    "arcpy.env.workspace = r\"C:\\docsProyectos\\8.GESTVALT\\1.GIS\\PRO\\GESVALT\\GESVALT.gdb\"\n",
    "\n",
    "FC_SECTOR = r\"C:\\docsProyectos\\8.GESTVALT\\1.GIS\\PRO\\GESVALT\\GESVALT.gdb\\sector\"\n",
    "\n",
    "divide_polygon_with_cut_lines(FC_SECTOR,'Corte_Prueba')"
   ]
  }
 ],
 "metadata": {
  "kernelspec": {
   "display_name": "Python 3",
   "language": "python",
   "name": "python3"
  },
  "language_info": {
   "codemirror_mode": {
    "name": "ipython",
    "version": 3
   },
   "file_extension": ".py",
   "mimetype": "text/x-python",
   "name": "python",
   "nbconvert_exporter": "python",
   "pygments_lexer": "ipython3",
   "version": "3.11.8"
  }
 },
 "nbformat": 4,
 "nbformat_minor": 2
}
