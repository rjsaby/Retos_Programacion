{
 "cells": [
  {
   "cell_type": "code",
   "execution_count": null,
   "metadata": {
    "execution": {
     "iopub.execute_input": "2024-07-18T18:18:02.284286Z",
     "iopub.status.busy": "2024-07-18T18:18:02.284286Z",
     "iopub.status.idle": "2024-07-18T18:18:06.053842Z",
     "shell.execute_reply": "2024-07-18T18:18:06.053842Z"
    }
   },
   "outputs": [],
   "source": [
    "import pandas as pd\n",
    "import os\n",
    "import seaborn as sns\n",
    "import shutil\n",
    "\n",
    "os.environ[\"CRYPTOGRAPHY_OPENSSL_NO_LEGACY\"] = \"yes\"\n",
    "\n",
    "# ? Se usa para generar gráficos\n",
    "import matplotlib.pyplot as plt\n",
    "\n",
    "# ? Se usa para determina la fecha de ejecución del proceso dentro del export de los resultados estadísticos\n",
    "from datetime import datetime\n",
    "\n",
    "# ? Conexión a BD Postgres. Se usa dado que pandas no acepta sino este paquete para la conexión.\n",
    "from sqlalchemy import create_engine, text\n",
    "\n",
    "from datetime  import datetime as dt\n",
    "\n",
    "from arcgis.features import GeoAccessor, GeoSeriesAccessor\n",
    "import arcpy\n",
    "\n",
    "from pathlib import Path\n",
    "\n",
    "# ** Librerías propias\n",
    "import funcion_parametrizacion_variables\n",
    "import funcion_SQL_a_DataFrame\n",
    "import funcion_exportacion_pdf_seriemapas\n",
    "import funcion_copia_googledrive\n",
    "import funcion_hectareaje_general_ui"
   ]
  },
  {
   "cell_type": "code",
   "execution_count": null,
   "metadata": {
    "execution": {
     "iopub.execute_input": "2024-07-18T18:18:06.053842Z",
     "iopub.status.busy": "2024-07-18T18:18:06.053842Z",
     "iopub.status.idle": "2024-07-18T18:18:06.058370Z",
     "shell.execute_reply": "2024-07-18T18:18:06.058370Z"
    }
   },
   "outputs": [],
   "source": [
    "resultados = funcion_parametrizacion_variables.parametrizacion_variables()\n",
    "consulta_tRadicados = resultados[0]\n",
    "renombrar_actividades = resultados[4]"
   ]
  },
  {
   "cell_type": "code",
   "execution_count": null,
   "metadata": {
    "execution": {
     "iopub.execute_input": "2024-07-18T18:18:06.058370Z",
     "iopub.status.busy": "2024-07-18T18:18:06.058370Z",
     "iopub.status.idle": "2024-07-18T18:18:09.662183Z",
     "shell.execute_reply": "2024-07-18T18:18:09.662183Z"
    }
   },
   "outputs": [],
   "source": [
    "df_consulta_tRadicados = funcion_SQL_a_DataFrame.sql_a_dataframe(consulta_tRadicados)\n",
    "print(f\"Finaliza Ejecución SQL Consulta Radicados\")"
   ]
  },
  {
   "cell_type": "code",
   "execution_count": null,
   "metadata": {
    "execution": {
     "iopub.execute_input": "2024-07-18T18:18:09.662183Z",
     "iopub.status.busy": "2024-07-18T18:18:09.662183Z",
     "iopub.status.idle": "2024-07-18T18:18:09.670397Z",
     "shell.execute_reply": "2024-07-18T18:18:09.670397Z"
    }
   },
   "outputs": [],
   "source": [
    "RUTA_REL_TERRENOS_UI = r\"C:\\docsProyectos\\5.RAISS\\2024.0.RAISS_Lote_4\\6.Hitos\\E1_Alistamiento_Diagnostico\\3_Disposicion\\1.BD_Consolidada\\BD_Consolidada_Lote4.gdb\\relacion_terreno_ui\"\n",
    "RUTA_UI = r\"C:\\docsProyectos\\5.RAISS\\2024.0.RAISS_Lote_4\\6.Hitos\\O_Apoyo_Construccion_UIntervencion\\UI_Finales\\UI_Finales.gdb\\UI_Unificadas\\UI_Unificadas\"\n",
    "RUTA_CAPA_TERRENOS = r\"C:\\docsProyectos\\5.RAISS\\2024.0.RAISS_Lote_4\\6.Hitos\\E1_Alistamiento_Diagnostico\\3_Disposicion\\1.BD_Consolidada\\BD_Consolidada_Lote4.gdb\\Analitica_UT_Consolidada\\TERRENO_UNIFICADO_w_GIS\"\n",
    "\n",
    "estandarizacion_columnas_tRadActualizacion = ['radicado','npn','municipio','estado_tramite']\n",
    "estandarizacion_columnas_terreno_hito = ['codigo','ID_UI','Zona_UI','Departamento_UI','Municipio_UI','Meta_Hito']\n",
    "estandarizacion_columnas_terrenos = ['codigo','area_ha_cmt12','SHAPE']\n",
    "estandarizacion_columnas_seguimiento_avance_sin_GEO = ['codigo','ID_UI','Zona_UI','Departamento_UI','Municipio_UI','Meta_Hito','area_ha_cmt12','En_Sistema_BCGS','radicado','estado_tramite']\n",
    "estandarizacion_columnas_seguimiento_avance_con_GEO = ['codigo','ID_UI','Zona_UI','Departamento_UI','Municipio_UI','Meta_Hito','area_ha_cmt12','En_Sistema_BCGS','radicado','estado_tramite','SHAPE']\n",
    "\n",
    "fecha_actual = dt.now()\n",
    "fecha_directorio_w_Rendimiento = str(fecha_actual.strftime(\"%Y%m%d\"))\n",
    "\n",
    "DIRECTORIO_SALIDA_XLSX = r\"C:\\docsProyectos\\5.RAISS\\2024.0.RAISS_Lote_4\\6.Hitos\\E2_Informes_Id_FisicoJuridica\\2_2_2_Rendimientos_Reconocimiento\"\n",
    "NOMBRE_XLSX = fecha_directorio_w_Rendimiento + \"_RendimientoEquipoReconocimiento_BCGS.xlsx\"\n",
    "RUTA_SALIDA_XLSX = os.path.join(DIRECTORIO_SALIDA_XLSX, NOMBRE_XLSX)\n",
    "NOMBRE_HOJA = 'Seguimiento_Avance_NPN_Hito'\n",
    "NOMBRE_HOJA_AVANCE = 'Porcentaje_Contractual_Avance'\n",
    "\n",
    "RUTA_HITO = r\"C:\\docsProyectos\\5.RAISS\\2024.0.RAISS_Lote_4\\6.Hitos\\E2_Informes_Id_FisicoJuridica\\2_2_8_Seguimiento_Avance_Terreno_Hito\\Base_Datos\\2_2_8_SegAvanceTerrenoHito.gdb\"\n",
    "\n",
    "nLayout = 'Seguimiento Avance Predio X Hito'\n",
    "rutaPDF = r\"C:\\docsProyectos\\5.RAISS\\2024.0.RAISS_Lote_4\\6.Hitos\\E2_Informes_Id_FisicoJuridica\\2_2_8_Seguimiento_Avance_Terreno_Hito\\Salida_Grafica\"\n",
    "\n",
    "DIRECTORIO_GLOBAL_LOCAL = r\"C:\\docsProyectos\\5.RAISS\\2024.0.RAISS_Lote_4\\6.Hitos\\E2_Informes_Id_FisicoJuridica\\2_2_8_Seguimiento_Avance_Terreno_Hito\"\n",
    "DIRECTORIO_GLOBAL_DRIVE = r\"G:\\Mi unidad\\Equipo_Consolidacion\\Hitos\\E2_Informes_Id_FisicoJuridica\\2_2_8_Seguimiento_Avance_Terreno_Hito\"\n",
    "\n",
    "ruta_fcUI = r\"C:\\docsProyectos\\5.RAISS\\2024.0.RAISS_Lote_4\\6.Hitos\\O_Apoyo_Construccion_UIntervencion\\UI_Finales\\UI_Finales.gdb\"\n"
   ]
  },
  {
   "cell_type": "code",
   "execution_count": null,
   "metadata": {},
   "outputs": [],
   "source": [
    "hito = funcion_hectareaje_general_ui.funcion_hectareaje_general_hito(ruta_fcUI)\n",
    "df_hitos_ut = hito[0]"
   ]
  },
  {
   "cell_type": "code",
   "execution_count": null,
   "metadata": {
    "execution": {
     "iopub.execute_input": "2024-07-18T18:18:09.670397Z",
     "iopub.status.busy": "2024-07-18T18:18:09.670397Z",
     "iopub.status.idle": "2024-07-18T18:18:09.683085Z",
     "shell.execute_reply": "2024-07-18T18:18:09.683085Z"
    }
   },
   "outputs": [],
   "source": [
    "\n",
    "# ? Parametrización Actualización Atendiendo\n",
    "df_consulta_tRadicados_Actualizacion = df_consulta_tRadicados[df_consulta_tRadicados['vr_nombre_proceso'] == 'Formación y Actualización']\n",
    "\n",
    "df_consulta_tRadicados_Actualizacion = df_consulta_tRadicados_Actualizacion.copy()\n",
    "\n",
    "for columna in df_consulta_tRadicados_Actualizacion.columns:\n",
    "    if columna == 'estado_tramite':\n",
    "        for llave, valor in renombrar_actividades.items():\n",
    "            df_consulta_tRadicados_Actualizacion.loc[df_consulta_tRadicados_Actualizacion[columna]==llave, columna] = valor\n",
    "\n",
    "df_consulta_tRadicados_Actualizacion = df_consulta_tRadicados_Actualizacion[estandarizacion_columnas_tRadActualizacion]"
   ]
  },
  {
   "cell_type": "code",
   "execution_count": null,
   "metadata": {
    "execution": {
     "iopub.execute_input": "2024-07-18T18:18:09.683085Z",
     "iopub.status.busy": "2024-07-18T18:18:09.683085Z",
     "iopub.status.idle": "2024-07-18T18:18:12.160119Z",
     "shell.execute_reply": "2024-07-18T18:18:12.160119Z"
    }
   },
   "outputs": [],
   "source": [
    "df_rel_terrenos_ui = pd.DataFrame.spatial.from_table(RUTA_REL_TERRENOS_UI)\n",
    "df_ui = pd.DataFrame.spatial.from_featureclass(RUTA_UI)\n",
    "\n",
    "df_terrenos = pd.DataFrame.spatial.from_featureclass(RUTA_CAPA_TERRENOS)\n",
    "df_terrenos = df_terrenos[estandarizacion_columnas_terrenos]"
   ]
  },
  {
   "cell_type": "code",
   "execution_count": null,
   "metadata": {
    "execution": {
     "iopub.execute_input": "2024-07-18T18:18:12.161203Z",
     "iopub.status.busy": "2024-07-18T18:18:12.161203Z",
     "iopub.status.idle": "2024-07-18T18:18:12.180840Z",
     "shell.execute_reply": "2024-07-18T18:18:12.180840Z"
    }
   },
   "outputs": [],
   "source": [
    "pd_terreno_hito = pd.merge(left=df_rel_terrenos_ui,\n",
    "    right=df_ui,\n",
    "    left_on='id_ui',\n",
    "    right_on='ID_UI',\n",
    "    how='left')\n",
    "\n",
    "df_terreno_hito = pd_terreno_hito[estandarizacion_columnas_terreno_hito]"
   ]
  },
  {
   "cell_type": "code",
   "execution_count": null,
   "metadata": {
    "execution": {
     "iopub.execute_input": "2024-07-18T18:18:12.180840Z",
     "iopub.status.busy": "2024-07-18T18:18:12.180840Z",
     "iopub.status.idle": "2024-07-18T18:18:12.204473Z",
     "shell.execute_reply": "2024-07-18T18:18:12.204473Z"
    }
   },
   "outputs": [],
   "source": [
    "df_estadistico_terreno_hito =pd.merge(left=df_terreno_hito,\n",
    "    right=df_terrenos,\n",
    "    on='codigo',\n",
    "    how='inner')"
   ]
  },
  {
   "cell_type": "code",
   "execution_count": null,
   "metadata": {
    "execution": {
     "iopub.execute_input": "2024-07-18T18:18:12.204473Z",
     "iopub.status.busy": "2024-07-18T18:18:12.204473Z",
     "iopub.status.idle": "2024-07-18T18:18:12.232505Z",
     "shell.execute_reply": "2024-07-18T18:18:12.232505Z"
    }
   },
   "outputs": [],
   "source": [
    "df_seguimiento_avance_X_hito = pd.merge(left=df_estadistico_terreno_hito,\n",
    "    right=df_consulta_tRadicados_Actualizacion,\n",
    "    left_on='codigo',\n",
    "    right_on='npn',\n",
    "    how='left')\n",
    "\n",
    "df_seguimiento_avance_X_hito = df_seguimiento_avance_X_hito.copy()\n",
    "\n",
    "df_seguimiento_avance_X_hito['En_Sistema_BCGS'] = None\n",
    "\n",
    "df_seguimiento_avance_X_hito.loc[df_seguimiento_avance_X_hito['radicado'].notnull(), 'En_Sistema_BCGS'] = 'SI'\n",
    "df_seguimiento_avance_X_hito.loc[df_seguimiento_avance_X_hito['radicado'].isnull(), 'En_Sistema_BCGS'] = 'NO'\n",
    "\n",
    "df_seguimiento_avance_X_hito_sin_Geo = df_seguimiento_avance_X_hito[estandarizacion_columnas_seguimiento_avance_sin_GEO]\n",
    "df_seguimiento_avance_X_hito_con_Geo = df_seguimiento_avance_X_hito[estandarizacion_columnas_seguimiento_avance_con_GEO]"
   ]
  },
  {
   "cell_type": "code",
   "execution_count": null,
   "metadata": {},
   "outputs": [],
   "source": [
    "df_hitos_ut_contrato = df_hitos_ut[['Hito','Area_Ha_Contractual']]\n",
    "\n",
    "df_seguimiento_avance_X_hito_enBCGS = df_seguimiento_avance_X_hito_sin_Geo[df_seguimiento_avance_X_hito_sin_Geo['En_Sistema_BCGS'] =='SI']\n",
    "df_seguimiento_avance_X_hito_enBCGS_Statics = pd.DataFrame(df_seguimiento_avance_X_hito_enBCGS.groupby(['Meta_Hito'])['area_ha_cmt12'].sum()).reset_index()\n",
    "df_seguimiento_avance_X_hito_enBCGS_Statics['area_ha_cmt12'] = df_seguimiento_avance_X_hito_enBCGS_Statics['area_ha_cmt12'].round(3)\n",
    "\n",
    "df_seguimiento_avance_X_hito_enBCGS_Statics_H2 = df_seguimiento_avance_X_hito_enBCGS_Statics[df_seguimiento_avance_X_hito_enBCGS_Statics['Meta_Hito']=='Hito 2']\n",
    "HITO_2 = df_seguimiento_avance_X_hito_enBCGS_Statics_H2['area_ha_cmt12'].sum().round(3)\n",
    "\n",
    "df_seguimiento_avance_X_hito_enBCGS_Statics_H2_H3 = df_seguimiento_avance_X_hito_enBCGS_Statics[(df_seguimiento_avance_X_hito_enBCGS_Statics['Meta_Hito']=='Hito 2') |\n",
    "    (df_seguimiento_avance_X_hito_enBCGS_Statics['Meta_Hito']=='Hito 3')]\n",
    "HITO2_HITO3 = df_seguimiento_avance_X_hito_enBCGS_Statics_H2_H3['area_ha_cmt12'].sum().round(3)\n",
    "\n",
    "df_seguimiento_avance_X_hito_enBCGS_Statics_H2_H3_H4 = df_seguimiento_avance_X_hito_enBCGS_Statics[(df_seguimiento_avance_X_hito_enBCGS_Statics['Meta_Hito']=='Hito 2') |\n",
    "    (df_seguimiento_avance_X_hito_enBCGS_Statics['Meta_Hito']=='Hito 3') |\n",
    "    (df_seguimiento_avance_X_hito_enBCGS_Statics['Meta_Hito']=='Hito 4')]\n",
    "HITO2_HITO3_HITO4 = df_seguimiento_avance_X_hito_enBCGS_Statics_H2_H3_H4['area_ha_cmt12'].sum().round(3)\n",
    "\n",
    "df_seguimiento_avance_X_hito_enBCGS_Statics_H2_H3_H4_H5 = df_seguimiento_avance_X_hito_enBCGS_Statics[(df_seguimiento_avance_X_hito_enBCGS_Statics['Meta_Hito']=='Hito 2') |\n",
    "    (df_seguimiento_avance_X_hito_enBCGS_Statics['Meta_Hito']=='Hito 3') |\n",
    "    (df_seguimiento_avance_X_hito_enBCGS_Statics['Meta_Hito']=='Hito 4') |\n",
    "    (df_seguimiento_avance_X_hito_enBCGS_Statics['Meta_Hito']=='Hito 5') ]\n",
    "HITO2_HITO3_HITO4_HITO5 = df_seguimiento_avance_X_hito_enBCGS_Statics_H2_H3_H4_H5['area_ha_cmt12'].sum().round(3)\n",
    "\n",
    "\n",
    "dict_avance_porcentual = {'Hito 2':HITO_2,\n",
    "    'Hito 3':HITO2_HITO3,\n",
    "    'Hito 4':HITO2_HITO3_HITO4,\n",
    "    'Hito 5':HITO2_HITO3_HITO4_HITO5\n",
    "    }\n",
    "\n",
    "renombrar_columnas = {'index':'Hito',\n",
    "    0:'Area_Avance_X_Hito_CargaEnBCGS'}\n",
    "\n",
    "df_avance_porcentual_BCGS = pd.DataFrame.from_dict(dict_avance_porcentual, orient='index').reset_index().rename(columns=renombrar_columnas)\n",
    "\n",
    "df_avance_porcentual_BCGS"
   ]
  },
  {
   "cell_type": "code",
   "execution_count": null,
   "metadata": {},
   "outputs": [],
   "source": [
    "df_avance_por_hContractual = pd.merge(left=df_hitos_ut_contrato,\n",
    "    right=df_avance_porcentual_BCGS,\n",
    "    on='Hito',\n",
    "    how='left')\n",
    "\n",
    "df_avance_por_hContractual['%_Avance'] = ((df_avance_por_hContractual['Area_Avance_X_Hito_CargaEnBCGS']/df_avance_por_hContractual['Area_Ha_Contractual'])*100).round(1)"
   ]
  },
  {
   "cell_type": "code",
   "execution_count": null,
   "metadata": {
    "execution": {
     "iopub.execute_input": "2024-07-18T18:18:12.232505Z",
     "iopub.status.busy": "2024-07-18T18:18:12.232505Z",
     "iopub.status.idle": "2024-07-18T18:18:17.394911Z",
     "shell.execute_reply": "2024-07-18T18:18:17.394911Z"
    }
   },
   "outputs": [],
   "source": [
    "with pd.ExcelWriter(RUTA_SALIDA_XLSX, engine='openpyxl', mode='a', if_sheet_exists='replace') as writer:\n",
    "    df_seguimiento_avance_X_hito_sin_Geo.to_excel(writer, sheet_name=NOMBRE_HOJA, index=False)\n",
    "    df_avance_por_hContractual.to_excel(writer, sheet_name=NOMBRE_HOJA_AVANCE, index=False)"
   ]
  },
  {
   "cell_type": "code",
   "execution_count": null,
   "metadata": {
    "execution": {
     "iopub.execute_input": "2024-07-18T18:18:17.395921Z",
     "iopub.status.busy": "2024-07-18T18:18:17.395921Z",
     "iopub.status.idle": "2024-07-18T18:19:05.344207Z",
     "shell.execute_reply": "2024-07-18T18:19:05.344207Z"
    }
   },
   "outputs": [],
   "source": [
    "ruta_salida_seguimiento_geo = os.path.join(RUTA_HITO, NOMBRE_HOJA)\n",
    "df_seguimiento_avance_X_hito_con_Geo.spatial.to_featureclass(location=ruta_salida_seguimiento_geo)\n",
    "print(f\"Se genera la capa {ruta_salida_seguimiento_geo}\")"
   ]
  },
  {
   "cell_type": "code",
   "execution_count": null,
   "metadata": {
    "execution": {
     "iopub.execute_input": "2024-07-18T18:19:05.344207Z",
     "iopub.status.busy": "2024-07-18T18:19:05.344207Z",
     "iopub.status.idle": "2024-07-18T18:19:16.063684Z",
     "shell.execute_reply": "2024-07-18T18:19:16.063684Z"
    }
   },
   "outputs": [],
   "source": [
    "funcion_exportacion_pdf_seriemapas.exportacion_salida_grafica(nLayout, rutaPDF)"
   ]
  },
  {
   "cell_type": "code",
   "execution_count": null,
   "metadata": {
    "execution": {
     "iopub.execute_input": "2024-07-18T18:19:16.063684Z",
     "iopub.status.busy": "2024-07-18T18:19:16.063684Z",
     "iopub.status.idle": "2024-07-18T18:19:20.074992Z",
     "shell.execute_reply": "2024-07-18T18:19:20.074992Z"
    }
   },
   "outputs": [],
   "source": [
    "funcion_copia_googledrive.migracion_googledrive(DIRECTORIO_GLOBAL_LOCAL, DIRECTORIO_GLOBAL_DRIVE)"
   ]
  }
 ],
 "metadata": {
  "kernelspec": {
   "display_name": "Python 3",
   "language": "python",
   "name": "python3"
  },
  "language_info": {
   "codemirror_mode": {
    "name": "ipython",
    "version": 3
   },
   "file_extension": ".py",
   "mimetype": "text/x-python",
   "name": "python",
   "nbconvert_exporter": "python",
   "pygments_lexer": "ipython3",
   "version": "3.11.8"
  }
 },
 "nbformat": 4,
 "nbformat_minor": 2
}
