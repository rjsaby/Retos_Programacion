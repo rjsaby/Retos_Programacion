{
 "cells": [
  {
   "cell_type": "code",
   "execution_count": 202,
   "metadata": {},
   "outputs": [],
   "source": [
    "import pandas as pd\n",
    "import os\n",
    "import seaborn as sns\n",
    "import shutil\n",
    "\n",
    "os.environ[\"CRYPTOGRAPHY_OPENSSL_NO_LEGACY\"] = \"yes\"\n",
    "\n",
    "# ? Se usa para generar gráficos\n",
    "import matplotlib.pyplot as plt\n",
    "\n",
    "# ? Se usa para determina la fecha de ejecución del proceso dentro del export de los resultados estadísticos\n",
    "from datetime import datetime\n",
    "\n",
    "# ? Conexión a BD Postgres. Se usa dado que pandas no acepta sino este paquete para la conexión.\n",
    "from sqlalchemy import create_engine, text\n",
    "\n",
    "from datetime  import datetime as dt\n",
    "\n",
    "from arcgis.features import GeoAccessor, GeoSeriesAccessor\n",
    "import arcpy\n",
    "\n",
    "from pathlib import Path\n",
    "\n",
    "# ** Librerías propias\n",
    "import funcion_parametrizacion_variables\n",
    "import funcion_SQL_a_DataFrame\n"
   ]
  },
  {
   "cell_type": "code",
   "execution_count": 203,
   "metadata": {},
   "outputs": [],
   "source": [
    "resultados = funcion_parametrizacion_variables.parametrizacion_variables()\n",
    "consulta_tRadicados = resultados[0]\n",
    "renombrar_actividades = resultados[4]"
   ]
  },
  {
   "cell_type": "code",
   "execution_count": 204,
   "metadata": {},
   "outputs": [
    {
     "name": "stdout",
     "output_type": "stream",
     "text": [
      "Inicio de la conexión\n",
      "Conexión exitosa ...\n",
      "Finaliza Ejecución SQL Consulta Radicados\n"
     ]
    }
   ],
   "source": [
    "df_consulta_tRadicados = funcion_SQL_a_DataFrame.sql_a_dataframe(consulta_tRadicados)\n",
    "print(f\"Finaliza Ejecución SQL Consulta Radicados\")"
   ]
  },
  {
   "cell_type": "code",
   "execution_count": 205,
   "metadata": {},
   "outputs": [],
   "source": [
    "RUTA_REL_TERRENOS_UI = r\"C:\\docsProyectos\\5.RAISS\\2024.0.RAISS_Lote_4\\6.Hitos\\E1_Alistamiento_Diagnostico\\3_Disposicion\\1.BD_Consolidada\\BD_Consolidada_Lote4.gdb\\relacion_terreno_ui\"\n",
    "RUTA_UI = r\"C:\\docsProyectos\\5.RAISS\\2024.0.RAISS_Lote_4\\6.Hitos\\O_Apoyo_Construccion_UIntervencion\\UI_Finales\\UI_Finales.gdb\\UI_Unificadas\\UI_Unificadas\"\n",
    "RUTA_CAPA_TERRENOS = r\"C:\\docsProyectos\\5.RAISS\\2024.0.RAISS_Lote_4\\6.Hitos\\E1_Alistamiento_Diagnostico\\3_Disposicion\\1.BD_Consolidada\\BD_Consolidada_Lote4.gdb\\Analitica_UT_Consolidada\\TERRENO_UNIFICADO_w_GIS\"\n",
    "\n",
    "estandarizacion_columnas_tRadActualizacion = ['radicado','npn','municipio','estado_tramite']\n",
    "estandarizacion_columnas_terreno_hito = ['codigo','ID_UI','Zona_UI','Departamento_UI','Municipio_UI','Meta_Hito']\n",
    "estandarizacion_columnas_terrenos = ['codigo','area_ha_cmt12','SHAPE']\n",
    "estandarizacion_columnas_seguimiento_avance_sin_GEO = ['codigo','ID_UI','Zona_UI','Departamento_UI','Municipio_UI','Meta_Hito','area_ha_cmt12','En_Sistema_BCGS','radicado','estado_tramite']\n",
    "estandarizacion_columnas_seguimiento_avance_con_GEO = ['codigo','ID_UI','Zona_UI','Departamento_UI','Municipio_UI','Meta_Hito','area_ha_cmt12','En_Sistema_BCGS','radicado','estado_tramite','SHAPE']\n",
    "\n",
    "fecha_actual = dt.now()\n",
    "fecha_directorio_w_Rendimiento = str(fecha_actual.strftime(\"%Y%m%d\"))\n",
    "\n",
    "DIRECTORIO_SALIDA_XLSX = r\"C:\\docsProyectos\\5.RAISS\\2024.0.RAISS_Lote_4\\6.Hitos\\E2_Informes_Id_FisicoJuridica\\2_2_2_Rendimientos_Reconocimiento\"\n",
    "NOMBRE_XLSX = fecha_directorio_w_Rendimiento + \"_RendimientoEquipoReconocimiento_BCGS.xlsx\"\n",
    "RUTA_SALIDA_XLSX = os.path.join(DIRECTORIO_SALIDA_XLSX, NOMBRE_XLSX)\n",
    "NOMBRE_HOJA = 'Seguimiento_Avance_NPN_Hito'\n",
    "\n",
    "RUTA_HITO = r\"C:\\docsProyectos\\5.RAISS\\2024.0.RAISS_Lote_4\\6.Hitos\\E2_Informes_Id_FisicoJuridica\\2_2_8_Seguimiento_Avance_Terreno_Hito\\Base_Datos\\2_2_8_SegAvanceTerrenoHito.gdb\"\n"
   ]
  },
  {
   "cell_type": "code",
   "execution_count": 206,
   "metadata": {},
   "outputs": [],
   "source": [
    "\n",
    "# ? Parametrización Actualización Atendiendo\n",
    "df_consulta_tRadicados_Actualizacion = df_consulta_tRadicados[df_consulta_tRadicados['vr_nombre_proceso'] == 'Formación y Actualización']\n",
    "\n",
    "df_consulta_tRadicados_Actualizacion = df_consulta_tRadicados_Actualizacion.copy()\n",
    "\n",
    "for columna in df_consulta_tRadicados_Actualizacion.columns:\n",
    "    if columna == 'estado_tramite':\n",
    "        for llave, valor in renombrar_actividades.items():\n",
    "            df_consulta_tRadicados_Actualizacion.loc[df_consulta_tRadicados_Actualizacion[columna]==llave, columna] = valor\n",
    "\n",
    "df_consulta_tRadicados_Actualizacion = df_consulta_tRadicados_Actualizacion[estandarizacion_columnas_tRadActualizacion]"
   ]
  },
  {
   "cell_type": "code",
   "execution_count": 207,
   "metadata": {},
   "outputs": [],
   "source": [
    "df_rel_terrenos_ui = pd.DataFrame.spatial.from_table(RUTA_REL_TERRENOS_UI)\n",
    "df_ui = pd.DataFrame.spatial.from_featureclass(RUTA_UI)\n",
    "\n",
    "df_terrenos = pd.DataFrame.spatial.from_featureclass(RUTA_CAPA_TERRENOS)\n",
    "df_terrenos = df_terrenos[estandarizacion_columnas_terrenos]"
   ]
  },
  {
   "cell_type": "code",
   "execution_count": 208,
   "metadata": {},
   "outputs": [],
   "source": [
    "pd_terreno_hito = pd.merge(left=df_rel_terrenos_ui,\n",
    "    right=df_ui,\n",
    "    left_on='id_ui',\n",
    "    right_on='ID_UI',\n",
    "    how='left')\n",
    "\n",
    "df_terreno_hito = pd_terreno_hito[estandarizacion_columnas_terreno_hito]"
   ]
  },
  {
   "cell_type": "code",
   "execution_count": 209,
   "metadata": {},
   "outputs": [],
   "source": [
    "df_estadistico_terreno_hito =pd.merge(left=df_terreno_hito,\n",
    "    right=df_terrenos,\n",
    "    on='codigo',\n",
    "    how='inner')"
   ]
  },
  {
   "cell_type": "code",
   "execution_count": 210,
   "metadata": {},
   "outputs": [],
   "source": [
    "df_seguimiento_avance_X_hito = pd.merge(left=df_estadistico_terreno_hito,\n",
    "    right=df_consulta_tRadicados_Actualizacion,\n",
    "    left_on='codigo',\n",
    "    right_on='npn',\n",
    "    how='left')\n",
    "\n",
    "df_seguimiento_avance_X_hito = df_seguimiento_avance_X_hito.copy()\n",
    "\n",
    "df_seguimiento_avance_X_hito['En_Sistema_BCGS'] = None\n",
    "\n",
    "df_seguimiento_avance_X_hito.loc[df_seguimiento_avance_X_hito['radicado'].notnull(), 'En_Sistema_BCGS'] = 'SI'\n",
    "df_seguimiento_avance_X_hito.loc[df_seguimiento_avance_X_hito['radicado'].isnull(), 'En_Sistema_BCGS'] = 'NO'\n",
    "\n",
    "df_seguimiento_avance_X_hito_sin_Geo = df_seguimiento_avance_X_hito[estandarizacion_columnas_seguimiento_avance_sin_GEO]\n",
    "df_seguimiento_avance_X_hito_con_Geo = df_seguimiento_avance_X_hito[estandarizacion_columnas_seguimiento_avance_con_GEO]"
   ]
  },
  {
   "cell_type": "code",
   "execution_count": 211,
   "metadata": {},
   "outputs": [],
   "source": [
    "with pd.ExcelWriter(RUTA_SALIDA_XLSX, engine='openpyxl', mode='a', if_sheet_exists='replace') as writer:\n",
    "    df_seguimiento_avance_X_hito_sin_Geo.to_excel(writer, sheet_name=NOMBRE_HOJA, index=False)"
   ]
  },
  {
   "cell_type": "code",
   "execution_count": 212,
   "metadata": {},
   "outputs": [
    {
     "name": "stderr",
     "output_type": "stream",
     "text": [
      "c:\\docsProyectos\\ENTORNOS\\vGeoEntorno\\Lib\\site-packages\\arcgis\\features\\geo\\_accessor.py:1531: SettingWithCopyWarning: \n",
      "A value is trying to be set on a copy of a slice from a DataFrame.\n",
      "Try using .loc[row_indexer,col_indexer] = value instead\n",
      "\n",
      "See the caveats in the documentation: https://pandas.pydata.org/pandas-docs/stable/user_guide/indexing.html#returning-a-view-versus-a-copy\n",
      "  self._data[col] = array\n"
     ]
    },
    {
     "name": "stdout",
     "output_type": "stream",
     "text": [
      "Se genera la capa C:\\docsProyectos\\5.RAISS\\2024.0.RAISS_Lote_4\\6.Hitos\\E2_Informes_Id_FisicoJuridica\\2_2_8_Seguimiento_Avance_Terreno_Hito\\Base_Datos\\2_2_8_SegAvanceTerrenoHito.gdb\\Seguimiento_Avance_NPN_Hito\n"
     ]
    }
   ],
   "source": [
    "ruta_salida_seguimiento_geo = os.path.join(RUTA_HITO, NOMBRE_HOJA)\n",
    "df_seguimiento_avance_X_hito_con_Geo.spatial.to_featureclass(location=ruta_salida_seguimiento_geo)\n",
    "print(f\"Se genera la capa {ruta_salida_seguimiento_geo}\")"
   ]
  }
 ],
 "metadata": {
  "kernelspec": {
   "display_name": "Python 3",
   "language": "python",
   "name": "python3"
  },
  "language_info": {
   "codemirror_mode": {
    "name": "ipython",
    "version": 3
   },
   "file_extension": ".py",
   "mimetype": "text/x-python",
   "name": "python",
   "nbconvert_exporter": "python",
   "pygments_lexer": "ipython3",
   "version": "3.11.8"
  }
 },
 "nbformat": 4,
 "nbformat_minor": 2
}
