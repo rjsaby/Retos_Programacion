{
 "cells": [
  {
   "cell_type": "code",
   "execution_count": null,
   "metadata": {},
   "outputs": [],
   "source": [
    "import pandas as pd\n",
    "import os\n",
    "import seaborn as sns\n",
    "\n",
    "os.environ[\"CRYPTOGRAPHY_OPENSSL_NO_LEGACY\"] = \"yes\"\n",
    "\n",
    "# ? Se usa para generar gráficos\n",
    "import matplotlib.pyplot as plt\n",
    "\n",
    "import shutil\n",
    "\n",
    "# ? Se usa para determina la fecha de ejecución del proceso dentro del export de los resultados estadísticos\n",
    "from datetime import datetime as dt\n",
    "\n",
    "# ? Conexión a BD Postgres. Se usa dado que pandas no acepta sino este paquete para la conexión.\n",
    "from sqlalchemy import create_engine, text\n",
    "\n",
    "from datetime import datetime as dt\n",
    "\n",
    "from arcgis.features import GeoAccessor, GeoSeriesAccessor\n",
    "import arcpy\n",
    "\n",
    "from pathlib import Path\n",
    "\n",
    "import pandas as pd\n",
    "\n",
    "# ** Librerías propias\n"
   ]
  },
  {
   "cell_type": "markdown",
   "metadata": {},
   "source": [
    "<h3>Parametrización de Variables</h3>"
   ]
  },
  {
   "cell_type": "code",
   "execution_count": null,
   "metadata": {},
   "outputs": [],
   "source": [
    "fecha_actual = dt.now()\n",
    "fecha_estandarizada = str(fecha_actual.strftime(\"%Y%m%d\"))\n",
    "\n",
    "\n",
    "XLSX_ESTADISTICOS = r\"C:\\docsProyectos\\5.RAISS\\2024.0.RAISS_Lote_4\\6.Hitos\\O_Apoyo_Construccion_UIntervencion\\UI_Finales\\Estadisticos\\indicadores_base_ui_lote_4.xlsx\"\n",
    "\n",
    "DIRECTORIO_XLSX = r\"C:\\docsProyectos\\5.RAISS\\2024.0.RAISS_Lote_4\\6.Hitos\\E2_Informes_Id_FisicoJuridica\\2_2_6_Indicador_Edicion_Geografica\\zReportes\\Seguimiento_Diario\"\n",
    "ARCHIVO_XLSX = fecha_estandarizada+'_avance_edicios_GIS.xlsx'\n",
    "RUTA_XLSX = os.path.join(DIRECTORIO_XLSX, ARCHIVO_XLSX)\n",
    "\n",
    "dict_rutas_estadisticos = {'ESTADISTICOS_MARIA':r\"C:\\docsProyectos\\5.RAISS\\2024.0.RAISS_Lote_4\\6.Hitos\\E2_Informes_Id_FisicoJuridica\\2_2_6_Indicador_Edicion_Geografica\\zReportes\\seguimiento_edicionGeo_MariaLaBaja.xlsx\",\n",
    "    'ESTADISTICOS_REPELON':r\"C:\\docsProyectos\\5.RAISS\\2024.0.RAISS_Lote_4\\6.Hitos\\E2_Informes_Id_FisicoJuridica\\2_2_6_Indicador_Edicion_Geografica\\zReportes\\seguimiento_edicionGeo_Repelon.xlsx\",\n",
    "    'ESTADISTICOS_BARANOA':r\"C:\\docsProyectos\\5.RAISS\\2024.0.RAISS_Lote_4\\6.Hitos\\E2_Informes_Id_FisicoJuridica\\2_2_6_Indicador_Edicion_Geografica\\zReportes\\seguimiento_edicionGeo_Baranoa.xlsx\"}\n",
    "\n",
    "columnas_estadisticos = ['Hito','Area_Ha_CMT12','Area_Ha_Contractual']\n",
    "columnas_ordenadas = ['Hito',\n",
    "    'Area_Ha_CTM12',\n",
    "    'Area_Ha_Contractual',\n",
    "    'area_editada_MariaLaBaja',\n",
    "    '%_avance_MariaLaBaja',\n",
    "    'area_editada_Repelon',\n",
    "    '%_avance_Repelon',\n",
    "    'area_editada_Baranoa',\n",
    "    '%_avance_Baranoa']\n",
    "\n",
    "nSheet_estadisticoXHito = 'Area_Editada_X_Hito'"
   ]
  },
  {
   "cell_type": "code",
   "execution_count": null,
   "metadata": {},
   "outputs": [],
   "source": [
    "df_estadisticos = pd.read_excel(XLSX_ESTADISTICOS, sheet_name=\"hitos_por_asignacion\")\n",
    "df_estadisticos = df_estadisticos[columnas_estadisticos].rename(columns={'Area_Ha_CMT12':'Area_Ha_CTM12'})\n",
    "df_estadisticos"
   ]
  },
  {
   "cell_type": "code",
   "execution_count": null,
   "metadata": {},
   "outputs": [],
   "source": [
    "dataframe = {}\n",
    "\n",
    "for llave, valor in dict_rutas_estadisticos.items():\n",
    "    df = pd.read_excel(valor, sheet_name=nSheet_estadisticoXHito)\n",
    "    dataframe[llave] = df"
   ]
  },
  {
   "cell_type": "code",
   "execution_count": null,
   "metadata": {},
   "outputs": [],
   "source": [
    "for dframe, df in dataframe.items():\n",
    "    df_estadisticos = pd.merge(left=df_estadisticos, right=df, left_on=\"Hito\", right_on=\"Meta_Hito\", how=\"left\", suffixes=('', f'_{dframe}'))\n",
    "\n",
    "columnas_unificacion = ['Hito','Area_Ha_CTM12',\n",
    "                        'Area_Ha_Contractual',\n",
    "                        'area_editada_MariaLaBaja',\n",
    "                        'area_editada_Repelon',\n",
    "                        'area_editada_Baranoa']\n",
    "\n",
    "df_estadisticos_estandarizados = df_estadisticos[columnas_unificacion]\n",
    "df_estadisticos_estandarizados = df_estadisticos_estandarizados.fillna(0)\n",
    "df_estadisticos_estandarizados"
   ]
  },
  {
   "cell_type": "code",
   "execution_count": null,
   "metadata": {},
   "outputs": [],
   "source": [
    "df_estadisticos_estandarizados['%_avance_MariaLaBaja'] = (df_estadisticos_estandarizados['area_editada_MariaLaBaja']/df_estadisticos_estandarizados['Area_Ha_CTM12']*100).round(2)\n",
    "df_estadisticos_estandarizados['%_avance_Repelon'] = (df_estadisticos_estandarizados['area_editada_Repelon']/df_estadisticos_estandarizados['Area_Ha_CTM12']*100).round(2)\n",
    "df_estadisticos_estandarizados['%_avance_Baranoa'] = (df_estadisticos_estandarizados['area_editada_Baranoa']/df_estadisticos_estandarizados['Area_Ha_CTM12']*100).round(2)"
   ]
  },
  {
   "cell_type": "code",
   "execution_count": null,
   "metadata": {},
   "outputs": [],
   "source": [
    "df_estadisticos_ordenados = df_estadisticos_estandarizados[columnas_ordenadas]\n",
    "\n",
    "df_estadisticos_ordenados.to_excel(RUTA_XLSX, sheet_name='Avance_SIG')\n",
    "print(f\"Se genera XLSX {ARCHIVO_XLSX}\")"
   ]
  }
 ],
 "metadata": {
  "kernelspec": {
   "display_name": "Python 3",
   "language": "python",
   "name": "python3"
  },
  "language_info": {
   "codemirror_mode": {
    "name": "ipython",
    "version": 3
   },
   "file_extension": ".py",
   "mimetype": "text/x-python",
   "name": "python",
   "nbconvert_exporter": "python",
   "pygments_lexer": "ipython3",
   "version": "3.11.8"
  }
 },
 "nbformat": 4,
 "nbformat_minor": 2
}
