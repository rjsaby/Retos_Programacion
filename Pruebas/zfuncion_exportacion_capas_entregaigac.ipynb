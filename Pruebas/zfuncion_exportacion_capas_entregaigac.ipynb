{
 "cells": [
  {
   "cell_type": "code",
   "execution_count": null,
   "metadata": {},
   "outputs": [],
   "source": [
    "import os\n",
    "import arcpy\n",
    "from pathlib import Path\n",
    "import zipfile\n",
    "from datetime import datetime as dt"
   ]
  },
  {
   "cell_type": "markdown",
   "metadata": {},
   "source": [
    "<h3>Exportación de Resultados de las Visitas</h3>"
   ]
  },
  {
   "cell_type": "code",
   "execution_count": null,
   "metadata": {},
   "outputs": [],
   "source": [
    "fecha_actual = dt.now()\n",
    "fecha_directorio = str(fecha_actual.strftime(\"%Y%m%d\"))"
   ]
  },
  {
   "cell_type": "code",
   "execution_count": null,
   "metadata": {},
   "outputs": [],
   "source": [
    "\n",
    "# TODO: Se genera lista con los archivos resultado a copiar\n",
    "RUTA_GDB2_2_0 = r\"C:\\docsProyectos\\5.RAISS\\2024.0.RAISS_Lote_4\\6.Hitos\\E2_Informes_Id_FisicoJuridica\\2_2_0_Identificacion_Predial_Total_Ha_Actualizadas\\Base_Datos\\2_2_0.gdb\"\n",
    "\n",
    "arcpy.env.workspace = RUTA_GDB2_2_0\n",
    "\n",
    "capas_copia = ['TERRENOS_VISITADOS_FORMAL','TERRENOS_VISITADOS_INFORMAL']\n",
    "\n",
    "rutas_copia_2_2_0 = []\n",
    "for capa in arcpy.ListFeatureClasses():\n",
    "    for copia in capas_copia:\n",
    "        if capa == copia:\n",
    "            rutas_copia_2_2_0.append(os.path.join(arcpy.env.workspace,capa))\n",
    "\n",
    "# TODO: Se elimina las capas existentes\n",
    "RUTA_BD_ENTREGA = r\"C:\\docsProyectos\\5.RAISS\\2024.0.RAISS_Lote_4\\6.Hitos\\E2_Informes_Id_FisicoJuridica\\2_2_0_Identificacion_Predial_Total_Ha_Actualizadas\\Base_Datos\\Terrenos_Visitados.gdb\"\n",
    "\n",
    "arcpy.env.workspace = RUTA_BD_ENTREGA\n",
    "\n",
    "for capa in arcpy.ListFeatureClasses():\n",
    "    arcpy.Delete_management(capa)\n",
    "\n",
    "for rutas in rutas_copia_2_2_0:\n",
    "    R = Path(rutas)    \n",
    "    ruta_destino = os.path.join(arcpy.env.workspace,R.name)\n",
    "    arcpy.Copy_management(in_data=rutas, out_data=ruta_destino)\n",
    "\n",
    "# RUTA_ZIP = r\"C:\\docsProyectos\\5.RAISS\\2024.0.RAISS_Lote_4\\6.Hitos\\E2_Informes_Id_FisicoJuridica\\2_2_0_Identificacion_Predial_Total_Ha_Actualizadas\\Base_Datos\"\n",
    "\n",
    "# with zipfile.ZipFile(RUTA_BD_ENTREGA, 'w') as ruta_compresion:\n",
    "#     Z = Path(RUTA_BD_ENTREGA)\n",
    "#     ruta_salida_zip = os.path.join(RUTA_ZIP, fecha_directorio+'_'+Z.stem+'.zip')\n",
    "#     ruta_compresion.write(arcpy.env.workspace, ruta_salida_zip)\n"
   ]
  }
 ],
 "metadata": {
  "kernelspec": {
   "display_name": "Python 3",
   "language": "python",
   "name": "python3"
  },
  "language_info": {
   "codemirror_mode": {
    "name": "ipython",
    "version": 3
   },
   "file_extension": ".py",
   "mimetype": "text/x-python",
   "name": "python",
   "nbconvert_exporter": "python",
   "pygments_lexer": "ipython3",
   "version": "3.11.8"
  }
 },
 "nbformat": 4,
 "nbformat_minor": 2
}
