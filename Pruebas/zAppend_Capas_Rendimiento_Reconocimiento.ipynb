{
 "cells": [
  {
   "cell_type": "code",
   "execution_count": null,
   "metadata": {},
   "outputs": [],
   "source": [
    "import arcpy, os"
   ]
  },
  {
   "cell_type": "code",
   "execution_count": null,
   "metadata": {},
   "outputs": [],
   "source": [
    "RUTA_BD_LOCAL = r\"C:\\docsProyectos\\5.RAISS\\2024.0.RAISS_Lote_4\\6.Hitos\\E2_Informes_Id_FisicoJuridica\\2_2_0_Identificacion_Predial_Total_Ha_Actualizadas\\Base_Datos\\_2_2_0.gdb\"\n",
    "\n",
    "arcpy.env.workspace = RUTA_BD_LOCAL"
   ]
  },
  {
   "cell_type": "code",
   "execution_count": null,
   "metadata": {},
   "outputs": [],
   "source": [
    "\n",
    "dict_capas_input_target = {1:['TERRENOS_VISITADOS_FORMAL','TERRENOS_VISITADOS_MARIA_LA_BAJA_FORMAL','TERRENOS_VISITADOS_REPELON_FORMAL'],\n",
    "    2:['TERRENOS_VISITADOS_INFORMAL','TERRENOS_VISITADOS_MARIA_LA_BAJA_INFORMAL','TERRENOS_VISITADOS_REPELON_INFORMAL'],\n",
    "}\n",
    "\n",
    "for capa in arcpy.ListFeatureClasses():\n",
    "    for llave, valor in dict_capas_input_target.items():\n",
    "        if capa == valor[0]:\n",
    "            arcpy.TruncateTable_management(capa)\n",
    "            print(f\"* Se completa el truncado de las tabla objetivo: {valor[0]}\")\n",
    "print(f\"1. Se completa el truncado de las tablas objetivo\")\n",
    "\n",
    "for capa in arcpy.ListFeatureClasses():\n",
    "    for llave, valor in dict_capas_input_target.items():\n",
    "        if capa == valor[0] and llave == 1:\n",
    "            arcpy.Append_management(inputs=[os.path.join(arcpy.env.workspace, valor[1]), os.path.join(arcpy.env.workspace, valor[2])], target=capa, schema_type='TEST')\n",
    "            print(f\"Se migran {valor[1]} - {valor[2]} a {capa}\")\n",
    "        if capa == valor[0] and llave == 2 and (arcpy.Exists(valor[2]) == False):\n",
    "            arcpy.Append_management(inputs=[os.path.join(arcpy.env.workspace, valor[1])], target=capa, schema_type='TEST')\n",
    "            print(f\"Se migran {valor[1]} a {capa}\")\n",
    "        if capa == valor[0] and llave == 2 and (arcpy.Exists(valor[2]) == True):\n",
    "            arcpy.Append_management(inputs=[os.path.join(arcpy.env.workspace, valor[1]), os.path.join(arcpy.env.workspace, valor[2])], target=capa, schema_type='TEST')\n",
    "            print(f\"Se migran {valor[1]} - {valor[2]} a {capa}\")\n",
    "print(f\"2. Se completa la unificación de las tablas municipio\")"
   ]
  }
 ],
 "metadata": {
  "kernelspec": {
   "display_name": "Python 3",
   "language": "python",
   "name": "python3"
  },
  "language_info": {
   "codemirror_mode": {
    "name": "ipython",
    "version": 3
   },
   "file_extension": ".py",
   "mimetype": "text/x-python",
   "name": "python",
   "nbconvert_exporter": "python",
   "pygments_lexer": "ipython3",
   "version": "3.11.8"
  }
 },
 "nbformat": 4,
 "nbformat_minor": 2
}
