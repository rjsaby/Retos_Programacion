{
 "cells": [
  {
   "cell_type": "code",
   "execution_count": null,
   "metadata": {
    "execution": {
     "iopub.execute_input": "2024-07-18T15:15:04.331649Z",
     "iopub.status.busy": "2024-07-18T15:15:04.331649Z",
     "iopub.status.idle": "2024-07-18T15:15:04.342049Z",
     "shell.execute_reply": "2024-07-18T15:15:04.342049Z"
    }
   },
   "outputs": [],
   "source": [
    "\"\"\"    \n",
    "    Indicador: Hectareaje X Hito.\n",
    "\"\"\""
   ]
  },
  {
   "cell_type": "markdown",
   "metadata": {},
   "source": [
    "<h3>Importación Librerías</h3>"
   ]
  },
  {
   "cell_type": "code",
   "execution_count": null,
   "metadata": {
    "execution": {
     "iopub.execute_input": "2024-07-18T15:15:04.348005Z",
     "iopub.status.busy": "2024-07-18T15:15:04.348005Z",
     "iopub.status.idle": "2024-07-18T15:15:08.140343Z",
     "shell.execute_reply": "2024-07-18T15:15:08.140343Z"
    }
   },
   "outputs": [],
   "source": [
    "import pandas as pd\n",
    "import os\n",
    "import seaborn as sns\n",
    "\n",
    "os.environ[\"CRYPTOGRAPHY_OPENSSL_NO_LEGACY\"] = \"yes\"\n",
    "\n",
    "# ? Se usa para generar gráficos\n",
    "import matplotlib.pyplot as plt\n",
    "\n",
    "# ? Se usa para determina la fecha de ejecución del proceso dentro del export de los resultados estadísticos\n",
    "from datetime import datetime\n",
    "\n",
    "# ? Conexión a BD Postgres. Se usa dado que pandas no acepta sino este paquete para la conexión.\n",
    "from sqlalchemy import create_engine, text\n",
    "\n",
    "from datetime import datetime as df\n",
    "\n",
    "from arcgis.features import GeoAccessor, GeoSeriesAccessor\n",
    "import arcpy\n",
    "\n",
    "from pathlib import Path\n",
    "\n",
    "# ** Librerías propias\n",
    "import funcion_relacion_terrenos_w_ui\n",
    "import funcion_hectareaje_general_ui"
   ]
  },
  {
   "cell_type": "markdown",
   "metadata": {},
   "source": [
    "<h3>Parametrización de Variables</h3>"
   ]
  },
  {
   "cell_type": "code",
   "execution_count": null,
   "metadata": {
    "execution": {
     "iopub.execute_input": "2024-07-18T15:15:08.140343Z",
     "iopub.status.busy": "2024-07-18T15:15:08.140343Z",
     "iopub.status.idle": "2024-07-18T15:15:08.146352Z",
     "shell.execute_reply": "2024-07-18T15:15:08.146352Z"
    }
   },
   "outputs": [],
   "source": [
    "RUTA_TERRENOS_RECONO_TRAMITES_ATENCION_BCGS = r\"C:\\docsProyectos\\5.RAISS\\2024.0.RAISS_Lote_4\\6.Hitos\\E1_Alistamiento_Diagnostico\\3_Disposicion\\1.BD_Consolidada\\BD_Consolidada_Lote4.gdb\\Analitica_UT_Consolidada\\TERRENOS_RECONOCIMIENTO_TRAMITES_ATENCION_BCGS\"\n",
    "DIRECTORIO_XLSX_2_2_4 = r\"C:\\docsProyectos\\5.RAISS\\2024.0.RAISS_Lote_4\\6.Hitos\\E2_Informes_Id_FisicoJuridica\\2_2_4_Hectareaje_X_Hito\\zReportes\\Seguimiento_Diario\"\n",
    "\n",
    "columnas_terrenos_w_ui = ['codigo','radicado','municipio','proceso','area_ha_cmt12','ID_UI','Zona_UI','Nombre_UI', 'Area_Ha_CMT12', 'Meta_Hito']\n",
    "columnas_reducion_indicador_1 = ['Hito','Area_Ha_Contractual','hectareaje_visitado_bcgs']\n",
    "\n",
    "fecha_actual = df.now()\n",
    "fecha_directorio = str(fecha_actual.strftime(\"%Y-%m-%d\"))\n",
    "\n",
    "nombre_xlsx_2_2_4 = str(fecha_directorio) + '_indicador_hectareaje_avance_por_hito.xlsx'\n",
    "RUTA_2_2_4 = os.path.join(DIRECTORIO_XLSX_2_2_4, nombre_xlsx_2_2_4)\n",
    "\n",
    "ruta_fcTerrenos = r\"C:\\docsProyectos\\5.RAISS\\2024.0.RAISS_Lote_4\\6.Hitos\\E1_Alistamiento_Diagnostico\\3_Disposicion\\1.BD_Consolidada\\BD_Consolidada_Lote4.gdb\\Analitica_UT_Consolidada\\TERRENO_UNIFICADO_w_GIS\"\n",
    "ruta_bdScrach = r\"C:\\docsProyectos\\5.RAISS\\2024.0.RAISS_Lote_4\\6.Hitos\\E2_Informes_Id_FisicoJuridica\\2_2_0_Identificacion_Predial_Total_Ha_Actualizadas\\Base_Datos\\Terrenos_w_UI.gdb\"\n",
    "ruta_fcUI = r\"C:\\docsProyectos\\5.RAISS\\2024.0.RAISS_Lote_4\\6.Hitos\\O_Apoyo_Construccion_UIntervencion\\UI_Finales\\UI_Finales.gdb\\UI_Unificadas\\UI_Unificadas\""
   ]
  },
  {
   "cell_type": "markdown",
   "metadata": {},
   "source": [
    "<h3>Ejecución de Funciones</h3>"
   ]
  },
  {
   "cell_type": "code",
   "execution_count": null,
   "metadata": {
    "execution": {
     "iopub.execute_input": "2024-07-18T15:15:08.148036Z",
     "iopub.status.busy": "2024-07-18T15:15:08.148036Z",
     "iopub.status.idle": "2024-07-18T15:15:31.381338Z",
     "shell.execute_reply": "2024-07-18T15:15:31.381338Z"
    }
   },
   "outputs": [],
   "source": [
    "\n",
    "# ** Generación de ruta a la relación terreno ui\n",
    "ruta_tlbTerrenoUI = funcion_relacion_terrenos_w_ui.funcion_terreno_w_ui(ruta_fcTerrenos, ruta_bdScrach, ruta_fcUI)\n",
    "\n",
    "# ** Genera los DF de los estadísticos generales contractuales de hito vs Ha\n",
    "df_hitos_ut, df_unidades_intervencion_hitos = funcion_hectareaje_general_ui.funcion_hectareaje_general_hito(ruta_fcUI)"
   ]
  },
  {
   "cell_type": "markdown",
   "metadata": {},
   "source": [
    "<h3>Actualización</h3>"
   ]
  },
  {
   "cell_type": "code",
   "execution_count": null,
   "metadata": {
    "execution": {
     "iopub.execute_input": "2024-07-18T15:15:31.381338Z",
     "iopub.status.busy": "2024-07-18T15:15:31.381338Z",
     "iopub.status.idle": "2024-07-18T15:15:31.944906Z",
     "shell.execute_reply": "2024-07-18T15:15:31.944906Z"
    }
   },
   "outputs": [],
   "source": [
    "\n",
    "# ** Lectura del FC Generado en 2.2.0 {Terrenos Georreferenciados asociados a la Gestión BCGS}\n",
    "df_terrenosAtencionBCGS = pd.DataFrame.spatial.from_featureclass(RUTA_TERRENOS_RECONO_TRAMITES_ATENCION_BCGS)\n",
    "\n",
    "# ? Se filtra Actualización\n",
    "df_terrenosReconocimientoBCGS = df_terrenosAtencionBCGS[df_terrenosAtencionBCGS['proceso']=='Actualización']\n",
    "# ? Copia de DF\n",
    "df_terrenosReconocimientoBCGS = df_terrenosReconocimientoBCGS.copy()\n",
    "# ? Se extrae organizados propio de columnas\n",
    "df_terrenosReconocimientoBCGS['id_actividad'] = df_terrenosReconocimientoBCGS['estado_tramite'].str[0:1].astype(int)\n",
    "# ? Se filtra por indicador de proceso\n",
    "df_terrenosReconocimientoBCGS = df_terrenosReconocimientoBCGS[df_terrenosReconocimientoBCGS['id_actividad'] >= 6]\n",
    "\n",
    "# ** Lectura del Relación Terreno - UI\n",
    "df_relTerrenosUI = pd.DataFrame.spatial.from_table(ruta_tlbTerrenoUI)\n",
    "# ** FC UI Completa\n",
    "df_UI = pd.DataFrame.spatial.from_featureclass(ruta_fcUI)\n",
    "\n",
    "# ** Unión, Terrenos con Tabla Relación Terrenos Vs UI\n",
    "df_terrenosBCGS = pd.merge(left=df_terrenosReconocimientoBCGS,\n",
    "    right=df_relTerrenosUI,\n",
    "    left_on=\"codigo\",\n",
    "    right_on=\"codigo\",\n",
    "    how=\"inner\"\n",
    "    )\n",
    "\n",
    "# ** Unión, Terrenos con ID_UI con FC de UI para completar datos de Hito\n",
    "df_terrenosBCGS_w_UI = pd.merge(left=df_terrenosBCGS,\n",
    "    right=df_UI,\n",
    "    left_on = 'id_ui',\n",
    "    right_on = 'ID_UI',\n",
    "    how=\"inner\"\n",
    "    )\n",
    "\n",
    "# ** Reducción de Columnas para mejorar análisis\n",
    "df_terrenosBCGS_w_UI_reducido = df_terrenosBCGS_w_UI[columnas_terrenos_w_ui]\n",
    "df_terrenosBCGS_w_UI_reducido = df_terrenosBCGS_w_UI_reducido.rename(columns={'Area_Ha_CMT12':'Area_Ha_CTM12_UI', 'area_ha_cmt12':'area_ha_ctm12_predio'})\n",
    "print(f'{df_terrenosBCGS_w_UI_reducido.shape[0]}')\n",
    "df_terrenosReconocimientoBCGS"
   ]
  },
  {
   "cell_type": "markdown",
   "metadata": {},
   "source": [
    "<h3>Indicadores</h3>"
   ]
  },
  {
   "cell_type": "code",
   "execution_count": null,
   "metadata": {
    "execution": {
     "iopub.execute_input": "2024-07-18T15:15:31.944906Z",
     "iopub.status.busy": "2024-07-18T15:15:31.944906Z",
     "iopub.status.idle": "2024-07-18T15:15:31.952365Z",
     "shell.execute_reply": "2024-07-18T15:15:31.952365Z"
    }
   },
   "outputs": [],
   "source": [
    "\n",
    "# ** Indicador 1: Total Gestión BSCG (Activo) por Hito\n",
    "df_terrenosBCGS_w_UI_indicador_1 = pd.DataFrame(df_terrenosBCGS_w_UI_reducido.groupby(['Meta_Hito'])['area_ha_ctm12_predio'].sum().round(3)).reset_index().rename(columns={'area_ha_ctm12_predio':'hectareaje_visitado_bcgs'})\n",
    "\n",
    "# ** Indicador 2: Total Gestión BSCG (Activo) por Hito y UI\n",
    "df_terrenosBCGS_w_UI_indicador_2 = pd.DataFrame(df_terrenosBCGS_w_UI_reducido.groupby(['Meta_Hito','ID_UI','Area_Ha_CTM12_UI'])['area_ha_ctm12_predio'].sum().round(3)).reset_index().rename(columns={'area_ha_ctm12_predio':'hectareaje_visitado_bcgs'})"
   ]
  },
  {
   "cell_type": "code",
   "execution_count": null,
   "metadata": {
    "execution": {
     "iopub.execute_input": "2024-07-18T15:15:31.952365Z",
     "iopub.status.busy": "2024-07-18T15:15:31.952365Z",
     "iopub.status.idle": "2024-07-18T15:15:31.957868Z",
     "shell.execute_reply": "2024-07-18T15:15:31.957868Z"
    }
   },
   "outputs": [],
   "source": [
    "df_terrenosBCGS_w_UI_indicador_1"
   ]
  },
  {
   "cell_type": "code",
   "execution_count": null,
   "metadata": {
    "execution": {
     "iopub.execute_input": "2024-07-18T15:15:31.957868Z",
     "iopub.status.busy": "2024-07-18T15:15:31.957868Z",
     "iopub.status.idle": "2024-07-18T15:15:31.965611Z",
     "shell.execute_reply": "2024-07-18T15:15:31.965611Z"
    }
   },
   "outputs": [],
   "source": [
    "df_indicador_1_contrato = pd.merge(left=df_hitos_ut,\n",
    "    right=df_terrenosBCGS_w_UI_indicador_1,\n",
    "    left_on = 'Hito',\n",
    "    right_on = 'Meta_Hito',\n",
    "    how=\"inner\")\n",
    "\n",
    "df_indicador_1_contrato_reducido = df_indicador_1_contrato[columnas_reducion_indicador_1]\n",
    "\n",
    "df_indicador_1_contrato_reducido = df_indicador_1_contrato_reducido.copy()\n",
    "\n",
    "df_indicador_1_contrato_reducido['porcentaje_visitado_bcgs'] = ((df_indicador_1_contrato_reducido['hectareaje_visitado_bcgs'] / df_indicador_1_contrato_reducido['Area_Ha_Contractual']) * 100).round(4)\n",
    "df_indicador_1_contrato_reducido['hectareaje_predios_finalizados'] = 0\n",
    "\n",
    "df_indicador_1_contrato_reducido"
   ]
  },
  {
   "cell_type": "code",
   "execution_count": null,
   "metadata": {
    "execution": {
     "iopub.execute_input": "2024-07-18T15:15:31.965611Z",
     "iopub.status.busy": "2024-07-18T15:15:31.965611Z",
     "iopub.status.idle": "2024-07-18T15:15:31.972284Z",
     "shell.execute_reply": "2024-07-18T15:15:31.972284Z"
    }
   },
   "outputs": [],
   "source": [
    "df_terrenosBCGS_w_UI_indicador_2['Area_Ha_CTM12_UI'] = df_terrenosBCGS_w_UI_indicador_2['Area_Ha_CTM12_UI'].round(3)\n",
    "df_terrenosBCGS_w_UI_indicador_2['porcentaje_visitado_bcgs'] = ((df_terrenosBCGS_w_UI_indicador_2['hectareaje_visitado_bcgs'] / df_terrenosBCGS_w_UI_indicador_2['Area_Ha_CTM12_UI']) * 100).round(4)\n",
    "df_terrenosBCGS_w_UI_indicador_2['hectareaje_predios_finalizados'] = 0\n",
    "\n",
    "df_terrenosBCGS_w_UI_indicador_2"
   ]
  },
  {
   "cell_type": "markdown",
   "metadata": {},
   "source": [
    "<h3>Generación XLSX</h3>"
   ]
  },
  {
   "cell_type": "code",
   "execution_count": null,
   "metadata": {
    "execution": {
     "iopub.execute_input": "2024-07-18T15:15:31.972284Z",
     "iopub.status.busy": "2024-07-18T15:15:31.972284Z",
     "iopub.status.idle": "2024-07-18T15:15:31.989943Z",
     "shell.execute_reply": "2024-07-18T15:15:31.989943Z"
    }
   },
   "outputs": [],
   "source": [
    "with pd.ExcelWriter(RUTA_2_2_4, engine='xlsxwriter') as writer:\n",
    "    df_indicador_1_contrato_reducido.to_excel(writer, sheet_name='Indicador_1', index=False)\n",
    "    df_terrenosBCGS_w_UI_indicador_2.to_excel(writer, sheet_name='Indicador_2', index=False)\n",
    "\n",
    "print(\"Finaliza la exportación del XLSX\")"
   ]
  }
 ],
 "metadata": {
  "kernelspec": {
   "display_name": "Python 3",
   "language": "python",
   "name": "python3"
  },
  "language_info": {
   "codemirror_mode": {
    "name": "ipython",
    "version": 3
   },
   "file_extension": ".py",
   "mimetype": "text/x-python",
   "name": "python",
   "nbconvert_exporter": "python",
   "pygments_lexer": "ipython3",
   "version": "3.11.8"
  }
 },
 "nbformat": 4,
 "nbformat_minor": 2
}
