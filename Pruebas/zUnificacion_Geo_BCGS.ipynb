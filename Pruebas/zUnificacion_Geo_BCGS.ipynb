{
 "cells": [
  {
   "cell_type": "code",
   "execution_count": 12,
   "metadata": {},
   "outputs": [],
   "source": [
    "import pandas as pd\n",
    "import os\n",
    "import seaborn as sns\n",
    "import shutil\n",
    "\n",
    "os.environ[\"CRYPTOGRAPHY_OPENSSL_NO_LEGACY\"] = \"yes\"\n",
    "\n",
    "# ? Se usa para generar gráficos\n",
    "import matplotlib.pyplot as plt\n",
    "\n",
    "# ? Se usa para determina la fecha de ejecución del proceso dentro del export de los resultados estadísticos\n",
    "from datetime import datetime\n",
    "\n",
    "# ? Conexión a BD Postgres. Se usa dado que pandas no acepta sino este paquete para la conexión.\n",
    "from sqlalchemy import create_engine, text\n",
    "\n",
    "from datetime  import datetime as dt\n",
    "\n",
    "from arcgis.features import GeoAccessor, GeoSeriesAccessor\n",
    "import arcpy\n",
    "\n",
    "from pathlib import Path\n",
    "\n",
    "# ** Librerías propias"
   ]
  },
  {
   "cell_type": "code",
   "execution_count": 13,
   "metadata": {},
   "outputs": [],
   "source": [
    "arcpy.env.overwriteOutput = True\n",
    "\n",
    "# TODO: Base de Datos Corporativa\n",
    "bd_local = r\"C:\\docsProyectos\\5.RAISS\\2024.0.RAISS_Lote_4\\6.Hitos\\E2_Informes_Id_FisicoJuridica\\2_2_10_TerrenosBCGS\\2_2_10_TerrenosBCGS.gdb\""
   ]
  },
  {
   "cell_type": "code",
   "execution_count": 14,
   "metadata": {},
   "outputs": [
    {
     "name": "stdout",
     "output_type": "stream",
     "text": [
      "Se unifica bcgs_geo_m442_r_lc_terreno en -bcgs_lc_terreno-\n",
      "Se unifica bcgs_geo_m442_u_lc_terreno en -bcgs_lc_terreno-\n",
      "Se unifica bcgs_geo_m606_r_lc_terreno en -bcgs_lc_terreno-\n",
      "Se unifica bcgs_geo_m606_u_lc_terreno en -bcgs_lc_terreno-\n"
     ]
    }
   ],
   "source": [
    "\n",
    "arcpy.env.workspace = bd_local\n",
    "\n",
    "\n",
    "# TODO: Trucado Capa Objetivo (Target)\n",
    "capa_objetivo = 'bcgs_lc_terreno'\n",
    "for capa in arcpy.ListFeatureClasses(wild_card=capa_objetivo):\n",
    "    arcpy.TruncateTable_management(capa)\n",
    "\n",
    "for capa in arcpy.ListFeatureClasses():\n",
    "    if capa != capa_objetivo:\n",
    "        try:\n",
    "            arcpy.Append_management(inputs=capa,target=capa_objetivo,schema_type='TEST')\n",
    "            print(f\"Se unifica {capa} en -{capa_objetivo}-\")\n",
    "        except arcpy.ExecuteError as e:\n",
    "            print(f\"Error al exportar la capa {capa}: {e}\")"
   ]
  },
  {
   "cell_type": "code",
   "execution_count": null,
   "metadata": {},
   "outputs": [],
   "source": []
  }
 ],
 "metadata": {
  "kernelspec": {
   "display_name": "Python 3",
   "language": "python",
   "name": "python3"
  },
  "language_info": {
   "codemirror_mode": {
    "name": "ipython",
    "version": 3
   },
   "file_extension": ".py",
   "mimetype": "text/x-python",
   "name": "python",
   "nbconvert_exporter": "python",
   "pygments_lexer": "ipython3",
   "version": "3.11.8"
  }
 },
 "nbformat": 4,
 "nbformat_minor": 2
}
