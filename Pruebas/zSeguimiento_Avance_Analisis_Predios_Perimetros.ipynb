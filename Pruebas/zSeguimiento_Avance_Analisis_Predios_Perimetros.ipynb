{
 "cells": [
  {
   "cell_type": "code",
   "execution_count": null,
   "metadata": {},
   "outputs": [],
   "source": [
    "import pandas as pd\n",
    "import os\n",
    "import seaborn as sns\n",
    "import shutil\n",
    "\n",
    "os.environ[\"CRYPTOGRAPHY_OPENSSL_NO_LEGACY\"] = \"yes\"\n",
    "\n",
    "# ? Se usa para generar gráficos\n",
    "import matplotlib.pyplot as plt\n",
    "\n",
    "# ? Se usa para determina la fecha de ejecución del proceso dentro del export de los resultados estadísticos\n",
    "from datetime import datetime\n",
    "\n",
    "# ? Conexión a BD Postgres. Se usa dado que pandas no acepta sino este paquete para la conexión.\n",
    "from sqlalchemy import create_engine, text\n",
    "\n",
    "from datetime  import datetime as dt\n",
    "\n",
    "from arcgis.features import GeoAccessor, GeoSeriesAccessor\n",
    "import arcpy\n",
    "\n",
    "from pathlib import Path\n",
    "\n",
    "# ** Librerías propias\n",
    "import funcion_dataframe_terrenos"
   ]
  },
  {
   "cell_type": "code",
   "execution_count": null,
   "metadata": {},
   "outputs": [],
   "source": [
    "RUTA_PREDIOS_GLOBALES = r\"C:\\docsProyectos\\5.RAISS\\2024.0.RAISS_Lote_4\\6.Hitos\\zApoyo_A_Equipos\\zApoyoEquipoJuridico\\9.Analisis_Predios_LimiteAdministrativo\\zInsumos\\predios_en_limite_administrativo.xlsx\"\n",
    "NOMBRE_HOJA = 'Predios En Límite Administrativ'\n",
    "\n",
    "DIRECTORIO_SALIDA_CSV_SEGUIMIENTO = r\"C:\\docsProyectos\\5.RAISS\\2024.0.RAISS_Lote_4\\6.Hitos\\zApoyo_A_Equipos\\zApoyoEquipoJuridico\\9.Analisis_Predios_LimiteAdministrativo\\zInsumos\"\n",
    "NOMBRE_CSV_SEGUIMIENTO = 'Seguimiento_Avance_Verificacion_Predios_Vs_LimiteAdministrativo.csv'\n",
    "\n",
    "tipo_campos_predios_globales = {'NUMERO_PREDIAL':str,\n",
    "    'CODIGO_TERRENO':str,\n",
    "    'CODIGO_MUNICIPIO':str,\n",
    "    'MATRICULA_INMOBILIARIA':str,\n",
    "    'TERRENO':str,\n",
    "    'CODIGO_MAN_VEREDA':str,\n",
    "    'NUMERO_DOCUMENTO':str,\n",
    "    'Area_ha_cmt12':float}"
   ]
  },
  {
   "cell_type": "code",
   "execution_count": null,
   "metadata": {},
   "outputs": [],
   "source": [
    "df_predGlobalesSobreLimite = pd.read_excel(RUTA_PREDIOS_GLOBALES, sheet_name=NOMBRE_HOJA, dtype=tipo_campos_predios_globales)\n",
    "df_predGlobalesSobreLimite['Analizado'] = None\n",
    "df_predGlobalesSobreLimite"
   ]
  },
  {
   "cell_type": "code",
   "execution_count": null,
   "metadata": {},
   "outputs": [],
   "source": [
    "sheet_name = 'Predio_LimiteAdministrativo_MariaLaBaja'\n",
    "sheet_id = '142IZnazQhFzVKgMGvozYSMnFGqoU_QwBVx1yWavGZqA'\n",
    "\n",
    "\n",
    "url = f\"https://docs.google.com/spreadsheets/d/{sheet_id}/gviz/tq?tqx=out:csv&sheet={sheet_name}\"\n",
    "\n",
    "df_prediosAnalizadosLimites = pd.read_csv(url)\n",
    "df_prediosAnalizadosLimites = pd.DataFrame(df_prediosAnalizadosLimites['CODIGO'])"
   ]
  },
  {
   "cell_type": "code",
   "execution_count": null,
   "metadata": {},
   "outputs": [],
   "source": [
    "df_cruce_total_vs_analizado = pd.merge(\n",
    "    left=df_predGlobalesSobreLimite,\n",
    "    right=df_prediosAnalizadosLimites,\n",
    "    left_on='CODIGO_TERRENO',\n",
    "    right_on='CODIGO',\n",
    "    how='left'\n",
    "    )"
   ]
  },
  {
   "cell_type": "code",
   "execution_count": null,
   "metadata": {},
   "outputs": [],
   "source": [
    "df_cruce_total_vs_analizado.loc[df_cruce_total_vs_analizado['CODIGO'].notnull(),'Analizado'] = 'SI'\n",
    "df_cruce_total_vs_analizado.loc[df_cruce_total_vs_analizado['CODIGO'].notnull(),'Analizado'] = 'SI'\n",
    "\n",
    "df_cruce_total_vs_analizado['Area_ha_cmt12'] = df_cruce_total_vs_analizado['Area_ha_cmt12'].round(3)"
   ]
  },
  {
   "cell_type": "code",
   "execution_count": null,
   "metadata": {},
   "outputs": [],
   "source": [
    "\n",
    "ruta_salida_csv = os.path.join(DIRECTORIO_SALIDA_CSV_SEGUIMIENTO, NOMBRE_CSV_SEGUIMIENTO)\n",
    "df_cruce_total_vs_analizado.to_csv(ruta_salida_csv)\n",
    "print(f\"Se crea CSV Seguimiento {NOMBRE_CSV_SEGUIMIENTO}\")"
   ]
  }
 ],
 "metadata": {
  "kernelspec": {
   "display_name": "Python 3",
   "language": "python",
   "name": "python3"
  },
  "language_info": {
   "codemirror_mode": {
    "name": "ipython",
    "version": 3
   },
   "file_extension": ".py",
   "mimetype": "text/x-python",
   "name": "python",
   "nbconvert_exporter": "python",
   "pygments_lexer": "ipython3",
   "version": "3.11.8"
  }
 },
 "nbformat": 4,
 "nbformat_minor": 2
}
