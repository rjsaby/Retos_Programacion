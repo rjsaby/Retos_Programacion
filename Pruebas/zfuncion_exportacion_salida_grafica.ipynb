{
 "cells": [
  {
   "cell_type": "code",
   "execution_count": 1,
   "metadata": {},
   "outputs": [],
   "source": [
    "import os, arcpy\n",
    "from datetime import datetime as dt"
   ]
  },
  {
   "cell_type": "code",
   "execution_count": 2,
   "metadata": {},
   "outputs": [],
   "source": [
    "def exportacion_salida_grafica(nLayout):\n",
    "    # TODO: Parametrización de Variables\n",
    "\n",
    "    # ? Configuración del acceso al proyecto PRO.\n",
    "\n",
    "    # ** Se define la ruta del proyecto de PRO (extensión .aprx)\n",
    "    RUTA_PROYECTO_PRO = r\"C:\\docsProyectos\\5.RAISS\\2024.0.RAISS_Lote_4\\1.GIS\\1.2.PRO\\RAISS_Lote_4\\RAISS_Lote_4.aprx\"\n",
    "\n",
    "    # ** Se establece en el entorno de trabajo\n",
    "    arcpy.env.workspace = RUTA_PROYECTO_PRO\n",
    "\n",
    "    # ** Se accede por código al proyecto .aprx del proyecto, se crea un objeto de tipo proyecto\n",
    "    aprx = arcpy.mp.ArcGISProject(arcpy.env.workspace)\n",
    "\n",
    "    # ** Ruta de exportación del JPEG\n",
    "    ruta_jpeg = r\"C:\\docsProyectos\\5.RAISS\\2024.0.RAISS_Lote_4\\6.Hitos\\E2_Informes_Id_FisicoJuridica\\2_2_6_Indicador_Edicion_Geografica\\Salidas_Graficas\"\n",
    "\n",
    "    fecha = dt.now()\n",
    "    fecha_jpeg = str(fecha.strftime(\"%Y%m%d\"))\n",
    "\n",
    "    ruta_salida_jpeg = os.path.join(ruta_jpeg, fecha_jpeg)\n",
    "\n",
    "    NOMBRE = nLayout\n",
    "    resolution = 300\n",
    "    page_range_type = 'ALL'\n",
    "    multiple_files = 'PDF_MULTIPLE_FILES_PAGE_NAME'\n",
    "    image_quality = 'BEST'\n",
    "\n",
    "    # TODO: Acceso a los Layouts y selcción del indicado para exportar\n",
    "    # ** Se listan los Layouts generados en el proyecto\n",
    "    for i in aprx.listLayouts():        \n",
    "        if i.name == NOMBRE:\n",
    "            mapSerie = i.mapSeries\n",
    "            if isinstance(mapSerie, arcpy._mp.MapSeries):\n",
    "                if mapSerie.enabled:\n",
    "                    print(f'Nombre Layout: {i.name}')\n",
    "                    mapSerie.refresh()\n",
    "                    mapSerie.exportToPDF(ruta_salida_jpeg, \n",
    "                                         resolution = resolution,\n",
    "                                         page_range_type = page_range_type,\n",
    "                                         multiple_files = multiple_files,\n",
    "                                         image_quality = image_quality)\n",
    "                    print(f\"Se exporta a PDF {i.name}\")"
   ]
  },
  {
   "cell_type": "code",
   "execution_count": 3,
   "metadata": {},
   "outputs": [
    {
     "name": "stdout",
     "output_type": "stream",
     "text": [
      "Nombre Layout: Gestión Cambios - Equipo SIG\n",
      "Se exporta a PDF Gestión Cambios - Equipo SIG\n"
     ]
    }
   ],
   "source": [
    "exportacion_salida_grafica('Gestión Cambios - Equipo SIG')"
   ]
  }
 ],
 "metadata": {
  "kernelspec": {
   "display_name": "Python 3",
   "language": "python",
   "name": "python3"
  },
  "language_info": {
   "codemirror_mode": {
    "name": "ipython",
    "version": 3
   },
   "file_extension": ".py",
   "mimetype": "text/x-python",
   "name": "python",
   "nbconvert_exporter": "python",
   "pygments_lexer": "ipython3",
   "version": "3.11.8"
  }
 },
 "nbformat": 4,
 "nbformat_minor": 2
}
