{
 "cells": [
  {
   "cell_type": "code",
   "execution_count": 3,
   "metadata": {},
   "outputs": [],
   "source": [
    "import pandas as pd\n",
    "import os\n",
    "import seaborn as sns\n",
    "\n",
    "os.environ[\"CRYPTOGRAPHY_OPENSSL_NO_LEGACY\"] = \"yes\"\n",
    "\n",
    "# ? Se usa para generar gráficos\n",
    "import matplotlib.pyplot as plt\n",
    "\n",
    "# ? Se usa para determina la fecha de ejecución del proceso dentro del export de los resultados estadísticos\n",
    "from datetime import datetime\n",
    "\n",
    "# ? Conexión a BD Postgres. Se usa dado que pandas no acepta sino este paquete para la conexión.\n",
    "from sqlalchemy import create_engine, text\n",
    "\n",
    "from datetime import datetime as df\n",
    "\n",
    "from arcgis.features import GeoAccessor, GeoSeriesAccessor\n",
    "import arcpy\n",
    "\n",
    "from pathlib import Path\n",
    "\n",
    "# ** Importación Funciones Propias\n",
    "\n",
    "url = f\"https://docs.google.com/spreadsheets/d/1T3B-Cnkje56tDg8xJ9BirIit57EmcPCu2m9BHanDPgo/gviz/tq?tqx=out:csv&sheet=CONTROL_CAMBIOS_REPELON\"\n",
    "\n",
    "ruta_relacion_terreno_ui = r\"C:\\docsProyectos\\5.RAISS\\2024.0.RAISS_Lote_4\\6.Hitos\\E1_Alistamiento_Diagnostico\\3_Disposicion\\1.BD_Consolidada\\BD_Consolidada_Lote4.gdb\\relacion_terreno_ui\"\n",
    "ui = r\"C:\\docsProyectos\\5.RAISS\\2024.0.RAISS_Lote_4\\6.Hitos\\O_Apoyo_Construccion_UIntervencion\\UI_Finales\\UI_Finales.gdb\\UI_Unificadas\\UI_Unificadas\"\n",
    "\n",
    "municipio = 'Repelon'\n",
    "\n",
    "# TODO: Ruta para la generación de reportes.\n",
    "DIRECTORIO_RESULTADOS = r\"C:\\docsProyectos\\5.RAISS\\2024.0.RAISS_Lote_4\\6.Hitos\\E2_Informes_Id_FisicoJuridica\\2_2_6_Indicador_Edicion_Geografica\\zReportes\"\n",
    "NOMBRE_XLSX = 'seguimiento_edicionGeo_'+municipio+'.xlsx'\n",
    "ruta_edicion_xlsx = os.path.join(DIRECTORIO_RESULTADOS,NOMBRE_XLSX)\n",
    "\n",
    "# TODO: Ruta donde se almacenará las geometrías de los terrenos con alguna labor de edición.\n",
    "DIRECTORIO_BD_2_2_6 = r\"C:\\docsProyectos\\5.RAISS\\2024.0.RAISS_Lote_4\\6.Hitos\\E2_Informes_Id_FisicoJuridica\\2_2_6_Indicador_Edicion_Geografica\\Base_Datos\\2_2_6.gdb\"\n",
    "NOMBRE_FC = 'terrenos_editados_'+municipio\n",
    "ruta_fc_estadistico = os.path.join(DIRECTORIO_BD_2_2_6, NOMBRE_FC)\n",
    "\n",
    "# TODO: LLaamada a la capa de Terrenos Final\n",
    "terrenosXhito = r\"C:\\docsProyectos\\5.RAISS\\2024.0.RAISS_Lote_4\\6.Hitos\\E1_Alistamiento_Diagnostico\\3_Disposicion\\1.BD_Consolidada\\BD_Consolidada_Lote4.gdb\\Analitica_UT_Consolidada\\TERRENO_POR_HITO\"\n",
    "df_terrenos = pd.DataFrame.spatial.from_featureclass(terrenosXhito)\n"
   ]
  },
  {
   "cell_type": "code",
   "execution_count": 4,
   "metadata": {},
   "outputs": [
    {
     "name": "stdout",
     "output_type": "stream",
     "text": [
      "Registros NO espacializados: 0\n",
      "Se genera FC asociado a terrenos editados, para el municipio Repelon\n",
      "Se genera el excel para el municipio de Repelon\n"
     ]
    }
   ],
   "source": [
    "control_cambios_esig_original = pd.read_csv(url)\n",
    "\n",
    "# TODO: Se estandariza el DataFrame construido a partir del Sheet\n",
    "columnas_seleccion = ['Codigo terreno','Editor SIG','Ajuste Geografico']\n",
    "control_cambios_esig_filtro = control_cambios_esig_original[columnas_seleccion]\n",
    "\n",
    "# TODO: Se filtran todas las columnas editadas (no tienen en cuenta las en blanco, que se entienden no revisadas por SIG)\n",
    "control_cambios_esig_ajustados = control_cambios_esig_filtro[(control_cambios_esig_filtro['Ajuste Geografico'].notna()|\n",
    "        control_cambios_esig_filtro['Ajuste Geografico'].notnull())]\n",
    "\n",
    "# TODO: A la capa del Sheet se le lleva las geometrías de Terrenos Finales\n",
    "df_cambios_terrenos = pd.merge(left=control_cambios_esig_ajustados, \n",
    "    right=df_terrenos, \n",
    "    left_on=\"Codigo terreno\", \n",
    "    right_on=\"codigo\",\n",
    "    how=\"left\"\n",
    ")\n",
    "\n",
    "print(f\"Registros NO espacializados: {(df_cambios_terrenos[df_cambios_terrenos['SHAPE'].isnull()]).shape[0]}\")\n",
    "\n",
    "# TODO: Parametrización de columnas Terrenos Finales con Cambios SIG\n",
    "columnas_parametrizacion = ['codigo','codigo_anterior','Editor SIG','Ajuste Geografico','nombre_municipio','id_ui','meta_hito','area_ha_cmt12','SHAPE']\n",
    "df_cambios_terrenos = df_cambios_terrenos[columnas_parametrizacion]\n",
    "\n",
    "# TODO: Se exporta la capa geográfica con todos los datos espacializados cargados en el Sheet y con procesos de Edición SIG\n",
    "df_cambios_terrenos.spatial.to_featureclass(location=ruta_fc_estadistico)\n",
    "print(f\"Se genera FC asociado a terrenos editados, para el municipio {municipio}\")\n",
    "\n",
    "# TODO: Cálculo de estadísticos, municipio, meta_hito y con la sumatoria de las áreas.\n",
    "df_estadistico_cambio_x_ui = (pd.DataFrame(df_cambios_terrenos.groupby(['nombre_municipio','meta_hito','id_ui'])['area_ha_cmt12'].sum()).reset_index()).rename(columns={'area_ha_cmt12':'area_editada_'+municipio})\n",
    "df_estadistico_cambio_x_ui['area_editada_'+municipio] = df_estadistico_cambio_x_ui['area_editada_'+municipio].round(3)\n",
    "\n",
    "with pd.ExcelWriter(ruta_edicion_xlsx, engine='xlsxwriter') as writer:\n",
    "    df_estadistico_cambio_x_ui.to_excel(writer, sheet_name='Area_Editada_X_Hito')\n",
    "print(f\"Se genera el excel para el municipio de {municipio}\")"
   ]
  }
 ],
 "metadata": {
  "kernelspec": {
   "display_name": "Python 3",
   "language": "python",
   "name": "python3"
  },
  "language_info": {
   "codemirror_mode": {
    "name": "ipython",
    "version": 3
   },
   "file_extension": ".py",
   "mimetype": "text/x-python",
   "name": "python",
   "nbconvert_exporter": "python",
   "pygments_lexer": "ipython3",
   "version": "3.11.8"
  }
 },
 "nbformat": 4,
 "nbformat_minor": 2
}
