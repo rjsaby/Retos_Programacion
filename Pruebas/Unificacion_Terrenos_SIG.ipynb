{
 "cells": [
  {
   "cell_type": "code",
   "execution_count": 38,
   "metadata": {},
   "outputs": [],
   "source": [
    "import pandas as pd\n",
    "import os\n",
    "import seaborn as sns\n",
    "\n",
    "os.environ[\"CRYPTOGRAPHY_OPENSSL_NO_LEGACY\"] = \"yes\"\n",
    "\n",
    "# ? Se usa para generar gráficos\n",
    "import matplotlib.pyplot as plt\n",
    "\n",
    "# ? Se usa para determina la fecha de ejecución del proceso dentro del export de los resultados estadísticos\n",
    "from datetime import datetime\n",
    "\n",
    "# ? Conexión a BD Postgres. Se usa dado que pandas no acepta sino este paquete para la conexión.\n",
    "from sqlalchemy import create_engine, text\n",
    "\n",
    "from datetime  import datetime as dt\n",
    "\n",
    "from arcgis.features import GeoAccessor, GeoSeriesAccessor\n",
    "import arcpy\n",
    "\n",
    "from pathlib import Path\n",
    "\n",
    "arcpy.env.overwriteOutput = True\n",
    "\n",
    "# ** Librerías propias\n"
   ]
  },
  {
   "cell_type": "code",
   "execution_count": 39,
   "metadata": {},
   "outputs": [],
   "source": [
    "RUTA_BD_CONSOLIDADA_NUBE = r\"C:\\Users\\rodian.saby\\OneDrive\\Documentos\\docsProyectos\\5.RAISS\\2024.0.RAISS_Lote_4\\6.Hitos\\E1_Alistamiento_Diagnostico\\3_Disposicion\\1.BD_Consolidada\\BD_Consolidada_Lote4.gdb\\Consolidacion_ES\\_con_r_lc_terreno\"\n",
    "RUTA_TERRENOS_GC = r\"C:\\docsProyectos\\5.RAISS\\2024.0.RAISS_Lote_4\\6.Hitos\\E1_Alistamiento_Diagnostico\\3_Disposicion\\1.BD_Consolidada\\BD_Consolidada_Lote4.gdb\\Analitica_UT_Consolidada\\TERRENO_UNIFICADO\"\n",
    "\n",
    "BD_CONSOLIDADA_LOCAL = r\"C:\\docsProyectos\\5.RAISS\\2024.0.RAISS_Lote_4\\6.Hitos\\E1_Alistamiento_Diagnostico\\3_Disposicion\\1.BD_Consolidada\\BD_Consolidada_Lote4.gdb\\Analitica_UT_Consolidada\"\n",
    "CAPA_TERRENOS_W_GIS = 'TERRENO_UNIFICADO_w_GIS'\n",
    "ruta_fc_terrenos_w_gis = os.path.join(BD_CONSOLIDADA_LOCAL,CAPA_TERRENOS_W_GIS)"
   ]
  },
  {
   "cell_type": "code",
   "execution_count": 40,
   "metadata": {},
   "outputs": [],
   "source": [
    "df_terrenos_gis = pd.DataFrame.spatial.from_featureclass(RUTA_BD_CONSOLIDADA_NUBE)\n",
    "df_terrenos_gc = pd.DataFrame.spatial.from_featureclass(RUTA_TERRENOS_GC)\n",
    "\n",
    "columna_creacion_terrenos_gis = {'codigo_anterior':None}\n",
    "\n",
    "columnas_seleccion_terrenos_gis = ['terreno_codigo',\n",
    "    'codigo_anterior',\n",
    "    'created_user',\n",
    "    'last_edited_user',\n",
    "    'last_edited_date',\n",
    "    'globalid',\n",
    "    'Area_ha_cmt12',\n",
    "    'SHAPE'\n",
    "    ]\n",
    "\n",
    "renombre_columnas_terrenos_gis = {\n",
    "    'terreno_codigo':'codigo',\n",
    "    'created_user':'sig_creador',\n",
    "    'last_edited_user':'sig_ultima_edicion',\n",
    "    'last_edited_date':'fecha_ultima_edicion',\n",
    "    'Area_ha_cmt12':'area_ha_cmt12'\n",
    "    }\n",
    "\n",
    "creacion_columnas_no_editado = {\n",
    "    'sig_creador':None,\n",
    "    'sig_ultima_edicion':None,\n",
    "    'fecha_ultima_edicion':None,\n",
    "    'globalid':None,\n",
    "    }\n",
    "\n",
    "columnas_normalizacion_terreno_no_editado = ['codigo',\n",
    "    'codigo_anterior',\n",
    "    'area_ha_cmt12',\n",
    "    'SHAPE_x'\n",
    "    ]\n",
    "\n",
    "columnas_reorganizacion_no_editado = ['codigo',\n",
    "    'codigo_anterior',\n",
    "    'sig_creador',\n",
    "    'sig_ultima_edicion',\n",
    "    'fecha_ultima_edicion',\n",
    "    'globalid',\n",
    "    'area_ha_cmt12',\n",
    "    'SHAPE_x'\n",
    "    ]"
   ]
  },
  {
   "cell_type": "code",
   "execution_count": 41,
   "metadata": {},
   "outputs": [
    {
     "data": {
      "text/html": [
       "<div>\n",
       "<style scoped>\n",
       "    .dataframe tbody tr th:only-of-type {\n",
       "        vertical-align: middle;\n",
       "    }\n",
       "\n",
       "    .dataframe tbody tr th {\n",
       "        vertical-align: top;\n",
       "    }\n",
       "\n",
       "    .dataframe thead th {\n",
       "        text-align: right;\n",
       "    }\n",
       "</style>\n",
       "<table border=\"1\" class=\"dataframe\">\n",
       "  <thead>\n",
       "    <tr style=\"text-align: right;\">\n",
       "      <th></th>\n",
       "      <th>OBJECTID</th>\n",
       "      <th>codigo</th>\n",
       "      <th>codigo_anterior</th>\n",
       "      <th>area_ha_cmt12</th>\n",
       "      <th>SHAPE</th>\n",
       "    </tr>\n",
       "  </thead>\n",
       "  <tbody>\n",
       "    <tr>\n",
       "      <th>0</th>\n",
       "      <td>1</td>\n",
       "      <td>086060002000000000077000000000</td>\n",
       "      <td>08606000200000077000</td>\n",
       "      <td>20.362073</td>\n",
       "      <td>{\"rings\": [[[4773313.9249, 2723147.2433], [477...</td>\n",
       "    </tr>\n",
       "    <tr>\n",
       "      <th>1</th>\n",
       "      <td>2</td>\n",
       "      <td>086060002000000000001000000000</td>\n",
       "      <td>08606000200000001000</td>\n",
       "      <td>84.724294</td>\n",
       "      <td>{\"rings\": [[[4768164.8455, 2730405.9418], [476...</td>\n",
       "    </tr>\n",
       "    <tr>\n",
       "      <th>2</th>\n",
       "      <td>3</td>\n",
       "      <td>086060002000000000002000000000</td>\n",
       "      <td>08606000200000002000</td>\n",
       "      <td>382.896327</td>\n",
       "      <td>{\"rings\": [[[4771587.4849, 2729015.0273], [477...</td>\n",
       "    </tr>\n",
       "    <tr>\n",
       "      <th>3</th>\n",
       "      <td>4</td>\n",
       "      <td>086060002000000000003000000000</td>\n",
       "      <td>08606000200000003000</td>\n",
       "      <td>31.495322</td>\n",
       "      <td>{\"rings\": [[[4768325.4354, 2729083.0973000005]...</td>\n",
       "    </tr>\n",
       "    <tr>\n",
       "      <th>4</th>\n",
       "      <td>5</td>\n",
       "      <td>086060002000000000004000000000</td>\n",
       "      <td>08606000200000004000</td>\n",
       "      <td>43.230975</td>\n",
       "      <td>{\"rings\": [[[4767838.0119, 2729745.0450999998]...</td>\n",
       "    </tr>\n",
       "    <tr>\n",
       "      <th>...</th>\n",
       "      <td>...</td>\n",
       "      <td>...</td>\n",
       "      <td>...</td>\n",
       "      <td>...</td>\n",
       "      <td>...</td>\n",
       "    </tr>\n",
       "    <tr>\n",
       "      <th>39734</th>\n",
       "      <td>40010</td>\n",
       "      <td>080780100000001070007000000000</td>\n",
       "      <td>08078010001070007000</td>\n",
       "      <td>0.010442</td>\n",
       "      <td>{\"rings\": [[[4789783.365, 2751754.2195999995],...</td>\n",
       "    </tr>\n",
       "    <tr>\n",
       "      <th>39735</th>\n",
       "      <td>40011</td>\n",
       "      <td>080780100000001070021000000000</td>\n",
       "      <td>08078010001070021000</td>\n",
       "      <td>0.014832</td>\n",
       "      <td>{\"rings\": [[[4789789.4954, 2751753.0899], [478...</td>\n",
       "    </tr>\n",
       "    <tr>\n",
       "      <th>39736</th>\n",
       "      <td>40012</td>\n",
       "      <td>080780100000000090013000000000</td>\n",
       "      <td>08078010000090013000</td>\n",
       "      <td>0.004797</td>\n",
       "      <td>{\"rings\": [[[4790916.6702, 2752244.5452999994]...</td>\n",
       "    </tr>\n",
       "    <tr>\n",
       "      <th>39737</th>\n",
       "      <td>40013</td>\n",
       "      <td>080780100000000090006000000000</td>\n",
       "      <td>08078010000090006000</td>\n",
       "      <td>0.015991</td>\n",
       "      <td>{\"rings\": [[[4790924.6077, 2752240.383300001],...</td>\n",
       "    </tr>\n",
       "    <tr>\n",
       "      <th>39738</th>\n",
       "      <td>40016</td>\n",
       "      <td>080780100000000780003000000000</td>\n",
       "      <td>08078010000780003000</td>\n",
       "      <td>0.006417</td>\n",
       "      <td>{\"rings\": [[[4790711.6962, 2751760.3446999993]...</td>\n",
       "    </tr>\n",
       "  </tbody>\n",
       "</table>\n",
       "<p>39739 rows × 5 columns</p>\n",
       "</div>"
      ],
      "text/plain": [
       "       OBJECTID                          codigo       codigo_anterior  \\\n",
       "0             1  086060002000000000077000000000  08606000200000077000   \n",
       "1             2  086060002000000000001000000000  08606000200000001000   \n",
       "2             3  086060002000000000002000000000  08606000200000002000   \n",
       "3             4  086060002000000000003000000000  08606000200000003000   \n",
       "4             5  086060002000000000004000000000  08606000200000004000   \n",
       "...         ...                             ...                   ...   \n",
       "39734     40010  080780100000001070007000000000  08078010001070007000   \n",
       "39735     40011  080780100000001070021000000000  08078010001070021000   \n",
       "39736     40012  080780100000000090013000000000  08078010000090013000   \n",
       "39737     40013  080780100000000090006000000000  08078010000090006000   \n",
       "39738     40016  080780100000000780003000000000  08078010000780003000   \n",
       "\n",
       "       area_ha_cmt12                                              SHAPE  \n",
       "0          20.362073  {\"rings\": [[[4773313.9249, 2723147.2433], [477...  \n",
       "1          84.724294  {\"rings\": [[[4768164.8455, 2730405.9418], [476...  \n",
       "2         382.896327  {\"rings\": [[[4771587.4849, 2729015.0273], [477...  \n",
       "3          31.495322  {\"rings\": [[[4768325.4354, 2729083.0973000005]...  \n",
       "4          43.230975  {\"rings\": [[[4767838.0119, 2729745.0450999998]...  \n",
       "...              ...                                                ...  \n",
       "39734       0.010442  {\"rings\": [[[4789783.365, 2751754.2195999995],...  \n",
       "39735       0.014832  {\"rings\": [[[4789789.4954, 2751753.0899], [478...  \n",
       "39736       0.004797  {\"rings\": [[[4790916.6702, 2752244.5452999994]...  \n",
       "39737       0.015991  {\"rings\": [[[4790924.6077, 2752240.383300001],...  \n",
       "39738       0.006417  {\"rings\": [[[4790711.6962, 2751760.3446999993]...  \n",
       "\n",
       "[39739 rows x 5 columns]"
      ]
     },
     "execution_count": 41,
     "metadata": {},
     "output_type": "execute_result"
    }
   ],
   "source": [
    "df_terrenos_gc"
   ]
  },
  {
   "cell_type": "code",
   "execution_count": 42,
   "metadata": {},
   "outputs": [
    {
     "name": "stdout",
     "output_type": "stream",
     "text": [
      "39743\n"
     ]
    }
   ],
   "source": [
    "df_merge_terrenos_gc_gis = pd.merge(left=df_terrenos_gc,right=df_terrenos_gis,left_on=\"codigo\",right_on=\"terreno_codigo\",how=\"left\")\n",
    "print(f\"{df_merge_terrenos_gc_gis.shape[0]}\")"
   ]
  },
  {
   "cell_type": "code",
   "execution_count": 43,
   "metadata": {},
   "outputs": [
    {
     "name": "stdout",
     "output_type": "stream",
     "text": [
      "34658\n"
     ]
    }
   ],
   "source": [
    "df_terrenos_no_editados = df_merge_terrenos_gc_gis[df_merge_terrenos_gc_gis['terreno_codigo'].isnull()]\n",
    "print(f\"{df_terrenos_no_editados.shape[0]}\")"
   ]
  },
  {
   "cell_type": "code",
   "execution_count": 44,
   "metadata": {},
   "outputs": [],
   "source": [
    "\n",
    "for llave, valor in columna_creacion_terrenos_gis.items():\n",
    "    df_terrenos_gis[llave] = valor\n",
    "\n",
    "df_terrenos_gis = df_terrenos_gis[columnas_seleccion_terrenos_gis]\n",
    "df_terrenos_gis = df_terrenos_gis.rename(columns=renombre_columnas_terrenos_gis)"
   ]
  },
  {
   "cell_type": "code",
   "execution_count": 45,
   "metadata": {},
   "outputs": [],
   "source": [
    "\n",
    "\n",
    "columna_renombre_no_editado = {'SHAPE_x':'SHAPE'}\n",
    "\n",
    "df_terrenos_no_editados = df_terrenos_no_editados[columnas_normalizacion_terreno_no_editado]\n",
    "\n",
    "df_terrenos_no_editados = df_terrenos_no_editados.copy()\n",
    "\n",
    "for llave, valor in creacion_columnas_no_editado.items():\n",
    "    df_terrenos_no_editados[llave] = valor\n",
    "\n",
    "df_terrenos_no_editados = df_terrenos_no_editados[columnas_reorganizacion_no_editado]\n",
    "\n",
    "df_terrenos_no_editados = df_terrenos_no_editados.rename(columns=columna_renombre_no_editado)"
   ]
  },
  {
   "cell_type": "code",
   "execution_count": 46,
   "metadata": {},
   "outputs": [
    {
     "name": "stdout",
     "output_type": "stream",
     "text": [
      "Se crea la capa TERRENO_UNIFICADO_w_GIS en BD \n",
      " C:\\docsProyectos\\5.RAISS\\2024.0.RAISS_Lote_4\\6.Hitos\\E1_Alistamiento_Diagnostico\\3_Disposicion\\1.BD_Consolidada\\BD_Consolidada_Lote4.gdb\\Analitica_UT_Consolidada\n"
     ]
    }
   ],
   "source": [
    "df_terrenos_unificado = pd.concat([df_terrenos_gis, df_terrenos_no_editados])\n",
    "\n",
    "df_terrenos_unificado.spatial.to_featureclass(location = ruta_fc_terrenos_w_gis)\n",
    "print(f\"Se crea la capa {CAPA_TERRENOS_W_GIS} en BD \\n {BD_CONSOLIDADA_LOCAL}\")"
   ]
  },
  {
   "cell_type": "code",
   "execution_count": 48,
   "metadata": {},
   "outputs": [
    {
     "name": "stdout",
     "output_type": "stream",
     "text": [
      "Se actualiza el campo de hectareaje\n"
     ]
    }
   ],
   "source": [
    "arcpy.env.workspace = BD_CONSOLIDADA_LOCAL\n",
    "\n",
    "\n",
    "for capa in arcpy.ListFeatureClasses(wild_card='TERRENO_UNIFICADO_w_GIS'):\n",
    "    for campo in arcpy.ListFields(dataset=capa, wild_card='area_ha_cmt12'):\n",
    "        arcpy.management.CalculateGeometryAttributes(in_features = capa, geometry_property = [[campo.name,'AREA']], area_unit='HECTARES')\n",
    "        print(f\"Se actualiza el campo de hectareaje\")"
   ]
  }
 ],
 "metadata": {
  "kernelspec": {
   "display_name": "Python 3",
   "language": "python",
   "name": "python3"
  },
  "language_info": {
   "codemirror_mode": {
    "name": "ipython",
    "version": 3
   },
   "file_extension": ".py",
   "mimetype": "text/x-python",
   "name": "python",
   "nbconvert_exporter": "python",
   "pygments_lexer": "ipython3",
   "version": "3.11.8"
  }
 },
 "nbformat": 4,
 "nbformat_minor": 2
}
