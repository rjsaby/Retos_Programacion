{
 "cells": [
  {
   "cell_type": "code",
   "execution_count": null,
   "metadata": {},
   "outputs": [],
   "source": [
    "# DIRECTORIO_XLSX = r\"C:\\docsProyectos\\5.RAISS\\2024.0.RAISS_Lote_4\\6.Hitos\\O_Apoyo_Construccion_UIntervencion\\UI_Finales\\Estadisticos\"\n",
    "# NOMBRE_XLSX = 'indicadores_base_ui_lote_4.xlsx'\n",
    "# RUTA_XLSX = os.path.join(DIRECTORIO_XLSX, NOMBRE_XLSX)"
   ]
  },
  {
   "cell_type": "code",
   "execution_count": null,
   "metadata": {},
   "outputs": [],
   "source": [
    "# df_estadisticos = pd.read_excel(RUTA_XLSX, sheet_name='hitos_por_asignacion')\n",
    "# df_estadisticos = df_estadisticos[columnas_estadisticos]\n",
    "# df_estadisticos = df_estadisticos.rename(columns={'Area_Ha_CMT12':'Area_UI_Ha_CTM12'})\n",
    "# df_estadisticos"
   ]
  }
 ],
 "metadata": {
  "language_info": {
   "name": "python"
  }
 },
 "nbformat": 4,
 "nbformat_minor": 2
}
