{
 "cells": [
  {
   "cell_type": "code",
   "execution_count": 1,
   "metadata": {},
   "outputs": [],
   "source": [
    "import pandas as pd\n",
    "import os\n",
    "import seaborn as sns\n",
    "import shutil\n",
    "\n",
    "os.environ[\"CRYPTOGRAPHY_OPENSSL_NO_LEGACY\"] = \"yes\"\n",
    "\n",
    "# ? Se usa para generar gráficos\n",
    "import matplotlib.pyplot as plt\n",
    "\n",
    "# ? Se usa para determina la fecha de ejecución del proceso dentro del export de los resultados estadísticos\n",
    "from datetime import datetime\n",
    "\n",
    "# ? Conexión a BD Postgres. Se usa dado que pandas no acepta sino este paquete para la conexión.\n",
    "from sqlalchemy import create_engine, text\n",
    "\n",
    "from datetime  import datetime as dt\n",
    "\n",
    "from arcgis.features import GeoAccessor, GeoSeriesAccessor\n",
    "import arcpy\n",
    "\n",
    "from pathlib import Path\n",
    "\n",
    "# ** Librerías propias"
   ]
  },
  {
   "cell_type": "code",
   "execution_count": 2,
   "metadata": {},
   "outputs": [],
   "source": [
    "arcpy.env.overwriteOutput = True\n",
    "\n",
    "# TODO: Base de Datos Corporativa\n",
    "bcgs_bdsde = r\"C:\\docsProyectos\\5.RAISS\\2024.0.RAISS_Lote_4\\1.GIS\\1.2.PRO\\RAISS_Lote_4\\PostgreSQL-44-bcgs_geo(rodian_consulta).sde\"\n",
    "bd_local = r\"C:\\docsProyectos\\5.RAISS\\2024.0.RAISS_Lote_4\\6.Hitos\\E2_Informes_Id_FisicoJuridica\\2_2_10_TerrenosBCGS\\2_2_10_TerrenosBCGS.gdb\"\n",
    "\n",
    "dict_capa_version = {'m442.210':['m442','bcgs_geo.m442.r_lc_terreno'], # ? Maria La Baja [Rural]\n",
    "    'm442.215':['m442','bcgs_geo.m442.u_lc_terreno'], # ? Maria La Baja [Urbano]\n",
    "    'm606.410':['m606','bcgs_geo.m606.r_lc_terreno'], # ? Repelón [Rural]\n",
    "    'm606.634':['m606','bcgs_geo.m606.u_lc_terreno'] # ? Repelón [Urbano]\n",
    "} "
   ]
  },
  {
   "cell_type": "code",
   "execution_count": 3,
   "metadata": {},
   "outputs": [
    {
     "name": "stdout",
     "output_type": "stream",
     "text": [
      "Capa bcgs_geo.m442.r_lc_terreno exportada correctamente a C:\\docsProyectos\\5.RAISS\\2024.0.RAISS_Lote_4\\6.Hitos\\E2_Informes_Id_FisicoJuridica\\2_2_10_TerrenosBCGS\\2_2_10_TerrenosBCGS.gdb\\bcgs_geo_m442_r_lc_terreno\n",
      "Capa bcgs_geo.m442.u_lc_terreno exportada correctamente a C:\\docsProyectos\\5.RAISS\\2024.0.RAISS_Lote_4\\6.Hitos\\E2_Informes_Id_FisicoJuridica\\2_2_10_TerrenosBCGS\\2_2_10_TerrenosBCGS.gdb\\bcgs_geo_m442_u_lc_terreno\n",
      "Capa bcgs_geo.m606.r_lc_terreno exportada correctamente a C:\\docsProyectos\\5.RAISS\\2024.0.RAISS_Lote_4\\6.Hitos\\E2_Informes_Id_FisicoJuridica\\2_2_10_TerrenosBCGS\\2_2_10_TerrenosBCGS.gdb\\bcgs_geo_m606_r_lc_terreno\n",
      "Capa bcgs_geo.m606.u_lc_terreno exportada correctamente a C:\\docsProyectos\\5.RAISS\\2024.0.RAISS_Lote_4\\6.Hitos\\E2_Informes_Id_FisicoJuridica\\2_2_10_TerrenosBCGS\\2_2_10_TerrenosBCGS.gdb\\bcgs_geo_m606_u_lc_terreno\n"
     ]
    }
   ],
   "source": [
    "\n",
    "arcpy.env.workspace = bcgs_bdsde\n",
    "\n",
    "for llave, valor in dict_capa_version.items():\n",
    "    for dataset in arcpy.ListDatasets():\n",
    "        if dataset == 'bcgs_geo.'+valor[0]+'.Areas_Catastrales':\n",
    "            for capa in arcpy.ListFeatureClasses(feature_dataset=dataset):\n",
    "                if capa == valor[1]:\n",
    "                    # TODO: La función de cambio de versión exige un layer_feature\n",
    "                    try:\n",
    "                        arcpy.MakeFeatureLayer_management(in_features=capa, out_layer='ly_'+capa)\n",
    "                        # TODO: Se hace el cambio de versión\n",
    "                        arcpy.management.ChangeVersion('ly_'+capa, version_type='TRANSACTIONAL', version_name=llave)\n",
    "\n",
    "                        # TODO: Se reemplaza los puntos para que permita copiar la capa\n",
    "                        \n",
    "                        renombre_capa = capa.replace('.','_')\n",
    "\n",
    "                        # TODO: Se parametriza la bd local donde se copiaran las capas asociadas a las versiones\n",
    "                        ruta_destino = os.path.join(bd_local,renombre_capa)\n",
    "                        # TODO: Se copian los datos\n",
    "                        arcpy.CopyFeatures_management(in_features='ly_'+capa, out_feature_class=ruta_destino)\n",
    "\n",
    "                        print(f\"Capa {capa} exportada correctamente a {ruta_destino}\")\n",
    "                    except arcpy.ExecuteError as e:\n",
    "                        print(f\"Error al exportar la capa {capa}: {e}\")\n",
    "                    "
   ]
  },
  {
   "cell_type": "code",
   "execution_count": null,
   "metadata": {},
   "outputs": [],
   "source": []
  }
 ],
 "metadata": {
  "kernelspec": {
   "display_name": "Python 3",
   "language": "python",
   "name": "python3"
  },
  "language_info": {
   "codemirror_mode": {
    "name": "ipython",
    "version": 3
   },
   "file_extension": ".py",
   "mimetype": "text/x-python",
   "name": "python",
   "nbconvert_exporter": "python",
   "pygments_lexer": "ipython3",
   "version": "3.11.8"
  }
 },
 "nbformat": 4,
 "nbformat_minor": 2
}
