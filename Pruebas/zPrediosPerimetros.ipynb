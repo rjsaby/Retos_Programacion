{
 "cells": [
  {
   "cell_type": "code",
   "execution_count": null,
   "metadata": {},
   "outputs": [],
   "source": [
    "import pandas as pd\n",
    "import os\n",
    "import seaborn as sns\n",
    "import shutil\n",
    "\n",
    "os.environ[\"CRYPTOGRAPHY_OPENSSL_NO_LEGACY\"] = \"yes\"\n",
    "\n",
    "# ? Se usa para generar gráficos\n",
    "import matplotlib.pyplot as plt\n",
    "\n",
    "# ? Se usa para determina la fecha de ejecución del proceso dentro del export de los resultados estadísticos\n",
    "from datetime import datetime\n",
    "\n",
    "# ? Conexión a BD Postgres. Se usa dado que pandas no acepta sino este paquete para la conexión.\n",
    "from sqlalchemy import create_engine, text\n",
    "\n",
    "from datetime  import datetime as dt\n",
    "\n",
    "from arcgis.features import GeoAccessor, GeoSeriesAccessor\n",
    "import arcpy\n",
    "\n",
    "from pathlib import Path\n",
    "\n",
    "# ** Librerías propias\n",
    "import funcion_dataframe_terrenos"
   ]
  },
  {
   "cell_type": "code",
   "execution_count": null,
   "metadata": {},
   "outputs": [],
   "source": [
    "estandarizacion_columnas_prediosLimites = ['CODIGO','MATRICULA','Busqueda_VUR_OBSERVACIONES']\n",
    "estandarizacion_columnas_terrenos = ['codigo','SHAPE']\n",
    "estandarizacion_prediosLTerrenos = ['codigo','MATRICULA','Busqueda_VUR_OBSERVACIONES','SHAPE']\n",
    "\n",
    "DIRECTORIO_BD = r\"C:\\docsProyectos\\5.RAISS\\2024.0.RAISS_Lote_4\\6.Hitos\\zApoyo_A_Equipos\\zApoyoEquipoJuridico\\9.Analisis_Predios_LimiteAdministrativo\\Base_Datos\\02_GeoLimAdmin.gdb\"\n",
    "nombre_capa_prediosLimites = 'prediosLimAdministrativosMariaLaBaja'\n",
    "RUTA_BD_CAPA_PREDIOS = os.path.join(DIRECTORIO_BD, nombre_capa_prediosLimites)"
   ]
  },
  {
   "cell_type": "code",
   "execution_count": null,
   "metadata": {},
   "outputs": [],
   "source": [
    "sheet_name = 'Predio_LimiteAdministrativo_MariaLaBaja'\n",
    "sheet_id = '142IZnazQhFzVKgMGvozYSMnFGqoU_QwBVx1yWavGZqA'\n",
    "\n",
    "\n",
    "url = f\"https://docs.google.com/spreadsheets/d/{sheet_id}/gviz/tq?tqx=out:csv&sheet={sheet_name}\"\n",
    "\n",
    "df_prediosLimites = pd.read_csv(url)\n",
    "df_prediosLimites = df_prediosLimites[estandarizacion_columnas_prediosLimites]"
   ]
  },
  {
   "cell_type": "code",
   "execution_count": null,
   "metadata": {},
   "outputs": [],
   "source": [
    "resultados = funcion_dataframe_terrenos.dataframe_terrenos()\n",
    "df_terrenos = resultados[0]\n",
    "df_terrenos = df_terrenos[estandarizacion_columnas_terrenos]"
   ]
  },
  {
   "cell_type": "code",
   "execution_count": null,
   "metadata": {},
   "outputs": [],
   "source": [
    "df_terrenos"
   ]
  },
  {
   "cell_type": "code",
   "execution_count": null,
   "metadata": {},
   "outputs": [],
   "source": [
    "df_predioLimites_terrenos = pd.merge(left=df_prediosLimites\n",
    "                                     ,right=df_terrenos\n",
    "                                     ,left_on='CODIGO'\n",
    "                                     ,right_on='codigo'\n",
    "                                     ,how='inner')\n",
    "\n",
    "print(f\"Registros Sheet: {df_prediosLimites.shape[0]}, Registros Cruzados Con Terrenos: {df_predioLimites_terrenos.shape[0]}\")"
   ]
  },
  {
   "cell_type": "code",
   "execution_count": null,
   "metadata": {},
   "outputs": [],
   "source": [
    "df_predioLimites_terrenos = df_predioLimites_terrenos[estandarizacion_prediosLTerrenos]\n",
    "\n",
    "df_predioLimites_terrenos.spatial.to_featureclass(location=RUTA_BD_CAPA_PREDIOS)\n",
    "print(f\"Capa {nombre_capa_prediosLimites} Exportada\")"
   ]
  },
  {
   "cell_type": "code",
   "execution_count": null,
   "metadata": {},
   "outputs": [],
   "source": [
    "RUTA_CAPA_TERRENOS = r\"C:\\docsProyectos\\5.RAISS\\2024.0.RAISS_Lote_4\\6.Hitos\\E1_Alistamiento_Diagnostico\\3_Disposicion\\1.BD_Consolidada\\BD_Consolidada_Lote4.gdb\\Analitica_UT_Consolidada\\MUNICIPIOS_LOTE4\"\n",
    "\n",
    "arcpy.env.workspace = DIRECTORIO_BD\n",
    "\n",
    "# ? Disolución Capa PrediosLimiteAdministrativo\n",
    "nomSalidaCapaDisuelta = 'D_prediosLimAdministrativosMariaLaBaja'\n",
    "arcpy.Dissolve_management(in_features=RUTA_BD_CAPA_PREDIOS, out_feature_class=nomSalidaCapaDisuelta)\n",
    "print(f\"Capa {nomSalidaCapaDisuelta} Disuelta\")"
   ]
  },
  {
   "cell_type": "code",
   "execution_count": null,
   "metadata": {},
   "outputs": [],
   "source": [
    "nomLineaMunicipio = 'L_LimiteAdministrativo'\n",
    "arcpy.PolygonToLine_management(in_features=RUTA_CAPA_TERRENOS, out_feature_class=nomLineaMunicipio)\n",
    "print(f\"Capa {nomLineaMunicipio} transformada en Línea\")"
   ]
  },
  {
   "cell_type": "code",
   "execution_count": null,
   "metadata": {},
   "outputs": [],
   "source": [
    "nomLimiteCorte = 'Clip_LimiteAdministrativo'\n",
    "arcpy.Clip_analysis(in_features=nomLineaMunicipio, clip_features=nomSalidaCapaDisuelta, out_feature_class=nomLimiteCorte)\n",
    "print(f\"Capa {nomLimiteCorte} Cortada según Predios\")"
   ]
  },
  {
   "cell_type": "code",
   "execution_count": null,
   "metadata": {},
   "outputs": [],
   "source": [
    "in_table = nomLimiteCorte\n",
    "field_name = 'lon_perimetro'\n",
    "field_alias = 'Longitud Perímetro Mpal Analizado'\n",
    "field_type = 'DOUBLE'\n",
    "\n",
    "geometry_property = [[field_name,'LENGTH']]\n",
    "length_unit = 'KILOMETERS'\n",
    "\n",
    "arcpy.AddField_management(in_table=in_table,field_name=field_name, field_alias=field_alias,field_type='DOUBLE')\n",
    "arcpy.CalculateGeometryAttributes_management(in_features=nomLimiteCorte, geometry_property=geometry_property, length_unit=length_unit)"
   ]
  }
 ],
 "metadata": {
  "kernelspec": {
   "display_name": "Python 3",
   "language": "python",
   "name": "python3"
  },
  "language_info": {
   "codemirror_mode": {
    "name": "ipython",
    "version": 3
   },
   "file_extension": ".py",
   "mimetype": "text/x-python",
   "name": "python",
   "nbconvert_exporter": "python",
   "pygments_lexer": "ipython3",
   "version": "3.11.8"
  }
 },
 "nbformat": 4,
 "nbformat_minor": 2
}
