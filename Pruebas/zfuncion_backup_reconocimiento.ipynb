{
 "cells": [
  {
   "cell_type": "code",
   "execution_count": null,
   "metadata": {},
   "outputs": [],
   "source": [
    "# ? Se usa para determina la fecha de ejecución del proceso dentro del export de los resultados estadísticos\n",
    "from datetime import datetime as dt\n",
    "\n",
    "import os\n",
    "import zipfile\n",
    "\n",
    "from pathlib import Path\n",
    "\n",
    "import shutil"
   ]
  },
  {
   "cell_type": "code",
   "execution_count": null,
   "metadata": {},
   "outputs": [],
   "source": [
    "fecha_actual = dt.now()\n",
    "fecha_directorio = str(fecha_actual.strftime(\"%Y%m%d\"))"
   ]
  },
  {
   "cell_type": "code",
   "execution_count": null,
   "metadata": {},
   "outputs": [],
   "source": [
    "\n",
    "# TODO: Proceso de Copia Nube a Local\n",
    "ruta_origen = r\"G:\\Unidades compartidas\\600 predios\"\n",
    "ruta_destino = r\"C:\\BUp\"\n",
    "\n",
    "R = Path(ruta_origen)\n",
    "directorio_destino = r\"C:\\BUp\"\n",
    "ruta_destino = os.path.join(directorio_destino, R.name)\n",
    "\n",
    "try:\n",
    "    shutil.copytree(src = ruta_origen, dst = ruta_destino)\n",
    "    print(f\"Se Copia de Local {ruta_origen} a Nube {ruta_destino}\")\n",
    "except OSError as e:\n",
    "    print(f\"Se presente el siguiente error {e}\")"
   ]
  },
  {
   "cell_type": "code",
   "execution_count": null,
   "metadata": {},
   "outputs": [],
   "source": [
    "\n",
    "# TODO: Proceso de Compresión a ruta Local\n",
    "ruta_origen = os.path.join(directorio_destino, R.name)\n",
    "nombre_directorio_origen_comprimido = fecha_directorio+'_'+((R.name).replace(' ','_'))+'.zip'\n",
    "ruta_compresion = os.path.join(directorio_destino, nombre_directorio_origen_comprimido)\n",
    "\n",
    "with zipfile.ZipFile(ruta_compresion, 'w') as zipf:\n",
    "    for raiz, _, archivos in os.walk(ruta_origen):          \n",
    "        for archivo in archivos:\n",
    "            ruta_completa = os.path.join(raiz, archivo)\n",
    "            # * Ruta completa, directorio origen\n",
    "            ruta_en_zip = os.path.relpath(ruta_completa, ruta_origen)\n",
    "            zipf.write(ruta_completa, ruta_en_zip)"
   ]
  },
  {
   "cell_type": "code",
   "execution_count": 90,
   "metadata": {},
   "outputs": [
    {
     "name": "stdout",
     "output_type": "stream",
     "text": [
      "20240820_600_predios.zip\n"
     ]
    }
   ],
   "source": [
    "\n",
    "# TODO: Proceso de Compresión a ruta Local\n",
    "ruta_origen = ruta_compresion\n",
    "ruta_destino = r\"G:\\Mi unidad\\Equipo_Consolidacion\\Hitos\\BackUP\" + nombre_directorio_origen_comprimido\n",
    "shutil.copy(src = ruta_origen, dst = ruta_destino)\n",
    "print(f\"Se Copia de Local {ruta_origen} a Nube {ruta_destino}\")\n"
   ]
  },
  {
   "cell_type": "code",
   "execution_count": 91,
   "metadata": {},
   "outputs": [],
   "source": [
    "\n",
    "# TODO: Borrar el archivo\n",
    "E = Path(ruta_origen)    \n",
    "if E.exists():\n",
    "    E.unlink()\n",
    "    print(f\"Archivo {E.name} eliminado.\")\n",
    "else:\n",
    "    print(\"El archivo no existe.\")\n",
    "\n",
    "ruta_origen = os.path.join(directorio_destino, R.name)\n",
    "print(ruta_origen)\n",
    "TODO: Borrar el archivo\n",
    "E = Path(ruta_origen)    \n",
    "if E.exists():\n",
    "    shutil.rmtree(E)\n",
    "    print(f\"Directorio {E.name} eliminado.\")\n",
    "else:\n",
    "    print(\"El archivo no existe.\")"
   ]
  },
  {
   "cell_type": "code",
   "execution_count": null,
   "metadata": {},
   "outputs": [],
   "source": []
  }
 ],
 "metadata": {
  "kernelspec": {
   "display_name": "Python 3",
   "language": "python",
   "name": "python3"
  },
  "language_info": {
   "codemirror_mode": {
    "name": "ipython",
    "version": 3
   },
   "file_extension": ".py",
   "mimetype": "text/x-python",
   "name": "python",
   "nbconvert_exporter": "python",
   "pygments_lexer": "ipython3",
   "version": "3.11.8"
  }
 },
 "nbformat": 4,
 "nbformat_minor": 2
}
