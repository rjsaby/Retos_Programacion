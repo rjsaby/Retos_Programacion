{
 "cells": [
  {
   "cell_type": "code",
   "execution_count": 1,
   "metadata": {
    "execution": {
     "iopub.execute_input": "2024-08-20T10:55:32.334547Z",
     "iopub.status.busy": "2024-08-20T10:55:32.334547Z",
     "iopub.status.idle": "2024-08-20T10:55:32.343324Z",
     "shell.execute_reply": "2024-08-20T10:55:32.343324Z"
    }
   },
   "outputs": [
    {
     "data": {
      "text/plain": [
       "'    \\n    Indicador: Rendimientos del Equipo de Reconocimiento para pago\\n'"
      ]
     },
     "execution_count": 1,
     "metadata": {},
     "output_type": "execute_result"
    }
   ],
   "source": [
    "\"\"\"    \n",
    "    Indicador: Rendimientos del Equipo de Reconocimiento para pago\n",
    "\"\"\""
   ]
  },
  {
   "cell_type": "markdown",
   "metadata": {},
   "source": [
    "<h3>Importación Librerías</h3>"
   ]
  },
  {
   "cell_type": "code",
   "execution_count": 2,
   "metadata": {
    "execution": {
     "iopub.execute_input": "2024-08-20T10:55:32.386853Z",
     "iopub.status.busy": "2024-08-20T10:55:32.386853Z",
     "iopub.status.idle": "2024-08-20T10:55:45.173793Z",
     "shell.execute_reply": "2024-08-20T10:55:45.173793Z"
    }
   },
   "outputs": [],
   "source": [
    "import pandas as pd\n",
    "import os\n",
    "import seaborn as sns\n",
    "\n",
    "os.environ[\"CRYPTOGRAPHY_OPENSSL_NO_LEGACY\"] = \"yes\"\n",
    "\n",
    "# ? Se usa para generar gráficos\n",
    "import matplotlib.pyplot as plt\n",
    "\n",
    "import shutil\n",
    "\n",
    "# ? Se usa para determina la fecha de ejecución del proceso dentro del export de los resultados estadísticos\n",
    "from datetime import datetime as dt\n",
    "\n",
    "# ? Conexión a BD Postgres. Se usa dado que pandas no acepta sino este paquete para la conexión.\n",
    "from sqlalchemy import create_engine, text\n",
    "\n",
    "from arcgis.features import GeoAccessor, GeoSeriesAccessor\n",
    "import arcpy\n",
    "\n",
    "from pathlib import Path\n",
    "\n",
    "# ** Librerías propias\n",
    "import funcion_SQL_a_DataFrame\n",
    "import funcion_parametrizacion_variables as funcion_parametrizacion_variables"
   ]
  },
  {
   "cell_type": "markdown",
   "metadata": {},
   "source": [
    "<h3>Ejecución de Función de Variables</h3>"
   ]
  },
  {
   "cell_type": "code",
   "execution_count": 3,
   "metadata": {
    "execution": {
     "iopub.execute_input": "2024-08-20T10:55:45.176798Z",
     "iopub.status.busy": "2024-08-20T10:55:45.176798Z",
     "iopub.status.idle": "2024-08-20T10:55:45.179818Z",
     "shell.execute_reply": "2024-08-20T10:55:45.179818Z"
    }
   },
   "outputs": [],
   "source": [
    "\n",
    "# TODO: Ejecución de Funciones\n",
    "resultado = funcion_parametrizacion_variables.parametrizacion_variables()\n",
    "consulta_tRendimientosActualizacion = resultado[2]\n",
    "consulta_fechas = resultado[3]\n",
    "renombrar_actividades = resultado[4]\n",
    "dict_coordinador_reconocedor = resultado[5]\n",
    "consulta_radicado_padre = resultado[6]"
   ]
  },
  {
   "cell_type": "markdown",
   "metadata": {},
   "source": [
    "<h3>Parametrización de Variables</h3>"
   ]
  },
  {
   "cell_type": "code",
   "execution_count": 4,
   "metadata": {
    "execution": {
     "iopub.execute_input": "2024-08-20T10:55:45.181825Z",
     "iopub.status.busy": "2024-08-20T10:55:45.181825Z",
     "iopub.status.idle": "2024-08-20T10:55:45.186634Z",
     "shell.execute_reply": "2024-08-20T10:55:45.186634Z"
    }
   },
   "outputs": [],
   "source": [
    "consulta_tRendimientosActualizacion = consulta_tRendimientosActualizacion\n",
    "\n",
    "consulta_fechas = consulta_fechas\n",
    "\n",
    "columnas_croquis = ['municipio'\n",
    "    ,'radicado'\n",
    "    ,'componente_responsable'\n",
    "    ,'npn'\n",
    "    ,'usuario_actual_responsable_tramite'\n",
    "    ]\n",
    "\n",
    "patron_busqueda = 'ransacci'\n",
    "\n",
    "fecha_actual = dt.now()\n",
    "fecha_directorio = str(fecha_actual.strftime(\"%Y%m%d\"))\n",
    "\n",
    "DIRECTORIO_SALIDA_XLSX = r\"C:\\docsProyectos\\5.RAISS\\2024.0.RAISS_Lote_4\\6.Hitos\\E2_Informes_Id_FisicoJuridica\\2_2_2_Rendimientos_Reconocimiento\"\n",
    "NOMBRE_XLSX = str(fecha_directorio) + \"_RendimientoEquipoReconocimiento_BCGS.xlsx\"\n",
    "RUTA_SALIDA_XLSX = os.path.join(DIRECTORIO_SALIDA_XLSX, NOMBRE_XLSX)\n",
    "\n",
    "DIRECTORIO_EXCEL_BASE = r\"C:\\docsProyectos\\5.RAISS\\2024.0.RAISS_Lote_4\\6.Hitos\\E2_Informes_Id_FisicoJuridica\\zInsumos\"\n",
    "NOMBRE_EXCEL_BASE = 'base_npn_analisis_seguimiento.xlsx'\n",
    "RUTA_EXCEL_BASE = os.path.join(DIRECTORIO_EXCEL_BASE, NOMBRE_EXCEL_BASE)\n",
    "\n",
    "FC_TERRENOS_UNIFICADOS = r\"C:\\docsProyectos\\5.RAISS\\2024.0.RAISS_Lote_4\\6.Hitos\\E1_Alistamiento_Diagnostico\\3_Disposicion\\1.BD_Consolidada\\BD_Consolidada_Lote4.gdb\\Analitica_UT_Consolidada\\TERRENO_POR_HITO\""
   ]
  },
  {
   "cell_type": "markdown",
   "metadata": {},
   "source": [
    "<h3>Ejecución de Funciones</h3>"
   ]
  },
  {
   "cell_type": "code",
   "execution_count": 5,
   "metadata": {
    "execution": {
     "iopub.execute_input": "2024-08-20T10:55:45.188644Z",
     "iopub.status.busy": "2024-08-20T10:55:45.188644Z",
     "iopub.status.idle": "2024-08-20T10:56:38.845607Z",
     "shell.execute_reply": "2024-08-20T10:56:38.845607Z"
    }
   },
   "outputs": [
    {
     "name": "stdout",
     "output_type": "stream",
     "text": [
      "Inicio de la conexión\n",
      "Conexión exitosa ...\n",
      "Inicio de la conexión\n",
      "Conexión exitosa ...\n",
      "Inicio de la conexión\n",
      "Conexión exitosa ...\n"
     ]
    }
   ],
   "source": [
    "\n",
    "df_consulta_rendimientosActualizacion = funcion_SQL_a_DataFrame.sql_a_dataframe(consulta_tRendimientosActualizacion)\n",
    "df_consulta_fechas = funcion_SQL_a_DataFrame.sql_a_dataframe(consulta_fechas)\n",
    "df_consulta_radicado_padre = funcion_SQL_a_DataFrame.sql_a_dataframe(consulta_radicado_padre)"
   ]
  },
  {
   "cell_type": "markdown",
   "metadata": {},
   "source": [
    "<h3>Incorporación de Rol</h3>"
   ]
  },
  {
   "cell_type": "code",
   "execution_count": 6,
   "metadata": {
    "execution": {
     "iopub.execute_input": "2024-08-20T10:56:38.848617Z",
     "iopub.status.busy": "2024-08-20T10:56:38.847616Z",
     "iopub.status.idle": "2024-08-20T10:56:38.934320Z",
     "shell.execute_reply": "2024-08-20T10:56:38.934320Z"
    }
   },
   "outputs": [],
   "source": [
    "df_consulta_rendimientosActualizacion['rol_actual_responsable_tramite'] = None\n",
    "df_consulta_rendimientosActualizacion['rol_anterior_responsable_actividad'] = None\n",
    "for llave, valor in dict_coordinador_reconocedor.items():\n",
    "    df_consulta_rendimientosActualizacion.loc[df_consulta_rendimientosActualizacion['usuario_actual_responsable_tramite']==llave, 'rol_actual_responsable_tramite'] = valor\n",
    "    df_consulta_rendimientosActualizacion.loc[df_consulta_rendimientosActualizacion['usuario_responsable_actividad_anterior']==llave, 'rol_anterior_responsable_actividad'] = valor"
   ]
  },
  {
   "cell_type": "markdown",
   "metadata": {},
   "source": [
    "<h3>Cambiar nombre de actividades</h3>"
   ]
  },
  {
   "cell_type": "code",
   "execution_count": 7,
   "metadata": {
    "execution": {
     "iopub.execute_input": "2024-08-20T10:56:38.937330Z",
     "iopub.status.busy": "2024-08-20T10:56:38.936329Z",
     "iopub.status.idle": "2024-08-20T10:56:38.950657Z",
     "shell.execute_reply": "2024-08-20T10:56:38.950657Z"
    }
   },
   "outputs": [],
   "source": [
    "for columna in df_consulta_rendimientosActualizacion.columns:\n",
    "    if columna == 'actividad_actual_tramite':\n",
    "        for llave, valor in renombrar_actividades.items():\n",
    "            df_consulta_rendimientosActualizacion.loc[df_consulta_rendimientosActualizacion[columna]==llave, columna] = valor"
   ]
  },
  {
   "cell_type": "markdown",
   "metadata": {},
   "source": [
    "<h3>Reporte NPN por Radicado</h3>"
   ]
  },
  {
   "cell_type": "code",
   "execution_count": 8,
   "metadata": {
    "execution": {
     "iopub.execute_input": "2024-08-20T10:56:38.953666Z",
     "iopub.status.busy": "2024-08-20T10:56:38.952666Z",
     "iopub.status.idle": "2024-08-20T10:56:49.019399Z",
     "shell.execute_reply": "2024-08-20T10:56:49.019399Z"
    }
   },
   "outputs": [
    {
     "name": "stdout",
     "output_type": "stream",
     "text": [
      "Se exporta XLSX 20240820_RendimientoEquipoReconocimiento_BCGS.xlsx, en la ruta C:\\docsProyectos\\5.RAISS\\2024.0.RAISS_Lote_4\\6.Hitos\\E2_Informes_Id_FisicoJuridica\\2_2_2_Rendimientos_Reconocimiento\n"
     ]
    }
   ],
   "source": [
    "df_radicado_npn = df_consulta_rendimientosActualizacion[['municipio','componente_responsable','radicado','npn','ficha','actividad_actual_tramite','usuario_actual_responsable_tramite','con_plano_cartografico','tipo_terreno']]\n",
    "\n",
    "# TODO: Llamadas a las variables\n",
    "df_terrenos_unificados = pd.DataFrame.spatial.from_featureclass(FC_TERRENOS_UNIFICADOS)\n",
    "\n",
    "# TODO: Se relaciona los terrenos con la tabla de relación de UI\n",
    "df_terrenos_unificados = df_terrenos_unificados.rename(columns={'area_ha_cmt12':'area_ha_ctm12_predio'})\n",
    "df_terrenos_unificados['area_ha_ctm12_predio'] = df_terrenos_unificados['area_ha_ctm12_predio'].round(3)\n",
    "\n",
    "# TODO: Relación con Radicados\n",
    "df_radicados_ui = pd.merge(left=df_terrenos_unificados, right=df_radicado_npn, left_on=\"codigo\", right_on=\"npn\", how=\"right\")\n",
    "df_radicados_ui = df_radicados_ui[['municipio', 'componente_responsable', 'radicado', 'ficha', 'npn', 'area_ha_ctm12_predio', 'actividad_actual_tramite','usuario_actual_responsable_tramite','con_plano_cartografico','tipo_terreno','id_ui','meta_hito']]\n",
    "\n",
    "# TODO: Unificación de fechas\n",
    "df_radicados_ui_fechas = pd.merge(left=df_radicados_ui, right=df_consulta_fechas, on=\"radicado\", how=\"left\")\n",
    "df_radicados_ui_fechas_estandarizado = df_radicados_ui_fechas[['municipio', 'componente_responsable', 'radicado', 'fecha_radicado', 'ficha', 'fecha_actualizacion_tramite', 'npn', 'area_ha_ctm12_predio', 'actividad_actual_tramite','usuario_actual_responsable_tramite','con_plano_cartografico','tipo_terreno','id_ui','meta_hito']]\n",
    "\n",
    "# TODO: Incorporación de radicados padre a reporte\n",
    "df_npn_w_radicado_padre = pd.merge(left=df_radicados_ui_fechas_estandarizado,\n",
    "    right=df_consulta_radicado_padre,\n",
    "    on='radicado',\n",
    "    how=\"left\")\n",
    "\n",
    "# ** Reorganización de columnas para Radicado Hijo\n",
    "columnas_reorganizacion_npn = ['municipio',\n",
    "    'componente_responsable',\n",
    "    'radicado_padre',\n",
    "    'radicado',\n",
    "    'fecha_radicado',\n",
    "    'fecha_actualizacion_tramite',\n",
    "    'ficha',\n",
    "    'npn',\n",
    "    'area_ha_ctm12_predio',\n",
    "    'actividad_actual_tramite',\n",
    "    'usuario_actual_responsable_tramite',\n",
    "    'con_plano_cartografico',\n",
    "    'tipo_terreno',\n",
    "    'id_ui',\n",
    "    'meta_hito'\n",
    "    ]\n",
    "\n",
    "df_npn_w_radicado_padre = df_npn_w_radicado_padre[columnas_reorganizacion_npn]\n",
    "\n",
    "# TODO: Usar ExcelWriter para guardar múltiples dataframes en diferentes hojas\n",
    "with pd.ExcelWriter(RUTA_SALIDA_XLSX, engine='openpyxl') as writer:\n",
    "    df_npn_w_radicado_padre.to_excel(writer, sheet_name='Radicado_X_NPN', index=False)\n",
    "\n",
    "print(f\"Se exporta XLSX {NOMBRE_XLSX}, en la ruta {DIRECTORIO_SALIDA_XLSX}\")"
   ]
  },
  {
   "cell_type": "markdown",
   "metadata": {},
   "source": [
    "<h3>Indicador 2</h3>"
   ]
  },
  {
   "cell_type": "code",
   "execution_count": 9,
   "metadata": {
    "execution": {
     "iopub.execute_input": "2024-08-20T10:56:49.022404Z",
     "iopub.status.busy": "2024-08-20T10:56:49.021404Z",
     "iopub.status.idle": "2024-08-20T10:56:59.362556Z",
     "shell.execute_reply": "2024-08-20T10:56:59.362556Z"
    }
   },
   "outputs": [],
   "source": [
    "\n",
    "# ? Indicador 2\n",
    "# ** Fase Previa a la Transacción Catastral\n",
    "df_rendActua_ERecono_FasePrevia = df_consulta_rendimientosActualizacion[(df_consulta_rendimientosActualizacion['fase_actividad']=='Fase Previa a la Transacción Catastral')]\n",
    "df_rendActua_ERecono_indicador_2_Ordenado = pd.DataFrame(df_rendActua_ERecono_FasePrevia.groupby(['municipio','actividad_actual_tramite','rol_actual_responsable_tramite'])['usuario_actual_responsable_tramite'].value_counts()).reset_index().rename(columns={'count':'total_predios'})\n",
    "\n",
    "# TODO: Construcción de Indicador 2\n",
    "dataframes = {}\n",
    "df_municipio = pd.DataFrame(df_rendActua_ERecono_indicador_2_Ordenado[['municipio']].value_counts()).reset_index()\n",
    "df_municipio = df_municipio['municipio']\n",
    "lista_municipio_bcgs = df_municipio.tolist()\n",
    "\n",
    "for mpio in lista_municipio_bcgs:\n",
    "    df = df_rendActua_ERecono_indicador_2_Ordenado[df_rendActua_ERecono_indicador_2_Ordenado['municipio'] == mpio]\n",
    "    dataframes[mpio] = df\n",
    "\n",
    "for dframe, df in dataframes.items():\n",
    "    globals()[f'df_{dframe}_indicador_2'] = df\n",
    "    # ? Generación de copia\n",
    "    globals()[f'df_{dframe}_indicador_2'] = globals()[f'df_{dframe}_indicador_2'].copy()\n",
    "    # ? Unificación de campos\n",
    "    globals()[f'df_{dframe}_indicador_2']['rol_usuario'] = globals()[f'df_{dframe}_indicador_2']['rol_actual_responsable_tramite'] + ' - ' + globals()[f'df_{dframe}_indicador_2']['usuario_actual_responsable_tramite']\n",
    "    # ? Generación Pivote\n",
    "    globals()[f'df_{dframe}_indicador_2_pivote'] = globals()[f'df_{dframe}_indicador_2'].pivot(index='rol_usuario', columns='actividad_actual_tramite', values='total_predios')\n",
    "    # ? Reemplazo de Nulos por 0 y cambio de float a int\n",
    "    for columna in globals()[f'df_{dframe}_indicador_2_pivote'].columns:\n",
    "        globals()[f'df_{dframe}_indicador_2_pivote'].loc[globals()[f'df_{dframe}_indicador_2_pivote'][columna].isnull(), columna] = 0\n",
    "        globals()[f'df_{dframe}_indicador_2_pivote'][columna] = globals()[f'df_{dframe}_indicador_2_pivote'][columna].astype(int)\n",
    "    # ? Reseteo de Índices\n",
    "    globals()[f'df_{dframe}_indicador_2_pivote'] = globals()[f'df_{dframe}_indicador_2_pivote'].reset_index()\n",
    "    # ? Impresión en XLSX\n",
    "    with pd.ExcelWriter(RUTA_SALIDA_XLSX, engine='openpyxl', mode='a', if_sheet_exists='new') as writer:\n",
    "       globals()[f'df_{dframe}_indicador_2_pivote'].to_excel(writer, sheet_name='Ind_2_'+dframe, index=False)"
   ]
  },
  {
   "cell_type": "markdown",
   "metadata": {},
   "source": [
    "<h3>Indicador 4</h3>"
   ]
  },
  {
   "cell_type": "code",
   "execution_count": 10,
   "metadata": {
    "execution": {
     "iopub.execute_input": "2024-08-20T10:56:59.365562Z",
     "iopub.status.busy": "2024-08-20T10:56:59.365562Z",
     "iopub.status.idle": "2024-08-20T10:56:59.926479Z",
     "shell.execute_reply": "2024-08-20T10:56:59.926479Z"
    }
   },
   "outputs": [
    {
     "name": "stdout",
     "output_type": "stream",
     "text": [
      "Total de registros en archivo base: \n",
      " 5080\n",
      "Total de registros seguimiento diario: \n",
      " 1785 \n",
      "\n",
      "\n",
      " Empty DataFrame\n",
      "Columns: [radicado_x, municipio_x, rol_anterior_responsable_actividad_x, usuario_responsable_actividad_anterior_x, npn, fecha_registro, radicado_y, municipio_y, rol_anterior_responsable_actividad_y, usuario_responsable_actividad_anterior_y]\n",
      "Index: [] con 0 nuevos registros \n",
      "\n",
      "El archivo base no reporta nuevos predios en Edición Geográfica\n"
     ]
    }
   ],
   "source": [
    "\n",
    "dict_renombrado_columnas = {'radicado_y':'radicado',\n",
    "    'municipio_y':'municipio',\n",
    "    'usuario_responsable_actividad_anterior_y':'usuario_responsable_actividad_anterior',\n",
    "    'rol_anterior_responsable_actividad_y':'rol_anterior_responsable_actividad'\n",
    "    }\n",
    "\n",
    "# ? Indicador 4\n",
    "# TODO: Creación archivo base\n",
    "# ! Cuidado si se actualiza la actividad por el número que se le asigna\n",
    "# df_PrediosPreparandoEdicionGeo = df_consulta_rendimientosActualizacion[(df_consulta_rendimientosActualizacion['actividad_actual_tramite'] == '6.Preparando Edición Geográfica') |\n",
    "#                                                                        (df_consulta_rendimientosActualizacion['actividad_actual_tramite'].str.contains(patron_busqueda))]\n",
    "# df_PrediosPreparandoEdicionGeo_Base = df_PrediosPreparandoEdicionGeo[['radicado', 'municipio', 'rol_anterior_responsable_actividad', 'usuario_responsable_actividad_anterior', 'npn']]\n",
    "# df_PrediosPreparandoEdicionGeo_Base = df_PrediosPreparandoEdicionGeo_Base.copy()\n",
    "# df_PrediosPreparandoEdicionGeo_Base['fecha_registro'] = fecha_directorio\n",
    "# df_PrediosPreparandoEdicionGeo_Base.to_excel(RUTA_EXCEL_BASE)\n",
    "\n",
    "# TODO: Actualización del Archivo Base, partiendo del reporte XLSX creado el 17 de Junio, 2024\n",
    "df_lectura_xlsx_base = pd.read_excel(RUTA_EXCEL_BASE)\n",
    "df_lectura_xlsx_base = df_lectura_xlsx_base[['radicado','municipio','rol_anterior_responsable_actividad','usuario_responsable_actividad_anterior','npn','fecha_registro']]\n",
    "print(f\"Total de registros en archivo base: \\n {df_lectura_xlsx_base.shape[0]}\")\n",
    "\n",
    "# ! Cuidado si se actualiza la actividad por el número que se le asigna\n",
    "df_PrediosPreparandoEdicionGeo_Seguimiento = df_consulta_rendimientosActualizacion[(df_consulta_rendimientosActualizacion['actividad_actual_tramite'].str.contains('Preparando Edición Geográfica')) |\n",
    "    (df_consulta_rendimientosActualizacion['actividad_actual_tramite'].str.contains(patron_busqueda))]\n",
    "\n",
    "print(f\"Total de registros seguimiento diario: \\n {df_PrediosPreparandoEdicionGeo_Seguimiento.shape[0]} \\n\")\n",
    "\n",
    "df_PrediosPreparandoEdicionGeo_Seguimiento = df_PrediosPreparandoEdicionGeo_Seguimiento[['radicado', 'municipio', 'rol_anterior_responsable_actividad', 'usuario_responsable_actividad_anterior', 'npn']]\n",
    "df_cambios_base_seguimiento = pd.merge(df_lectura_xlsx_base, df_PrediosPreparandoEdicionGeo_Seguimiento, how = \"right\", on = \"npn\")\n",
    "df_cambios_base_seguimiento_nuevos = df_cambios_base_seguimiento[df_cambios_base_seguimiento['radicado_x'].isnull()]\n",
    "print(f\"\\n {df_cambios_base_seguimiento_nuevos} con {df_cambios_base_seguimiento_nuevos.shape[0]} nuevos registros \\n\")\n",
    "if df_cambios_base_seguimiento_nuevos.shape[0] > 0:\n",
    "    df_cambios_base_seguimiento_nuevos = df_cambios_base_seguimiento_nuevos[['radicado_y','municipio_y', 'rol_anterior_responsable_actividad_y', 'usuario_responsable_actividad_anterior_y','npn']]\n",
    "    df_cambios_base_seguimiento_nuevos = df_cambios_base_seguimiento_nuevos.rename(columns=dict_renombrado_columnas)\n",
    "    df_cambios_base_seguimiento_nuevos['fecha_registro'] = fecha_directorio\n",
    "    df_cambios_base_seguimiento_unificacion = pd.concat([df_lectura_xlsx_base, df_cambios_base_seguimiento_nuevos])\n",
    "    df_cambios_base_seguimiento_unificacion.to_excel(RUTA_EXCEL_BASE)\n",
    "else:\n",
    "    print(f\"El archivo base no reporta nuevos predios en Edición Geográfica\")"
   ]
  },
  {
   "cell_type": "code",
   "execution_count": 11,
   "metadata": {
    "execution": {
     "iopub.execute_input": "2024-08-20T10:56:59.928488Z",
     "iopub.status.busy": "2024-08-20T10:56:59.928488Z",
     "iopub.status.idle": "2024-08-20T10:57:10.414896Z",
     "shell.execute_reply": "2024-08-20T10:57:10.414896Z"
    }
   },
   "outputs": [
    {
     "name": "stdout",
     "output_type": "stream",
     "text": [
      "fecha_registro                       rol_usuario  20240618  20240619  \\\n",
      "0                    Reconocedor - angel.banquez        76         0   \n",
      "1                   Reconocedor - celci.quintana         0         0   \n",
      "2                  Reconocedor - emilio.castillo         0         0   \n",
      "3                   Reconocedor - fabio.barragan         0         0   \n",
      "4                   Reconocedor - german.panizza         0         0   \n",
      "5                Reconocedor - gustavo.maldonado         0         0   \n",
      "6                Reconocedor - harlingto.padilla         0         0   \n",
      "7               Reconocedor - hernando.sarmiento         9         0   \n",
      "8                   Reconocedor - jarod.macareno         0        17   \n",
      "9                    Reconocedor - karen.escobar         0         0   \n",
      "10                    Reconocedor - luis.jimenez         0         0   \n",
      "11                 Reconocedor - maria.hernandez        42         0   \n",
      "12                   Reconocedor - mary.conquett        27         0   \n",
      "13                  Reconocedor - nadith.miranda        48         0   \n",
      "14                   Reconocedor - rafael.molina        13         0   \n",
      "15                    Reconocedor - samith.saenz         0         0   \n",
      "16                   Reconocedor - sandra.acosta         0         0   \n",
      "17               Reconocedor - stefany.dominguez         0         0   \n",
      "18                    Reconocedor - wilmar.ruiza         0         0   \n",
      "19                            SIG - amed.blandon         0         0   \n",
      "\n",
      "fecha_registro  20240620  20240624  20240625  20240626  20240702  20240703  \\\n",
      "0                      0         0         0         0         0         0   \n",
      "1                     41         0         0         0         0         0   \n",
      "2                      0         0         0         0         0         0   \n",
      "3                      0         0         0         4         0         0   \n",
      "4                      0         0         0         0         0         0   \n",
      "5                      0         0         0         0         0         0   \n",
      "6                      0        16         0         0         0         0   \n",
      "7                      0        84        16         0        12        11   \n",
      "8                     79         0         0         0         0         0   \n",
      "9                      0         0         0        15         0         0   \n",
      "10                     0        26         0         0         0         0   \n",
      "11                     0         0         0         0         0         0   \n",
      "12                     0        11         0         0         0         0   \n",
      "13                     0         0         0         0         0         0   \n",
      "14                     0         0         0        20         0         0   \n",
      "15                     0         0         0         0         0         0   \n",
      "16                     0         0         0         0         0         0   \n",
      "17                     0         0         0         0         0         0   \n",
      "18                     0         0         0         0         0         0   \n",
      "19                     0         0         0         0         0         0   \n",
      "\n",
      "fecha_registro  20240705  ...  20240810  20240811  20240812  20240813  \\\n",
      "0                      0  ...         0         0         0         0   \n",
      "1                      0  ...        52         0         0         0   \n",
      "2                      0  ...         0         0         0         0   \n",
      "3                      0  ...        16         0         0         0   \n",
      "4                      0  ...         0         0         0         0   \n",
      "5                      0  ...         0         0         0         0   \n",
      "6                      4  ...         0         0         0         0   \n",
      "7                      0  ...         0         0         0         0   \n",
      "8                      0  ...        32         0         0         0   \n",
      "9                      0  ...         0         7         0         3   \n",
      "10                     0  ...         0         0         0         0   \n",
      "11                     0  ...         0         0         0         0   \n",
      "12                     0  ...         0         0        54         0   \n",
      "13                     0  ...         0         0         0         0   \n",
      "14                     0  ...         0         0         4         0   \n",
      "15                     0  ...         0         0         0         0   \n",
      "16                     0  ...         0         0         0         0   \n",
      "17                     0  ...         0         0         0         0   \n",
      "18                     0  ...         0         0         0        31   \n",
      "19                     0  ...         0         0         0         0   \n",
      "\n",
      "fecha_registro  20240814  20240815  20240816  20240817  20240818  20240819  \n",
      "0                      0         0         0         0         0         0  \n",
      "1                     14         0         0         0         0        23  \n",
      "2                      0         0         0         0         0         0  \n",
      "3                      2         0         0         0         0         0  \n",
      "4                      0         0         0         0         0         0  \n",
      "5                      0         0         0         0         0         6  \n",
      "6                      0         0         0         0         0         0  \n",
      "7                      0         0         0         0         0         0  \n",
      "8                     20         0         0        71        23        49  \n",
      "9                      0         0         0         4         0         0  \n",
      "10                     0         0         0        10        16        59  \n",
      "11                     0        11         0        24         0        21  \n",
      "12                     0         0         0         0         0         0  \n",
      "13                     0         0         0         8         0         0  \n",
      "14                   118         0         0         0         0         0  \n",
      "15                     0         0        64         0         0         0  \n",
      "16                     4         0         0         0         0         0  \n",
      "17                     0         0         0        49         0         0  \n",
      "18                     0         0         0         0         0         0  \n",
      "19                    19         0         0         0         0         0  \n",
      "\n",
      "[20 rows x 43 columns]\n",
      "fecha_registro                      rol_usuario  20240619  20240620  20240624  \\\n",
      "0                   Reconocedor - adner.capella         0         0         0   \n",
      "1               Reconocedor - albeiro.marulanda         0         0        24   \n",
      "2                   Reconocedor - euclides.polo        18         0         0   \n",
      "3                   Reconocedor - fabian.arango         0         0        11   \n",
      "4                 Reconocedor - jorge.hernandez         0         0         0   \n",
      "5                  Reconocedor - monica.penuela         0         0         0   \n",
      "6                   Reconocedor - nilsen.arteta         0         0         0   \n",
      "7                        Reconocedor - soporte4         0         4         1   \n",
      "8                   Reconocedor - william.perez         0         0         0   \n",
      "9                            SIG - amed.blandon         0         0         0   \n",
      "\n",
      "fecha_registro  20240702  20240718  20240719  20240722  20240723  20240726  \\\n",
      "0                      0         0         0         0         0         0   \n",
      "1                      9         0        18         0         0         0   \n",
      "2                      0         1         8         0         0        46   \n",
      "3                      0        12         0         0         2         8   \n",
      "4                      0        21         0         6         0         0   \n",
      "5                      0         0         0         0         0         0   \n",
      "6                      0         0         0         0         0         0   \n",
      "7                      0         0         0         0         0         0   \n",
      "8                      0         0         0         1         0        79   \n",
      "9                      0         0         0         0         0         0   \n",
      "\n",
      "fecha_registro  ...  20240806  20240807  20240808  20240809  20240810  \\\n",
      "0               ...         0        20         0         0        10   \n",
      "1               ...        29         0         0        22         0   \n",
      "2               ...         0         0         1         0         0   \n",
      "3               ...         0         0         0         0         0   \n",
      "4               ...         0         0         0         0         0   \n",
      "5               ...         0         0         0         0         0   \n",
      "6               ...         0         0         0         0         0   \n",
      "7               ...         0         0         0         0         0   \n",
      "8               ...        21        20         0         0         0   \n",
      "9               ...         0         0         0         0         0   \n",
      "\n",
      "fecha_registro  20240812  20240813  20240814  20240816  20240817  \n",
      "0                      0         0        23        16         0  \n",
      "1                      0         0         0         0         1  \n",
      "2                      0        11        12         0         0  \n",
      "3                      0         0         0         0         0  \n",
      "4                      0         0         0         0         0  \n",
      "5                      0        10         0         0         0  \n",
      "6                      0         0         0         0         0  \n",
      "7                      0         0         0         0         0  \n",
      "8                      0         0         0         0         0  \n",
      "9                      2         0         0         0         0  \n",
      "\n",
      "[10 rows x 24 columns]\n"
     ]
    }
   ],
   "source": [
    "\n",
    "df_lectura_xlsx_base = pd.read_excel(RUTA_EXCEL_BASE)\n",
    "\n",
    "df_lectura_xlsx_base['rol_usuario'] = df_lectura_xlsx_base['rol_anterior_responsable_actividad'] + ' - ' + df_lectura_xlsx_base['usuario_responsable_actividad_anterior']\n",
    "df_indicador_4 = pd.DataFrame(df_lectura_xlsx_base.groupby(['municipio','rol_usuario'])['fecha_registro'].value_counts()).reset_index().rename(columns={'count':'total_predios'})\n",
    "\n",
    "df_indicador_4_municipio = pd.DataFrame(df_indicador_4['municipio'].value_counts()).reset_index()\n",
    "df_indicador_4_municipio = df_indicador_4_municipio['municipio']\n",
    "lista_municipios = df_indicador_4_municipio.tolist()\n",
    "\n",
    "dataframes = {}\n",
    "for mpio in lista_municipios:\n",
    "    df = df_indicador_4[df_indicador_4['municipio']==mpio]\n",
    "    dataframes[mpio] = df\n",
    "\n",
    "for nmpio, df in dataframes.items():\n",
    "    globals()[f'df_indicador_4_{nmpio}'] = df\n",
    "    # ? Filtro de Columnas\n",
    "    globals()[f'df_indicador_4_{nmpio}_stand'] = globals()[f'df_indicador_4_{nmpio}'][['rol_usuario','fecha_registro','total_predios']]\n",
    "    # ? Construcción del Pivote\n",
    "    globals()[f'df_indicador_4_{nmpio}_stand_pivote'] = globals()[f'df_indicador_4_{nmpio}_stand'].pivot(index=\"rol_usuario\", columns=\"fecha_registro\", values=\"total_predios\").reset_index()\n",
    "    # ? Reemplazo de valores nulos por 0\n",
    "    globals()[f'df_indicador_4_{nmpio}_stand_pivote'] = globals()[f'df_indicador_4_{nmpio}_stand_pivote'].fillna(0)\n",
    "    # ? Seleccionar todas las columnas numéricas\n",
    "    columnas_numericas = globals()[f'df_indicador_4_{nmpio}_stand_pivote'].select_dtypes(include=['number']).columns\n",
    "    # ? Convertir todas las columnas numéricas a tipo int\n",
    "    globals()[f'df_indicador_4_{nmpio}_stand_pivote'][columnas_numericas] = globals()[f'df_indicador_4_{nmpio}_stand_pivote'][columnas_numericas].astype(int)\n",
    "    # ? Impresión en XLSX\n",
    "    with pd.ExcelWriter(RUTA_SALIDA_XLSX, engine='openpyxl', mode='a', if_sheet_exists='new') as writer:\n",
    "        globals()[f'df_indicador_4_{nmpio}_stand_pivote'].to_excel(writer, sheet_name='Indicador_4_'+nmpio, index=False)\n",
    "        print(globals()[f'df_indicador_4_{nmpio}_stand_pivote'])"
   ]
  }
 ],
 "metadata": {
  "kernelspec": {
   "display_name": "Python 3",
   "language": "python",
   "name": "python3"
  },
  "language_info": {
   "codemirror_mode": {
    "name": "ipython",
    "version": 3
   },
   "file_extension": ".py",
   "mimetype": "text/x-python",
   "name": "python",
   "nbconvert_exporter": "python",
   "pygments_lexer": "ipython3",
   "version": "3.11.8"
  }
 },
 "nbformat": 4,
 "nbformat_minor": 2
}
