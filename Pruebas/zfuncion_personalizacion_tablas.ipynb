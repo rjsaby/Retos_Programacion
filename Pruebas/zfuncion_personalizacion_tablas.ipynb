{
 "cells": [
  {
   "cell_type": "code",
   "execution_count": null,
   "metadata": {},
   "outputs": [],
   "source": [
    "import pandas as pd\n",
    "from openpyxl import load_workbook\n",
    "from openpyxl.styles import PatternFill, Border, Side, Alignment, Font"
   ]
  },
  {
   "cell_type": "markdown",
   "metadata": {},
   "source": [
    "<h3>Estilos para el encabezado:</h3>\n",
    "<ul>\n",
    "    <li>PatternFill: Define un color sólido de relleno para el encabezado.</li>\n",
    "    <li>Font: Establece una fuente en negrita.</li>\n",
    "    <li>Alignment: Alinea el texto en el centro.</li>\n",
    "    <li>Border: El tamaño del borde, entre los que pueden parametrizarse están:</li>\n",
    "        <ol>\n",
    "            <li>'thin': Un borde delgado.</li>\n",
    "            <li>'medium': Un borde de grosor medio.</li>\n",
    "            <li>'dashed': Un borde punteado.</li>\n",
    "            <li>'dotted': Un borde de puntos.</li>\n",
    "            <li>'thick': Un borde grueso.</li>\n",
    "            <li>'double': Un borde doble.</li>\n",
    "            <li>'hair': Un borde muy delgado, casi imperceptible.</li>\n",
    "            <li>'mediumDashed': Un borde punteado de grosor medio.</li>\n",
    "            <li>'dashDot': Un borde de puntos y guiones.</li>\n",
    "            <li>'mediumDashDot': Un borde de puntos y guiones con grosor medio.</li>\n",
    "            <li>'mediumDashDot': Un borde de puntos y guiones con grosor medio.</li>\n",
    "            <li>'mediumDashDotDot': Un borde de puntos y doble guión con grosor medio.</li>\n",
    "            <li>'slantDashDot': Un borde de puntos y guiones inclinados.</li>\n",
    "        </ol>\n",
    "</ul>"
   ]
  },
  {
   "cell_type": "code",
   "execution_count": null,
   "metadata": {},
   "outputs": [],
   "source": [
    "\n",
    "# TODO: Cargar el archivo con openpyxl para aplicar estilos\n",
    "wb = load_workbook(file_path)\n",
    "\n",
    "# TODO: Aplicar estilos en cada hoja\n",
    "for sheet_name in wb.sheetnames:\n",
    "    ws = wb[sheet_name]\n",
    "\n",
    "    # TODO: Definir estilos\n",
    "    header_fill = PatternFill(start_color=\"1F497D\", end_color=\"1F497D\", fill_type=\"solid\")\n",
    "    header_font = Font(bold=True, color=\"FFFFFF\")\n",
    "    header_alignment = Alignment(horizontal=\"center\", vertical=\"center\")\n",
    "    \n",
    "    cell_fill = PatternFill(start_color=\"F2F2F2\", end_color=\"F2F2F2\", fill_type=\"solid\")\n",
    "    cell_border = Border(left=Side(style='double', color=\"FFFFFF\"), \n",
    "                        right=Side(style='double', color=\"FFFFFF\"), \n",
    "                        top=Side(style='double', color=\"FFFFFF\"), \n",
    "                        bottom=Side(style='double', color=\"FFFFFF\"))\n",
    "\n",
    "    # TODO: Aplicar estilos a los encabezados\n",
    "    for cell in ws[1]:\n",
    "        cell.fill = header_fill\n",
    "        cell.font = header_font\n",
    "        cell.alignment = header_alignment\n",
    "\n",
    "    # TODO: Aplicar estilos a las celdas del DataFrame\n",
    "    for row in ws.iter_rows(min_row=2, max_row=ws.max_row, min_col=1, max_col=ws.max_column):\n",
    "        for cell in row:\n",
    "            cell.fill = cell_fill\n",
    "            cell.border = cell_border\n",
    "            cell.alignment = Alignment(horizontal=\"center\", vertical=\"left\")\n",
    "\n",
    "# TODO Guardar el archivo Excel con estilos\n",
    "wb.save(file_path)"
   ]
  }
 ],
 "metadata": {
  "kernelspec": {
   "display_name": "Python 3",
   "language": "python",
   "name": "python3"
  },
  "language_info": {
   "name": "python",
   "version": "3.11.8"
  }
 },
 "nbformat": 4,
 "nbformat_minor": 2
}
