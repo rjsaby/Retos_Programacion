{
 "cells": [
  {
   "cell_type": "code",
   "execution_count": null,
   "metadata": {},
   "outputs": [],
   "source": [
    "import arcpy\n",
    "import pandas as pd\n",
    "from pathlib import Path"
   ]
  },
  {
   "cell_type": "code",
   "execution_count": null,
   "metadata": {},
   "outputs": [],
   "source": [
    "ruta_gdb = r\"C:\\Users\\rodian.saby\\OneDrive\\Documentos\\docsProyectos\\8.GESTVALT\\1.Soledad\\zInsumos\\Información Recibida\\FGDB-SOLEDAD-11062024.gdb\"\n",
    "#ruta_gdb = r\"C:\\Users\\rodian.saby\\OneDrive\\Documentos\\docsProyectos\\8.GESTVALT\\1.Soledad\\zInsumos\\Actualizacion_Soledad.gdb\"\n",
    "\n",
    "lDataset = []\n",
    "\n",
    "nombre_columnas = ['nombre_capa', 'tipo_capa', 'sistema_referencia_coordenado','total_registros']\n",
    "\n",
    "directorio_salida_xlsx = r\"\""
   ]
  },
  {
   "cell_type": "code",
   "execution_count": null,
   "metadata": {},
   "outputs": [],
   "source": [
    "arcpy.env.workspace = ruta_gdb"
   ]
  },
  {
   "cell_type": "code",
   "execution_count": null,
   "metadata": {},
   "outputs": [],
   "source": [
    "lNombreCapa = []\n",
    "lTipoCapa = []\n",
    "lSRCCapa = []\n",
    "lTotalRegistros = []\n",
    "\n",
    "lNombreTabla = []\n",
    "\n",
    "for dataset in arcpy.ListDatasets():\n",
    "    lDataset.append(dataset)\n",
    "    if len(lDataset) == 0:\n",
    "        print(\"La BD no tiene Datasets\")\n",
    "    elif len(lDataset) != 0:\n",
    "        for capa in arcpy.ListFeatureClasses(feature_dataset=dataset):\n",
    "            dCapa = arcpy.Describe(capa)\n",
    "            srcCapa = dCapa.spatialReference\n",
    "            conteo = arcpy.GetCount_management(capa)\n",
    "            lNombreCapa.append(dCapa.name)\n",
    "            lTipoCapa.append(dCapa.shapeType)\n",
    "            lSRCCapa.append(srcCapa.name)\n",
    "            lTotalRegistros.append(conteo[0])\n",
    "\n",
    "for capa in arcpy.ListFeatureClasses():\n",
    "    dCapa = arcpy.Describe(capa)\n",
    "    srcCapa = dCapa.spatialReference\n",
    "    conteo = arcpy.GetCount_management(capa)\n",
    "    lNombreCapa.append(dCapa.name)\n",
    "    lTipoCapa.append(dCapa.shapeType)\n",
    "    lSRCCapa.append(srcCapa.name)\n",
    "    lTotalRegistros.append(conteo[0])\n",
    "\n",
    "for tabla in arcpy.ListTables():\n",
    "    dTabla = arcpy.Describe(tabla)\n",
    "    lNombreTabla.append(dTabla.aliasName)"
   ]
  },
  {
   "cell_type": "code",
   "execution_count": null,
   "metadata": {},
   "outputs": [],
   "source": [
    "lista_maestra_fc = list(zip(lNombreCapa, lTipoCapa, lSRCCapa, lTotalRegistros))\n",
    "\n",
    "df_lista_maestra_fc = pd.DataFrame(lista_maestra_fc, columns=nombre_columnas)\n",
    "df_lista_maestra_fc"
   ]
  }
 ],
 "metadata": {
  "kernelspec": {
   "display_name": "Python 3",
   "language": "python",
   "name": "python3"
  },
  "language_info": {
   "codemirror_mode": {
    "name": "ipython",
    "version": 3
   },
   "file_extension": ".py",
   "mimetype": "text/x-python",
   "name": "python",
   "nbconvert_exporter": "python",
   "pygments_lexer": "ipython3",
   "version": "3.11.8"
  }
 },
 "nbformat": 4,
 "nbformat_minor": 2
}
