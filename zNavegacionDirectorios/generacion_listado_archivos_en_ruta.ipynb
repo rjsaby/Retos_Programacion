{
 "cells": [
  {
   "cell_type": "markdown",
   "metadata": {},
   "source": [
    "<h2>Seguimiento a la Consolidación de Información</h2>"
   ]
  },
  {
   "cell_type": "code",
   "execution_count": null,
   "metadata": {},
   "outputs": [],
   "source": [
    "import os\n",
    "import pandas as pd\n",
    "from pathlib import Path\n",
    "import datetime\n",
    "import arcpy"
   ]
  },
  {
   "cell_type": "markdown",
   "metadata": {},
   "source": [
    "<h4>Parametrización de variables</h4>"
   ]
  },
  {
   "cell_type": "code",
   "execution_count": null,
   "metadata": {},
   "outputs": [],
   "source": [
    "ruta_base = r\"D:\\Insumos PCCasa\"\n",
    "ruta_salida_csv = r\"C:\\docsProyectos\\5.RAISS\\2024.0.RAISS_Lote_4\\6.Hitos\\E1_Alistamiento_Diagnostico\\3_Disposicion\\Seguimiento_Consolidacion\"\n",
    "nombre_csv = \"seguimiento_consolidacion.csv\"\n",
    "extensiones = ['.shp','.xls','.xlsx','.csv','.txt','.doc','.docx','.dwg','.dxf','.pdf', '.geojson', '.json', '.xtf', '.ili',\n",
    "               '.SHP','.XLS','.XLSX','.CSV','.TXT','.DOC','.DOCX','.DWG','.DXF','.PDF', '.GEOJSON', '.JSON', '.XTF', '.ILI']"
   ]
  },
  {
   "cell_type": "markdown",
   "metadata": {},
   "source": [
    "<h4>Indexación de fuente diferentes a las bases de datos geográficas</h4>"
   ]
  },
  {
   "cell_type": "code",
   "execution_count": null,
   "metadata": {},
   "outputs": [],
   "source": [
    "ruta_archivo = []\n",
    "nomArchivo = []\n",
    "extensionArchivo = []\n",
    "pesoArchivoMbs = []\n",
    "fechaCreacionArchivo = []\n",
    "fuenteArchivo = []\n",
    "\n",
    "for ruta, directorio, archivo in os.walk(ruta_base):\n",
    "    for nombre_archivo in archivo:        \n",
    "        ruta_archivos = os.path.join(ruta, nombre_archivo)\n",
    "        rArchivos = Path(ruta_archivos)\n",
    "        extensionArchivos = rArchivos.suffix\n",
    "        for extBase in extensiones:\n",
    "            if extBase == rArchivos.suffix:\n",
    "                ruta_archivo.append(ruta_archivos)\n",
    "                nomArchivo.append(rArchivos.stem)\n",
    "                fuenteArchivo.append(ruta_archivos.split('\\\\')[2])                \n",
    "                extensionArchivo.append(rArchivos.suffix)\n",
    "                pesoArchivoMbs.append((os.path.getsize(rArchivos))/1000000)\n",
    "                # ** DE UT a Formato Fecha\n",
    "                marca_tiempo_creacion = os.path.getctime(rArchivos)\n",
    "                fecha_creacion = datetime.datetime.fromtimestamp(marca_tiempo_creacion)\n",
    "                fecha_formateada = fecha_creacion.strftime('%Y-%m-%d')\n",
    "                fechaCreacionArchivo.append(fecha_formateada)\n",
    "                print(\"Se documenta {0}\".format(rArchivos.name))"
   ]
  },
  {
   "cell_type": "markdown",
   "metadata": {},
   "source": [
    "<h4>Indexación de las bases de datos geográficas</h4>"
   ]
  },
  {
   "cell_type": "code",
   "execution_count": null,
   "metadata": {},
   "outputs": [],
   "source": [
    "for ruta, directorios, archivo in os.walk(ruta_base):\n",
    "    for nombre_directorio in directorios:        \n",
    "        ruta_directorios = os.path.join(ruta, nombre_directorio)\n",
    "        rDirectorios = Path(ruta_directorios)\n",
    "        if rDirectorios.suffix == '.gdb':\n",
    "                ruta_archivo.append(ruta_directorios)                \n",
    "                nomArchivo.append(rDirectorios.stem)\n",
    "                fuenteArchivo.append(ruta_directorios.split('\\\\')[2])\n",
    "                extensionArchivo.append(rDirectorios.suffix)\n",
    "                pesoArchivoMbs.append((os.path.getsize(rDirectorios))/1000000)\n",
    "                # ** DE UT a Formato Fecha\n",
    "                marca_tiempo_creacion = os.path.getctime(rDirectorios)\n",
    "                fecha_creacion = datetime.datetime.fromtimestamp(marca_tiempo_creacion)\n",
    "                fecha_formateada = fecha_creacion.strftime('%Y-%m-%d')\n",
    "                fechaCreacionArchivo.append(fecha_formateada)\n",
    "                print(\"Se documenta {0}\".format(rDirectorios.name))\n"
   ]
  },
  {
   "cell_type": "markdown",
   "metadata": {},
   "source": [
    "<h4>Preparación de Data Frame</h4>"
   ]
  },
  {
   "cell_type": "code",
   "execution_count": null,
   "metadata": {},
   "outputs": [],
   "source": [
    "\n",
    "columnas = ['ruta_archivo','nomArchivo','extensionArchivo','pesoArchivoMbs','fechaCreacionArchivo','fuenteArchivo']\n",
    "\n",
    "lista_archivos_recibidos = list(zip(ruta_archivo, nomArchivo, extensionArchivo, pesoArchivoMbs, fechaCreacionArchivo, fuenteArchivo))\n",
    "df_lista_archivos_recibidos = pd.DataFrame(lista_archivos_recibidos, columns = columnas)\n",
    "df_lista_archivos_recibidos.head(50)\n",
    "\n",
    "df_lista_archivos_recibidos[\"tipoInsumo\"] = None"
   ]
  },
  {
   "cell_type": "markdown",
   "metadata": {},
   "source": [
    "<h4>Tipificación de insumos en dataframe</h4>"
   ]
  },
  {
   "cell_type": "code",
   "execution_count": null,
   "metadata": {},
   "outputs": [],
   "source": [
    "\n",
    "# ** Documental\n",
    "df_lista_archivos_recibidos.loc[(df_lista_archivos_recibidos['tipoInsumo'].isnull()) & \n",
    "                                ((df_lista_archivos_recibidos['extensionArchivo'] == '.pdf') |\n",
    "                                 (df_lista_archivos_recibidos['extensionArchivo'] == '.PDF') |\n",
    "                                 (df_lista_archivos_recibidos['extensionArchivo'] == '.doc') |\n",
    "                                 (df_lista_archivos_recibidos['extensionArchivo'] == '.DOC') |\n",
    "                                 (df_lista_archivos_recibidos['extensionArchivo'] == '.docx') |\n",
    "                                 (df_lista_archivos_recibidos['extensionArchivo'] == '.DOCX')), 'tipoInsumo'] = 'Documental'\n",
    "\n",
    "# ** Geográfica\n",
    "df_lista_archivos_recibidos.loc[(df_lista_archivos_recibidos['tipoInsumo'].isnull()) & \n",
    "                                ((df_lista_archivos_recibidos['extensionArchivo'] == '.gdb') |\n",
    "                                 (df_lista_archivos_recibidos['extensionArchivo'] == '.GDB') |\n",
    "                                 (df_lista_archivos_recibidos['extensionArchivo'] == '.shp') |\n",
    "                                 (df_lista_archivos_recibidos['extensionArchivo'] == '.SHP') |\n",
    "                                 (df_lista_archivos_recibidos['extensionArchivo'] == '.geojson') |\n",
    "                                 (df_lista_archivos_recibidos['extensionArchivo'] == '.GEOJSON')), 'tipoInsumo'] = 'Geografica'\n",
    "\n",
    "# ** Alfanumérica\n",
    "df_lista_archivos_recibidos.loc[(df_lista_archivos_recibidos['tipoInsumo'].isnull()) & \n",
    "                                ((df_lista_archivos_recibidos['extensionArchivo'] == '.xlsx') |\n",
    "                                 (df_lista_archivos_recibidos['extensionArchivo'] == '.XLSX') |\n",
    "                                 (df_lista_archivos_recibidos['extensionArchivo'] == '.xls') |\n",
    "                                 (df_lista_archivos_recibidos['extensionArchivo'] == '.XLS') |\n",
    "                                 (df_lista_archivos_recibidos['extensionArchivo'] == '.json') |\n",
    "                                 (df_lista_archivos_recibidos['extensionArchivo'] == '.JSON') |\n",
    "                                 (df_lista_archivos_recibidos['extensionArchivo'] == '.xtf') |\n",
    "                                 (df_lista_archivos_recibidos['extensionArchivo'] == '.XTF') |\n",
    "                                 (df_lista_archivos_recibidos['extensionArchivo'] == '.ili') |\n",
    "                                 (df_lista_archivos_recibidos['extensionArchivo'] == '.ILI') |\n",
    "                                 (df_lista_archivos_recibidos['extensionArchivo'] == '.txt') |\n",
    "                                 (df_lista_archivos_recibidos['extensionArchivo'] == '.TXT') |\n",
    "                                 (df_lista_archivos_recibidos['extensionArchivo'] == '.csv') |\n",
    "                                 (df_lista_archivos_recibidos['extensionArchivo'] == '.CSV') |\n",
    "                                 (df_lista_archivos_recibidos['extensionArchivo'] == '.dwg') |\n",
    "                                 (df_lista_archivos_recibidos['extensionArchivo'] == '.DWG') |\n",
    "                                 (df_lista_archivos_recibidos['extensionArchivo'] == '.dxf') |\n",
    "                                 (df_lista_archivos_recibidos['extensionArchivo'] == '.DXF')), 'tipoInsumo'] = 'Geografica'"
   ]
  },
  {
   "cell_type": "markdown",
   "metadata": {},
   "source": [
    "<h4>Generación de CSV</h4>"
   ]
  },
  {
   "cell_type": "code",
   "execution_count": null,
   "metadata": {},
   "outputs": [],
   "source": [
    "df_lista_archivos_recibidos.to_csv(os.path.join(ruta_salida_csv,nombre_csv))"
   ]
  }
 ],
 "metadata": {
  "kernelspec": {
   "display_name": "Python 3",
   "language": "python",
   "name": "python3"
  },
  "language_info": {
   "codemirror_mode": {
    "name": "ipython",
    "version": 3
   },
   "file_extension": ".py",
   "mimetype": "text/x-python",
   "name": "python",
   "nbconvert_exporter": "python",
   "pygments_lexer": "ipython3",
   "version": "3.9.18"
  }
 },
 "nbformat": 4,
 "nbformat_minor": 2
}
