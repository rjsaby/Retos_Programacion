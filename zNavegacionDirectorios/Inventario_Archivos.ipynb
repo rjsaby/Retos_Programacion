{
 "cells": [
  {
   "cell_type": "code",
   "execution_count": null,
   "metadata": {},
   "outputs": [],
   "source": [
    "import os\n",
    "from pathlib import Path\n",
    "import pandas as pd"
   ]
  },
  {
   "cell_type": "code",
   "execution_count": null,
   "metadata": {},
   "outputs": [],
   "source": [
    "ruta_drive = r'G:\\Mi unidad\\Equipo_Consolidacion\\Hitos\\zDocumentacion_Referencia\\1_Documentos_Oficiales_IGAC\\3.Listado_Maestro_Documental'"
   ]
  },
  {
   "cell_type": "code",
   "execution_count": null,
   "metadata": {},
   "outputs": [],
   "source": [
    "lista_directorio_principal = []\n",
    "lista_directorio_raiz = []\n",
    "lista_subdirectorio = []\n",
    "lista_documento = []\n",
    "\n",
    "for ruta, directorio, archivo in os.walk(ruta_drive):\n",
    "    for nombre_archivo in archivo:\n",
    "        ruta_archivo = os.path.join(ruta, nombre_archivo)\n",
    "        P = Path(ruta_archivo)\n",
    "        if len(P.parts) == 8:\n",
    "            directorio_principal, directorio_raiz, subdirectorio, documento = P.parts[-2],'No aplica','No aplica',P.parts[-1]\n",
    "            lista_directorio_principal.append(directorio_principal)\n",
    "            lista_directorio_raiz.append(directorio_raiz)\n",
    "            lista_subdirectorio.append(subdirectorio)\n",
    "            lista_documento.append(documento)\n",
    "        elif len(P.parts) == 10:\n",
    "            directorio_principal, directorio_raiz, subdirectorio, documento = P.parts[-3],P.parts[-2],'No aplica',P.parts[-1]\n",
    "            lista_directorio_principal.append(directorio_principal)\n",
    "            lista_directorio_raiz.append(directorio_raiz)\n",
    "            lista_subdirectorio.append(subdirectorio)\n",
    "            lista_documento.append(documento)\n",
    "        elif len(P.parts) == 11:\n",
    "            directorio_principal, directorio_raiz, subdirectorio, documento = P.parts[-4],P.parts[-3],P.parts[-2],P.parts[-1]\n",
    "            lista_directorio_principal.append(directorio_principal)\n",
    "            lista_directorio_raiz.append(directorio_raiz)\n",
    "            lista_subdirectorio.append(subdirectorio)\n",
    "            lista_documento.append(documento)\n",
    "        else:\n",
    "            print(\"Longitud fuera del análisis\")    \n"
   ]
  },
  {
   "cell_type": "code",
   "execution_count": null,
   "metadata": {},
   "outputs": [],
   "source": [
    "lista_unificada = zip(lista_directorio_principal, lista_directorio_raiz, lista_subdirectorio, lista_documento)\n",
    "\n",
    "columnas = ['Directorio Principal','Directorio Raiz','Subdirectorio','Nombre Documento']\n",
    "\n",
    "df_listado_maestro_documental = pd.DataFrame(lista_unificada, columns = columnas)"
   ]
  },
  {
   "cell_type": "code",
   "execution_count": null,
   "metadata": {},
   "outputs": [],
   "source": [
    "directorio_salida_csv = r\"C:\\Users\\rodian.saby\\OneDrive\\Documentos\\docsProyectos\\5.RAISS\\2024.0.RAISS_Lote_4\\6.Hitos\\E1_Alistamiento_Diagnostico\\1_Alistamiento\\3.Inventario_Insumos\"\n",
    "nombre_csv = 'Inventario_Listado_Maestro_Documental.csv'\n",
    "ruta_salida_csv = os.path.join(directorio_salida_csv, nombre_csv)\n",
    "\n",
    "df_listado_maestro_documental.to_csv(ruta_salida_csv)\n",
    "print(f\"Se exporta csv {ruta_salida_csv}\")"
   ]
  }
 ],
 "metadata": {
  "kernelspec": {
   "display_name": "Python 3",
   "language": "python",
   "name": "python3"
  },
  "language_info": {
   "codemirror_mode": {
    "name": "ipython",
    "version": 3
   },
   "file_extension": ".py",
   "mimetype": "text/x-python",
   "name": "python",
   "nbconvert_exporter": "python",
   "pygments_lexer": "ipython3",
   "version": "3.9.18"
  }
 },
 "nbformat": 4,
 "nbformat_minor": 2
}
