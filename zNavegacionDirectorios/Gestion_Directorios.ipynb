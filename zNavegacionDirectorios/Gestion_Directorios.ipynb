{
 "cells": [
  {
   "cell_type": "code",
   "execution_count": null,
   "metadata": {},
   "outputs": [],
   "source": [
    "import os\n",
    "from pathlib import Path\n",
    "ruta_analisis = r\"C:\\docsProyectos\"\n",
    "\n",
    "# ** Forma tradicional de listar directorios con el módulo os y la función listdir()\n",
    "lista_directorios = os.listdir(ruta_analisis)\n",
    "print(lista_directorios)\n",
    "\n",
    "# ** Listar todos los directorios con el módulo Path y la función iterdir()\n",
    "p = Path(ruta_analisis)\n",
    "[x for x in p.iterdir() if x.is_dir()]\n",
    "\n",
    "# ** Listar del directorio principal todos los archivos que tenerminen con una extensión determinada.\n",
    "lista_py = list(p.glob('**/*.py'))\n",
    "\n",
    "# ** Recorro la lista de todos los archivos .py que hay en el directorio y con la propiedad -parts- los divido\n",
    "for i in lista_py:\n",
    "    print(\"Ruta: \" , i , '\\n' ,\n",
    "          \"Ruta dividida: \" , i.parts , '\\n', \n",
    "          \"Sufijo: \" , i.suffix, '\\n', \n",
    "          \"Nombre archivo con sufijo: \", i.name, '\\n',\n",
    "          \"Nombre archivo sin sufijo: \" , i.stem)"
   ]
  },
  {
   "cell_type": "code",
   "execution_count": null,
   "metadata": {},
   "outputs": [],
   "source": [
    "for ruta, directorio, archivo in os.walk(ruta_analisis):\n",
    "    print(\"Ruta: \", ruta)\n",
    "    print(\"Directorio: \", directorio)\n",
    "    print(\"Archivos: \", archivo)\n",
    "    print(\"----------------------------------------------------------------\")"
   ]
  },
  {
   "cell_type": "code",
   "execution_count": null,
   "metadata": {},
   "outputs": [],
   "source": [
    "rutas_archivos = []\n",
    "rutas_directorios = []\n",
    "for ruta, directorio, archivo in os.walk(ruta_analisis, topdown=True):\n",
    "   for nombre in archivo:\n",
    "      rutas_archivos.append(os.path.join(ruta, nombre))\n",
    "   for nombre in directorio:\n",
    "      rutas_directorios.append(os.path.join(ruta, nombre))"
   ]
  },
  {
   "cell_type": "code",
   "execution_count": null,
   "metadata": {},
   "outputs": [],
   "source": [
    "# Crea un script que cuente y muestre la cantidad de archivos por tipo (por ejemplo, cuántos archivos de texto, cuántas imágenes, etc.) en un directorio."
   ]
  },
  {
   "cell_type": "code",
   "execution_count": null,
   "metadata": {},
   "outputs": [],
   "source": [
    "ruta_prueba = r\"C:\\docsProyectos\\3.PGAR\\Resultados\\2.Py\"\n",
    "\n",
    "ruta = Path(ruta_prueba)\n",
    "\n",
    "lista_archivos = [i.suffix for i in ruta.iterdir() if i.is_file()]\n",
    "\n",
    "conteo = {}\n",
    "reporte = {}\n",
    "for j in lista_archivos:\n",
    "    if lista_archivos.count(j) >=1:\n",
    "        conteo[j] = lista_archivos.count(j)\n",
    "        reporte[ruta_prueba] = conteo   \n",
    "\n",
    "print(reporte)"
   ]
  },
  {
   "cell_type": "code",
   "execution_count": null,
   "metadata": {},
   "outputs": [],
   "source": [
    "# class total_archivos_por_directorio:\n",
    "#     def __init__(self\n",
    "#         ,ruta_directorio):\n",
    "        \n",
    "#         self.ruta_directorio = ruta_directorio\n",
    "    \n",
    "#     def calculo_total_archivos_por_directorio(self):\n",
    "#         lista_archivos = [i.suffix for i in self.ruta_directorio.iterdir() if i.is_file()]\n",
    "#         conteo = {}\n",
    "#         reporte = {}\n",
    "#         for j in lista_archivos:\n",
    "#             if lista_archivos.count(j) >=1:\n",
    "#                 conteo[j] = lista_archivos.count(j)\n",
    "#                 reporte[ruta_prueba] = conteo\n",
    "#         return reporte                 "
   ]
  }
 ],
 "metadata": {
  "kernelspec": {
   "display_name": "Python 3",
   "language": "python",
   "name": "python3"
  },
  "language_info": {
   "codemirror_mode": {
    "name": "ipython",
    "version": 3
   },
   "file_extension": ".py",
   "mimetype": "text/x-python",
   "name": "python",
   "nbconvert_exporter": "python",
   "pygments_lexer": "ipython3",
   "version": "3.11.7"
  }
 },
 "nbformat": 4,
 "nbformat_minor": 2
}
