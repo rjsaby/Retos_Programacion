{
 "cells": [
  {
   "cell_type": "code",
   "execution_count": null,
   "metadata": {},
   "outputs": [],
   "source": [
    "import os\n",
    "import pandas as pd\n",
    "from pathlib import Path\n",
    "import datetime\n",
    "\n",
    "# ** Importar Librerías Propias\n",
    "import funcion_generacion_inventario_informacion"
   ]
  },
  {
   "cell_type": "code",
   "execution_count": null,
   "metadata": {},
   "outputs": [],
   "source": [
    "ruta_base = r\"C:\\docsInvestigacion\\Python\\Retos_Programacion\"\n",
    "ruta_salida_xlsx = r\"C:\\docsInvestigacion\\Python\\Retos_Programacion\"\n",
    "nombre_xlsx = 'Inventario_Informacion.xlsx'"
   ]
  },
  {
   "cell_type": "code",
   "execution_count": null,
   "metadata": {},
   "outputs": [],
   "source": [
    "funcion_generacion_inventario_informacion.generacion_inventario_informacion(ruta_base, ruta_salida_xlsx, nombre_xlsx)\n",
    "print(\"Ejecución de Función\")"
   ]
  }
 ],
 "metadata": {
  "kernelspec": {
   "display_name": "Python 3",
   "language": "python",
   "name": "python3"
  },
  "language_info": {
   "codemirror_mode": {
    "name": "ipython",
    "version": 3
   },
   "file_extension": ".py",
   "mimetype": "text/x-python",
   "name": "python",
   "nbconvert_exporter": "python",
   "pygments_lexer": "ipython3",
   "version": "3.11.8"
  }
 },
 "nbformat": 4,
 "nbformat_minor": 2
}
