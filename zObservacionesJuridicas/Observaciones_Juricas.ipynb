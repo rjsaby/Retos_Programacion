{
 "cells": [
  {
   "cell_type": "code",
   "execution_count": null,
   "metadata": {},
   "outputs": [],
   "source": [
    "import pandas as pd\n",
    "from arcgis.features import GeoAccessor, GeoSeriesAccessor\n",
    "import os\n",
    "import arcpy"
   ]
  },
  {
   "cell_type": "code",
   "execution_count": null,
   "metadata": {},
   "outputs": [],
   "source": [
    "\n",
    "# ** Importación de CSV - Repelón\n",
    "csv_salgado_606 = r\"C:\\Users\\rodian.saby\\OneDrive\\Documentos\\docsProyectos\\5.RAISS\\2024.0.RAISS_Lote_4\\6.Hitos\\zApoyo_A_Equipos\\zApoyoEquipoJuridico\\6.EspacializacionObservacionesJuridicas\\zInsumos\\Repelon\\ANDRES_SALGADO.xlsx - REPARTO_JCO.csv\"\n",
    "csv_portilla_606 = r\"C:\\Users\\rodian.saby\\OneDrive\\Documentos\\docsProyectos\\5.RAISS\\2024.0.RAISS_Lote_4\\6.Hitos\\zApoyo_A_Equipos\\zApoyoEquipoJuridico\\6.EspacializacionObservacionesJuridicas\\zInsumos\\Repelon\\LUIS_PORTILLA.xlsx - REPARTO_JCO.csv\"\n",
    "csv_delahoz_606 = r\"C:\\Users\\rodian.saby\\OneDrive\\Documentos\\docsProyectos\\5.RAISS\\2024.0.RAISS_Lote_4\\6.Hitos\\zApoyo_A_Equipos\\zApoyoEquipoJuridico\\6.EspacializacionObservacionesJuridicas\\zInsumos\\Repelon\\MELANY_DELAHOZ.xlsx - REPARTO_JCO.csv\"\n",
    "csv_valencia_606 = r\"C:\\Users\\rodian.saby\\OneDrive\\Documentos\\docsProyectos\\5.RAISS\\2024.0.RAISS_Lote_4\\6.Hitos\\zApoyo_A_Equipos\\zApoyoEquipoJuridico\\6.EspacializacionObservacionesJuridicas\\zInsumos\\Repelon\\SANTIAGO_VALENCIA.xlsx - REPARTO_JCO.csv\"\n",
    "csv_cortez_606 = r\"C:\\Users\\rodian.saby\\OneDrive\\Documentos\\docsProyectos\\5.RAISS\\2024.0.RAISS_Lote_4\\6.Hitos\\zApoyo_A_Equipos\\zApoyoEquipoJuridico\\6.EspacializacionObservacionesJuridicas\\zInsumos\\Repelon\\SEBASTIAN_CORTEZ.xlsx - REPARTO_JCO.csv\"\n",
    "\n",
    "# ** Importación de CSV - Maria La Baja\n",
    "csv_salgado_442 = r\"C:\\Users\\rodian.saby\\OneDrive\\Documentos\\docsProyectos\\5.RAISS\\2024.0.RAISS_Lote_4\\6.Hitos\\zApoyo_A_Equipos\\zApoyoEquipoJuridico\\6.EspacializacionObservacionesJuridicas\\zInsumos\\MariaLaBaja\\ANDRES_SALGADO_442.xlsx - REPARTO_JCO_19FMI.csv\"\n",
    "csv_portilla_442 = r\"C:\\Users\\rodian.saby\\OneDrive\\Documentos\\docsProyectos\\5.RAISS\\2024.0.RAISS_Lote_4\\6.Hitos\\zApoyo_A_Equipos\\zApoyoEquipoJuridico\\6.EspacializacionObservacionesJuridicas\\zInsumos\\MariaLaBaja\\LUIS_PORTILLA_442.xlsx - REPARTO_JCO_19FMI.csv\"\n",
    "csv_delahoz_442 = r\"C:\\Users\\rodian.saby\\OneDrive\\Documentos\\docsProyectos\\5.RAISS\\2024.0.RAISS_Lote_4\\6.Hitos\\zApoyo_A_Equipos\\zApoyoEquipoJuridico\\6.EspacializacionObservacionesJuridicas\\zInsumos\\MariaLaBaja\\MELANY_DELAHOZ_442.xlsx - REPARTO_JCO_20FMI.csv\"\n",
    "csv_valencia_442 = r\"C:\\Users\\rodian.saby\\OneDrive\\Documentos\\docsProyectos\\5.RAISS\\2024.0.RAISS_Lote_4\\6.Hitos\\zApoyo_A_Equipos\\zApoyoEquipoJuridico\\6.EspacializacionObservacionesJuridicas\\zInsumos\\MariaLaBaja\\SANTIAGO_VALENCIA_442.xlsx - 34 HTS, 3,750 MTS2.csv\"\n",
    "csv_cortez_442 = r\"C:\\Users\\rodian.saby\\OneDrive\\Documentos\\docsProyectos\\5.RAISS\\2024.0.RAISS_Lote_4\\6.Hitos\\zApoyo_A_Equipos\\zApoyoEquipoJuridico\\6.EspacializacionObservacionesJuridicas\\zInsumos\\MariaLaBaja\\SEBASTIAN_CORTEZ_442.xlsx - REPARTO_JCO_19FMI.csv\"\n",
    "\n",
    "\"\"\"\n",
    "    Variables\n",
    "\"\"\"\n",
    "\n",
    "# columnas_filtro = ['NUMERO_PREDIAL',\n",
    "#     'CODIGO_TERRENO',\n",
    "#     'CODIGO_MUNICIPIO',\n",
    "#     'MATRICULA_INMOBILIARIA',\n",
    "#     'TERRENO',\n",
    "#     'CONDICION_PREDIO',\n",
    "#     'TIPO_DOCUMENTO',\n",
    "#     'NUMERO_DOCUMENTO',\n",
    "#     'NOMBRE',\n",
    "#     'DIRECCION',\n",
    "#     'AREA_TERRENO_R1',\n",
    "#     'Area_ha_cmt12',\n",
    "#     'ÁREA_FMI',\n",
    "#     'NRO_ANOTACIÓN_FMI',\n",
    "#     'OBSERVACIONES']\n",
    "\n",
    "columnas_filtro = ['NUMERO_PREDIAL',\n",
    "    'CODIGO_TERRENO',\n",
    "    'CODIGO_MUNICIPIO',\n",
    "    'MATRICULA_INMOBILIARIA',\n",
    "    'ÁREA_FMI',\n",
    "    'NRO_ANOTACIÓN_FMI',\n",
    "    'OBSERVACIONES']\n",
    "\n",
    "tipos_datos = {\n",
    "    'NUMERO_PREDIAL':str,\n",
    "    'CODIGO_TERRENO':str,\n",
    "    'CODIGO_MUNICIPIO':str,\n",
    "    'MATRICULA_INMOBILIARIA':str,\n",
    "    # 'TERRENO': str\n",
    "    }\n",
    "\n",
    "columnas_estandarizadas = {'NUMERO_PREDIAL': 'numero_predial',\n",
    "    'CODIGO_TERRENO':'codigo_terreno',\n",
    "    'CODIGO_MUNICIPIO':'codigo_municipio',\n",
    "    'MATRICULA_INMOBILIARIA':'matricula_inmobiliaria',\n",
    "    'ÁREA_FMI':'area_fmi',\n",
    "    'NRO_ANOTACIÓN_FMI':'nro_anotacion_fmi',\n",
    "    'OBSERVACIONES':'observaciones'}"
   ]
  },
  {
   "cell_type": "code",
   "execution_count": null,
   "metadata": {},
   "outputs": [],
   "source": [
    "\"\"\"\n",
    "    Preparación Repelón\n",
    "\"\"\"\n",
    "\n",
    "# ! Mejorar a partir de función\n",
    "# ** Construcción de DataFrames\n",
    "df_salgado_606 = pd.read_csv(csv_salgado_606, dtype = tipos_datos)\n",
    "df_portilla_606 = pd.read_csv(csv_portilla_606, dtype = tipos_datos)\n",
    "df_delahoz_606 = pd.read_csv(csv_delahoz_606, dtype = tipos_datos)\n",
    "df_valencia_606 = pd.read_csv(csv_valencia_606, dtype = tipos_datos)\n",
    "df_cortez_606 = pd.read_csv(csv_cortez_606, dtype = tipos_datos)\n",
    "\n",
    "# ** Filtrado de columnas y registro de Jurídico\n",
    "\n",
    "df_salgado_606 = df_salgado_606[columnas_filtro]\n",
    "df_salgado_606['profesional_juridico'] = 'Salgado'\n",
    "\n",
    "df_portilla_606 = df_portilla_606[columnas_filtro]\n",
    "df_portilla_606['profesional_juridico'] = 'Portilla'\n",
    "\n",
    "df_delahoz_606 = df_delahoz_606[columnas_filtro]\n",
    "df_delahoz_606['profesional_juridico'] = 'De la Hoz'\n",
    "\n",
    "df_valencia_606 = df_valencia_606[columnas_filtro]\n",
    "df_valencia_606['profesional_juridico'] = 'Valencia'\n",
    "\n",
    "df_cortez_606 = df_cortez_606[columnas_filtro]\n",
    "df_cortez_606['profesional_juridico'] = 'Cortez'\n",
    "\n",
    "# ** Consolidación de DFs\n",
    "df_observaciones_consolidado_606 = pd.concat([df_salgado_606, df_portilla_606, df_delahoz_606, df_valencia_606, df_cortez_606])\n",
    "\n",
    "# ** Renombrado de Columnas\n",
    "df_observaciones_consolidado_estandarizado_606 = df_observaciones_consolidado_606.rename(columns=columnas_estandarizadas)"
   ]
  },
  {
   "cell_type": "code",
   "execution_count": null,
   "metadata": {},
   "outputs": [],
   "source": [
    "\"\"\"\n",
    "    Preparación María La Baja\n",
    "\"\"\"\n",
    "\n",
    "# ! Mejorar a partir de función\n",
    "# ** Construcción de DataFrames\n",
    "df_salgado_442 = pd.read_csv(csv_salgado_442, dtype = tipos_datos)\n",
    "df_portilla_442 = pd.read_csv(csv_portilla_442, dtype = tipos_datos)\n",
    "df_delahoz_442 = pd.read_csv(csv_delahoz_442, dtype = tipos_datos)\n",
    "df_valencia_442 = pd.read_csv(csv_valencia_442, dtype = tipos_datos)\n",
    "df_cortez_442 = pd.read_csv(csv_cortez_442, dtype = tipos_datos)\n",
    "\n",
    "# ** Filtrado de columnas y registro de Jurídico\n",
    "\n",
    "df_salgado_442 = df_salgado_442[columnas_filtro]\n",
    "df_salgado_442['profesional_juridico'] = 'Salgado'\n",
    "\n",
    "df_portilla_442 = df_portilla_442[columnas_filtro]\n",
    "df_portilla_442['profesional_juridico'] = 'Portilla'\n",
    "\n",
    "df_delahoz_442 = df_delahoz_442[columnas_filtro]\n",
    "df_delahoz_442['profesional_juridico'] = 'De la Hoz'\n",
    "\n",
    "df_valencia_442 = df_valencia_442[columnas_filtro]\n",
    "df_valencia_442['profesional_juridico'] = 'Valencia'\n",
    "\n",
    "df_cortez_442 = df_cortez_442[columnas_filtro]\n",
    "df_cortez_442['profesional_juridico'] = 'Cortez'\n",
    "\n",
    "# ** Consolidación de DFs\n",
    "df_observaciones_consolidado_442 = pd.concat([df_salgado_442, df_portilla_442, df_delahoz_442, df_valencia_442, df_cortez_442])\n",
    "\n",
    "# ** Renombrado de Columnas\n",
    "df_observaciones_consolidado_estandarizado_442 = df_observaciones_consolidado_442.rename(columns=columnas_estandarizadas)"
   ]
  },
  {
   "cell_type": "markdown",
   "metadata": {},
   "source": [
    "<h2>Unificación Municipios</h2>"
   ]
  },
  {
   "cell_type": "code",
   "execution_count": null,
   "metadata": {},
   "outputs": [],
   "source": [
    "\n",
    "# ** Consolidación de DFs\n",
    "df_observaciones_consolidado = pd.concat([df_observaciones_consolidado_estandarizado_606, df_observaciones_consolidado_estandarizado_442])\n",
    "\n",
    "\n",
    "# ** Calidad en Códigos de Municipio\n",
    "df_observaciones_consolidado.loc[df_observaciones_consolidado['codigo_municipio'] == '8606','codigo_municipio'] = '08606'"
   ]
  },
  {
   "cell_type": "markdown",
   "metadata": {},
   "source": [
    "<h2>Migración de resultados a XLSX</h2>"
   ]
  },
  {
   "cell_type": "code",
   "execution_count": null,
   "metadata": {},
   "outputs": [],
   "source": [
    "directorio_salida_xlsx = r\"C:\\docsProyectos\\5.RAISS\\2024.0.RAISS_Lote_4\\6.Hitos\\zApoyo_A_Equipos\\zApoyoEquipoReconocimiento\\2.Asignacion_Vs_ObservacionesJuridicas\\zInsumos\"\n",
    "NOMBRE_ARCHIVO_XLSX = 'Asignacion_Reconocimiento_Normalizado.xlsx'\n",
    "\n",
    "ruta_salida_xlsx = os.path.join(directorio_salida_xlsx, NOMBRE_ARCHIVO_XLSX)\n",
    "\n",
    "df_observaciones_consolidado.to_excel(ruta_salida_xlsx, sheet_name='Asignacion_E')\n",
    "print(f\"Se crea XLSX {NOMBRE_ARCHIVO_XLSX}\")"
   ]
  },
  {
   "cell_type": "markdown",
   "metadata": {},
   "source": [
    "<h3>Espacialización Terrenos</h3>"
   ]
  },
  {
   "cell_type": "code",
   "execution_count": null,
   "metadata": {},
   "outputs": [],
   "source": [
    "RUTA_BDCONSOLIDADA = r\"C:\\docsProyectos\\5.RAISS\\2024.0.RAISS_Lote_4\\6.Hitos\\E1_Alistamiento_Diagnostico\\3_Disposicion\\1.BD_Consolidada\\BD_Consolidada_Lote4.gdb\"\n",
    "ruta_shp = r\"C:\\Users\\rodian.saby\\OneDrive\\Documentos\\docsProyectos\\5.RAISS\\2024.0.RAISS_Lote_4\\6.Hitos\\zApoyo_A_Equipos\\zApoyoEquipoJuridico\\6.EspacializacionObservacionesJuridicas\\zShp\"\n",
    "\n",
    "CAPA_TERRENOS_R = 'Analitica_UT_Consolidada\\R_TERRENO'\n",
    "CAPA_TERRENOS_U = 'Analitica_UT_Consolidada\\\\U_TERRENO'\n",
    "SHP = 'Predios_Con_ObservacionesJuridicas.shp'\n",
    "\n",
    "capa_terrenos_rurales = os.path.join(RUTA_BDCONSOLIDADA, CAPA_TERRENOS_R)\n",
    "capa_terrenos_urbanos = os.path.join(RUTA_BDCONSOLIDADA, CAPA_TERRENOS_U)\n",
    "\n",
    "# ** Terrenos Rurales\n",
    "df_terreno_rural = pd.DataFrame.spatial.from_featureclass(capa_terrenos_rurales)\n",
    "\n",
    "# ** Terrenos Urbanos\n",
    "df_terreno_urbano = pd.DataFrame.spatial.from_featureclass(capa_terrenos_urbanos)\n",
    "\n",
    "# ** Selección de columnas\n",
    "columnas_selecciones = ['CODIGO',\n",
    "    'CODIGO_ANTERIOR',\n",
    "    'SHAPE']\n",
    "\n",
    "# ** DF Terrenos Rurales, Urbanos\n",
    "df_terreno_rural_reducido = df_terreno_rural[columnas_selecciones]\n",
    "df_terreno_urbano_reducido = df_terreno_urbano[columnas_selecciones]\n",
    "\n",
    "# ** Concatenación de dataframes\n",
    "df_terrenos = pd.concat([df_terreno_rural_reducido, df_terreno_urbano_reducido])"
   ]
  },
  {
   "cell_type": "markdown",
   "metadata": {},
   "source": [
    "<h2>Espacialización de observaciones</h2>"
   ]
  },
  {
   "cell_type": "code",
   "execution_count": null,
   "metadata": {},
   "outputs": [],
   "source": [
    "# ** Terrenos Gestionados SIG Espacializados\n",
    "df_terrenos_observaciones_juridicas = pd.merge(df_terrenos, df_observaciones_consolidado, left_on='CODIGO', right_on='numero_predial', how='inner')"
   ]
  },
  {
   "cell_type": "markdown",
   "metadata": {},
   "source": [
    "<h2>Exportación de resultados</h2>"
   ]
  },
  {
   "cell_type": "code",
   "execution_count": null,
   "metadata": {},
   "outputs": [],
   "source": [
    "NOMBRE_CAPA_SALIDA = f\"Analitica_UT_Consolidada\\\\{'terrenos_con_observaciones_juridicas'.upper()}\"\n",
    "ruta_salida_terrenos_contro_cambios = os.path.join(RUTA_BDCONSOLIDADA, NOMBRE_CAPA_SALIDA)\n",
    "\n",
    "df_terrenos_observaciones_juridicas.spatial.to_featureclass(location=ruta_salida_terrenos_contro_cambios)\n",
    "print(f\"Se exporta la capa {NOMBRE_CAPA_SALIDA}\")\n",
    "\n",
    "\n",
    "# ** Exportación SHP\n",
    "ruta_salida_shp = os.path.join(ruta_shp, SHP)\n",
    "df_terrenos_observaciones_juridicas.spatial.to_featureclass(location=ruta_salida_shp)\n",
    "print(f\"Se exporta la capa {SHP}\")"
   ]
  }
 ],
 "metadata": {
  "kernelspec": {
   "display_name": "Python 3",
   "language": "python",
   "name": "python3"
  },
  "language_info": {
   "codemirror_mode": {
    "name": "ipython",
    "version": 3
   },
   "file_extension": ".py",
   "mimetype": "text/x-python",
   "name": "python",
   "nbconvert_exporter": "python",
   "pygments_lexer": "ipython3",
   "version": "3.9.18"
  }
 },
 "nbformat": 4,
 "nbformat_minor": 2
}
