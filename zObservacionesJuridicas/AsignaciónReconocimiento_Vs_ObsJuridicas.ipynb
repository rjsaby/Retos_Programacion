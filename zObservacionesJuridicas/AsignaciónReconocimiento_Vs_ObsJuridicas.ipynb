{
 "cells": [
  {
   "cell_type": "code",
   "execution_count": null,
   "metadata": {},
   "outputs": [],
   "source": [
    "import pandas as pd\n",
    "from arcgis.features import GeoAccessor, GeoSeriesAccessor\n",
    "import os\n",
    "import arcpy"
   ]
  },
  {
   "cell_type": "markdown",
   "metadata": {},
   "source": [
    "<h3>Enrutamiendo de directorios</h3>"
   ]
  },
  {
   "cell_type": "code",
   "execution_count": null,
   "metadata": {},
   "outputs": [],
   "source": [
    "RUTA_ARCHIVO_ASIGNACION_RECONOCIMIENTO = r\"C:\\Users\\rodian.saby\\OneDrive\\Documentos\\docsProyectos\\5.RAISS\\2024.0.RAISS_Lote_4\\6.Hitos\\zApoyo_A_Equipos\\zApoyoEquipoReconocimiento\\2.Asignacion_Vs_ObservacionesJuridicas\\zInsumos\\asignacion_general_marialabaja_estandarizada.xlsx\"\n",
    "RUTA_BDCONSOLIDADA = r\"C:\\docsProyectos\\5.RAISS\\2024.0.RAISS_Lote_4\\6.Hitos\\E1_Alistamiento_Diagnostico\\3_Disposicion\\1.BD_Consolidada\\BD_Consolidada_Lote4.gdb\"\n",
    "CAPA_OBSERVACION_JURIDICA = 'Analitica_UT_Consolidada\\R_TERRENO'\n",
    "RUTA_OBSERVACIONES_JURIDICAS = r\"C:\\Users\\rodian.saby\\OneDrive\\Documentos\\docsProyectos\\5.RAISS\\2024.0.RAISS_Lote_4\\6.Hitos\\zApoyo_A_Equipos\\zApoyoEquipoReconocimiento\\2.Asignacion_Vs_ObservacionesJuridicas\\zInsumos\\Asignacion_Reconocimiento_Normalizado.xlsx\"\n",
    "\n",
    "CAPA_TERRENOS_R = 'Analitica_UT_Consolidada\\R_TERRENO'\n",
    "CAPA_TERRENOS_U = 'Analitica_UT_Consolidada\\\\U_TERRENO'\n",
    "SHP = 'Asignacion_Terrenos_Con_Observaciones_Juridicas.shp'\n",
    "\n",
    "ruta_shp = r\"C:\\Users\\rodian.saby\\OneDrive\\Documentos\\docsProyectos\\5.RAISS\\2024.0.RAISS_Lote_4\\6.Hitos\\zApoyo_A_Equipos\\zApoyoEquipoReconocimiento\\2.Asignacion_Vs_ObservacionesJuridicas\\zShp\""
   ]
  },
  {
   "cell_type": "code",
   "execution_count": null,
   "metadata": {},
   "outputs": [],
   "source": [
    "df_asignacion_reconocimiento = pd.read_excel(RUTA_ARCHIVO_ASIGNACION_RECONOCIMIENTO, sheet_name='Normalizacion')\n",
    "df_observaciones_juridicas = pd.read_excel(RUTA_OBSERVACIONES_JURIDICAS, sheet_name='Asignacion_E')"
   ]
  },
  {
   "cell_type": "markdown",
   "metadata": {},
   "source": [
    "<h3>Llamada a resultados de la espacialización de las Observaciones</h3>"
   ]
  },
  {
   "cell_type": "markdown",
   "metadata": {},
   "source": [
    "<h3>Unificación de Asignación y Objervaciones Jurídicas</h3>"
   ]
  },
  {
   "cell_type": "code",
   "execution_count": null,
   "metadata": {},
   "outputs": [],
   "source": [
    "\n",
    "# ** Terrenos Gestionados SIG Espacializados\n",
    "df_asignacion_observaciones = pd.merge(df_asignacion_reconocimiento, df_observaciones_juridicas, left_on='codigo', right_on='codigo_terreno', how='inner')"
   ]
  },
  {
   "cell_type": "code",
   "execution_count": null,
   "metadata": {},
   "outputs": [],
   "source": [
    "\n",
    "# ** Estandarizacion Capitalize\n",
    "df_asignacion_observaciones['reconocedor'] = df_asignacion_observaciones['reconocedor'].str.title()"
   ]
  },
  {
   "cell_type": "code",
   "execution_count": null,
   "metadata": {},
   "outputs": [],
   "source": [
    "\n",
    "capa_terrenos_rurales = os.path.join(RUTA_BDCONSOLIDADA, CAPA_TERRENOS_R)\n",
    "capa_terrenos_urbanos = os.path.join(RUTA_BDCONSOLIDADA, CAPA_TERRENOS_U)\n",
    "\n",
    "# ** Terrenos Rurales\n",
    "df_terreno_rural = pd.DataFrame.spatial.from_featureclass(capa_terrenos_rurales)\n",
    "\n",
    "# ** Terrenos Urbanos\n",
    "df_terreno_urbano = pd.DataFrame.spatial.from_featureclass(capa_terrenos_urbanos)\n",
    "\n",
    "# ** Selección de columnas\n",
    "columnas_selecciones = ['CODIGO',\n",
    "    'CODIGO_ANTERIOR',\n",
    "    'SHAPE']\n",
    "\n",
    "# ** DF Terrenos Rurales, Urbanos\n",
    "df_terreno_rural_reducido = df_terreno_rural[columnas_selecciones]\n",
    "df_terreno_urbano_reducido = df_terreno_urbano[columnas_selecciones]\n",
    "\n",
    "# ** Concatenación de dataframes\n",
    "df_terrenos = pd.concat([df_terreno_rural_reducido, df_terreno_urbano_reducido])"
   ]
  },
  {
   "cell_type": "code",
   "execution_count": null,
   "metadata": {},
   "outputs": [],
   "source": [
    "\n",
    "# ** Terrenos Gestionados SIG Espacializados\n",
    "df_terreno_asignacion_observaciones = pd.merge(df_terrenos, df_asignacion_observaciones, left_on='CODIGO', right_on='codigo', how='inner')"
   ]
  },
  {
   "cell_type": "code",
   "execution_count": null,
   "metadata": {},
   "outputs": [],
   "source": [
    "\n",
    "# ** Exportación a BD\n",
    "NOMBRE_CAPA_SALIDA = f\"Analitica_UT_Consolidada\\\\{'terrenos_asignados_con_obsjuridica'.upper()}\"\n",
    "ruta_salida_terrenos_asignacion_obsjuridica = os.path.join(RUTA_BDCONSOLIDADA, NOMBRE_CAPA_SALIDA)\n",
    "\n",
    "df_terreno_asignacion_observaciones.spatial.to_featureclass(location=ruta_salida_terrenos_asignacion_obsjuridica)\n",
    "print(f\"Se exporta la capa {NOMBRE_CAPA_SALIDA}\")"
   ]
  },
  {
   "cell_type": "code",
   "execution_count": null,
   "metadata": {},
   "outputs": [],
   "source": [
    "\n",
    "# ** Exportación SHP\n",
    "ruta_salida_shp = os.path.join(ruta_shp, SHP)\n",
    "df_terreno_asignacion_observaciones.spatial.to_featureclass(location=ruta_salida_shp)\n",
    "print(f\"Se exporta la capa {SHP}\")"
   ]
  }
 ],
 "metadata": {
  "kernelspec": {
   "display_name": "Python 3",
   "language": "python",
   "name": "python3"
  },
  "language_info": {
   "codemirror_mode": {
    "name": "ipython",
    "version": 3
   },
   "file_extension": ".py",
   "mimetype": "text/x-python",
   "name": "python",
   "nbconvert_exporter": "python",
   "pygments_lexer": "ipython3",
   "version": "3.9.18"
  }
 },
 "nbformat": 4,
 "nbformat_minor": 2
}
