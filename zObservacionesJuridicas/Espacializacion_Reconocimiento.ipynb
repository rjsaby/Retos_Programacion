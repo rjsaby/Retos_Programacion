{
 "cells": [
  {
   "cell_type": "code",
   "execution_count": 141,
   "metadata": {},
   "outputs": [],
   "source": [
    "import pandas as pd\n",
    "from arcgis.features import GeoAccessor, GeoSeriesAccessor\n",
    "import os\n",
    "from datetime import datetime\n",
    "import arcpy\n",
    "\n",
    "arcpy.env.overwriteOutput = True"
   ]
  },
  {
   "cell_type": "code",
   "execution_count": 142,
   "metadata": {},
   "outputs": [],
   "source": [
    "sheet_name = 'Estandarizacion_Asignaciones'\n",
    "sheet_id = '1a6AHnpCTLWokb12ZhfjGp3QTkmfQoQ9DKbDARd35LXo'\n",
    "\n",
    "url = f\"https://docs.google.com/spreadsheets/d/{sheet_id}/gviz/tq?tqx=out:csv&sheet={sheet_name}\"\n",
    "\n",
    "tipo_datos = {'NUMERO_PRE': str,\n",
    "    'CODIGO_TER':str,\n",
    "    'CODIGO_MUN': str,\n",
    "    'MATRICULA_': str\n",
    "    }\n",
    "\n",
    "asignacion_reconocimiento = pd.read_csv(url, dtype=tipo_datos)\n",
    "columnas_seleccion = [\n",
    "    'NUMERO_PRE', \n",
    "    'CODIGO_TER',\n",
    "    'CODIGO_MUN', \n",
    "    'MATRICULA_',\n",
    "    'TOTAL_REGI',\n",
    "    'TIPO_DOCUM',\n",
    "    'NUMERO_DOC',\n",
    "    'NOMBRE',\n",
    "    'DIRECCION',\n",
    "    'DESTINO_EC',\n",
    "    'Area_ha_cm',\n",
    "    'NOMBRE_VER',\n",
    "    'METODO',\n",
    "    'SEMANA',\n",
    "    'COORD',\n",
    "    'RECON',\n",
    "    'NOMBRE_ARCHIVO_SOLICITUD',\n",
    "    ]\n",
    "\n",
    "fecha_actual = datetime.now()\n",
    "fecha_espacializacion = str(fecha_actual.strftime(\"%Y-%m-%d\"))\n",
    "\n",
    "RUTA_FILE_GDB_CONSOLIDADO = r\"C:\\docsProyectos\\5.RAISS\\2024.0.RAISS_Lote_4\\6.Hitos\\E1_Alistamiento_Diagnostico\\3_Disposicion\\1.BD_Consolidada\\BD_Consolidada_Lote4.gdb\"\n",
    "RUTA_FILE_GDB_ASIGNACION = r\"C:\\docsProyectos\\5.RAISS\\2024.0.RAISS_Lote_4\\6.Hitos\\zApoyo_A_Equipos\\zApoyoEquipoReconocimiento\\2.Asignacion_Vs_ObservacionesJuridicas\\Base_Datos\\Asignacion_Reconocimiento.gdb\"\n",
    "\n",
    "RUTA_XLSX_ASIGNACION_OBSJURIDICAS = r\"C:\\docsProyectos\\5.RAISS\\2024.0.RAISS_Lote_4\\6.Hitos\\zApoyo_A_Equipos\\zApoyoEquipoReconocimiento\\2.Asignacion_Vs_ObservacionesJuridicas\\Estadisticos\"\n",
    "NOMBRE_XLSX_ASIGNACION_OBSJURIDICAS = 'asignacion_obsjuridicas.xlsx'\n",
    "\n",
    "CAPA_TERRENOS_R = 'Analitica_UT_Consolidada\\R_TERRENO'\n",
    "CAPA_TERRENOS_U = 'Analitica_UT_Consolidada\\\\U_TERRENO'\n",
    "\n",
    "DATASET_ANALITICA = 'Analitica_UT_Consolidada'\n",
    "CAPA_OBS_JURIDICA = 'TERRENOS_CON_OBSERVACIONES_JURIDICAS'\n",
    "\n",
    "COLUMNAS_REPORTE_XLS_ASIGNACION_OBSJURIFICAS = [\n",
    "    'NUMERO_PRE', \n",
    "    'CODIGO_MUN', \n",
    "    'MATRICULA_',\n",
    "    'TOTAL_REGI',\n",
    "    'TIPO_DOCUM',\n",
    "    'NUMERO_DOC',\n",
    "    'NOMBRE',\n",
    "    'DIRECCION',\n",
    "    'DESTINO_EC',\n",
    "    'Area_ha_cm',\n",
    "    'NOMBRE_VER',\n",
    "    'METODO',\n",
    "    'SEMANA',\n",
    "    'COORD',\n",
    "    'RECON',\n",
    "    'NOMBRE_ARCHIVO_SOLICITUD',\n",
    "    'MATRICULA_INMOBILIARIA',\n",
    "    'ÁREA_FMI',\n",
    "    'NRO_ANOTACIÓN_FMI',\n",
    "    'OBSERVACIONES']\n",
    "\n",
    "RENOMBRE_COLUMNAS_REPORTE_XLS_ASIGNACION_OBSJURIDICAS = {\n",
    "    'NUMERO_PRE':'asignacion_npn', \n",
    "    'CODIGO_MUN':'asignacion_codigomunicipio', \n",
    "    'MATRICULA_':'asignacion_fmi',\n",
    "    'TOTAL_REGI':'asignacion_totalregistros',\n",
    "    'TIPO_DOCUM':'asignacion_tipodocumento',\n",
    "    'NUMERO_DOC':'asignacion_numerodocumento',\n",
    "    'NOMBRE':'asignacion_nombre',\n",
    "    'DIRECCION':'asignacion_direccion',\n",
    "    'DESTINO_EC':'asignacion_destinacioneconomica',\n",
    "    'Area_ha_cm':'asignacion_areahactm12',\n",
    "    'NOMBRE_VER':'asignacion_nombrevereda',\n",
    "    'METODO':'asignacion_metodo',\n",
    "    'SEMANA':'asignacion_semana',\n",
    "    'COORD':'asignacion_coordinador',\n",
    "    'RECON':'asignacion_reconocedor',\n",
    "    'NOMBRE_ARCHIVO_SOLICITUD':'asignacion_nombrearchivosolicitud',\n",
    "    'MATRICULA_INMOBILIARIA':'obsjuridica_fmi',\n",
    "    'ÁREA_FMI':'obsjuridica_areafmi',\n",
    "    'NRO_ANOTACIÓN_FMI':'obsjuridica_numeroanotacionfmi',\n",
    "    'OBSERVACIONES':'obsjuridica_observaciones'\n",
    "}"
   ]
  },
  {
   "cell_type": "code",
   "execution_count": 143,
   "metadata": {},
   "outputs": [
    {
     "name": "stdout",
     "output_type": "stream",
     "text": [
      "690\n"
     ]
    }
   ],
   "source": [
    "asignacion_reconocimiento_filtro = asignacion_reconocimiento[columnas_seleccion]\n",
    "\n",
    "asignacion_reconocimiento_filtro = asignacion_reconocimiento_filtro.copy()\n",
    "\n",
    "print(asignacion_reconocimiento_filtro.shape[0])"
   ]
  },
  {
   "cell_type": "code",
   "execution_count": 144,
   "metadata": {},
   "outputs": [
    {
     "name": "stdout",
     "output_type": "stream",
     "text": [
      "CODIGO_MUN\n",
      "8606    493\n",
      "Name: count, dtype: int64\n",
      "CODIGO_MUN\n",
      "08606    690\n",
      "Name: count, dtype: int64\n"
     ]
    }
   ],
   "source": [
    "print(asignacion_reconocimiento_filtro['CODIGO_MUN'].value_counts())\n",
    "\n",
    "asignacion_reconocimiento_filtro.loc[asignacion_reconocimiento_filtro['CODIGO_MUN'] == '8606', 'CODIGO_MUN'] = asignacion_reconocimiento_filtro['NUMERO_PRE'].str[:5]\n",
    "asignacion_reconocimiento_filtro.loc[asignacion_reconocimiento_filtro['CODIGO_MUN'].isna(), 'CODIGO_MUN'] = asignacion_reconocimiento_filtro['NUMERO_PRE'].str[:5]\n",
    "\n",
    "print(asignacion_reconocimiento_filtro['CODIGO_MUN'].value_counts())"
   ]
  },
  {
   "cell_type": "code",
   "execution_count": 145,
   "metadata": {},
   "outputs": [],
   "source": [
    "asignacion_reconocimiento_filtro['FECHA_ESPACIALIZACION'] = fecha_espacializacion"
   ]
  },
  {
   "cell_type": "code",
   "execution_count": 146,
   "metadata": {},
   "outputs": [],
   "source": [
    "\n",
    "capa_terrenos_rurales = os.path.join(RUTA_FILE_GDB_CONSOLIDADO, CAPA_TERRENOS_R)\n",
    "capa_terrenos_urbanos = os.path.join(RUTA_FILE_GDB_CONSOLIDADO, CAPA_TERRENOS_U)\n",
    "\n",
    "# ** Terrenos Rurales\n",
    "df_terreno_rural = pd.DataFrame.spatial.from_featureclass(capa_terrenos_rurales)\n",
    "df_terreno_rural.head()\n",
    "# ** Terrenos Urbanos\n",
    "df_terreno_urbano = pd.DataFrame.spatial.from_featureclass(capa_terrenos_urbanos)\n",
    "\n",
    "# ** Selección de columnas\n",
    "columnas_selecciones = ['CODIGO',\n",
    "                        'CODIGO_ANTERIOR',\n",
    "                        'SHAPE']\n",
    "\n",
    "# ** DF Terrenos Rurales, Urbanos\n",
    "df_terreno_rural_reducido = df_terreno_rural[columnas_selecciones]\n",
    "df_terreno_urbano_reducido = df_terreno_urbano[columnas_selecciones]\n",
    "\n",
    "# ** Concatenación de dataframes\n",
    "df_terrenos = pd.concat([df_terreno_rural_reducido, df_terreno_urbano_reducido])"
   ]
  },
  {
   "cell_type": "code",
   "execution_count": 147,
   "metadata": {},
   "outputs": [],
   "source": [
    "# ** Terrenos Gestionados SIG Espacializados\n",
    "df_terrenos_asignacion_reconocimiento = pd.merge(df_terrenos, asignacion_reconocimiento_filtro, left_on='CODIGO', right_on='NUMERO_PRE', how='inner')"
   ]
  },
  {
   "cell_type": "code",
   "execution_count": 148,
   "metadata": {},
   "outputs": [
    {
     "name": "stdout",
     "output_type": "stream",
     "text": [
      "Se exporta la capa Analitica_UT_Consolidada\\TERRENOS_CON_CONTROL_DE_CAMBIOS_ESIG\n",
      "Se exporta la capa ASIGNACION_RECONOCIMIENTO\n"
     ]
    }
   ],
   "source": [
    "\n",
    "# ** Incorporacion a BD Consolidada\n",
    "NOMBRE_CAPA_SALIDA = f\"Analitica_UT_Consolidada\\\\{'terrenos_con_control_de_cambios_esig'.upper()}\"\n",
    "ruta_salida_asignacion_reconocimiento_bdconsolidada = os.path.join(RUTA_FILE_GDB_CONSOLIDADO, NOMBRE_CAPA_SALIDA)\n",
    "\n",
    "df_terrenos_asignacion_reconocimiento.spatial.to_featureclass(location=ruta_salida_asignacion_reconocimiento_bdconsolidada)\n",
    "print(f\"Se exporta la capa {NOMBRE_CAPA_SALIDA}\")\n",
    "\n",
    "# ** Incorporacion a BD Asignación\n",
    "NOMBRE_CAPA_SALIDA = f\"{'Asignacion_Reconocimiento'.upper()}\"\n",
    "ruta_salida_asignacion_reconocimiento_bdasignada = os.path.join(RUTA_FILE_GDB_ASIGNACION, NOMBRE_CAPA_SALIDA)\n",
    "\n",
    "df_terrenos_asignacion_reconocimiento.spatial.to_featureclass(location=ruta_salida_asignacion_reconocimiento_bdasignada)\n",
    "print(f\"Se exporta la capa {NOMBRE_CAPA_SALIDA}\")"
   ]
  },
  {
   "cell_type": "markdown",
   "metadata": {},
   "source": [
    "<h3>Observaciones Juridicas</h3>"
   ]
  },
  {
   "cell_type": "code",
   "execution_count": 149,
   "metadata": {},
   "outputs": [
    {
     "name": "stdout",
     "output_type": "stream",
     "text": [
      "Se crea DF de capa TERRENOS_CON_OBSERVACIONES_JURIDICAS, en dataset Analitica_UT_Consolidada\n"
     ]
    }
   ],
   "source": [
    "arcpy.env.workspace = RUTA_FILE_GDB_CONSOLIDADO\n",
    "\n",
    "for dataset in arcpy.ListDatasets():\n",
    "    if dataset == DATASET_ANALITICA:\n",
    "        for capa in arcpy.ListFeatureClasses(feature_dataset=dataset):\n",
    "            if capa == CAPA_OBS_JURIDICA:\n",
    "                capa_observaciones_juricas = os.path.join(arcpy.env.workspace, dataset, capa)\n",
    "                df_observaciones_juridicas = pd.DataFrame.spatial.from_featureclass(capa_observaciones_juricas)\n",
    "                print(f\"Se crea DF de capa {capa}, en dataset {dataset}\")"
   ]
  },
  {
   "cell_type": "code",
   "execution_count": 150,
   "metadata": {},
   "outputs": [],
   "source": [
    "df_asignacion_observaciones_juridicas = pd.merge(df_terrenos_asignacion_reconocimiento, df_observaciones_juridicas, left_on='NUMERO_PRE', right_on='codigo', how='inner')\n",
    "df_asignacion_observaciones_juridicas = pd.DataFrame(df_asignacion_observaciones_juridicas, columns=COLUMNAS_REPORTE_XLS_ASIGNACION_OBSJURIFICAS)\n",
    "df_asignacion_observaciones_juridicas = df_asignacion_observaciones_juridicas.rename(columns=RENOMBRE_COLUMNAS_REPORTE_XLS_ASIGNACION_OBSJURIDICAS)"
   ]
  },
  {
   "cell_type": "code",
   "execution_count": 151,
   "metadata": {},
   "outputs": [],
   "source": [
    "ruta_salida_xlsx_asignacion_obsjuridicas = os.path.join(RUTA_XLSX_ASIGNACION_OBSJURIDICAS, NOMBRE_XLSX_ASIGNACION_OBSJURIDICAS)\n",
    "\n",
    "df_asignacion_observaciones_juridicas.to_excel(ruta_salida_xlsx_asignacion_obsjuridicas, sheet_name='Asignacion_ObsJuridicas')"
   ]
  }
 ],
 "metadata": {
  "kernelspec": {
   "display_name": "Python 3",
   "language": "python",
   "name": "python3"
  },
  "language_info": {
   "codemirror_mode": {
    "name": "ipython",
    "version": 3
   },
   "file_extension": ".py",
   "mimetype": "text/x-python",
   "name": "python",
   "nbconvert_exporter": "python",
   "pygments_lexer": "ipython3",
   "version": "3.9.18"
  }
 },
 "nbformat": 4,
 "nbformat_minor": 2
}
