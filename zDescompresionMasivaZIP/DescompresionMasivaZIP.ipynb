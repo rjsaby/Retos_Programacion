{
 "cells": [
  {
   "cell_type": "code",
   "execution_count": null,
   "metadata": {},
   "outputs": [],
   "source": [
    "import os\n",
    "import zipfile\n",
    "import py7zr\n",
    "\n",
    "# Ruta al directorio donde están los archivos .zip\n",
    "ruta_directorio = r\"C:\\P\""
   ]
  },
  {
   "cell_type": "markdown",
   "metadata": {},
   "source": [
    "<h2>Descompresión dentro de Subcarpetas</h2>\n",
    "<h4>Extracción de Compilados Formato .zip</h4>"
   ]
  },
  {
   "cell_type": "code",
   "execution_count": null,
   "metadata": {},
   "outputs": [],
   "source": [
    "# Iterar sobre cada archivo en el directorio\n",
    "for ruta, directorio, archivos in os.walk(ruta_directorio):\n",
    "    for archivo in archivos:\n",
    "        archivo_zip = os.path.join(ruta, archivo)\n",
    "        if archivo_zip.endswith(\".zip\"):\n",
    "            # Ruta completa al archivo .zip\n",
    "            ruta_zip = os.path.join(ruta_directorio, archivo_zip)\n",
    "            # Directorio donde extraeremos los archivos\n",
    "            directorio_destino = os.path.splitext(ruta_zip)[0]\n",
    "            # Extraer el archivo .zip\n",
    "            with zipfile.ZipFile(ruta_zip, 'r') as zip_ref:\n",
    "                zip_ref.extractall(directorio_destino)\n",
    "            print(\"Se descromprime {0}\".format(archivo))"
   ]
  },
  {
   "cell_type": "markdown",
   "metadata": {},
   "source": [
    "<h4>Extracción de Compilados Formato .7z</h4>"
   ]
  },
  {
   "cell_type": "code",
   "execution_count": null,
   "metadata": {},
   "outputs": [],
   "source": [
    "# Iterar sobre cada archivo en el directorio\n",
    "for ruta, directorio, archivos in os.walk(ruta_directorio):\n",
    "    for archivo in archivos:\n",
    "        archivo_zip = os.path.join(ruta, archivo)\n",
    "        if archivo_zip.endswith(\".7z\"):\n",
    "            # Ruta completa al archivo .7z\n",
    "            ruta_zip = os.path.join(ruta_directorio, archivo_zip)\n",
    "            # Directorio donde extraeremos los archivos\n",
    "            directorio_destino = os.path.splitext(ruta_zip)[0]\n",
    "            # Extraer el archivo .zip\n",
    "            with py7zr.SevenZipFile(ruta_zip, mode='r') as ruta_7z:\n",
    "                ruta_7z.extractall(directorio_destino)\n",
    "            print(\"Se descromprime {0}\".format(archivo))"
   ]
  }
 ],
 "metadata": {
  "kernelspec": {
   "display_name": "Python 3",
   "language": "python",
   "name": "python3"
  },
  "language_info": {
   "codemirror_mode": {
    "name": "ipython",
    "version": 3
   },
   "file_extension": ".py",
   "mimetype": "text/x-python",
   "name": "python",
   "nbconvert_exporter": "python",
   "pygments_lexer": "ipython3",
   "version": "3.9.18"
  }
 },
 "nbformat": 4,
 "nbformat_minor": 2
}
