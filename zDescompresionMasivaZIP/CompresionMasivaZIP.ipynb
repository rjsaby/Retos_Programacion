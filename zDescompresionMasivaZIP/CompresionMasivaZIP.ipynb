{
 "cells": [
  {
   "cell_type": "code",
   "execution_count": 7,
   "metadata": {},
   "outputs": [],
   "source": [
    "import os\n",
    "import zipfile"
   ]
  },
  {
   "cell_type": "code",
   "execution_count": 8,
   "metadata": {},
   "outputs": [],
   "source": [
    "ruta = r\"D:\\P\"\n",
    "extension = \".zip\""
   ]
  },
  {
   "cell_type": "code",
   "execution_count": 9,
   "metadata": {},
   "outputs": [],
   "source": [
    "lista_directorio = os.listdir(ruta)\n",
    "\n",
    "for ruta_zip in lista_directorio:\n",
    "    ruta_a_comprimir = os.path.join(ruta, ruta_zip)\n",
    "    nombre_archivo_zip = ruta_zip + extension\n",
    "    directorio_archivo_compresion = os.path.join(ruta,nombre_archivo_zip)\n",
    "    with zipfile.ZipFile(directorio_archivo_compresion, 'w') as ruta_compresion:\n",
    "       for raiz, _, archivos in os.walk(ruta_a_comprimir):\n",
    "          for archivo in archivos:\n",
    "             ruta_completa = os.path.join(raiz, archivo)\n",
    "             ruta_en_zip = os.path.relpath(ruta_completa, ruta_a_comprimir)\n",
    "             ruta_compresion.write(ruta_completa, ruta_en_zip)"
   ]
  }
 ],
 "metadata": {
  "kernelspec": {
   "display_name": "Python 3",
   "language": "python",
   "name": "python3"
  },
  "language_info": {
   "codemirror_mode": {
    "name": "ipython",
    "version": 3
   },
   "file_extension": ".py",
   "mimetype": "text/x-python",
   "name": "python",
   "nbconvert_exporter": "python",
   "pygments_lexer": "ipython3",
   "version": "3.9.18"
  }
 },
 "nbformat": 4,
 "nbformat_minor": 2
}
