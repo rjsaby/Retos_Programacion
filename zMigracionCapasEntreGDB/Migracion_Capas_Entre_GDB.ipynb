{
 "cells": [
  {
   "cell_type": "code",
   "execution_count": 10,
   "metadata": {},
   "outputs": [],
   "source": [
    "import arcpy\n",
    "import os"
   ]
  },
  {
   "cell_type": "markdown",
   "metadata": {},
   "source": [
    "<h3>Parametrización de variables</h3>"
   ]
  },
  {
   "cell_type": "code",
   "execution_count": 11,
   "metadata": {},
   "outputs": [],
   "source": [
    "\n",
    "RUTA_BDCONSOLIDADA = r\"C:\\docsProyectos\\5.RAISS\\2024.0.RAISS_Lote_4\\6.Hitos\\E1_Alistamiento_Diagnostico\\3_Disposicion\\1.BD_Consolidada\\BD_Consolidada_Lote4.gdb\"\n",
    "RUTA_BDCONSOLIDADA_ONEDRIVE = r\"C:\\Users\\rodian.saby\\OneDrive\\Documentos\\docsProyectos\\5.RAISS\\2024.0.RAISS_Lote_4\\6.Hitos\\E1_Alistamiento_Diagnostico\\3_Disposicion\\1.BD_Consolidada\\BD_Consolidada_Lote4.gdb\"\n",
    "NOMBRE_DATASET = 'Analitica_UT_Consolidada'\n",
    "\n",
    "diccionario_capas = {1:'TERRENOS_ASIGNADOS_CON_OBSJURIDICA',\n",
    "    2:'TERRENOS_CON_CONTROL_DE_CAMBIOS_ESIG',\n",
    "    3:'TERRENOS_CON_OBSERVACIONES_JURIDICAS',\n",
    "    4:'TERRENOS_REGISTRO_1_CONTROL_DE_CAMBIOS_ESIG',\n",
    "    5:'POSIBLES_PREDIOS_INFORMALES',\n",
    "    }\n",
    "\n",
    "arcpy.env.workspace = RUTA_BDCONSOLIDADA\n",
    "arcpy.env.overwriteOutput = True"
   ]
  },
  {
   "cell_type": "code",
   "execution_count": 12,
   "metadata": {},
   "outputs": [
    {
     "name": "stdout",
     "output_type": "stream",
     "text": [
      "Se migra a OneDrive la capa TERRENOS_CON_CONTROL_DE_CAMBIOS_ESIG\n",
      "Se migra a OneDrive la capa TERRENOS_REGISTRO_1_CONTROL_DE_CAMBIOS_ESIG\n",
      "Se migra a OneDrive la capa TERRENOS_CON_OBSERVACIONES_JURIDICAS\n",
      "Se migra a OneDrive la capa POSIBLES_PREDIOS_INFORMALES\n",
      "Se migra a OneDrive la capa TERRENOS_ASIGNADOS_CON_OBSJURIDICA\n"
     ]
    }
   ],
   "source": [
    "\n",
    "for dataset in arcpy.ListDatasets(wild_card = NOMBRE_DATASET):\n",
    "    for capa in arcpy.ListFeatureClasses(feature_dataset=dataset):\n",
    "        for llave, valor in diccionario_capas.items():\n",
    "            if valor == capa:\n",
    "                ruta_origen = os.path.join(arcpy.env.workspace,NOMBRE_DATASET,capa)\n",
    "                ruta_destino = os.path.join(RUTA_BDCONSOLIDADA_ONEDRIVE,NOMBRE_DATASET,capa)\n",
    "                arcpy.Copy_management(ruta_origen, ruta_destino)\n",
    "                print(f\"Se migra a OneDrive la capa {capa}\")\n",
    "            else:\n",
    "                pass"
   ]
  }
 ],
 "metadata": {
  "kernelspec": {
   "display_name": "Python 3",
   "language": "python",
   "name": "python3"
  },
  "language_info": {
   "codemirror_mode": {
    "name": "ipython",
    "version": 3
   },
   "file_extension": ".py",
   "mimetype": "text/x-python",
   "name": "python",
   "nbconvert_exporter": "python",
   "pygments_lexer": "ipython3",
   "version": "3.9.18"
  }
 },
 "nbformat": 4,
 "nbformat_minor": 2
}
