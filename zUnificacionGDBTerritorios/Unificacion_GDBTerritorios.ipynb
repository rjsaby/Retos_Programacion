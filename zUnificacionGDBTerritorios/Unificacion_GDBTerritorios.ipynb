{
 "cells": [
  {
   "cell_type": "code",
   "execution_count": null,
   "metadata": {},
   "outputs": [],
   "source": [
    "import os, arcpy\n",
    "import pandas as pd\n",
    "from arcgis.features import GeoAccessor, GeoSeriesAccessor"
   ]
  },
  {
   "cell_type": "code",
   "execution_count": null,
   "metadata": {},
   "outputs": [],
   "source": [
    "arcpy.env.overwriteOutput = True\n",
    "\n",
    "RUTA_BASES_TERRITORIOS_GDB = r\"C:\\docsProyectos\\6.VALORMAS\\2024\\5.Territorios+\\zInsumos\\GDB_TerritoriosMas\"\n",
    "BD_CONSOLIDACION = \"GDB_TerritoriosMas.gdb\"\n",
    "\n",
    "DB_CONSOLIDADA = os.path.join(RUTA_BASES_TERRITORIOS_GDB, BD_CONSOLIDACION)\n",
    "\n",
    "NOMBRE_CAMPO = \"area_ha_ctm12\"\n",
    "PROPIEDADES_GEOMETRIA = [NOMBRE_CAMPO,'AREA']\n",
    "RUTA_SISTEMA_REFERENCIA = r\"C:\\docsProyectos\\6.VALORMAS\\2024\\5.Territorios+\\zInsumos\\GDB_TerritoriosMas\\\\9377.prj\""
   ]
  },
  {
   "cell_type": "markdown",
   "metadata": {},
   "source": [
    "<h3>Crear BD Unificación Territorios+</h3>"
   ]
  },
  {
   "cell_type": "code",
   "execution_count": null,
   "metadata": {},
   "outputs": [],
   "source": [
    "if arcpy.Exists(DB_CONSOLIDADA):\n",
    "    print(f\"La BD {BD_CONSOLIDACION} existe\")\n",
    "    pass\n",
    "else:\n",
    "    arcpy.CreateFileGDB_management(out_folder_path=RUTA_BASES_TERRITORIOS_GDB, out_name=BD_CONSOLIDACION)\n",
    "    print(f\"Se crea la BD {BD_CONSOLIDACION}\")"
   ]
  },
  {
   "cell_type": "markdown",
   "metadata": {},
   "source": [
    "<h3>Migración de capa Terrenos</h3>"
   ]
  },
  {
   "cell_type": "code",
   "execution_count": null,
   "metadata": {},
   "outputs": [],
   "source": [
    "arcpy.env.workspace = r\"C:\\docsProyectos\\6.VALORMAS\\2024\\5.Territorios+\\zInsumos\\GDB_TerritoriosMas\\modeloRelacional_034.gdb\"\n",
    "\n",
    "for capa in arcpy.ListFeatureClasses():\n",
    "    if capa == 'lc_terreno':\n",
    "        print(f\" - La capa {capa} existe\")\n",
    "        capa_terreno_origen = os.path.join(arcpy.env.workspace, capa)\n",
    "        capa_terreno_destino = os.path.join(RUTA_BASES_TERRITORIOS_GDB,BD_CONSOLIDACION,capa)\n",
    "        arcpy.Copy_management(capa_terreno_origen, capa_terreno_destino)\n",
    "        print(f\"- La capa {capa} se migra para truncado\")\n",
    "        arcpy.TruncateTable_management(capa_terreno_destino)\n",
    "        print(f\" - Se trunca la capa {capa} migrada a la ruta {capa_terreno_destino}\")\n",
    "    else:\n",
    "        pass"
   ]
  },
  {
   "cell_type": "markdown",
   "metadata": {},
   "source": [
    "<h3>Unificación de Terrenos</h3>"
   ]
  },
  {
   "cell_type": "code",
   "execution_count": null,
   "metadata": {},
   "outputs": [],
   "source": [
    "lectura_bdTerritorios = os.listdir(RUTA_BASES_TERRITORIOS_GDB)\n",
    "\n",
    "lista_bdTerritorios = []\n",
    "for bd in lectura_bdTerritorios:\n",
    "    if bd != BD_CONSOLIDACION:\n",
    "        ruta_bd_a_consolidar = os.path.join(RUTA_BASES_TERRITORIOS_GDB, bd)\n",
    "        lista_bdTerritorios.append(ruta_bd_a_consolidar)\n",
    "        print(f\" - BD {bd} consolidada en lista\")\n",
    "\n",
    "for bdc in lista_bdTerritorios:\n",
    "    arcpy.env.workspace = bdc\n",
    "    for capa in arcpy.ListFeatureClasses():\n",
    "        if capa == 'lc_terreno':\n",
    "            ruta_capa_origen = os.path.join(arcpy.env.workspace,capa)\n",
    "            ruta_capa_destino = os.path.join(RUTA_BASES_TERRITORIOS_GDB,BD_CONSOLIDACION,capa)\n",
    "            arcpy.Append_management(inputs=ruta_capa_origen, target=ruta_capa_destino, schema_type='NO_TEST')\n",
    "            print(f\" - Join entre FC {ruta_capa_origen} Y FC {ruta_capa_destino}\")  \n"
   ]
  },
  {
   "cell_type": "markdown",
   "metadata": {},
   "source": [
    "<h3>Cálculo de Hectareaje</h3>"
   ]
  },
  {
   "cell_type": "code",
   "execution_count": null,
   "metadata": {},
   "outputs": [],
   "source": [
    "arcpy.env.workspace = DB_CONSOLIDADA\n",
    "\n",
    "for capa in arcpy.ListFeatureClasses():\n",
    "    if capa == \"lc_terreno\":\n",
    "        arcpy.AddField_management(in_table=capa, field_name=NOMBRE_CAMPO, field_type=\"DOUBLE\")\n",
    "        print(f\" - Se crea campo {NOMBRE_CAMPO} en capa {capa}\")\n",
    "        arcpy.management.CalculateGeometryAttributes(in_features=capa, geometry_property=[PROPIEDADES_GEOMETRIA], area_unit='HECTARES', coordinate_system=RUTA_SISTEMA_REFERENCIA)\n",
    "        print(f\"Se calcula el hectareaje en la capa {capa}\")\n",
    "        for campo in arcpy.ListFields(dataset=capa):    \n",
    "            print(f\"Capa {capa} - Campo {campo.name}\")\n",
    "    else:\n",
    "        pass"
   ]
  },
  {
   "cell_type": "markdown",
   "metadata": {},
   "source": [
    "<h3>Espacialización DF</h3>"
   ]
  },
  {
   "cell_type": "code",
   "execution_count": null,
   "metadata": {},
   "outputs": [],
   "source": [
    "for capa in arcpy.ListFeatureClasses():\n",
    "    if capa == \"lc_terreno\":\n",
    "        capa_terrenos = os.path.join(arcpy.env.workspace, capa)\n",
    "        df_lc_terrenos = pd.DataFrame.spatial.from_featureclass(capa_terrenos)"
   ]
  },
  {
   "cell_type": "code",
   "execution_count": null,
   "metadata": {},
   "outputs": [],
   "source": [
    "df_lc_terrenos_por_munipio = pd.DataFrame(df_lc_terrenos['local_id'])\n",
    "# ? Manejo del Slicing dentro de pandas\n",
    "df_lc_terrenos_por_munipio['municipio'] = df_lc_terrenos_por_munipio['local_id'].str[:5]\n",
    "\n",
    "df_lc_terrenos_por_munipio_conteo = df_lc_terrenos_por_munipio['municipio'].value_counts()\n",
    "df_lc_terrenos_por_munipio_conteo = pd.DataFrame(df_lc_terrenos_por_munipio_conteo)\n",
    "df_lc_terrenos_por_munipio_conteo = df_lc_terrenos_por_munipio_conteo.reset_index()"
   ]
  },
  {
   "cell_type": "markdown",
   "metadata": {},
   "source": [
    "<h3>Total de Terrenos T+</h3>"
   ]
  },
  {
   "cell_type": "code",
   "execution_count": null,
   "metadata": {},
   "outputs": [],
   "source": [
    "\"\"\"\n",
    "isin se usa para verificar si cada valor de una columna está en una lista dada.\n",
    "Devuelve una Serie booleana.\n",
    "Usando ~, puedes invertir la máscara para excluir los valores en la lista.\n",
    "\"\"\"\n",
    "\n",
    "valores_no_deseados = ['04410', '5', ' ', '2', '1', '3']\n",
    "\n",
    "df_lc_terrenos_por_munipio_filtro_errores = df_lc_terrenos_por_munipio_conteo[~df_lc_terrenos_por_munipio_conteo['municipio'].isin(valores_no_deseados)]\n",
    "\n",
    "df_lc_terrenos_por_munipio_filtro_errores"
   ]
  },
  {
   "cell_type": "code",
   "execution_count": null,
   "metadata": {},
   "outputs": [],
   "source": [
    "df_lc_terrenos['municipio'] = df_lc_terrenos['local_id'].str[:5]\n",
    "\n",
    "df_lc_terrenos_filtro = pd.merge(df_lc_terrenos, df_lc_terrenos_por_munipio_filtro_errores, left_on='municipio', right_on='municipio', how='inner')"
   ]
  },
  {
   "cell_type": "markdown",
   "metadata": {},
   "source": [
    "<h3>Suma del Hectareaje</h3>"
   ]
  },
  {
   "cell_type": "code",
   "execution_count": null,
   "metadata": {},
   "outputs": [],
   "source": [
    "Total = df_lc_terrenos_filtro[NOMBRE_CAMPO].sum()\n",
    "print(f\"La suma del Hectareaje total para T+ es de: {Total.round(2)}\")"
   ]
  }
 ],
 "metadata": {
  "kernelspec": {
   "display_name": "Python 3",
   "language": "python",
   "name": "python3"
  },
  "language_info": {
   "codemirror_mode": {
    "name": "ipython",
    "version": 3
   },
   "file_extension": ".py",
   "mimetype": "text/x-python",
   "name": "python",
   "nbconvert_exporter": "python",
   "pygments_lexer": "ipython3",
   "version": "3.11.8"
  }
 },
 "nbformat": 4,
 "nbformat_minor": 2
}
