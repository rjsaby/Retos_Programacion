{
 "cells": [
  {
   "cell_type": "code",
   "execution_count": 48,
   "metadata": {},
   "outputs": [],
   "source": [
    "import os, arcpy\n",
    "import pandas as pd\n",
    "from arcgis.features import GeoAccessor, GeoSeriesAccessor"
   ]
  },
  {
   "cell_type": "code",
   "execution_count": 49,
   "metadata": {},
   "outputs": [],
   "source": [
    "RUTA_BD_ADR = r\"C:\\Users\\rodian.saby\\OneDrive\\Documentos\\docsProyectos\\6.VALORMAS\\zADR\\20210608_MODELO_DATOS\\20210608_MODELO_DATOS.gdb\"\n",
    "RUTA_SISTEMA_REFERENCIA = r\"C:\\docsProyectos\\6.VALORMAS\\2024\\5.Territorios+\\zInsumos\\GDB_TerritoriosMas\\\\9377.prj\"\n",
    "LAYER_SQL = 'LYR_Terrenos_ADR'\n",
    "CONSULTA = \"tipo_terreno == 4 or tipo_terreno == 3\"\n",
    "NOMBRE_CAMPO = \"area_ha_ctm12\"\n",
    "PROPIEDADES_GEOMETRIA = [NOMBRE_CAMPO,'AREA']\n",
    "\n",
    "arcpy.env.overwriteOutput = True"
   ]
  },
  {
   "cell_type": "code",
   "execution_count": 50,
   "metadata": {},
   "outputs": [
    {
     "name": "stdout",
     "output_type": "stream",
     "text": [
      " - Se crea campo area_ha_ctm12 en capa LC_TERRENO\n",
      " - Se calcula el hectareaje en la capa LC_TERRENO\n"
     ]
    }
   ],
   "source": [
    "arcpy.env.workspace = RUTA_BD_ADR\n",
    "\n",
    "for capa in arcpy.ListFeatureClasses():\n",
    "    if capa == 'LC_TERRENO':\n",
    "        arcpy.AddField_management(in_table=capa, field_name=NOMBRE_CAMPO, field_type=\"DOUBLE\")\n",
    "        print(f\" - Se crea campo {NOMBRE_CAMPO} en capa {capa}\")\n",
    "        arcpy.management.CalculateGeometryAttributes(in_features=capa, geometry_property=[PROPIEDADES_GEOMETRIA], area_unit='HECTARES', coordinate_system=RUTA_SISTEMA_REFERENCIA)\n",
    "        print(f\" - Se calcula el hectareaje en la capa {capa}\")\n",
    "        ruca_terrenos_adr = os.path.join(RUTA_BD_ADR, capa)\n",
    "        df_terrenos_adr = pd.DataFrame.spatial.from_featureclass(ruca_terrenos_adr)"
   ]
  },
  {
   "cell_type": "code",
   "execution_count": 52,
   "metadata": {},
   "outputs": [],
   "source": [
    "df_terrenos_adr_formales_informales = df_terrenos_adr.query(CONSULTA)"
   ]
  },
  {
   "cell_type": "code",
   "execution_count": 53,
   "metadata": {},
   "outputs": [
    {
     "name": "stdout",
     "output_type": "stream",
     "text": [
      "La suma del Hectareaje total para T+ es de: 14977.19\n"
     ]
    }
   ],
   "source": [
    "Total = df_terrenos_adr_formales_informales[NOMBRE_CAMPO].sum()\n",
    "print(f\"La suma del Hectareaje total para ADR es de: {Total.round(2)}\")"
   ]
  }
 ],
 "metadata": {
  "kernelspec": {
   "display_name": "Python 3",
   "language": "python",
   "name": "python3"
  },
  "language_info": {
   "codemirror_mode": {
    "name": "ipython",
    "version": 3
   },
   "file_extension": ".py",
   "mimetype": "text/x-python",
   "name": "python",
   "nbconvert_exporter": "python",
   "pygments_lexer": "ipython3",
   "version": "3.9.18"
  }
 },
 "nbformat": 4,
 "nbformat_minor": 2
}
