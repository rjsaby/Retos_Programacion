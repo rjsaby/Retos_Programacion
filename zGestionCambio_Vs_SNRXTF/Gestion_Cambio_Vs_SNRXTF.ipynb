{
 "cells": [
  {
   "cell_type": "code",
   "execution_count": null,
   "metadata": {},
   "outputs": [],
   "source": [
    "import os\n",
    "import pandas as pd\n",
    "from arcgis.features import GeoAccessor, GeoSeriesAccessor\n",
    "import arcpy"
   ]
  },
  {
   "cell_type": "code",
   "execution_count": null,
   "metadata": {},
   "outputs": [],
   "source": [
    "RUTA_XLSX_SNR = r\"C:\\docsProyectos\\5.RAISS\\2024.0.RAISS_Lote_4\\6.Hitos\\zApoyo_A_Equipos\\zApoyoEquipoJuridico\\2.Submodelo_Insumos_SNR\\tbl_submodelo_insumos_snr_lote_4.xlsx\"\n",
    "SHEET_NAME = \"tbl_submodeloinsumosnr_lote_4\"\n",
    "TIPOS_DATOS = {'codigo_municipio':str,\n",
    "    'snrderecho_codigo_naturaleza_juridica':str,\n",
    "    'snrtitular_numero_documento':str,\n",
    "    'predioregistro_codigo_orip':str,\n",
    "    'predioregistro_matricula_inmobiliaria':str,\n",
    "    'predioregistro_numero_predial_nuevo_en_fmi':str,\n",
    "    'predioregistro_numero_predial_anterior_en_fmi':str,\n",
    "    'snrfuentederecho_numero_documento':str}\n",
    "\n",
    "df_data_SNR = pd.read_excel(RUTA_XLSX_SNR, sheet_name=SHEET_NAME, dtype = TIPOS_DATOS)"
   ]
  },
  {
   "cell_type": "markdown",
   "metadata": {},
   "source": [
    "<h3>Insumo: XTF SNR</h3>"
   ]
  },
  {
   "cell_type": "code",
   "execution_count": null,
   "metadata": {},
   "outputs": [],
   "source": [
    "sheet_name = 'CONTROL_DE_CAMBIOS'\n",
    "sheet_id = '1n_t9qtwLeIklH5UFoH9iDPiAa6uN4HZeR1-atsKTYeU'\n",
    "\n",
    "url = f\"https://docs.google.com/spreadsheets/d/{sheet_id}/gviz/tq?tqx=out:csv&sheet={sheet_name}\"\n",
    "\n",
    "control_cambios_esig_original = pd.read_csv(url)\n",
    "columnas_seleccion = ['terreno_codigo', \n",
    "    'Nombre', \n",
    "    'EDICION',\n",
    "    'POSIBLE SERVIDUMBRE', \n",
    "    'FECHA EDITOR',\n",
    "    'OBSERVACIONES EDITOR',\n",
    "    'REVISADO',\n",
    "    'FECHA REVISOR',\n",
    "    'OBSERVACIONES REVISOR',\n",
    "    'ESTADO DE EDICION']\n",
    "\n",
    "control_cambios_esig_filtro = control_cambios_esig_original[columnas_seleccion]\n",
    "\n",
    "control_cambios_esig_filtro = control_cambios_esig_filtro.copy()\n",
    "\n",
    "control_cambios_esig_filtro.loc[control_cambios_esig_filtro['EDICION'] == 'REQUIERE VISITA DE CAMPO', 'EDICION'] = 'Requiere visita campo'\n",
    "control_cambios_esig_filtro.loc[control_cambios_esig_filtro['EDICION'] == 'SI, (EDICION GEOGRAFICA)', 'EDICION'] = 'Con edición geo'\n",
    "control_cambios_esig_filtro.loc[control_cambios_esig_filtro['EDICION'] == 'NO, (NO REQUIERE AJUSTE GEOGRAFICO)', 'EDICION'] = 'No requiere ajuste geo'"
   ]
  },
  {
   "cell_type": "markdown",
   "metadata": {},
   "source": [
    "<h3>Cruce Gestión Cambios VS SNR XTF</h3>"
   ]
  },
  {
   "cell_type": "code",
   "execution_count": null,
   "metadata": {},
   "outputs": [],
   "source": [
    "# ** Terrenos Gestionados SIG Espacializados\n",
    "df_snr_gestion_sig = pd.merge(df_data_SNR, control_cambios_esig_filtro, left_on='predioregistro_numero_predial_nuevo_en_fmi', right_on='terreno_codigo', how='inner')\n",
    "\n",
    "df_snr_gestion_sig"
   ]
  },
  {
   "cell_type": "markdown",
   "metadata": {},
   "source": [
    "<h3>Insumos: Registro 1</h3>"
   ]
  },
  {
   "cell_type": "code",
   "execution_count": null,
   "metadata": {},
   "outputs": [],
   "source": [
    "ruta_registro_1 = r\"C:\\Users\\rodian.saby\\OneDrive\\Documentos\\docsProyectos\\5.RAISS\\2024.0.RAISS_Lote_4\\6.Hitos\\E1_Alistamiento_Diagnostico\\3_Disposicion\\1.BD_Consolidada\\BD_Consolidada_Lote4.gdb\"\n",
    "tabla_registro_1_consolidada = \"Con_REGISTRO1_ENE2024\"\n",
    "\n",
    "registro_1 = os.path.join(ruta_registro_1, tabla_registro_1_consolidada)\n",
    "\n",
    "df_registro_1 = pd.DataFrame.spatial.from_table(registro_1)"
   ]
  },
  {
   "cell_type": "code",
   "execution_count": null,
   "metadata": {},
   "outputs": [],
   "source": [
    "\n",
    "df_registro_1_gestion_sig = pd.merge(df_registro_1, control_cambios_esig_filtro, left_on='NUMERO_PREDIAL', right_on='terreno_codigo', how='left')"
   ]
  },
  {
   "cell_type": "markdown",
   "metadata": {},
   "source": [
    "<h3>Exportación DF Gestión Catastro - Registro 1</h3>"
   ]
  },
  {
   "cell_type": "code",
   "execution_count": null,
   "metadata": {},
   "outputs": [],
   "source": [
    "ruta_salida_export_registro_1_gestion_catastro = r\"C:\\docsProyectos\\5.RAISS\\2024.0.RAISS_Lote_4\\6.Hitos\\zApoyo_A_Equipos\\zApoyoEquipoJuridico\\4.Gestion_Cambios_Equipo_SIG\"\n",
    "nombre_salida_csv = \"Registro_1_Vs_Gestion_Cambios_SIG.csv\"\n",
    "\n",
    "directorio_salida = os.path.join(ruta_salida_export_registro_1_gestion_catastro, nombre_salida_csv)\n",
    "\n",
    "df_registro_1_gestion_sig.to_csv(directorio_salida)\n",
    "print(f\"Se exporta {nombre_salida_csv} correctamente\")"
   ]
  },
  {
   "cell_type": "markdown",
   "metadata": {},
   "source": [
    "<h3>Espacialización de Resultados</h3>"
   ]
  },
  {
   "cell_type": "markdown",
   "metadata": {},
   "source": [
    "<h4>Preparación de la capa Terrenos</h4>"
   ]
  },
  {
   "cell_type": "code",
   "execution_count": null,
   "metadata": {},
   "outputs": [],
   "source": [
    "ruta_filebd = r\"C:\\Users\\rodian.saby\\OneDrive\\Documentos\\docsProyectos\\5.RAISS\\2024.0.RAISS_Lote_4\\6.Hitos\\E1_Alistamiento_Diagnostico\\3_Disposicion\\1.BD_Consolidada\\BD_Consolidada_Lote4.gdb\"\n",
    "ruta_shp = r\"C:\\Users\\rodian.saby\\OneDrive\\Documentos\\docsProyectos\\5.RAISS\\2024.0.RAISS_Lote_4\\6.Hitos\\zApoyo_A_Equipos\\zApoyoEquipoSIG\\1.Geo_Gestion_Cambios\\zShps\"\n",
    "\n",
    "CAPA_TERRENOS_R = 'Analitica_UT_Consolidada\\R_TERRENO'\n",
    "CAPA_TERRENOS_U = 'Analitica_UT_Consolidada\\\\U_TERRENO'\n",
    "SHP = '_Gestion_Cambios_SIG.shp'\n",
    "\n",
    "capa_terrenos_rurales = os.path.join(ruta_filebd, CAPA_TERRENOS_R)\n",
    "capa_terrenos_urbanos = os.path.join(ruta_filebd, CAPA_TERRENOS_U)\n",
    "\n",
    "# ** Terrenos Rurales\n",
    "df_terreno_rural = pd.DataFrame.spatial.from_featureclass(capa_terrenos_rurales)\n",
    "df_terreno_rural.head()\n",
    "# ** Terrenos Urbanos\n",
    "df_terreno_urbano = pd.DataFrame.spatial.from_featureclass(capa_terrenos_urbanos)\n",
    "\n",
    "# ** Selección de columnas\n",
    "columnas_selecciones = ['CODIGO',\n",
    "                        'CODIGO_ANTERIOR',\n",
    "                        'SHAPE']\n",
    "\n",
    "# ** DF Terrenos Rurales, Urbanos\n",
    "df_terreno_rural_reducido = df_terreno_rural[columnas_selecciones]\n",
    "df_terreno_urbano_reducido = df_terreno_urbano[columnas_selecciones]\n",
    "\n",
    "# ** Concatenación de dataframes\n",
    "df_terrenos = pd.concat([df_terreno_rural_reducido, df_terreno_urbano_reducido])"
   ]
  },
  {
   "cell_type": "markdown",
   "metadata": {},
   "source": [
    "<h2>Cruce Espacial Registro 1 - Gestión Cambios - Terrenos</h2>"
   ]
  },
  {
   "cell_type": "code",
   "execution_count": null,
   "metadata": {},
   "outputs": [],
   "source": [
    "\n",
    "df_terreno_registro_1_gestion_sig = pd.merge(df_terrenos, df_registro_1_gestion_sig, left_on='CODIGO', right_on='NUMERO_PREDIAL', how='inner')\n",
    "\n",
    "NOMBRE_CAPA_SALIDA = f\"Analitica_UT_Consolidada\\\\{'terrenos_registro_1_control_de_cambios_esig'.upper()}\"\n",
    "ruta_salida_terrenos_registro_1_control_cambios = os.path.join(ruta_filebd, NOMBRE_CAPA_SALIDA)\n",
    "\n",
    "df_terreno_registro_1_gestion_sig.spatial.to_featureclass(location=ruta_salida_terrenos_registro_1_control_cambios)\n",
    "print(f\"Se exporta la capa {NOMBRE_CAPA_SALIDA}\")"
   ]
  }
 ],
 "metadata": {
  "kernelspec": {
   "display_name": "Python 3",
   "language": "python",
   "name": "python3"
  },
  "language_info": {
   "codemirror_mode": {
    "name": "ipython",
    "version": 3
   },
   "file_extension": ".py",
   "mimetype": "text/x-python",
   "name": "python",
   "nbconvert_exporter": "python",
   "pygments_lexer": "ipython3",
   "version": "3.9.18"
  }
 },
 "nbformat": 4,
 "nbformat_minor": 2
}
