{
 "cells": [
  {
   "cell_type": "code",
   "execution_count": null,
   "metadata": {},
   "outputs": [],
   "source": [
    "import os\n",
    "import zipfile"
   ]
  },
  {
   "cell_type": "code",
   "execution_count": null,
   "metadata": {},
   "outputs": [],
   "source": [
    "RUTA_DIRECTORIO_COMPRESION = r\"C:\\Users\\rodian.saby\\OneDrive\\Documentos\\docsProyectos\\5.RAISS\\2024.0.RAISS_Lote_4\\6.Hitos\\zApoyo_A_Equipos\\zApoyoEquipoSIG\\1.Geo_Gestion_Cambios\"\n",
    "RUTA_DIRECTORIO_A_COMPRIMIR = r\"C:\\Users\\rodian.saby\\OneDrive\\Documentos\\docsProyectos\\5.RAISS\\2024.0.RAISS_Lote_4\\6.Hitos\\zApoyo_A_Equipos\\zApoyoEquipoSIG\\1.Geo_Gestion_Cambios\\zShps\"\n",
    "NOMBRE_ARCHIVO_ZIP = \"Progreso_Gestion_Cambios.zip\"\n",
    "\n",
    "\n",
    "directorio_archivo_compresion = os.path.join(RUTA_DIRECTORIO_COMPRESION, NOMBRE_ARCHIVO_ZIP)"
   ]
  },
  {
   "cell_type": "code",
   "execution_count": null,
   "metadata": {},
   "outputs": [],
   "source": [
    "with zipfile.ZipFile(directorio_archivo_compresion, 'w', zipfile.ZIP_DEFLATED) as zipf:\n",
    "    for root, _, files in os.walk(RUTA_DIRECTORIO_A_COMPRIMIR):\n",
    "        for file in files:\n",
    "            ruta_completa = os.path.join(root, file)\n",
    "            rel_path = os.path.relpath(ruta_completa, RUTA_DIRECTORIO_A_COMPRIMIR)\n",
    "            zipf.write(ruta_completa, rel_path)\n",
    "            print(f\"Se comprime exitosamente el directorio {file}\")"
   ]
  }
 ],
 "metadata": {
  "kernelspec": {
   "display_name": "Python 3",
   "language": "python",
   "name": "python3"
  },
  "language_info": {
   "codemirror_mode": {
    "name": "ipython",
    "version": 3
   },
   "file_extension": ".py",
   "mimetype": "text/x-python",
   "name": "python",
   "nbconvert_exporter": "python",
   "pygments_lexer": "ipython3",
   "version": "3.9.18"
  }
 },
 "nbformat": 4,
 "nbformat_minor": 2
}
