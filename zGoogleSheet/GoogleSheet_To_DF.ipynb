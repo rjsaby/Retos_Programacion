{
 "cells": [
  {
   "cell_type": "markdown",
   "metadata": {},
   "source": []
  },
  {
   "cell_type": "code",
   "execution_count": 1,
   "metadata": {},
   "outputs": [],
   "source": [
    "import pandas as pd\n",
    "from arcgis.features import GeoAccessor, GeoSeriesAccessor\n",
    "import os\n",
    "from datetime import datetime\n",
    "import arcpy\n",
    "\n",
    "arcpy.env.overwriteOutput = True"
   ]
  },
  {
   "cell_type": "code",
   "execution_count": 2,
   "metadata": {},
   "outputs": [],
   "source": [
    "sheet_name = 'CONTROL_DE_CAMBIOS'\n",
    "sheet_id = '1n_t9qtwLeIklH5UFoH9iDPiAa6uN4HZeR1-atsKTYeU'\n",
    "\n",
    "url = f\"https://docs.google.com/spreadsheets/d/{sheet_id}/gviz/tq?tqx=out:csv&sheet={sheet_name}\"\n",
    "\n",
    "control_cambios_esig_original = pd.read_csv(url)\n",
    "columnas_seleccion = ['terreno_codigo', \n",
    "    'Nombre', \n",
    "    'EDICION',\n",
    "    'POSIBLE SERVIDUMBRE', \n",
    "    'FECHA EDITOR',\n",
    "    'OBSERVACIONES EDITOR',\n",
    "    'REVISADO',\n",
    "    'FECHA REVISOR',\n",
    "    'OBSERVACIONES REVISOR',\n",
    "    'ESTADO DE EDICION']\n",
    "\n",
    "control_cambios_esig_filtro = control_cambios_esig_original[columnas_seleccion]"
   ]
  },
  {
   "cell_type": "code",
   "execution_count": 3,
   "metadata": {},
   "outputs": [],
   "source": [
    "control_cambios_esig_filtro.loc[control_cambios_esig_filtro['EDICION'] == 'REQUIERE VISITA DE CAMPO', 'EDICION'] = 'Requiere visita campo'\n",
    "control_cambios_esig_filtro.loc[control_cambios_esig_filtro['EDICION'] == 'SI, (EDICION GEOGRAFICA)', 'EDICION'] = 'Con edición geo'\n",
    "control_cambios_esig_filtro.loc[control_cambios_esig_filtro['EDICION'] == 'NO, (NO REQUIERE AJUSTE GEOGRAFICO)', 'EDICION'] = 'No requiere ajuste geo'"
   ]
  },
  {
   "cell_type": "code",
   "execution_count": 4,
   "metadata": {},
   "outputs": [],
   "source": [
    "ruta_filebd = r\"C:\\Users\\rodian.saby\\OneDrive\\Documentos\\docsProyectos\\5.RAISS\\2024.0.RAISS_Lote_4\\6.Hitos\\E1_Alistamiento_Diagnostico\\3_Disposicion\\1.BD_Consolidada\\BD_Consolidada_Lote4.gdb\"\n",
    "ruta_shp = r\"C:\\Users\\rodian.saby\\OneDrive\\Documentos\\docsProyectos\\5.RAISS\\2024.0.RAISS_Lote_4\\6.Hitos\\zApoyo_A_Equipos\\zApoyoEquipoSIG\\1.Geo_Gestion_Cambios\\zShps\"\n",
    "\n",
    "CAPA_TERRENOS_R = 'Analitica_UT_Consolidada\\R_TERRENO'\n",
    "CAPA_TERRENOS_U = 'Analitica_UT_Consolidada\\\\U_TERRENO'\n",
    "SHP = '_Gestion_Cambios_SIG.shp'\n",
    "\n",
    "fecha_actual = datetime.now()\n",
    "fecha_jpeg = str(fecha_actual.strftime(\"%Y-%m-%d\"))\n",
    "\n",
    "nombre_shp = str(fecha_jpeg) + SHP\n",
    "\n",
    "capa_terrenos_rurales = os.path.join(ruta_filebd, CAPA_TERRENOS_R)\n",
    "capa_terrenos_urbanos = os.path.join(ruta_filebd, CAPA_TERRENOS_U)\n",
    "\n",
    "# ** Terrenos Rurales\n",
    "df_terreno_rural = pd.DataFrame.spatial.from_featureclass(capa_terrenos_rurales)\n",
    "df_terreno_rural.head()\n",
    "# ** Terrenos Urbanos\n",
    "df_terreno_urbano = pd.DataFrame.spatial.from_featureclass(capa_terrenos_urbanos)\n",
    "\n",
    "# ** Selección de columnas\n",
    "columnas_selecciones = ['CODIGO',\n",
    "                        'CODIGO_ANTERIOR',\n",
    "                        'SHAPE']\n",
    "\n",
    "# ** DF Terrenos Rurales, Urbanos\n",
    "df_terreno_rural_reducido = df_terreno_rural[columnas_selecciones]\n",
    "df_terreno_urbano_reducido = df_terreno_urbano[columnas_selecciones]\n",
    "\n",
    "# ** Concatenación de dataframes\n",
    "df_terrenos = pd.concat([df_terreno_rural_reducido, df_terreno_urbano_reducido])"
   ]
  },
  {
   "cell_type": "code",
   "execution_count": 5,
   "metadata": {},
   "outputs": [],
   "source": [
    "\n",
    "# ** Terrenos Gestionados SIG Espacializados\n",
    "df_terrenos_gestion_sig = pd.merge(df_terrenos, control_cambios_esig_filtro, left_on='CODIGO', right_on='terreno_codigo', how='inner')"
   ]
  },
  {
   "cell_type": "code",
   "execution_count": 6,
   "metadata": {},
   "outputs": [
    {
     "name": "stdout",
     "output_type": "stream",
     "text": [
      "Se exporta la capa Analitica_UT_Consolidada\\TERRENOS_CON_CONTROL_DE_CAMBIOS_ESIG\n"
     ]
    }
   ],
   "source": [
    "NOMBRE_CAPA_SALIDA = f\"Analitica_UT_Consolidada\\\\{'terrenos_con_control_de_cambios_esig'.upper()}\"\n",
    "ruta_salida_terrenos_contro_cambios = os.path.join(ruta_filebd, NOMBRE_CAPA_SALIDA)\n",
    "\n",
    "df_terrenos_gestion_sig.spatial.to_featureclass(location=ruta_salida_terrenos_contro_cambios)\n",
    "print(f\"Se exporta la capa {NOMBRE_CAPA_SALIDA}\")"
   ]
  },
  {
   "cell_type": "code",
   "execution_count": 7,
   "metadata": {},
   "outputs": [
    {
     "name": "stdout",
     "output_type": "stream",
     "text": [
      "cannot add field: 'observaciones_revisor'\n",
      "Se exporta la capa 2024-04-30_Gestion_Cambios_SIG.shp\n"
     ]
    }
   ],
   "source": [
    "\n",
    "ruta_salida_shp = os.path.join(ruta_shp, nombre_shp)\n",
    "df_terrenos_gestion_sig.spatial.to_featureclass(location=ruta_salida_shp)\n",
    "print(f\"Se exporta la capa {nombre_shp}\")"
   ]
  }
 ],
 "metadata": {
  "kernelspec": {
   "display_name": "Python 3",
   "language": "python",
   "name": "python3"
  },
  "language_info": {
   "codemirror_mode": {
    "name": "ipython",
    "version": 3
   },
   "file_extension": ".py",
   "mimetype": "text/x-python",
   "name": "python",
   "nbconvert_exporter": "python",
   "pygments_lexer": "ipython3",
   "version": "3.9.18"
  }
 },
 "nbformat": 4,
 "nbformat_minor": 2
}
