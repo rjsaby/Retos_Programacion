{
 "cells": [
  {
   "cell_type": "code",
   "execution_count": 34,
   "metadata": {},
   "outputs": [],
   "source": [
    "import arcpy\n",
    "import os\n",
    "from datetime import datetime"
   ]
  },
  {
   "cell_type": "code",
   "execution_count": 35,
   "metadata": {},
   "outputs": [
    {
     "name": "stdout",
     "output_type": "stream",
     "text": [
      "Nombre Layout: Gestión Cambios - Equipo SIG\n",
      "Se almacena en variable el layout Gestión Cambios - Equipo SIG\n",
      "Se exporta JPEG 2024-04-30 Gestión Cambios - Equipo SIG\n"
     ]
    }
   ],
   "source": [
    "\n",
    "# ** Se define la ruta del proyecto de PRO (extensión .aprx)\n",
    "RUTA_PROYECTO_PRO = r\"C:\\docsProyectos\\5.RAISS\\2024.0.RAISS_Lote_4\\1.GIS\\1.2.PRO\\RAISS_Lote_4\\RAISS_Lote_4.aprx\"\n",
    "\n",
    "# ** Ruta de exportación del JPEG\n",
    "ruta_jpeg = r\"C:\\Users\\rodian.saby\\OneDrive\\Documentos\\docsProyectos\\5.RAISS\\2024.0.RAISS_Lote_4\\6.Hitos\\zApoyo_A_Equipos\\zApoyoEquipoSIG\\1.Geo_Gestion_Cambios\"\n",
    "\n",
    "NOMBRE = ' Gestión Cambios - Equipo SIG'\n",
    "\n",
    "fecha = datetime.now()\n",
    "fecha_jpeg = str(fecha.strftime(\"%Y-%m-%d\"))\n",
    "\n",
    "nombre_jpeg = str(fecha_jpeg) + NOMBRE\n",
    "\n",
    "# ** Se establece en el entorno de trabajo\n",
    "arcpy.env.workspace = RUTA_PROYECTO_PRO\n",
    "\n",
    "# ** Se accede por código al proyecto .aprx del proyecto, se crea un objeto de tipo proyecto\n",
    "aprx = arcpy.mp.ArcGISProject(RUTA_PROYECTO_PRO)\n",
    "\n",
    "# ** Se listan los Layouts generados en el proyecto\n",
    "for i in aprx.listLayouts():\n",
    "    print(f'Nombre Layout: {i.name}')\n",
    "    if i.name == \"Gestión Cambios - Equipo SIG\":\n",
    "        layout = i\n",
    "        print(f\"Se almacena en variable el layout {layout.name}\")\n",
    "\n",
    "ruta_salida_jpeg = os.path.join(ruta_jpeg, nombre_jpeg)\n",
    "\n",
    "# ** Parametrización de la resolución\n",
    "resolution = 300\n",
    "\n",
    "layout.exportToJPEG(ruta_salida_jpeg, resolution = resolution, jpeg_quality = 100)\n",
    "print(f\"Se exporta JPEG {nombre_jpeg}\")"
   ]
  }
 ],
 "metadata": {
  "kernelspec": {
   "display_name": "Python 3",
   "language": "python",
   "name": "python3"
  },
  "language_info": {
   "codemirror_mode": {
    "name": "ipython",
    "version": 3
   },
   "file_extension": ".py",
   "mimetype": "text/x-python",
   "name": "python",
   "nbconvert_exporter": "python",
   "pygments_lexer": "ipython3",
   "version": "3.9.18"
  }
 },
 "nbformat": 4,
 "nbformat_minor": 2
}
