{
 "cells": [
  {
   "cell_type": "code",
   "execution_count": 26,
   "metadata": {},
   "outputs": [],
   "source": [
    "import os\n",
    "import shutil\n",
    "from datetime import datetime"
   ]
  },
  {
   "cell_type": "code",
   "execution_count": 27,
   "metadata": {},
   "outputs": [
    {
     "name": "stdout",
     "output_type": "stream",
     "text": [
      "El proceso termina sin contratiempos\n"
     ]
    }
   ],
   "source": [
    "fecha = datetime.now()\n",
    "fecha_archivo = str(fecha.strftime(\"%Y-%m-%d\"))\n",
    "\n",
    "ruta_origen_archivo = r\"C:\\Users\\rodian.saby\\OneDrive\\Documentos\\docsProyectos\\5.RAISS\\2024.0.RAISS_Lote_4\\6.Hitos\\zApoyo_A_Equipos\\zApoyoEquipoSIG\\1.Geo_Gestion_Cambios\"\n",
    "ruta_destino_archivo = r\"G:\\Mi unidad\\Equipo_Consolidacion\\Hitos\\zApoyo_A_Equipos\\zApoyoEquipoSIG\\1.Geo_Gestion_Cambios\"\n",
    "\n",
    "try:\n",
    "    def copia_google_drive(a: str, b: str):\n",
    "\n",
    "        NOMBRE_ARCHIVO_ORIGEN = a\n",
    "        EXTENSION = b\n",
    "\n",
    "        if EXTENSION == 'zip':\n",
    "            \n",
    "            archivo_origen = NOMBRE_ARCHIVO_ORIGEN\n",
    "            archivo_destino = NOMBRE_ARCHIVO_ORIGEN\n",
    "\n",
    "            directorio_origen = os.path.join(ruta_origen_archivo, archivo_origen)\n",
    "            directorio_destino = os.path.join(ruta_destino_archivo, archivo_destino)            \n",
    "\n",
    "            shutil.copy(src = directorio_origen, dst = directorio_destino)\n",
    "        elif EXTENSION == 'jpg':\n",
    "\n",
    "            archivo_origen = str(fecha_archivo) + NOMBRE_ARCHIVO_ORIGEN\n",
    "            archivo_destino = str(fecha_archivo) + NOMBRE_ARCHIVO_ORIGEN\n",
    "\n",
    "            directorio_origen = os.path.join(ruta_origen_archivo, archivo_origen)\n",
    "            directorio_destino = os.path.join(ruta_destino_archivo, archivo_destino)\n",
    "\n",
    "            shutil.copy(src = directorio_origen, dst = directorio_destino)\n",
    "        else:\n",
    "            print(\"No existe correspondencia con la extensión de archivo\")\n",
    "except Exception as e:\n",
    "    # **Mensaje general de error\n",
    "    print(\"Se ha producido un error:\", e)\n",
    "finally:\n",
    "    print(\"El proceso termina sin contratiempos\")\n"
   ]
  },
  {
   "cell_type": "code",
   "execution_count": 28,
   "metadata": {},
   "outputs": [
    {
     "name": "stdout",
     "output_type": "stream",
     "text": [
      "Se ejecuta correctamente la función\n"
     ]
    }
   ],
   "source": [
    "archivo_jpeg = \" Gestión Cambios - Equipo SIG.jpg\"\n",
    "archivo_zip = \"Progreso_Gestion_Cambios.zip\"\n",
    "\n",
    "extension_jpg = \"jpg\"\n",
    "extension_zip = \"zip\"\n",
    "\n",
    "copia_google_drive(archivo_jpeg, extension_jpg)\n",
    "copia_google_drive(archivo_zip, extension_zip)\n",
    "print(\"Se ejecuta correctamente la función\")\n"
   ]
  }
 ],
 "metadata": {
  "kernelspec": {
   "display_name": "Python 3",
   "language": "python",
   "name": "python3"
  },
  "language_info": {
   "codemirror_mode": {
    "name": "ipython",
    "version": 3
   },
   "file_extension": ".py",
   "mimetype": "text/x-python",
   "name": "python",
   "nbconvert_exporter": "python",
   "pygments_lexer": "ipython3",
   "version": "3.9.18"
  }
 },
 "nbformat": 4,
 "nbformat_minor": 2
}
